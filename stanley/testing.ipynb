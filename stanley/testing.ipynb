{
 "cells": [
  {
   "cell_type": "markdown",
   "metadata": {},
   "source": [
    "# test 1"
   ]
  },
  {
   "cell_type": "code",
   "execution_count": 1,
   "metadata": {},
   "outputs": [],
   "source": [
    "import uproot\n",
    "import pandas as pd\n",
    "import numpy as np"
   ]
  },
  {
   "cell_type": "code",
   "execution_count": 2,
   "metadata": {},
   "outputs": [],
   "source": [
    "df = pd.read_pickle('input_df/input_rho_rho.pkl')"
   ]
  },
  {
   "cell_type": "code",
   "execution_count": 3,
   "metadata": {
    "scrolled": true
   },
   "outputs": [
    {
     "data": {
      "text/plain": [
       "Index(['pi_E_1_br', 'pi_px_1_br', 'pi_py_1_br', 'pi_pz_1_br', 'pi_E_2_br',\n",
       "       'pi_px_2_br', 'pi_py_2_br', 'pi_pz_2_br', 'pi0_E_1_br', 'pi0_px_1_br',\n",
       "       'pi0_py_1_br', 'pi0_pz_1_br', 'pi0_E_2_br', 'pi0_px_2_br',\n",
       "       'pi0_py_2_br', 'pi0_pz_2_br', 'rho_E_1_br', 'rho_px_1_br',\n",
       "       'rho_py_1_br', 'rho_pz_1_br', 'rho_E_2_br', 'rho_px_2_br',\n",
       "       'rho_py_2_br', 'rho_pz_2_br', 'aco_angle_1', 'y_1_1', 'y_1_2', 'w_a',\n",
       "       'w_b', 'm_1', 'm_2'],\n",
       "      dtype='object')"
      ]
     },
     "execution_count": 3,
     "metadata": {},
     "output_type": "execute_result"
    }
   ],
   "source": [
    "df.columns"
   ]
  },
  {
   "cell_type": "code",
   "execution_count": 8,
   "metadata": {},
   "outputs": [
    {
     "data": {
      "text/html": [
       "<div>\n",
       "<style scoped>\n",
       "    .dataframe tbody tr th:only-of-type {\n",
       "        vertical-align: middle;\n",
       "    }\n",
       "\n",
       "    .dataframe tbody tr th {\n",
       "        vertical-align: top;\n",
       "    }\n",
       "\n",
       "    .dataframe thead th {\n",
       "        text-align: right;\n",
       "    }\n",
       "</style>\n",
       "<table border=\"1\" class=\"dataframe\">\n",
       "  <thead>\n",
       "    <tr style=\"text-align: right;\">\n",
       "      <th></th>\n",
       "      <th>pi_E_1_br</th>\n",
       "      <th>pi_px_1_br</th>\n",
       "      <th>pi_py_1_br</th>\n",
       "      <th>pi_pz_1_br</th>\n",
       "      <th>pi_E_2_br</th>\n",
       "      <th>pi_px_2_br</th>\n",
       "      <th>pi_py_2_br</th>\n",
       "      <th>pi_pz_2_br</th>\n",
       "      <th>pi0_E_1_br</th>\n",
       "      <th>pi0_px_1_br</th>\n",
       "      <th>...</th>\n",
       "      <th>rho_px_2_br</th>\n",
       "      <th>rho_py_2_br</th>\n",
       "      <th>rho_pz_2_br</th>\n",
       "      <th>aco_angle_1</th>\n",
       "      <th>y_1_1</th>\n",
       "      <th>y_1_2</th>\n",
       "      <th>w_a</th>\n",
       "      <th>w_b</th>\n",
       "      <th>m_1</th>\n",
       "      <th>m_2</th>\n",
       "    </tr>\n",
       "    <tr>\n",
       "      <th>entry</th>\n",
       "      <th></th>\n",
       "      <th></th>\n",
       "      <th></th>\n",
       "      <th></th>\n",
       "      <th></th>\n",
       "      <th></th>\n",
       "      <th></th>\n",
       "      <th></th>\n",
       "      <th></th>\n",
       "      <th></th>\n",
       "      <th></th>\n",
       "      <th></th>\n",
       "      <th></th>\n",
       "      <th></th>\n",
       "      <th></th>\n",
       "      <th></th>\n",
       "      <th></th>\n",
       "      <th></th>\n",
       "      <th></th>\n",
       "      <th></th>\n",
       "      <th></th>\n",
       "    </tr>\n",
       "  </thead>\n",
       "  <tbody>\n",
       "    <tr>\n",
       "      <th>8</th>\n",
       "      <td>38.866249</td>\n",
       "      <td>0.429429</td>\n",
       "      <td>-0.133119</td>\n",
       "      <td>38.863398</td>\n",
       "      <td>40.456445</td>\n",
       "      <td>-0.509745</td>\n",
       "      <td>-0.094749</td>\n",
       "      <td>-40.452882</td>\n",
       "      <td>8.569687</td>\n",
       "      <td>-0.429429</td>\n",
       "      <td>...</td>\n",
       "      <td>2.442491e-14</td>\n",
       "      <td>5.329071e-14</td>\n",
       "      <td>-47.420221</td>\n",
       "      <td>2.657029</td>\n",
       "      <td>-0.637964</td>\n",
       "      <td>-0.708372</td>\n",
       "      <td>1.228852</td>\n",
       "      <td>0.950417</td>\n",
       "      <td>1.220952</td>\n",
       "      <td>1.512969</td>\n",
       "    </tr>\n",
       "    <tr>\n",
       "      <th>25</th>\n",
       "      <td>17.175150</td>\n",
       "      <td>0.213861</td>\n",
       "      <td>0.469040</td>\n",
       "      <td>17.166846</td>\n",
       "      <td>9.529103</td>\n",
       "      <td>0.210109</td>\n",
       "      <td>-0.089910</td>\n",
       "      <td>-9.525340</td>\n",
       "      <td>29.088943</td>\n",
       "      <td>-0.213861</td>\n",
       "      <td>...</td>\n",
       "      <td>5.329071e-15</td>\n",
       "      <td>-1.154632e-14</td>\n",
       "      <td>-46.250908</td>\n",
       "      <td>1.547246</td>\n",
       "      <td>0.254573</td>\n",
       "      <td>0.594557</td>\n",
       "      <td>0.124674</td>\n",
       "      <td>1.936855</td>\n",
       "      <td>1.104476</td>\n",
       "      <td>0.660891</td>\n",
       "    </tr>\n",
       "    <tr>\n",
       "      <th>27</th>\n",
       "      <td>8.526993</td>\n",
       "      <td>0.209425</td>\n",
       "      <td>0.197722</td>\n",
       "      <td>8.520985</td>\n",
       "      <td>10.630995</td>\n",
       "      <td>-0.242771</td>\n",
       "      <td>-0.036193</td>\n",
       "      <td>-10.627246</td>\n",
       "      <td>37.577339</td>\n",
       "      <td>-0.209425</td>\n",
       "      <td>...</td>\n",
       "      <td>2.131628e-14</td>\n",
       "      <td>7.105427e-15</td>\n",
       "      <td>-46.096978</td>\n",
       "      <td>3.750274</td>\n",
       "      <td>0.638590</td>\n",
       "      <td>0.529623</td>\n",
       "      <td>1.461517</td>\n",
       "      <td>0.400455</td>\n",
       "      <td>0.823420</td>\n",
       "      <td>0.669092</td>\n",
       "    </tr>\n",
       "    <tr>\n",
       "      <th>45</th>\n",
       "      <td>41.836730</td>\n",
       "      <td>-0.050458</td>\n",
       "      <td>-0.144726</td>\n",
       "      <td>41.836217</td>\n",
       "      <td>2.599469</td>\n",
       "      <td>0.099976</td>\n",
       "      <td>0.004286</td>\n",
       "      <td>-2.593793</td>\n",
       "      <td>11.395560</td>\n",
       "      <td>0.050458</td>\n",
       "      <td>...</td>\n",
       "      <td>4.352074e-14</td>\n",
       "      <td>-3.197442e-14</td>\n",
       "      <td>-53.229947</td>\n",
       "      <td>1.192612</td>\n",
       "      <td>-0.572846</td>\n",
       "      <td>0.899114</td>\n",
       "      <td>0.059870</td>\n",
       "      <td>0.061072</td>\n",
       "      <td>0.499415</td>\n",
       "      <td>0.796268</td>\n",
       "    </tr>\n",
       "    <tr>\n",
       "      <th>50</th>\n",
       "      <td>23.455746</td>\n",
       "      <td>0.115471</td>\n",
       "      <td>-0.337611</td>\n",
       "      <td>23.452617</td>\n",
       "      <td>25.232731</td>\n",
       "      <td>-0.068646</td>\n",
       "      <td>0.327903</td>\n",
       "      <td>-25.230121</td>\n",
       "      <td>21.066138</td>\n",
       "      <td>-0.115471</td>\n",
       "      <td>...</td>\n",
       "      <td>-1.143530e-14</td>\n",
       "      <td>-9.547918e-15</td>\n",
       "      <td>-44.515301</td>\n",
       "      <td>3.264792</td>\n",
       "      <td>-0.054617</td>\n",
       "      <td>-0.132105</td>\n",
       "      <td>0.654131</td>\n",
       "      <td>0.931771</td>\n",
       "      <td>0.765599</td>\n",
       "      <td>0.730365</td>\n",
       "    </tr>\n",
       "  </tbody>\n",
       "</table>\n",
       "<p>5 rows × 31 columns</p>\n",
       "</div>"
      ],
      "text/plain": [
       "       pi_E_1_br  pi_px_1_br  pi_py_1_br  pi_pz_1_br  pi_E_2_br  pi_px_2_br  \\\n",
       "entry                                                                         \n",
       "8      38.866249    0.429429   -0.133119   38.863398  40.456445   -0.509745   \n",
       "25     17.175150    0.213861    0.469040   17.166846   9.529103    0.210109   \n",
       "27      8.526993    0.209425    0.197722    8.520985  10.630995   -0.242771   \n",
       "45     41.836730   -0.050458   -0.144726   41.836217   2.599469    0.099976   \n",
       "50     23.455746    0.115471   -0.337611   23.452617  25.232731   -0.068646   \n",
       "\n",
       "       pi_py_2_br  pi_pz_2_br  pi0_E_1_br  pi0_px_1_br  ...   rho_px_2_br  \\\n",
       "entry                                                   ...                 \n",
       "8       -0.094749  -40.452882    8.569687    -0.429429  ...  2.442491e-14   \n",
       "25      -0.089910   -9.525340   29.088943    -0.213861  ...  5.329071e-15   \n",
       "27      -0.036193  -10.627246   37.577339    -0.209425  ...  2.131628e-14   \n",
       "45       0.004286   -2.593793   11.395560     0.050458  ...  4.352074e-14   \n",
       "50       0.327903  -25.230121   21.066138    -0.115471  ... -1.143530e-14   \n",
       "\n",
       "        rho_py_2_br  rho_pz_2_br  aco_angle_1     y_1_1     y_1_2       w_a  \\\n",
       "entry                                                                         \n",
       "8      5.329071e-14   -47.420221     2.657029 -0.637964 -0.708372  1.228852   \n",
       "25    -1.154632e-14   -46.250908     1.547246  0.254573  0.594557  0.124674   \n",
       "27     7.105427e-15   -46.096978     3.750274  0.638590  0.529623  1.461517   \n",
       "45    -3.197442e-14   -53.229947     1.192612 -0.572846  0.899114  0.059870   \n",
       "50    -9.547918e-15   -44.515301     3.264792 -0.054617 -0.132105  0.654131   \n",
       "\n",
       "            w_b       m_1       m_2  \n",
       "entry                                \n",
       "8      0.950417  1.220952  1.512969  \n",
       "25     1.936855  1.104476  0.660891  \n",
       "27     0.400455  0.823420  0.669092  \n",
       "45     0.061072  0.499415  0.796268  \n",
       "50     0.931771  0.765599  0.730365  \n",
       "\n",
       "[5 rows x 31 columns]"
      ]
     },
     "execution_count": 8,
     "metadata": {},
     "output_type": "execute_result"
    }
   ],
   "source": [
    "df.head()"
   ]
  },
  {
   "cell_type": "code",
   "execution_count": 9,
   "metadata": {
    "scrolled": true
   },
   "outputs": [
    {
     "name": "stdout",
     "output_type": "stream",
     "text": [
      "Wall time: 10 ms\n"
     ]
    },
    {
     "data": {
      "text/plain": [
       "array([[3.88662492e+01, 4.29429408e-01],\n",
       "       [1.71751504e+01, 2.13860954e-01],\n",
       "       [8.52699315e+00, 2.09425230e-01],\n",
       "       ...,\n",
       "       [4.80889579e+01, 1.09017298e-01],\n",
       "       [1.97226794e+00, 2.75777872e-02],\n",
       "       [1.50065016e+01, 3.16749176e-01]])"
      ]
     },
     "execution_count": 9,
     "metadata": {},
     "output_type": "execute_result"
    }
   ],
   "source": [
    "%%time\n",
    "np.c_[df.pi_E_1_br, df.pi_px_1_br]"
   ]
  },
  {
   "cell_type": "markdown",
   "metadata": {},
   "source": [
    "# test 2 - need to know exact 4 vector to do boosts properly"
   ]
  },
  {
   "cell_type": "code",
   "execution_count": 2,
   "metadata": {},
   "outputs": [],
   "source": [
    "import numpy as np\n",
    "from pylorentz import Momentum4"
   ]
  },
  {
   "cell_type": "code",
   "execution_count": 12,
   "metadata": {},
   "outputs": [],
   "source": [
    "def getP(mom4):\n",
    "    arr = np.array([mom4.p_x, mom4.p_y, mom4.p_z])\n",
    "    return arr/np.linalg.norm(arr)"
   ]
  },
  {
   "cell_type": "code",
   "execution_count": 36,
   "metadata": {},
   "outputs": [
    {
     "name": "stdout",
     "output_type": "stream",
     "text": [
      "angle: 1.2309594173407747\n"
     ]
    }
   ],
   "source": [
    "p_1 = Momentum4(1,100,100,100)\n",
    "p_2 = Momentum4(1,1,1,-1)\n",
    "angle = np.arccos(getP(p_1).dot(getP(p_2)))\n",
    "print(f'angle: {angle}')"
   ]
  },
  {
   "cell_type": "code",
   "execution_count": 37,
   "metadata": {},
   "outputs": [],
   "source": [
    "rest_frame = Momentum4(10,1,-1,1)\n",
    "boost = Momentum4(rest_frame[0], -rest_frame[1], -rest_frame[2], -rest_frame[3])\n",
    "p_1_boosted = p_1.boost_particle(boost)\n",
    "p_2_boosted = p_2.boost_particle(boost)"
   ]
  },
  {
   "cell_type": "code",
   "execution_count": 38,
   "metadata": {},
   "outputs": [
    {
     "name": "stdout",
     "output_type": "stream",
     "text": [
      "angle: 1.28273889442413\n"
     ]
    }
   ],
   "source": [
    "angle_boost = np.arccos(getP(p_1_boosted).dot(getP(p_2_boosted)))\n",
    "print(f'angle: {angle_boost}')"
   ]
  },
  {
   "cell_type": "code",
   "execution_count": 14,
   "metadata": {},
   "outputs": [
    {
     "data": {
      "text/plain": [
       "array([0.57735027, 0.57735027, 0.57735027])"
      ]
     },
     "execution_count": 14,
     "metadata": {},
     "output_type": "execute_result"
    }
   ],
   "source": [
    "getP(p_1)"
   ]
  },
  {
   "cell_type": "markdown",
   "metadata": {},
   "source": [
    "## test 3 - getting rotated gen neutrinos"
   ]
  },
  {
   "cell_type": "code",
   "execution_count": 7,
   "metadata": {},
   "outputs": [],
   "source": [
    "import uproot\n",
    "import pandas as pd\n",
    "import numpy as np\n",
    "from pylorentz import Momentum4\n",
    "m_tau = 1.776"
   ]
  },
  {
   "cell_type": "code",
   "execution_count": 7,
   "metadata": {},
   "outputs": [],
   "source": [
    "variables = [\n",
    "        \"wt_cp_sm\", \"wt_cp_ps\", \"wt_cp_mm\", \"rand\",\n",
    "        \"aco_angle_1\", \"aco_angle_5\", \"aco_angle_6\", \"aco_angle_7\",\n",
    "        \"mva_dm_1\", \"mva_dm_2\",\n",
    "        \"tau_decay_mode_1\", \"tau_decay_mode_2\",\n",
    "        \"ip_x_1\", \"ip_y_1\", \"ip_z_1\", \"ip_x_2\", \"ip_y_2\", \"ip_z_2\",  # ignore impact parameter for now\n",
    "        \"pi_E_1\", \"pi_px_1\", \"pi_py_1\", \"pi_pz_1\",\n",
    "        \"pi_E_2\", \"pi_px_2\", \"pi_py_2\", \"pi_pz_2\",\n",
    "        \"pi0_E_1\", \"pi0_px_1\", \"pi0_py_1\", \"pi0_pz_1\",\n",
    "        \"pi0_E_2\", \"pi0_px_2\", \"pi0_py_2\", \"pi0_pz_2\",\n",
    "        \"y_1_1\", \"y_1_2\",\n",
    "        'met', 'metx', 'mety',\n",
    "        'metcov00', 'metcov01', 'metcov10', 'metcov11',\n",
    "        #             'sv_x_1', 'sv_y_1', 'sv_z_1', 'sv_x_2', 'sv_y_2','sv_z_2'\n",
    "    ]\n",
    "variables += [\"gen_nu_p_1\", \"gen_nu_phi_1\", \"gen_nu_eta_1\", #leading neutrino, gen level\n",
    "            \"gen_nu_p_2\", \"gen_nu_phi_2\", \"gen_nu_eta_2\" #subleading neutrino, gen level\n",
    "             ]\n",
    "tree_tt = uproot.open(\"E:\\Documents\\Imperial\\MSci_Project\\MSci-Project-HiggsTauTau\\shared\\MVAFILE_AllHiggs_tt.root\")[\"ntuple\"]\n",
    "df = tree_tt.pandas.df(variables)"
   ]
  },
  {
   "cell_type": "code",
   "execution_count": 9,
   "metadata": {},
   "outputs": [
    {
     "data": {
      "text/plain": [
       "Index(['wt_cp_sm', 'wt_cp_ps', 'wt_cp_mm', 'rand', 'aco_angle_1',\n",
       "       'aco_angle_5', 'aco_angle_6', 'aco_angle_7', 'mva_dm_1', 'mva_dm_2',\n",
       "       'tau_decay_mode_1', 'tau_decay_mode_2', 'ip_x_1', 'ip_y_1', 'ip_z_1',\n",
       "       'ip_x_2', 'ip_y_2', 'ip_z_2', 'pi_E_1', 'pi_px_1', 'pi_py_1', 'pi_pz_1',\n",
       "       'pi_E_2', 'pi_px_2', 'pi_py_2', 'pi_pz_2', 'pi0_E_1', 'pi0_px_1',\n",
       "       'pi0_py_1', 'pi0_pz_1', 'pi0_E_2', 'pi0_px_2', 'pi0_py_2', 'pi0_pz_2',\n",
       "       'y_1_1', 'y_1_2', 'met', 'metx', 'mety', 'metcov00', 'metcov01',\n",
       "       'metcov10', 'metcov11', 'gen_nu_p_1', 'gen_nu_phi_1', 'gen_nu_eta_1',\n",
       "       'gen_nu_p_2', 'gen_nu_phi_2', 'gen_nu_eta_2'],\n",
       "      dtype='object')"
      ]
     },
     "execution_count": 9,
     "metadata": {},
     "output_type": "execute_result"
    }
   ],
   "source": [
    "df.columns"
   ]
  },
  {
   "cell_type": "code",
   "execution_count": 11,
   "metadata": {},
   "outputs": [
    {
     "name": "stdout",
     "output_type": "stream",
     "text": [
      "<class 'pandas.core.frame.DataFrame'>\n",
      "RangeIndex: 10103610 entries, 0 to 10103609\n",
      "Data columns (total 49 columns):\n",
      " #   Column            Dtype  \n",
      "---  ------            -----  \n",
      " 0   wt_cp_sm          float64\n",
      " 1   wt_cp_ps          float64\n",
      " 2   wt_cp_mm          float64\n",
      " 3   rand              float64\n",
      " 4   aco_angle_1       float64\n",
      " 5   aco_angle_5       float64\n",
      " 6   aco_angle_6       float64\n",
      " 7   aco_angle_7       float64\n",
      " 8   mva_dm_1          int32  \n",
      " 9   mva_dm_2          int32  \n",
      " 10  tau_decay_mode_1  int32  \n",
      " 11  tau_decay_mode_2  int32  \n",
      " 12  ip_x_1            float64\n",
      " 13  ip_y_1            float64\n",
      " 14  ip_z_1            float64\n",
      " 15  ip_x_2            float64\n",
      " 16  ip_y_2            float64\n",
      " 17  ip_z_2            float64\n",
      " 18  pi_E_1            float64\n",
      " 19  pi_px_1           float64\n",
      " 20  pi_py_1           float64\n",
      " 21  pi_pz_1           float64\n",
      " 22  pi_E_2            float64\n",
      " 23  pi_px_2           float64\n",
      " 24  pi_py_2           float64\n",
      " 25  pi_pz_2           float64\n",
      " 26  pi0_E_1           float64\n",
      " 27  pi0_px_1          float64\n",
      " 28  pi0_py_1          float64\n",
      " 29  pi0_pz_1          float64\n",
      " 30  pi0_E_2           float64\n",
      " 31  pi0_px_2          float64\n",
      " 32  pi0_py_2          float64\n",
      " 33  pi0_pz_2          float64\n",
      " 34  y_1_1             float64\n",
      " 35  y_1_2             float64\n",
      " 36  met               float64\n",
      " 37  metx              float64\n",
      " 38  mety              float64\n",
      " 39  metcov00          float32\n",
      " 40  metcov01          float32\n",
      " 41  metcov10          float32\n",
      " 42  metcov11          float32\n",
      " 43  gen_nu_p_1        float64\n",
      " 44  gen_nu_phi_1      float64\n",
      " 45  gen_nu_eta_1      float64\n",
      " 46  gen_nu_p_2        float64\n",
      " 47  gen_nu_phi_2      float64\n",
      " 48  gen_nu_eta_2      float64\n",
      "dtypes: float32(4), float64(41), int32(4)\n",
      "memory usage: 3.4 GB\n"
     ]
    }
   ],
   "source": [
    "df.info()"
   ]
  },
  {
   "cell_type": "code",
   "execution_count": 12,
   "metadata": {},
   "outputs": [],
   "source": [
    "df.to_pickle('../shared/misc/df_tt_rho_rho_withgen.pkl')"
   ]
  },
  {
   "cell_type": "code",
   "execution_count": 15,
   "metadata": {},
   "outputs": [
    {
     "name": "stderr",
     "output_type": "stream",
     "text": [
      "C:\\Users\\Stanley\\.conda\\envs\\msci\\lib\\site-packages\\pandas\\core\\series.py:726: RuntimeWarning: overflow encountered in exp\n",
      "  result = getattr(ufunc, method)(*inputs, **kwargs)\n"
     ]
    }
   ],
   "source": [
    "nu_1 = Momentum4.m_eta_phi_p(np.zeros(len(df[\"gen_nu_phi_1\"])), df[\"gen_nu_eta_1\"], df[\"gen_nu_phi_1\"], df[\"gen_nu_p_1\"])"
   ]
  },
  {
   "cell_type": "code",
   "execution_count": 27,
   "metadata": {},
   "outputs": [],
   "source": [
    "nu_1[3][nu_1[3] == 9999] = np.nan"
   ]
  },
  {
   "cell_type": "code",
   "execution_count": 17,
   "metadata": {},
   "outputs": [],
   "source": [
    "df = pd.read_pickle('../shared/df_tt_rho_rho.pkl')\n",
    "df = df[(df['mva_dm_1'] == 1) & (df['mva_dm_2'] == 1) & (df[\"tau_decay_mode_1\"] == 1) & (df[\"tau_decay_mode_2\"] == 1)]"
   ]
  },
  {
   "cell_type": "code",
   "execution_count": 18,
   "metadata": {
    "scrolled": true
   },
   "outputs": [
    {
     "data": {
      "text/plain": [
       "(998268, 40)"
      ]
     },
     "execution_count": 18,
     "metadata": {},
     "output_type": "execute_result"
    }
   ],
   "source": [
    "df.shape"
   ]
  },
  {
   "cell_type": "code",
   "execution_count": 13,
   "metadata": {},
   "outputs": [],
   "source": [
    "df = pd.read_pickle('../shared/misc/df_tt_rho_rho_withgen.pkl')\n",
    "df1 = df[(df['mva_dm_1'] == 1) & (df['mva_dm_2'] == 1) & (df[\"tau_decay_mode_1\"] == 1) & (df[\"tau_decay_mode_2\"] == 1)]"
   ]
  },
  {
   "cell_type": "code",
   "execution_count": 11,
   "metadata": {},
   "outputs": [],
   "source": [
    "df2 = pd.read_pickle('../stanley/df_saved/rho_rho/df_rho_rho.pkl')"
   ]
  },
  {
   "cell_type": "code",
   "execution_count": 14,
   "metadata": {},
   "outputs": [
    {
     "data": {
      "text/plain": [
       "(998268, 49)"
      ]
     },
     "execution_count": 14,
     "metadata": {},
     "output_type": "execute_result"
    }
   ],
   "source": [
    "df1.shape"
   ]
  },
  {
   "cell_type": "code",
   "execution_count": 12,
   "metadata": {},
   "outputs": [
    {
     "data": {
      "text/plain": [
       "(998268, 27)"
      ]
     },
     "execution_count": 12,
     "metadata": {},
     "output_type": "execute_result"
    }
   ],
   "source": [
    "df2.shape"
   ]
  },
  {
   "cell_type": "code",
   "execution_count": 15,
   "metadata": {
    "scrolled": true
   },
   "outputs": [],
   "source": [
    "df3 = pd.read_pickle('../shared/input_df_reco/input_rho_rho.pkl')"
   ]
  },
  {
   "cell_type": "code",
   "execution_count": 25,
   "metadata": {},
   "outputs": [
    {
     "data": {
      "text/plain": [
       "(998268, 31)"
      ]
     },
     "execution_count": 25,
     "metadata": {},
     "output_type": "execute_result"
    }
   ],
   "source": [
    "df3.shape"
   ]
  },
  {
   "cell_type": "code",
   "execution_count": 24,
   "metadata": {
    "scrolled": true
   },
   "outputs": [
    {
     "data": {
      "text/plain": [
       "Index(['pi_E_1_br', 'pi_px_1_br', 'pi_py_1_br', 'pi_pz_1_br', 'pi_E_2_br',\n",
       "       'pi_px_2_br', 'pi_py_2_br', 'pi_pz_2_br', 'pi0_E_1_br', 'pi0_px_1_br',\n",
       "       'pi0_py_1_br', 'pi0_pz_1_br', 'pi0_E_2_br', 'pi0_px_2_br',\n",
       "       'pi0_py_2_br', 'pi0_pz_2_br', 'rho_E_1_br', 'rho_px_1_br',\n",
       "       'rho_py_1_br', 'rho_pz_1_br', 'rho_E_2_br', 'rho_px_2_br',\n",
       "       'rho_py_2_br', 'rho_pz_2_br', 'aco_angle_1', 'y_1_1', 'y_1_2', 'w_a',\n",
       "       'w_b', 'm_1', 'm_2'],\n",
       "      dtype='object')"
      ]
     },
     "execution_count": 24,
     "metadata": {},
     "output_type": "execute_result"
    }
   ],
   "source": [
    "df3.columns"
   ]
  },
  {
   "cell_type": "code",
   "execution_count": 16,
   "metadata": {},
   "outputs": [],
   "source": [
    "df = pd.read_pickle('../shared/misc/df_br.pkl')"
   ]
  },
  {
   "cell_type": "code",
   "execution_count": 12,
   "metadata": {},
   "outputs": [
    {
     "data": {
      "text/plain": [
       "Index(['entry', 'pi_E_1_br', 'pi_px_1_br', 'pi_py_1_br', 'pi_pz_1_br',\n",
       "       'pi_E_2_br', 'pi_px_2_br', 'pi_py_2_br', 'pi_pz_2_br', 'pi0_E_1_br',\n",
       "       'pi0_px_1_br', 'pi0_py_1_br', 'pi0_pz_1_br', 'pi0_E_2_br',\n",
       "       'pi0_px_2_br', 'pi0_py_2_br', 'pi0_pz_2_br', 'rho_E_1_br',\n",
       "       'rho_px_1_br', 'rho_py_1_br', 'rho_pz_1_br', 'rho_E_2_br',\n",
       "       'rho_px_2_br', 'rho_py_2_br', 'rho_pz_2_br', 'aco_angle_1', 'y_1_1',\n",
       "       'y_1_2', 'w_a', 'w_b', 'm_1', 'm_2', 'y', 'alpha_1', 'alpha_2',\n",
       "       'E_nu_1', 'E_nu_2', 'p_t_nu_1', 'p_t_nu_2', 'p_z_nu_1', 'p_z_nu_2',\n",
       "       'flag'],\n",
       "      dtype='object')"
      ]
     },
     "execution_count": 12,
     "metadata": {},
     "output_type": "execute_result"
    }
   ],
   "source": [
    "df.columns"
   ]
  },
  {
   "cell_type": "code",
   "execution_count": 31,
   "metadata": {},
   "outputs": [],
   "source": [
    "df['flag'] = np.where( (df['p_t_nu_1']==-1) | (df['alpha_1']==-1) | (df['p_t_nu_2']==-1) | (df['alpha_2']==-1) | (df['E_nu_1']<0) | (df['E_nu_2']<0), 0, 1)"
   ]
  },
  {
   "cell_type": "code",
   "execution_count": 32,
   "metadata": {
    "scrolled": true
   },
   "outputs": [
    {
     "data": {
      "text/html": [
       "<div>\n",
       "<style scoped>\n",
       "    .dataframe tbody tr th:only-of-type {\n",
       "        vertical-align: middle;\n",
       "    }\n",
       "\n",
       "    .dataframe tbody tr th {\n",
       "        vertical-align: top;\n",
       "    }\n",
       "\n",
       "    .dataframe thead th {\n",
       "        text-align: right;\n",
       "    }\n",
       "</style>\n",
       "<table border=\"1\" class=\"dataframe\">\n",
       "  <thead>\n",
       "    <tr style=\"text-align: right;\">\n",
       "      <th></th>\n",
       "      <th>entry</th>\n",
       "      <th>pi_E_1_br</th>\n",
       "      <th>pi_px_1_br</th>\n",
       "      <th>pi_py_1_br</th>\n",
       "      <th>pi_pz_1_br</th>\n",
       "      <th>pi_E_2_br</th>\n",
       "      <th>pi_px_2_br</th>\n",
       "      <th>pi_py_2_br</th>\n",
       "      <th>pi_pz_2_br</th>\n",
       "      <th>pi0_E_1_br</th>\n",
       "      <th>...</th>\n",
       "      <th>y</th>\n",
       "      <th>alpha_1</th>\n",
       "      <th>alpha_2</th>\n",
       "      <th>E_nu_1</th>\n",
       "      <th>E_nu_2</th>\n",
       "      <th>p_t_nu_1</th>\n",
       "      <th>p_t_nu_2</th>\n",
       "      <th>p_z_nu_1</th>\n",
       "      <th>p_z_nu_2</th>\n",
       "      <th>flag</th>\n",
       "    </tr>\n",
       "  </thead>\n",
       "  <tbody>\n",
       "    <tr>\n",
       "      <th>0</th>\n",
       "      <td>27</td>\n",
       "      <td>-9.520570</td>\n",
       "      <td>-0.281322</td>\n",
       "      <td>0.061643</td>\n",
       "      <td>9.515190</td>\n",
       "      <td>-9.520570</td>\n",
       "      <td>0.281322</td>\n",
       "      <td>-0.061643</td>\n",
       "      <td>-9.515190</td>\n",
       "      <td>-41.965766</td>\n",
       "      <td>...</td>\n",
       "      <td>1.0</td>\n",
       "      <td>3.503546</td>\n",
       "      <td>0.809264</td>\n",
       "      <td>-180.362635</td>\n",
       "      <td>-33.418774</td>\n",
       "      <td>0.594328</td>\n",
       "      <td>1.071559</td>\n",
       "      <td>180.361656</td>\n",
       "      <td>-33.401590</td>\n",
       "      <td>0</td>\n",
       "    </tr>\n",
       "    <tr>\n",
       "      <th>1</th>\n",
       "      <td>74</td>\n",
       "      <td>-15.212249</td>\n",
       "      <td>-0.285148</td>\n",
       "      <td>0.007680</td>\n",
       "      <td>15.208934</td>\n",
       "      <td>-15.212249</td>\n",
       "      <td>0.285148</td>\n",
       "      <td>-0.007680</td>\n",
       "      <td>-15.208934</td>\n",
       "      <td>-56.900663</td>\n",
       "      <td>...</td>\n",
       "      <td>1.0</td>\n",
       "      <td>3.717141</td>\n",
       "      <td>1.987254</td>\n",
       "      <td>-268.040429</td>\n",
       "      <td>-68.124183</td>\n",
       "      <td>1.063017</td>\n",
       "      <td>0.966009</td>\n",
       "      <td>268.038321</td>\n",
       "      <td>-68.117334</td>\n",
       "      <td>0</td>\n",
       "    </tr>\n",
       "    <tr>\n",
       "      <th>2</th>\n",
       "      <td>138</td>\n",
       "      <td>-17.769221</td>\n",
       "      <td>0.134191</td>\n",
       "      <td>-0.341849</td>\n",
       "      <td>17.764878</td>\n",
       "      <td>-17.769221</td>\n",
       "      <td>-0.134191</td>\n",
       "      <td>0.341849</td>\n",
       "      <td>-17.764878</td>\n",
       "      <td>-34.984946</td>\n",
       "      <td>...</td>\n",
       "      <td>1.0</td>\n",
       "      <td>0.338910</td>\n",
       "      <td>0.740946</td>\n",
       "      <td>-17.897843</td>\n",
       "      <td>-40.656159</td>\n",
       "      <td>0.869873</td>\n",
       "      <td>-1.000000</td>\n",
       "      <td>17.876692</td>\n",
       "      <td>-40.678914</td>\n",
       "      <td>0</td>\n",
       "    </tr>\n",
       "    <tr>\n",
       "      <th>3</th>\n",
       "      <td>177</td>\n",
       "      <td>-23.653185</td>\n",
       "      <td>-0.363155</td>\n",
       "      <td>-0.007247</td>\n",
       "      <td>23.649985</td>\n",
       "      <td>-23.653185</td>\n",
       "      <td>0.363155</td>\n",
       "      <td>0.007247</td>\n",
       "      <td>-23.649985</td>\n",
       "      <td>-51.433946</td>\n",
       "      <td>...</td>\n",
       "      <td>1.0</td>\n",
       "      <td>-2.188768</td>\n",
       "      <td>0.330466</td>\n",
       "      <td>164.311542</td>\n",
       "      <td>-10.552404</td>\n",
       "      <td>-1.000000</td>\n",
       "      <td>0.904721</td>\n",
       "      <td>-164.338085</td>\n",
       "      <td>-10.513549</td>\n",
       "      <td>0</td>\n",
       "    </tr>\n",
       "    <tr>\n",
       "      <th>4</th>\n",
       "      <td>184</td>\n",
       "      <td>-32.404365</td>\n",
       "      <td>0.419282</td>\n",
       "      <td>0.107584</td>\n",
       "      <td>32.401174</td>\n",
       "      <td>-32.404365</td>\n",
       "      <td>-0.419282</td>\n",
       "      <td>-0.107584</td>\n",
       "      <td>-32.401174</td>\n",
       "      <td>-12.539431</td>\n",
       "      <td>...</td>\n",
       "      <td>1.0</td>\n",
       "      <td>-1.916185</td>\n",
       "      <td>0.355058</td>\n",
       "      <td>86.053289</td>\n",
       "      <td>-14.615731</td>\n",
       "      <td>-1.000000</td>\n",
       "      <td>0.969338</td>\n",
       "      <td>-86.098811</td>\n",
       "      <td>-14.583551</td>\n",
       "      <td>0</td>\n",
       "    </tr>\n",
       "  </tbody>\n",
       "</table>\n",
       "<p>5 rows × 42 columns</p>\n",
       "</div>"
      ],
      "text/plain": [
       "   entry  pi_E_1_br  pi_px_1_br  pi_py_1_br  pi_pz_1_br  pi_E_2_br  \\\n",
       "0     27  -9.520570   -0.281322    0.061643    9.515190  -9.520570   \n",
       "1     74 -15.212249   -0.285148    0.007680   15.208934 -15.212249   \n",
       "2    138 -17.769221    0.134191   -0.341849   17.764878 -17.769221   \n",
       "3    177 -23.653185   -0.363155   -0.007247   23.649985 -23.653185   \n",
       "4    184 -32.404365    0.419282    0.107584   32.401174 -32.404365   \n",
       "\n",
       "   pi_px_2_br  pi_py_2_br  pi_pz_2_br  pi0_E_1_br  ...    y   alpha_1  \\\n",
       "0    0.281322   -0.061643   -9.515190  -41.965766  ...  1.0  3.503546   \n",
       "1    0.285148   -0.007680  -15.208934  -56.900663  ...  1.0  3.717141   \n",
       "2   -0.134191    0.341849  -17.764878  -34.984946  ...  1.0  0.338910   \n",
       "3    0.363155    0.007247  -23.649985  -51.433946  ...  1.0 -2.188768   \n",
       "4   -0.419282   -0.107584  -32.401174  -12.539431  ...  1.0 -1.916185   \n",
       "\n",
       "    alpha_2      E_nu_1     E_nu_2  p_t_nu_1  p_t_nu_2    p_z_nu_1   p_z_nu_2  \\\n",
       "0  0.809264 -180.362635 -33.418774  0.594328  1.071559  180.361656 -33.401590   \n",
       "1  1.987254 -268.040429 -68.124183  1.063017  0.966009  268.038321 -68.117334   \n",
       "2  0.740946  -17.897843 -40.656159  0.869873 -1.000000   17.876692 -40.678914   \n",
       "3  0.330466  164.311542 -10.552404 -1.000000  0.904721 -164.338085 -10.513549   \n",
       "4  0.355058   86.053289 -14.615731 -1.000000  0.969338  -86.098811 -14.583551   \n",
       "\n",
       "   flag  \n",
       "0     0  \n",
       "1     0  \n",
       "2     0  \n",
       "3     0  \n",
       "4     0  \n",
       "\n",
       "[5 rows x 42 columns]"
      ]
     },
     "execution_count": 32,
     "metadata": {},
     "output_type": "execute_result"
    }
   ],
   "source": [
    "df.head()"
   ]
  },
  {
   "cell_type": "code",
   "execution_count": 34,
   "metadata": {},
   "outputs": [
    {
     "data": {
      "text/plain": [
       "0.02682503899753311"
      ]
     },
     "execution_count": 34,
     "metadata": {},
     "output_type": "execute_result"
    }
   ],
   "source": [
    "df['flag'].sum()/len(df['flag'])*100"
   ]
  },
  {
   "cell_type": "code",
   "execution_count": 20,
   "metadata": {},
   "outputs": [
    {
     "data": {
      "text/plain": [
       "194.85291640160656"
      ]
     },
     "execution_count": 20,
     "metadata": {},
     "output_type": "execute_result"
    }
   ],
   "source": [
    "p_z_nu_1 = df.alpha_1[0]*(df.pi_pz_1_br[0] + df.pi0_pz_1_br[0])\n",
    "i = 0\n",
    "E_nu_1 = (125.18**2 - (df.pi_E_1_br[i] + df.pi0_E_1_br[i])**2 + (df.pi_pz_1_br[i] + df.pi0_pz_1_br[i])** 2 + 2*p_z_nu_1*(df.pi_pz_1_br[i] + df.pi0_pz_1_br[i]))/(2*(df.pi_E_1_br[i] + df.pi0_E_1_br[i]))\n",
    "p_z_nu_1\n",
    "E_nu_1"
   ]
  },
  {
   "cell_type": "code",
   "execution_count": 21,
   "metadata": {},
   "outputs": [
    {
     "name": "stderr",
     "output_type": "stream",
     "text": [
      "<ipython-input-21-c4efc2a59d34>:1: RuntimeWarning: invalid value encountered in sqrt\n",
      "  p_t_nu_1 = np.sqrt(np.array(E_nu_1)**2 - np.array(p_z_nu_1)**2)\n"
     ]
    }
   ],
   "source": [
    "p_t_nu_1 = np.sqrt(np.array(E_nu_1)**2 - np.array(p_z_nu_1)**2)"
   ]
  },
  {
   "cell_type": "code",
   "execution_count": 22,
   "metadata": {
    "scrolled": false
   },
   "outputs": [
    {
     "data": {
      "text/plain": [
       "True"
      ]
     },
     "execution_count": 22,
     "metadata": {},
     "output_type": "execute_result"
    }
   ],
   "source": [
    "np.abs(E_nu_1) < np.abs(p_z_nu_1)"
   ]
  },
  {
   "cell_type": "code",
   "execution_count": 3,
   "metadata": {},
   "outputs": [],
   "source": [
    "alpha_1 = np.load('../shared/alpha_analysis/alpha_1_100_b.npy')"
   ]
  },
  {
   "cell_type": "code",
   "execution_count": 7,
   "metadata": {
    "scrolled": true
   },
   "outputs": [
    {
     "data": {
      "text/plain": [
       "45671"
      ]
     },
     "execution_count": 7,
     "metadata": {},
     "output_type": "execute_result"
    }
   ],
   "source": [
    "(alpha_1==-1).sum()"
   ]
  },
  {
   "cell_type": "markdown",
   "metadata": {},
   "source": [
    "### from previous runs"
   ]
  },
  {
   "cell_type": "code",
   "execution_count": 80,
   "metadata": {},
   "outputs": [],
   "source": [
    "alpha_1_old = np.load('./alpha_analysis/alpha_1_1000.npy')\n",
    "alpha_2_old = np.load('./alpha_analysis/alpha_2_1000.npy')"
   ]
  },
  {
   "cell_type": "code",
   "execution_count": 81,
   "metadata": {},
   "outputs": [
    {
     "data": {
      "text/plain": [
       "(998268,)"
      ]
     },
     "execution_count": 81,
     "metadata": {},
     "output_type": "execute_result"
    }
   ],
   "source": [
    "alpha_1_old.shape"
   ]
  },
  {
   "cell_type": "code",
   "execution_count": 82,
   "metadata": {},
   "outputs": [],
   "source": [
    "df = pd.read_pickle('..\\shared\\input_df_reco\\input_rho_rho.pkl')"
   ]
  },
  {
   "cell_type": "code",
   "execution_count": 83,
   "metadata": {
    "scrolled": true
   },
   "outputs": [
    {
     "data": {
      "text/html": [
       "<div>\n",
       "<style scoped>\n",
       "    .dataframe tbody tr th:only-of-type {\n",
       "        vertical-align: middle;\n",
       "    }\n",
       "\n",
       "    .dataframe tbody tr th {\n",
       "        vertical-align: top;\n",
       "    }\n",
       "\n",
       "    .dataframe thead th {\n",
       "        text-align: right;\n",
       "    }\n",
       "</style>\n",
       "<table border=\"1\" class=\"dataframe\">\n",
       "  <thead>\n",
       "    <tr style=\"text-align: right;\">\n",
       "      <th></th>\n",
       "      <th>pi_E_1_br</th>\n",
       "      <th>pi_px_1_br</th>\n",
       "      <th>pi_py_1_br</th>\n",
       "      <th>pi_pz_1_br</th>\n",
       "      <th>pi_E_2_br</th>\n",
       "      <th>pi_px_2_br</th>\n",
       "      <th>pi_py_2_br</th>\n",
       "      <th>pi_pz_2_br</th>\n",
       "      <th>pi0_E_1_br</th>\n",
       "      <th>pi0_px_1_br</th>\n",
       "      <th>...</th>\n",
       "      <th>rho_px_2_br</th>\n",
       "      <th>rho_py_2_br</th>\n",
       "      <th>rho_pz_2_br</th>\n",
       "      <th>aco_angle_1</th>\n",
       "      <th>y_1_1</th>\n",
       "      <th>y_1_2</th>\n",
       "      <th>w_a</th>\n",
       "      <th>w_b</th>\n",
       "      <th>m_1</th>\n",
       "      <th>m_2</th>\n",
       "    </tr>\n",
       "    <tr>\n",
       "      <th>entry</th>\n",
       "      <th></th>\n",
       "      <th></th>\n",
       "      <th></th>\n",
       "      <th></th>\n",
       "      <th></th>\n",
       "      <th></th>\n",
       "      <th></th>\n",
       "      <th></th>\n",
       "      <th></th>\n",
       "      <th></th>\n",
       "      <th></th>\n",
       "      <th></th>\n",
       "      <th></th>\n",
       "      <th></th>\n",
       "      <th></th>\n",
       "      <th></th>\n",
       "      <th></th>\n",
       "      <th></th>\n",
       "      <th></th>\n",
       "      <th></th>\n",
       "      <th></th>\n",
       "    </tr>\n",
       "  </thead>\n",
       "  <tbody>\n",
       "    <tr>\n",
       "      <th>8</th>\n",
       "      <td>38.866249</td>\n",
       "      <td>0.429429</td>\n",
       "      <td>-0.133119</td>\n",
       "      <td>38.863398</td>\n",
       "      <td>40.456445</td>\n",
       "      <td>-0.509745</td>\n",
       "      <td>-0.094749</td>\n",
       "      <td>-40.452882</td>\n",
       "      <td>8.569687</td>\n",
       "      <td>-0.429429</td>\n",
       "      <td>...</td>\n",
       "      <td>2.442491e-14</td>\n",
       "      <td>5.329071e-14</td>\n",
       "      <td>-47.420221</td>\n",
       "      <td>2.657029</td>\n",
       "      <td>-0.637964</td>\n",
       "      <td>-0.708372</td>\n",
       "      <td>1.228852</td>\n",
       "      <td>0.950417</td>\n",
       "      <td>1.220952</td>\n",
       "      <td>1.512969</td>\n",
       "    </tr>\n",
       "    <tr>\n",
       "      <th>25</th>\n",
       "      <td>17.175150</td>\n",
       "      <td>0.213861</td>\n",
       "      <td>0.469040</td>\n",
       "      <td>17.166846</td>\n",
       "      <td>9.529103</td>\n",
       "      <td>0.210109</td>\n",
       "      <td>-0.089910</td>\n",
       "      <td>-9.525340</td>\n",
       "      <td>29.088943</td>\n",
       "      <td>-0.213861</td>\n",
       "      <td>...</td>\n",
       "      <td>5.329071e-15</td>\n",
       "      <td>-1.154632e-14</td>\n",
       "      <td>-46.250908</td>\n",
       "      <td>1.547246</td>\n",
       "      <td>0.254573</td>\n",
       "      <td>0.594557</td>\n",
       "      <td>0.124674</td>\n",
       "      <td>1.936855</td>\n",
       "      <td>1.104476</td>\n",
       "      <td>0.660891</td>\n",
       "    </tr>\n",
       "    <tr>\n",
       "      <th>27</th>\n",
       "      <td>8.526993</td>\n",
       "      <td>0.209425</td>\n",
       "      <td>0.197722</td>\n",
       "      <td>8.520985</td>\n",
       "      <td>10.630995</td>\n",
       "      <td>-0.242771</td>\n",
       "      <td>-0.036193</td>\n",
       "      <td>-10.627246</td>\n",
       "      <td>37.577339</td>\n",
       "      <td>-0.209425</td>\n",
       "      <td>...</td>\n",
       "      <td>2.131628e-14</td>\n",
       "      <td>7.105427e-15</td>\n",
       "      <td>-46.096978</td>\n",
       "      <td>3.750274</td>\n",
       "      <td>0.638590</td>\n",
       "      <td>0.529623</td>\n",
       "      <td>1.461517</td>\n",
       "      <td>0.400455</td>\n",
       "      <td>0.823420</td>\n",
       "      <td>0.669092</td>\n",
       "    </tr>\n",
       "    <tr>\n",
       "      <th>45</th>\n",
       "      <td>41.836730</td>\n",
       "      <td>-0.050458</td>\n",
       "      <td>-0.144726</td>\n",
       "      <td>41.836217</td>\n",
       "      <td>2.599469</td>\n",
       "      <td>0.099976</td>\n",
       "      <td>0.004286</td>\n",
       "      <td>-2.593793</td>\n",
       "      <td>11.395560</td>\n",
       "      <td>0.050458</td>\n",
       "      <td>...</td>\n",
       "      <td>4.352074e-14</td>\n",
       "      <td>-3.197442e-14</td>\n",
       "      <td>-53.229947</td>\n",
       "      <td>1.192612</td>\n",
       "      <td>-0.572846</td>\n",
       "      <td>0.899114</td>\n",
       "      <td>0.059870</td>\n",
       "      <td>0.061072</td>\n",
       "      <td>0.499415</td>\n",
       "      <td>0.796268</td>\n",
       "    </tr>\n",
       "    <tr>\n",
       "      <th>50</th>\n",
       "      <td>23.455746</td>\n",
       "      <td>0.115471</td>\n",
       "      <td>-0.337611</td>\n",
       "      <td>23.452617</td>\n",
       "      <td>25.232731</td>\n",
       "      <td>-0.068646</td>\n",
       "      <td>0.327903</td>\n",
       "      <td>-25.230121</td>\n",
       "      <td>21.066138</td>\n",
       "      <td>-0.115471</td>\n",
       "      <td>...</td>\n",
       "      <td>-1.143530e-14</td>\n",
       "      <td>-9.547918e-15</td>\n",
       "      <td>-44.515301</td>\n",
       "      <td>3.264792</td>\n",
       "      <td>-0.054617</td>\n",
       "      <td>-0.132105</td>\n",
       "      <td>0.654131</td>\n",
       "      <td>0.931771</td>\n",
       "      <td>0.765599</td>\n",
       "      <td>0.730365</td>\n",
       "    </tr>\n",
       "  </tbody>\n",
       "</table>\n",
       "<p>5 rows × 31 columns</p>\n",
       "</div>"
      ],
      "text/plain": [
       "       pi_E_1_br  pi_px_1_br  pi_py_1_br  pi_pz_1_br  pi_E_2_br  pi_px_2_br  \\\n",
       "entry                                                                         \n",
       "8      38.866249    0.429429   -0.133119   38.863398  40.456445   -0.509745   \n",
       "25     17.175150    0.213861    0.469040   17.166846   9.529103    0.210109   \n",
       "27      8.526993    0.209425    0.197722    8.520985  10.630995   -0.242771   \n",
       "45     41.836730   -0.050458   -0.144726   41.836217   2.599469    0.099976   \n",
       "50     23.455746    0.115471   -0.337611   23.452617  25.232731   -0.068646   \n",
       "\n",
       "       pi_py_2_br  pi_pz_2_br  pi0_E_1_br  pi0_px_1_br  ...   rho_px_2_br  \\\n",
       "entry                                                   ...                 \n",
       "8       -0.094749  -40.452882    8.569687    -0.429429  ...  2.442491e-14   \n",
       "25      -0.089910   -9.525340   29.088943    -0.213861  ...  5.329071e-15   \n",
       "27      -0.036193  -10.627246   37.577339    -0.209425  ...  2.131628e-14   \n",
       "45       0.004286   -2.593793   11.395560     0.050458  ...  4.352074e-14   \n",
       "50       0.327903  -25.230121   21.066138    -0.115471  ... -1.143530e-14   \n",
       "\n",
       "        rho_py_2_br  rho_pz_2_br  aco_angle_1     y_1_1     y_1_2       w_a  \\\n",
       "entry                                                                         \n",
       "8      5.329071e-14   -47.420221     2.657029 -0.637964 -0.708372  1.228852   \n",
       "25    -1.154632e-14   -46.250908     1.547246  0.254573  0.594557  0.124674   \n",
       "27     7.105427e-15   -46.096978     3.750274  0.638590  0.529623  1.461517   \n",
       "45    -3.197442e-14   -53.229947     1.192612 -0.572846  0.899114  0.059870   \n",
       "50    -9.547918e-15   -44.515301     3.264792 -0.054617 -0.132105  0.654131   \n",
       "\n",
       "            w_b       m_1       m_2  \n",
       "entry                                \n",
       "8      0.950417  1.220952  1.512969  \n",
       "25     1.936855  1.104476  0.660891  \n",
       "27     0.400455  0.823420  0.669092  \n",
       "45     0.061072  0.499415  0.796268  \n",
       "50     0.931771  0.765599  0.730365  \n",
       "\n",
       "[5 rows x 31 columns]"
      ]
     },
     "execution_count": 83,
     "metadata": {},
     "output_type": "execute_result"
    }
   ],
   "source": [
    "df.head()"
   ]
  },
  {
   "cell_type": "code",
   "execution_count": 84,
   "metadata": {},
   "outputs": [
    {
     "name": "stderr",
     "output_type": "stream",
     "text": [
      "<ipython-input-84-299a0640d27c>:8: RuntimeWarning: invalid value encountered in sqrt\n",
      "  df['p_t_nu_1'] = np.sqrt(np.array(df.E_nu_1)**2 - np.array(df.p_z_nu_1)**2)\n",
      "<ipython-input-84-299a0640d27c>:9: RuntimeWarning: invalid value encountered in sqrt\n",
      "  df['p_t_nu_2'] = np.sqrt(np.array(df.E_nu_2)**2 - np.array(df.p_z_nu_2)**2)\n"
     ]
    }
   ],
   "source": [
    "\n",
    "df['alpha_1'] = alpha_1_old\n",
    "df['alpha_2'] = alpha_2_old\n",
    "df['p_z_nu_1'] = alpha_1_old*(df.pi_pz_1_br + df.pi0_pz_1_br)\n",
    "df['p_z_nu_2'] = alpha_2_old*(df.pi_pz_2_br + df.pi0_pz_2_br)\n",
    "df['E_nu_1'] = (m_tau**2 - (df.pi_E_1_br+df.pi0_E_1_br)**2 + (df.pi_pz_1_br + df.pi0_pz_1_br)** 2 + 2*df.p_z_nu_1*(df.pi_pz_1_br + df.pi0_pz_1_br))/(2*(df.pi_E_1_br+df.pi0_E_1_br))\n",
    "df['E_nu_2'] = (m_tau**2 - (df.pi_E_2_br+df.pi0_E_2_br)**2 + (df.pi_pz_2_br + df.pi0_pz_2_br)** 2 + 2*df.p_z_nu_2*(df.pi_pz_2_br + df.pi0_pz_2_br))/(2*(df.pi_E_2_br+df.pi0_E_2_br))\n",
    "df['p_t_nu_1'] = np.sqrt(np.array(df.E_nu_1)**2 - np.array(df.p_z_nu_1)**2)\n",
    "df['p_t_nu_2'] = np.sqrt(np.array(df.E_nu_2)**2 - np.array(df.p_z_nu_2)**2)\n",
    "# df_red = df[(df['alpha_1'] > 0) & (df['alpha_2'] > 0) & (\n",
    "#             df['E_nu_1'] > 0) & (df['E_nu_2'] > 0)].reset_index(drop=True)\n",
    "\n",
    "df_red = df[(df['alpha_1'] > 0) & (df['alpha_2'] > 0) & (\n",
    "            df['E_nu_1'] > 0) & (df['E_nu_2'] > 0) & (~np.isnan(df['p_t_nu_1'])) & (~np.isnan(df['p_t_nu_2']))].reset_index(drop=True)"
   ]
  },
  {
   "cell_type": "code",
   "execution_count": 85,
   "metadata": {},
   "outputs": [
    {
     "data": {
      "text/html": [
       "<div>\n",
       "<style scoped>\n",
       "    .dataframe tbody tr th:only-of-type {\n",
       "        vertical-align: middle;\n",
       "    }\n",
       "\n",
       "    .dataframe tbody tr th {\n",
       "        vertical-align: top;\n",
       "    }\n",
       "\n",
       "    .dataframe thead th {\n",
       "        text-align: right;\n",
       "    }\n",
       "</style>\n",
       "<table border=\"1\" class=\"dataframe\">\n",
       "  <thead>\n",
       "    <tr style=\"text-align: right;\">\n",
       "      <th></th>\n",
       "      <th>pi_E_1_br</th>\n",
       "      <th>pi_px_1_br</th>\n",
       "      <th>pi_py_1_br</th>\n",
       "      <th>pi_pz_1_br</th>\n",
       "      <th>pi_E_2_br</th>\n",
       "      <th>pi_px_2_br</th>\n",
       "      <th>pi_py_2_br</th>\n",
       "      <th>pi_pz_2_br</th>\n",
       "      <th>pi0_E_1_br</th>\n",
       "      <th>pi0_px_1_br</th>\n",
       "      <th>...</th>\n",
       "      <th>m_1</th>\n",
       "      <th>m_2</th>\n",
       "      <th>alpha_1</th>\n",
       "      <th>alpha_2</th>\n",
       "      <th>p_z_nu_1</th>\n",
       "      <th>p_z_nu_2</th>\n",
       "      <th>E_nu_1</th>\n",
       "      <th>E_nu_2</th>\n",
       "      <th>p_t_nu_1</th>\n",
       "      <th>p_t_nu_2</th>\n",
       "    </tr>\n",
       "    <tr>\n",
       "      <th>entry</th>\n",
       "      <th></th>\n",
       "      <th></th>\n",
       "      <th></th>\n",
       "      <th></th>\n",
       "      <th></th>\n",
       "      <th></th>\n",
       "      <th></th>\n",
       "      <th></th>\n",
       "      <th></th>\n",
       "      <th></th>\n",
       "      <th></th>\n",
       "      <th></th>\n",
       "      <th></th>\n",
       "      <th></th>\n",
       "      <th></th>\n",
       "      <th></th>\n",
       "      <th></th>\n",
       "      <th></th>\n",
       "      <th></th>\n",
       "      <th></th>\n",
       "      <th></th>\n",
       "    </tr>\n",
       "  </thead>\n",
       "  <tbody>\n",
       "    <tr>\n",
       "      <th>8</th>\n",
       "      <td>38.866249</td>\n",
       "      <td>0.429429</td>\n",
       "      <td>-0.133119</td>\n",
       "      <td>38.863398</td>\n",
       "      <td>40.456445</td>\n",
       "      <td>-0.509745</td>\n",
       "      <td>-0.094749</td>\n",
       "      <td>-40.452882</td>\n",
       "      <td>8.569687</td>\n",
       "      <td>-0.429429</td>\n",
       "      <td>...</td>\n",
       "      <td>1.220952</td>\n",
       "      <td>1.512969</td>\n",
       "      <td>-1.000000</td>\n",
       "      <td>-1.000000</td>\n",
       "      <td>-47.420221</td>\n",
       "      <td>47.420221</td>\n",
       "      <td>-47.386977</td>\n",
       "      <td>-47.386986</td>\n",
       "      <td>NaN</td>\n",
       "      <td>NaN</td>\n",
       "    </tr>\n",
       "    <tr>\n",
       "      <th>25</th>\n",
       "      <td>17.175150</td>\n",
       "      <td>0.213861</td>\n",
       "      <td>0.469040</td>\n",
       "      <td>17.166846</td>\n",
       "      <td>9.529103</td>\n",
       "      <td>0.210109</td>\n",
       "      <td>-0.089910</td>\n",
       "      <td>-9.525340</td>\n",
       "      <td>29.088943</td>\n",
       "      <td>-0.213861</td>\n",
       "      <td>...</td>\n",
       "      <td>1.104476</td>\n",
       "      <td>0.660891</td>\n",
       "      <td>1.405986</td>\n",
       "      <td>5.760983</td>\n",
       "      <td>65.028118</td>\n",
       "      <td>-266.450680</td>\n",
       "      <td>65.030490</td>\n",
       "      <td>266.452856</td>\n",
       "      <td>0.555376</td>\n",
       "      <td>1.076724</td>\n",
       "    </tr>\n",
       "    <tr>\n",
       "      <th>27</th>\n",
       "      <td>8.526993</td>\n",
       "      <td>0.209425</td>\n",
       "      <td>0.197722</td>\n",
       "      <td>8.520985</td>\n",
       "      <td>10.630995</td>\n",
       "      <td>-0.242771</td>\n",
       "      <td>-0.036193</td>\n",
       "      <td>-10.627246</td>\n",
       "      <td>37.577339</td>\n",
       "      <td>-0.209425</td>\n",
       "      <td>...</td>\n",
       "      <td>0.823420</td>\n",
       "      <td>0.669092</td>\n",
       "      <td>7.170637</td>\n",
       "      <td>2.127554</td>\n",
       "      <td>330.544686</td>\n",
       "      <td>-98.073792</td>\n",
       "      <td>330.518818</td>\n",
       "      <td>98.092816</td>\n",
       "      <td>NaN</td>\n",
       "      <td>1.931799</td>\n",
       "    </tr>\n",
       "    <tr>\n",
       "      <th>45</th>\n",
       "      <td>41.836730</td>\n",
       "      <td>-0.050458</td>\n",
       "      <td>-0.144726</td>\n",
       "      <td>41.836217</td>\n",
       "      <td>2.599469</td>\n",
       "      <td>0.099976</td>\n",
       "      <td>0.004286</td>\n",
       "      <td>-2.593793</td>\n",
       "      <td>11.395560</td>\n",
       "      <td>0.050458</td>\n",
       "      <td>...</td>\n",
       "      <td>0.499415</td>\n",
       "      <td>0.796268</td>\n",
       "      <td>0.825470</td>\n",
       "      <td>9.321733</td>\n",
       "      <td>43.939720</td>\n",
       "      <td>-496.195347</td>\n",
       "      <td>43.965070</td>\n",
       "      <td>496.163508</td>\n",
       "      <td>1.492779</td>\n",
       "      <td>NaN</td>\n",
       "    </tr>\n",
       "    <tr>\n",
       "      <th>50</th>\n",
       "      <td>23.455746</td>\n",
       "      <td>0.115471</td>\n",
       "      <td>-0.337611</td>\n",
       "      <td>23.452617</td>\n",
       "      <td>25.232731</td>\n",
       "      <td>-0.068646</td>\n",
       "      <td>0.327903</td>\n",
       "      <td>-25.230121</td>\n",
       "      <td>21.066138</td>\n",
       "      <td>-0.115471</td>\n",
       "      <td>...</td>\n",
       "      <td>0.765599</td>\n",
       "      <td>0.730365</td>\n",
       "      <td>2.691481</td>\n",
       "      <td>3.238841</td>\n",
       "      <td>119.812080</td>\n",
       "      <td>-144.177972</td>\n",
       "      <td>119.823204</td>\n",
       "      <td>144.188002</td>\n",
       "      <td>1.632730</td>\n",
       "      <td>1.700731</td>\n",
       "    </tr>\n",
       "  </tbody>\n",
       "</table>\n",
       "<p>5 rows × 39 columns</p>\n",
       "</div>"
      ],
      "text/plain": [
       "       pi_E_1_br  pi_px_1_br  pi_py_1_br  pi_pz_1_br  pi_E_2_br  pi_px_2_br  \\\n",
       "entry                                                                         \n",
       "8      38.866249    0.429429   -0.133119   38.863398  40.456445   -0.509745   \n",
       "25     17.175150    0.213861    0.469040   17.166846   9.529103    0.210109   \n",
       "27      8.526993    0.209425    0.197722    8.520985  10.630995   -0.242771   \n",
       "45     41.836730   -0.050458   -0.144726   41.836217   2.599469    0.099976   \n",
       "50     23.455746    0.115471   -0.337611   23.452617  25.232731   -0.068646   \n",
       "\n",
       "       pi_py_2_br  pi_pz_2_br  pi0_E_1_br  pi0_px_1_br  ...       m_1  \\\n",
       "entry                                                   ...             \n",
       "8       -0.094749  -40.452882    8.569687    -0.429429  ...  1.220952   \n",
       "25      -0.089910   -9.525340   29.088943    -0.213861  ...  1.104476   \n",
       "27      -0.036193  -10.627246   37.577339    -0.209425  ...  0.823420   \n",
       "45       0.004286   -2.593793   11.395560     0.050458  ...  0.499415   \n",
       "50       0.327903  -25.230121   21.066138    -0.115471  ...  0.765599   \n",
       "\n",
       "            m_2   alpha_1   alpha_2    p_z_nu_1    p_z_nu_2      E_nu_1  \\\n",
       "entry                                                                     \n",
       "8      1.512969 -1.000000 -1.000000  -47.420221   47.420221  -47.386977   \n",
       "25     0.660891  1.405986  5.760983   65.028118 -266.450680   65.030490   \n",
       "27     0.669092  7.170637  2.127554  330.544686  -98.073792  330.518818   \n",
       "45     0.796268  0.825470  9.321733   43.939720 -496.195347   43.965070   \n",
       "50     0.730365  2.691481  3.238841  119.812080 -144.177972  119.823204   \n",
       "\n",
       "           E_nu_2  p_t_nu_1  p_t_nu_2  \n",
       "entry                                  \n",
       "8      -47.386986       NaN       NaN  \n",
       "25     266.452856  0.555376  1.076724  \n",
       "27      98.092816       NaN  1.931799  \n",
       "45     496.163508  1.492779       NaN  \n",
       "50     144.188002  1.632730  1.700731  \n",
       "\n",
       "[5 rows x 39 columns]"
      ]
     },
     "execution_count": 85,
     "metadata": {},
     "output_type": "execute_result"
    }
   ],
   "source": [
    "df.head()"
   ]
  },
  {
   "cell_type": "code",
   "execution_count": 86,
   "metadata": {},
   "outputs": [
    {
     "name": "stdout",
     "output_type": "stream",
     "text": [
      "(998268, 39) (629235, 39)\n"
     ]
    }
   ],
   "source": [
    "print(df.shape, df_red.shape)"
   ]
  },
  {
   "cell_type": "markdown",
   "metadata": {},
   "source": [
    "### from old code on new file"
   ]
  },
  {
   "cell_type": "code",
   "execution_count": 35,
   "metadata": {},
   "outputs": [],
   "source": [
    "df_old = pd.read_pickle('../shared/misc/df_br_old.pkl')"
   ]
  },
  {
   "cell_type": "code",
   "execution_count": 78,
   "metadata": {},
   "outputs": [],
   "source": [
    "df_red = df_old[(df_old['alpha_1'] > 0) & (df_old['alpha_2'] > 0) & (\n",
    "            df_old['E_nu_1'] > 0) & (df_old['E_nu_2'] > 0) & (~np.isnan(df_old['p_t_nu_1'])) & (~np.isnan(df_old['p_t_nu_2']))].reset_index(drop=True)"
   ]
  },
  {
   "cell_type": "markdown",
   "metadata": {},
   "source": [
    "## testing current code with old code"
   ]
  },
  {
   "cell_type": "code",
   "execution_count": 12,
   "metadata": {},
   "outputs": [],
   "source": [
    "alpha_1 = np.load('../shared/alpha_analysis/alpha_1_1000.npy')\n",
    "alpha_2 = np.load('../shared/alpha_analysis/alpha_2_1000.npy')"
   ]
  },
  {
   "cell_type": "code",
   "execution_count": 13,
   "metadata": {},
   "outputs": [],
   "source": [
    "df = pd.read_pickle('../shared/input_df_reco/input_rho_rho.pkl')"
   ]
  },
  {
   "cell_type": "code",
   "execution_count": 14,
   "metadata": {},
   "outputs": [
    {
     "name": "stderr",
     "output_type": "stream",
     "text": [
      "<ipython-input-14-5c75a7885f98>:7: RuntimeWarning: invalid value encountered in sqrt\n",
      "  p_t_nu_1 = np.sqrt(np.array(E_nu_1)**2 - np.array(p_z_nu_1)**2)\n",
      "<ipython-input-14-5c75a7885f98>:8: RuntimeWarning: invalid value encountered in sqrt\n",
      "  p_t_nu_2 = np.sqrt(np.array(E_nu_2)**2 - np.array(p_z_nu_2)**2)\n"
     ]
    }
   ],
   "source": [
    "p_z_nu_1 = alpha_1*(df.pi_pz_1_br + df.pi0_pz_1_br)\n",
    "p_z_nu_2 = alpha_2*(df.pi_pz_2_br + df.pi0_pz_2_br)\n",
    "E_nu_1 = (m_tau**2 - (df.pi_E_1_br+df.pi0_E_1_br)**2 + (df.pi_pz_1_br + df.pi0_pz_1_br)\n",
    "          ** 2 + 2*p_z_nu_1*(df.pi_pz_1_br + df.pi0_pz_1_br))/(2*(df.pi_E_1_br+df.pi0_E_1_br))\n",
    "E_nu_2 = (m_tau**2 - (df.pi_E_2_br+df.pi0_E_2_br)**2 + (df.pi_pz_2_br + df.pi0_pz_2_br)\n",
    "          ** 2 + 2*p_z_nu_2*(df.pi_pz_2_br + df.pi0_pz_2_br))/(2*(df.pi_E_2_br+df.pi0_E_2_br))\n",
    "p_t_nu_1 = np.sqrt(np.array(E_nu_1)**2 - np.array(p_z_nu_1)**2)\n",
    "p_t_nu_2 = np.sqrt(np.array(E_nu_2)**2 - np.array(p_z_nu_2)**2)\n",
    "df['alpha_1'] = alpha_1\n",
    "df['alpha_2'] = alpha_2\n",
    "df['E_nu_1'] = E_nu_1\n",
    "df['E_nu_2'] = E_nu_2\n",
    "df['p_t_nu_1'] = p_t_nu_1\n",
    "df['p_t_nu_2'] = p_t_nu_2\n",
    "df['p_z_nu_1'] = p_z_nu_1\n",
    "df['p_z_nu_2'] = p_z_nu_2\n",
    "df_red = df[(df['alpha_1'] > 0) & (df['alpha_2'] > 0) & (\n",
    "            df['E_nu_1'] > 0) & (df['E_nu_2'] > 0) & (~np.isnan(df['p_t_nu_1'])) & (~np.isnan(df['p_t_nu_2']))].reset_index(drop=True)"
   ]
  },
  {
   "cell_type": "code",
   "execution_count": 15,
   "metadata": {
    "scrolled": true
   },
   "outputs": [
    {
     "data": {
      "text/html": [
       "<div>\n",
       "<style scoped>\n",
       "    .dataframe tbody tr th:only-of-type {\n",
       "        vertical-align: middle;\n",
       "    }\n",
       "\n",
       "    .dataframe tbody tr th {\n",
       "        vertical-align: top;\n",
       "    }\n",
       "\n",
       "    .dataframe thead th {\n",
       "        text-align: right;\n",
       "    }\n",
       "</style>\n",
       "<table border=\"1\" class=\"dataframe\">\n",
       "  <thead>\n",
       "    <tr style=\"text-align: right;\">\n",
       "      <th></th>\n",
       "      <th>pi_E_1_br</th>\n",
       "      <th>pi_px_1_br</th>\n",
       "      <th>pi_py_1_br</th>\n",
       "      <th>pi_pz_1_br</th>\n",
       "      <th>pi_E_2_br</th>\n",
       "      <th>pi_px_2_br</th>\n",
       "      <th>pi_py_2_br</th>\n",
       "      <th>pi_pz_2_br</th>\n",
       "      <th>pi0_E_1_br</th>\n",
       "      <th>pi0_px_1_br</th>\n",
       "      <th>...</th>\n",
       "      <th>m_1</th>\n",
       "      <th>m_2</th>\n",
       "      <th>alpha_1</th>\n",
       "      <th>alpha_2</th>\n",
       "      <th>E_nu_1</th>\n",
       "      <th>E_nu_2</th>\n",
       "      <th>p_t_nu_1</th>\n",
       "      <th>p_t_nu_2</th>\n",
       "      <th>p_z_nu_1</th>\n",
       "      <th>p_z_nu_2</th>\n",
       "    </tr>\n",
       "    <tr>\n",
       "      <th>entry</th>\n",
       "      <th></th>\n",
       "      <th></th>\n",
       "      <th></th>\n",
       "      <th></th>\n",
       "      <th></th>\n",
       "      <th></th>\n",
       "      <th></th>\n",
       "      <th></th>\n",
       "      <th></th>\n",
       "      <th></th>\n",
       "      <th></th>\n",
       "      <th></th>\n",
       "      <th></th>\n",
       "      <th></th>\n",
       "      <th></th>\n",
       "      <th></th>\n",
       "      <th></th>\n",
       "      <th></th>\n",
       "      <th></th>\n",
       "      <th></th>\n",
       "      <th></th>\n",
       "    </tr>\n",
       "  </thead>\n",
       "  <tbody>\n",
       "    <tr>\n",
       "      <th>8</th>\n",
       "      <td>38.866249</td>\n",
       "      <td>0.429429</td>\n",
       "      <td>-0.133119</td>\n",
       "      <td>38.863398</td>\n",
       "      <td>40.456445</td>\n",
       "      <td>-0.509745</td>\n",
       "      <td>-0.094749</td>\n",
       "      <td>-40.452882</td>\n",
       "      <td>8.569687</td>\n",
       "      <td>-0.429429</td>\n",
       "      <td>...</td>\n",
       "      <td>1.220952</td>\n",
       "      <td>1.512969</td>\n",
       "      <td>-1.000000</td>\n",
       "      <td>-1.000000</td>\n",
       "      <td>-47.386977</td>\n",
       "      <td>-47.386986</td>\n",
       "      <td>NaN</td>\n",
       "      <td>NaN</td>\n",
       "      <td>-47.420221</td>\n",
       "      <td>47.420221</td>\n",
       "    </tr>\n",
       "    <tr>\n",
       "      <th>25</th>\n",
       "      <td>17.175150</td>\n",
       "      <td>0.213861</td>\n",
       "      <td>0.469040</td>\n",
       "      <td>17.166846</td>\n",
       "      <td>9.529103</td>\n",
       "      <td>0.210109</td>\n",
       "      <td>-0.089910</td>\n",
       "      <td>-9.525340</td>\n",
       "      <td>29.088943</td>\n",
       "      <td>-0.213861</td>\n",
       "      <td>...</td>\n",
       "      <td>1.104476</td>\n",
       "      <td>0.660891</td>\n",
       "      <td>1.405986</td>\n",
       "      <td>5.760983</td>\n",
       "      <td>65.030490</td>\n",
       "      <td>266.452856</td>\n",
       "      <td>0.555376</td>\n",
       "      <td>1.076724</td>\n",
       "      <td>65.028118</td>\n",
       "      <td>-266.450680</td>\n",
       "    </tr>\n",
       "    <tr>\n",
       "      <th>27</th>\n",
       "      <td>8.526993</td>\n",
       "      <td>0.209425</td>\n",
       "      <td>0.197722</td>\n",
       "      <td>8.520985</td>\n",
       "      <td>10.630995</td>\n",
       "      <td>-0.242771</td>\n",
       "      <td>-0.036193</td>\n",
       "      <td>-10.627246</td>\n",
       "      <td>37.577339</td>\n",
       "      <td>-0.209425</td>\n",
       "      <td>...</td>\n",
       "      <td>0.823420</td>\n",
       "      <td>0.669092</td>\n",
       "      <td>2.929308</td>\n",
       "      <td>0.525376</td>\n",
       "      <td>135.037562</td>\n",
       "      <td>24.245046</td>\n",
       "      <td>1.198206</td>\n",
       "      <td>1.139712</td>\n",
       "      <td>135.032246</td>\n",
       "      <td>-24.218243</td>\n",
       "    </tr>\n",
       "    <tr>\n",
       "      <th>45</th>\n",
       "      <td>41.836730</td>\n",
       "      <td>-0.050458</td>\n",
       "      <td>-0.144726</td>\n",
       "      <td>41.836217</td>\n",
       "      <td>2.599469</td>\n",
       "      <td>0.099976</td>\n",
       "      <td>0.004286</td>\n",
       "      <td>-2.593793</td>\n",
       "      <td>11.395560</td>\n",
       "      <td>0.050458</td>\n",
       "      <td>...</td>\n",
       "      <td>0.499415</td>\n",
       "      <td>0.796268</td>\n",
       "      <td>0.497134</td>\n",
       "      <td>1.975634</td>\n",
       "      <td>26.488511</td>\n",
       "      <td>105.174797</td>\n",
       "      <td>1.176025</td>\n",
       "      <td>1.582437</td>\n",
       "      <td>26.462392</td>\n",
       "      <td>-105.162891</td>\n",
       "    </tr>\n",
       "    <tr>\n",
       "      <th>50</th>\n",
       "      <td>23.455746</td>\n",
       "      <td>0.115471</td>\n",
       "      <td>-0.337611</td>\n",
       "      <td>23.452617</td>\n",
       "      <td>25.232731</td>\n",
       "      <td>-0.068646</td>\n",
       "      <td>0.327903</td>\n",
       "      <td>-25.230121</td>\n",
       "      <td>21.066138</td>\n",
       "      <td>-0.115471</td>\n",
       "      <td>...</td>\n",
       "      <td>0.765599</td>\n",
       "      <td>0.730365</td>\n",
       "      <td>2.691481</td>\n",
       "      <td>3.238841</td>\n",
       "      <td>119.823204</td>\n",
       "      <td>144.188002</td>\n",
       "      <td>1.632730</td>\n",
       "      <td>1.700731</td>\n",
       "      <td>119.812080</td>\n",
       "      <td>-144.177972</td>\n",
       "    </tr>\n",
       "  </tbody>\n",
       "</table>\n",
       "<p>5 rows × 39 columns</p>\n",
       "</div>"
      ],
      "text/plain": [
       "       pi_E_1_br  pi_px_1_br  pi_py_1_br  pi_pz_1_br  pi_E_2_br  pi_px_2_br  \\\n",
       "entry                                                                         \n",
       "8      38.866249    0.429429   -0.133119   38.863398  40.456445   -0.509745   \n",
       "25     17.175150    0.213861    0.469040   17.166846   9.529103    0.210109   \n",
       "27      8.526993    0.209425    0.197722    8.520985  10.630995   -0.242771   \n",
       "45     41.836730   -0.050458   -0.144726   41.836217   2.599469    0.099976   \n",
       "50     23.455746    0.115471   -0.337611   23.452617  25.232731   -0.068646   \n",
       "\n",
       "       pi_py_2_br  pi_pz_2_br  pi0_E_1_br  pi0_px_1_br  ...       m_1  \\\n",
       "entry                                                   ...             \n",
       "8       -0.094749  -40.452882    8.569687    -0.429429  ...  1.220952   \n",
       "25      -0.089910   -9.525340   29.088943    -0.213861  ...  1.104476   \n",
       "27      -0.036193  -10.627246   37.577339    -0.209425  ...  0.823420   \n",
       "45       0.004286   -2.593793   11.395560     0.050458  ...  0.499415   \n",
       "50       0.327903  -25.230121   21.066138    -0.115471  ...  0.765599   \n",
       "\n",
       "            m_2   alpha_1   alpha_2      E_nu_1      E_nu_2  p_t_nu_1  \\\n",
       "entry                                                                   \n",
       "8      1.512969 -1.000000 -1.000000  -47.386977  -47.386986       NaN   \n",
       "25     0.660891  1.405986  5.760983   65.030490  266.452856  0.555376   \n",
       "27     0.669092  2.929308  0.525376  135.037562   24.245046  1.198206   \n",
       "45     0.796268  0.497134  1.975634   26.488511  105.174797  1.176025   \n",
       "50     0.730365  2.691481  3.238841  119.823204  144.188002  1.632730   \n",
       "\n",
       "       p_t_nu_2    p_z_nu_1    p_z_nu_2  \n",
       "entry                                    \n",
       "8           NaN  -47.420221   47.420221  \n",
       "25     1.076724   65.028118 -266.450680  \n",
       "27     1.139712  135.032246  -24.218243  \n",
       "45     1.582437   26.462392 -105.162891  \n",
       "50     1.700731  119.812080 -144.177972  \n",
       "\n",
       "[5 rows x 39 columns]"
      ]
     },
     "execution_count": 15,
     "metadata": {},
     "output_type": "execute_result"
    }
   ],
   "source": [
    "df.head()"
   ]
  },
  {
   "cell_type": "code",
   "execution_count": 16,
   "metadata": {},
   "outputs": [
    {
     "data": {
      "text/html": [
       "<div>\n",
       "<style scoped>\n",
       "    .dataframe tbody tr th:only-of-type {\n",
       "        vertical-align: middle;\n",
       "    }\n",
       "\n",
       "    .dataframe tbody tr th {\n",
       "        vertical-align: top;\n",
       "    }\n",
       "\n",
       "    .dataframe thead th {\n",
       "        text-align: right;\n",
       "    }\n",
       "</style>\n",
       "<table border=\"1\" class=\"dataframe\">\n",
       "  <thead>\n",
       "    <tr style=\"text-align: right;\">\n",
       "      <th></th>\n",
       "      <th>pi_E_1_br</th>\n",
       "      <th>pi_px_1_br</th>\n",
       "      <th>pi_py_1_br</th>\n",
       "      <th>pi_pz_1_br</th>\n",
       "      <th>pi_E_2_br</th>\n",
       "      <th>pi_px_2_br</th>\n",
       "      <th>pi_py_2_br</th>\n",
       "      <th>pi_pz_2_br</th>\n",
       "      <th>pi0_E_1_br</th>\n",
       "      <th>pi0_px_1_br</th>\n",
       "      <th>...</th>\n",
       "      <th>m_1</th>\n",
       "      <th>m_2</th>\n",
       "      <th>alpha_1</th>\n",
       "      <th>alpha_2</th>\n",
       "      <th>E_nu_1</th>\n",
       "      <th>E_nu_2</th>\n",
       "      <th>p_t_nu_1</th>\n",
       "      <th>p_t_nu_2</th>\n",
       "      <th>p_z_nu_1</th>\n",
       "      <th>p_z_nu_2</th>\n",
       "    </tr>\n",
       "  </thead>\n",
       "  <tbody>\n",
       "    <tr>\n",
       "      <th>0</th>\n",
       "      <td>17.175150</td>\n",
       "      <td>0.213861</td>\n",
       "      <td>0.469040</td>\n",
       "      <td>17.166846</td>\n",
       "      <td>9.529103</td>\n",
       "      <td>0.210109</td>\n",
       "      <td>-0.089910</td>\n",
       "      <td>-9.525340</td>\n",
       "      <td>29.088943</td>\n",
       "      <td>-0.213861</td>\n",
       "      <td>...</td>\n",
       "      <td>1.104476</td>\n",
       "      <td>0.660891</td>\n",
       "      <td>1.405986</td>\n",
       "      <td>5.760983</td>\n",
       "      <td>65.030490</td>\n",
       "      <td>266.452856</td>\n",
       "      <td>0.555376</td>\n",
       "      <td>1.076724</td>\n",
       "      <td>65.028118</td>\n",
       "      <td>-266.450680</td>\n",
       "    </tr>\n",
       "    <tr>\n",
       "      <th>1</th>\n",
       "      <td>8.526993</td>\n",
       "      <td>0.209425</td>\n",
       "      <td>0.197722</td>\n",
       "      <td>8.520985</td>\n",
       "      <td>10.630995</td>\n",
       "      <td>-0.242771</td>\n",
       "      <td>-0.036193</td>\n",
       "      <td>-10.627246</td>\n",
       "      <td>37.577339</td>\n",
       "      <td>-0.209425</td>\n",
       "      <td>...</td>\n",
       "      <td>0.823420</td>\n",
       "      <td>0.669092</td>\n",
       "      <td>2.929308</td>\n",
       "      <td>0.525376</td>\n",
       "      <td>135.037562</td>\n",
       "      <td>24.245046</td>\n",
       "      <td>1.198206</td>\n",
       "      <td>1.139712</td>\n",
       "      <td>135.032246</td>\n",
       "      <td>-24.218243</td>\n",
       "    </tr>\n",
       "    <tr>\n",
       "      <th>2</th>\n",
       "      <td>41.836730</td>\n",
       "      <td>-0.050458</td>\n",
       "      <td>-0.144726</td>\n",
       "      <td>41.836217</td>\n",
       "      <td>2.599469</td>\n",
       "      <td>0.099976</td>\n",
       "      <td>0.004286</td>\n",
       "      <td>-2.593793</td>\n",
       "      <td>11.395560</td>\n",
       "      <td>0.050458</td>\n",
       "      <td>...</td>\n",
       "      <td>0.499415</td>\n",
       "      <td>0.796268</td>\n",
       "      <td>0.497134</td>\n",
       "      <td>1.975634</td>\n",
       "      <td>26.488511</td>\n",
       "      <td>105.174797</td>\n",
       "      <td>1.176025</td>\n",
       "      <td>1.582437</td>\n",
       "      <td>26.462392</td>\n",
       "      <td>-105.162891</td>\n",
       "    </tr>\n",
       "    <tr>\n",
       "      <th>3</th>\n",
       "      <td>23.455746</td>\n",
       "      <td>0.115471</td>\n",
       "      <td>-0.337611</td>\n",
       "      <td>23.452617</td>\n",
       "      <td>25.232731</td>\n",
       "      <td>-0.068646</td>\n",
       "      <td>0.327903</td>\n",
       "      <td>-25.230121</td>\n",
       "      <td>21.066138</td>\n",
       "      <td>-0.115471</td>\n",
       "      <td>...</td>\n",
       "      <td>0.765599</td>\n",
       "      <td>0.730365</td>\n",
       "      <td>2.691481</td>\n",
       "      <td>3.238841</td>\n",
       "      <td>119.823204</td>\n",
       "      <td>144.188002</td>\n",
       "      <td>1.632730</td>\n",
       "      <td>1.700731</td>\n",
       "      <td>119.812080</td>\n",
       "      <td>-144.177972</td>\n",
       "    </tr>\n",
       "    <tr>\n",
       "      <th>4</th>\n",
       "      <td>5.760700</td>\n",
       "      <td>0.068916</td>\n",
       "      <td>0.228395</td>\n",
       "      <td>5.754067</td>\n",
       "      <td>21.168171</td>\n",
       "      <td>-0.077786</td>\n",
       "      <td>0.321893</td>\n",
       "      <td>-21.165121</td>\n",
       "      <td>36.728783</td>\n",
       "      <td>-0.068916</td>\n",
       "      <td>...</td>\n",
       "      <td>0.806553</td>\n",
       "      <td>0.716946</td>\n",
       "      <td>1.007152</td>\n",
       "      <td>0.049665</td>\n",
       "      <td>42.807425</td>\n",
       "      <td>2.140627</td>\n",
       "      <td>1.364509</td>\n",
       "      <td>0.361641</td>\n",
       "      <td>42.785672</td>\n",
       "      <td>-2.109857</td>\n",
       "    </tr>\n",
       "  </tbody>\n",
       "</table>\n",
       "<p>5 rows × 39 columns</p>\n",
       "</div>"
      ],
      "text/plain": [
       "   pi_E_1_br  pi_px_1_br  pi_py_1_br  pi_pz_1_br  pi_E_2_br  pi_px_2_br  \\\n",
       "0  17.175150    0.213861    0.469040   17.166846   9.529103    0.210109   \n",
       "1   8.526993    0.209425    0.197722    8.520985  10.630995   -0.242771   \n",
       "2  41.836730   -0.050458   -0.144726   41.836217   2.599469    0.099976   \n",
       "3  23.455746    0.115471   -0.337611   23.452617  25.232731   -0.068646   \n",
       "4   5.760700    0.068916    0.228395    5.754067  21.168171   -0.077786   \n",
       "\n",
       "   pi_py_2_br  pi_pz_2_br  pi0_E_1_br  pi0_px_1_br  ...       m_1       m_2  \\\n",
       "0   -0.089910   -9.525340   29.088943    -0.213861  ...  1.104476  0.660891   \n",
       "1   -0.036193  -10.627246   37.577339    -0.209425  ...  0.823420  0.669092   \n",
       "2    0.004286   -2.593793   11.395560     0.050458  ...  0.499415  0.796268   \n",
       "3    0.327903  -25.230121   21.066138    -0.115471  ...  0.765599  0.730365   \n",
       "4    0.321893  -21.165121   36.728783    -0.068916  ...  0.806553  0.716946   \n",
       "\n",
       "    alpha_1   alpha_2      E_nu_1      E_nu_2  p_t_nu_1  p_t_nu_2    p_z_nu_1  \\\n",
       "0  1.405986  5.760983   65.030490  266.452856  0.555376  1.076724   65.028118   \n",
       "1  2.929308  0.525376  135.037562   24.245046  1.198206  1.139712  135.032246   \n",
       "2  0.497134  1.975634   26.488511  105.174797  1.176025  1.582437   26.462392   \n",
       "3  2.691481  3.238841  119.823204  144.188002  1.632730  1.700731  119.812080   \n",
       "4  1.007152  0.049665   42.807425    2.140627  1.364509  0.361641   42.785672   \n",
       "\n",
       "     p_z_nu_2  \n",
       "0 -266.450680  \n",
       "1  -24.218243  \n",
       "2 -105.162891  \n",
       "3 -144.177972  \n",
       "4   -2.109857  \n",
       "\n",
       "[5 rows x 39 columns]"
      ]
     },
     "execution_count": 16,
     "metadata": {},
     "output_type": "execute_result"
    }
   ],
   "source": [
    "df_red.head()"
   ]
  },
  {
   "cell_type": "code",
   "execution_count": 17,
   "metadata": {},
   "outputs": [
    {
     "name": "stdout",
     "output_type": "stream",
     "text": [
      "(998268, 39) (862747, 39)\n"
     ]
    }
   ],
   "source": [
    "print(df.shape, df_red.shape)"
   ]
  },
  {
   "cell_type": "markdown",
   "metadata": {},
   "source": [
    "## test 4 - playing around with eqn 26"
   ]
  },
  {
   "cell_type": "code",
   "execution_count": 2,
   "metadata": {},
   "outputs": [],
   "source": [
    "import numpy as np"
   ]
  }
 ],
 "metadata": {
  "kernelspec": {
   "display_name": "Python 3",
   "language": "python",
   "name": "python3"
  },
  "language_info": {
   "codemirror_mode": {
    "name": "ipython",
    "version": 3
   },
   "file_extension": ".py",
   "mimetype": "text/x-python",
   "name": "python",
   "nbconvert_exporter": "python",
   "pygments_lexer": "ipython3",
   "version": "3.8.5"
  }
 },
 "nbformat": 4,
 "nbformat_minor": 4
}
