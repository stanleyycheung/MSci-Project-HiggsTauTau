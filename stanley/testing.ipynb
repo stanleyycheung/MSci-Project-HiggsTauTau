{
 "cells": [
  {
   "cell_type": "markdown",
   "metadata": {},
   "source": [
    "# test 1"
   ]
  },
  {
   "cell_type": "code",
   "execution_count": 1,
   "metadata": {},
   "outputs": [],
   "source": [
    "import uproot\n",
    "import pandas as pd\n",
    "import numpy as np"
   ]
  },
  {
   "cell_type": "code",
   "execution_count": 2,
   "metadata": {},
   "outputs": [],
   "source": [
    "df = pd.read_pickle('input_df/input_rho_rho.pkl')"
   ]
  },
  {
   "cell_type": "code",
   "execution_count": 3,
   "metadata": {
    "scrolled": true
   },
   "outputs": [
    {
     "data": {
      "text/plain": [
       "Index(['pi_E_1_br', 'pi_px_1_br', 'pi_py_1_br', 'pi_pz_1_br', 'pi_E_2_br',\n",
       "       'pi_px_2_br', 'pi_py_2_br', 'pi_pz_2_br', 'pi0_E_1_br', 'pi0_px_1_br',\n",
       "       'pi0_py_1_br', 'pi0_pz_1_br', 'pi0_E_2_br', 'pi0_px_2_br',\n",
       "       'pi0_py_2_br', 'pi0_pz_2_br', 'rho_E_1_br', 'rho_px_1_br',\n",
       "       'rho_py_1_br', 'rho_pz_1_br', 'rho_E_2_br', 'rho_px_2_br',\n",
       "       'rho_py_2_br', 'rho_pz_2_br', 'aco_angle_1', 'y_1_1', 'y_1_2', 'w_a',\n",
       "       'w_b', 'm_1', 'm_2'],\n",
       "      dtype='object')"
      ]
     },
     "execution_count": 3,
     "metadata": {},
     "output_type": "execute_result"
    }
   ],
   "source": [
    "df.columns"
   ]
  },
  {
   "cell_type": "code",
   "execution_count": 8,
   "metadata": {},
   "outputs": [
    {
     "data": {
      "text/html": [
       "<div>\n",
       "<style scoped>\n",
       "    .dataframe tbody tr th:only-of-type {\n",
       "        vertical-align: middle;\n",
       "    }\n",
       "\n",
       "    .dataframe tbody tr th {\n",
       "        vertical-align: top;\n",
       "    }\n",
       "\n",
       "    .dataframe thead th {\n",
       "        text-align: right;\n",
       "    }\n",
       "</style>\n",
       "<table border=\"1\" class=\"dataframe\">\n",
       "  <thead>\n",
       "    <tr style=\"text-align: right;\">\n",
       "      <th></th>\n",
       "      <th>pi_E_1_br</th>\n",
       "      <th>pi_px_1_br</th>\n",
       "      <th>pi_py_1_br</th>\n",
       "      <th>pi_pz_1_br</th>\n",
       "      <th>pi_E_2_br</th>\n",
       "      <th>pi_px_2_br</th>\n",
       "      <th>pi_py_2_br</th>\n",
       "      <th>pi_pz_2_br</th>\n",
       "      <th>pi0_E_1_br</th>\n",
       "      <th>pi0_px_1_br</th>\n",
       "      <th>...</th>\n",
       "      <th>rho_px_2_br</th>\n",
       "      <th>rho_py_2_br</th>\n",
       "      <th>rho_pz_2_br</th>\n",
       "      <th>aco_angle_1</th>\n",
       "      <th>y_1_1</th>\n",
       "      <th>y_1_2</th>\n",
       "      <th>w_a</th>\n",
       "      <th>w_b</th>\n",
       "      <th>m_1</th>\n",
       "      <th>m_2</th>\n",
       "    </tr>\n",
       "    <tr>\n",
       "      <th>entry</th>\n",
       "      <th></th>\n",
       "      <th></th>\n",
       "      <th></th>\n",
       "      <th></th>\n",
       "      <th></th>\n",
       "      <th></th>\n",
       "      <th></th>\n",
       "      <th></th>\n",
       "      <th></th>\n",
       "      <th></th>\n",
       "      <th></th>\n",
       "      <th></th>\n",
       "      <th></th>\n",
       "      <th></th>\n",
       "      <th></th>\n",
       "      <th></th>\n",
       "      <th></th>\n",
       "      <th></th>\n",
       "      <th></th>\n",
       "      <th></th>\n",
       "      <th></th>\n",
       "    </tr>\n",
       "  </thead>\n",
       "  <tbody>\n",
       "    <tr>\n",
       "      <th>8</th>\n",
       "      <td>38.866249</td>\n",
       "      <td>0.429429</td>\n",
       "      <td>-0.133119</td>\n",
       "      <td>38.863398</td>\n",
       "      <td>40.456445</td>\n",
       "      <td>-0.509745</td>\n",
       "      <td>-0.094749</td>\n",
       "      <td>-40.452882</td>\n",
       "      <td>8.569687</td>\n",
       "      <td>-0.429429</td>\n",
       "      <td>...</td>\n",
       "      <td>2.442491e-14</td>\n",
       "      <td>5.329071e-14</td>\n",
       "      <td>-47.420221</td>\n",
       "      <td>2.657029</td>\n",
       "      <td>-0.637964</td>\n",
       "      <td>-0.708372</td>\n",
       "      <td>1.228852</td>\n",
       "      <td>0.950417</td>\n",
       "      <td>1.220952</td>\n",
       "      <td>1.512969</td>\n",
       "    </tr>\n",
       "    <tr>\n",
       "      <th>25</th>\n",
       "      <td>17.175150</td>\n",
       "      <td>0.213861</td>\n",
       "      <td>0.469040</td>\n",
       "      <td>17.166846</td>\n",
       "      <td>9.529103</td>\n",
       "      <td>0.210109</td>\n",
       "      <td>-0.089910</td>\n",
       "      <td>-9.525340</td>\n",
       "      <td>29.088943</td>\n",
       "      <td>-0.213861</td>\n",
       "      <td>...</td>\n",
       "      <td>5.329071e-15</td>\n",
       "      <td>-1.154632e-14</td>\n",
       "      <td>-46.250908</td>\n",
       "      <td>1.547246</td>\n",
       "      <td>0.254573</td>\n",
       "      <td>0.594557</td>\n",
       "      <td>0.124674</td>\n",
       "      <td>1.936855</td>\n",
       "      <td>1.104476</td>\n",
       "      <td>0.660891</td>\n",
       "    </tr>\n",
       "    <tr>\n",
       "      <th>27</th>\n",
       "      <td>8.526993</td>\n",
       "      <td>0.209425</td>\n",
       "      <td>0.197722</td>\n",
       "      <td>8.520985</td>\n",
       "      <td>10.630995</td>\n",
       "      <td>-0.242771</td>\n",
       "      <td>-0.036193</td>\n",
       "      <td>-10.627246</td>\n",
       "      <td>37.577339</td>\n",
       "      <td>-0.209425</td>\n",
       "      <td>...</td>\n",
       "      <td>2.131628e-14</td>\n",
       "      <td>7.105427e-15</td>\n",
       "      <td>-46.096978</td>\n",
       "      <td>3.750274</td>\n",
       "      <td>0.638590</td>\n",
       "      <td>0.529623</td>\n",
       "      <td>1.461517</td>\n",
       "      <td>0.400455</td>\n",
       "      <td>0.823420</td>\n",
       "      <td>0.669092</td>\n",
       "    </tr>\n",
       "    <tr>\n",
       "      <th>45</th>\n",
       "      <td>41.836730</td>\n",
       "      <td>-0.050458</td>\n",
       "      <td>-0.144726</td>\n",
       "      <td>41.836217</td>\n",
       "      <td>2.599469</td>\n",
       "      <td>0.099976</td>\n",
       "      <td>0.004286</td>\n",
       "      <td>-2.593793</td>\n",
       "      <td>11.395560</td>\n",
       "      <td>0.050458</td>\n",
       "      <td>...</td>\n",
       "      <td>4.352074e-14</td>\n",
       "      <td>-3.197442e-14</td>\n",
       "      <td>-53.229947</td>\n",
       "      <td>1.192612</td>\n",
       "      <td>-0.572846</td>\n",
       "      <td>0.899114</td>\n",
       "      <td>0.059870</td>\n",
       "      <td>0.061072</td>\n",
       "      <td>0.499415</td>\n",
       "      <td>0.796268</td>\n",
       "    </tr>\n",
       "    <tr>\n",
       "      <th>50</th>\n",
       "      <td>23.455746</td>\n",
       "      <td>0.115471</td>\n",
       "      <td>-0.337611</td>\n",
       "      <td>23.452617</td>\n",
       "      <td>25.232731</td>\n",
       "      <td>-0.068646</td>\n",
       "      <td>0.327903</td>\n",
       "      <td>-25.230121</td>\n",
       "      <td>21.066138</td>\n",
       "      <td>-0.115471</td>\n",
       "      <td>...</td>\n",
       "      <td>-1.143530e-14</td>\n",
       "      <td>-9.547918e-15</td>\n",
       "      <td>-44.515301</td>\n",
       "      <td>3.264792</td>\n",
       "      <td>-0.054617</td>\n",
       "      <td>-0.132105</td>\n",
       "      <td>0.654131</td>\n",
       "      <td>0.931771</td>\n",
       "      <td>0.765599</td>\n",
       "      <td>0.730365</td>\n",
       "    </tr>\n",
       "  </tbody>\n",
       "</table>\n",
       "<p>5 rows × 31 columns</p>\n",
       "</div>"
      ],
      "text/plain": [
       "       pi_E_1_br  pi_px_1_br  pi_py_1_br  pi_pz_1_br  pi_E_2_br  pi_px_2_br  \\\n",
       "entry                                                                         \n",
       "8      38.866249    0.429429   -0.133119   38.863398  40.456445   -0.509745   \n",
       "25     17.175150    0.213861    0.469040   17.166846   9.529103    0.210109   \n",
       "27      8.526993    0.209425    0.197722    8.520985  10.630995   -0.242771   \n",
       "45     41.836730   -0.050458   -0.144726   41.836217   2.599469    0.099976   \n",
       "50     23.455746    0.115471   -0.337611   23.452617  25.232731   -0.068646   \n",
       "\n",
       "       pi_py_2_br  pi_pz_2_br  pi0_E_1_br  pi0_px_1_br  ...   rho_px_2_br  \\\n",
       "entry                                                   ...                 \n",
       "8       -0.094749  -40.452882    8.569687    -0.429429  ...  2.442491e-14   \n",
       "25      -0.089910   -9.525340   29.088943    -0.213861  ...  5.329071e-15   \n",
       "27      -0.036193  -10.627246   37.577339    -0.209425  ...  2.131628e-14   \n",
       "45       0.004286   -2.593793   11.395560     0.050458  ...  4.352074e-14   \n",
       "50       0.327903  -25.230121   21.066138    -0.115471  ... -1.143530e-14   \n",
       "\n",
       "        rho_py_2_br  rho_pz_2_br  aco_angle_1     y_1_1     y_1_2       w_a  \\\n",
       "entry                                                                         \n",
       "8      5.329071e-14   -47.420221     2.657029 -0.637964 -0.708372  1.228852   \n",
       "25    -1.154632e-14   -46.250908     1.547246  0.254573  0.594557  0.124674   \n",
       "27     7.105427e-15   -46.096978     3.750274  0.638590  0.529623  1.461517   \n",
       "45    -3.197442e-14   -53.229947     1.192612 -0.572846  0.899114  0.059870   \n",
       "50    -9.547918e-15   -44.515301     3.264792 -0.054617 -0.132105  0.654131   \n",
       "\n",
       "            w_b       m_1       m_2  \n",
       "entry                                \n",
       "8      0.950417  1.220952  1.512969  \n",
       "25     1.936855  1.104476  0.660891  \n",
       "27     0.400455  0.823420  0.669092  \n",
       "45     0.061072  0.499415  0.796268  \n",
       "50     0.931771  0.765599  0.730365  \n",
       "\n",
       "[5 rows x 31 columns]"
      ]
     },
     "execution_count": 8,
     "metadata": {},
     "output_type": "execute_result"
    }
   ],
   "source": [
    "df.head()"
   ]
  },
  {
   "cell_type": "code",
   "execution_count": 9,
   "metadata": {
    "scrolled": true
   },
   "outputs": [
    {
     "name": "stdout",
     "output_type": "stream",
     "text": [
      "Wall time: 10 ms\n"
     ]
    },
    {
     "data": {
      "text/plain": [
       "array([[3.88662492e+01, 4.29429408e-01],\n",
       "       [1.71751504e+01, 2.13860954e-01],\n",
       "       [8.52699315e+00, 2.09425230e-01],\n",
       "       ...,\n",
       "       [4.80889579e+01, 1.09017298e-01],\n",
       "       [1.97226794e+00, 2.75777872e-02],\n",
       "       [1.50065016e+01, 3.16749176e-01]])"
      ]
     },
     "execution_count": 9,
     "metadata": {},
     "output_type": "execute_result"
    }
   ],
   "source": [
    "%%time\n",
    "np.c_[df.pi_E_1_br, df.pi_px_1_br]"
   ]
  },
  {
   "cell_type": "markdown",
   "metadata": {},
   "source": [
    "# test 2 - need to know exact 4 vector to do boosts properly"
   ]
  },
  {
   "cell_type": "code",
   "execution_count": 2,
   "metadata": {},
   "outputs": [],
   "source": [
    "import numpy as np\n",
    "from pylorentz import Momentum4"
   ]
  },
  {
   "cell_type": "code",
   "execution_count": 12,
   "metadata": {},
   "outputs": [],
   "source": [
    "def getP(mom4):\n",
    "    arr = np.array([mom4.p_x, mom4.p_y, mom4.p_z])\n",
    "    return arr/np.linalg.norm(arr)"
   ]
  },
  {
   "cell_type": "code",
   "execution_count": 36,
   "metadata": {},
   "outputs": [
    {
     "name": "stdout",
     "output_type": "stream",
     "text": [
      "angle: 1.2309594173407747\n"
     ]
    }
   ],
   "source": [
    "p_1 = Momentum4(1,100,100,100)\n",
    "p_2 = Momentum4(1,1,1,-1)\n",
    "angle = np.arccos(getP(p_1).dot(getP(p_2)))\n",
    "print(f'angle: {angle}')"
   ]
  },
  {
   "cell_type": "code",
   "execution_count": 37,
   "metadata": {},
   "outputs": [],
   "source": [
    "rest_frame = Momentum4(10,1,-1,1)\n",
    "boost = Momentum4(rest_frame[0], -rest_frame[1], -rest_frame[2], -rest_frame[3])\n",
    "p_1_boosted = p_1.boost_particle(boost)\n",
    "p_2_boosted = p_2.boost_particle(boost)"
   ]
  },
  {
   "cell_type": "code",
   "execution_count": 38,
   "metadata": {},
   "outputs": [
    {
     "name": "stdout",
     "output_type": "stream",
     "text": [
      "angle: 1.28273889442413\n"
     ]
    }
   ],
   "source": [
    "angle_boost = np.arccos(getP(p_1_boosted).dot(getP(p_2_boosted)))\n",
    "print(f'angle: {angle_boost}')"
   ]
  },
  {
   "cell_type": "code",
   "execution_count": 14,
   "metadata": {},
   "outputs": [
    {
     "data": {
      "text/plain": [
       "array([0.57735027, 0.57735027, 0.57735027])"
      ]
     },
     "execution_count": 14,
     "metadata": {},
     "output_type": "execute_result"
    }
   ],
   "source": [
    "getP(p_1)"
   ]
  },
  {
   "cell_type": "markdown",
   "metadata": {},
   "source": [
    "## test 3 - getting rotated gen neutrinos"
   ]
  },
  {
   "cell_type": "code",
   "execution_count": 7,
   "metadata": {},
   "outputs": [],
   "source": [
    "import uproot\n",
    "import pandas as pd\n",
    "import numpy as np\n",
    "from pylorentz import Momentum4\n",
    "m_tau = 1.776"
   ]
  },
  {
   "cell_type": "code",
   "execution_count": 7,
   "metadata": {},
   "outputs": [],
   "source": [
    "variables = [\n",
    "        \"wt_cp_sm\", \"wt_cp_ps\", \"wt_cp_mm\", \"rand\",\n",
    "        \"aco_angle_1\", \"aco_angle_5\", \"aco_angle_6\", \"aco_angle_7\",\n",
    "        \"mva_dm_1\", \"mva_dm_2\",\n",
    "        \"tau_decay_mode_1\", \"tau_decay_mode_2\",\n",
    "        \"ip_x_1\", \"ip_y_1\", \"ip_z_1\", \"ip_x_2\", \"ip_y_2\", \"ip_z_2\",  # ignore impact parameter for now\n",
    "        \"pi_E_1\", \"pi_px_1\", \"pi_py_1\", \"pi_pz_1\",\n",
    "        \"pi_E_2\", \"pi_px_2\", \"pi_py_2\", \"pi_pz_2\",\n",
    "        \"pi0_E_1\", \"pi0_px_1\", \"pi0_py_1\", \"pi0_pz_1\",\n",
    "        \"pi0_E_2\", \"pi0_px_2\", \"pi0_py_2\", \"pi0_pz_2\",\n",
    "        \"y_1_1\", \"y_1_2\",\n",
    "        'met', 'metx', 'mety',\n",
    "        'metcov00', 'metcov01', 'metcov10', 'metcov11',\n",
    "        #             'sv_x_1', 'sv_y_1', 'sv_z_1', 'sv_x_2', 'sv_y_2','sv_z_2'\n",
    "    ]\n",
    "variables += [\"gen_nu_p_1\", \"gen_nu_phi_1\", \"gen_nu_eta_1\", #leading neutrino, gen level\n",
    "            \"gen_nu_p_2\", \"gen_nu_phi_2\", \"gen_nu_eta_2\" #subleading neutrino, gen level\n",
    "             ]\n",
    "tree_tt = uproot.open(\"E:\\Documents\\Imperial\\MSci_Project\\MSci-Project-HiggsTauTau\\shared\\MVAFILE_AllHiggs_tt.root\")[\"ntuple\"]\n",
    "df = tree_tt.pandas.df(variables)"
   ]
  },
  {
   "cell_type": "code",
   "execution_count": 9,
   "metadata": {},
   "outputs": [
    {
     "data": {
      "text/plain": [
       "Index(['wt_cp_sm', 'wt_cp_ps', 'wt_cp_mm', 'rand', 'aco_angle_1',\n",
       "       'aco_angle_5', 'aco_angle_6', 'aco_angle_7', 'mva_dm_1', 'mva_dm_2',\n",
       "       'tau_decay_mode_1', 'tau_decay_mode_2', 'ip_x_1', 'ip_y_1', 'ip_z_1',\n",
       "       'ip_x_2', 'ip_y_2', 'ip_z_2', 'pi_E_1', 'pi_px_1', 'pi_py_1', 'pi_pz_1',\n",
       "       'pi_E_2', 'pi_px_2', 'pi_py_2', 'pi_pz_2', 'pi0_E_1', 'pi0_px_1',\n",
       "       'pi0_py_1', 'pi0_pz_1', 'pi0_E_2', 'pi0_px_2', 'pi0_py_2', 'pi0_pz_2',\n",
       "       'y_1_1', 'y_1_2', 'met', 'metx', 'mety', 'metcov00', 'metcov01',\n",
       "       'metcov10', 'metcov11', 'gen_nu_p_1', 'gen_nu_phi_1', 'gen_nu_eta_1',\n",
       "       'gen_nu_p_2', 'gen_nu_phi_2', 'gen_nu_eta_2'],\n",
       "      dtype='object')"
      ]
     },
     "execution_count": 9,
     "metadata": {},
     "output_type": "execute_result"
    }
   ],
   "source": [
    "df.columns"
   ]
  },
  {
   "cell_type": "code",
   "execution_count": 11,
   "metadata": {},
   "outputs": [
    {
     "name": "stdout",
     "output_type": "stream",
     "text": [
      "<class 'pandas.core.frame.DataFrame'>\n",
      "RangeIndex: 10103610 entries, 0 to 10103609\n",
      "Data columns (total 49 columns):\n",
      " #   Column            Dtype  \n",
      "---  ------            -----  \n",
      " 0   wt_cp_sm          float64\n",
      " 1   wt_cp_ps          float64\n",
      " 2   wt_cp_mm          float64\n",
      " 3   rand              float64\n",
      " 4   aco_angle_1       float64\n",
      " 5   aco_angle_5       float64\n",
      " 6   aco_angle_6       float64\n",
      " 7   aco_angle_7       float64\n",
      " 8   mva_dm_1          int32  \n",
      " 9   mva_dm_2          int32  \n",
      " 10  tau_decay_mode_1  int32  \n",
      " 11  tau_decay_mode_2  int32  \n",
      " 12  ip_x_1            float64\n",
      " 13  ip_y_1            float64\n",
      " 14  ip_z_1            float64\n",
      " 15  ip_x_2            float64\n",
      " 16  ip_y_2            float64\n",
      " 17  ip_z_2            float64\n",
      " 18  pi_E_1            float64\n",
      " 19  pi_px_1           float64\n",
      " 20  pi_py_1           float64\n",
      " 21  pi_pz_1           float64\n",
      " 22  pi_E_2            float64\n",
      " 23  pi_px_2           float64\n",
      " 24  pi_py_2           float64\n",
      " 25  pi_pz_2           float64\n",
      " 26  pi0_E_1           float64\n",
      " 27  pi0_px_1          float64\n",
      " 28  pi0_py_1          float64\n",
      " 29  pi0_pz_1          float64\n",
      " 30  pi0_E_2           float64\n",
      " 31  pi0_px_2          float64\n",
      " 32  pi0_py_2          float64\n",
      " 33  pi0_pz_2          float64\n",
      " 34  y_1_1             float64\n",
      " 35  y_1_2             float64\n",
      " 36  met               float64\n",
      " 37  metx              float64\n",
      " 38  mety              float64\n",
      " 39  metcov00          float32\n",
      " 40  metcov01          float32\n",
      " 41  metcov10          float32\n",
      " 42  metcov11          float32\n",
      " 43  gen_nu_p_1        float64\n",
      " 44  gen_nu_phi_1      float64\n",
      " 45  gen_nu_eta_1      float64\n",
      " 46  gen_nu_p_2        float64\n",
      " 47  gen_nu_phi_2      float64\n",
      " 48  gen_nu_eta_2      float64\n",
      "dtypes: float32(4), float64(41), int32(4)\n",
      "memory usage: 3.4 GB\n"
     ]
    }
   ],
   "source": [
    "df.info()"
   ]
  },
  {
   "cell_type": "code",
   "execution_count": 12,
   "metadata": {},
   "outputs": [],
   "source": [
    "df.to_pickle('../shared/misc/df_tt_rho_rho_withgen.pkl')"
   ]
  },
  {
   "cell_type": "code",
   "execution_count": 15,
   "metadata": {},
   "outputs": [
    {
     "name": "stderr",
     "output_type": "stream",
     "text": [
      "C:\\Users\\Stanley\\.conda\\envs\\msci\\lib\\site-packages\\pandas\\core\\series.py:726: RuntimeWarning: overflow encountered in exp\n",
      "  result = getattr(ufunc, method)(*inputs, **kwargs)\n"
     ]
    }
   ],
   "source": [
    "nu_1 = Momentum4.m_eta_phi_p(np.zeros(len(df[\"gen_nu_phi_1\"])), df[\"gen_nu_eta_1\"], df[\"gen_nu_phi_1\"], df[\"gen_nu_p_1\"])"
   ]
  },
  {
   "cell_type": "code",
   "execution_count": 27,
   "metadata": {},
   "outputs": [],
   "source": [
    "nu_1[3][nu_1[3] == 9999] = np.nan"
   ]
  },
  {
   "cell_type": "code",
   "execution_count": 17,
   "metadata": {},
   "outputs": [],
   "source": [
    "df = pd.read_pickle('../shared/df_tt_rho_rho.pkl')\n",
    "df = df[(df['mva_dm_1'] == 1) & (df['mva_dm_2'] == 1) & (df[\"tau_decay_mode_1\"] == 1) & (df[\"tau_decay_mode_2\"] == 1)]"
   ]
  },
  {
   "cell_type": "code",
   "execution_count": 18,
   "metadata": {
    "scrolled": true
   },
   "outputs": [
    {
     "data": {
      "text/plain": [
       "(998268, 40)"
      ]
     },
     "execution_count": 18,
     "metadata": {},
     "output_type": "execute_result"
    }
   ],
   "source": [
    "df.shape"
   ]
  },
  {
   "cell_type": "code",
   "execution_count": 13,
   "metadata": {},
   "outputs": [],
   "source": [
    "df = pd.read_pickle('../shared/misc/df_tt_rho_rho_withgen.pkl')\n",
    "df1 = df[(df['mva_dm_1'] == 1) & (df['mva_dm_2'] == 1) & (df[\"tau_decay_mode_1\"] == 1) & (df[\"tau_decay_mode_2\"] == 1)]"
   ]
  },
  {
   "cell_type": "code",
   "execution_count": 11,
   "metadata": {},
   "outputs": [],
   "source": [
    "df2 = pd.read_pickle('../stanley/df_saved/rho_rho/df_rho_rho.pkl')"
   ]
  },
  {
   "cell_type": "code",
   "execution_count": 14,
   "metadata": {},
   "outputs": [
    {
     "data": {
      "text/plain": [
       "(998268, 49)"
      ]
     },
     "execution_count": 14,
     "metadata": {},
     "output_type": "execute_result"
    }
   ],
   "source": [
    "df1.shape"
   ]
  },
  {
   "cell_type": "code",
   "execution_count": 12,
   "metadata": {},
   "outputs": [
    {
     "data": {
      "text/plain": [
       "(998268, 27)"
      ]
     },
     "execution_count": 12,
     "metadata": {},
     "output_type": "execute_result"
    }
   ],
   "source": [
    "df2.shape"
   ]
  },
  {
   "cell_type": "code",
   "execution_count": 15,
   "metadata": {
    "scrolled": true
   },
   "outputs": [],
   "source": [
    "df3 = pd.read_pickle('../shared/input_df_reco/input_rho_rho.pkl')"
   ]
  },
  {
   "cell_type": "code",
   "execution_count": 25,
   "metadata": {},
   "outputs": [
    {
     "data": {
      "text/plain": [
       "(998268, 31)"
      ]
     },
     "execution_count": 25,
     "metadata": {},
     "output_type": "execute_result"
    }
   ],
   "source": [
    "df3.shape"
   ]
  },
  {
   "cell_type": "code",
   "execution_count": 24,
   "metadata": {
    "scrolled": true
   },
   "outputs": [
    {
     "data": {
      "text/plain": [
       "Index(['pi_E_1_br', 'pi_px_1_br', 'pi_py_1_br', 'pi_pz_1_br', 'pi_E_2_br',\n",
       "       'pi_px_2_br', 'pi_py_2_br', 'pi_pz_2_br', 'pi0_E_1_br', 'pi0_px_1_br',\n",
       "       'pi0_py_1_br', 'pi0_pz_1_br', 'pi0_E_2_br', 'pi0_px_2_br',\n",
       "       'pi0_py_2_br', 'pi0_pz_2_br', 'rho_E_1_br', 'rho_px_1_br',\n",
       "       'rho_py_1_br', 'rho_pz_1_br', 'rho_E_2_br', 'rho_px_2_br',\n",
       "       'rho_py_2_br', 'rho_pz_2_br', 'aco_angle_1', 'y_1_1', 'y_1_2', 'w_a',\n",
       "       'w_b', 'm_1', 'm_2'],\n",
       "      dtype='object')"
      ]
     },
     "execution_count": 24,
     "metadata": {},
     "output_type": "execute_result"
    }
   ],
   "source": [
    "df3.columns"
   ]
  },
  {
   "cell_type": "code",
   "execution_count": 89,
   "metadata": {},
   "outputs": [],
   "source": [
    "df = pd.read_pickle('../shared/misc/df_br.pkl')"
   ]
  },
  {
   "cell_type": "code",
   "execution_count": 90,
   "metadata": {},
   "outputs": [
    {
     "data": {
      "text/plain": [
       "Index(['pi_E_1_br', 'pi_px_1_br', 'pi_py_1_br', 'pi_pz_1_br', 'pi_E_2_br',\n",
       "       'pi_px_2_br', 'pi_py_2_br', 'pi_pz_2_br', 'pi0_E_1_br', 'pi0_px_1_br',\n",
       "       'pi0_py_1_br', 'pi0_pz_1_br', 'pi0_E_2_br', 'pi0_px_2_br',\n",
       "       'pi0_py_2_br', 'pi0_pz_2_br', 'rho_E_1_br', 'rho_px_1_br',\n",
       "       'rho_py_1_br', 'rho_pz_1_br', 'rho_E_2_br', 'rho_px_2_br',\n",
       "       'rho_py_2_br', 'rho_pz_2_br', 'aco_angle_1', 'y_1_1', 'y_1_2', 'w_a',\n",
       "       'w_b', 'm_1', 'm_2', 'alpha_1', 'alpha_2', 'E_nu_1', 'E_nu_2',\n",
       "       'p_t_nu_1', 'p_t_nu_2', 'p_z_nu_1', 'p_z_nu_2'],\n",
       "      dtype='object')"
      ]
     },
     "execution_count": 90,
     "metadata": {},
     "output_type": "execute_result"
    }
   ],
   "source": [
    "df.columns"
   ]
  },
  {
   "cell_type": "code",
   "execution_count": 31,
   "metadata": {},
   "outputs": [],
   "source": [
    "df['flag'] = np.where( (df['p_t_nu_1']==-1) | (df['alpha_1']==-1) | (df['p_t_nu_2']==-1) | (df['alpha_2']==-1) | (df['E_nu_1']<0) | (df['E_nu_2']<0), 0, 1)"
   ]
  },
  {
   "cell_type": "code",
   "execution_count": 91,
   "metadata": {
    "scrolled": true
   },
   "outputs": [
    {
     "data": {
      "text/html": [
       "<div>\n",
       "<style scoped>\n",
       "    .dataframe tbody tr th:only-of-type {\n",
       "        vertical-align: middle;\n",
       "    }\n",
       "\n",
       "    .dataframe tbody tr th {\n",
       "        vertical-align: top;\n",
       "    }\n",
       "\n",
       "    .dataframe thead th {\n",
       "        text-align: right;\n",
       "    }\n",
       "</style>\n",
       "<table border=\"1\" class=\"dataframe\">\n",
       "  <thead>\n",
       "    <tr style=\"text-align: right;\">\n",
       "      <th></th>\n",
       "      <th>pi_E_1_br</th>\n",
       "      <th>pi_px_1_br</th>\n",
       "      <th>pi_py_1_br</th>\n",
       "      <th>pi_pz_1_br</th>\n",
       "      <th>pi_E_2_br</th>\n",
       "      <th>pi_px_2_br</th>\n",
       "      <th>pi_py_2_br</th>\n",
       "      <th>pi_pz_2_br</th>\n",
       "      <th>pi0_E_1_br</th>\n",
       "      <th>pi0_px_1_br</th>\n",
       "      <th>...</th>\n",
       "      <th>m_1</th>\n",
       "      <th>m_2</th>\n",
       "      <th>alpha_1</th>\n",
       "      <th>alpha_2</th>\n",
       "      <th>E_nu_1</th>\n",
       "      <th>E_nu_2</th>\n",
       "      <th>p_t_nu_1</th>\n",
       "      <th>p_t_nu_2</th>\n",
       "      <th>p_z_nu_1</th>\n",
       "      <th>p_z_nu_2</th>\n",
       "    </tr>\n",
       "  </thead>\n",
       "  <tbody>\n",
       "    <tr>\n",
       "      <th>0</th>\n",
       "      <td>38.866249</td>\n",
       "      <td>0.429429</td>\n",
       "      <td>-0.133119</td>\n",
       "      <td>38.863398</td>\n",
       "      <td>40.456445</td>\n",
       "      <td>-0.509745</td>\n",
       "      <td>-0.094749</td>\n",
       "      <td>-40.452882</td>\n",
       "      <td>8.569687</td>\n",
       "      <td>-0.429429</td>\n",
       "      <td>...</td>\n",
       "      <td>1.220952</td>\n",
       "      <td>1.512969</td>\n",
       "      <td>0.000000</td>\n",
       "      <td>0.000000</td>\n",
       "      <td>0.000000</td>\n",
       "      <td>0.000000</td>\n",
       "      <td>0.000000</td>\n",
       "      <td>0.000000</td>\n",
       "      <td>0.000000</td>\n",
       "      <td>0.000000</td>\n",
       "    </tr>\n",
       "    <tr>\n",
       "      <th>1</th>\n",
       "      <td>17.175150</td>\n",
       "      <td>0.213861</td>\n",
       "      <td>0.469040</td>\n",
       "      <td>17.166846</td>\n",
       "      <td>9.529103</td>\n",
       "      <td>0.210109</td>\n",
       "      <td>-0.089910</td>\n",
       "      <td>-9.525340</td>\n",
       "      <td>29.088943</td>\n",
       "      <td>-0.213861</td>\n",
       "      <td>...</td>\n",
       "      <td>1.104476</td>\n",
       "      <td>0.660891</td>\n",
       "      <td>1.405986</td>\n",
       "      <td>5.760983</td>\n",
       "      <td>65.030490</td>\n",
       "      <td>266.452856</td>\n",
       "      <td>0.555376</td>\n",
       "      <td>1.076724</td>\n",
       "      <td>65.028118</td>\n",
       "      <td>-266.450680</td>\n",
       "    </tr>\n",
       "    <tr>\n",
       "      <th>2</th>\n",
       "      <td>8.526993</td>\n",
       "      <td>0.209425</td>\n",
       "      <td>0.197722</td>\n",
       "      <td>8.520985</td>\n",
       "      <td>10.630995</td>\n",
       "      <td>-0.242771</td>\n",
       "      <td>-0.036193</td>\n",
       "      <td>-10.627246</td>\n",
       "      <td>37.577339</td>\n",
       "      <td>-0.209425</td>\n",
       "      <td>...</td>\n",
       "      <td>0.823420</td>\n",
       "      <td>0.669092</td>\n",
       "      <td>3.087533</td>\n",
       "      <td>0.720344</td>\n",
       "      <td>142.330104</td>\n",
       "      <td>33.231518</td>\n",
       "      <td>1.087236</td>\n",
       "      <td>1.310650</td>\n",
       "      <td>142.325951</td>\n",
       "      <td>-33.205662</td>\n",
       "    </tr>\n",
       "    <tr>\n",
       "      <th>3</th>\n",
       "      <td>41.836730</td>\n",
       "      <td>-0.050458</td>\n",
       "      <td>-0.144726</td>\n",
       "      <td>41.836217</td>\n",
       "      <td>2.599469</td>\n",
       "      <td>0.099976</td>\n",
       "      <td>0.004286</td>\n",
       "      <td>-2.593793</td>\n",
       "      <td>11.395560</td>\n",
       "      <td>0.050458</td>\n",
       "      <td>...</td>\n",
       "      <td>0.499415</td>\n",
       "      <td>0.796268</td>\n",
       "      <td>0.159950</td>\n",
       "      <td>0.776402</td>\n",
       "      <td>8.541043</td>\n",
       "      <td>41.346882</td>\n",
       "      <td>0.677451</td>\n",
       "      <td>1.254848</td>\n",
       "      <td>8.514134</td>\n",
       "      <td>-41.327836</td>\n",
       "    </tr>\n",
       "    <tr>\n",
       "      <th>4</th>\n",
       "      <td>23.455746</td>\n",
       "      <td>0.115471</td>\n",
       "      <td>-0.337611</td>\n",
       "      <td>23.452617</td>\n",
       "      <td>25.232731</td>\n",
       "      <td>-0.068646</td>\n",
       "      <td>0.327903</td>\n",
       "      <td>-25.230121</td>\n",
       "      <td>21.066138</td>\n",
       "      <td>-0.115471</td>\n",
       "      <td>...</td>\n",
       "      <td>0.765599</td>\n",
       "      <td>0.730365</td>\n",
       "      <td>2.691481</td>\n",
       "      <td>3.238841</td>\n",
       "      <td>119.823204</td>\n",
       "      <td>144.188002</td>\n",
       "      <td>1.632730</td>\n",
       "      <td>1.700731</td>\n",
       "      <td>119.812080</td>\n",
       "      <td>-144.177972</td>\n",
       "    </tr>\n",
       "  </tbody>\n",
       "</table>\n",
       "<p>5 rows × 39 columns</p>\n",
       "</div>"
      ],
      "text/plain": [
       "   pi_E_1_br  pi_px_1_br  pi_py_1_br  pi_pz_1_br  pi_E_2_br  pi_px_2_br  \\\n",
       "0  38.866249    0.429429   -0.133119   38.863398  40.456445   -0.509745   \n",
       "1  17.175150    0.213861    0.469040   17.166846   9.529103    0.210109   \n",
       "2   8.526993    0.209425    0.197722    8.520985  10.630995   -0.242771   \n",
       "3  41.836730   -0.050458   -0.144726   41.836217   2.599469    0.099976   \n",
       "4  23.455746    0.115471   -0.337611   23.452617  25.232731   -0.068646   \n",
       "\n",
       "   pi_py_2_br  pi_pz_2_br  pi0_E_1_br  pi0_px_1_br  ...       m_1       m_2  \\\n",
       "0   -0.094749  -40.452882    8.569687    -0.429429  ...  1.220952  1.512969   \n",
       "1   -0.089910   -9.525340   29.088943    -0.213861  ...  1.104476  0.660891   \n",
       "2   -0.036193  -10.627246   37.577339    -0.209425  ...  0.823420  0.669092   \n",
       "3    0.004286   -2.593793   11.395560     0.050458  ...  0.499415  0.796268   \n",
       "4    0.327903  -25.230121   21.066138    -0.115471  ...  0.765599  0.730365   \n",
       "\n",
       "    alpha_1   alpha_2      E_nu_1      E_nu_2  p_t_nu_1  p_t_nu_2    p_z_nu_1  \\\n",
       "0  0.000000  0.000000    0.000000    0.000000  0.000000  0.000000    0.000000   \n",
       "1  1.405986  5.760983   65.030490  266.452856  0.555376  1.076724   65.028118   \n",
       "2  3.087533  0.720344  142.330104   33.231518  1.087236  1.310650  142.325951   \n",
       "3  0.159950  0.776402    8.541043   41.346882  0.677451  1.254848    8.514134   \n",
       "4  2.691481  3.238841  119.823204  144.188002  1.632730  1.700731  119.812080   \n",
       "\n",
       "     p_z_nu_2  \n",
       "0    0.000000  \n",
       "1 -266.450680  \n",
       "2  -33.205662  \n",
       "3  -41.327836  \n",
       "4 -144.177972  \n",
       "\n",
       "[5 rows x 39 columns]"
      ]
     },
     "execution_count": 91,
     "metadata": {},
     "output_type": "execute_result"
    }
   ],
   "source": [
    "df.head()"
   ]
  },
  {
   "cell_type": "code",
   "execution_count": 34,
   "metadata": {},
   "outputs": [
    {
     "data": {
      "text/plain": [
       "0.02682503899753311"
      ]
     },
     "execution_count": 34,
     "metadata": {},
     "output_type": "execute_result"
    }
   ],
   "source": [
    "df['flag'].sum()/len(df['flag'])*100"
   ]
  },
  {
   "cell_type": "code",
   "execution_count": 20,
   "metadata": {},
   "outputs": [
    {
     "data": {
      "text/plain": [
       "194.85291640160656"
      ]
     },
     "execution_count": 20,
     "metadata": {},
     "output_type": "execute_result"
    }
   ],
   "source": [
    "p_z_nu_1 = df.alpha_1[0]*(df.pi_pz_1_br[0] + df.pi0_pz_1_br[0])\n",
    "i = 0\n",
    "E_nu_1 = (125.18**2 - (df.pi_E_1_br[i] + df.pi0_E_1_br[i])**2 + (df.pi_pz_1_br[i] + df.pi0_pz_1_br[i])** 2 + 2*p_z_nu_1*(df.pi_pz_1_br[i] + df.pi0_pz_1_br[i]))/(2*(df.pi_E_1_br[i] + df.pi0_E_1_br[i]))\n",
    "p_z_nu_1\n",
    "E_nu_1"
   ]
  },
  {
   "cell_type": "code",
   "execution_count": 21,
   "metadata": {},
   "outputs": [
    {
     "name": "stderr",
     "output_type": "stream",
     "text": [
      "<ipython-input-21-c4efc2a59d34>:1: RuntimeWarning: invalid value encountered in sqrt\n",
      "  p_t_nu_1 = np.sqrt(np.array(E_nu_1)**2 - np.array(p_z_nu_1)**2)\n"
     ]
    }
   ],
   "source": [
    "p_t_nu_1 = np.sqrt(np.array(E_nu_1)**2 - np.array(p_z_nu_1)**2)"
   ]
  },
  {
   "cell_type": "code",
   "execution_count": 22,
   "metadata": {},
   "outputs": [
    {
     "data": {
      "text/plain": [
       "True"
      ]
     },
     "execution_count": 22,
     "metadata": {},
     "output_type": "execute_result"
    }
   ],
   "source": [
    "np.abs(E_nu_1) < np.abs(p_z_nu_1)"
   ]
  },
  {
   "cell_type": "code",
   "execution_count": 3,
   "metadata": {},
   "outputs": [],
   "source": [
    "alpha_1 = np.load('../shared/alpha_analysis/alpha_1_100_b.npy')"
   ]
  },
  {
   "cell_type": "code",
   "execution_count": 7,
   "metadata": {
    "scrolled": true
   },
   "outputs": [
    {
     "data": {
      "text/plain": [
       "45671"
      ]
     },
     "execution_count": 7,
     "metadata": {},
     "output_type": "execute_result"
    }
   ],
   "source": [
    "(alpha_1==-1).sum()"
   ]
  },
  {
   "cell_type": "markdown",
   "metadata": {},
   "source": [
    "### from previous runs"
   ]
  },
  {
   "cell_type": "code",
   "execution_count": 80,
   "metadata": {},
   "outputs": [],
   "source": [
    "alpha_1_old = np.load('./alpha_analysis/alpha_1_1000.npy')\n",
    "alpha_2_old = np.load('./alpha_analysis/alpha_2_1000.npy')"
   ]
  },
  {
   "cell_type": "code",
   "execution_count": 81,
   "metadata": {},
   "outputs": [
    {
     "data": {
      "text/plain": [
       "(998268,)"
      ]
     },
     "execution_count": 81,
     "metadata": {},
     "output_type": "execute_result"
    }
   ],
   "source": [
    "alpha_1_old.shape"
   ]
  },
  {
   "cell_type": "code",
   "execution_count": 82,
   "metadata": {},
   "outputs": [],
   "source": [
    "df = pd.read_pickle('..\\shared\\input_df_reco\\input_rho_rho.pkl')"
   ]
  },
  {
   "cell_type": "code",
   "execution_count": 83,
   "metadata": {
    "scrolled": true
   },
   "outputs": [
    {
     "data": {
      "text/html": [
       "<div>\n",
       "<style scoped>\n",
       "    .dataframe tbody tr th:only-of-type {\n",
       "        vertical-align: middle;\n",
       "    }\n",
       "\n",
       "    .dataframe tbody tr th {\n",
       "        vertical-align: top;\n",
       "    }\n",
       "\n",
       "    .dataframe thead th {\n",
       "        text-align: right;\n",
       "    }\n",
       "</style>\n",
       "<table border=\"1\" class=\"dataframe\">\n",
       "  <thead>\n",
       "    <tr style=\"text-align: right;\">\n",
       "      <th></th>\n",
       "      <th>pi_E_1_br</th>\n",
       "      <th>pi_px_1_br</th>\n",
       "      <th>pi_py_1_br</th>\n",
       "      <th>pi_pz_1_br</th>\n",
       "      <th>pi_E_2_br</th>\n",
       "      <th>pi_px_2_br</th>\n",
       "      <th>pi_py_2_br</th>\n",
       "      <th>pi_pz_2_br</th>\n",
       "      <th>pi0_E_1_br</th>\n",
       "      <th>pi0_px_1_br</th>\n",
       "      <th>...</th>\n",
       "      <th>rho_px_2_br</th>\n",
       "      <th>rho_py_2_br</th>\n",
       "      <th>rho_pz_2_br</th>\n",
       "      <th>aco_angle_1</th>\n",
       "      <th>y_1_1</th>\n",
       "      <th>y_1_2</th>\n",
       "      <th>w_a</th>\n",
       "      <th>w_b</th>\n",
       "      <th>m_1</th>\n",
       "      <th>m_2</th>\n",
       "    </tr>\n",
       "    <tr>\n",
       "      <th>entry</th>\n",
       "      <th></th>\n",
       "      <th></th>\n",
       "      <th></th>\n",
       "      <th></th>\n",
       "      <th></th>\n",
       "      <th></th>\n",
       "      <th></th>\n",
       "      <th></th>\n",
       "      <th></th>\n",
       "      <th></th>\n",
       "      <th></th>\n",
       "      <th></th>\n",
       "      <th></th>\n",
       "      <th></th>\n",
       "      <th></th>\n",
       "      <th></th>\n",
       "      <th></th>\n",
       "      <th></th>\n",
       "      <th></th>\n",
       "      <th></th>\n",
       "      <th></th>\n",
       "    </tr>\n",
       "  </thead>\n",
       "  <tbody>\n",
       "    <tr>\n",
       "      <th>8</th>\n",
       "      <td>38.866249</td>\n",
       "      <td>0.429429</td>\n",
       "      <td>-0.133119</td>\n",
       "      <td>38.863398</td>\n",
       "      <td>40.456445</td>\n",
       "      <td>-0.509745</td>\n",
       "      <td>-0.094749</td>\n",
       "      <td>-40.452882</td>\n",
       "      <td>8.569687</td>\n",
       "      <td>-0.429429</td>\n",
       "      <td>...</td>\n",
       "      <td>2.442491e-14</td>\n",
       "      <td>5.329071e-14</td>\n",
       "      <td>-47.420221</td>\n",
       "      <td>2.657029</td>\n",
       "      <td>-0.637964</td>\n",
       "      <td>-0.708372</td>\n",
       "      <td>1.228852</td>\n",
       "      <td>0.950417</td>\n",
       "      <td>1.220952</td>\n",
       "      <td>1.512969</td>\n",
       "    </tr>\n",
       "    <tr>\n",
       "      <th>25</th>\n",
       "      <td>17.175150</td>\n",
       "      <td>0.213861</td>\n",
       "      <td>0.469040</td>\n",
       "      <td>17.166846</td>\n",
       "      <td>9.529103</td>\n",
       "      <td>0.210109</td>\n",
       "      <td>-0.089910</td>\n",
       "      <td>-9.525340</td>\n",
       "      <td>29.088943</td>\n",
       "      <td>-0.213861</td>\n",
       "      <td>...</td>\n",
       "      <td>5.329071e-15</td>\n",
       "      <td>-1.154632e-14</td>\n",
       "      <td>-46.250908</td>\n",
       "      <td>1.547246</td>\n",
       "      <td>0.254573</td>\n",
       "      <td>0.594557</td>\n",
       "      <td>0.124674</td>\n",
       "      <td>1.936855</td>\n",
       "      <td>1.104476</td>\n",
       "      <td>0.660891</td>\n",
       "    </tr>\n",
       "    <tr>\n",
       "      <th>27</th>\n",
       "      <td>8.526993</td>\n",
       "      <td>0.209425</td>\n",
       "      <td>0.197722</td>\n",
       "      <td>8.520985</td>\n",
       "      <td>10.630995</td>\n",
       "      <td>-0.242771</td>\n",
       "      <td>-0.036193</td>\n",
       "      <td>-10.627246</td>\n",
       "      <td>37.577339</td>\n",
       "      <td>-0.209425</td>\n",
       "      <td>...</td>\n",
       "      <td>2.131628e-14</td>\n",
       "      <td>7.105427e-15</td>\n",
       "      <td>-46.096978</td>\n",
       "      <td>3.750274</td>\n",
       "      <td>0.638590</td>\n",
       "      <td>0.529623</td>\n",
       "      <td>1.461517</td>\n",
       "      <td>0.400455</td>\n",
       "      <td>0.823420</td>\n",
       "      <td>0.669092</td>\n",
       "    </tr>\n",
       "    <tr>\n",
       "      <th>45</th>\n",
       "      <td>41.836730</td>\n",
       "      <td>-0.050458</td>\n",
       "      <td>-0.144726</td>\n",
       "      <td>41.836217</td>\n",
       "      <td>2.599469</td>\n",
       "      <td>0.099976</td>\n",
       "      <td>0.004286</td>\n",
       "      <td>-2.593793</td>\n",
       "      <td>11.395560</td>\n",
       "      <td>0.050458</td>\n",
       "      <td>...</td>\n",
       "      <td>4.352074e-14</td>\n",
       "      <td>-3.197442e-14</td>\n",
       "      <td>-53.229947</td>\n",
       "      <td>1.192612</td>\n",
       "      <td>-0.572846</td>\n",
       "      <td>0.899114</td>\n",
       "      <td>0.059870</td>\n",
       "      <td>0.061072</td>\n",
       "      <td>0.499415</td>\n",
       "      <td>0.796268</td>\n",
       "    </tr>\n",
       "    <tr>\n",
       "      <th>50</th>\n",
       "      <td>23.455746</td>\n",
       "      <td>0.115471</td>\n",
       "      <td>-0.337611</td>\n",
       "      <td>23.452617</td>\n",
       "      <td>25.232731</td>\n",
       "      <td>-0.068646</td>\n",
       "      <td>0.327903</td>\n",
       "      <td>-25.230121</td>\n",
       "      <td>21.066138</td>\n",
       "      <td>-0.115471</td>\n",
       "      <td>...</td>\n",
       "      <td>-1.143530e-14</td>\n",
       "      <td>-9.547918e-15</td>\n",
       "      <td>-44.515301</td>\n",
       "      <td>3.264792</td>\n",
       "      <td>-0.054617</td>\n",
       "      <td>-0.132105</td>\n",
       "      <td>0.654131</td>\n",
       "      <td>0.931771</td>\n",
       "      <td>0.765599</td>\n",
       "      <td>0.730365</td>\n",
       "    </tr>\n",
       "  </tbody>\n",
       "</table>\n",
       "<p>5 rows × 31 columns</p>\n",
       "</div>"
      ],
      "text/plain": [
       "       pi_E_1_br  pi_px_1_br  pi_py_1_br  pi_pz_1_br  pi_E_2_br  pi_px_2_br  \\\n",
       "entry                                                                         \n",
       "8      38.866249    0.429429   -0.133119   38.863398  40.456445   -0.509745   \n",
       "25     17.175150    0.213861    0.469040   17.166846   9.529103    0.210109   \n",
       "27      8.526993    0.209425    0.197722    8.520985  10.630995   -0.242771   \n",
       "45     41.836730   -0.050458   -0.144726   41.836217   2.599469    0.099976   \n",
       "50     23.455746    0.115471   -0.337611   23.452617  25.232731   -0.068646   \n",
       "\n",
       "       pi_py_2_br  pi_pz_2_br  pi0_E_1_br  pi0_px_1_br  ...   rho_px_2_br  \\\n",
       "entry                                                   ...                 \n",
       "8       -0.094749  -40.452882    8.569687    -0.429429  ...  2.442491e-14   \n",
       "25      -0.089910   -9.525340   29.088943    -0.213861  ...  5.329071e-15   \n",
       "27      -0.036193  -10.627246   37.577339    -0.209425  ...  2.131628e-14   \n",
       "45       0.004286   -2.593793   11.395560     0.050458  ...  4.352074e-14   \n",
       "50       0.327903  -25.230121   21.066138    -0.115471  ... -1.143530e-14   \n",
       "\n",
       "        rho_py_2_br  rho_pz_2_br  aco_angle_1     y_1_1     y_1_2       w_a  \\\n",
       "entry                                                                         \n",
       "8      5.329071e-14   -47.420221     2.657029 -0.637964 -0.708372  1.228852   \n",
       "25    -1.154632e-14   -46.250908     1.547246  0.254573  0.594557  0.124674   \n",
       "27     7.105427e-15   -46.096978     3.750274  0.638590  0.529623  1.461517   \n",
       "45    -3.197442e-14   -53.229947     1.192612 -0.572846  0.899114  0.059870   \n",
       "50    -9.547918e-15   -44.515301     3.264792 -0.054617 -0.132105  0.654131   \n",
       "\n",
       "            w_b       m_1       m_2  \n",
       "entry                                \n",
       "8      0.950417  1.220952  1.512969  \n",
       "25     1.936855  1.104476  0.660891  \n",
       "27     0.400455  0.823420  0.669092  \n",
       "45     0.061072  0.499415  0.796268  \n",
       "50     0.931771  0.765599  0.730365  \n",
       "\n",
       "[5 rows x 31 columns]"
      ]
     },
     "execution_count": 83,
     "metadata": {},
     "output_type": "execute_result"
    }
   ],
   "source": [
    "df.head()"
   ]
  },
  {
   "cell_type": "code",
   "execution_count": 84,
   "metadata": {},
   "outputs": [
    {
     "name": "stderr",
     "output_type": "stream",
     "text": [
      "<ipython-input-84-299a0640d27c>:8: RuntimeWarning: invalid value encountered in sqrt\n",
      "  df['p_t_nu_1'] = np.sqrt(np.array(df.E_nu_1)**2 - np.array(df.p_z_nu_1)**2)\n",
      "<ipython-input-84-299a0640d27c>:9: RuntimeWarning: invalid value encountered in sqrt\n",
      "  df['p_t_nu_2'] = np.sqrt(np.array(df.E_nu_2)**2 - np.array(df.p_z_nu_2)**2)\n"
     ]
    }
   ],
   "source": [
    "\n",
    "df['alpha_1'] = alpha_1_old\n",
    "df['alpha_2'] = alpha_2_old\n",
    "df['p_z_nu_1'] = alpha_1_old*(df.pi_pz_1_br + df.pi0_pz_1_br)\n",
    "df['p_z_nu_2'] = alpha_2_old*(df.pi_pz_2_br + df.pi0_pz_2_br)\n",
    "df['E_nu_1'] = (m_tau**2 - (df.pi_E_1_br+df.pi0_E_1_br)**2 + (df.pi_pz_1_br + df.pi0_pz_1_br)** 2 + 2*df.p_z_nu_1*(df.pi_pz_1_br + df.pi0_pz_1_br))/(2*(df.pi_E_1_br+df.pi0_E_1_br))\n",
    "df['E_nu_2'] = (m_tau**2 - (df.pi_E_2_br+df.pi0_E_2_br)**2 + (df.pi_pz_2_br + df.pi0_pz_2_br)** 2 + 2*df.p_z_nu_2*(df.pi_pz_2_br + df.pi0_pz_2_br))/(2*(df.pi_E_2_br+df.pi0_E_2_br))\n",
    "df['p_t_nu_1'] = np.sqrt(np.array(df.E_nu_1)**2 - np.array(df.p_z_nu_1)**2)\n",
    "df['p_t_nu_2'] = np.sqrt(np.array(df.E_nu_2)**2 - np.array(df.p_z_nu_2)**2)\n",
    "# df_red = df[(df['alpha_1'] > 0) & (df['alpha_2'] > 0) & (\n",
    "#             df['E_nu_1'] > 0) & (df['E_nu_2'] > 0)].reset_index(drop=True)\n",
    "\n",
    "df_red = df[(df['alpha_1'] > 0) & (df['alpha_2'] > 0) & (\n",
    "            df['E_nu_1'] > 0) & (df['E_nu_2'] > 0) & (~np.isnan(df['p_t_nu_1'])) & (~np.isnan(df['p_t_nu_2']))].reset_index(drop=True)"
   ]
  },
  {
   "cell_type": "code",
   "execution_count": 85,
   "metadata": {},
   "outputs": [
    {
     "data": {
      "text/html": [
       "<div>\n",
       "<style scoped>\n",
       "    .dataframe tbody tr th:only-of-type {\n",
       "        vertical-align: middle;\n",
       "    }\n",
       "\n",
       "    .dataframe tbody tr th {\n",
       "        vertical-align: top;\n",
       "    }\n",
       "\n",
       "    .dataframe thead th {\n",
       "        text-align: right;\n",
       "    }\n",
       "</style>\n",
       "<table border=\"1\" class=\"dataframe\">\n",
       "  <thead>\n",
       "    <tr style=\"text-align: right;\">\n",
       "      <th></th>\n",
       "      <th>pi_E_1_br</th>\n",
       "      <th>pi_px_1_br</th>\n",
       "      <th>pi_py_1_br</th>\n",
       "      <th>pi_pz_1_br</th>\n",
       "      <th>pi_E_2_br</th>\n",
       "      <th>pi_px_2_br</th>\n",
       "      <th>pi_py_2_br</th>\n",
       "      <th>pi_pz_2_br</th>\n",
       "      <th>pi0_E_1_br</th>\n",
       "      <th>pi0_px_1_br</th>\n",
       "      <th>...</th>\n",
       "      <th>m_1</th>\n",
       "      <th>m_2</th>\n",
       "      <th>alpha_1</th>\n",
       "      <th>alpha_2</th>\n",
       "      <th>p_z_nu_1</th>\n",
       "      <th>p_z_nu_2</th>\n",
       "      <th>E_nu_1</th>\n",
       "      <th>E_nu_2</th>\n",
       "      <th>p_t_nu_1</th>\n",
       "      <th>p_t_nu_2</th>\n",
       "    </tr>\n",
       "    <tr>\n",
       "      <th>entry</th>\n",
       "      <th></th>\n",
       "      <th></th>\n",
       "      <th></th>\n",
       "      <th></th>\n",
       "      <th></th>\n",
       "      <th></th>\n",
       "      <th></th>\n",
       "      <th></th>\n",
       "      <th></th>\n",
       "      <th></th>\n",
       "      <th></th>\n",
       "      <th></th>\n",
       "      <th></th>\n",
       "      <th></th>\n",
       "      <th></th>\n",
       "      <th></th>\n",
       "      <th></th>\n",
       "      <th></th>\n",
       "      <th></th>\n",
       "      <th></th>\n",
       "      <th></th>\n",
       "    </tr>\n",
       "  </thead>\n",
       "  <tbody>\n",
       "    <tr>\n",
       "      <th>8</th>\n",
       "      <td>38.866249</td>\n",
       "      <td>0.429429</td>\n",
       "      <td>-0.133119</td>\n",
       "      <td>38.863398</td>\n",
       "      <td>40.456445</td>\n",
       "      <td>-0.509745</td>\n",
       "      <td>-0.094749</td>\n",
       "      <td>-40.452882</td>\n",
       "      <td>8.569687</td>\n",
       "      <td>-0.429429</td>\n",
       "      <td>...</td>\n",
       "      <td>1.220952</td>\n",
       "      <td>1.512969</td>\n",
       "      <td>-1.000000</td>\n",
       "      <td>-1.000000</td>\n",
       "      <td>-47.420221</td>\n",
       "      <td>47.420221</td>\n",
       "      <td>-47.386977</td>\n",
       "      <td>-47.386986</td>\n",
       "      <td>NaN</td>\n",
       "      <td>NaN</td>\n",
       "    </tr>\n",
       "    <tr>\n",
       "      <th>25</th>\n",
       "      <td>17.175150</td>\n",
       "      <td>0.213861</td>\n",
       "      <td>0.469040</td>\n",
       "      <td>17.166846</td>\n",
       "      <td>9.529103</td>\n",
       "      <td>0.210109</td>\n",
       "      <td>-0.089910</td>\n",
       "      <td>-9.525340</td>\n",
       "      <td>29.088943</td>\n",
       "      <td>-0.213861</td>\n",
       "      <td>...</td>\n",
       "      <td>1.104476</td>\n",
       "      <td>0.660891</td>\n",
       "      <td>1.405986</td>\n",
       "      <td>5.760983</td>\n",
       "      <td>65.028118</td>\n",
       "      <td>-266.450680</td>\n",
       "      <td>65.030490</td>\n",
       "      <td>266.452856</td>\n",
       "      <td>0.555376</td>\n",
       "      <td>1.076724</td>\n",
       "    </tr>\n",
       "    <tr>\n",
       "      <th>27</th>\n",
       "      <td>8.526993</td>\n",
       "      <td>0.209425</td>\n",
       "      <td>0.197722</td>\n",
       "      <td>8.520985</td>\n",
       "      <td>10.630995</td>\n",
       "      <td>-0.242771</td>\n",
       "      <td>-0.036193</td>\n",
       "      <td>-10.627246</td>\n",
       "      <td>37.577339</td>\n",
       "      <td>-0.209425</td>\n",
       "      <td>...</td>\n",
       "      <td>0.823420</td>\n",
       "      <td>0.669092</td>\n",
       "      <td>7.170637</td>\n",
       "      <td>2.127554</td>\n",
       "      <td>330.544686</td>\n",
       "      <td>-98.073792</td>\n",
       "      <td>330.518818</td>\n",
       "      <td>98.092816</td>\n",
       "      <td>NaN</td>\n",
       "      <td>1.931799</td>\n",
       "    </tr>\n",
       "    <tr>\n",
       "      <th>45</th>\n",
       "      <td>41.836730</td>\n",
       "      <td>-0.050458</td>\n",
       "      <td>-0.144726</td>\n",
       "      <td>41.836217</td>\n",
       "      <td>2.599469</td>\n",
       "      <td>0.099976</td>\n",
       "      <td>0.004286</td>\n",
       "      <td>-2.593793</td>\n",
       "      <td>11.395560</td>\n",
       "      <td>0.050458</td>\n",
       "      <td>...</td>\n",
       "      <td>0.499415</td>\n",
       "      <td>0.796268</td>\n",
       "      <td>0.825470</td>\n",
       "      <td>9.321733</td>\n",
       "      <td>43.939720</td>\n",
       "      <td>-496.195347</td>\n",
       "      <td>43.965070</td>\n",
       "      <td>496.163508</td>\n",
       "      <td>1.492779</td>\n",
       "      <td>NaN</td>\n",
       "    </tr>\n",
       "    <tr>\n",
       "      <th>50</th>\n",
       "      <td>23.455746</td>\n",
       "      <td>0.115471</td>\n",
       "      <td>-0.337611</td>\n",
       "      <td>23.452617</td>\n",
       "      <td>25.232731</td>\n",
       "      <td>-0.068646</td>\n",
       "      <td>0.327903</td>\n",
       "      <td>-25.230121</td>\n",
       "      <td>21.066138</td>\n",
       "      <td>-0.115471</td>\n",
       "      <td>...</td>\n",
       "      <td>0.765599</td>\n",
       "      <td>0.730365</td>\n",
       "      <td>2.691481</td>\n",
       "      <td>3.238841</td>\n",
       "      <td>119.812080</td>\n",
       "      <td>-144.177972</td>\n",
       "      <td>119.823204</td>\n",
       "      <td>144.188002</td>\n",
       "      <td>1.632730</td>\n",
       "      <td>1.700731</td>\n",
       "    </tr>\n",
       "  </tbody>\n",
       "</table>\n",
       "<p>5 rows × 39 columns</p>\n",
       "</div>"
      ],
      "text/plain": [
       "       pi_E_1_br  pi_px_1_br  pi_py_1_br  pi_pz_1_br  pi_E_2_br  pi_px_2_br  \\\n",
       "entry                                                                         \n",
       "8      38.866249    0.429429   -0.133119   38.863398  40.456445   -0.509745   \n",
       "25     17.175150    0.213861    0.469040   17.166846   9.529103    0.210109   \n",
       "27      8.526993    0.209425    0.197722    8.520985  10.630995   -0.242771   \n",
       "45     41.836730   -0.050458   -0.144726   41.836217   2.599469    0.099976   \n",
       "50     23.455746    0.115471   -0.337611   23.452617  25.232731   -0.068646   \n",
       "\n",
       "       pi_py_2_br  pi_pz_2_br  pi0_E_1_br  pi0_px_1_br  ...       m_1  \\\n",
       "entry                                                   ...             \n",
       "8       -0.094749  -40.452882    8.569687    -0.429429  ...  1.220952   \n",
       "25      -0.089910   -9.525340   29.088943    -0.213861  ...  1.104476   \n",
       "27      -0.036193  -10.627246   37.577339    -0.209425  ...  0.823420   \n",
       "45       0.004286   -2.593793   11.395560     0.050458  ...  0.499415   \n",
       "50       0.327903  -25.230121   21.066138    -0.115471  ...  0.765599   \n",
       "\n",
       "            m_2   alpha_1   alpha_2    p_z_nu_1    p_z_nu_2      E_nu_1  \\\n",
       "entry                                                                     \n",
       "8      1.512969 -1.000000 -1.000000  -47.420221   47.420221  -47.386977   \n",
       "25     0.660891  1.405986  5.760983   65.028118 -266.450680   65.030490   \n",
       "27     0.669092  7.170637  2.127554  330.544686  -98.073792  330.518818   \n",
       "45     0.796268  0.825470  9.321733   43.939720 -496.195347   43.965070   \n",
       "50     0.730365  2.691481  3.238841  119.812080 -144.177972  119.823204   \n",
       "\n",
       "           E_nu_2  p_t_nu_1  p_t_nu_2  \n",
       "entry                                  \n",
       "8      -47.386986       NaN       NaN  \n",
       "25     266.452856  0.555376  1.076724  \n",
       "27      98.092816       NaN  1.931799  \n",
       "45     496.163508  1.492779       NaN  \n",
       "50     144.188002  1.632730  1.700731  \n",
       "\n",
       "[5 rows x 39 columns]"
      ]
     },
     "execution_count": 85,
     "metadata": {},
     "output_type": "execute_result"
    }
   ],
   "source": [
    "df.head()"
   ]
  },
  {
   "cell_type": "code",
   "execution_count": 86,
   "metadata": {},
   "outputs": [
    {
     "name": "stdout",
     "output_type": "stream",
     "text": [
      "(998268, 39) (629235, 39)\n"
     ]
    }
   ],
   "source": [
    "print(df.shape, df_red.shape)"
   ]
  },
  {
   "cell_type": "markdown",
   "metadata": {},
   "source": [
    "### from old code on new file"
   ]
  },
  {
   "cell_type": "code",
   "execution_count": 35,
   "metadata": {},
   "outputs": [],
   "source": [
    "df_old = pd.read_pickle('../shared/misc/df_br_old.pkl')"
   ]
  },
  {
   "cell_type": "code",
   "execution_count": 78,
   "metadata": {},
   "outputs": [],
   "source": [
    "df_red = df_old[(df_old['alpha_1'] > 0) & (df_old['alpha_2'] > 0) & (\n",
    "            df_old['E_nu_1'] > 0) & (df_old['E_nu_2'] > 0) & (~np.isnan(df_old['p_t_nu_1'])) & (~np.isnan(df_old['p_t_nu_2']))].reset_index(drop=True)"
   ]
  },
  {
   "cell_type": "markdown",
   "metadata": {},
   "source": [
    "## testing current code with old code"
   ]
  },
  {
   "cell_type": "code",
   "execution_count": 12,
   "metadata": {},
   "outputs": [],
   "source": [
    "alpha_1 = np.load('../shared/alpha_analysis/alpha_1_1000.npy')\n",
    "alpha_2 = np.load('../shared/alpha_analysis/alpha_2_1000.npy')"
   ]
  },
  {
   "cell_type": "code",
   "execution_count": 13,
   "metadata": {},
   "outputs": [],
   "source": [
    "df = pd.read_pickle('../shared/input_df_reco/input_rho_rho.pkl')"
   ]
  },
  {
   "cell_type": "code",
   "execution_count": 14,
   "metadata": {},
   "outputs": [
    {
     "name": "stderr",
     "output_type": "stream",
     "text": [
      "<ipython-input-14-5c75a7885f98>:7: RuntimeWarning: invalid value encountered in sqrt\n",
      "  p_t_nu_1 = np.sqrt(np.array(E_nu_1)**2 - np.array(p_z_nu_1)**2)\n",
      "<ipython-input-14-5c75a7885f98>:8: RuntimeWarning: invalid value encountered in sqrt\n",
      "  p_t_nu_2 = np.sqrt(np.array(E_nu_2)**2 - np.array(p_z_nu_2)**2)\n"
     ]
    }
   ],
   "source": [
    "p_z_nu_1 = alpha_1*(df.pi_pz_1_br + df.pi0_pz_1_br)\n",
    "p_z_nu_2 = alpha_2*(df.pi_pz_2_br + df.pi0_pz_2_br)\n",
    "E_nu_1 = (m_tau**2 - (df.pi_E_1_br+df.pi0_E_1_br)**2 + (df.pi_pz_1_br + df.pi0_pz_1_br)\n",
    "          ** 2 + 2*p_z_nu_1*(df.pi_pz_1_br + df.pi0_pz_1_br))/(2*(df.pi_E_1_br+df.pi0_E_1_br))\n",
    "E_nu_2 = (m_tau**2 - (df.pi_E_2_br+df.pi0_E_2_br)**2 + (df.pi_pz_2_br + df.pi0_pz_2_br)\n",
    "          ** 2 + 2*p_z_nu_2*(df.pi_pz_2_br + df.pi0_pz_2_br))/(2*(df.pi_E_2_br+df.pi0_E_2_br))\n",
    "p_t_nu_1 = np.sqrt(np.array(E_nu_1)**2 - np.array(p_z_nu_1)**2)\n",
    "p_t_nu_2 = np.sqrt(np.array(E_nu_2)**2 - np.array(p_z_nu_2)**2)\n",
    "df['alpha_1'] = alpha_1\n",
    "df['alpha_2'] = alpha_2\n",
    "df['E_nu_1'] = E_nu_1\n",
    "df['E_nu_2'] = E_nu_2\n",
    "df['p_t_nu_1'] = p_t_nu_1\n",
    "df['p_t_nu_2'] = p_t_nu_2\n",
    "df['p_z_nu_1'] = p_z_nu_1\n",
    "df['p_z_nu_2'] = p_z_nu_2\n",
    "df_red = df[(df['alpha_1'] > 0) & (df['alpha_2'] > 0) & (\n",
    "            df['E_nu_1'] > 0) & (df['E_nu_2'] > 0) & (~np.isnan(df['p_t_nu_1'])) & (~np.isnan(df['p_t_nu_2']))].reset_index(drop=True)"
   ]
  },
  {
   "cell_type": "code",
   "execution_count": 15,
   "metadata": {
    "scrolled": true
   },
   "outputs": [
    {
     "data": {
      "text/html": [
       "<div>\n",
       "<style scoped>\n",
       "    .dataframe tbody tr th:only-of-type {\n",
       "        vertical-align: middle;\n",
       "    }\n",
       "\n",
       "    .dataframe tbody tr th {\n",
       "        vertical-align: top;\n",
       "    }\n",
       "\n",
       "    .dataframe thead th {\n",
       "        text-align: right;\n",
       "    }\n",
       "</style>\n",
       "<table border=\"1\" class=\"dataframe\">\n",
       "  <thead>\n",
       "    <tr style=\"text-align: right;\">\n",
       "      <th></th>\n",
       "      <th>pi_E_1_br</th>\n",
       "      <th>pi_px_1_br</th>\n",
       "      <th>pi_py_1_br</th>\n",
       "      <th>pi_pz_1_br</th>\n",
       "      <th>pi_E_2_br</th>\n",
       "      <th>pi_px_2_br</th>\n",
       "      <th>pi_py_2_br</th>\n",
       "      <th>pi_pz_2_br</th>\n",
       "      <th>pi0_E_1_br</th>\n",
       "      <th>pi0_px_1_br</th>\n",
       "      <th>...</th>\n",
       "      <th>m_1</th>\n",
       "      <th>m_2</th>\n",
       "      <th>alpha_1</th>\n",
       "      <th>alpha_2</th>\n",
       "      <th>E_nu_1</th>\n",
       "      <th>E_nu_2</th>\n",
       "      <th>p_t_nu_1</th>\n",
       "      <th>p_t_nu_2</th>\n",
       "      <th>p_z_nu_1</th>\n",
       "      <th>p_z_nu_2</th>\n",
       "    </tr>\n",
       "    <tr>\n",
       "      <th>entry</th>\n",
       "      <th></th>\n",
       "      <th></th>\n",
       "      <th></th>\n",
       "      <th></th>\n",
       "      <th></th>\n",
       "      <th></th>\n",
       "      <th></th>\n",
       "      <th></th>\n",
       "      <th></th>\n",
       "      <th></th>\n",
       "      <th></th>\n",
       "      <th></th>\n",
       "      <th></th>\n",
       "      <th></th>\n",
       "      <th></th>\n",
       "      <th></th>\n",
       "      <th></th>\n",
       "      <th></th>\n",
       "      <th></th>\n",
       "      <th></th>\n",
       "      <th></th>\n",
       "    </tr>\n",
       "  </thead>\n",
       "  <tbody>\n",
       "    <tr>\n",
       "      <th>8</th>\n",
       "      <td>38.866249</td>\n",
       "      <td>0.429429</td>\n",
       "      <td>-0.133119</td>\n",
       "      <td>38.863398</td>\n",
       "      <td>40.456445</td>\n",
       "      <td>-0.509745</td>\n",
       "      <td>-0.094749</td>\n",
       "      <td>-40.452882</td>\n",
       "      <td>8.569687</td>\n",
       "      <td>-0.429429</td>\n",
       "      <td>...</td>\n",
       "      <td>1.220952</td>\n",
       "      <td>1.512969</td>\n",
       "      <td>-1.000000</td>\n",
       "      <td>-1.000000</td>\n",
       "      <td>-47.386977</td>\n",
       "      <td>-47.386986</td>\n",
       "      <td>NaN</td>\n",
       "      <td>NaN</td>\n",
       "      <td>-47.420221</td>\n",
       "      <td>47.420221</td>\n",
       "    </tr>\n",
       "    <tr>\n",
       "      <th>25</th>\n",
       "      <td>17.175150</td>\n",
       "      <td>0.213861</td>\n",
       "      <td>0.469040</td>\n",
       "      <td>17.166846</td>\n",
       "      <td>9.529103</td>\n",
       "      <td>0.210109</td>\n",
       "      <td>-0.089910</td>\n",
       "      <td>-9.525340</td>\n",
       "      <td>29.088943</td>\n",
       "      <td>-0.213861</td>\n",
       "      <td>...</td>\n",
       "      <td>1.104476</td>\n",
       "      <td>0.660891</td>\n",
       "      <td>1.405986</td>\n",
       "      <td>5.760983</td>\n",
       "      <td>65.030490</td>\n",
       "      <td>266.452856</td>\n",
       "      <td>0.555376</td>\n",
       "      <td>1.076724</td>\n",
       "      <td>65.028118</td>\n",
       "      <td>-266.450680</td>\n",
       "    </tr>\n",
       "    <tr>\n",
       "      <th>27</th>\n",
       "      <td>8.526993</td>\n",
       "      <td>0.209425</td>\n",
       "      <td>0.197722</td>\n",
       "      <td>8.520985</td>\n",
       "      <td>10.630995</td>\n",
       "      <td>-0.242771</td>\n",
       "      <td>-0.036193</td>\n",
       "      <td>-10.627246</td>\n",
       "      <td>37.577339</td>\n",
       "      <td>-0.209425</td>\n",
       "      <td>...</td>\n",
       "      <td>0.823420</td>\n",
       "      <td>0.669092</td>\n",
       "      <td>2.929308</td>\n",
       "      <td>0.525376</td>\n",
       "      <td>135.037562</td>\n",
       "      <td>24.245046</td>\n",
       "      <td>1.198206</td>\n",
       "      <td>1.139712</td>\n",
       "      <td>135.032246</td>\n",
       "      <td>-24.218243</td>\n",
       "    </tr>\n",
       "    <tr>\n",
       "      <th>45</th>\n",
       "      <td>41.836730</td>\n",
       "      <td>-0.050458</td>\n",
       "      <td>-0.144726</td>\n",
       "      <td>41.836217</td>\n",
       "      <td>2.599469</td>\n",
       "      <td>0.099976</td>\n",
       "      <td>0.004286</td>\n",
       "      <td>-2.593793</td>\n",
       "      <td>11.395560</td>\n",
       "      <td>0.050458</td>\n",
       "      <td>...</td>\n",
       "      <td>0.499415</td>\n",
       "      <td>0.796268</td>\n",
       "      <td>0.497134</td>\n",
       "      <td>1.975634</td>\n",
       "      <td>26.488511</td>\n",
       "      <td>105.174797</td>\n",
       "      <td>1.176025</td>\n",
       "      <td>1.582437</td>\n",
       "      <td>26.462392</td>\n",
       "      <td>-105.162891</td>\n",
       "    </tr>\n",
       "    <tr>\n",
       "      <th>50</th>\n",
       "      <td>23.455746</td>\n",
       "      <td>0.115471</td>\n",
       "      <td>-0.337611</td>\n",
       "      <td>23.452617</td>\n",
       "      <td>25.232731</td>\n",
       "      <td>-0.068646</td>\n",
       "      <td>0.327903</td>\n",
       "      <td>-25.230121</td>\n",
       "      <td>21.066138</td>\n",
       "      <td>-0.115471</td>\n",
       "      <td>...</td>\n",
       "      <td>0.765599</td>\n",
       "      <td>0.730365</td>\n",
       "      <td>2.691481</td>\n",
       "      <td>3.238841</td>\n",
       "      <td>119.823204</td>\n",
       "      <td>144.188002</td>\n",
       "      <td>1.632730</td>\n",
       "      <td>1.700731</td>\n",
       "      <td>119.812080</td>\n",
       "      <td>-144.177972</td>\n",
       "    </tr>\n",
       "  </tbody>\n",
       "</table>\n",
       "<p>5 rows × 39 columns</p>\n",
       "</div>"
      ],
      "text/plain": [
       "       pi_E_1_br  pi_px_1_br  pi_py_1_br  pi_pz_1_br  pi_E_2_br  pi_px_2_br  \\\n",
       "entry                                                                         \n",
       "8      38.866249    0.429429   -0.133119   38.863398  40.456445   -0.509745   \n",
       "25     17.175150    0.213861    0.469040   17.166846   9.529103    0.210109   \n",
       "27      8.526993    0.209425    0.197722    8.520985  10.630995   -0.242771   \n",
       "45     41.836730   -0.050458   -0.144726   41.836217   2.599469    0.099976   \n",
       "50     23.455746    0.115471   -0.337611   23.452617  25.232731   -0.068646   \n",
       "\n",
       "       pi_py_2_br  pi_pz_2_br  pi0_E_1_br  pi0_px_1_br  ...       m_1  \\\n",
       "entry                                                   ...             \n",
       "8       -0.094749  -40.452882    8.569687    -0.429429  ...  1.220952   \n",
       "25      -0.089910   -9.525340   29.088943    -0.213861  ...  1.104476   \n",
       "27      -0.036193  -10.627246   37.577339    -0.209425  ...  0.823420   \n",
       "45       0.004286   -2.593793   11.395560     0.050458  ...  0.499415   \n",
       "50       0.327903  -25.230121   21.066138    -0.115471  ...  0.765599   \n",
       "\n",
       "            m_2   alpha_1   alpha_2      E_nu_1      E_nu_2  p_t_nu_1  \\\n",
       "entry                                                                   \n",
       "8      1.512969 -1.000000 -1.000000  -47.386977  -47.386986       NaN   \n",
       "25     0.660891  1.405986  5.760983   65.030490  266.452856  0.555376   \n",
       "27     0.669092  2.929308  0.525376  135.037562   24.245046  1.198206   \n",
       "45     0.796268  0.497134  1.975634   26.488511  105.174797  1.176025   \n",
       "50     0.730365  2.691481  3.238841  119.823204  144.188002  1.632730   \n",
       "\n",
       "       p_t_nu_2    p_z_nu_1    p_z_nu_2  \n",
       "entry                                    \n",
       "8           NaN  -47.420221   47.420221  \n",
       "25     1.076724   65.028118 -266.450680  \n",
       "27     1.139712  135.032246  -24.218243  \n",
       "45     1.582437   26.462392 -105.162891  \n",
       "50     1.700731  119.812080 -144.177972  \n",
       "\n",
       "[5 rows x 39 columns]"
      ]
     },
     "execution_count": 15,
     "metadata": {},
     "output_type": "execute_result"
    }
   ],
   "source": [
    "df.head()"
   ]
  },
  {
   "cell_type": "code",
   "execution_count": 16,
   "metadata": {},
   "outputs": [
    {
     "data": {
      "text/html": [
       "<div>\n",
       "<style scoped>\n",
       "    .dataframe tbody tr th:only-of-type {\n",
       "        vertical-align: middle;\n",
       "    }\n",
       "\n",
       "    .dataframe tbody tr th {\n",
       "        vertical-align: top;\n",
       "    }\n",
       "\n",
       "    .dataframe thead th {\n",
       "        text-align: right;\n",
       "    }\n",
       "</style>\n",
       "<table border=\"1\" class=\"dataframe\">\n",
       "  <thead>\n",
       "    <tr style=\"text-align: right;\">\n",
       "      <th></th>\n",
       "      <th>pi_E_1_br</th>\n",
       "      <th>pi_px_1_br</th>\n",
       "      <th>pi_py_1_br</th>\n",
       "      <th>pi_pz_1_br</th>\n",
       "      <th>pi_E_2_br</th>\n",
       "      <th>pi_px_2_br</th>\n",
       "      <th>pi_py_2_br</th>\n",
       "      <th>pi_pz_2_br</th>\n",
       "      <th>pi0_E_1_br</th>\n",
       "      <th>pi0_px_1_br</th>\n",
       "      <th>...</th>\n",
       "      <th>m_1</th>\n",
       "      <th>m_2</th>\n",
       "      <th>alpha_1</th>\n",
       "      <th>alpha_2</th>\n",
       "      <th>E_nu_1</th>\n",
       "      <th>E_nu_2</th>\n",
       "      <th>p_t_nu_1</th>\n",
       "      <th>p_t_nu_2</th>\n",
       "      <th>p_z_nu_1</th>\n",
       "      <th>p_z_nu_2</th>\n",
       "    </tr>\n",
       "  </thead>\n",
       "  <tbody>\n",
       "    <tr>\n",
       "      <th>0</th>\n",
       "      <td>17.175150</td>\n",
       "      <td>0.213861</td>\n",
       "      <td>0.469040</td>\n",
       "      <td>17.166846</td>\n",
       "      <td>9.529103</td>\n",
       "      <td>0.210109</td>\n",
       "      <td>-0.089910</td>\n",
       "      <td>-9.525340</td>\n",
       "      <td>29.088943</td>\n",
       "      <td>-0.213861</td>\n",
       "      <td>...</td>\n",
       "      <td>1.104476</td>\n",
       "      <td>0.660891</td>\n",
       "      <td>1.405986</td>\n",
       "      <td>5.760983</td>\n",
       "      <td>65.030490</td>\n",
       "      <td>266.452856</td>\n",
       "      <td>0.555376</td>\n",
       "      <td>1.076724</td>\n",
       "      <td>65.028118</td>\n",
       "      <td>-266.450680</td>\n",
       "    </tr>\n",
       "    <tr>\n",
       "      <th>1</th>\n",
       "      <td>8.526993</td>\n",
       "      <td>0.209425</td>\n",
       "      <td>0.197722</td>\n",
       "      <td>8.520985</td>\n",
       "      <td>10.630995</td>\n",
       "      <td>-0.242771</td>\n",
       "      <td>-0.036193</td>\n",
       "      <td>-10.627246</td>\n",
       "      <td>37.577339</td>\n",
       "      <td>-0.209425</td>\n",
       "      <td>...</td>\n",
       "      <td>0.823420</td>\n",
       "      <td>0.669092</td>\n",
       "      <td>2.929308</td>\n",
       "      <td>0.525376</td>\n",
       "      <td>135.037562</td>\n",
       "      <td>24.245046</td>\n",
       "      <td>1.198206</td>\n",
       "      <td>1.139712</td>\n",
       "      <td>135.032246</td>\n",
       "      <td>-24.218243</td>\n",
       "    </tr>\n",
       "    <tr>\n",
       "      <th>2</th>\n",
       "      <td>41.836730</td>\n",
       "      <td>-0.050458</td>\n",
       "      <td>-0.144726</td>\n",
       "      <td>41.836217</td>\n",
       "      <td>2.599469</td>\n",
       "      <td>0.099976</td>\n",
       "      <td>0.004286</td>\n",
       "      <td>-2.593793</td>\n",
       "      <td>11.395560</td>\n",
       "      <td>0.050458</td>\n",
       "      <td>...</td>\n",
       "      <td>0.499415</td>\n",
       "      <td>0.796268</td>\n",
       "      <td>0.497134</td>\n",
       "      <td>1.975634</td>\n",
       "      <td>26.488511</td>\n",
       "      <td>105.174797</td>\n",
       "      <td>1.176025</td>\n",
       "      <td>1.582437</td>\n",
       "      <td>26.462392</td>\n",
       "      <td>-105.162891</td>\n",
       "    </tr>\n",
       "    <tr>\n",
       "      <th>3</th>\n",
       "      <td>23.455746</td>\n",
       "      <td>0.115471</td>\n",
       "      <td>-0.337611</td>\n",
       "      <td>23.452617</td>\n",
       "      <td>25.232731</td>\n",
       "      <td>-0.068646</td>\n",
       "      <td>0.327903</td>\n",
       "      <td>-25.230121</td>\n",
       "      <td>21.066138</td>\n",
       "      <td>-0.115471</td>\n",
       "      <td>...</td>\n",
       "      <td>0.765599</td>\n",
       "      <td>0.730365</td>\n",
       "      <td>2.691481</td>\n",
       "      <td>3.238841</td>\n",
       "      <td>119.823204</td>\n",
       "      <td>144.188002</td>\n",
       "      <td>1.632730</td>\n",
       "      <td>1.700731</td>\n",
       "      <td>119.812080</td>\n",
       "      <td>-144.177972</td>\n",
       "    </tr>\n",
       "    <tr>\n",
       "      <th>4</th>\n",
       "      <td>5.760700</td>\n",
       "      <td>0.068916</td>\n",
       "      <td>0.228395</td>\n",
       "      <td>5.754067</td>\n",
       "      <td>21.168171</td>\n",
       "      <td>-0.077786</td>\n",
       "      <td>0.321893</td>\n",
       "      <td>-21.165121</td>\n",
       "      <td>36.728783</td>\n",
       "      <td>-0.068916</td>\n",
       "      <td>...</td>\n",
       "      <td>0.806553</td>\n",
       "      <td>0.716946</td>\n",
       "      <td>1.007152</td>\n",
       "      <td>0.049665</td>\n",
       "      <td>42.807425</td>\n",
       "      <td>2.140627</td>\n",
       "      <td>1.364509</td>\n",
       "      <td>0.361641</td>\n",
       "      <td>42.785672</td>\n",
       "      <td>-2.109857</td>\n",
       "    </tr>\n",
       "  </tbody>\n",
       "</table>\n",
       "<p>5 rows × 39 columns</p>\n",
       "</div>"
      ],
      "text/plain": [
       "   pi_E_1_br  pi_px_1_br  pi_py_1_br  pi_pz_1_br  pi_E_2_br  pi_px_2_br  \\\n",
       "0  17.175150    0.213861    0.469040   17.166846   9.529103    0.210109   \n",
       "1   8.526993    0.209425    0.197722    8.520985  10.630995   -0.242771   \n",
       "2  41.836730   -0.050458   -0.144726   41.836217   2.599469    0.099976   \n",
       "3  23.455746    0.115471   -0.337611   23.452617  25.232731   -0.068646   \n",
       "4   5.760700    0.068916    0.228395    5.754067  21.168171   -0.077786   \n",
       "\n",
       "   pi_py_2_br  pi_pz_2_br  pi0_E_1_br  pi0_px_1_br  ...       m_1       m_2  \\\n",
       "0   -0.089910   -9.525340   29.088943    -0.213861  ...  1.104476  0.660891   \n",
       "1   -0.036193  -10.627246   37.577339    -0.209425  ...  0.823420  0.669092   \n",
       "2    0.004286   -2.593793   11.395560     0.050458  ...  0.499415  0.796268   \n",
       "3    0.327903  -25.230121   21.066138    -0.115471  ...  0.765599  0.730365   \n",
       "4    0.321893  -21.165121   36.728783    -0.068916  ...  0.806553  0.716946   \n",
       "\n",
       "    alpha_1   alpha_2      E_nu_1      E_nu_2  p_t_nu_1  p_t_nu_2    p_z_nu_1  \\\n",
       "0  1.405986  5.760983   65.030490  266.452856  0.555376  1.076724   65.028118   \n",
       "1  2.929308  0.525376  135.037562   24.245046  1.198206  1.139712  135.032246   \n",
       "2  0.497134  1.975634   26.488511  105.174797  1.176025  1.582437   26.462392   \n",
       "3  2.691481  3.238841  119.823204  144.188002  1.632730  1.700731  119.812080   \n",
       "4  1.007152  0.049665   42.807425    2.140627  1.364509  0.361641   42.785672   \n",
       "\n",
       "     p_z_nu_2  \n",
       "0 -266.450680  \n",
       "1  -24.218243  \n",
       "2 -105.162891  \n",
       "3 -144.177972  \n",
       "4   -2.109857  \n",
       "\n",
       "[5 rows x 39 columns]"
      ]
     },
     "execution_count": 16,
     "metadata": {},
     "output_type": "execute_result"
    }
   ],
   "source": [
    "df_red.head()"
   ]
  },
  {
   "cell_type": "code",
   "execution_count": 17,
   "metadata": {
    "scrolled": true
   },
   "outputs": [
    {
     "name": "stdout",
     "output_type": "stream",
     "text": [
      "(998268, 39) (862747, 39)\n"
     ]
    }
   ],
   "source": [
    "print(df.shape, df_red.shape)"
   ]
  },
  {
   "cell_type": "code",
   "execution_count": 21,
   "metadata": {},
   "outputs": [],
   "source": [
    "debug = pd.read_pickle('../shared/misc/debugging.pkl')"
   ]
  },
  {
   "cell_type": "code",
   "execution_count": 22,
   "metadata": {},
   "outputs": [
    {
     "data": {
      "text/html": [
       "<div>\n",
       "<style scoped>\n",
       "    .dataframe tbody tr th:only-of-type {\n",
       "        vertical-align: middle;\n",
       "    }\n",
       "\n",
       "    .dataframe tbody tr th {\n",
       "        vertical-align: top;\n",
       "    }\n",
       "\n",
       "    .dataframe thead th {\n",
       "        text-align: right;\n",
       "    }\n",
       "</style>\n",
       "<table border=\"1\" class=\"dataframe\">\n",
       "  <thead>\n",
       "    <tr style=\"text-align: right;\">\n",
       "      <th></th>\n",
       "      <th>wt_cp_sm</th>\n",
       "      <th>wt_cp_ps</th>\n",
       "      <th>wt_cp_mm</th>\n",
       "      <th>rand</th>\n",
       "      <th>aco_angle_1</th>\n",
       "      <th>mva_dm_1</th>\n",
       "      <th>mva_dm_2</th>\n",
       "      <th>tau_decay_mode_1</th>\n",
       "      <th>tau_decay_mode_2</th>\n",
       "      <th>pi_E_1</th>\n",
       "      <th>...</th>\n",
       "      <th>pi0_py_2_br</th>\n",
       "      <th>pi0_pz_2_br</th>\n",
       "      <th>rho_E_1_br</th>\n",
       "      <th>rho_px_1_br</th>\n",
       "      <th>rho_py_1_br</th>\n",
       "      <th>rho_pz_1_br</th>\n",
       "      <th>rho_E_2_br</th>\n",
       "      <th>rho_px_2_br</th>\n",
       "      <th>rho_py_2_br</th>\n",
       "      <th>rho_pz_2_br</th>\n",
       "    </tr>\n",
       "  </thead>\n",
       "  <tbody>\n",
       "    <tr>\n",
       "      <th>0</th>\n",
       "      <td>1.461517</td>\n",
       "      <td>0.400455</td>\n",
       "      <td>0.172710</td>\n",
       "      <td>0.132842</td>\n",
       "      <td>3.750274</td>\n",
       "      <td>1</td>\n",
       "      <td>1</td>\n",
       "      <td>1</td>\n",
       "      <td>1</td>\n",
       "      <td>15.319610</td>\n",
       "      <td>...</td>\n",
       "      <td>-0.613245</td>\n",
       "      <td>-31.758861</td>\n",
       "      <td>-51.486336</td>\n",
       "      <td>8.881784e-16</td>\n",
       "      <td>1.998401e-15</td>\n",
       "      <td>51.479751</td>\n",
       "      <td>-41.285669</td>\n",
       "      <td>0.236660</td>\n",
       "      <td>-0.674888</td>\n",
       "      <td>-41.274051</td>\n",
       "    </tr>\n",
       "    <tr>\n",
       "      <th>1</th>\n",
       "      <td>1.039988</td>\n",
       "      <td>1.032860</td>\n",
       "      <td>1.851815</td>\n",
       "      <td>0.273736</td>\n",
       "      <td>3.907006</td>\n",
       "      <td>1</td>\n",
       "      <td>1</td>\n",
       "      <td>1</td>\n",
       "      <td>1</td>\n",
       "      <td>11.713255</td>\n",
       "      <td>...</td>\n",
       "      <td>-0.548184</td>\n",
       "      <td>-19.068177</td>\n",
       "      <td>-72.112911</td>\n",
       "      <td>0.000000e+00</td>\n",
       "      <td>0.000000e+00</td>\n",
       "      <td>72.108722</td>\n",
       "      <td>-34.290218</td>\n",
       "      <td>0.050935</td>\n",
       "      <td>-0.555864</td>\n",
       "      <td>-34.277111</td>\n",
       "    </tr>\n",
       "    <tr>\n",
       "      <th>2</th>\n",
       "      <td>1.233705</td>\n",
       "      <td>0.818909</td>\n",
       "      <td>1.977420</td>\n",
       "      <td>0.476740</td>\n",
       "      <td>1.669376</td>\n",
       "      <td>1</td>\n",
       "      <td>1</td>\n",
       "      <td>1</td>\n",
       "      <td>1</td>\n",
       "      <td>32.092762</td>\n",
       "      <td>...</td>\n",
       "      <td>0.166618</td>\n",
       "      <td>-37.136456</td>\n",
       "      <td>-52.754167</td>\n",
       "      <td>0.000000e+00</td>\n",
       "      <td>0.000000e+00</td>\n",
       "      <td>52.747636</td>\n",
       "      <td>-54.930906</td>\n",
       "      <td>-1.486436</td>\n",
       "      <td>0.508467</td>\n",
       "      <td>-54.901333</td>\n",
       "    </tr>\n",
       "    <tr>\n",
       "      <th>3</th>\n",
       "      <td>0.637660</td>\n",
       "      <td>1.573227</td>\n",
       "      <td>1.411204</td>\n",
       "      <td>0.210112</td>\n",
       "      <td>6.073213</td>\n",
       "      <td>1</td>\n",
       "      <td>1</td>\n",
       "      <td>1</td>\n",
       "      <td>1</td>\n",
       "      <td>28.916900</td>\n",
       "      <td>...</td>\n",
       "      <td>0.072026</td>\n",
       "      <td>-8.164366</td>\n",
       "      <td>-75.087131</td>\n",
       "      <td>6.217249e-15</td>\n",
       "      <td>-7.105427e-15</td>\n",
       "      <td>75.082471</td>\n",
       "      <td>-31.822398</td>\n",
       "      <td>0.127009</td>\n",
       "      <td>0.079273</td>\n",
       "      <td>-31.814351</td>\n",
       "    </tr>\n",
       "    <tr>\n",
       "      <th>4</th>\n",
       "      <td>1.413101</td>\n",
       "      <td>0.418718</td>\n",
       "      <td>1.671304</td>\n",
       "      <td>0.351982</td>\n",
       "      <td>2.413196</td>\n",
       "      <td>1</td>\n",
       "      <td>1</td>\n",
       "      <td>1</td>\n",
       "      <td>1</td>\n",
       "      <td>33.761218</td>\n",
       "      <td>...</td>\n",
       "      <td>-0.070942</td>\n",
       "      <td>-8.672484</td>\n",
       "      <td>-44.943796</td>\n",
       "      <td>3.552714e-15</td>\n",
       "      <td>-3.552714e-15</td>\n",
       "      <td>44.932405</td>\n",
       "      <td>-41.078243</td>\n",
       "      <td>-0.449991</td>\n",
       "      <td>-0.178526</td>\n",
       "      <td>-41.073657</td>\n",
       "    </tr>\n",
       "  </tbody>\n",
       "</table>\n",
       "<p>5 rows × 64 columns</p>\n",
       "</div>"
      ],
      "text/plain": [
       "   wt_cp_sm  wt_cp_ps  wt_cp_mm      rand  aco_angle_1  mva_dm_1  mva_dm_2  \\\n",
       "0  1.461517  0.400455  0.172710  0.132842     3.750274         1         1   \n",
       "1  1.039988  1.032860  1.851815  0.273736     3.907006         1         1   \n",
       "2  1.233705  0.818909  1.977420  0.476740     1.669376         1         1   \n",
       "3  0.637660  1.573227  1.411204  0.210112     6.073213         1         1   \n",
       "4  1.413101  0.418718  1.671304  0.351982     2.413196         1         1   \n",
       "\n",
       "   tau_decay_mode_1  tau_decay_mode_2     pi_E_1  ...  pi0_py_2_br  \\\n",
       "0                 1                 1  15.319610  ...    -0.613245   \n",
       "1                 1                 1  11.713255  ...    -0.548184   \n",
       "2                 1                 1  32.092762  ...     0.166618   \n",
       "3                 1                 1  28.916900  ...     0.072026   \n",
       "4                 1                 1  33.761218  ...    -0.070942   \n",
       "\n",
       "   pi0_pz_2_br  rho_E_1_br   rho_px_1_br   rho_py_1_br  rho_pz_1_br  \\\n",
       "0   -31.758861  -51.486336  8.881784e-16  1.998401e-15    51.479751   \n",
       "1   -19.068177  -72.112911  0.000000e+00  0.000000e+00    72.108722   \n",
       "2   -37.136456  -52.754167  0.000000e+00  0.000000e+00    52.747636   \n",
       "3    -8.164366  -75.087131  6.217249e-15 -7.105427e-15    75.082471   \n",
       "4    -8.672484  -44.943796  3.552714e-15 -3.552714e-15    44.932405   \n",
       "\n",
       "   rho_E_2_br  rho_px_2_br  rho_py_2_br  rho_pz_2_br  \n",
       "0  -41.285669     0.236660    -0.674888   -41.274051  \n",
       "1  -34.290218     0.050935    -0.555864   -34.277111  \n",
       "2  -54.930906    -1.486436     0.508467   -54.901333  \n",
       "3  -31.822398     0.127009     0.079273   -31.814351  \n",
       "4  -41.078243    -0.449991    -0.178526   -41.073657  \n",
       "\n",
       "[5 rows x 64 columns]"
      ]
     },
     "execution_count": 22,
     "metadata": {},
     "output_type": "execute_result"
    }
   ],
   "source": [
    "debug.head()"
   ]
  },
  {
   "cell_type": "code",
   "execution_count": 23,
   "metadata": {},
   "outputs": [
    {
     "data": {
      "text/plain": [
       "(987883, 64)"
      ]
     },
     "execution_count": 23,
     "metadata": {},
     "output_type": "execute_result"
    }
   ],
   "source": [
    "debug.shape"
   ]
  },
  {
   "cell_type": "code",
   "execution_count": 24,
   "metadata": {},
   "outputs": [],
   "source": [
    "debug_2 = pd.read_pickle('../shared/misc/debugging_2.pkl')"
   ]
  },
  {
   "cell_type": "code",
   "execution_count": 26,
   "metadata": {},
   "outputs": [
    {
     "data": {
      "text/plain": [
       "Index(['wt_cp_sm', 'wt_cp_ps', 'wt_cp_mm', 'rand', 'aco_angle_1', 'mva_dm_1',\n",
       "       'mva_dm_2', 'tau_decay_mode_1', 'tau_decay_mode_2', 'pi_E_1', 'pi_px_1',\n",
       "       'pi_py_1', 'pi_pz_1', 'pi_E_2', 'pi_px_2', 'pi_py_2', 'pi_pz_2',\n",
       "       'pi0_E_1', 'pi0_px_1', 'pi0_py_1', 'pi0_pz_1', 'pi0_E_2', 'pi0_px_2',\n",
       "       'pi0_py_2', 'pi0_pz_2', 'y_1_1', 'y_1_2', 'met', 'metx', 'mety',\n",
       "       'metcov00', 'metcov01', 'metcov10', 'metcov11', 'gen_nu_p_1',\n",
       "       'gen_nu_phi_1', 'gen_nu_eta_1', 'gen_nu_p_2', 'gen_nu_phi_2',\n",
       "       'gen_nu_eta_2', 'pi_E_1_br', 'pi_px_1_br', 'pi_py_1_br', 'pi_pz_1_br',\n",
       "       'pi_E_2_br', 'pi_px_2_br', 'pi_py_2_br', 'pi_pz_2_br', 'pi0_E_1_br',\n",
       "       'pi0_px_1_br', 'pi0_py_1_br', 'pi0_pz_1_br', 'pi0_E_2_br',\n",
       "       'pi0_px_2_br', 'pi0_py_2_br', 'pi0_pz_2_br', 'rho_E_1_br',\n",
       "       'rho_px_1_br', 'rho_py_1_br', 'rho_pz_1_br', 'rho_E_2_br',\n",
       "       'rho_px_2_br', 'rho_py_2_br', 'rho_pz_2_br'],\n",
       "      dtype='object')"
      ]
     },
     "execution_count": 26,
     "metadata": {},
     "output_type": "execute_result"
    }
   ],
   "source": [
    "debug_2.columns"
   ]
  },
  {
   "cell_type": "code",
   "execution_count": 25,
   "metadata": {},
   "outputs": [
    {
     "data": {
      "text/html": [
       "<div>\n",
       "<style scoped>\n",
       "    .dataframe tbody tr th:only-of-type {\n",
       "        vertical-align: middle;\n",
       "    }\n",
       "\n",
       "    .dataframe tbody tr th {\n",
       "        vertical-align: top;\n",
       "    }\n",
       "\n",
       "    .dataframe thead th {\n",
       "        text-align: right;\n",
       "    }\n",
       "</style>\n",
       "<table border=\"1\" class=\"dataframe\">\n",
       "  <thead>\n",
       "    <tr style=\"text-align: right;\">\n",
       "      <th></th>\n",
       "      <th>wt_cp_sm</th>\n",
       "      <th>wt_cp_ps</th>\n",
       "      <th>wt_cp_mm</th>\n",
       "      <th>rand</th>\n",
       "      <th>aco_angle_1</th>\n",
       "      <th>mva_dm_1</th>\n",
       "      <th>mva_dm_2</th>\n",
       "      <th>tau_decay_mode_1</th>\n",
       "      <th>tau_decay_mode_2</th>\n",
       "      <th>pi_E_1</th>\n",
       "      <th>...</th>\n",
       "      <th>pi0_py_2_br</th>\n",
       "      <th>pi0_pz_2_br</th>\n",
       "      <th>rho_E_1_br</th>\n",
       "      <th>rho_px_1_br</th>\n",
       "      <th>rho_py_1_br</th>\n",
       "      <th>rho_pz_1_br</th>\n",
       "      <th>rho_E_2_br</th>\n",
       "      <th>rho_px_2_br</th>\n",
       "      <th>rho_py_2_br</th>\n",
       "      <th>rho_pz_2_br</th>\n",
       "    </tr>\n",
       "    <tr>\n",
       "      <th>entry</th>\n",
       "      <th></th>\n",
       "      <th></th>\n",
       "      <th></th>\n",
       "      <th></th>\n",
       "      <th></th>\n",
       "      <th></th>\n",
       "      <th></th>\n",
       "      <th></th>\n",
       "      <th></th>\n",
       "      <th></th>\n",
       "      <th></th>\n",
       "      <th></th>\n",
       "      <th></th>\n",
       "      <th></th>\n",
       "      <th></th>\n",
       "      <th></th>\n",
       "      <th></th>\n",
       "      <th></th>\n",
       "      <th></th>\n",
       "      <th></th>\n",
       "      <th></th>\n",
       "    </tr>\n",
       "  </thead>\n",
       "  <tbody>\n",
       "    <tr>\n",
       "      <th>8</th>\n",
       "      <td>1.228852</td>\n",
       "      <td>0.950417</td>\n",
       "      <td>0.223672</td>\n",
       "      <td>0.861532</td>\n",
       "      <td>2.657029</td>\n",
       "      <td>1</td>\n",
       "      <td>1</td>\n",
       "      <td>1</td>\n",
       "      <td>1</td>\n",
       "      <td>45.423448</td>\n",
       "      <td>...</td>\n",
       "      <td>-0.489717</td>\n",
       "      <td>-6.827801</td>\n",
       "      <td>-48.396094</td>\n",
       "      <td>0.000000e+00</td>\n",
       "      <td>0.000000e+00</td>\n",
       "      <td>48.380690</td>\n",
       "      <td>-46.503688</td>\n",
       "      <td>-0.146724</td>\n",
       "      <td>-0.242363</td>\n",
       "      <td>-46.478206</td>\n",
       "    </tr>\n",
       "    <tr>\n",
       "      <th>25</th>\n",
       "      <td>0.124674</td>\n",
       "      <td>1.936855</td>\n",
       "      <td>1.318387</td>\n",
       "      <td>0.932849</td>\n",
       "      <td>1.547246</td>\n",
       "      <td>1</td>\n",
       "      <td>1</td>\n",
       "      <td>1</td>\n",
       "      <td>1</td>\n",
       "      <td>24.506373</td>\n",
       "      <td>...</td>\n",
       "      <td>-2.249592</td>\n",
       "      <td>-49.257639</td>\n",
       "      <td>-34.479200</td>\n",
       "      <td>-3.552714e-15</td>\n",
       "      <td>8.881784e-16</td>\n",
       "      <td>34.461506</td>\n",
       "      <td>-62.102037</td>\n",
       "      <td>-0.805666</td>\n",
       "      <td>-2.640589</td>\n",
       "      <td>-62.037121</td>\n",
       "    </tr>\n",
       "    <tr>\n",
       "      <th>27</th>\n",
       "      <td>1.461517</td>\n",
       "      <td>0.400455</td>\n",
       "      <td>0.172710</td>\n",
       "      <td>0.132842</td>\n",
       "      <td>3.750274</td>\n",
       "      <td>1</td>\n",
       "      <td>1</td>\n",
       "      <td>1</td>\n",
       "      <td>1</td>\n",
       "      <td>15.319610</td>\n",
       "      <td>...</td>\n",
       "      <td>-0.613245</td>\n",
       "      <td>-31.758861</td>\n",
       "      <td>-51.486336</td>\n",
       "      <td>8.881784e-16</td>\n",
       "      <td>1.998401e-15</td>\n",
       "      <td>51.479751</td>\n",
       "      <td>-41.285669</td>\n",
       "      <td>0.236660</td>\n",
       "      <td>-0.674888</td>\n",
       "      <td>-41.274051</td>\n",
       "    </tr>\n",
       "    <tr>\n",
       "      <th>45</th>\n",
       "      <td>0.059870</td>\n",
       "      <td>0.061072</td>\n",
       "      <td>0.111744</td>\n",
       "      <td>0.514073</td>\n",
       "      <td>1.192612</td>\n",
       "      <td>1</td>\n",
       "      <td>1</td>\n",
       "      <td>1</td>\n",
       "      <td>1</td>\n",
       "      <td>94.211361</td>\n",
       "      <td>...</td>\n",
       "      <td>0.701113</td>\n",
       "      <td>-203.232803</td>\n",
       "      <td>-13.266762</td>\n",
       "      <td>0.000000e+00</td>\n",
       "      <td>4.440892e-16</td>\n",
       "      <td>13.257358</td>\n",
       "      <td>-213.677406</td>\n",
       "      <td>2.939886</td>\n",
       "      <td>0.825638</td>\n",
       "      <td>-213.654102</td>\n",
       "    </tr>\n",
       "    <tr>\n",
       "      <th>50</th>\n",
       "      <td>0.654131</td>\n",
       "      <td>0.931771</td>\n",
       "      <td>0.072470</td>\n",
       "      <td>0.504356</td>\n",
       "      <td>3.264792</td>\n",
       "      <td>1</td>\n",
       "      <td>1</td>\n",
       "      <td>1</td>\n",
       "      <td>1</td>\n",
       "      <td>25.899289</td>\n",
       "      <td>...</td>\n",
       "      <td>-0.135397</td>\n",
       "      <td>-18.593498</td>\n",
       "      <td>-46.177841</td>\n",
       "      <td>-3.552714e-15</td>\n",
       "      <td>-2.664535e-15</td>\n",
       "      <td>46.171494</td>\n",
       "      <td>-42.924776</td>\n",
       "      <td>0.010702</td>\n",
       "      <td>0.083694</td>\n",
       "      <td>-42.918479</td>\n",
       "    </tr>\n",
       "  </tbody>\n",
       "</table>\n",
       "<p>5 rows × 64 columns</p>\n",
       "</div>"
      ],
      "text/plain": [
       "       wt_cp_sm  wt_cp_ps  wt_cp_mm      rand  aco_angle_1  mva_dm_1  \\\n",
       "entry                                                                  \n",
       "8      1.228852  0.950417  0.223672  0.861532     2.657029         1   \n",
       "25     0.124674  1.936855  1.318387  0.932849     1.547246         1   \n",
       "27     1.461517  0.400455  0.172710  0.132842     3.750274         1   \n",
       "45     0.059870  0.061072  0.111744  0.514073     1.192612         1   \n",
       "50     0.654131  0.931771  0.072470  0.504356     3.264792         1   \n",
       "\n",
       "       mva_dm_2  tau_decay_mode_1  tau_decay_mode_2     pi_E_1  ...  \\\n",
       "entry                                                           ...   \n",
       "8             1                 1                 1  45.423448  ...   \n",
       "25            1                 1                 1  24.506373  ...   \n",
       "27            1                 1                 1  15.319610  ...   \n",
       "45            1                 1                 1  94.211361  ...   \n",
       "50            1                 1                 1  25.899289  ...   \n",
       "\n",
       "       pi0_py_2_br  pi0_pz_2_br  rho_E_1_br   rho_px_1_br   rho_py_1_br  \\\n",
       "entry                                                                     \n",
       "8        -0.489717    -6.827801  -48.396094  0.000000e+00  0.000000e+00   \n",
       "25       -2.249592   -49.257639  -34.479200 -3.552714e-15  8.881784e-16   \n",
       "27       -0.613245   -31.758861  -51.486336  8.881784e-16  1.998401e-15   \n",
       "45        0.701113  -203.232803  -13.266762  0.000000e+00  4.440892e-16   \n",
       "50       -0.135397   -18.593498  -46.177841 -3.552714e-15 -2.664535e-15   \n",
       "\n",
       "       rho_pz_1_br  rho_E_2_br  rho_px_2_br  rho_py_2_br  rho_pz_2_br  \n",
       "entry                                                                  \n",
       "8        48.380690  -46.503688    -0.146724    -0.242363   -46.478206  \n",
       "25       34.461506  -62.102037    -0.805666    -2.640589   -62.037121  \n",
       "27       51.479751  -41.285669     0.236660    -0.674888   -41.274051  \n",
       "45       13.257358 -213.677406     2.939886     0.825638  -213.654102  \n",
       "50       46.171494  -42.924776     0.010702     0.083694   -42.918479  \n",
       "\n",
       "[5 rows x 64 columns]"
      ]
     },
     "execution_count": 25,
     "metadata": {},
     "output_type": "execute_result"
    }
   ],
   "source": [
    "debug_2.head()"
   ]
  },
  {
   "cell_type": "code",
   "execution_count": 35,
   "metadata": {},
   "outputs": [
    {
     "data": {
      "text/plain": [
       "entry\n",
       "8          -39.653200\n",
       "25         -12.790632\n",
       "27          -9.520570\n",
       "45         -10.423361\n",
       "50         -24.327998\n",
       "              ...    \n",
       "10103549   -19.654014\n",
       "10103574   -41.752335\n",
       "10103592   -23.212051\n",
       "10103593    -7.435913\n",
       "10103602   -18.837610\n",
       "Name: pi_E_1_br, Length: 998268, dtype: float64"
      ]
     },
     "execution_count": 35,
     "metadata": {},
     "output_type": "execute_result"
    }
   ],
   "source": [
    "debug_2.pi_E_1_br"
   ]
  },
  {
   "cell_type": "code",
   "execution_count": 36,
   "metadata": {},
   "outputs": [],
   "source": [
    "input_df = pd.read_pickle('../shared/input_df_reco/input_rho_rho.pkl')"
   ]
  },
  {
   "cell_type": "code",
   "execution_count": 37,
   "metadata": {
    "scrolled": true
   },
   "outputs": [
    {
     "data": {
      "text/html": [
       "<div>\n",
       "<style scoped>\n",
       "    .dataframe tbody tr th:only-of-type {\n",
       "        vertical-align: middle;\n",
       "    }\n",
       "\n",
       "    .dataframe tbody tr th {\n",
       "        vertical-align: top;\n",
       "    }\n",
       "\n",
       "    .dataframe thead th {\n",
       "        text-align: right;\n",
       "    }\n",
       "</style>\n",
       "<table border=\"1\" class=\"dataframe\">\n",
       "  <thead>\n",
       "    <tr style=\"text-align: right;\">\n",
       "      <th></th>\n",
       "      <th>pi_E_1_br</th>\n",
       "      <th>pi_px_1_br</th>\n",
       "      <th>pi_py_1_br</th>\n",
       "      <th>pi_pz_1_br</th>\n",
       "      <th>pi_E_2_br</th>\n",
       "      <th>pi_px_2_br</th>\n",
       "      <th>pi_py_2_br</th>\n",
       "      <th>pi_pz_2_br</th>\n",
       "      <th>pi0_E_1_br</th>\n",
       "      <th>pi0_px_1_br</th>\n",
       "      <th>...</th>\n",
       "      <th>rho_px_2_br</th>\n",
       "      <th>rho_py_2_br</th>\n",
       "      <th>rho_pz_2_br</th>\n",
       "      <th>aco_angle_1</th>\n",
       "      <th>y_1_1</th>\n",
       "      <th>y_1_2</th>\n",
       "      <th>w_a</th>\n",
       "      <th>w_b</th>\n",
       "      <th>m_1</th>\n",
       "      <th>m_2</th>\n",
       "    </tr>\n",
       "    <tr>\n",
       "      <th>entry</th>\n",
       "      <th></th>\n",
       "      <th></th>\n",
       "      <th></th>\n",
       "      <th></th>\n",
       "      <th></th>\n",
       "      <th></th>\n",
       "      <th></th>\n",
       "      <th></th>\n",
       "      <th></th>\n",
       "      <th></th>\n",
       "      <th></th>\n",
       "      <th></th>\n",
       "      <th></th>\n",
       "      <th></th>\n",
       "      <th></th>\n",
       "      <th></th>\n",
       "      <th></th>\n",
       "      <th></th>\n",
       "      <th></th>\n",
       "      <th></th>\n",
       "      <th></th>\n",
       "    </tr>\n",
       "  </thead>\n",
       "  <tbody>\n",
       "    <tr>\n",
       "      <th>8</th>\n",
       "      <td>-39.653200</td>\n",
       "      <td>0.375426</td>\n",
       "      <td>-0.247354</td>\n",
       "      <td>39.650405</td>\n",
       "      <td>-39.653200</td>\n",
       "      <td>-0.375426</td>\n",
       "      <td>0.247354</td>\n",
       "      <td>-39.650405</td>\n",
       "      <td>-8.742894</td>\n",
       "      <td>-0.375426</td>\n",
       "      <td>...</td>\n",
       "      <td>-0.146724</td>\n",
       "      <td>-0.242363</td>\n",
       "      <td>-46.478206</td>\n",
       "      <td>2.657029</td>\n",
       "      <td>-0.637964</td>\n",
       "      <td>-0.708372</td>\n",
       "      <td>1.228852</td>\n",
       "      <td>0.950417</td>\n",
       "      <td>1.220952</td>\n",
       "      <td>1.512969</td>\n",
       "    </tr>\n",
       "    <tr>\n",
       "      <th>25</th>\n",
       "      <td>-12.790632</td>\n",
       "      <td>0.335798</td>\n",
       "      <td>0.390997</td>\n",
       "      <td>12.779482</td>\n",
       "      <td>-12.790632</td>\n",
       "      <td>-0.335798</td>\n",
       "      <td>-0.390997</td>\n",
       "      <td>-12.779482</td>\n",
       "      <td>-21.688568</td>\n",
       "      <td>-0.335798</td>\n",
       "      <td>...</td>\n",
       "      <td>-0.805666</td>\n",
       "      <td>-2.640589</td>\n",
       "      <td>-62.037121</td>\n",
       "      <td>1.547246</td>\n",
       "      <td>0.254573</td>\n",
       "      <td>0.594557</td>\n",
       "      <td>0.124674</td>\n",
       "      <td>1.936855</td>\n",
       "      <td>1.104476</td>\n",
       "      <td>0.660891</td>\n",
       "    </tr>\n",
       "    <tr>\n",
       "      <th>27</th>\n",
       "      <td>-9.520570</td>\n",
       "      <td>-0.281322</td>\n",
       "      <td>0.061643</td>\n",
       "      <td>9.515190</td>\n",
       "      <td>-9.520570</td>\n",
       "      <td>0.281322</td>\n",
       "      <td>-0.061643</td>\n",
       "      <td>-9.515190</td>\n",
       "      <td>-41.965766</td>\n",
       "      <td>0.281322</td>\n",
       "      <td>...</td>\n",
       "      <td>0.236660</td>\n",
       "      <td>-0.674888</td>\n",
       "      <td>-41.274051</td>\n",
       "      <td>3.750274</td>\n",
       "      <td>0.638590</td>\n",
       "      <td>0.529623</td>\n",
       "      <td>1.461517</td>\n",
       "      <td>0.400455</td>\n",
       "      <td>0.823420</td>\n",
       "      <td>0.669092</td>\n",
       "    </tr>\n",
       "    <tr>\n",
       "      <th>45</th>\n",
       "      <td>-10.423361</td>\n",
       "      <td>-0.089411</td>\n",
       "      <td>-0.124524</td>\n",
       "      <td>10.421299</td>\n",
       "      <td>-10.423361</td>\n",
       "      <td>0.089411</td>\n",
       "      <td>0.124524</td>\n",
       "      <td>-10.421299</td>\n",
       "      <td>-2.843401</td>\n",
       "      <td>0.089411</td>\n",
       "      <td>...</td>\n",
       "      <td>2.939886</td>\n",
       "      <td>0.825638</td>\n",
       "      <td>-213.654102</td>\n",
       "      <td>1.192612</td>\n",
       "      <td>-0.572846</td>\n",
       "      <td>0.899114</td>\n",
       "      <td>0.059870</td>\n",
       "      <td>0.061072</td>\n",
       "      <td>0.499415</td>\n",
       "      <td>0.796268</td>\n",
       "    </tr>\n",
       "    <tr>\n",
       "      <th>50</th>\n",
       "      <td>-24.327998</td>\n",
       "      <td>0.281627</td>\n",
       "      <td>-0.219091</td>\n",
       "      <td>24.324981</td>\n",
       "      <td>-24.327998</td>\n",
       "      <td>-0.281627</td>\n",
       "      <td>0.219091</td>\n",
       "      <td>-24.324981</td>\n",
       "      <td>-21.849843</td>\n",
       "      <td>-0.281627</td>\n",
       "      <td>...</td>\n",
       "      <td>0.010702</td>\n",
       "      <td>0.083694</td>\n",
       "      <td>-42.918479</td>\n",
       "      <td>3.264792</td>\n",
       "      <td>-0.054617</td>\n",
       "      <td>-0.132105</td>\n",
       "      <td>0.654131</td>\n",
       "      <td>0.931771</td>\n",
       "      <td>0.765599</td>\n",
       "      <td>0.730365</td>\n",
       "    </tr>\n",
       "  </tbody>\n",
       "</table>\n",
       "<p>5 rows × 31 columns</p>\n",
       "</div>"
      ],
      "text/plain": [
       "       pi_E_1_br  pi_px_1_br  pi_py_1_br  pi_pz_1_br  pi_E_2_br  pi_px_2_br  \\\n",
       "entry                                                                         \n",
       "8     -39.653200    0.375426   -0.247354   39.650405 -39.653200   -0.375426   \n",
       "25    -12.790632    0.335798    0.390997   12.779482 -12.790632   -0.335798   \n",
       "27     -9.520570   -0.281322    0.061643    9.515190  -9.520570    0.281322   \n",
       "45    -10.423361   -0.089411   -0.124524   10.421299 -10.423361    0.089411   \n",
       "50    -24.327998    0.281627   -0.219091   24.324981 -24.327998   -0.281627   \n",
       "\n",
       "       pi_py_2_br  pi_pz_2_br  pi0_E_1_br  pi0_px_1_br  ...  rho_px_2_br  \\\n",
       "entry                                                   ...                \n",
       "8        0.247354  -39.650405   -8.742894    -0.375426  ...    -0.146724   \n",
       "25      -0.390997  -12.779482  -21.688568    -0.335798  ...    -0.805666   \n",
       "27      -0.061643   -9.515190  -41.965766     0.281322  ...     0.236660   \n",
       "45       0.124524  -10.421299   -2.843401     0.089411  ...     2.939886   \n",
       "50       0.219091  -24.324981  -21.849843    -0.281627  ...     0.010702   \n",
       "\n",
       "       rho_py_2_br  rho_pz_2_br  aco_angle_1     y_1_1     y_1_2       w_a  \\\n",
       "entry                                                                        \n",
       "8        -0.242363   -46.478206     2.657029 -0.637964 -0.708372  1.228852   \n",
       "25       -2.640589   -62.037121     1.547246  0.254573  0.594557  0.124674   \n",
       "27       -0.674888   -41.274051     3.750274  0.638590  0.529623  1.461517   \n",
       "45        0.825638  -213.654102     1.192612 -0.572846  0.899114  0.059870   \n",
       "50        0.083694   -42.918479     3.264792 -0.054617 -0.132105  0.654131   \n",
       "\n",
       "            w_b       m_1       m_2  \n",
       "entry                                \n",
       "8      0.950417  1.220952  1.512969  \n",
       "25     1.936855  1.104476  0.660891  \n",
       "27     0.400455  0.823420  0.669092  \n",
       "45     0.061072  0.499415  0.796268  \n",
       "50     0.931771  0.765599  0.730365  \n",
       "\n",
       "[5 rows x 31 columns]"
      ]
     },
     "execution_count": 37,
     "metadata": {},
     "output_type": "execute_result"
    }
   ],
   "source": [
    "input_df.head()"
   ]
  },
  {
   "cell_type": "code",
   "execution_count": 38,
   "metadata": {},
   "outputs": [],
   "source": [
    "input_df = pd.read_pickle('../shared/input_df_reco/input_rho_rho.pkl')"
   ]
  },
  {
   "cell_type": "code",
   "execution_count": 39,
   "metadata": {},
   "outputs": [
    {
     "data": {
      "text/html": [
       "<div>\n",
       "<style scoped>\n",
       "    .dataframe tbody tr th:only-of-type {\n",
       "        vertical-align: middle;\n",
       "    }\n",
       "\n",
       "    .dataframe tbody tr th {\n",
       "        vertical-align: top;\n",
       "    }\n",
       "\n",
       "    .dataframe thead th {\n",
       "        text-align: right;\n",
       "    }\n",
       "</style>\n",
       "<table border=\"1\" class=\"dataframe\">\n",
       "  <thead>\n",
       "    <tr style=\"text-align: right;\">\n",
       "      <th></th>\n",
       "      <th>pi_E_1_br</th>\n",
       "      <th>pi_px_1_br</th>\n",
       "      <th>pi_py_1_br</th>\n",
       "      <th>pi_pz_1_br</th>\n",
       "      <th>pi_E_2_br</th>\n",
       "      <th>pi_px_2_br</th>\n",
       "      <th>pi_py_2_br</th>\n",
       "      <th>pi_pz_2_br</th>\n",
       "      <th>pi0_E_1_br</th>\n",
       "      <th>pi0_px_1_br</th>\n",
       "      <th>...</th>\n",
       "      <th>rho_px_2_br</th>\n",
       "      <th>rho_py_2_br</th>\n",
       "      <th>rho_pz_2_br</th>\n",
       "      <th>aco_angle_1</th>\n",
       "      <th>y_1_1</th>\n",
       "      <th>y_1_2</th>\n",
       "      <th>w_a</th>\n",
       "      <th>w_b</th>\n",
       "      <th>m_1</th>\n",
       "      <th>m_2</th>\n",
       "    </tr>\n",
       "    <tr>\n",
       "      <th>entry</th>\n",
       "      <th></th>\n",
       "      <th></th>\n",
       "      <th></th>\n",
       "      <th></th>\n",
       "      <th></th>\n",
       "      <th></th>\n",
       "      <th></th>\n",
       "      <th></th>\n",
       "      <th></th>\n",
       "      <th></th>\n",
       "      <th></th>\n",
       "      <th></th>\n",
       "      <th></th>\n",
       "      <th></th>\n",
       "      <th></th>\n",
       "      <th></th>\n",
       "      <th></th>\n",
       "      <th></th>\n",
       "      <th></th>\n",
       "      <th></th>\n",
       "      <th></th>\n",
       "    </tr>\n",
       "  </thead>\n",
       "  <tbody>\n",
       "    <tr>\n",
       "      <th>8</th>\n",
       "      <td>38.866249</td>\n",
       "      <td>0.429429</td>\n",
       "      <td>-0.133119</td>\n",
       "      <td>38.863398</td>\n",
       "      <td>40.456445</td>\n",
       "      <td>-0.509745</td>\n",
       "      <td>-0.094749</td>\n",
       "      <td>-40.452882</td>\n",
       "      <td>8.569687</td>\n",
       "      <td>-0.429429</td>\n",
       "      <td>...</td>\n",
       "      <td>2.442491e-14</td>\n",
       "      <td>5.329071e-14</td>\n",
       "      <td>-47.420221</td>\n",
       "      <td>2.657029</td>\n",
       "      <td>-0.637964</td>\n",
       "      <td>-0.708372</td>\n",
       "      <td>1.228852</td>\n",
       "      <td>0.950417</td>\n",
       "      <td>1.220952</td>\n",
       "      <td>1.512969</td>\n",
       "    </tr>\n",
       "    <tr>\n",
       "      <th>25</th>\n",
       "      <td>17.175150</td>\n",
       "      <td>0.213861</td>\n",
       "      <td>0.469040</td>\n",
       "      <td>17.166846</td>\n",
       "      <td>9.529103</td>\n",
       "      <td>0.210109</td>\n",
       "      <td>-0.089910</td>\n",
       "      <td>-9.525340</td>\n",
       "      <td>29.088943</td>\n",
       "      <td>-0.213861</td>\n",
       "      <td>...</td>\n",
       "      <td>5.329071e-15</td>\n",
       "      <td>-1.154632e-14</td>\n",
       "      <td>-46.250908</td>\n",
       "      <td>1.547246</td>\n",
       "      <td>0.254573</td>\n",
       "      <td>0.594557</td>\n",
       "      <td>0.124674</td>\n",
       "      <td>1.936855</td>\n",
       "      <td>1.104476</td>\n",
       "      <td>0.660891</td>\n",
       "    </tr>\n",
       "    <tr>\n",
       "      <th>27</th>\n",
       "      <td>8.526993</td>\n",
       "      <td>0.209425</td>\n",
       "      <td>0.197722</td>\n",
       "      <td>8.520985</td>\n",
       "      <td>10.630995</td>\n",
       "      <td>-0.242771</td>\n",
       "      <td>-0.036193</td>\n",
       "      <td>-10.627246</td>\n",
       "      <td>37.577339</td>\n",
       "      <td>-0.209425</td>\n",
       "      <td>...</td>\n",
       "      <td>2.131628e-14</td>\n",
       "      <td>7.105427e-15</td>\n",
       "      <td>-46.096978</td>\n",
       "      <td>3.750274</td>\n",
       "      <td>0.638590</td>\n",
       "      <td>0.529623</td>\n",
       "      <td>1.461517</td>\n",
       "      <td>0.400455</td>\n",
       "      <td>0.823420</td>\n",
       "      <td>0.669092</td>\n",
       "    </tr>\n",
       "    <tr>\n",
       "      <th>45</th>\n",
       "      <td>41.836730</td>\n",
       "      <td>-0.050458</td>\n",
       "      <td>-0.144726</td>\n",
       "      <td>41.836217</td>\n",
       "      <td>2.599469</td>\n",
       "      <td>0.099976</td>\n",
       "      <td>0.004286</td>\n",
       "      <td>-2.593793</td>\n",
       "      <td>11.395560</td>\n",
       "      <td>0.050458</td>\n",
       "      <td>...</td>\n",
       "      <td>4.352074e-14</td>\n",
       "      <td>-3.197442e-14</td>\n",
       "      <td>-53.229947</td>\n",
       "      <td>1.192612</td>\n",
       "      <td>-0.572846</td>\n",
       "      <td>0.899114</td>\n",
       "      <td>0.059870</td>\n",
       "      <td>0.061072</td>\n",
       "      <td>0.499415</td>\n",
       "      <td>0.796268</td>\n",
       "    </tr>\n",
       "    <tr>\n",
       "      <th>50</th>\n",
       "      <td>23.455746</td>\n",
       "      <td>0.115471</td>\n",
       "      <td>-0.337611</td>\n",
       "      <td>23.452617</td>\n",
       "      <td>25.232731</td>\n",
       "      <td>-0.068646</td>\n",
       "      <td>0.327903</td>\n",
       "      <td>-25.230121</td>\n",
       "      <td>21.066138</td>\n",
       "      <td>-0.115471</td>\n",
       "      <td>...</td>\n",
       "      <td>-1.143530e-14</td>\n",
       "      <td>-9.547918e-15</td>\n",
       "      <td>-44.515301</td>\n",
       "      <td>3.264792</td>\n",
       "      <td>-0.054617</td>\n",
       "      <td>-0.132105</td>\n",
       "      <td>0.654131</td>\n",
       "      <td>0.931771</td>\n",
       "      <td>0.765599</td>\n",
       "      <td>0.730365</td>\n",
       "    </tr>\n",
       "  </tbody>\n",
       "</table>\n",
       "<p>5 rows × 31 columns</p>\n",
       "</div>"
      ],
      "text/plain": [
       "       pi_E_1_br  pi_px_1_br  pi_py_1_br  pi_pz_1_br  pi_E_2_br  pi_px_2_br  \\\n",
       "entry                                                                         \n",
       "8      38.866249    0.429429   -0.133119   38.863398  40.456445   -0.509745   \n",
       "25     17.175150    0.213861    0.469040   17.166846   9.529103    0.210109   \n",
       "27      8.526993    0.209425    0.197722    8.520985  10.630995   -0.242771   \n",
       "45     41.836730   -0.050458   -0.144726   41.836217   2.599469    0.099976   \n",
       "50     23.455746    0.115471   -0.337611   23.452617  25.232731   -0.068646   \n",
       "\n",
       "       pi_py_2_br  pi_pz_2_br  pi0_E_1_br  pi0_px_1_br  ...   rho_px_2_br  \\\n",
       "entry                                                   ...                 \n",
       "8       -0.094749  -40.452882    8.569687    -0.429429  ...  2.442491e-14   \n",
       "25      -0.089910   -9.525340   29.088943    -0.213861  ...  5.329071e-15   \n",
       "27      -0.036193  -10.627246   37.577339    -0.209425  ...  2.131628e-14   \n",
       "45       0.004286   -2.593793   11.395560     0.050458  ...  4.352074e-14   \n",
       "50       0.327903  -25.230121   21.066138    -0.115471  ... -1.143530e-14   \n",
       "\n",
       "        rho_py_2_br  rho_pz_2_br  aco_angle_1     y_1_1     y_1_2       w_a  \\\n",
       "entry                                                                         \n",
       "8      5.329071e-14   -47.420221     2.657029 -0.637964 -0.708372  1.228852   \n",
       "25    -1.154632e-14   -46.250908     1.547246  0.254573  0.594557  0.124674   \n",
       "27     7.105427e-15   -46.096978     3.750274  0.638590  0.529623  1.461517   \n",
       "45    -3.197442e-14   -53.229947     1.192612 -0.572846  0.899114  0.059870   \n",
       "50    -9.547918e-15   -44.515301     3.264792 -0.054617 -0.132105  0.654131   \n",
       "\n",
       "            w_b       m_1       m_2  \n",
       "entry                                \n",
       "8      0.950417  1.220952  1.512969  \n",
       "25     1.936855  1.104476  0.660891  \n",
       "27     0.400455  0.823420  0.669092  \n",
       "45     0.061072  0.499415  0.796268  \n",
       "50     0.931771  0.765599  0.730365  \n",
       "\n",
       "[5 rows x 31 columns]"
      ]
     },
     "execution_count": 39,
     "metadata": {},
     "output_type": "execute_result"
    }
   ],
   "source": [
    "input_df.head()"
   ]
  },
  {
   "cell_type": "markdown",
   "metadata": {},
   "source": [
    "## test 4 - playing around with eqn 26"
   ]
  },
  {
   "cell_type": "code",
   "execution_count": 1,
   "metadata": {},
   "outputs": [],
   "source": [
    "import numpy as np\n",
    "import pandas as pd\n",
    "import uproot\n",
    "from pylorentz import Momentum4\n",
    "import matplotlib.pyplot as plt\n",
    "m_tau = 1.776"
   ]
  },
  {
   "cell_type": "code",
   "execution_count": 3,
   "metadata": {},
   "outputs": [],
   "source": [
    "variables_a1_a1_gen = [\n",
    "    \"wt_cp_sm\", \"wt_cp_ps\", \"wt_cp_mm\", \"rand\",\n",
    "    \"dm_1\", \"dm_2\",\n",
    "    \"pi_E_1\", \"pi_px_1\", \"pi_py_1\", \"pi_pz_1\",\n",
    "    \"pi_E_2\", \"pi_px_2\", \"pi_py_2\", \"pi_pz_2\",\n",
    "    \"pi2_E_1\", \"pi2_px_1\", \"pi2_py_1\", \"pi2_pz_1\",\n",
    "    \"pi3_E_1\", \"pi3_px_1\", \"pi3_py_1\", \"pi3_pz_1\",\n",
    "    \"pi2_px_2\", \"pi2_py_2\", \"pi2_pz_2\", \"pi2_E_2\",\n",
    "    \"pi3_px_2\", \"pi3_py_2\", \"pi3_pz_2\", \"pi3_E_2\",\n",
    "    \"sv_x_1\", \"sv_y_1\", \"sv_z_1\",\n",
    "    \"sv_x_2\", \"sv_y_2\", \"sv_z_2\",]\n",
    "tree_tt_gen = uproot.open(\"./MVAFILE_GEN_AllHiggs_tt.root\")[\"ntuple\"]\n",
    "df_gen = tree_tt_gen.pandas.df(variables_a1_a1_gen)\n",
    "df_gen.to_pickle(f\"../shared/df_tt_a1_a1_gen.pkl\")"
   ]
  },
  {
   "cell_type": "code",
   "execution_count": 223,
   "metadata": {},
   "outputs": [
    {
     "data": {
      "text/plain": [
       "[b'rand',\n",
       " b'wt_cp_sm',\n",
       " b'wt_cp_ps',\n",
       " b'wt_cp_mm',\n",
       " b'pi_px_1',\n",
       " b'pi_py_1',\n",
       " b'pi_pz_1',\n",
       " b'pi_E_1',\n",
       " b'pi2_px_1',\n",
       " b'pi2_py_1',\n",
       " b'pi2_pz_1',\n",
       " b'pi2_E_1',\n",
       " b'pi3_px_1',\n",
       " b'pi3_py_1',\n",
       " b'pi3_pz_1',\n",
       " b'pi3_E_1',\n",
       " b'pi_px_2',\n",
       " b'pi_py_2',\n",
       " b'pi_pz_2',\n",
       " b'pi_E_2',\n",
       " b'pi2_px_2',\n",
       " b'pi2_py_2',\n",
       " b'pi2_pz_2',\n",
       " b'pi2_E_2',\n",
       " b'pi3_px_2',\n",
       " b'pi3_py_2',\n",
       " b'pi3_pz_2',\n",
       " b'pi3_E_2',\n",
       " b'pi0_px_1',\n",
       " b'pi0_py_1',\n",
       " b'pi0_pz_1',\n",
       " b'pi0_E_1',\n",
       " b'pi0_px_2',\n",
       " b'pi0_py_2',\n",
       " b'pi0_pz_2',\n",
       " b'pi0_E_2',\n",
       " b'sv_x_1',\n",
       " b'sv_y_1',\n",
       " b'sv_z_1',\n",
       " b'sv_x_2',\n",
       " b'sv_y_2',\n",
       " b'sv_z_2',\n",
       " b'dm_1',\n",
       " b'dm_2',\n",
       " b'metx',\n",
       " b'mety']"
      ]
     },
     "execution_count": 223,
     "metadata": {},
     "output_type": "execute_result"
    }
   ],
   "source": [
    "tree_tt_gen = uproot.open(\"./MVAFILE_GEN_AllHiggs_tt.root\")[\"ntuple\"]\n",
    "tree_tt_gen.keys()"
   ]
  },
  {
   "cell_type": "code",
   "execution_count": 2,
   "metadata": {},
   "outputs": [],
   "source": [
    "df_gen = pd.read_pickle(f\"../shared/df_tt_a1_a1_gen.pkl\")"
   ]
  },
  {
   "cell_type": "code",
   "execution_count": 3,
   "metadata": {},
   "outputs": [],
   "source": [
    "df_gen = df_gen[(df_gen['dm_1']==10) & (df_gen['dm_2']==10)]"
   ]
  },
  {
   "cell_type": "code",
   "execution_count": 4,
   "metadata": {},
   "outputs": [],
   "source": [
    "df_gen = df_gen[(df_gen != 0).all(1)]"
   ]
  },
  {
   "cell_type": "code",
   "execution_count": 5,
   "metadata": {},
   "outputs": [
    {
     "data": {
      "text/html": [
       "<div>\n",
       "<style scoped>\n",
       "    .dataframe tbody tr th:only-of-type {\n",
       "        vertical-align: middle;\n",
       "    }\n",
       "\n",
       "    .dataframe tbody tr th {\n",
       "        vertical-align: top;\n",
       "    }\n",
       "\n",
       "    .dataframe thead th {\n",
       "        text-align: right;\n",
       "    }\n",
       "</style>\n",
       "<table border=\"1\" class=\"dataframe\">\n",
       "  <thead>\n",
       "    <tr style=\"text-align: right;\">\n",
       "      <th></th>\n",
       "      <th>wt_cp_sm</th>\n",
       "      <th>wt_cp_ps</th>\n",
       "      <th>wt_cp_mm</th>\n",
       "      <th>rand</th>\n",
       "      <th>dm_1</th>\n",
       "      <th>dm_2</th>\n",
       "      <th>pi_E_1</th>\n",
       "      <th>pi_px_1</th>\n",
       "      <th>pi_py_1</th>\n",
       "      <th>pi_pz_1</th>\n",
       "      <th>...</th>\n",
       "      <th>pi3_px_2</th>\n",
       "      <th>pi3_py_2</th>\n",
       "      <th>pi3_pz_2</th>\n",
       "      <th>pi3_E_2</th>\n",
       "      <th>sv_x_1</th>\n",
       "      <th>sv_y_1</th>\n",
       "      <th>sv_z_1</th>\n",
       "      <th>sv_x_2</th>\n",
       "      <th>sv_y_2</th>\n",
       "      <th>sv_z_2</th>\n",
       "    </tr>\n",
       "    <tr>\n",
       "      <th>entry</th>\n",
       "      <th></th>\n",
       "      <th></th>\n",
       "      <th></th>\n",
       "      <th></th>\n",
       "      <th></th>\n",
       "      <th></th>\n",
       "      <th></th>\n",
       "      <th></th>\n",
       "      <th></th>\n",
       "      <th></th>\n",
       "      <th></th>\n",
       "      <th></th>\n",
       "      <th></th>\n",
       "      <th></th>\n",
       "      <th></th>\n",
       "      <th></th>\n",
       "      <th></th>\n",
       "      <th></th>\n",
       "      <th></th>\n",
       "      <th></th>\n",
       "      <th></th>\n",
       "    </tr>\n",
       "  </thead>\n",
       "  <tbody>\n",
       "    <tr>\n",
       "      <th>4</th>\n",
       "      <td>0.370084</td>\n",
       "      <td>1.765682</td>\n",
       "      <td>1.648769</td>\n",
       "      <td>0.604970</td>\n",
       "      <td>10.0</td>\n",
       "      <td>10.0</td>\n",
       "      <td>5.500041</td>\n",
       "      <td>-4.350674</td>\n",
       "      <td>-2.053902</td>\n",
       "      <td>2.661596</td>\n",
       "      <td>...</td>\n",
       "      <td>18.922930</td>\n",
       "      <td>14.962322</td>\n",
       "      <td>51.630464</td>\n",
       "      <td>56.988356</td>\n",
       "      <td>-0.304889</td>\n",
       "      <td>-0.132517</td>\n",
       "      <td>0.176034</td>\n",
       "      <td>0.196662</td>\n",
       "      <td>0.151155</td>\n",
       "      <td>0.536159</td>\n",
       "    </tr>\n",
       "    <tr>\n",
       "      <th>12</th>\n",
       "      <td>0.403054</td>\n",
       "      <td>1.167738</td>\n",
       "      <td>0.118793</td>\n",
       "      <td>0.231651</td>\n",
       "      <td>10.0</td>\n",
       "      <td>10.0</td>\n",
       "      <td>123.374205</td>\n",
       "      <td>-10.398425</td>\n",
       "      <td>-26.224208</td>\n",
       "      <td>-120.105531</td>\n",
       "      <td>...</td>\n",
       "      <td>7.899818</td>\n",
       "      <td>13.353715</td>\n",
       "      <td>-39.166945</td>\n",
       "      <td>42.128350</td>\n",
       "      <td>-0.197811</td>\n",
       "      <td>-0.480520</td>\n",
       "      <td>-2.195279</td>\n",
       "      <td>0.328749</td>\n",
       "      <td>0.542358</td>\n",
       "      <td>-1.582369</td>\n",
       "    </tr>\n",
       "    <tr>\n",
       "      <th>15</th>\n",
       "      <td>0.203289</td>\n",
       "      <td>1.797292</td>\n",
       "      <td>0.414664</td>\n",
       "      <td>0.092664</td>\n",
       "      <td>10.0</td>\n",
       "      <td>10.0</td>\n",
       "      <td>41.659845</td>\n",
       "      <td>31.126593</td>\n",
       "      <td>-18.033808</td>\n",
       "      <td>-21.010477</td>\n",
       "      <td>...</td>\n",
       "      <td>-10.737736</td>\n",
       "      <td>8.762232</td>\n",
       "      <td>-17.359090</td>\n",
       "      <td>22.213356</td>\n",
       "      <td>0.743963</td>\n",
       "      <td>-0.425858</td>\n",
       "      <td>-0.487649</td>\n",
       "      <td>-0.123903</td>\n",
       "      <td>0.107171</td>\n",
       "      <td>-0.210013</td>\n",
       "    </tr>\n",
       "    <tr>\n",
       "      <th>35</th>\n",
       "      <td>0.115375</td>\n",
       "      <td>1.037540</td>\n",
       "      <td>0.438237</td>\n",
       "      <td>0.959867</td>\n",
       "      <td>10.0</td>\n",
       "      <td>10.0</td>\n",
       "      <td>8.222886</td>\n",
       "      <td>3.935378</td>\n",
       "      <td>7.009589</td>\n",
       "      <td>1.724771</td>\n",
       "      <td>...</td>\n",
       "      <td>-0.648446</td>\n",
       "      <td>-2.330409</td>\n",
       "      <td>1.933605</td>\n",
       "      <td>3.099934</td>\n",
       "      <td>0.335032</td>\n",
       "      <td>0.625689</td>\n",
       "      <td>0.139962</td>\n",
       "      <td>-0.073669</td>\n",
       "      <td>-0.218105</td>\n",
       "      <td>0.183014</td>\n",
       "    </tr>\n",
       "    <tr>\n",
       "      <th>36</th>\n",
       "      <td>0.412547</td>\n",
       "      <td>1.816359</td>\n",
       "      <td>1.537121</td>\n",
       "      <td>0.533256</td>\n",
       "      <td>10.0</td>\n",
       "      <td>10.0</td>\n",
       "      <td>22.797583</td>\n",
       "      <td>-14.755482</td>\n",
       "      <td>16.665252</td>\n",
       "      <td>4.924980</td>\n",
       "      <td>...</td>\n",
       "      <td>8.309163</td>\n",
       "      <td>-8.998389</td>\n",
       "      <td>-17.413945</td>\n",
       "      <td>21.290330</td>\n",
       "      <td>-0.147090</td>\n",
       "      <td>0.161241</td>\n",
       "      <td>0.041281</td>\n",
       "      <td>0.090535</td>\n",
       "      <td>-0.101023</td>\n",
       "      <td>-0.196908</td>\n",
       "    </tr>\n",
       "  </tbody>\n",
       "</table>\n",
       "<p>5 rows × 36 columns</p>\n",
       "</div>"
      ],
      "text/plain": [
       "       wt_cp_sm  wt_cp_ps  wt_cp_mm      rand  dm_1  dm_2      pi_E_1  \\\n",
       "entry                                                                   \n",
       "4      0.370084  1.765682  1.648769  0.604970  10.0  10.0    5.500041   \n",
       "12     0.403054  1.167738  0.118793  0.231651  10.0  10.0  123.374205   \n",
       "15     0.203289  1.797292  0.414664  0.092664  10.0  10.0   41.659845   \n",
       "35     0.115375  1.037540  0.438237  0.959867  10.0  10.0    8.222886   \n",
       "36     0.412547  1.816359  1.537121  0.533256  10.0  10.0   22.797583   \n",
       "\n",
       "         pi_px_1    pi_py_1     pi_pz_1  ...   pi3_px_2   pi3_py_2   pi3_pz_2  \\\n",
       "entry                                    ...                                    \n",
       "4      -4.350674  -2.053902    2.661596  ...  18.922930  14.962322  51.630464   \n",
       "12    -10.398425 -26.224208 -120.105531  ...   7.899818  13.353715 -39.166945   \n",
       "15     31.126593 -18.033808  -21.010477  ... -10.737736   8.762232 -17.359090   \n",
       "35      3.935378   7.009589    1.724771  ...  -0.648446  -2.330409   1.933605   \n",
       "36    -14.755482  16.665252    4.924980  ...   8.309163  -8.998389 -17.413945   \n",
       "\n",
       "         pi3_E_2    sv_x_1    sv_y_1    sv_z_1    sv_x_2    sv_y_2    sv_z_2  \n",
       "entry                                                                         \n",
       "4      56.988356 -0.304889 -0.132517  0.176034  0.196662  0.151155  0.536159  \n",
       "12     42.128350 -0.197811 -0.480520 -2.195279  0.328749  0.542358 -1.582369  \n",
       "15     22.213356  0.743963 -0.425858 -0.487649 -0.123903  0.107171 -0.210013  \n",
       "35      3.099934  0.335032  0.625689  0.139962 -0.073669 -0.218105  0.183014  \n",
       "36     21.290330 -0.147090  0.161241  0.041281  0.090535 -0.101023 -0.196908  \n",
       "\n",
       "[5 rows x 36 columns]"
      ]
     },
     "execution_count": 5,
     "metadata": {},
     "output_type": "execute_result"
    }
   ],
   "source": [
    "df_gen.head()"
   ]
  },
  {
   "cell_type": "code",
   "execution_count": 156,
   "metadata": {},
   "outputs": [],
   "source": [
    "variables_a1_a1 = [\n",
    "    \"wt_cp_sm\", \"wt_cp_ps\", \"wt_cp_mm\", \"rand\",\n",
    "    \"aco_angle_1\",\n",
    "    \"mva_dm_1\", \"mva_dm_2\",\n",
    "    \"tau_decay_mode_1\", \"tau_decay_mode_2\",\n",
    "    \"pi_E_1\", \"pi_px_1\", \"pi_py_1\", \"pi_pz_1\",\n",
    "    \"pi_E_2\", \"pi_px_2\", \"pi_py_2\", \"pi_pz_2\",\n",
    "    \"pi2_E_1\", \"pi2_px_1\", \"pi2_py_1\", \"pi2_pz_1\",\n",
    "    \"pi3_E_1\", \"pi3_px_1\", \"pi3_py_1\", \"pi3_pz_1\",\n",
    "    \"pi2_px_2\", \"pi2_py_2\", \"pi2_pz_2\", \"pi2_E_2\",\n",
    "    \"pi3_px_2\", \"pi3_py_2\", \"pi3_pz_2\", \"pi3_E_2\",\n",
    "#     \"ip_x_1\", \"ip_y_1\", \"ip_z_1\",\n",
    "#     \"ip_x_2\", \"ip_y_2\", \"ip_z_2\",\n",
    "    \"sv_x_1\", \"sv_y_1\", \"sv_z_1\",\n",
    "    \"sv_x_2\", \"sv_y_2\", \"sv_z_2\",\n",
    "    \"gen_nu_p_1\", \"gen_nu_phi_1\", \"gen_nu_eta_1\",  # leading neutrino, gen level\n",
    "    \"gen_nu_p_2\", \"gen_nu_phi_2\", \"gen_nu_eta_2\"  # subleading neutrino, gen level\n",
    "    ]\n",
    "\n",
    "reco_root_path = \"./MVAFILE_AllHiggs_tt.root\"\n",
    "tree_tt = uproot.open(reco_root_path)[\"ntuple\"]\n",
    "df = tree_tt.pandas.df(variables_a1_a1)\n",
    "df.to_pickle(f\"../shared/df_tt_a1_a1.pkl\")"
   ]
  },
  {
   "cell_type": "code",
   "execution_count": 6,
   "metadata": {},
   "outputs": [],
   "source": [
    "df = pd.read_pickle(f\"../shared/df_tt_a1_a1.pkl\")"
   ]
  },
  {
   "cell_type": "code",
   "execution_count": 7,
   "metadata": {},
   "outputs": [],
   "source": [
    "df = df[(df['mva_dm_1']==10) & (df['mva_dm_2']==10)]"
   ]
  },
  {
   "cell_type": "code",
   "execution_count": 8,
   "metadata": {},
   "outputs": [
    {
     "data": {
      "text/html": [
       "<div>\n",
       "<style scoped>\n",
       "    .dataframe tbody tr th:only-of-type {\n",
       "        vertical-align: middle;\n",
       "    }\n",
       "\n",
       "    .dataframe tbody tr th {\n",
       "        vertical-align: top;\n",
       "    }\n",
       "\n",
       "    .dataframe thead th {\n",
       "        text-align: right;\n",
       "    }\n",
       "</style>\n",
       "<table border=\"1\" class=\"dataframe\">\n",
       "  <thead>\n",
       "    <tr style=\"text-align: right;\">\n",
       "      <th></th>\n",
       "      <th>wt_cp_sm</th>\n",
       "      <th>wt_cp_ps</th>\n",
       "      <th>wt_cp_mm</th>\n",
       "      <th>rand</th>\n",
       "      <th>aco_angle_1</th>\n",
       "      <th>mva_dm_1</th>\n",
       "      <th>mva_dm_2</th>\n",
       "      <th>tau_decay_mode_1</th>\n",
       "      <th>tau_decay_mode_2</th>\n",
       "      <th>pi_E_1</th>\n",
       "      <th>...</th>\n",
       "      <th>sv_z_1</th>\n",
       "      <th>sv_x_2</th>\n",
       "      <th>sv_y_2</th>\n",
       "      <th>sv_z_2</th>\n",
       "      <th>gen_nu_p_1</th>\n",
       "      <th>gen_nu_phi_1</th>\n",
       "      <th>gen_nu_eta_1</th>\n",
       "      <th>gen_nu_p_2</th>\n",
       "      <th>gen_nu_phi_2</th>\n",
       "      <th>gen_nu_eta_2</th>\n",
       "    </tr>\n",
       "    <tr>\n",
       "      <th>entry</th>\n",
       "      <th></th>\n",
       "      <th></th>\n",
       "      <th></th>\n",
       "      <th></th>\n",
       "      <th></th>\n",
       "      <th></th>\n",
       "      <th></th>\n",
       "      <th></th>\n",
       "      <th></th>\n",
       "      <th></th>\n",
       "      <th></th>\n",
       "      <th></th>\n",
       "      <th></th>\n",
       "      <th></th>\n",
       "      <th></th>\n",
       "      <th></th>\n",
       "      <th></th>\n",
       "      <th></th>\n",
       "      <th></th>\n",
       "      <th></th>\n",
       "      <th></th>\n",
       "    </tr>\n",
       "  </thead>\n",
       "  <tbody>\n",
       "    <tr>\n",
       "      <th>1</th>\n",
       "      <td>0.370084</td>\n",
       "      <td>1.765682</td>\n",
       "      <td>1.648769</td>\n",
       "      <td>0.604970</td>\n",
       "      <td>6.117143</td>\n",
       "      <td>10</td>\n",
       "      <td>10</td>\n",
       "      <td>10</td>\n",
       "      <td>10</td>\n",
       "      <td>5.463920</td>\n",
       "      <td>...</td>\n",
       "      <td>0.178732</td>\n",
       "      <td>0.224309</td>\n",
       "      <td>0.175644</td>\n",
       "      <td>0.615207</td>\n",
       "      <td>12.439656</td>\n",
       "      <td>-2.694677</td>\n",
       "      <td>0.498218</td>\n",
       "      <td>27.497826</td>\n",
       "      <td>0.621760</td>\n",
       "      <td>1.525403</td>\n",
       "    </tr>\n",
       "    <tr>\n",
       "      <th>3</th>\n",
       "      <td>0.203289</td>\n",
       "      <td>1.797292</td>\n",
       "      <td>0.414664</td>\n",
       "      <td>0.092664</td>\n",
       "      <td>3.297071</td>\n",
       "      <td>10</td>\n",
       "      <td>10</td>\n",
       "      <td>10</td>\n",
       "      <td>10</td>\n",
       "      <td>39.206211</td>\n",
       "      <td>...</td>\n",
       "      <td>-0.530272</td>\n",
       "      <td>-0.066309</td>\n",
       "      <td>0.058633</td>\n",
       "      <td>-0.109475</td>\n",
       "      <td>2.536093</td>\n",
       "      <td>-0.428295</td>\n",
       "      <td>-0.487515</td>\n",
       "      <td>9.252467</td>\n",
       "      <td>2.453116</td>\n",
       "      <td>-1.111630</td>\n",
       "    </tr>\n",
       "    <tr>\n",
       "      <th>12</th>\n",
       "      <td>0.412547</td>\n",
       "      <td>1.816359</td>\n",
       "      <td>1.537121</td>\n",
       "      <td>0.533256</td>\n",
       "      <td>0.924842</td>\n",
       "      <td>10</td>\n",
       "      <td>10</td>\n",
       "      <td>11</td>\n",
       "      <td>10</td>\n",
       "      <td>30.358725</td>\n",
       "      <td>...</td>\n",
       "      <td>-0.164217</td>\n",
       "      <td>-0.155510</td>\n",
       "      <td>0.175243</td>\n",
       "      <td>0.051742</td>\n",
       "      <td>18.037537</td>\n",
       "      <td>-0.796603</td>\n",
       "      <td>-1.167675</td>\n",
       "      <td>8.062246</td>\n",
       "      <td>2.322562</td>\n",
       "      <td>0.143439</td>\n",
       "    </tr>\n",
       "    <tr>\n",
       "      <th>13</th>\n",
       "      <td>1.000000</td>\n",
       "      <td>1.000000</td>\n",
       "      <td>1.000000</td>\n",
       "      <td>0.666072</td>\n",
       "      <td>3.661648</td>\n",
       "      <td>10</td>\n",
       "      <td>10</td>\n",
       "      <td>10</td>\n",
       "      <td>10</td>\n",
       "      <td>19.221223</td>\n",
       "      <td>...</td>\n",
       "      <td>-0.049048</td>\n",
       "      <td>-1.102329</td>\n",
       "      <td>-1.106432</td>\n",
       "      <td>0.026094</td>\n",
       "      <td>17.809995</td>\n",
       "      <td>-0.010321</td>\n",
       "      <td>0.504604</td>\n",
       "      <td>2.451051</td>\n",
       "      <td>-2.454931</td>\n",
       "      <td>0.060119</td>\n",
       "    </tr>\n",
       "    <tr>\n",
       "      <th>32</th>\n",
       "      <td>1.000000</td>\n",
       "      <td>1.000000</td>\n",
       "      <td>1.000000</td>\n",
       "      <td>0.960308</td>\n",
       "      <td>4.637460</td>\n",
       "      <td>10</td>\n",
       "      <td>10</td>\n",
       "      <td>10</td>\n",
       "      <td>10</td>\n",
       "      <td>33.953942</td>\n",
       "      <td>...</td>\n",
       "      <td>-0.006299</td>\n",
       "      <td>-0.056976</td>\n",
       "      <td>0.109527</td>\n",
       "      <td>-0.009077</td>\n",
       "      <td>5.152344</td>\n",
       "      <td>-1.097308</td>\n",
       "      <td>0.062317</td>\n",
       "      <td>8.930094</td>\n",
       "      <td>2.108329</td>\n",
       "      <td>-0.016631</td>\n",
       "    </tr>\n",
       "  </tbody>\n",
       "</table>\n",
       "<p>5 rows × 51 columns</p>\n",
       "</div>"
      ],
      "text/plain": [
       "       wt_cp_sm  wt_cp_ps  wt_cp_mm      rand  aco_angle_1  mva_dm_1  \\\n",
       "entry                                                                  \n",
       "1      0.370084  1.765682  1.648769  0.604970     6.117143        10   \n",
       "3      0.203289  1.797292  0.414664  0.092664     3.297071        10   \n",
       "12     0.412547  1.816359  1.537121  0.533256     0.924842        10   \n",
       "13     1.000000  1.000000  1.000000  0.666072     3.661648        10   \n",
       "32     1.000000  1.000000  1.000000  0.960308     4.637460        10   \n",
       "\n",
       "       mva_dm_2  tau_decay_mode_1  tau_decay_mode_2     pi_E_1  ...    sv_z_1  \\\n",
       "entry                                                           ...             \n",
       "1            10                10                10   5.463920  ...  0.178732   \n",
       "3            10                10                10  39.206211  ... -0.530272   \n",
       "12           10                11                10  30.358725  ... -0.164217   \n",
       "13           10                10                10  19.221223  ... -0.049048   \n",
       "32           10                10                10  33.953942  ... -0.006299   \n",
       "\n",
       "         sv_x_2    sv_y_2    sv_z_2  gen_nu_p_1  gen_nu_phi_1  gen_nu_eta_1  \\\n",
       "entry                                                                         \n",
       "1      0.224309  0.175644  0.615207   12.439656     -2.694677      0.498218   \n",
       "3     -0.066309  0.058633 -0.109475    2.536093     -0.428295     -0.487515   \n",
       "12    -0.155510  0.175243  0.051742   18.037537     -0.796603     -1.167675   \n",
       "13    -1.102329 -1.106432  0.026094   17.809995     -0.010321      0.504604   \n",
       "32    -0.056976  0.109527 -0.009077    5.152344     -1.097308      0.062317   \n",
       "\n",
       "       gen_nu_p_2  gen_nu_phi_2  gen_nu_eta_2  \n",
       "entry                                          \n",
       "1       27.497826      0.621760      1.525403  \n",
       "3        9.252467      2.453116     -1.111630  \n",
       "12       8.062246      2.322562      0.143439  \n",
       "13       2.451051     -2.454931      0.060119  \n",
       "32       8.930094      2.108329     -0.016631  \n",
       "\n",
       "[5 rows x 51 columns]"
      ]
     },
     "execution_count": 8,
     "metadata": {},
     "output_type": "execute_result"
    }
   ],
   "source": [
    "df.head()"
   ]
  },
  {
   "cell_type": "code",
   "execution_count": 96,
   "metadata": {
    "scrolled": true
   },
   "outputs": [
    {
     "data": {
      "text/plain": [
       "0"
      ]
     },
     "execution_count": 96,
     "metadata": {},
     "output_type": "execute_result"
    }
   ],
   "source": [
    "(df.gen_nu_eta_1==9999).sum()"
   ]
  },
  {
   "cell_type": "code",
   "execution_count": 10,
   "metadata": {},
   "outputs": [],
   "source": [
    "# df = df[(df['pi_E_1']!=0) & (df['pi_E_2']!=0) ]"
   ]
  },
  {
   "cell_type": "code",
   "execution_count": 11,
   "metadata": {},
   "outputs": [],
   "source": [
    "df = df[(df != 0).all(1)]"
   ]
  },
  {
   "cell_type": "code",
   "execution_count": 187,
   "metadata": {},
   "outputs": [],
   "source": [
    "df = df[(df != -9999).all(1)]"
   ]
  },
  {
   "cell_type": "code",
   "execution_count": 188,
   "metadata": {},
   "outputs": [],
   "source": [
    "def get_a1_info(df):\n",
    "    pi_1 = Momentum4(df['pi_E_1'], df['pi_px_1'], df['pi_py_1'], df['pi_pz_1'])\n",
    "    pi2_1 = Momentum4(df['pi2_E_1'], df['pi2_px_1'], df['pi2_py_1'], df['pi2_pz_1'])\n",
    "    pi3_1 = Momentum4(df['pi3_E_1'], df['pi3_px_1'], df['pi3_py_1'], df['pi3_pz_1'])\n",
    "    pi_2 = Momentum4(df['pi_E_2'], df['pi_px_2'], df['pi_py_2'], df['pi_pz_2'])\n",
    "    pi2_2 = Momentum4(df['pi2_E_2'], df['pi2_px_2'], df['pi2_py_2'], df['pi2_pz_2'])\n",
    "    pi3_2 = Momentum4(df['pi3_E_2'], df['pi3_px_2'], df['pi3_py_2'], df['pi3_pz_2'])\n",
    "    a1_1 = pi_1 + pi3_1 + pi2_1\n",
    "    a1_2 = pi_2 + pi3_2 + pi2_2\n",
    "\n",
    "    # ip_1 = np.c_[df['ip_x_1'], df['ip_y_1'], df['ip_z_1']]\n",
    "    sv_1 = np.c_[df['sv_x_1'], df['sv_y_1'], df['sv_z_1']]\n",
    "    # ip_2 = np.c_[df['ip_x_2'], df['ip_y_2'], df['ip_z_2']]\n",
    "    sv_2 = np.c_[df['sv_x_2'], df['sv_y_2'], df['sv_z_2']]\n",
    "    a1_1_p = np.c_[a1_1.p_x, a1_1.p_y, a1_1.p_z]\n",
    "    a1_2_p = np.c_[a1_2.p_x, a1_2.p_y, a1_2.p_z]\n",
    "\n",
    "    # tau_vec = np.c_[]\n",
    "\n",
    "    # found some 0s in a1_1_p - now fixed via cleaning\n",
    "    a1_1_p_norm = a1_1_p/np.sqrt((a1_1_p ** 2).sum(-1))[..., np.newaxis]\n",
    "    a1_2_p_norm = a1_2_p/np.sqrt((a1_2_p ** 2).sum(-1))[..., np.newaxis]\n",
    "    sv_1_norm = sv_1/np.sqrt((sv_1 ** 2).sum(-1))[..., np.newaxis]\n",
    "    sv_2_norm = sv_2/np.sqrt((sv_2 ** 2).sum(-1))[..., np.newaxis]\n",
    "\n",
    "    m_1 = a1_1.m\n",
    "    m_2 = a1_2.m\n",
    "\n",
    "    theta_1 = np.arccos(np.einsum('ij, ij->i', a1_1_p_norm, sv_1_norm))\n",
    "    theta_2 = np.arccos(np.einsum('ij, ij->i', a1_2_p_norm, sv_2_norm))\n",
    "    return m_1, m_2, a1_1, a1_2, theta_1, theta_2\n",
    "m_1, m_2, a1_1, a1_2, theta_1, theta_2 = get_a1_info(df)"
   ]
  },
  {
   "cell_type": "code",
   "execution_count": 189,
   "metadata": {},
   "outputs": [],
   "source": [
    "# theta filtering\n",
    "max_theta_1 = np.arcsin((m_tau**2-m_1**2)/(2*m_tau*a1_1.p))\n",
    "max_theta_2 = np.arcsin((m_tau**2-m_2**2)/(2*m_tau*a1_2.p))\n",
    "idx1 = max_theta_1<theta_1\n",
    "idx2 = max_theta_2<theta_2\n",
    "theta_1_f = theta_1\n",
    "theta_2_f = theta_2\n",
    "theta_1_f[idx1] = max_theta_1[idx1]\n",
    "theta_2_f[idx2] = max_theta_2[idx2]"
   ]
  },
  {
   "cell_type": "code",
   "execution_count": 21,
   "metadata": {},
   "outputs": [
    {
     "data": {
      "text/plain": [
       "(array([0.00834322, 0.00715157, 0.00668177, ..., 0.00187012, 0.00247809,\n",
       "        0.01412954]),\n",
       " array([0.00834322, 0.00715157, 0.00668177, ..., 0.00187012, 0.00247809,\n",
       "        0.01412954]))"
      ]
     },
     "execution_count": 21,
     "metadata": {},
     "output_type": "execute_result"
    }
   ],
   "source": [
    "theta_1, max_theta_1"
   ]
  },
  {
   "cell_type": "code",
   "execution_count": 190,
   "metadata": {},
   "outputs": [],
   "source": [
    "def paper_solution(m, p, theta):\n",
    "    # p is the magnitude\n",
    "    a = (m**2+m_tau**2)*p*np.cos(theta)\n",
    "    d = ((m**2-m_tau**2)**2-4*m_tau**2*p**2*np.sin(theta)**2)\n",
    "    d = np.round(d, 14) # for floating point error\n",
    "    b = np.sqrt((m**2+p**2)*d)\n",
    "    c = 2*(m**2+p**2*np.sin(theta)**2)\n",
    "    return (a+b)/c, (a-b)/c\n",
    "\n",
    "def my_solution(m, p, theta):\n",
    "    a = -4*(m**2+p**2*np.sin(theta)**2)\n",
    "    b = 8*p**3*np.cos(theta) + 4*p*np.cos(theta)*(m_tau**2-m**2) + 8*p*(m_tau**2+p**2)\n",
    "#     c = (m**2-m_tau**2)**2-4*p**2*(m**2+m_tau**2)\n",
    "    c = m_tau**4+m**4+4*p**4-2*m**2*m_tau**2-4*(m**2+p**2)*p**2-4*p**2*(m_tau**2-m**2) \n",
    "    return (-b + np.sqrt(b**2-4*a*c))/(2*a), (-b - np.sqrt(b**2-4*a*c))/(2*a)\n",
    "#     return np.roots([a,b,c])\n",
    "\n",
    "def test(m, p, theta):\n",
    "    return ((m**2-m_tau**2)**2-4*m_tau**2*p**2*np.sin(theta)**2)\n",
    "\n",
    "def wolfram(m, p, theta):\n",
    "    a = m_tau**2\n",
    "    b = m**2\n",
    "    c = m**2+p**2\n",
    "    d = p\n",
    "    e = np.cos(theta)\n",
    "    return (-a**2+b**2-2*c*d+2*d**2)/(2*(e*d-c)), (-a**2+b**2+2*c*d+2*d**2)/(2*(c+e*d))"
   ]
  },
  {
   "cell_type": "code",
   "execution_count": 49,
   "metadata": {},
   "outputs": [
    {
     "data": {
      "text/plain": [
       "DescribeResult(nobs=348427, minmax=(0.0, 9.05124689436282), mean=0.7356731495923835, variance=1.5838708216991852, skewness=1.7507648841216013, kurtosis=2.286091524541985)"
      ]
     },
     "execution_count": 49,
     "metadata": {},
     "output_type": "execute_result"
    }
   ],
   "source": [
    "from scipy import stats\n",
    "stats.describe(np.round(test(m_1, a1_1.p, theta_1), 14))"
   ]
  },
  {
   "cell_type": "code",
   "execution_count": 110,
   "metadata": {
    "collapsed": true,
    "jupyter": {
     "outputs_hidden": true
    }
   },
   "outputs": [
    {
     "data": {
      "image/png": "[encoded data removed]",
      "text/plain": [
       "<Figure size 720x432 with 1 Axes>"
      ]
     },
     "metadata": {
      "needs_background": "light"
     },
     "output_type": "display_data"
    }
   ],
   "source": [
    "plt.figure(figsize=(10,6))\n",
    "plt.hist(theta_1, bins=100, alpha=0.5)\n",
    "plt.hist(theta_2, bins=100, alpha=0.5)\n",
    "plt.show()"
   ]
  },
  {
   "cell_type": "code",
   "execution_count": 191,
   "metadata": {},
   "outputs": [],
   "source": [
    "def get_closest_soln(sol, mode=0):\n",
    "    m_higgs = 125\n",
    "    closest_soln = []\n",
    "    \n",
    "    for i in range(len(sol)):\n",
    "        if mode == 0:\n",
    "            solutions = np.array(sol[i])\n",
    "            distances = np.abs(solutions-m_higgs)\n",
    "            try:\n",
    "                ans = solutions[np.nanargmin(distances)]\n",
    "            except ValueError as e:\n",
    "                continue\n",
    "            closest_soln.append(ans)\n",
    "    #         closest_soln.append(solutions[np.nanargmin(distances)])\n",
    "        elif mode == 1:\n",
    "            closest_soln.append(max(sol[i][0], sol[i][1]))\n",
    "        elif mode == 2:\n",
    "            closest_soln.append(min(sol[i][0], sol[i][1]))\n",
    "        if i%100000==0:\n",
    "            print(f'getting {i}')\n",
    "#         if ans < 1:\n",
    "#             print(solutions)\n",
    "    return closest_soln"
   ]
  },
  {
   "cell_type": "code",
   "execution_count": 192,
   "metadata": {},
   "outputs": [
    {
     "name": "stdout",
     "output_type": "stream",
     "text": [
      "getting 0\n",
      "getting 100000\n",
      "getting 200000\n",
      "getting 300000\n",
      "getting 0\n",
      "getting 100000\n",
      "getting 200000\n",
      "getting 300000\n"
     ]
    }
   ],
   "source": [
    "sol1_p = paper_solution(m_1, a1_1.p, theta_1_f)\n",
    "sol2_p = paper_solution(m_2, a1_2.p, theta_2_f)\n",
    "closest_p_1 = get_closest_soln(np.array(sol1_p).T)\n",
    "closest_p_2 = get_closest_soln(np.array(sol2_p).T)"
   ]
  },
  {
   "cell_type": "code",
   "execution_count": 63,
   "metadata": {},
   "outputs": [
    {
     "data": {
      "image/png": "[encoded data removed]",
      "text/plain": [
       "<Figure size 720x432 with 1 Axes>"
      ]
     },
     "metadata": {
      "needs_background": "light"
     },
     "output_type": "display_data"
    }
   ],
   "source": [
    "plt.figure(figsize=(10,6))\n",
    "plt.hist(closest_p_1, bins=100, alpha=0.5, label='event 1')\n",
    "plt.hist(closest_p_2, bins=100, alpha=0.5, label='event 2')\n",
    "plt.axvline(125, color='black', label='higgs mass')\n",
    "plt.legend()\n",
    "plt.xlabel(r'$|p_\\tau|$ (GeV)')\n",
    "plt.ylabel('freq')\n",
    "plt.title('using closest to 125GeV (AN solution)')\n",
    "plt.savefig('./tau_reconstruction/reco_2.png')\n",
    "plt.show()"
   ]
  },
  {
   "cell_type": "code",
   "execution_count": 193,
   "metadata": {},
   "outputs": [
    {
     "name": "stdout",
     "output_type": "stream",
     "text": [
      "getting 0\n",
      "getting 100000\n",
      "getting 200000\n",
      "getting 300000\n"
     ]
    }
   ],
   "source": [
    "sol1 = my_solution(m_1, a1_1.p, theta_1)\n",
    "sol2 = my_solution(m_2, a1_2.p, theta_2)\n",
    "sol = np.c_[np.array(sol1).T, np.array(sol2).T]\n",
    "closest_soln_one = get_closest_soln(sol)"
   ]
  },
  {
   "cell_type": "code",
   "execution_count": 194,
   "metadata": {},
   "outputs": [
    {
     "name": "stdout",
     "output_type": "stream",
     "text": [
      "getting 0\n",
      "getting 100000\n",
      "getting 200000\n",
      "getting 300000\n",
      "getting 0\n",
      "getting 100000\n",
      "getting 200000\n",
      "getting 300000\n"
     ]
    }
   ],
   "source": [
    "sol1_w = wolfram(m_1, a1_1.p, theta_1)\n",
    "closest_w_1 = get_closest_soln(np.array(sol1_w).T)\n",
    "sol2_w = wolfram(m_2, a1_2.p, theta_2)\n",
    "closest_w_2 = get_closest_soln(np.array(sol2_w).T)"
   ]
  },
  {
   "cell_type": "code",
   "execution_count": 67,
   "metadata": {},
   "outputs": [
    {
     "data": {
      "image/png": "[encoded data removed]",
      "text/plain": [
       "<Figure size 720x432 with 1 Axes>"
      ]
     },
     "metadata": {
      "needs_background": "light"
     },
     "output_type": "display_data"
    }
   ],
   "source": [
    "plt.figure(figsize=(10,6))\n",
    "plt.hist(closest_w_1, bins=50, alpha=0.5, label='event 1')\n",
    "plt.hist(closest_w_2, bins=50, alpha=0.5, label='event 2')\n",
    "plt.axvline(125, color='black', label='higgs mass')\n",
    "plt.legend()\n",
    "plt.xlabel(r'$|p_\\tau|$ (GeV)')\n",
    "plt.ylabel('freq')\n",
    "plt.title('using closest to 125GeV (deriv solution)')\n",
    "plt.savefig('./tau_reconstruction/reco_1.png')\n",
    "plt.show()"
   ]
  },
  {
   "cell_type": "code",
   "execution_count": 14,
   "metadata": {
    "collapsed": true,
    "jupyter": {
     "outputs_hidden": true
    }
   },
   "outputs": [
    {
     "data": {
      "image/png": "[encoded data removed]",
      "text/plain": [
       "<Figure size 720x432 with 1 Axes>"
      ]
     },
     "metadata": {
      "needs_background": "light"
     },
     "output_type": "display_data"
    }
   ],
   "source": [
    "plt.figure(figsize=(10,6))\n",
    "plt.hist(closest_soln_one, bins=100)\n",
    "plt.axvline(125, color='black')\n",
    "plt.xlabel('Mass (GeV)')\n",
    "plt.ylabel('freq')\n",
    "plt.tight_layout()\n",
    "plt.show()"
   ]
  },
  {
   "cell_type": "code",
   "execution_count": 16,
   "metadata": {
    "collapsed": true,
    "jupyter": {
     "outputs_hidden": true
    }
   },
   "outputs": [
    {
     "name": "stdout",
     "output_type": "stream",
     "text": [
      "getting 0\n",
      "getting 100000\n",
      "getting 200000\n",
      "getting 300000\n",
      "getting 0\n",
      "getting 100000\n",
      "getting 200000\n",
      "getting 300000\n"
     ]
    }
   ],
   "source": [
    "closest_soln_two_1 = get_closest_soln(np.array(sol1).T)\n",
    "closest_soln_two_2 = get_closest_soln(np.array(sol2).T)"
   ]
  },
  {
   "cell_type": "code",
   "execution_count": 17,
   "metadata": {
    "collapsed": true,
    "jupyter": {
     "outputs_hidden": true
    }
   },
   "outputs": [
    {
     "data": {
      "image/png": "[encoded data removed]",
      "text/plain": [
       "<Figure size 720x432 with 1 Axes>"
      ]
     },
     "metadata": {
      "needs_background": "light"
     },
     "output_type": "display_data"
    }
   ],
   "source": [
    "plt.figure(figsize=(10,6))\n",
    "plt.hist(closest_soln_two_1, bins=100, alpha=0.5, label='event 1')\n",
    "plt.hist(closest_soln_two_2, bins=100, alpha=0.5, label='event 2')\n",
    "plt.axvline(125, color='black')\n",
    "plt.xlabel('Mass (GeV)')\n",
    "plt.ylabel('Freq')\n",
    "plt.tight_layout()\n",
    "plt.show()"
   ]
  },
  {
   "cell_type": "code",
   "execution_count": 33,
   "metadata": {
    "collapsed": true,
    "jupyter": {
     "outputs_hidden": true
    }
   },
   "outputs": [
    {
     "data": {
      "image/png": "[encoded data removed]",
      "text/plain": [
       "<Figure size 720x432 with 1 Axes>"
      ]
     },
     "metadata": {
      "needs_background": "light"
     },
     "output_type": "display_data"
    }
   ],
   "source": [
    "plt.figure(figsize=(10,6))\n",
    "plt.hist(sol1[0], bins=100)\n",
    "plt.show()"
   ]
  },
  {
   "cell_type": "code",
   "execution_count": 36,
   "metadata": {
    "collapsed": true,
    "jupyter": {
     "outputs_hidden": true
    }
   },
   "outputs": [
    {
     "data": {
      "image/png": "[encoded data removed]",
      "text/plain": [
       "<Figure size 720x432 with 1 Axes>"
      ]
     },
     "metadata": {
      "needs_background": "light"
     },
     "output_type": "display_data"
    }
   ],
   "source": [
    "plt.figure(figsize=(10,6))\n",
    "plt.hist(sol1[1], bins=100)\n",
    "plt.show()"
   ]
  },
  {
   "cell_type": "code",
   "execution_count": 45,
   "metadata": {},
   "outputs": [
    {
     "data": {
      "text/plain": [
       "6999159.608838446"
      ]
     },
     "execution_count": 45,
     "metadata": {},
     "output_type": "execute_result"
    }
   ],
   "source": [
    "np.mean(sol1[1][~np.isnan(sol1[1])])"
   ]
  },
  {
   "cell_type": "markdown",
   "metadata": {},
   "source": [
    "### now gen level"
   ]
  },
  {
   "cell_type": "code",
   "execution_count": 83,
   "metadata": {},
   "outputs": [
    {
     "name": "stderr",
     "output_type": "stream",
     "text": [
      "<ipython-input-83-67773bc513c1>:3: RuntimeWarning: invalid value encountered in arcsin\n",
      "  max_theta_1_gen = np.arcsin((m_tau**2-m_1_gen**2)/(2*m_tau*a1_1_gen.p))\n",
      "<ipython-input-83-67773bc513c1>:4: RuntimeWarning: invalid value encountered in arcsin\n",
      "  max_theta_2_gen = np.arcsin((m_tau**2-m_2_gen**2)/(2*m_tau*a1_2_gen.p))\n"
     ]
    }
   ],
   "source": [
    "# now gen level\n",
    "m_1_gen, m_2_gen, a1_1_gen, a1_2_gen, theta_1_gen, theta_2_gen = get_a1_info(df_gen)\n",
    "max_theta_1_gen = np.arcsin((m_tau**2-m_1_gen**2)/(2*m_tau*a1_1_gen.p))\n",
    "max_theta_2_gen = np.arcsin((m_tau**2-m_2_gen**2)/(2*m_tau*a1_2_gen.p))\n",
    "theta_1_gen[max_theta_1_gen<theta_1_gen] = max_theta_1_gen[max_theta_1_gen<theta_1_gen]\n",
    "theta_2_gen[max_theta_2_gen<theta_2_gen] = max_theta_2_gen[max_theta_2_gen<theta_2_gen]"
   ]
  },
  {
   "cell_type": "code",
   "execution_count": 46,
   "metadata": {},
   "outputs": [
    {
     "name": "stdout",
     "output_type": "stream",
     "text": [
      "getting 0\n",
      "getting 100000\n",
      "getting 200000\n",
      "getting 300000\n",
      "getting 400000\n",
      "getting 500000\n",
      "getting 600000\n",
      "getting 700000\n",
      "getting 800000\n",
      "getting 900000\n",
      "getting 1000000\n",
      "getting 1100000\n",
      "getting 1200000\n",
      "getting 1300000\n"
     ]
    }
   ],
   "source": [
    "sol1_gen = my_solution(m_1_gen, a1_1_gen.p, theta_1_gen)\n",
    "sol2_gen = my_solution(m_2_gen, a1_2_gen.p, theta_2_gen)\n",
    "sol_gen = np.c_[np.array(sol1_gen).T, np.array(sol2_gen).T]\n",
    "closest_soln_one_gen = get_closest_soln(sol_gen)"
   ]
  },
  {
   "cell_type": "code",
   "execution_count": 84,
   "metadata": {},
   "outputs": [
    {
     "name": "stdout",
     "output_type": "stream",
     "text": [
      "getting 0\n",
      "getting 100000\n",
      "getting 200000\n",
      "getting 300000\n",
      "getting 400000\n",
      "getting 500000\n",
      "getting 600000\n",
      "getting 700000\n",
      "getting 800000\n",
      "getting 900000\n",
      "getting 1000000\n",
      "getting 1100000\n",
      "getting 1200000\n",
      "getting 1300000\n",
      "getting 0\n",
      "getting 100000\n",
      "getting 200000\n",
      "getting 300000\n",
      "getting 400000\n",
      "getting 500000\n",
      "getting 600000\n",
      "getting 700000\n",
      "getting 800000\n",
      "getting 900000\n",
      "getting 1000000\n",
      "getting 1100000\n",
      "getting 1200000\n",
      "getting 1300000\n"
     ]
    }
   ],
   "source": [
    "sol1_gen_p = paper_solution(m_1_gen, a1_1_gen.p, theta_1_gen)\n",
    "sol2_gen_p = paper_solution(m_2_gen, a1_2_gen.p, theta_2_gen)\n",
    "closest_soln_1_gen_p = get_closest_soln(np.array(sol1_gen_p).T)\n",
    "closest_soln_2_gen_p = get_closest_soln(np.array(sol2_gen_p).T)"
   ]
  },
  {
   "cell_type": "code",
   "execution_count": 75,
   "metadata": {},
   "outputs": [
    {
     "name": "stdout",
     "output_type": "stream",
     "text": [
      "getting 0\n",
      "getting 100000\n",
      "getting 200000\n",
      "getting 300000\n",
      "getting 400000\n",
      "getting 500000\n",
      "getting 600000\n",
      "getting 700000\n",
      "getting 800000\n",
      "getting 900000\n",
      "getting 1000000\n",
      "getting 1100000\n",
      "getting 1200000\n",
      "getting 1300000\n",
      "getting 0\n",
      "getting 100000\n",
      "getting 200000\n",
      "getting 300000\n",
      "getting 400000\n",
      "getting 500000\n",
      "getting 600000\n",
      "getting 700000\n",
      "getting 800000\n",
      "getting 900000\n",
      "getting 1000000\n",
      "getting 1100000\n",
      "getting 1200000\n",
      "getting 1300000\n"
     ]
    }
   ],
   "source": [
    "sol1_gen_w = wolfram(m_1_gen, a1_1_gen.p, theta_1_gen)\n",
    "sol2_gen_w = wolfram(m_2_gen, a1_2_gen.p, theta_2_gen)\n",
    "closest_soln_1_gen_w = get_closest_soln(np.array(sol1_gen_w).T)\n",
    "closest_soln_2_gen_w = get_closest_soln(np.array(sol2_gen_w).T)"
   ]
  },
  {
   "cell_type": "code",
   "execution_count": 78,
   "metadata": {},
   "outputs": [
    {
     "data": {
      "image/png": "[encoded data removed]",
      "text/plain": [
       "<Figure size 720x432 with 1 Axes>"
      ]
     },
     "metadata": {
      "needs_background": "light"
     },
     "output_type": "display_data"
    }
   ],
   "source": [
    "plt.figure(figsize=(10,6))\n",
    "plt.hist(closest_soln_1_gen_w, bins=100, alpha=0.5, label='event 1')\n",
    "plt.hist(closest_soln_2_gen_w, bins=100, alpha=0.5, label='event 2')\n",
    "plt.axvline(125, color='black', label='higgs mass')\n",
    "plt.legend()\n",
    "plt.xlabel(r'$|p_\\tau|$ (GeV)')\n",
    "plt.ylabel('freq')\n",
    "plt.title('using closest to 125GeV (deriv solution) from gen')\n",
    "plt.savefig('./tau_reconstruction/reco_1_gen.png')\n",
    "plt.show()"
   ]
  },
  {
   "cell_type": "code",
   "execution_count": 86,
   "metadata": {},
   "outputs": [
    {
     "data": {
      "image/png": "[encoded data removed]",
      "text/plain": [
       "<Figure size 720x432 with 1 Axes>"
      ]
     },
     "metadata": {
      "needs_background": "light"
     },
     "output_type": "display_data"
    }
   ],
   "source": [
    "plt.figure(figsize=(10,6))\n",
    "plt.hist(closest_soln_1_gen_p, bins=100, alpha=0.5, label='event 1')\n",
    "plt.hist(closest_soln_2_gen_p, bins=100, alpha=0.5, label='event 2')\n",
    "plt.axvline(125, color='black', label='higgs mass')\n",
    "plt.legend()\n",
    "plt.xlabel(r'$|p_\\tau|$ (GeV)')\n",
    "plt.ylabel('freq')\n",
    "plt.title('using closest to 125GeV (AN solution) from gen')\n",
    "plt.savefig('./tau_reconstruction/reco_2_gen.png')\n",
    "plt.show()"
   ]
  },
  {
   "cell_type": "code",
   "execution_count": 39,
   "metadata": {
    "collapsed": true,
    "jupyter": {
     "outputs_hidden": true
    }
   },
   "outputs": [
    {
     "data": {
      "image/png": "[encoded data removed]",
      "text/plain": [
       "<Figure size 720x432 with 1 Axes>"
      ]
     },
     "metadata": {
      "needs_background": "light"
     },
     "output_type": "display_data"
    }
   ],
   "source": [
    "plt.figure(figsize=(10,6))\n",
    "plt.hist(closest_soln_one_gen, bins=100)\n",
    "plt.axvline(125, color='black')\n",
    "plt.xlabel('Mass (GeV)')\n",
    "plt.ylabel('freq')\n",
    "plt.tight_layout()\n",
    "plt.show()"
   ]
  },
  {
   "cell_type": "code",
   "execution_count": 42,
   "metadata": {
    "collapsed": true,
    "jupyter": {
     "outputs_hidden": true
    }
   },
   "outputs": [
    {
     "name": "stdout",
     "output_type": "stream",
     "text": [
      "getting 0\n",
      "getting 100000\n",
      "getting 200000\n",
      "getting 300000\n",
      "getting 400000\n",
      "getting 500000\n",
      "getting 600000\n",
      "getting 700000\n",
      "getting 800000\n",
      "getting 900000\n",
      "getting 1000000\n",
      "getting 1100000\n",
      "getting 1200000\n",
      "getting 1300000\n",
      "getting 0\n",
      "getting 100000\n",
      "getting 200000\n",
      "getting 300000\n",
      "getting 400000\n",
      "getting 500000\n",
      "getting 600000\n",
      "getting 700000\n",
      "getting 800000\n",
      "getting 900000\n",
      "getting 1000000\n",
      "getting 1100000\n",
      "getting 1200000\n",
      "getting 1300000\n"
     ]
    }
   ],
   "source": [
    "closest_soln_two_1_gen = get_closest_soln(np.array(sol1_gen).T)\n",
    "closest_soln_two_2_gen = get_closest_soln(np.array(sol2_gen).T)"
   ]
  },
  {
   "cell_type": "code",
   "execution_count": 43,
   "metadata": {
    "collapsed": true,
    "jupyter": {
     "outputs_hidden": true
    }
   },
   "outputs": [
    {
     "data": {
      "image/png": "[encoded data removed]",
      "text/plain": [
       "<Figure size 720x432 with 1 Axes>"
      ]
     },
     "metadata": {
      "needs_background": "light"
     },
     "output_type": "display_data"
    }
   ],
   "source": [
    "plt.figure(figsize=(10,6))\n",
    "plt.hist(closest_soln_two_1_gen, bins=100, alpha=0.5, label='event 1')\n",
    "plt.hist(closest_soln_two_2_gen, bins=100, alpha=0.5, label='event 2')\n",
    "plt.axvline(125, color='black')\n",
    "plt.xlabel('Mass (GeV)')\n",
    "plt.ylabel('Freq')\n",
    "plt.tight_layout()\n",
    "plt.show()"
   ]
  },
  {
   "cell_type": "markdown",
   "metadata": {},
   "source": [
    "### checking what selection method is correct"
   ]
  },
  {
   "cell_type": "code",
   "execution_count": 98,
   "metadata": {},
   "outputs": [],
   "source": [
    "def get_tau(df):\n",
    "    pi_1 = Momentum4(df['pi_E_1'], df['pi_px_1'], df['pi_py_1'], df['pi_pz_1'])\n",
    "    pi2_1 = Momentum4(df['pi2_E_1'], df['pi2_px_1'], df['pi2_py_1'], df['pi2_pz_1'])\n",
    "    pi3_1 = Momentum4(df['pi3_E_1'], df['pi3_px_1'], df['pi3_py_1'], df['pi3_pz_1'])\n",
    "    pi_2 = Momentum4(df['pi_E_2'], df['pi_px_2'], df['pi_py_2'], df['pi_pz_2'])\n",
    "    pi2_2 = Momentum4(df['pi2_E_2'], df['pi2_px_2'], df['pi2_py_2'], df['pi2_pz_2'])\n",
    "    pi3_2 = Momentum4(df['pi3_E_2'], df['pi3_px_2'], df['pi3_py_2'], df['pi3_pz_2'])\n",
    "    nu_1 = Momentum4.m_eta_phi_p(np.zeros(len(df[\"gen_nu_phi_1\"])), df[\"gen_nu_eta_1\"], df[\"gen_nu_phi_1\"], df[\"gen_nu_p_1\"])\n",
    "    nu_2 = Momentum4.m_eta_phi_p(np.zeros(len(df[\"gen_nu_phi_2\"])), df[\"gen_nu_eta_2\"], df[\"gen_nu_phi_2\"], df[\"gen_nu_p_2\"])\n",
    "    tau_1 = pi_1 + pi3_1 + pi2_1 + nu_1\n",
    "    tau_2 = pi_2 + pi3_2 + pi2_2 + nu_2\n",
    "    return tau_1, tau_2, nu_1, nu_2"
   ]
  },
  {
   "cell_type": "code",
   "execution_count": 87,
   "metadata": {},
   "outputs": [
    {
     "data": {
      "text/plain": [
       "Index(['wt_cp_sm', 'wt_cp_ps', 'wt_cp_mm', 'rand', 'aco_angle_1', 'mva_dm_1',\n",
       "       'mva_dm_2', 'tau_decay_mode_1', 'tau_decay_mode_2', 'pi_E_1', 'pi_px_1',\n",
       "       'pi_py_1', 'pi_pz_1', 'pi_E_2', 'pi_px_2', 'pi_py_2', 'pi_pz_2',\n",
       "       'pi2_E_1', 'pi2_px_1', 'pi2_py_1', 'pi2_pz_1', 'pi3_E_1', 'pi3_px_1',\n",
       "       'pi3_py_1', 'pi3_pz_1', 'pi2_px_2', 'pi2_py_2', 'pi2_pz_2', 'pi2_E_2',\n",
       "       'pi3_px_2', 'pi3_py_2', 'pi3_pz_2', 'pi3_E_2', 'ip_x_1', 'ip_y_1',\n",
       "       'ip_z_1', 'ip_x_2', 'ip_y_2', 'ip_z_2', 'sv_x_1', 'sv_y_1', 'sv_z_1',\n",
       "       'sv_x_2', 'sv_y_2', 'sv_z_2', 'gen_nu_p_1', 'gen_nu_phi_1',\n",
       "       'gen_nu_eta_1', 'gen_nu_p_2', 'gen_nu_phi_2', 'gen_nu_eta_2'],\n",
       "      dtype='object')"
      ]
     },
     "execution_count": 87,
     "metadata": {},
     "output_type": "execute_result"
    }
   ],
   "source": [
    "df.columns"
   ]
  },
  {
   "cell_type": "code",
   "execution_count": 143,
   "metadata": {},
   "outputs": [
    {
     "data": {
      "text/plain": [
       "4926"
      ]
     },
     "execution_count": 143,
     "metadata": {},
     "output_type": "execute_result"
    }
   ],
   "source": [
    "(df.gen_nu_p_1==-9999).sum()"
   ]
  },
  {
   "cell_type": "code",
   "execution_count": 186,
   "metadata": {},
   "outputs": [],
   "source": [
    "tau_1, tau_2, nu_1, nu_2 = get_tau(df)"
   ]
  },
  {
   "cell_type": "code",
   "execution_count": 160,
   "metadata": {},
   "outputs": [
    {
     "data": {
      "image/png": "[encoded data removed]",
      "text/plain": [
       "<Figure size 720x432 with 1 Axes>"
      ]
     },
     "metadata": {
      "needs_background": "light"
     },
     "output_type": "display_data"
    }
   ],
   "source": [
    "plt.figure(figsize=(10,6))\n",
    "plt.axvline(125, color='black')\n",
    "plt.hist(tau_1.p, bins=100, alpha=0.5, label='from gen')\n",
    "plt.hist(closest_w_1, bins=100, alpha=0.5, label='from deriv')\n",
    "plt.hist(closest_p_1, bins=100, alpha=0.5, label='from AN')\n",
    "plt.title('tau_1 p reconstruction')\n",
    "plt.xlabel(r'$|p_\\tau|$ (GeV)')\n",
    "plt.ylabel('freq')\n",
    "plt.legend()\n",
    "plt.savefig('./tau_reconstruction/tau_1.png')\n",
    "plt.show()"
   ]
  },
  {
   "cell_type": "code",
   "execution_count": 178,
   "metadata": {},
   "outputs": [
    {
     "name": "stdout",
     "output_type": "stream",
     "text": [
      "getting 0\n",
      "getting 100000\n",
      "getting 200000\n",
      "getting 300000\n",
      "getting 0\n",
      "getting 100000\n",
      "getting 200000\n",
      "getting 300000\n",
      "getting 0\n",
      "getting 100000\n",
      "getting 200000\n",
      "getting 300000\n",
      "getting 0\n",
      "getting 100000\n",
      "getting 200000\n",
      "getting 300000\n"
     ]
    }
   ],
   "source": [
    "closest_w_1_max = get_closest_soln(np.array(sol1_w).T, mode=1)\n",
    "closest_w_1_min = get_closest_soln(np.array(sol1_w).T, mode=2)\n",
    "closest_p_1_max = get_closest_soln(np.array(sol1_p).T, mode=1)\n",
    "closest_p_1_min = get_closest_soln(np.array(sol1_p).T, mode=2)\n",
    "# closest_w_2_max = get_closest_soln(np.array(sol2_w).T, mode=1)"
   ]
  },
  {
   "cell_type": "code",
   "execution_count": 168,
   "metadata": {},
   "outputs": [
    {
     "data": {
      "image/png": "[encoded data removed]",
      "text/plain": [
       "<Figure size 720x432 with 1 Axes>"
      ]
     },
     "metadata": {
      "needs_background": "light"
     },
     "output_type": "display_data"
    }
   ],
   "source": [
    "plt.figure(figsize=(10,6))\n",
    "plt.axvline(125, color='black')\n",
    "plt.hist(closest_w_1, bins=100, alpha=0.5, label='closest')\n",
    "plt.hist(closest_w_1_max, bins=100, alpha=0.5, label='max')\n",
    "plt.hist(closest_w_1_min, bins=100, alpha=0.5, label='min')\n",
    "# plt.title('tau_1 p reconstruction')\n",
    "plt.xlabel(r'$|p_\\tau|$ (GeV)')\n",
    "plt.ylabel('freq')\n",
    "plt.legend()\n",
    "plt.show()"
   ]
  },
  {
   "cell_type": "code",
   "execution_count": 217,
   "metadata": {},
   "outputs": [],
   "source": [
    "import scipy.stats as sps\n",
    "from collections import Counter\n",
    "def profileplot_plain(x, y, xlabel='', ylabel='', bins=100, plot_range=None):\n",
    "    means_result = sps.binned_statistic(x, [y, y**2], bins=bins, statistic='mean', range=plot_range)\n",
    "    means, means2 = means_result.statistic\n",
    "    standard_deviations = np.sqrt(means2 - means**2)\n",
    "    bin_edges = means_result.bin_edges\n",
    "    bin_centers = (bin_edges[:-1] + bin_edges[1:])/2.\n",
    "#     plt.figure()\n",
    "    plt.errorbar(x=bin_centers, y=means, yerr=standard_deviations, linestyle='none', marker='.', capsize=2)\n",
    "    plt.grid()\n",
    "    plt.xlabel(xlabel)\n",
    "    plt.ylabel(ylabel)\n",
    "    plt.tight_layout()\n",
    "def profileplot(x, y, xlabel='', ylabel='', bins=100, mode=0, label=''):\n",
    "    means_result = sps.binned_statistic(x, [y, y**2], bins=bins, statistic='mean')\n",
    "    means, means2 = means_result.statistic\n",
    "    standard_deviations = np.sqrt(means2 - means**2)\n",
    "    bin_edges = means_result.bin_edges\n",
    "    bin_centers = (bin_edges[:-1] + bin_edges[1:])/2.\n",
    "    # remove NaNs and single count bins\n",
    "    nan_idx = np.argwhere(np.isnan(means) ).flatten()\n",
    "    zero_idx = np.argwhere(standard_deviations == 0)\n",
    "    to_remove = np.union1d(nan_idx, zero_idx)\n",
    "    means = np.delete(means, to_remove, None)\n",
    "    bin_centers = np.delete(bin_centers, to_remove, None)\n",
    "    standard_deviations = np.delete(standard_deviations, to_remove, None)\n",
    "    count = Counter(means_result.binnumber)\n",
    "    to_remove_set = set(to_remove)\n",
    "    N = []\n",
    "    for i in range(1,bins+1):\n",
    "        if i-1 in to_remove_set:\n",
    "            continue\n",
    "        if i in count:\n",
    "            N.append(count[i])\n",
    "    # print(to_remove.shape)\n",
    "    # print(bin_centers.shape, means.shape)\n",
    "    yerr = standard_deviations/np.sqrt(N)\n",
    "    # yerr = standard_deviations\n",
    "    # fitting\n",
    "    # print(bin_centers, means, yerr)\n",
    "#     plt.figure()\n",
    "    plt.errorbar(x=bin_centers, y=means, yerr=yerr, linestyle='none', marker='.', capsize=2, label=label)\n",
    "    if mode == 1:\n",
    "        fit, cov = np.polyfit(bin_centers, means, 1, w=1/yerr, cov=True)\n",
    "        p = np.poly1d(fit)\n",
    "        print(f\"Fit params: {fit[0]}, {fit[1]}\")\n",
    "        print(f\"Diag of cov: {cov[0][0]} , {cov[1][1]}\")\n",
    "        plt.plot(bin_centers, p(bin_centers))\n",
    "    plt.grid()\n",
    "    plt.xlabel(xlabel)\n",
    "    plt.ylabel(ylabel)\n",
    "#     plt.tight_layout()"
   ]
  },
  {
   "cell_type": "code",
   "execution_count": 219,
   "metadata": {},
   "outputs": [
    {
     "data": {
      "image/png": "[encoded data removed]",
      "text/plain": [
       "<Figure size 720x432 with 1 Axes>"
      ]
     },
     "metadata": {
      "needs_background": "light"
     },
     "output_type": "display_data"
    }
   ],
   "source": [
    "plt.figure(figsize=(10,6))\n",
    "# profileplot_plain(tau_1.p, err_1)\n",
    "profileplot(tau_1.p, tau_1.p-closest_w_1, label='derived solution')\n",
    "profileplot(tau_1.p, tau_1.p-closest_p_1, label='AN solution')\n",
    "plt.grid()\n",
    "plt.legend()\n",
    "plt.xlabel(r'$p_\\tau$')\n",
    "plt.ylabel('error (true-approx)')\n",
    "plt.savefig('./tau_reconstruction/error_1.png')\n",
    "plt.show()"
   ]
  },
  {
   "cell_type": "code",
   "execution_count": 221,
   "metadata": {},
   "outputs": [
    {
     "data": {
      "image/png": "[encoded data removed]",
      "text/plain": [
       "<Figure size 720x432 with 1 Axes>"
      ]
     },
     "metadata": {
      "needs_background": "light"
     },
     "output_type": "display_data"
    }
   ],
   "source": [
    "plt.figure(figsize=(10,6))\n",
    "# profileplot_plain(tau_1.p, err_1)\n",
    "profileplot(tau_1.p, (tau_1.p-closest_w_1)/tau_1.p, label='derived solution')\n",
    "profileplot(tau_1.p, (tau_1.p-closest_p_1)/tau_1.p, label='AN solution')\n",
    "plt.grid()\n",
    "plt.legend()\n",
    "plt.xlabel(r'$p_\\tau$')\n",
    "plt.ylabel('relative error (true-approx)/true')\n",
    "plt.savefig('./tau_reconstruction/rel_error_1.png')\n",
    "plt.show()"
   ]
  },
  {
   "cell_type": "code",
   "execution_count": 183,
   "metadata": {},
   "outputs": [
    {
     "data": {
      "image/png": "[encoded data removed]",
      "text/plain": [
       "<Figure size 720x432 with 1 Axes>"
      ]
     },
     "metadata": {
      "needs_background": "light"
     },
     "output_type": "display_data"
    }
   ],
   "source": [
    "plt.figure(figsize=(10,6))\n",
    "plt.axvline(125, color='black')\n",
    "plt.hist(closest_p_1, bins=100, alpha=0.5, label='closest')\n",
    "plt.hist(closest_p_1_max, bins=100, alpha=0.5, label='max')\n",
    "plt.hist(closest_p_1_min, bins=100, alpha=0.5, label='min')\n",
    "# plt.title('tau_1 p reconstruction')\n",
    "plt.xlabel(r'$|p_\\tau|$ (GeV)')\n",
    "plt.ylabel('freq')\n",
    "plt.legend()\n",
    "plt.show()"
   ]
  },
  {
   "cell_type": "code",
   "execution_count": 15,
   "metadata": {},
   "outputs": [],
   "source": [
    "a = np.array([1,2,3])\n",
    "b = np.arange(1,7).reshape(3,2)"
   ]
  },
  {
   "cell_type": "code",
   "execution_count": 24,
   "metadata": {},
   "outputs": [
    {
     "data": {
      "text/plain": [
       "(array([1, 2, 3]),\n",
       " array([[1, 2],\n",
       "        [3, 4],\n",
       "        [5, 6]]))"
      ]
     },
     "execution_count": 24,
     "metadata": {},
     "output_type": "execute_result"
    }
   ],
   "source": [
    "a,b"
   ]
  },
  {
   "cell_type": "code",
   "execution_count": 26,
   "metadata": {},
   "outputs": [
    {
     "data": {
      "text/plain": [
       "array([[ 1,  2],\n",
       "       [ 6,  8],\n",
       "       [15, 18]])"
      ]
     },
     "execution_count": 26,
     "metadata": {},
     "output_type": "execute_result"
    }
   ],
   "source": [
    "np.multiply(a[:, None], b)"
   ]
  },
  {
   "cell_type": "code",
   "execution_count": 181,
   "metadata": {},
   "outputs": [
    {
     "data": {
      "image/png": "[encoded data removed]",
      "text/plain": [
       "<Figure size 720x432 with 1 Axes>"
      ]
     },
     "metadata": {
      "needs_background": "light"
     },
     "output_type": "display_data"
    }
   ],
   "source": [
    "plt.figure(figsize=(10,6))\n",
    "plt.hist(sol1_p[0]- sol1_p[1], bins=100)\n",
    "plt.show()"
   ]
  }
 ],
 "metadata": {
  "kernelspec": {
   "display_name": "Python 3",
   "language": "python",
   "name": "python3"
  },
  "language_info": {
   "codemirror_mode": {
    "name": "ipython",
    "version": 3
   },
   "file_extension": ".py",
   "mimetype": "text/x-python",
   "name": "python",
   "nbconvert_exporter": "python",
   "pygments_lexer": "ipython3",
   "version": "3.8.5"
  },
  "toc-autonumbering": false,
  "toc-showcode": false,
  "toc-showmarkdowntxt": false
 },
 "nbformat": 4,
 "nbformat_minor": 4
}
