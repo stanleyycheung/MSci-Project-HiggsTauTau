{
 "cells": [
  {
   "cell_type": "code",
   "execution_count": 1,
   "metadata": {},
   "outputs": [],
   "source": [
    "import numpy as np\n",
    "import pandas as pd\n",
    "import uproot\n",
    "from pylorentz import Momentum4\n",
    "import matplotlib.pyplot as plt\n",
    "m_tau = 1.776"
   ]
  },
  {
   "cell_type": "code",
   "execution_count": 4,
   "metadata": {},
   "outputs": [],
   "source": [
    "variables_a1_a1_gen = [\n",
    "    \"wt_cp_sm\", \"wt_cp_ps\", \"wt_cp_mm\", \"rand\",\n",
    "    \"dm_1\", \"dm_2\",\n",
    "    \"pi_E_1\", \"pi_px_1\", \"pi_py_1\", \"pi_pz_1\",\n",
    "    \"pi_E_2\", \"pi_px_2\", \"pi_py_2\", \"pi_pz_2\",\n",
    "    \"pi2_E_1\", \"pi2_px_1\", \"pi2_py_1\", \"pi2_pz_1\",\n",
    "    \"pi3_E_1\", \"pi3_px_1\", \"pi3_py_1\", \"pi3_pz_1\",\n",
    "    \"pi2_px_2\", \"pi2_py_2\", \"pi2_pz_2\", \"pi2_E_2\",\n",
    "    \"pi3_px_2\", \"pi3_py_2\", \"pi3_pz_2\", \"pi3_E_2\",\n",
    "    \"sv_x_1\", \"sv_y_1\", \"sv_z_1\",\n",
    "    \"sv_x_2\", \"sv_y_2\", \"sv_z_2\",\n",
    "    \"nu_E_1\", \"nu_px_1\", \"nu_py_1\", \"nu_pz_1\", \n",
    "    \"nu_E_2\", \"nu_px_2\", \"nu_py_2\", \"nu_pz_2\",]\n",
    "tree_tt_gen = uproot.open(\"./MVAFILE_GEN_AllHiggs_tt_new.root\")[\"ntuple\"]\n",
    "df_gen = tree_tt_gen.pandas.df(variables_a1_a1_gen)\n",
    "df_gen.to_pickle(f\"../shared/df_tt_a1_a1_gen.pkl\")"
   ]
  },
  {
   "cell_type": "code",
   "execution_count": 3,
   "metadata": {},
   "outputs": [],
   "source": [
    "df_gen = pd.read_pickle(f\"../shared/df_tt_a1_a1_gen.pkl\")"
   ]
  },
  {
   "cell_type": "code",
   "execution_count": 5,
   "metadata": {},
   "outputs": [],
   "source": [
    "df_gen = df_gen[(df_gen['dm_1']==10) & (df_gen['dm_2']==10)]"
   ]
  },
  {
   "cell_type": "code",
   "execution_count": 6,
   "metadata": {},
   "outputs": [],
   "source": [
    "df_gen = df_gen[(df_gen != 0).all(1)]"
   ]
  },
  {
   "cell_type": "code",
   "execution_count": 7,
   "metadata": {},
   "outputs": [
    {
     "data": {
      "text/html": [
       "<div>\n",
       "<style scoped>\n",
       "    .dataframe tbody tr th:only-of-type {\n",
       "        vertical-align: middle;\n",
       "    }\n",
       "\n",
       "    .dataframe tbody tr th {\n",
       "        vertical-align: top;\n",
       "    }\n",
       "\n",
       "    .dataframe thead th {\n",
       "        text-align: right;\n",
       "    }\n",
       "</style>\n",
       "<table border=\"1\" class=\"dataframe\">\n",
       "  <thead>\n",
       "    <tr style=\"text-align: right;\">\n",
       "      <th></th>\n",
       "      <th>wt_cp_sm</th>\n",
       "      <th>wt_cp_ps</th>\n",
       "      <th>wt_cp_mm</th>\n",
       "      <th>rand</th>\n",
       "      <th>dm_1</th>\n",
       "      <th>dm_2</th>\n",
       "      <th>pi_E_1</th>\n",
       "      <th>pi_px_1</th>\n",
       "      <th>pi_py_1</th>\n",
       "      <th>pi_pz_1</th>\n",
       "      <th>...</th>\n",
       "      <th>sv_y_2</th>\n",
       "      <th>sv_z_2</th>\n",
       "      <th>nu_E_1</th>\n",
       "      <th>nu_px_1</th>\n",
       "      <th>nu_py_1</th>\n",
       "      <th>nu_pz_1</th>\n",
       "      <th>nu_E_2</th>\n",
       "      <th>nu_px_2</th>\n",
       "      <th>nu_py_2</th>\n",
       "      <th>nu_pz_2</th>\n",
       "    </tr>\n",
       "    <tr>\n",
       "      <th>entry</th>\n",
       "      <th></th>\n",
       "      <th></th>\n",
       "      <th></th>\n",
       "      <th></th>\n",
       "      <th></th>\n",
       "      <th></th>\n",
       "      <th></th>\n",
       "      <th></th>\n",
       "      <th></th>\n",
       "      <th></th>\n",
       "      <th></th>\n",
       "      <th></th>\n",
       "      <th></th>\n",
       "      <th></th>\n",
       "      <th></th>\n",
       "      <th></th>\n",
       "      <th></th>\n",
       "      <th></th>\n",
       "      <th></th>\n",
       "      <th></th>\n",
       "      <th></th>\n",
       "    </tr>\n",
       "  </thead>\n",
       "  <tbody>\n",
       "    <tr>\n",
       "      <th>4</th>\n",
       "      <td>0.370084</td>\n",
       "      <td>1.765682</td>\n",
       "      <td>1.648769</td>\n",
       "      <td>0.604970</td>\n",
       "      <td>10.0</td>\n",
       "      <td>10.0</td>\n",
       "      <td>5.500041</td>\n",
       "      <td>-4.350674</td>\n",
       "      <td>-2.053902</td>\n",
       "      <td>2.661596</td>\n",
       "      <td>...</td>\n",
       "      <td>0.151155</td>\n",
       "      <td>0.536159</td>\n",
       "      <td>12.439656</td>\n",
       "      <td>-9.956415</td>\n",
       "      <td>-4.771683</td>\n",
       "      <td>5.731132</td>\n",
       "      <td>27.497826</td>\n",
       "      <td>9.285120</td>\n",
       "      <td>6.653428</td>\n",
       "      <td>25.012974</td>\n",
       "    </tr>\n",
       "    <tr>\n",
       "      <th>12</th>\n",
       "      <td>0.403054</td>\n",
       "      <td>1.167738</td>\n",
       "      <td>0.118793</td>\n",
       "      <td>0.231651</td>\n",
       "      <td>10.0</td>\n",
       "      <td>10.0</td>\n",
       "      <td>123.374205</td>\n",
       "      <td>-10.398425</td>\n",
       "      <td>-26.224208</td>\n",
       "      <td>-120.105531</td>\n",
       "      <td>...</td>\n",
       "      <td>0.542358</td>\n",
       "      <td>-1.582369</td>\n",
       "      <td>61.721165</td>\n",
       "      <td>-5.279255</td>\n",
       "      <td>-13.060096</td>\n",
       "      <td>-60.092143</td>\n",
       "      <td>81.291194</td>\n",
       "      <td>16.274678</td>\n",
       "      <td>25.851572</td>\n",
       "      <td>-75.333189</td>\n",
       "    </tr>\n",
       "    <tr>\n",
       "      <th>15</th>\n",
       "      <td>0.203289</td>\n",
       "      <td>1.797292</td>\n",
       "      <td>0.414664</td>\n",
       "      <td>0.092664</td>\n",
       "      <td>10.0</td>\n",
       "      <td>10.0</td>\n",
       "      <td>41.659845</td>\n",
       "      <td>31.126593</td>\n",
       "      <td>-18.033808</td>\n",
       "      <td>-21.010477</td>\n",
       "      <td>...</td>\n",
       "      <td>0.107171</td>\n",
       "      <td>-0.210013</td>\n",
       "      <td>2.536093</td>\n",
       "      <td>2.057622</td>\n",
       "      <td>-0.939425</td>\n",
       "      <td>-1.146927</td>\n",
       "      <td>9.252467</td>\n",
       "      <td>-4.242394</td>\n",
       "      <td>3.490547</td>\n",
       "      <td>-7.444885</td>\n",
       "    </tr>\n",
       "    <tr>\n",
       "      <th>35</th>\n",
       "      <td>0.115375</td>\n",
       "      <td>1.037540</td>\n",
       "      <td>0.438237</td>\n",
       "      <td>0.959867</td>\n",
       "      <td>10.0</td>\n",
       "      <td>10.0</td>\n",
       "      <td>8.222886</td>\n",
       "      <td>3.935378</td>\n",
       "      <td>7.009589</td>\n",
       "      <td>1.724771</td>\n",
       "      <td>...</td>\n",
       "      <td>-0.218105</td>\n",
       "      <td>0.183014</td>\n",
       "      <td>1.649102</td>\n",
       "      <td>0.926538</td>\n",
       "      <td>1.343468</td>\n",
       "      <td>0.236977</td>\n",
       "      <td>11.843902</td>\n",
       "      <td>-2.603359</td>\n",
       "      <td>-9.023032</td>\n",
       "      <td>7.217025</td>\n",
       "    </tr>\n",
       "    <tr>\n",
       "      <th>36</th>\n",
       "      <td>0.412547</td>\n",
       "      <td>1.816359</td>\n",
       "      <td>1.537121</td>\n",
       "      <td>0.533256</td>\n",
       "      <td>10.0</td>\n",
       "      <td>10.0</td>\n",
       "      <td>22.797583</td>\n",
       "      <td>-14.755482</td>\n",
       "      <td>16.665252</td>\n",
       "      <td>4.924980</td>\n",
       "      <td>...</td>\n",
       "      <td>-0.101023</td>\n",
       "      <td>-0.196908</td>\n",
       "      <td>8.062246</td>\n",
       "      <td>-5.449784</td>\n",
       "      <td>5.829276</td>\n",
       "      <td>1.148572</td>\n",
       "      <td>18.037537</td>\n",
       "      <td>7.153822</td>\n",
       "      <td>-7.315954</td>\n",
       "      <td>-14.854373</td>\n",
       "    </tr>\n",
       "  </tbody>\n",
       "</table>\n",
       "<p>5 rows × 44 columns</p>\n",
       "</div>"
      ],
      "text/plain": [
       "       wt_cp_sm  wt_cp_ps  wt_cp_mm      rand  dm_1  dm_2      pi_E_1  \\\n",
       "entry                                                                   \n",
       "4      0.370084  1.765682  1.648769  0.604970  10.0  10.0    5.500041   \n",
       "12     0.403054  1.167738  0.118793  0.231651  10.0  10.0  123.374205   \n",
       "15     0.203289  1.797292  0.414664  0.092664  10.0  10.0   41.659845   \n",
       "35     0.115375  1.037540  0.438237  0.959867  10.0  10.0    8.222886   \n",
       "36     0.412547  1.816359  1.537121  0.533256  10.0  10.0   22.797583   \n",
       "\n",
       "         pi_px_1    pi_py_1     pi_pz_1  ...    sv_y_2    sv_z_2     nu_E_1  \\\n",
       "entry                                    ...                                  \n",
       "4      -4.350674  -2.053902    2.661596  ...  0.151155  0.536159  12.439656   \n",
       "12    -10.398425 -26.224208 -120.105531  ...  0.542358 -1.582369  61.721165   \n",
       "15     31.126593 -18.033808  -21.010477  ...  0.107171 -0.210013   2.536093   \n",
       "35      3.935378   7.009589    1.724771  ... -0.218105  0.183014   1.649102   \n",
       "36    -14.755482  16.665252    4.924980  ... -0.101023 -0.196908   8.062246   \n",
       "\n",
       "        nu_px_1    nu_py_1    nu_pz_1     nu_E_2    nu_px_2    nu_py_2  \\\n",
       "entry                                                                    \n",
       "4     -9.956415  -4.771683   5.731132  27.497826   9.285120   6.653428   \n",
       "12    -5.279255 -13.060096 -60.092143  81.291194  16.274678  25.851572   \n",
       "15     2.057622  -0.939425  -1.146927   9.252467  -4.242394   3.490547   \n",
       "35     0.926538   1.343468   0.236977  11.843902  -2.603359  -9.023032   \n",
       "36    -5.449784   5.829276   1.148572  18.037537   7.153822  -7.315954   \n",
       "\n",
       "         nu_pz_2  \n",
       "entry             \n",
       "4      25.012974  \n",
       "12    -75.333189  \n",
       "15     -7.444885  \n",
       "35      7.217025  \n",
       "36    -14.854373  \n",
       "\n",
       "[5 rows x 44 columns]"
      ]
     },
     "execution_count": 7,
     "metadata": {},
     "output_type": "execute_result"
    }
   ],
   "source": [
    "df_gen.head()"
   ]
  },
  {
   "cell_type": "code",
   "execution_count": 79,
   "metadata": {},
   "outputs": [
    {
     "data": {
      "text/plain": [
       "Index(['wt_cp_sm', 'wt_cp_ps', 'wt_cp_mm', 'rand', 'dm_1', 'dm_2', 'pi_E_1',\n",
       "       'pi_px_1', 'pi_py_1', 'pi_pz_1', 'pi_E_2', 'pi_px_2', 'pi_py_2',\n",
       "       'pi_pz_2', 'pi2_E_1', 'pi2_px_1', 'pi2_py_1', 'pi2_pz_1', 'pi3_E_1',\n",
       "       'pi3_px_1', 'pi3_py_1', 'pi3_pz_1', 'pi2_px_2', 'pi2_py_2', 'pi2_pz_2',\n",
       "       'pi2_E_2', 'pi3_px_2', 'pi3_py_2', 'pi3_pz_2', 'pi3_E_2', 'sv_x_1',\n",
       "       'sv_y_1', 'sv_z_1', 'sv_x_2', 'sv_y_2', 'sv_z_2', 'nu_E_1', 'nu_px_1',\n",
       "       'nu_py_1', 'nu_pz_1', 'nu_E_2', 'nu_px_2', 'nu_py_2', 'nu_pz_2'],\n",
       "      dtype='object')"
      ]
     },
     "execution_count": 79,
     "metadata": {},
     "output_type": "execute_result"
    }
   ],
   "source": [
    "df_gen.keys()"
   ]
  },
  {
   "cell_type": "code",
   "execution_count": 14,
   "metadata": {},
   "outputs": [],
   "source": [
    "def get_info(df):\n",
    "    pi_1 = Momentum4(df['pi_E_1'], df['pi_px_1'], df['pi_py_1'], df['pi_pz_1'])\n",
    "    pi2_1 = Momentum4(df['pi2_E_1'], df['pi2_px_1'], df['pi2_py_1'], df['pi2_pz_1'])\n",
    "    pi3_1 = Momentum4(df['pi3_E_1'], df['pi3_px_1'], df['pi3_py_1'], df['pi3_pz_1'])\n",
    "    pi_2 = Momentum4(df['pi_E_2'], df['pi_px_2'], df['pi_py_2'], df['pi_pz_2'])\n",
    "    pi2_2 = Momentum4(df['pi2_E_2'], df['pi2_px_2'], df['pi2_py_2'], df['pi2_pz_2'])\n",
    "    pi3_2 = Momentum4(df['pi3_E_2'], df['pi3_px_2'], df['pi3_py_2'], df['pi3_pz_2'])\n",
    "    nu_1 = Momentum4(df['nu_E_1'], df['nu_px_1'],  df['nu_py_1'], df['nu_pz_1'],)\n",
    "    nu_2 = Momentum4(df['nu_E_2'], df['nu_px_2'],  df['nu_py_2'], df['nu_pz_2'],)\n",
    "    a1_1 = pi_1 + pi3_1 + pi2_1\n",
    "    a1_2 = pi_2 + pi3_2 + pi2_2\n",
    "\n",
    "    # ip_1 = np.c_[df['ip_x_1'], df['ip_y_1'], df['ip_z_1']]\n",
    "    sv_1 = np.c_[df['sv_x_1'], df['sv_y_1'], df['sv_z_1']]\n",
    "    # ip_2 = np.c_[df['ip_x_2'], df['ip_y_2'], df['ip_z_2']]\n",
    "    sv_2 = np.c_[df['sv_x_2'], df['sv_y_2'], df['sv_z_2']]\n",
    "    a1_1_p = np.c_[a1_1.p_x, a1_1.p_y, a1_1.p_z]\n",
    "    a1_2_p = np.c_[a1_2.p_x, a1_2.p_y, a1_2.p_z]\n",
    "\n",
    "    # tau_vec = np.c_[]\n",
    "\n",
    "    # found some 0s in a1_1_p - now fixed via cleaning\n",
    "    a1_1_p_norm = a1_1_p/np.sqrt((a1_1_p ** 2).sum(-1))[..., np.newaxis]\n",
    "    a1_2_p_norm = a1_2_p/np.sqrt((a1_2_p ** 2).sum(-1))[..., np.newaxis]\n",
    "    sv_1_norm = sv_1/np.sqrt((sv_1 ** 2).sum(-1))[..., np.newaxis]\n",
    "    sv_2_norm = sv_2/np.sqrt((sv_2 ** 2).sum(-1))[..., np.newaxis]\n",
    "\n",
    "    m_1 = a1_1.m\n",
    "    m_2 = a1_2.m\n",
    "\n",
    "    theta_1 = np.arccos(np.einsum('ij, ij->i', a1_1_p_norm, sv_1_norm))\n",
    "    theta_2 = np.arccos(np.einsum('ij, ij->i', a1_2_p_norm, sv_2_norm))\n",
    "    return m_1, m_2, a1_1, a1_2, theta_1, theta_2, nu_1, nu_2\n",
    "m_1, m_2, a1_1, a1_2, theta_1, theta_2, nu_1, nu_2 = get_info(df_gen)"
   ]
  },
  {
   "cell_type": "code",
   "execution_count": 19,
   "metadata": {},
   "outputs": [
    {
     "name": "stderr",
     "output_type": "stream",
     "text": [
      "<ipython-input-19-3e25df104bc7>:2: RuntimeWarning: invalid value encountered in arcsin\n",
      "  max_theta_1 = np.arcsin((m_tau**2-m_1**2)/(2*m_tau*a1_1.p))\n",
      "<ipython-input-19-3e25df104bc7>:3: RuntimeWarning: invalid value encountered in arcsin\n",
      "  max_theta_2 = np.arcsin((m_tau**2-m_2**2)/(2*m_tau*a1_2.p))\n"
     ]
    }
   ],
   "source": [
    "# theta filtering\n",
    "max_theta_1 = np.arcsin((m_tau**2-m_1**2)/(2*m_tau*a1_1.p))\n",
    "max_theta_2 = np.arcsin((m_tau**2-m_2**2)/(2*m_tau*a1_2.p))\n",
    "idx1 = max_theta_1<theta_1\n",
    "idx2 = max_theta_2<theta_2\n",
    "theta_1_f = theta_1\n",
    "theta_2_f = theta_2\n",
    "theta_1_f[idx1] = max_theta_1[idx1]\n",
    "theta_2_f[idx2] = max_theta_2[idx2]"
   ]
  },
  {
   "cell_type": "code",
   "execution_count": 15,
   "metadata": {},
   "outputs": [],
   "source": [
    "def paper_solution(m, p, theta):\n",
    "    # p is the magnitude\n",
    "    a = (m**2+m_tau**2)*p*np.cos(theta)\n",
    "    d = ((m**2-m_tau**2)**2-4*m_tau**2*p**2*np.sin(theta)**2)\n",
    "    d = np.round(d, 14) # for floating point error\n",
    "    b = np.sqrt((m**2+p**2)*d)\n",
    "    c = 2*(m**2+p**2*np.sin(theta)**2)\n",
    "    return (a+b)/c, (a-b)/c\n",
    "\n",
    "def my_solution(m, p, theta):\n",
    "    a = -4*(m**2+p**2*np.sin(theta)**2)\n",
    "    b = 8*p**3*np.cos(theta) + 4*p*np.cos(theta)*(m_tau**2-m**2) + 8*p*(m_tau**2+p**2)\n",
    "#     c = (m**2-m_tau**2)**2-4*p**2*(m**2+m_tau**2)\n",
    "    c = m_tau**4+m**4+4*p**4-2*m**2*m_tau**2-4*(m**2+p**2)*p**2-4*p**2*(m_tau**2-m**2) \n",
    "    return (-b + np.sqrt(b**2-4*a*c))/(2*a), (-b - np.sqrt(b**2-4*a*c))/(2*a)\n",
    "#     return np.roots([a,b,c])\n",
    "\n",
    "def test(m, p, theta):\n",
    "    return ((m**2-m_tau**2)**2-4*m_tau**2*p**2*np.sin(theta)**2)\n",
    "\n",
    "def wolfram(m, p, theta):\n",
    "    a = m_tau**2\n",
    "    b = m**2\n",
    "    c = m**2+p**2\n",
    "    d = p\n",
    "    e = np.cos(theta)\n",
    "    return (-a**2+b**2-2*c*d+2*d**2)/(2*(e*d-c)), (-a**2+b**2+2*c*d+2*d**2)/(2*(c+e*d))"
   ]
  },
  {
   "cell_type": "code",
   "execution_count": 17,
   "metadata": {},
   "outputs": [],
   "source": [
    "def get_closest_soln(sol, mode=0):\n",
    "    m_higgs = 125\n",
    "    closest_soln = []\n",
    "    \n",
    "    for i in range(len(sol)):\n",
    "        if mode == 0:\n",
    "            solutions = np.array(sol[i])\n",
    "            distances = np.abs(solutions-m_higgs)\n",
    "            try:\n",
    "                ans = solutions[np.nanargmin(distances)]\n",
    "            except ValueError as e:\n",
    "                continue\n",
    "            closest_soln.append(ans)\n",
    "    #         closest_soln.append(solutions[np.nanargmin(distances)])\n",
    "        elif mode == 1:\n",
    "            closest_soln.append(max(sol[i][0], sol[i][1]))\n",
    "        elif mode == 2:\n",
    "            closest_soln.append(min(sol[i][0], sol[i][1]))\n",
    "        if i%100000==0:\n",
    "            print(f'getting {i}')\n",
    "#         if ans < 1:\n",
    "#             print(solutions)\n",
    "    return closest_soln"
   ]
  },
  {
   "cell_type": "code",
   "execution_count": 28,
   "metadata": {
    "collapsed": true,
    "jupyter": {
     "outputs_hidden": true
    }
   },
   "outputs": [
    {
     "name": "stdout",
     "output_type": "stream",
     "text": [
      "getting 0\n",
      "getting 100000\n",
      "getting 200000\n",
      "getting 300000\n",
      "getting 400000\n",
      "getting 500000\n",
      "getting 600000\n",
      "getting 700000\n",
      "getting 800000\n",
      "getting 900000\n",
      "getting 1000000\n",
      "getting 1100000\n",
      "getting 1200000\n",
      "getting 1300000\n",
      "getting 0\n",
      "getting 100000\n",
      "getting 200000\n",
      "getting 300000\n",
      "getting 400000\n",
      "getting 500000\n",
      "getting 600000\n",
      "getting 700000\n",
      "getting 800000\n",
      "getting 900000\n",
      "getting 1000000\n",
      "getting 1100000\n",
      "getting 1200000\n",
      "getting 1300000\n"
     ]
    }
   ],
   "source": [
    "sol1_p = paper_solution(m_1, a1_1.p, theta_1_f)\n",
    "sol2_p = paper_solution(m_2, a1_2.p, theta_2_f)\n",
    "closest_p_1 = get_closest_soln(np.array(sol1_p).T)\n",
    "closest_p_2 = get_closest_soln(np.array(sol2_p).T)"
   ]
  },
  {
   "cell_type": "code",
   "execution_count": 39,
   "metadata": {},
   "outputs": [
    {
     "name": "stdout",
     "output_type": "stream",
     "text": [
      "getting 0\n",
      "getting 100000\n",
      "getting 200000\n",
      "getting 300000\n",
      "getting 400000\n",
      "getting 500000\n",
      "getting 600000\n",
      "getting 700000\n",
      "getting 800000\n",
      "getting 900000\n",
      "getting 1000000\n",
      "getting 1100000\n",
      "getting 1200000\n",
      "getting 1300000\n",
      "getting 0\n",
      "getting 100000\n",
      "getting 200000\n",
      "getting 300000\n",
      "getting 400000\n",
      "getting 500000\n",
      "getting 600000\n",
      "getting 700000\n",
      "getting 800000\n",
      "getting 900000\n",
      "getting 1000000\n",
      "getting 1100000\n",
      "getting 1200000\n",
      "getting 1300000\n"
     ]
    }
   ],
   "source": [
    "sol1_w = wolfram(m_1, a1_1.p, theta_1_f)\n",
    "sol2_w = wolfram(m_2, a1_2.p, theta_2_f)\n",
    "closest_w_1 = get_closest_soln(np.array(sol1_w).T)\n",
    "closest_w_2 = get_closest_soln(np.array(sol2_w).T)"
   ]
  },
  {
   "cell_type": "markdown",
   "metadata": {},
   "source": [
    "## real solutions"
   ]
  },
  {
   "cell_type": "code",
   "execution_count": 29,
   "metadata": {},
   "outputs": [],
   "source": [
    "tau_1 = a1_1 + nu_1\n",
    "tau_2 = a1_2 + nu_2"
   ]
  },
  {
   "cell_type": "code",
   "execution_count": 32,
   "metadata": {},
   "outputs": [
    {
     "data": {
      "image/png": "[encoded data removed]",
      "text/plain": [
       "<Figure size 720x432 with 1 Axes>"
      ]
     },
     "metadata": {
      "needs_background": "light"
     },
     "output_type": "display_data"
    }
   ],
   "source": [
    "plt.figure(figsize=(10,6))\n",
    "plt.hist(tau_1.p, bins=100, alpha=0.5, label='event 1')\n",
    "plt.hist(tau_2.p, bins=100, alpha=0.5, label='event 2')\n",
    "plt.legend()\n",
    "plt.xlabel(r'$|p_\\tau|$ (GeV)')\n",
    "plt.ylabel('freq')\n",
    "# plt.title('using closest to 125GeV (deriv solution)')\n",
    "plt.show()"
   ]
  },
  {
   "cell_type": "code",
   "execution_count": 64,
   "metadata": {},
   "outputs": [],
   "source": [
    "def normaliseVector(vec):\n",
    "        \"\"\"\n",
    "        \n",
    "        Normalises an array of vectors\n",
    "        \"\"\"\n",
    "        return vec/np.sqrt((vec ** 2).sum(-1))[..., np.newaxis]"
   ]
  },
  {
   "cell_type": "code",
   "execution_count": 75,
   "metadata": {},
   "outputs": [
    {
     "data": {
      "text/plain": [
       "(array([[ 73.95066513,  65.13199892],\n",
       "        [226.13523462, 169.81083726],\n",
       "        [166.36093443,  77.65715372],\n",
       "        ...,\n",
       "        [155.98656082, 124.48606609],\n",
       "        [805.74514041, 277.113633  ],\n",
       "        [102.31002304,  51.07940607]]),\n",
       " array([[ 52.58423396,  52.58166661],\n",
       "        [164.65030841, 164.65012105],\n",
       "        [ 75.12879585,  75.12735269],\n",
       "        ...,\n",
       "        [103.6387198 , 103.6380388 ],\n",
       "        [276.70816981, 276.70805511],\n",
       "        [ 42.60858194,  42.60361268]]),\n",
       " array([ 73.95066513, 169.81083726, 166.36093443, ..., 124.48606609,\n",
       "        277.113633  , 102.31002304]),\n",
       " array([ 65.01384948, 226.371089  ,  77.65262666, ..., 124.37211884,\n",
       "        277.11326892, 102.43977842]))"
      ]
     },
     "execution_count": 75,
     "metadata": {},
     "output_type": "execute_result"
    }
   ],
   "source": [
    "np.array(sol1_p).T, np.array(sol1_w).T, np.array(closest_p_1), tau_1.p.T, "
   ]
  },
  {
   "cell_type": "code",
   "execution_count": 55,
   "metadata": {},
   "outputs": [],
   "source": [
    "a1_1_z = np.c_[a1_1.p_x, a1_1.p_y, a1_1.p_z]\n",
    "a1_2_z = np.c_[a1_2.p_x, a1_2.p_y, a1_2.p_z]\n",
    "sv_1 = np.c_[df_gen['sv_x_1'], df_gen['sv_y_1'], df_gen['sv_z_1']]\n",
    "sv_2 = np.c_[df_gen['sv_x_2'], df_gen['sv_y_2'], df_gen['sv_z_2']]"
   ]
  },
  {
   "cell_type": "code",
   "execution_count": 68,
   "metadata": {},
   "outputs": [],
   "source": [
    "angles = np.arccos(np.einsum('ij, ij->i', normaliseVector(a1_1_z), normaliseVector(sv_1)))"
   ]
  },
  {
   "cell_type": "code",
   "execution_count": 52,
   "metadata": {},
   "outputs": [
    {
     "data": {
      "text/plain": [
       "1.0"
      ]
     },
     "execution_count": 52,
     "metadata": {},
     "output_type": "execute_result"
    }
   ],
   "source": [
    "(sol1_p[0]>=sol1_p[1]).sum()/len(sol1_p[0])"
   ]
  },
  {
   "cell_type": "code",
   "execution_count": 105,
   "metadata": {},
   "outputs": [],
   "source": [
    "real_soln_idx = np.argmin(np.abs(np.subtract(np.array(sol1_p).T, tau_1.p[:, None])), axis=1)"
   ]
  },
  {
   "cell_type": "code",
   "execution_count": 106,
   "metadata": {},
   "outputs": [
    {
     "data": {
      "text/plain": [
       "0.6079331040074356"
      ]
     },
     "execution_count": 106,
     "metadata": {},
     "output_type": "execute_result"
    }
   ],
   "source": [
    "real_soln_idx.sum()/len(real_soln_idx)"
   ]
  },
  {
   "cell_type": "code",
   "execution_count": 122,
   "metadata": {},
   "outputs": [
    {
     "name": "stdout",
     "output_type": "stream",
     "text": [
      "[73.95066513 65.13199892] 65.01384948474478 0.007970311138646909 1\n",
      "[226.13523462 169.81083726] 226.3710889990615 0.0009806125778933014 0\n",
      "[166.36093443  77.65715372] 77.6526266593712 0.0031627087336382246 1\n",
      "[180.6714491   76.24972965] 76.24702983142333 0.002679177679586995 1\n",
      "[57.42086019 50.31765209] 50.244198054699105 0.008713206854031935 1\n",
      "[86.7145275  63.03470342] 62.989564667946176 0.009071579068539806 1\n",
      "[375.33300415 127.07995091] 127.07902087492488 0.000860519890090562 1\n",
      "[69.88264372 56.06406939] 56.02669918787317 0.006943774211176616 1\n",
      "[508.25580674 227.335993  ] 227.376188399662 0.0007108759447261305 1\n",
      "[188.28036507 114.74321007] 114.69846780352319 0.004004009924393959 1\n",
      "[30.99225109 22.39246466] 22.382804356697516 0.018236709465926666 1\n",
      "[21.77013981 15.17890014] 15.172072280373623 0.02973832539441509 1\n",
      "[127.02069224  76.54608809] 127.1417939152299 0.0020726694072330993 0\n",
      "[109.04341705  65.07487143] 65.05164019648778 0.007723892081358721 1\n",
      "[85.16067781 65.11553246] 65.0948961979556 0.004398328198494203 1\n",
      "[231.58587598 231.58587598] 228.53480044105572 0.0018191089129490103 0\n",
      "[62.42358626 47.53612806] 47.52015843126469 0.006184380988144305 1\n",
      "[169.43224061 140.68761519] 140.5406985626604 0.0046934956781389875 1\n",
      "[195.59209019 152.30350316] 195.93771947858772 0.003442339414993875 0\n",
      "[122.39657866  91.77611703] 91.7077507432374 0.005904489070629622 1\n",
      "[109.99365011  86.04656462] 110.16503173920803 0.0051229721473613965 0\n",
      "[76.93319218 76.93319218] 75.70064753941263 0.010444019482089376 0\n",
      "[218.42302488 200.41151318] 219.4518697565008 0.0034590285485686456 0\n",
      "[171.22747162 119.46429167] 119.4471040952303 0.0019238908015856986 1\n",
      "[113.96337964  65.36449678] 65.34976306913934 0.006155786049064048 1\n",
      "[182.92537201  77.85447625] 77.85156932300849 0.0025458125245036377 1\n",
      "[97.87370215 97.87370215] 98.97593253906587 0.00855514015956566 0\n",
      "[25.26598616 22.49187926] 22.444358303269308 0.02247374520176529 1\n",
      "[114.18731843  93.23039922] 93.11608767866426 0.006261687974002989 1\n",
      "[120.66674872 111.00507395] 121.33411481600264 0.005748062527896328 0\n",
      "[379.14392865 223.96131676] 223.8521531047418 0.0029414302513123343 1\n",
      "[76.69800454 70.05811904] 76.89595178366321 0.005032233169420911 0\n",
      "[147.55840521  97.60768628] 97.58534373253374 0.003171127175865259 1\n",
      "[59.07989727 55.12592342] 55.01080966883694 0.006340831442574739 1\n",
      "[82.35203707 68.26016002] 68.21554856314606 0.005615317181884125 1\n",
      "[239.66316945 208.01419532] 240.50551496674316 0.0034480342870503652 0\n",
      "[237.89688255 138.21381164] 138.16745662118825 0.00380281593379841 1\n",
      "[68.41309009 45.48920007] 68.521291514192 0.014467543659063033 0\n",
      "[182.60061163 167.8780836 ] 167.54353790576093 0.0023130627509518266 1\n",
      "[68.54038888 66.37081937] 66.18875754886211 0.0032056760990110196 1\n"
     ]
    }
   ],
   "source": [
    "for i in range(40):\n",
    "    print(np.array(sol1_p).T[i], tau_1.p[i], theta_1[i], real_soln_idx[i])"
   ]
  },
  {
   "cell_type": "code",
   "execution_count": 109,
   "metadata": {},
   "outputs": [
    {
     "data": {
      "image/png": "[encoded data removed]",
      "text/plain": [
       "<Figure size 720x432 with 1 Axes>"
      ]
     },
     "metadata": {
      "needs_background": "light"
     },
     "output_type": "display_data"
    }
   ],
   "source": [
    "plt.figure(figsize=(10,6))\n",
    "plt.hist(tau_1.p, bins=100, alpha=0.5, label='event 1')\n",
    "plt.hist(sol1_p[1], bins=100, alpha=0.5, label='event 2')\n",
    "plt.legend()\n",
    "plt.xlabel(r'$|p_\\tau|$ (GeV)')\n",
    "plt.ylabel('freq')\n",
    "# plt.title('using closest to 125GeV (deriv solution)')\n",
    "plt.show()"
   ]
  },
  {
   "cell_type": "code",
   "execution_count": 101,
   "metadata": {},
   "outputs": [
    {
     "data": {
      "image/png": "[encoded data removed]",
      "text/plain": [
       "<Figure size 720x432 with 1 Axes>"
      ]
     },
     "metadata": {
      "needs_background": "light"
     },
     "output_type": "display_data"
    }
   ],
   "source": [
    "plt.figure(figsize=(10,6))\n",
    "plt.hist(tau_1.p-sol1_p[1], bins=100, alpha=0.5)\n",
    "# plt.legend()\n",
    "plt.xlabel(r'$|p_\\tau|$ (GeV)')\n",
    "plt.ylabel('freq')\n",
    "# plt.title('using closest to 125GeV (deriv solution)')\n",
    "plt.show()"
   ]
  },
  {
   "cell_type": "code",
   "execution_count": 103,
   "metadata": {},
   "outputs": [
    {
     "data": {
      "text/plain": [
       "DescribeResult(nobs=1306147, minmax=(-165.80465175155837, 1507.5290108127945), mean=13.795127325205197, variance=1083.2798655718066, skewness=5.02490002327698, kurtosis=47.429610566294116)"
      ]
     },
     "execution_count": 103,
     "metadata": {},
     "output_type": "execute_result"
    }
   ],
   "source": [
    "from scipy import stats\n",
    "stats.describe(tau_1.p-sol1_p[1])"
   ]
  },
  {
   "cell_type": "code",
   "execution_count": 125,
   "metadata": {},
   "outputs": [
    {
     "data": {
      "image/png": "[encoded data removed]",
      "text/plain": [
       "<Figure size 432x288 with 1 Axes>"
      ]
     },
     "metadata": {
      "needs_background": "light"
     },
     "output_type": "display_data"
    }
   ],
   "source": [
    "import matplotlib as mpl\n",
    "mpl.rcParams['agg.path.chunksize'] = 10000\n",
    "plt.plot(angles, real_soln_idx, '.')\n",
    "plt.xlabel('theta')\n",
    "plt.savefig('tau_reconstruction/soln_picking_theta.png')\n",
    "plt.show()\n"
   ]
  },
  {
   "cell_type": "code",
   "execution_count": 124,
   "metadata": {},
   "outputs": [
    {
     "data": {
      "image/png": "[encoded data removed]",
      "text/plain": [
       "<Figure size 432x288 with 1 Axes>"
      ]
     },
     "metadata": {
      "needs_background": "light"
     },
     "output_type": "display_data"
    }
   ],
   "source": [
    "plt.plot(angles, tau_1.p, '.')\n",
    "plt.show()"
   ]
  }
 ],
 "metadata": {
  "kernelspec": {
   "display_name": "Python 3",
   "language": "python",
   "name": "python3"
  },
  "language_info": {
   "codemirror_mode": {
    "name": "ipython",
    "version": 3
   },
   "file_extension": ".py",
   "mimetype": "text/x-python",
   "name": "python",
   "nbconvert_exporter": "python",
   "pygments_lexer": "ipython3",
   "version": "3.8.5"
  }
 },
 "nbformat": 4,
 "nbformat_minor": 4
}
