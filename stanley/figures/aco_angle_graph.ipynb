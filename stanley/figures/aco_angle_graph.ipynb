{
 "cells": [
  {
   "cell_type": "code",
   "execution_count": 1,
   "id": "interesting-boring",
   "metadata": {},
   "outputs": [],
   "source": [
    "import numpy as np\n",
    "import pandas as pd\n",
    "import matplotlib.pyplot as plt"
   ]
  },
  {
   "cell_type": "code",
   "execution_count": 2,
   "id": "domestic-memphis",
   "metadata": {},
   "outputs": [],
   "source": [
    "df = pd.read_hdf('/home/hep/shc3117/MSci-Project-HiggsTauTau/shared/input_df_gen/input_gen_rho_rho_neutrino_met_ip_sv_b.h5', 'df')"
   ]
  },
  {
   "cell_type": "code",
   "execution_count": 3,
   "id": "multiple-guest",
   "metadata": {},
   "outputs": [
    {
     "data": {
      "text/plain": [
       "Index(['pi_E_1_br', 'pi_px_1_br', 'pi_py_1_br', 'pi_pz_1_br', 'pi_E_2_br',\n",
       "       'pi_px_2_br', 'pi_py_2_br', 'pi_pz_2_br', 'pi0_E_1_br', 'pi0_px_1_br',\n",
       "       'pi0_py_1_br', 'pi0_pz_1_br', 'pi0_E_2_br', 'pi0_px_2_br',\n",
       "       'pi0_py_2_br', 'pi0_pz_2_br', 'rho_E_1_br', 'rho_px_1_br',\n",
       "       'rho_py_1_br', 'rho_pz_1_br', 'rho_E_2_br', 'rho_px_2_br',\n",
       "       'rho_py_2_br', 'rho_pz_2_br', 'aco_angle_1_calc', 'y_rho_1', 'y_rho_2',\n",
       "       'w_a', 'w_b', 'm_rho_1', 'm_rho_2', 'sv_x_1', 'sv_y_1', 'sv_z_1',\n",
       "       'sv_x_2', 'sv_y_2', 'sv_z_2', 'y', 'alpha_1', 'alpha_2', 'E_nu_1',\n",
       "       'E_nu_2', 'p_t_nu_1', 'p_t_nu_2', 'p_z_nu_1', 'p_z_nu_2', 'metx_b',\n",
       "       'mety_b', 'ip_x_1_br', 'ip_y_1_br', 'ip_z_1_br', 'ip_x_2_br',\n",
       "       'ip_y_2_br', 'ip_z_2_br', 'sv_x_1_br', 'sv_y_1_br', 'sv_z_1_br',\n",
       "       'sv_x_2_br', 'sv_y_2_br', 'sv_z_2_br'],\n",
       "      dtype='object')"
      ]
     },
     "execution_count": 3,
     "metadata": {},
     "output_type": "execute_result"
    }
   ],
   "source": [
    "df.columns"
   ]
  },
  {
   "cell_type": "code",
   "execution_count": 4,
   "id": "driving-directory",
   "metadata": {},
   "outputs": [
    {
     "data": {
      "text/plain": [
       "1          1.046356\n",
       "2          5.786914\n",
       "3          5.182152\n",
       "4          2.365364\n",
       "5          3.266688\n",
       "             ...   \n",
       "5719870    0.705185\n",
       "5719871    5.971699\n",
       "5719872    6.116360\n",
       "5719873    4.980263\n",
       "5719874    0.312106\n",
       "Name: aco_angle_1_calc, Length: 4942565, dtype: float64"
      ]
     },
     "execution_count": 4,
     "metadata": {},
     "output_type": "execute_result"
    }
   ],
   "source": [
    "df.aco_angle_1_calc"
   ]
  },
  {
   "cell_type": "code",
   "execution_count": 5,
   "id": "spread-fundamentals",
   "metadata": {},
   "outputs": [],
   "source": [
    "df_ps = df[df.y==0]\n",
    "df_sm = df[df.y==1]"
   ]
  },
  {
   "cell_type": "code",
   "execution_count": 6,
   "id": "pacific-dining",
   "metadata": {},
   "outputs": [],
   "source": [
    "plt.rcParams['font.sans-serif'] = \"CMU Sans Serif\"\n",
    "plt.rcParams['font.family'] = \"sans-serif\"\n",
    "plt.rcParams['mathtext.fontset'] = 'cm' \n",
    "plt.rcParams['axes.unicode_minus'] = False"
   ]
  },
  {
   "cell_type": "code",
   "execution_count": 7,
   "id": "statutory-genome",
   "metadata": {},
   "outputs": [
    {
     "name": "stderr",
     "output_type": "stream",
     "text": [
      "findfont: Font family ['sans-serif'] not found. Falling back to DejaVu Sans.\n",
      "findfont: Font family ['sans-serif'] not found. Falling back to DejaVu Sans.\n"
     ]
    },
    {
     "data": {
      "image/png": "[encoded data removed]",
      "text/plain": [
       "<Figure size 432x288 with 1 Axes>"
      ]
     },
     "metadata": {
      "needs_background": "light"
     },
     "output_type": "display_data"
    }
   ],
   "source": [
    "# plt.figure(figsize=(8,6))\n",
    "fig = plt.figure()\n",
    "plt.hist(df_sm.aco_angle_1_calc, bins=150, alpha=0.5, label='CP-Even (Standard Model)', edgecolor=None)\n",
    "plt.hist(df_ps.aco_angle_1_calc, bins=150, alpha=0.5, label='CP-Odd (Pseudoscalar)', edgecolor=None)\n",
    "plt.legend(loc='lower left', fontsize=10)\n",
    "plt.xlabel('Acoplanarity angle (rad)', fontsize=12)\n",
    "plt.ylabel('Frequency', fontsize=12)\n",
    "plt.tight_layout()\n",
    "plt.xlim(0, 2*np.pi)\n",
    "plt.savefig('./aco_angle_1.PNG', dpi=fig.dpi)\n",
    "plt.show()"
   ]
  },
  {
   "cell_type": "code",
   "execution_count": null,
   "id": "divided-dictionary",
   "metadata": {},
   "outputs": [],
   "source": []
  }
 ],
 "metadata": {
  "kernelspec": {
   "display_name": "Python 3",
   "language": "python",
   "name": "python3"
  },
  "language_info": {
   "codemirror_mode": {
    "name": "ipython",
    "version": 3
   },
   "file_extension": ".py",
   "mimetype": "text/x-python",
   "name": "python",
   "nbconvert_exporter": "python",
   "pygments_lexer": "ipython3",
   "version": "3.8.5"
  }
 },
 "nbformat": 4,
 "nbformat_minor": 5
}
