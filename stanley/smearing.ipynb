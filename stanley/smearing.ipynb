{
 "cells": [
  {
   "cell_type": "code",
   "execution_count": 1,
   "id": "consistent-howard",
   "metadata": {},
   "outputs": [],
   "source": [
    "import uproot\n",
    "import pandas as pd\n",
    "import numpy as np"
   ]
  },
  {
   "cell_type": "code",
   "execution_count": 2,
   "id": "dependent-yahoo",
   "metadata": {},
   "outputs": [],
   "source": [
    "tree_tt = uproot.open(\"/vols/cms/dw515/Offline/output/SM/master_gen_ntuple_1502/MVAFILE_tt.root\")[\"ntuple\"]"
   ]
  },
  {
   "cell_type": "code",
   "execution_count": 3,
   "id": "micro-standing",
   "metadata": {},
   "outputs": [
    {
     "data": {
      "text/plain": [
       "[b'rand',\n",
       " b'wt_cp_sm',\n",
       " b'wt_cp_ps',\n",
       " b'wt_cp_mm',\n",
       " b'pi_px_1',\n",
       " b'pi_py_1',\n",
       " b'pi_pz_1',\n",
       " b'pi_E_1',\n",
       " b'pi2_px_1',\n",
       " b'pi2_py_1',\n",
       " b'pi2_pz_1',\n",
       " b'pi2_E_1',\n",
       " b'pi3_px_1',\n",
       " b'pi3_py_1',\n",
       " b'pi3_pz_1',\n",
       " b'pi3_E_1',\n",
       " b'pi_px_2',\n",
       " b'pi_py_2',\n",
       " b'pi_pz_2',\n",
       " b'pi_E_2',\n",
       " b'pi2_px_2',\n",
       " b'pi2_py_2',\n",
       " b'pi2_pz_2',\n",
       " b'pi2_E_2',\n",
       " b'pi3_px_2',\n",
       " b'pi3_py_2',\n",
       " b'pi3_pz_2',\n",
       " b'pi3_E_2',\n",
       " b'pi0_px_1',\n",
       " b'pi0_py_1',\n",
       " b'pi0_pz_1',\n",
       " b'pi0_E_1',\n",
       " b'pi0_px_2',\n",
       " b'pi0_py_2',\n",
       " b'pi0_pz_2',\n",
       " b'pi0_E_2',\n",
       " b'nu_px_1',\n",
       " b'nu_py_1',\n",
       " b'nu_pz_1',\n",
       " b'nu_E_1',\n",
       " b'nu_px_2',\n",
       " b'nu_py_2',\n",
       " b'nu_pz_2',\n",
       " b'nu_E_2',\n",
       " b'sv_x_1',\n",
       " b'sv_y_1',\n",
       " b'sv_z_1',\n",
       " b'sv_x_2',\n",
       " b'sv_y_2',\n",
       " b'sv_z_2',\n",
       " b'ip_x_1',\n",
       " b'ip_y_1',\n",
       " b'ip_z_1',\n",
       " b'ip_x_2',\n",
       " b'ip_y_2',\n",
       " b'ip_z_2',\n",
       " b'dm_1',\n",
       " b'dm_2',\n",
       " b'metx',\n",
       " b'mety',\n",
       " b'reco_sv_x_1',\n",
       " b'reco_sv_y_1',\n",
       " b'reco_sv_z_1',\n",
       " b'reco_ip_x_1',\n",
       " b'reco_ip_y_1',\n",
       " b'reco_ip_z_1',\n",
       " b'reco_dm_1',\n",
       " b'reco_metx',\n",
       " b'reco_mety',\n",
       " b'reco_pi_px_1',\n",
       " b'reco_pi_py_1',\n",
       " b'reco_pi_pz_1',\n",
       " b'reco_pi_E_1',\n",
       " b'reco_pi0_px_1',\n",
       " b'reco_pi0_py_1',\n",
       " b'reco_pi0_pz_1',\n",
       " b'reco_pi0_E_1']"
      ]
     },
     "execution_count": 3,
     "metadata": {},
     "output_type": "execute_result"
    }
   ],
   "source": [
    "tree_tt.keys()"
   ]
  },
  {
   "cell_type": "code",
   "execution_count": null,
   "id": "roman-makeup",
   "metadata": {},
   "outputs": [],
   "source": []
  }
 ],
 "metadata": {
  "kernelspec": {
   "display_name": "Python 3",
   "language": "python",
   "name": "python3"
  },
  "language_info": {
   "codemirror_mode": {
    "name": "ipython",
    "version": 3
   },
   "file_extension": ".py",
   "mimetype": "text/x-python",
   "name": "python",
   "nbconvert_exporter": "python",
   "pygments_lexer": "ipython3",
   "version": "3.8.5"
  }
 },
 "nbformat": 4,
 "nbformat_minor": 5
}
