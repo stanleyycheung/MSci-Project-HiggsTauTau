{
 "cells": [
  {
   "cell_type": "code",
   "execution_count": 14,
   "metadata": {},
   "outputs": [],
   "source": [
    "import numpy as np\n",
    "import pandas as pd\n",
    "import uproot\n",
    "from pylorentz import Momentum4\n",
    "import matplotlib.pyplot as plt\n",
    "import scipy.stats as sps\n",
    "from collections import Counter\n",
    "%matplotlib inline\n",
    "m_tau = 1.776"
   ]
  },
  {
   "cell_type": "markdown",
   "metadata": {},
   "source": [
    "## create the profile plots"
   ]
  },
  {
   "cell_type": "code",
   "execution_count": 2,
   "metadata": {},
   "outputs": [],
   "source": [
    "df_gen = pd.read_pickle('../shared/df_tt_gen_rho_rho.pkl')"
   ]
  },
  {
   "cell_type": "code",
   "execution_count": 3,
   "metadata": {},
   "outputs": [
    {
     "data": {
      "text/html": [
       "<div>\n",
       "<style scoped>\n",
       "    .dataframe tbody tr th:only-of-type {\n",
       "        vertical-align: middle;\n",
       "    }\n",
       "\n",
       "    .dataframe tbody tr th {\n",
       "        vertical-align: top;\n",
       "    }\n",
       "\n",
       "    .dataframe thead th {\n",
       "        text-align: right;\n",
       "    }\n",
       "</style>\n",
       "<table border=\"1\" class=\"dataframe\">\n",
       "  <thead>\n",
       "    <tr style=\"text-align: right;\">\n",
       "      <th></th>\n",
       "      <th>wt_cp_sm</th>\n",
       "      <th>wt_cp_ps</th>\n",
       "      <th>wt_cp_mm</th>\n",
       "      <th>rand</th>\n",
       "      <th>dm_1</th>\n",
       "      <th>dm_2</th>\n",
       "      <th>pi_E_1</th>\n",
       "      <th>pi_px_1</th>\n",
       "      <th>pi_py_1</th>\n",
       "      <th>pi_pz_1</th>\n",
       "      <th>...</th>\n",
       "      <th>pi0_py_2</th>\n",
       "      <th>pi0_pz_2</th>\n",
       "      <th>metx</th>\n",
       "      <th>mety</th>\n",
       "      <th>sv_x_1</th>\n",
       "      <th>sv_y_1</th>\n",
       "      <th>sv_z_1</th>\n",
       "      <th>sv_x_2</th>\n",
       "      <th>sv_y_2</th>\n",
       "      <th>sv_z_2</th>\n",
       "    </tr>\n",
       "    <tr>\n",
       "      <th>entry</th>\n",
       "      <th></th>\n",
       "      <th></th>\n",
       "      <th></th>\n",
       "      <th></th>\n",
       "      <th></th>\n",
       "      <th></th>\n",
       "      <th></th>\n",
       "      <th></th>\n",
       "      <th></th>\n",
       "      <th></th>\n",
       "      <th></th>\n",
       "      <th></th>\n",
       "      <th></th>\n",
       "      <th></th>\n",
       "      <th></th>\n",
       "      <th></th>\n",
       "      <th></th>\n",
       "      <th></th>\n",
       "      <th></th>\n",
       "      <th></th>\n",
       "      <th></th>\n",
       "    </tr>\n",
       "  </thead>\n",
       "  <tbody>\n",
       "    <tr>\n",
       "      <th>0</th>\n",
       "      <td>1.601494</td>\n",
       "      <td>0.310697</td>\n",
       "      <td>0.581832</td>\n",
       "      <td>0.529761</td>\n",
       "      <td>1.0</td>\n",
       "      <td>1.0</td>\n",
       "      <td>10.994950</td>\n",
       "      <td>8.404180</td>\n",
       "      <td>6.915075</td>\n",
       "      <td>1.555936</td>\n",
       "      <td>...</td>\n",
       "      <td>-3.580417</td>\n",
       "      <td>0.147664</td>\n",
       "      <td>21.212856</td>\n",
       "      <td>16.206368</td>\n",
       "      <td>0.023583</td>\n",
       "      <td>0.019393</td>\n",
       "      <td>0.005763</td>\n",
       "      <td>-0.581665</td>\n",
       "      <td>-0.513909</td>\n",
       "      <td>0.018126</td>\n",
       "    </tr>\n",
       "    <tr>\n",
       "      <th>1</th>\n",
       "      <td>1.616939</td>\n",
       "      <td>0.048255</td>\n",
       "      <td>0.718878</td>\n",
       "      <td>0.625262</td>\n",
       "      <td>10.0</td>\n",
       "      <td>0.0</td>\n",
       "      <td>80.198681</td>\n",
       "      <td>-3.553889</td>\n",
       "      <td>36.892234</td>\n",
       "      <td>-71.120615</td>\n",
       "      <td>...</td>\n",
       "      <td>0.000000</td>\n",
       "      <td>0.000000</td>\n",
       "      <td>4.612193</td>\n",
       "      <td>-13.801276</td>\n",
       "      <td>-0.097911</td>\n",
       "      <td>0.989190</td>\n",
       "      <td>-1.882611</td>\n",
       "      <td>0.000394</td>\n",
       "      <td>-0.001668</td>\n",
       "      <td>-0.005869</td>\n",
       "    </tr>\n",
       "    <tr>\n",
       "      <th>2</th>\n",
       "      <td>0.145634</td>\n",
       "      <td>1.555381</td>\n",
       "      <td>0.524301</td>\n",
       "      <td>0.600541</td>\n",
       "      <td>1.0</td>\n",
       "      <td>10.0</td>\n",
       "      <td>63.063316</td>\n",
       "      <td>33.907569</td>\n",
       "      <td>22.022118</td>\n",
       "      <td>48.396957</td>\n",
       "      <td>...</td>\n",
       "      <td>0.000000</td>\n",
       "      <td>0.000000</td>\n",
       "      <td>21.313398</td>\n",
       "      <td>48.146972</td>\n",
       "      <td>0.047770</td>\n",
       "      <td>0.031705</td>\n",
       "      <td>0.067133</td>\n",
       "      <td>-0.085217</td>\n",
       "      <td>0.345833</td>\n",
       "      <td>0.142905</td>\n",
       "    </tr>\n",
       "    <tr>\n",
       "      <th>3</th>\n",
       "      <td>1.487983</td>\n",
       "      <td>0.444336</td>\n",
       "      <td>1.316065</td>\n",
       "      <td>0.764755</td>\n",
       "      <td>1.0</td>\n",
       "      <td>1.0</td>\n",
       "      <td>29.041587</td>\n",
       "      <td>24.443190</td>\n",
       "      <td>-4.880136</td>\n",
       "      <td>-14.903323</td>\n",
       "      <td>...</td>\n",
       "      <td>-16.557451</td>\n",
       "      <td>-94.600909</td>\n",
       "      <td>6.099251</td>\n",
       "      <td>-8.346872</td>\n",
       "      <td>0.264949</td>\n",
       "      <td>-0.061602</td>\n",
       "      <td>-0.161944</td>\n",
       "      <td>-0.120283</td>\n",
       "      <td>-0.045656</td>\n",
       "      <td>-0.260196</td>\n",
       "    </tr>\n",
       "    <tr>\n",
       "      <th>4</th>\n",
       "      <td>0.370084</td>\n",
       "      <td>1.765682</td>\n",
       "      <td>1.648769</td>\n",
       "      <td>0.604970</td>\n",
       "      <td>10.0</td>\n",
       "      <td>10.0</td>\n",
       "      <td>5.500041</td>\n",
       "      <td>-4.350674</td>\n",
       "      <td>-2.053902</td>\n",
       "      <td>2.661596</td>\n",
       "      <td>...</td>\n",
       "      <td>0.000000</td>\n",
       "      <td>0.000000</td>\n",
       "      <td>-0.671295</td>\n",
       "      <td>1.881746</td>\n",
       "      <td>-0.304889</td>\n",
       "      <td>-0.132517</td>\n",
       "      <td>0.176034</td>\n",
       "      <td>0.196662</td>\n",
       "      <td>0.151155</td>\n",
       "      <td>0.536159</td>\n",
       "    </tr>\n",
       "  </tbody>\n",
       "</table>\n",
       "<p>5 rows × 30 columns</p>\n",
       "</div>"
      ],
      "text/plain": [
       "       wt_cp_sm  wt_cp_ps  wt_cp_mm      rand  dm_1  dm_2     pi_E_1  \\\n",
       "entry                                                                  \n",
       "0      1.601494  0.310697  0.581832  0.529761   1.0   1.0  10.994950   \n",
       "1      1.616939  0.048255  0.718878  0.625262  10.0   0.0  80.198681   \n",
       "2      0.145634  1.555381  0.524301  0.600541   1.0  10.0  63.063316   \n",
       "3      1.487983  0.444336  1.316065  0.764755   1.0   1.0  29.041587   \n",
       "4      0.370084  1.765682  1.648769  0.604970  10.0  10.0   5.500041   \n",
       "\n",
       "         pi_px_1    pi_py_1    pi_pz_1  ...   pi0_py_2   pi0_pz_2       metx  \\\n",
       "entry                                   ...                                    \n",
       "0       8.404180   6.915075   1.555936  ...  -3.580417   0.147664  21.212856   \n",
       "1      -3.553889  36.892234 -71.120615  ...   0.000000   0.000000   4.612193   \n",
       "2      33.907569  22.022118  48.396957  ...   0.000000   0.000000  21.313398   \n",
       "3      24.443190  -4.880136 -14.903323  ... -16.557451 -94.600909   6.099251   \n",
       "4      -4.350674  -2.053902   2.661596  ...   0.000000   0.000000  -0.671295   \n",
       "\n",
       "            mety    sv_x_1    sv_y_1    sv_z_1    sv_x_2    sv_y_2    sv_z_2  \n",
       "entry                                                                         \n",
       "0      16.206368  0.023583  0.019393  0.005763 -0.581665 -0.513909  0.018126  \n",
       "1     -13.801276 -0.097911  0.989190 -1.882611  0.000394 -0.001668 -0.005869  \n",
       "2      48.146972  0.047770  0.031705  0.067133 -0.085217  0.345833  0.142905  \n",
       "3      -8.346872  0.264949 -0.061602 -0.161944 -0.120283 -0.045656 -0.260196  \n",
       "4       1.881746 -0.304889 -0.132517  0.176034  0.196662  0.151155  0.536159  \n",
       "\n",
       "[5 rows x 30 columns]"
      ]
     },
     "execution_count": 3,
     "metadata": {},
     "output_type": "execute_result"
    }
   ],
   "source": [
    "df_gen.head()"
   ]
  },
  {
   "cell_type": "code",
   "execution_count": 10,
   "metadata": {},
   "outputs": [
    {
     "data": {
      "text/plain": [
       "Index(['wt_cp_sm', 'wt_cp_ps', 'wt_cp_mm', 'rand', 'dm_1', 'dm_2', 'pi_E_1',\n",
       "       'pi_px_1', 'pi_py_1', 'pi_pz_1', 'pi_E_2', 'pi_px_2', 'pi_py_2',\n",
       "       'pi_pz_2', 'pi0_E_1', 'pi0_px_1', 'pi0_py_1', 'pi0_pz_1', 'pi0_E_2',\n",
       "       'pi0_px_2', 'pi0_py_2', 'pi0_pz_2', 'metx', 'mety', 'sv_x_1', 'sv_y_1',\n",
       "       'sv_z_1', 'sv_x_2', 'sv_y_2', 'sv_z_2'],\n",
       "      dtype='object')"
      ]
     },
     "execution_count": 10,
     "metadata": {},
     "output_type": "execute_result"
    }
   ],
   "source": [
    "df_gen.columns"
   ]
  },
  {
   "cell_type": "code",
   "execution_count": 4,
   "metadata": {},
   "outputs": [],
   "source": [
    "def get_products(df_reco):\n",
    "    pi_1 = Momentum4(df_reco['pi_E_1'], df_reco[\"pi_px_1\"], df_reco[\"pi_py_1\"], df_reco[\"pi_pz_1\"])\n",
    "    pi_2 = Momentum4(df_reco['pi_E_2'], df_reco[\"pi_px_2\"], df_reco[\"pi_py_2\"], df_reco[\"pi_pz_2\"])\n",
    "    pi0_1 = Momentum4(df_reco['pi0_E_1'], df_reco[\"pi0_px_1\"], df_reco[\"pi0_py_1\"], df_reco[\"pi0_pz_1\"])\n",
    "    pi0_2 = Momentum4(df_reco['pi0_E_2'], df_reco[\"pi0_px_2\"], df_reco[\"pi0_py_2\"], df_reco[\"pi0_pz_2\"])\n",
    "    rho_1 = pi_1 + pi0_1\n",
    "    rho_2 = pi_2 + pi0_2\n",
    "    return pi_1, pi_2, pi0_1, pi0_2, rho_1, rho_2"
   ]
  },
  {
   "cell_type": "code",
   "execution_count": 16,
   "metadata": {},
   "outputs": [],
   "source": [
    "def profileplot(x, y, xlabel, ylabel, bins=100, mode=1):\n",
    "    means_result = sps.binned_statistic(x, [y, y**2], bins=bins, statistic='mean')\n",
    "    means, means2 = means_result.statistic\n",
    "    standard_deviations = np.sqrt(means2 - means**2)\n",
    "    bin_edges = means_result.bin_edges\n",
    "    bin_centers = (bin_edges[:-1] + bin_edges[1:])/2.\n",
    "    # remove NaNs and single count bins\n",
    "    nan_idx = np.argwhere(np.isnan(means) ).flatten()\n",
    "    zero_idx = np.argwhere(standard_deviations == 0)\n",
    "    to_remove = np.union1d(nan_idx, zero_idx)\n",
    "    means = np.delete(means, to_remove, None)\n",
    "    bin_centers = np.delete(bin_centers, to_remove, None)\n",
    "    standard_deviations = np.delete(standard_deviations, to_remove, None)\n",
    "    count = Counter(means_result.binnumber)\n",
    "    to_remove_set = set(to_remove)\n",
    "    N = []\n",
    "    for i in range(1,bins+1):\n",
    "        if i-1 in to_remove_set:\n",
    "            continue\n",
    "        if i in count:\n",
    "            N.append(count[i])\n",
    "#     print(to_remove.shape)\n",
    "#     print(bin_centers.shape, means.shape)\n",
    "    yerr = standard_deviations/np.sqrt(N)\n",
    "#     yerr = standard_deviations\n",
    "    # fitting\n",
    "#     print(bin_centers, means, yerr)\n",
    "    if mode == 1:\n",
    "        fit, cov = np.polyfit(bin_centers, means, 1, w=1/yerr, cov=True)\n",
    "        p = np.poly1d(fit)\n",
    "        print(f\"Fit params: {fit[0]}, {fit[1]}\")\n",
    "        print(f\"Diag of cov: {cov[0][0]} , {cov[1][1]}\")\n",
    "    plt.figure()\n",
    "    plt.errorbar(x=bin_centers, y=means, yerr=yerr, linestyle='none', marker='.', capsize=2)\n",
    "    if mode == 1:\n",
    "        plt.plot(bin_centers, p(bin_centers))\n",
    "    plt.grid()\n",
    "    plt.xlabel(xlabel)\n",
    "    plt.ylabel(ylabel)\n",
    "    plt.tight_layout()\n",
    "    return fit, cov, bin_centers, means\n",
    "plt.rcParams.update({'font.size': 14, \"figure.figsize\": (12,8)})"
   ]
  },
  {
   "cell_type": "code",
   "execution_count": 6,
   "metadata": {},
   "outputs": [],
   "source": [
    "pi_1, pi_2, pi0_1, pi0_2, rho_1, rho_2 = get_products(df_gen)"
   ]
  },
  {
   "cell_type": "code",
   "execution_count": 17,
   "metadata": {},
   "outputs": [
    {
     "name": "stdout",
     "output_type": "stream",
     "text": [
      "Fit params: 0.004883525985161169, 0.2180749989957929\n",
      "Diag of cov: 3.8589172618702905e-08 , 0.00019212727842735105\n"
     ]
    },
    {
     "data": {
      "image/png": "[encoded data removed]",
      "text/plain": [
       "<Figure size 864x576 with 1 Axes>"
      ]
     },
     "metadata": {
      "needs_background": "light"
     },
     "output_type": "display_data"
    }
   ],
   "source": [
    "sv_1 = np.sqrt(df_gen['sv_x_1']**2 + df_gen['sv_y_1']**2 + df_gen['sv_z_1']**2)\n",
    "_,_,x,y = profileplot(rho_1.p, sv_1, xlabel=r'$P_{T,1}^{vis}$', ylabel=r'$||SV_1||$', bins=150)"
   ]
  },
  {
   "cell_type": "code",
   "execution_count": 18,
   "metadata": {},
   "outputs": [
    {
     "name": "stdout",
     "output_type": "stream",
     "text": [
      "Fit params: 0.004378036068673947, 0.32596559737337905\n",
      "Diag of cov: 4.022550918311424e-08 , 0.0001707743412664328\n"
     ]
    },
    {
     "data": {
      "image/png": "[encoded data removed]",
      "text/plain": [
       "<Figure size 864x576 with 1 Axes>"
      ]
     },
     "metadata": {
      "needs_background": "light"
     },
     "output_type": "display_data"
    }
   ],
   "source": [
    "sv_2 = np.sqrt(df_gen['sv_x_2']**2 + df_gen['sv_y_2']**2 + df_gen['sv_z_2']**2)\n",
    "_,_,x,y = profileplot(rho_2.p, sv_2, xlabel=r'$P_{T,1}^{vis}$', ylabel=r'$||SV_2||$', bins=150)"
   ]
  }
 ],
 "metadata": {
  "kernelspec": {
   "display_name": "Python 3",
   "language": "python",
   "name": "python3"
  },
  "language_info": {
   "codemirror_mode": {
    "name": "ipython",
    "version": 3
   },
   "file_extension": ".py",
   "mimetype": "text/x-python",
   "name": "python",
   "nbconvert_exporter": "python",
   "pygments_lexer": "ipython3",
   "version": "3.8.5"
  }
 },
 "nbformat": 4,
 "nbformat_minor": 4
}
