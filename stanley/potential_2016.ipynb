{
 "cells": [
  {
   "cell_type": "markdown",
   "metadata": {},
   "source": [
    "# Recreating https://arxiv.org/pdf/1608.02609.pdf first for $\\rho$-$\\rho$ decays\n",
    "\n",
    "## Inputs:\n",
    "- Invariant masses of intermediate resonances  \n",
    "- Acoplanarity angles\n",
    "- Variables $y_i^+$ ($y_k^-$)\n",
    "- 4 momentum of visible decay products\n",
    "- 4 momentum of intermediate resonances\n",
    "    - If cascade decays, need to provide 4-momenta of all $\\pi^+\\pi^-$ pairs which can form the resonances\n",
    "- Need to boost all four vectors where primary resonances are aligned along the z-axis.\n",
    "- Normalise all features"
   ]
  },
  {
   "cell_type": "code",
   "execution_count": 1,
   "metadata": {},
   "outputs": [
    {
     "name": "stdout",
     "output_type": "stream",
     "text": [
      "Welcome to JupyROOT 6.23/01\n"
     ]
    }
   ],
   "source": [
    "import uproot \n",
    "import numpy as np\n",
    "import pandas as pd\n",
    "import tensorflow as tf\n",
    "import matplotlib.pyplot as plt\n",
    "from sklearn.model_selection import train_test_split\n",
    "from scipy.spatial.transform import Rotation as R\n",
    "from sklearn.preprocessing import MinMaxScaler\n",
    "from sklearn.metrics import classification_report, roc_curve, roc_auc_score\n",
    "\n",
    "from pylorentz import Momentum4\n",
    "from pylorentz import Position4\n",
    "from lbn_modified import LBN, LBNLayer\n",
    "from ROOT import TLorentzVector, TVector3"
   ]
  },
  {
   "cell_type": "code",
   "execution_count": 2,
   "metadata": {},
   "outputs": [],
   "source": [
    "tree_tt = uproot.open(\"/eos/user/s/stcheung/SWAN_projects/Masters_CP/MVAFILE_AllHiggs_tt.root\")[\"ntuple\"]\n",
    "\n",
    "variables = [\n",
    "            \"wt_cp_sm\", \"wt_cp_ps\", \"wt_cp_mm\", \"rand\",\n",
    "            \"aco_angle_1\", \n",
    "            \"mva_dm_1\",\"mva_dm_2\",\n",
    "            \"tau_decay_mode_1\",\"tau_decay_mode_2\",\n",
    "        #     \"ip_x_1\", \"ip_y_1\", \"ip_z_1\", \"ip_x_2\", \"ip_y_2\", \"ip_z_2\", # ignore impact parameter for now\n",
    "            \"pi_E_1\", \"pi_px_1\", \"pi_py_1\", \"pi_pz_1\", \n",
    "            \"pi_E_2\", \"pi_px_2\", \"pi_py_2\", \"pi_pz_2\", \n",
    "            \"pi0_E_1\", \"pi0_px_1\", \"pi0_py_1\", \"pi0_pz_1\",\n",
    "            \"pi0_E_2\", \"pi0_px_2\", \"pi0_py_2\", \"pi0_pz_2\", \n",
    "            \"y_1_1\", \"y_1_2\"\n",
    "        ]\n",
    "df = tree_tt.pandas.df(variables)\n",
    "# select only rho-rho events\n",
    "df_rho = df[(df['mva_dm_1']==1) & (df['mva_dm_2']==1) & (df[\"tau_decay_mode_1\"] == 1) & (df[\"tau_decay_mode_2\"] == 1)]\n",
    "# drop unnecessary labels \n",
    "df = df_rho.drop([\"mva_dm_1\",\"mva_dm_2\",\"tau_decay_mode_1\",\"tau_decay_mode_2\", \"wt_cp_sm\", \"wt_cp_ps\", \"wt_cp_mm\", \"rand\"], axis=1).reset_index(drop=True)"
   ]
  },
  {
   "cell_type": "code",
   "execution_count": 3,
   "metadata": {},
   "outputs": [
    {
     "data": {
      "text/html": [
       "<div>\n",
       "<style scoped>\n",
       "    .dataframe tbody tr th:only-of-type {\n",
       "        vertical-align: middle;\n",
       "    }\n",
       "\n",
       "    .dataframe tbody tr th {\n",
       "        vertical-align: top;\n",
       "    }\n",
       "\n",
       "    .dataframe thead th {\n",
       "        text-align: right;\n",
       "    }\n",
       "</style>\n",
       "<table border=\"1\" class=\"dataframe\">\n",
       "  <thead>\n",
       "    <tr style=\"text-align: right;\">\n",
       "      <th></th>\n",
       "      <th>aco_angle_1</th>\n",
       "      <th>pi_E_1</th>\n",
       "      <th>pi_px_1</th>\n",
       "      <th>pi_py_1</th>\n",
       "      <th>pi_pz_1</th>\n",
       "      <th>pi_E_2</th>\n",
       "      <th>pi_px_2</th>\n",
       "      <th>pi_py_2</th>\n",
       "      <th>pi_pz_2</th>\n",
       "      <th>pi0_E_1</th>\n",
       "      <th>pi0_px_1</th>\n",
       "      <th>pi0_py_1</th>\n",
       "      <th>pi0_pz_1</th>\n",
       "      <th>pi0_E_2</th>\n",
       "      <th>pi0_px_2</th>\n",
       "      <th>pi0_py_2</th>\n",
       "      <th>pi0_pz_2</th>\n",
       "      <th>y_1_1</th>\n",
       "      <th>y_1_2</th>\n",
       "    </tr>\n",
       "  </thead>\n",
       "  <tbody>\n",
       "    <tr>\n",
       "      <th>0</th>\n",
       "      <td>2.657029</td>\n",
       "      <td>45.423448</td>\n",
       "      <td>-13.747046</td>\n",
       "      <td>-38.825621</td>\n",
       "      <td>-19.153590</td>\n",
       "      <td>35.805782</td>\n",
       "      <td>8.526798</td>\n",
       "      <td>34.653880</td>\n",
       "      <td>2.904638</td>\n",
       "      <td>10.039846</td>\n",
       "      <td>-3.551914</td>\n",
       "      <td>-8.385803</td>\n",
       "      <td>-4.224041</td>\n",
       "      <td>6.112238</td>\n",
       "      <td>1.959179</td>\n",
       "      <td>5.735656</td>\n",
       "      <td>0.777900</td>\n",
       "      <td>-0.637964</td>\n",
       "      <td>-0.708372</td>\n",
       "    </tr>\n",
       "    <tr>\n",
       "      <th>1</th>\n",
       "      <td>1.547246</td>\n",
       "      <td>24.506373</td>\n",
       "      <td>-14.056253</td>\n",
       "      <td>9.809321</td>\n",
       "      <td>-17.514046</td>\n",
       "      <td>19.587723</td>\n",
       "      <td>8.539313</td>\n",
       "      <td>-3.149378</td>\n",
       "      <td>-17.344192</td>\n",
       "      <td>41.244844</td>\n",
       "      <td>-24.443820</td>\n",
       "      <td>15.370633</td>\n",
       "      <td>-29.451014</td>\n",
       "      <td>77.036002</td>\n",
       "      <td>32.655902</td>\n",
       "      <td>-12.032904</td>\n",
       "      <td>-68.726477</td>\n",
       "      <td>0.254573</td>\n",
       "      <td>0.594557</td>\n",
       "    </tr>\n",
       "    <tr>\n",
       "      <th>2</th>\n",
       "      <td>3.750274</td>\n",
       "      <td>15.319610</td>\n",
       "      <td>8.794122</td>\n",
       "      <td>0.774085</td>\n",
       "      <td>12.519393</td>\n",
       "      <td>17.469988</td>\n",
       "      <td>-9.876231</td>\n",
       "      <td>-3.253855</td>\n",
       "      <td>14.037575</td>\n",
       "      <td>69.457213</td>\n",
       "      <td>38.899682</td>\n",
       "      <td>2.503120</td>\n",
       "      <td>57.487698</td>\n",
       "      <td>56.810782</td>\n",
       "      <td>-32.919951</td>\n",
       "      <td>-10.831700</td>\n",
       "      <td>45.015529</td>\n",
       "      <td>0.638590</td>\n",
       "      <td>0.529623</td>\n",
       "    </tr>\n",
       "    <tr>\n",
       "      <th>3</th>\n",
       "      <td>1.192612</td>\n",
       "      <td>94.211361</td>\n",
       "      <td>42.942276</td>\n",
       "      <td>-33.711103</td>\n",
       "      <td>-76.780750</td>\n",
       "      <td>3.656937</td>\n",
       "      <td>-2.129749</td>\n",
       "      <td>0.251363</td>\n",
       "      <td>-2.958835</td>\n",
       "      <td>25.585962</td>\n",
       "      <td>11.770386</td>\n",
       "      <td>-8.993712</td>\n",
       "      <td>-20.861314</td>\n",
       "      <td>68.839211</td>\n",
       "      <td>-41.770362</td>\n",
       "      <td>4.326843</td>\n",
       "      <td>-54.546623</td>\n",
       "      <td>-0.572846</td>\n",
       "      <td>0.899114</td>\n",
       "    </tr>\n",
       "    <tr>\n",
       "      <th>4</th>\n",
       "      <td>3.264792</td>\n",
       "      <td>25.899289</td>\n",
       "      <td>-22.245884</td>\n",
       "      <td>-12.141924</td>\n",
       "      <td>-5.333670</td>\n",
       "      <td>23.795390</td>\n",
       "      <td>21.402816</td>\n",
       "      <td>9.436143</td>\n",
       "      <td>-4.368043</td>\n",
       "      <td>23.216735</td>\n",
       "      <td>-20.268636</td>\n",
       "      <td>-10.296444</td>\n",
       "      <td>-4.707891</td>\n",
       "      <td>18.242053</td>\n",
       "      <td>16.607666</td>\n",
       "      <td>6.693405</td>\n",
       "      <td>-3.483969</td>\n",
       "      <td>-0.054617</td>\n",
       "      <td>-0.132105</td>\n",
       "    </tr>\n",
       "  </tbody>\n",
       "</table>\n",
       "</div>"
      ],
      "text/plain": [
       "   aco_angle_1     pi_E_1    pi_px_1    pi_py_1    pi_pz_1     pi_E_2  \\\n",
       "0     2.657029  45.423448 -13.747046 -38.825621 -19.153590  35.805782   \n",
       "1     1.547246  24.506373 -14.056253   9.809321 -17.514046  19.587723   \n",
       "2     3.750274  15.319610   8.794122   0.774085  12.519393  17.469988   \n",
       "3     1.192612  94.211361  42.942276 -33.711103 -76.780750   3.656937   \n",
       "4     3.264792  25.899289 -22.245884 -12.141924  -5.333670  23.795390   \n",
       "\n",
       "     pi_px_2    pi_py_2    pi_pz_2    pi0_E_1   pi0_px_1   pi0_py_1  \\\n",
       "0   8.526798  34.653880   2.904638  10.039846  -3.551914  -8.385803   \n",
       "1   8.539313  -3.149378 -17.344192  41.244844 -24.443820  15.370633   \n",
       "2  -9.876231  -3.253855  14.037575  69.457213  38.899682   2.503120   \n",
       "3  -2.129749   0.251363  -2.958835  25.585962  11.770386  -8.993712   \n",
       "4  21.402816   9.436143  -4.368043  23.216735 -20.268636 -10.296444   \n",
       "\n",
       "    pi0_pz_1    pi0_E_2   pi0_px_2   pi0_py_2   pi0_pz_2     y_1_1     y_1_2  \n",
       "0  -4.224041   6.112238   1.959179   5.735656   0.777900 -0.637964 -0.708372  \n",
       "1 -29.451014  77.036002  32.655902 -12.032904 -68.726477  0.254573  0.594557  \n",
       "2  57.487698  56.810782 -32.919951 -10.831700  45.015529  0.638590  0.529623  \n",
       "3 -20.861314  68.839211 -41.770362   4.326843 -54.546623 -0.572846  0.899114  \n",
       "4  -4.707891  18.242053  16.607666   6.693405  -3.483969 -0.054617 -0.132105  "
      ]
     },
     "execution_count": 3,
     "metadata": {},
     "output_type": "execute_result"
    }
   ],
   "source": [
    "df.head()"
   ]
  },
  {
   "cell_type": "markdown",
   "metadata": {},
   "source": [
    "- [x] calculate 4 momentum of resonances\n",
    "- [x] calculate invariant mass of resonances m^2 = E^2 - p^2\n",
    "- [ ] cascades?"
   ]
  },
  {
   "cell_type": "code",
   "execution_count": 4,
   "metadata": {},
   "outputs": [],
   "source": [
    "# # parse particle information\n",
    "# columns = ['E', 'px', 'py', 'pz']\n",
    "\n",
    "# pi_1 = df[['pi_E_1', \"pi_px_1\", \"pi_py_1\", \"pi_pz_1\"]]\n",
    "# pi_2 = df[['pi_E_2', \"pi_px_2\", \"pi_py_2\", \"pi_pz_2\"]]\n",
    "# pi0_1 = df[['pi0_E_1', \"pi0_px_1\", \"pi0_py_1\", \"pi0_pz_1\"]]\n",
    "# pi0_2 = df[['pi0_E_2', \"pi0_px_2\", \"pi0_py_2\", \"pi0_pz_2\"]]\n",
    "\n",
    "# pi_1.columns = columns\n",
    "# pi_2.columns = columns\n",
    "# pi0_1.columns = columns\n",
    "# pi0_2.columns = columns\n",
    "\n",
    "# # reconstruct resonance 4 momentum\n",
    "# rho_1 = pi_1 + pi0_1\n",
    "# rho_2 = pi_2 + pi0_2\n",
    "\n",
    "# # calculate invariate masses\n",
    "# rho_1['m'] = np.sqrt(rho_1['E']**2 - rho_1['px']**2 - rho_1['py']**2 - rho_1['pz']**2)\n",
    "# rho_2['m'] = np.sqrt(rho_2['E']**2 - rho_2['px']**2 - rho_2['py']**2 - rho_2['pz']**2)\n",
    "\n",
    "# rho_1['m'].head()"
   ]
  },
  {
   "cell_type": "code",
   "execution_count": 5,
   "metadata": {},
   "outputs": [],
   "source": [
    "pi_1 = Momentum4(df['pi_E_1'], df[\"pi_px_1\"], df[\"pi_py_1\"], df[\"pi_pz_1\"])\n",
    "pi_2 = Momentum4(df['pi_E_2'], df[\"pi_px_2\"], df[\"pi_py_2\"], df[\"pi_pz_2\"])\n",
    "pi0_1 = Momentum4(df['pi0_E_1'], df[\"pi0_px_1\"], df[\"pi0_py_1\"], df[\"pi0_pz_1\"])\n",
    "pi0_2 = Momentum4(df['pi0_E_2'], df[\"pi0_px_2\"], df[\"pi0_py_2\"], df[\"pi0_pz_2\"])\n",
    "rho_1 = pi_1 + pi0_1\n",
    "rho_2 = pi_2 + pi0_2\n",
    "# rho_1.m is invariant mass of rhos"
   ]
  },
  {
   "cell_type": "code",
   "execution_count": 6,
   "metadata": {
    "scrolled": true
   },
   "outputs": [],
   "source": [
    "# boost into rest frame of resonances\n",
    "rest_frame = pi_1 + pi_2 + pi0_1 + pi0_2\n",
    "boost = Momentum4(rest_frame[0], -rest_frame[1], -rest_frame[2], -rest_frame[3])\n",
    "pi_1_boosted = pi_1.boost_particle(boost)\n",
    "pi_2_boosted = pi_2.boost_particle(boost)\n",
    "pi0_1_boosted = pi0_1.boost_particle(boost)\n",
    "pi0_2_boosted = pi0_2.boost_particle(boost)\n",
    "# rho_1_boosted = rho_1.boost_particle(-rest_frame) # same result as adding the boosted 4 vectors\n",
    "rho_1_boosted = pi_1_boosted + pi0_1_boosted\n",
    "rho_2_boosted = pi_2_boosted + pi0_2_boosted"
   ]
  },
  {
   "cell_type": "markdown",
   "metadata": {},
   "source": [
    "## rotate all vectors to align rho_1/2 with z axis\n",
    "- seems rotations are wrong NEED TO FIX"
   ]
  },
  {
   "cell_type": "code",
   "execution_count": 54,
   "metadata": {},
   "outputs": [],
   "source": [
    "# find angles of rho vectors to z axis\n",
    "unit1 = (rho_1_boosted[1:, :] / np.linalg.norm(rho_1_boosted[1:, :], axis=0)).transpose()\n",
    "unit2 = (rho_2_boosted[1:, :] / np.linalg.norm(rho_2_boosted[1:, :], axis=0)).transpose()\n",
    "zaxis = np.array([np.array([0., 0., 1.]) for _ in range(len(unit1))])\n",
    "angles1 = np.arccos(np.multiply(unit1, zaxis).sum(1))\n",
    "angles2 = np.arccos(np.multiply(unit1, zaxis).sum(1))\n",
    "axes1 = np.cross(unit1, zaxis)\n",
    "axes2 = np.cross(unit2, zaxis)"
   ]
  },
  {
   "cell_type": "code",
   "execution_count": 55,
   "metadata": {
    "scrolled": true
   },
   "outputs": [
    {
     "data": {
      "text/plain": [
       "array([ 2.22044605e-16,  0.00000000e+00, -1.00000000e+00])"
      ]
     },
     "execution_count": 55,
     "metadata": {},
     "output_type": "execute_result"
    }
   ],
   "source": [
    "# use scipy for rotations\n",
    "# testing\n",
    "r_axis = np.array([0, 1, 0])\n",
    "degrees = np.pi/2\n",
    "r = R.from_rotvec(r_axis*degrees)\n",
    "v = [1, 0, 0]\n",
    "r.apply(v)"
   ]
  },
  {
   "cell_type": "code",
   "execution_count": 9,
   "metadata": {},
   "outputs": [],
   "source": [
    "def rotation_matrix_from_vectors(vec1, vec2):\n",
    "    \"\"\" Find the rotation matrix that aligns vec1 to vec2\n",
    "    :param vec1: A 3d \"source\" vector\n",
    "    :param vec2: A 3d \"destination\" vector\n",
    "    :return mat: A transform matrix (3x3) which when applied to vec1, aligns it with vec2.\n",
    "    \"\"\"\n",
    "    a, b = (vec1 / np.linalg.norm(vec1)).reshape(3), (vec2 / np.linalg.norm(vec2)).reshape(3)\n",
    "    v = np.cross(a, b)\n",
    "    c = np.dot(a, b)\n",
    "    s = np.linalg.norm(v)\n",
    "    kmat = np.array([[0, -v[2], v[1]], [v[2], 0, -v[0]], [-v[1], v[0], 0]])\n",
    "    rotation_matrix = np.eye(3) + kmat + kmat.dot(kmat) * ((1 - c) / (s ** 2))\n",
    "    return rotation_matrix"
   ]
  },
  {
   "cell_type": "code",
   "execution_count": 283,
   "metadata": {},
   "outputs": [
    {
     "name": "stdout",
     "output_type": "stream",
     "text": [
      "[0.         0.         1.41421356]\n",
      "[0.70710678 1.         0.70710678]\n",
      "1.4142135623730951\n"
     ]
    }
   ],
   "source": [
    "vec1 = [1,0,1]\n",
    "vec2 = [0,0,1]\n",
    "mat = rotation_matrix_from_vectors(vec1, vec2)\n",
    "vec1_rot = mat.dot(vec1)\n",
    "print(vec1_rot)\n",
    "print(mat.dot([1,1,0]))\n"
   ]
  },
  {
   "cell_type": "code",
   "execution_count": 253,
   "metadata": {
    "scrolled": true
   },
   "outputs": [
    {
     "name": "stdout",
     "output_type": "stream",
     "text": [
      "1.0 2.414213562373095 1.0\n"
     ]
    }
   ],
   "source": [
    "a = TVector3(1,1,1)\n",
    "b = TVector3(1,1,1)\n",
    "a.RotateUz(b)\n",
    "print(a.x(), a.y(), a.z())"
   ]
  },
  {
   "cell_type": "code",
   "execution_count": 205,
   "metadata": {
    "scrolled": true
   },
   "outputs": [
    {
     "data": {
      "text/plain": [
       "array([0., 1., 1.])"
      ]
     },
     "execution_count": 205,
     "metadata": {},
     "output_type": "execute_result"
    }
   ],
   "source": [
    "a = np.array([0, 1, 1])\n",
    "axis = np.array([0,0,1])\n",
    "R.from_rotvec(np.cross(axis, a)*np.arccos(a.dot(axis))).apply(a)"
   ]
  },
  {
   "cell_type": "code",
   "execution_count": 132,
   "metadata": {},
   "outputs": [
    {
     "data": {
      "text/plain": [
       "array([-1.11022302e-16,  1.41421356e+00,  1.00000000e+00])"
      ]
     },
     "execution_count": 132,
     "metadata": {},
     "output_type": "execute_result"
    }
   ],
   "source": [
    "R.from_rotvec(np.array([0,0,1])*np.pi/4).apply(np.array([1,1,1]))"
   ]
  },
  {
   "cell_type": "code",
   "execution_count": 271,
   "metadata": {},
   "outputs": [
    {
     "data": {
      "text/plain": [
       "array([[  4.11524295, -20.93998193,  32.4830385 ],\n",
       "       [-14.33910509,   8.76007675,  -3.55210406],\n",
       "       [  8.29648612,   1.87229655,  -0.59411126],\n",
       "       ...,\n",
       "       [-47.73288845,  -5.55664845,   1.79538896],\n",
       "       [ -0.97339735,  -1.69719525,  -0.20591042],\n",
       "       [ 14.57215557,   1.08451334,  -3.41346363]])"
      ]
     },
     "execution_count": 271,
     "metadata": {},
     "output_type": "execute_result"
    }
   ],
   "source": [
    "pi_1_boosted[1:,].T"
   ]
  },
  {
   "cell_type": "code",
   "execution_count": 276,
   "metadata": {},
   "outputs": [],
   "source": [
    "rot_1_mat = rotation_matrix_from_vectors(rho_1_boosted[1:, 0], [0,0,1])"
   ]
  },
  {
   "cell_type": "code",
   "execution_count": 279,
   "metadata": {},
   "outputs": [
    {
     "data": {
      "text/plain": [
       "array([ -0.25884649,   0.44923938, -40.45288205])"
      ]
     },
     "execution_count": 279,
     "metadata": {},
     "output_type": "execute_result"
    }
   ],
   "source": [
    "rot_1_mat.dot(pi_2_boosted[1:, 0])"
   ]
  },
  {
   "cell_type": "code",
   "execution_count": 22,
   "metadata": {},
   "outputs": [
    {
     "name": "stdout",
     "output_type": "stream",
     "text": [
      "[ 0.          0.         47.42022064]\n",
      "[ 0.38003135 -0.24022158 38.8633983 ] [-0.38003135  0.24022158  8.55682233] [-1.11022302e-16  1.33226763e-15  4.74202206e+01]\n"
     ]
    }
   ],
   "source": [
    "rot_mat = rotation_matrix_from_vectors(rho_1_boosted[1:, 0], [0,0,1])\n",
    "print(rot_mat.dot(rho_1_boosted[1:, 0]))\n",
    "print(rot_mat.dot(pi_1_boosted[1:, 0]), rot_mat.dot(pi0_1_boosted[1:, 0]), rot_mat.dot(pi0_1_boosted[1:, 0])+rot_mat.dot(pi_1_boosted[1:, 0]))\n"
   ]
  },
  {
   "cell_type": "code",
   "execution_count": 21,
   "metadata": {
    "scrolled": true
   },
   "outputs": [
    {
     "name": "stdout",
     "output_type": "stream",
     "text": [
      "finished getting rotated 4-vector 0\n",
      "finished getting rotated 4-vector 100000\n",
      "finished getting rotated 4-vector 200000\n",
      "finished getting rotated 4-vector 300000\n",
      "finished getting rotated 4-vector 400000\n",
      "finished getting rotated 4-vector 500000\n",
      "finished getting rotated 4-vector 600000\n"
     ]
    }
   ],
   "source": [
    "# new version\n",
    "pi_1_boosted_rot = []\n",
    "pi_2_boosted_rot = []\n",
    "pi0_1_boosted_rot = []\n",
    "pi0_2_boosted_rot = []\n",
    "rho_1_boosted_rot = []\n",
    "rho_2_boosted_rot = []\n",
    "\n",
    "for i in range(pi_1_boosted[:].shape[1]):\n",
    "    rot_mat = rotation_matrix_from_vectors(rho_1_boosted[1:, i], [0,0,1])\n",
    "    pi_1_boosted_rot.append(rot_mat.dot(pi_1_boosted[1:, i]))\n",
    "    pi0_1_boosted_rot.append(rot_mat.dot(pi0_1_boosted[1:, i]))\n",
    "    pi_2_boosted_rot.append(rot_mat.dot(pi_2_boosted[1:, i]))\n",
    "    pi0_2_boosted_rot.append(rot_mat.dot(pi0_2_boosted[1:, i]))\n",
    "    rho_1_boosted_rot.append(rot_mat.dot(rho_1_boosted[1:, i]))\n",
    "    rho_2_boosted_rot.append(rot_mat.dot(rho_2_boosted[1:, i]))\n",
    "    \n",
    "    if i%100000==0:\n",
    "        print('finished getting rotated 4-vector', i)"
   ]
  },
  {
   "cell_type": "code",
   "execution_count": 16,
   "metadata": {},
   "outputs": [
    {
     "data": {
      "text/plain": [
       "array([ 1.95399252e-14,  3.55271368e-14, -3.55271368e-14])"
      ]
     },
     "execution_count": 16,
     "metadata": {},
     "output_type": "execute_result"
    }
   ],
   "source": [
    "rho_2_boosted_rot[0]+rho_1_boosted_rot[0]"
   ]
  },
  {
   "cell_type": "code",
   "execution_count": 19,
   "metadata": {
    "scrolled": true
   },
   "outputs": [
    {
     "ename": "NameError",
     "evalue": "name 'axes1' is not defined",
     "output_type": "error",
     "traceback": [
      "\u001b[0;31m---------------------------------------------------------------------------\u001b[0m",
      "\u001b[0;31mNameError\u001b[0m                                 Traceback (most recent call last)",
      "\u001b[0;32m<ipython-input-19-e19dd5c6ae6f>\u001b[0m in \u001b[0;36m<module>\u001b[0;34m\u001b[0m\n\u001b[1;32m      8\u001b[0m \u001b[0;34m\u001b[0m\u001b[0m\n\u001b[1;32m      9\u001b[0m \u001b[0;32mfor\u001b[0m \u001b[0mi\u001b[0m \u001b[0;32min\u001b[0m \u001b[0mrange\u001b[0m\u001b[0;34m(\u001b[0m\u001b[0mpi_1_boosted\u001b[0m\u001b[0;34m[\u001b[0m\u001b[0;34m:\u001b[0m\u001b[0;34m]\u001b[0m\u001b[0;34m.\u001b[0m\u001b[0mshape\u001b[0m\u001b[0;34m[\u001b[0m\u001b[0;36m1\u001b[0m\u001b[0;34m]\u001b[0m\u001b[0;34m)\u001b[0m\u001b[0;34m:\u001b[0m\u001b[0;34m\u001b[0m\u001b[0;34m\u001b[0m\u001b[0m\n\u001b[0;32m---> 10\u001b[0;31m     \u001b[0mpi_1_boosted_rot\u001b[0m\u001b[0;34m.\u001b[0m\u001b[0mappend\u001b[0m\u001b[0;34m(\u001b[0m\u001b[0mR\u001b[0m\u001b[0;34m.\u001b[0m\u001b[0mfrom_rotvec\u001b[0m\u001b[0;34m(\u001b[0m\u001b[0maxes1\u001b[0m\u001b[0;34m[\u001b[0m\u001b[0mi\u001b[0m\u001b[0;34m]\u001b[0m\u001b[0;34m*\u001b[0m\u001b[0mangles1\u001b[0m\u001b[0;34m[\u001b[0m\u001b[0mi\u001b[0m\u001b[0;34m]\u001b[0m\u001b[0;34m)\u001b[0m\u001b[0;34m.\u001b[0m\u001b[0mapply\u001b[0m\u001b[0;34m(\u001b[0m\u001b[0mpi_1_boosted\u001b[0m\u001b[0;34m[\u001b[0m\u001b[0;36m1\u001b[0m\u001b[0;34m:\u001b[0m\u001b[0;34m,\u001b[0m \u001b[0mi\u001b[0m\u001b[0;34m]\u001b[0m\u001b[0;34m)\u001b[0m\u001b[0;34m)\u001b[0m\u001b[0;34m\u001b[0m\u001b[0;34m\u001b[0m\u001b[0m\n\u001b[0m\u001b[1;32m     11\u001b[0m     \u001b[0mpi_2_boosted_rot\u001b[0m\u001b[0;34m.\u001b[0m\u001b[0mappend\u001b[0m\u001b[0;34m(\u001b[0m\u001b[0mR\u001b[0m\u001b[0;34m.\u001b[0m\u001b[0mfrom_rotvec\u001b[0m\u001b[0;34m(\u001b[0m\u001b[0maxes2\u001b[0m\u001b[0;34m[\u001b[0m\u001b[0mi\u001b[0m\u001b[0;34m]\u001b[0m\u001b[0;34m*\u001b[0m\u001b[0mangles2\u001b[0m\u001b[0;34m[\u001b[0m\u001b[0mi\u001b[0m\u001b[0;34m]\u001b[0m\u001b[0;34m)\u001b[0m\u001b[0;34m.\u001b[0m\u001b[0mapply\u001b[0m\u001b[0;34m(\u001b[0m\u001b[0mpi_2_boosted\u001b[0m\u001b[0;34m[\u001b[0m\u001b[0;36m1\u001b[0m\u001b[0;34m:\u001b[0m\u001b[0;34m,\u001b[0m \u001b[0mi\u001b[0m\u001b[0;34m]\u001b[0m\u001b[0;34m)\u001b[0m\u001b[0;34m)\u001b[0m\u001b[0;34m\u001b[0m\u001b[0;34m\u001b[0m\u001b[0m\n\u001b[1;32m     12\u001b[0m     \u001b[0mpi0_1_boosted_rot\u001b[0m\u001b[0;34m.\u001b[0m\u001b[0mappend\u001b[0m\u001b[0;34m(\u001b[0m\u001b[0mR\u001b[0m\u001b[0;34m.\u001b[0m\u001b[0mfrom_rotvec\u001b[0m\u001b[0;34m(\u001b[0m\u001b[0maxes1\u001b[0m\u001b[0;34m[\u001b[0m\u001b[0mi\u001b[0m\u001b[0;34m]\u001b[0m\u001b[0;34m*\u001b[0m\u001b[0mangles1\u001b[0m\u001b[0;34m[\u001b[0m\u001b[0mi\u001b[0m\u001b[0;34m]\u001b[0m\u001b[0;34m)\u001b[0m\u001b[0;34m.\u001b[0m\u001b[0mapply\u001b[0m\u001b[0;34m(\u001b[0m\u001b[0mpi0_1_boosted\u001b[0m\u001b[0;34m[\u001b[0m\u001b[0;36m1\u001b[0m\u001b[0;34m:\u001b[0m\u001b[0;34m,\u001b[0m \u001b[0mi\u001b[0m\u001b[0;34m]\u001b[0m\u001b[0;34m)\u001b[0m\u001b[0;34m)\u001b[0m\u001b[0;34m\u001b[0m\u001b[0;34m\u001b[0m\u001b[0m\n",
      "\u001b[0;31mNameError\u001b[0m: name 'axes1' is not defined"
     ]
    }
   ],
   "source": [
    "# old version\n",
    "pi_1_boosted_rot = []\n",
    "pi_2_boosted_rot = []\n",
    "pi0_1_boosted_rot = []\n",
    "pi0_2_boosted_rot = []\n",
    "rho_1_boosted_rot = []\n",
    "rho_2_boosted_rot = []\n",
    "\n",
    "for i in range(pi_1_boosted[:].shape[1]):\n",
    "    pi_1_boosted_rot.append(R.from_rotvec(axes1[i]*angles1[i]).apply(pi_1_boosted[1:, i]))\n",
    "    pi_2_boosted_rot.append(R.from_rotvec(axes2[i]*angles2[i]).apply(pi_2_boosted[1:, i]))\n",
    "    pi0_1_boosted_rot.append(R.from_rotvec(axes1[i]*angles1[i]).apply(pi0_1_boosted[1:, i]))\n",
    "    pi0_2_boosted_rot.append(R.from_rotvec(axes2[i]*angles2[i]).apply(pi0_2_boosted[1:, i]))\n",
    "    rho_1_boosted_rot.append(R.from_rotvec(axes1[i]*angles1[i]).apply(rho_1_boosted[1:, i]))\n",
    "    rho_2_boosted_rot.append(R.from_rotvec(axes2[i]*angles2[i]).apply(rho_2_boosted[1:, i]))\n",
    "    if i%100000==0:\n",
    "        print('finished getting rotated 4-vector', i)"
   ]
  },
  {
   "cell_type": "code",
   "execution_count": 22,
   "metadata": {},
   "outputs": [],
   "source": [
    "pi_1_transformed = np.c_[pi_1_boosted[0], np.array(pi_1_boosted_rot)]\n",
    "pi_2_transformed = np.c_[pi_2_boosted[0], np.array(pi_2_boosted_rot)]\n",
    "pi0_1_transformed = np.c_[pi0_1_boosted[0], np.array(pi0_1_boosted_rot)]\n",
    "pi0_2_transformed = np.c_[pi0_2_boosted[0], np.array(pi0_2_boosted_rot)]\n",
    "rho_1_transformed = np.c_[rho_1_boosted[0], np.array(rho_1_boosted_rot)]\n",
    "rho_2_transformed = np.c_[rho_2_boosted[0], np.array(rho_2_boosted_rot)]"
   ]
  },
  {
   "cell_type": "code",
   "execution_count": 50,
   "metadata": {},
   "outputs": [
    {
     "data": {
      "text/plain": [
       "array([ 8.56968708, -0.42942941,  0.1331188 ,  8.55682233])"
      ]
     },
     "execution_count": 50,
     "metadata": {},
     "output_type": "execute_result"
    }
   ],
   "source": [
    "pi0_1_transformed[0]"
   ]
  },
  {
   "cell_type": "code",
   "execution_count": 35,
   "metadata": {},
   "outputs": [],
   "source": [
    "# create features and target\n",
    "# normalise each feature column?\n",
    "aco_angle_1 = df['aco_angle_1'].to_numpy()\n",
    "y_1_1 = df['y_1_1'].to_numpy()\n",
    "y_1_2 = df['y_1_2'].to_numpy()\n",
    "X = np.c_[pi_1_transformed, pi_2_transformed, pi0_1_transformed, pi0_2_transformed, rho_1_transformed, rho_2_transformed, aco_angle_1 , y_1_1, y_1_2, rho_1.m, rho_2.m]"
   ]
  },
  {
   "cell_type": "code",
   "execution_count": null,
   "metadata": {},
   "outputs": [],
   "source": [
    "# set a is sm, set b is ps\n",
    "y = (df_rho['wt_cp_sm']/(df_rho['wt_cp_sm'] + df_rho['wt_cp_ps'])).to_numpy()"
   ]
  },
  {
   "cell_type": "code",
   "execution_count": 13,
   "metadata": {
    "scrolled": true
   },
   "outputs": [
    {
     "name": "stdout",
     "output_type": "stream",
     "text": [
      "(653528, 21)\n",
      "(653528,)\n"
     ]
    }
   ],
   "source": [
    "print(X.shape)\n",
    "print(y.shape)"
   ]
  },
  {
   "cell_type": "code",
   "execution_count": 14,
   "metadata": {},
   "outputs": [],
   "source": [
    "scaler_x = MinMaxScaler()\n",
    "scaler_x.fit(X)\n",
    "X=scaler_x.transform(X)\n",
    "X_train,X_test, y_train, y_test  = train_test_split(\n",
    "    X,\n",
    "    y,\n",
    "    test_size=0.2,\n",
    "    random_state=123456,\n",
    "#     stratify=y.values,\n",
    ")"
   ]
  },
  {
   "cell_type": "code",
   "execution_count": 20,
   "metadata": {},
   "outputs": [],
   "source": [
    "# read data instead\n",
    "X = np.load('potential_2016/X.npy', allow_pickle=True)\n",
    "y = np.load('potential_2016/y.npy', allow_pickle=True)\n",
    "X_train,X_test, y_train, y_test  = train_test_split(\n",
    "    X,\n",
    "    y,\n",
    "    test_size=0.2,\n",
    "    random_state=123456,\n",
    "#     stratify=y.values,\n",
    ")"
   ]
  },
  {
   "cell_type": "markdown",
   "metadata": {},
   "source": [
    "## partitioning the input/output data\n",
    "### from paper\n",
    "- [ ] aco_angle_1\n",
    "- [ ] aco_angle_1, y_1_{1,2}\n",
    "- [ ] 4 vectors\n",
    "- [ ] aco_angle_1, 4 vectors\n",
    "- [ ] aco_angle_1, y_1_{1,2}, invariant masses\n",
    "- [ ] aco_angle_1, y_1_{1,2}, invariant masses, 4 vectors"
   ]
  },
  {
   "cell_type": "code",
   "execution_count": 290,
   "metadata": {},
   "outputs": [],
   "source": [
    "to_save = [pi_1_transformed, pi_2_transformed, pi0_1_transformed, pi0_2_transformed, rho_1_transformed, rho_2_transformed, aco_angle_1, y_1_1, y_1_2, rho_1.m, rho_2.m]\n",
    "to_save_names = [\"pi_1_transformed\", \"pi_2_transformed\", \"pi0_1_transformed\", \"pi0_2_transformed\", \"rho_1_transformed\", \"rho_2_transformed\", \"aco_angle_1\", \"y_1_1\", \"y_1_2\", \"m_1\", \"m_2\"]\n",
    "for i in range(len(to_save)):\n",
    "    np.save(f'potential_2016/{to_save_names[i]}', to_save[i], allow_pickle=True)"
   ]
  },
  {
   "cell_type": "code",
   "execution_count": 2,
   "metadata": {},
   "outputs": [],
   "source": [
    "to_load = []\n",
    "to_load_names = [\"pi_1_transformed\", \"pi_2_transformed\", \"pi0_1_transformed\", \"pi0_2_transformed\", \"rho_1_transformed\", \"rho_2_transformed\", \"aco_angle_1\", \"y_1_1\", \"y_1_2\", \"m_1\", \"m_2\", \"w_a\", \"w_b\"]\n",
    "for i in range(len(to_load_names)):\n",
    "    to_load.append(np.load(f'potential_2016/{to_load_names[i]}.npy', allow_pickle=True))\n",
    "pi_1_transformed, pi_2_transformed, pi0_1_transformed, pi0_2_transformed, rho_1_transformed, rho_2_transformed, aco_angle_1, y_1_1, y_1_2, m_1, m_2, w_a, w_b = to_load"
   ]
  },
  {
   "cell_type": "code",
   "execution_count": 44,
   "metadata": {},
   "outputs": [
    {
     "data": {
      "text/plain": [
       "array([[-4.74359363e+01,  0.00000000e+00,  0.00000000e+00,\n",
       "         4.74202206e+01],\n",
       "       [-4.62640934e+01,  1.06581410e-14, -4.44089210e-15,\n",
       "         4.62509078e+01],\n",
       "       [-4.61043317e+01,  1.77635684e-15,  1.11022302e-15,\n",
       "         4.60969780e+01],\n",
       "       ...,\n",
       "       [-5.07845711e+01,  1.17683641e-14,  3.05311332e-16,\n",
       "         5.07785110e+01],\n",
       "       [-3.52246892e+01, -3.99680289e-15, -7.10542736e-15,\n",
       "         3.52191327e+01],\n",
       "       [-2.81963640e+01, -5.32907052e-15, -1.11022302e-16,\n",
       "         2.81858674e+01]])"
      ]
     },
     "execution_count": 44,
     "metadata": {},
     "output_type": "execute_result"
    }
   ],
   "source": [
    "rho_1_transformed"
   ]
  },
  {
   "cell_type": "code",
   "execution_count": 87,
   "metadata": {},
   "outputs": [],
   "source": [
    "# X = np.c_[pi_1_transformed, pi_2_transformed, pi0_1_transformed, pi0_2_transformed, rho_1_transformed, rho_2_transformed, aco_angle_1 , y_1_1, y_1_2, m_1, m_2]\n",
    "X = np.c_[pi_1_transformed, pi_2_transformed, pi0_1_transformed, pi0_2_transformed, aco_angle_1 , y_1_1, y_1_2, m_1, m_2]\n",
    "y = w_a/(w_a+w_b)\n",
    "# scaler_x = MinMaxScaler()\n",
    "# scaler_x.fit(X)\n",
    "# X=scaler_x.transform(X)\n",
    "X_train,X_test, y_train, y_test  = train_test_split(\n",
    "    X,\n",
    "    y,\n",
    "    test_size=0.2,\n",
    "    random_state=123456,\n",
    "#     stratify=y.values,\n",
    ")"
   ]
  },
  {
   "cell_type": "code",
   "execution_count": 43,
   "metadata": {},
   "outputs": [],
   "source": [
    "y_d = (~(df_rho[\"rand\"]<df_rho[\"wt_cp_ps\"]/2).to_numpy()).astype(int)"
   ]
  },
  {
   "cell_type": "code",
   "execution_count": 44,
   "metadata": {},
   "outputs": [
    {
     "data": {
      "text/plain": [
       "(653528,)"
      ]
     },
     "execution_count": 44,
     "metadata": {},
     "output_type": "execute_result"
    }
   ],
   "source": [
    "y_d.shape"
   ]
  },
  {
   "cell_type": "code",
   "execution_count": 41,
   "metadata": {},
   "outputs": [],
   "source": [
    "df_ps = df_rho[\n",
    "      (df_rho[\"rand\"]<df_rho[\"wt_cp_ps\"]/2)\n",
    "]\n",
    "\n",
    "df_sm = df_rho[\n",
    "      (df_rho[\"rand\"]<df_rho[\"wt_cp_sm\"]/2)\n",
    "]\n",
    "y_sm = pd.DataFrame(np.ones(df_sm.shape[0]))\n",
    "y_ps = pd.DataFrame(np.zeros(df_ps.shape[0]))\n",
    "\n",
    "y = pd.concat([y_sm, y_ps])\n",
    "y.columns = [\"class\"]"
   ]
  },
  {
   "cell_type": "code",
   "execution_count": 37,
   "metadata": {},
   "outputs": [],
   "source": [
    "X = pd.concat([df_sm, df_ps])"
   ]
  },
  {
   "cell_type": "code",
   "execution_count": 36,
   "metadata": {},
   "outputs": [
    {
     "data": {
      "text/plain": [
       "(653528, 29)"
      ]
     },
     "execution_count": 36,
     "metadata": {},
     "output_type": "execute_result"
    }
   ],
   "source": [
    "X.shape"
   ]
  },
  {
   "cell_type": "code",
   "execution_count": 56,
   "metadata": {},
   "outputs": [
    {
     "ename": "AttributeError",
     "evalue": "'numpy.ndarray' object has no attribute 'type'",
     "output_type": "error",
     "traceback": [
      "\u001b[0;31m---------------------------------------------------------------------------\u001b[0m",
      "\u001b[0;31mAttributeError\u001b[0m                            Traceback (most recent call last)",
      "\u001b[0;32m<ipython-input-56-9a101152e6bc>\u001b[0m in \u001b[0;36m<module>\u001b[0;34m\u001b[0m\n\u001b[0;32m----> 1\u001b[0;31m \u001b[0my\u001b[0m\u001b[0;34m.\u001b[0m\u001b[0mto_numpy\u001b[0m\u001b[0;34m(\u001b[0m\u001b[0;34m)\u001b[0m\u001b[0;34m.\u001b[0m\u001b[0mtype\u001b[0m\u001b[0;34m\u001b[0m\u001b[0;34m\u001b[0m\u001b[0m\n\u001b[0m",
      "\u001b[0;31mAttributeError\u001b[0m: 'numpy.ndarray' object has no attribute 'type'"
     ]
    }
   ],
   "source": [
    "y.to_numpy()"
   ]
  },
  {
   "cell_type": "markdown",
   "metadata": {},
   "source": [
    "## NN configuration\n",
    "- output is probability of event belonging to set A\n",
    "- need to add batch normalisation and dropout\n",
    "- can rerun couple times to see average perfomance"
   ]
  },
  {
   "cell_type": "code",
   "execution_count": 23,
   "metadata": {},
   "outputs": [],
   "source": [
    "def baseline_model():\n",
    "    # create model\n",
    "    model = tf.keras.models.Sequential()\n",
    "    model.add(tf.keras.layers.Dense(300, activation='relu'))\n",
    "    model.add(tf.keras.layers.Dense(300, activation='relu'))\n",
    "    model.add(tf.keras.layers.Dense(300, activation='relu'))\n",
    "#     model.add(tf.keras.layers.Dense(300, activation='relu'))\n",
    "#     model.add(tf.keras.layers.Dense(300, activation='relu'))\n",
    "#     model.add(tf.keras.layers.Dense(300, activation='relu'))\n",
    "    model.add(tf.keras.layers.Dense(1, activation=\"sigmoid\"))\n",
    "    model.compile(loss='binary_crossentropy', optimizer='adam')\n",
    "\n",
    "    return model\n",
    "\n",
    "model = baseline_model()"
   ]
  },
  {
   "cell_type": "code",
   "execution_count": 99,
   "metadata": {},
   "outputs": [],
   "source": [
    "def kristof_model(dimensions=-1):\n",
    "    if dimensions == -1:\n",
    "        dimensions = X.shape[1]\n",
    "    # create model\n",
    "    model = tf.keras.models.Sequential()\n",
    "    model.add(tf.keras.layers.Dense(38, input_dim=dimensions, kernel_initializer='normal', activation='relu'))\n",
    "    model.add(tf.keras.layers.Dense(100, kernel_initializer='normal', activation='relu'))\n",
    "    model.add(tf.keras.layers.Dense(1, activation=\"sigmoid\"))\n",
    "    model.compile(loss='binary_crossentropy', optimizer='adam')  \n",
    "    return model\n",
    "model = kristof_model(X.shape[1])"
   ]
  },
  {
   "cell_type": "code",
   "execution_count": 41,
   "metadata": {
    "scrolled": true
   },
   "outputs": [
    {
     "name": "stdout",
     "output_type": "stream",
     "text": [
      "Model: \"functional_5\"\n",
      "_________________________________________________________________\n",
      "Layer (type)                 Output Shape              Param #   \n",
      "=================================================================\n",
      "input_3 (InputLayer)         [(None, 29)]              0         \n",
      "_________________________________________________________________\n",
      "dense_6 (Dense)              (None, 300)               9000      \n",
      "_________________________________________________________________\n",
      "dense_7 (Dense)              (None, 300)               90300     \n",
      "_________________________________________________________________\n",
      "dense_8 (Dense)              (None, 1)                 301       \n",
      "=================================================================\n",
      "Total params: 99,601\n",
      "Trainable params: 99,601\n",
      "Non-trainable params: 0\n",
      "_________________________________________________________________\n",
      "None\n"
     ]
    }
   ],
   "source": [
    "def func_model(units=[300,300], activations=['relu', 'relu']):\n",
    "    if len(units) != len(activations):\n",
    "        raise InputError('units and activations have different lengths')\n",
    "    layers = len(units)\n",
    "    inputs = tf.keras.Input(shape=(X.shape[1],))\n",
    "    x = inputs\n",
    "    \n",
    "    for i in range(layers):\n",
    "        x = tf.keras.layers.Dense(units[i], activation=activations[i], kernel_initializer='normal')(x)\n",
    "\n",
    "    outputs = tf.keras.layers.Dense(1, activation=\"sigmoid\")(x)\n",
    "    model = tf.keras.Model(inputs=inputs, outputs=outputs)\n",
    "    model.compile(loss='binary_crossentropy', optimizer='adam')\n",
    "    print(model.summary())\n",
    "    return model\n",
    "model = func_model()\n",
    "\n",
    "# tf.keras.utils.plot_model(model, \"y_network.png\", show_shapes=True, expand_nested=False)"
   ]
  },
  {
   "cell_type": "markdown",
   "metadata": {},
   "source": [
    "## investigation\n",
    "- batch normalisation: check if after activation or before activation function is better\n",
    "- dropout layers"
   ]
  },
  {
   "cell_type": "code",
   "execution_count": 89,
   "metadata": {},
   "outputs": [
    {
     "data": {
      "text/plain": [
       "(653528, 21)"
      ]
     },
     "execution_count": 89,
     "metadata": {},
     "output_type": "execute_result"
    }
   ],
   "source": [
    "X.shape"
   ]
  },
  {
   "cell_type": "code",
   "execution_count": 100,
   "metadata": {
    "scrolled": true
   },
   "outputs": [
    {
     "name": "stderr",
     "output_type": "stream",
     "text": [
      "W1109 16:26:58.536243 140178397140800 ag_logging.py:146] AutoGraph could not transform <function Model.make_train_function.<locals>.train_function at 0x7f7bc53c4c20> and will run it as-is.\n",
      "Please report this to the TensorFlow team. When filing the bug, set the verbosity to 10 (on Linux, `export AUTOGRAPH_VERBOSITY=10`) and attach the full output.\n",
      "Cause: 'arguments' object has no attribute 'posonlyargs'\n",
      "To silence this warning, decorate the function with @tf.autograph.experimental.do_not_convert\n"
     ]
    },
    {
     "name": "stdout",
     "output_type": "stream",
     "text": [
      "Epoch 1/20\n",
      "WARNING: AutoGraph could not transform <function Model.make_train_function.<locals>.train_function at 0x7f7bc53c4c20> and will run it as-is.\n",
      "Please report this to the TensorFlow team. When filing the bug, set the verbosity to 10 (on Linux, `export AUTOGRAPH_VERBOSITY=10`) and attach the full output.\n",
      "Cause: 'arguments' object has no attribute 'posonlyargs'\n",
      "To silence this warning, decorate the function with @tf.autograph.experimental.do_not_convert\n",
      "49/53 [==========================>...] - ETA: 0s - loss: 0.6973"
     ]
    },
    {
     "name": "stderr",
     "output_type": "stream",
     "text": [
      "W1109 16:27:01.256816 140178397140800 ag_logging.py:146] AutoGraph could not transform <function Model.make_test_function.<locals>.test_function at 0x7f7bea68ce60> and will run it as-is.\n",
      "Please report this to the TensorFlow team. When filing the bug, set the verbosity to 10 (on Linux, `export AUTOGRAPH_VERBOSITY=10`) and attach the full output.\n",
      "Cause: 'arguments' object has no attribute 'posonlyargs'\n",
      "To silence this warning, decorate the function with @tf.autograph.experimental.do_not_convert\n"
     ]
    },
    {
     "name": "stdout",
     "output_type": "stream",
     "text": [
      "WARNING: AutoGraph could not transform <function Model.make_test_function.<locals>.test_function at 0x7f7bea68ce60> and will run it as-is.\n",
      "Please report this to the TensorFlow team. When filing the bug, set the verbosity to 10 (on Linux, `export AUTOGRAPH_VERBOSITY=10`) and attach the full output.\n",
      "Cause: 'arguments' object has no attribute 'posonlyargs'\n",
      "To silence this warning, decorate the function with @tf.autograph.experimental.do_not_convert\n",
      "53/53 [==============================] - 2s 32ms/step - loss: 0.6971 - val_loss: 0.6932\n",
      "Epoch 2/20\n",
      "53/53 [==============================] - 1s 23ms/step - loss: 0.6932 - val_loss: 0.6931\n",
      "Epoch 3/20\n",
      "53/53 [==============================] - 1s 26ms/step - loss: 0.6930 - val_loss: 0.6929\n",
      "Epoch 4/20\n",
      "53/53 [==============================] - 1s 26ms/step - loss: 0.6925 - val_loss: 0.6917\n",
      "Epoch 5/20\n",
      "53/53 [==============================] - 1s 25ms/step - loss: 0.6895 - val_loss: 0.6865\n",
      "Epoch 6/20\n",
      "53/53 [==============================] - 1s 26ms/step - loss: 0.6844 - val_loss: 0.6828\n",
      "Epoch 7/20\n",
      "53/53 [==============================] - 1s 25ms/step - loss: 0.6821 - val_loss: 0.6819\n",
      "Epoch 8/20\n",
      "53/53 [==============================] - 1s 25ms/step - loss: 0.6810 - val_loss: 0.6807\n",
      "Epoch 9/20\n",
      "53/53 [==============================] - 1s 27ms/step - loss: 0.6803 - val_loss: 0.6803\n",
      "Epoch 10/20\n",
      "53/53 [==============================] - 1s 26ms/step - loss: 0.6800 - val_loss: 0.6797\n",
      "Epoch 11/20\n",
      "53/53 [==============================] - 1s 28ms/step - loss: 0.6794 - val_loss: 0.6791\n",
      "Epoch 12/20\n",
      "53/53 [==============================] - 1s 26ms/step - loss: 0.6791 - val_loss: 0.6792\n",
      "Epoch 13/20\n",
      "53/53 [==============================] - 1s 26ms/step - loss: 0.6787 - val_loss: 0.6785\n",
      "Epoch 14/20\n",
      "53/53 [==============================] - 1s 27ms/step - loss: 0.6784 - val_loss: 0.6781\n",
      "Epoch 15/20\n",
      "53/53 [==============================] - 1s 25ms/step - loss: 0.6781 - val_loss: 0.6779\n",
      "Epoch 16/20\n",
      "53/53 [==============================] - 1s 26ms/step - loss: 0.6781 - val_loss: 0.6777\n",
      "Epoch 17/20\n",
      "53/53 [==============================] - 1s 25ms/step - loss: 0.6779 - val_loss: 0.6780\n",
      "Epoch 18/20\n",
      "53/53 [==============================] - 1s 27ms/step - loss: 0.6776 - val_loss: 0.6775\n",
      "Epoch 19/20\n",
      "53/53 [==============================] - 1s 26ms/step - loss: 0.6773 - val_loss: 0.6780\n",
      "Epoch 20/20\n",
      "53/53 [==============================] - 1s 24ms/step - loss: 0.6775 - val_loss: 0.6773\n"
     ]
    },
    {
     "data": {
      "text/plain": [
       "<tensorflow.python.keras.callbacks.History at 0x7f7bc92ea8d0>"
      ]
     },
     "execution_count": 100,
     "metadata": {},
     "output_type": "execute_result"
    }
   ],
   "source": [
    "early_stop = tf.keras.callbacks.EarlyStopping(monitor='val_loss',patience=10)\n",
    "history = tf.keras.callbacks.History()\n",
    "model.fit(X_train, y_train,\n",
    "            batch_size=10000,\n",
    "            epochs=20,\n",
    "            callbacks=[history,early_stop],\n",
    "            validation_data=(X_test, y_test))"
   ]
  },
  {
   "cell_type": "code",
   "execution_count": 82,
   "metadata": {
    "scrolled": true
   },
   "outputs": [
    {
     "name": "stderr",
     "output_type": "stream",
     "text": [
      "W1109 16:17:54.827726 140178397140800 ag_logging.py:146] AutoGraph could not transform <function Model.make_predict_function.<locals>.predict_function at 0x7f7bc9473cb0> and will run it as-is.\n",
      "Please report this to the TensorFlow team. When filing the bug, set the verbosity to 10 (on Linux, `export AUTOGRAPH_VERBOSITY=10`) and attach the full output.\n",
      "Cause: 'arguments' object has no attribute 'posonlyargs'\n",
      "To silence this warning, decorate the function with @tf.autograph.experimental.do_not_convert\n"
     ]
    },
    {
     "name": "stdout",
     "output_type": "stream",
     "text": [
      "WARNING: AutoGraph could not transform <function Model.make_predict_function.<locals>.predict_function at 0x7f7bc9473cb0> and will run it as-is.\n",
      "Please report this to the TensorFlow team. When filing the bug, set the verbosity to 10 (on Linux, `export AUTOGRAPH_VERBOSITY=10`) and attach the full output.\n",
      "Cause: 'arguments' object has no attribute 'posonlyargs'\n",
      "To silence this warning, decorate the function with @tf.autograph.experimental.do_not_convert\n",
      "20423/20423 [==============================] - 14s 701us/step - loss: 0.6808\n"
     ]
    }
   ],
   "source": [
    "y_pred = model.predict(X)\n",
    "test_loss = model.evaluate(X, y)"
   ]
  },
  {
   "cell_type": "code",
   "execution_count": 43,
   "metadata": {},
   "outputs": [],
   "source": [
    "# creating custom ROC\n",
    "set_a = np.ones(len(y))\n",
    "set_b = np.zeros(len(y))\n",
    "\n",
    "# w_a = (df_rho['wt_cp_sm']/(df_rho['wt_cp_sm'] + df_rho['wt_cp_ps'])).to_numpy()\n",
    "# w_b = (df_rho['wt_cp_ps']/(df_rho['wt_cp_sm'] + df_rho['wt_cp_ps'])).to_numpy()"
   ]
  },
  {
   "cell_type": "code",
   "execution_count": null,
   "metadata": {},
   "outputs": [],
   "source": [
    "w_a = np.load('potential_2016/w_a.npy', allow_pickle=True)\n",
    "w_b = np.load('potential_2016/w_b.npy', allow_pickle=True)"
   ]
  },
  {
   "cell_type": "code",
   "execution_count": 83,
   "metadata": {},
   "outputs": [],
   "source": [
    "y_pred_roc = np.r_[y_pred, y_pred]\n",
    "y_label_roc = np.r_[set_a, set_b]\n",
    "w_roc = np.r_[w_a, w_b]"
   ]
  },
  {
   "cell_type": "code",
   "execution_count": 84,
   "metadata": {},
   "outputs": [
    {
     "data": {
      "text/plain": [
       "0.5845869981043447"
      ]
     },
     "execution_count": 84,
     "metadata": {},
     "output_type": "execute_result"
    }
   ],
   "source": [
    "custom_auc = roc_auc_score(y_label_roc, y_pred_roc, sample_weight=w_roc)\n",
    "custom_auc"
   ]
  },
  {
   "cell_type": "code",
   "execution_count": 48,
   "metadata": {},
   "outputs": [
    {
     "data": {
      "image/png": "[encoded data removed]",
      "text/plain": [
       "<Figure size 432x288 with 1 Axes>"
      ]
     },
     "metadata": {
      "needs_background": "light"
     },
     "output_type": "display_data"
    }
   ],
   "source": [
    "fpr, tpr, _ = roc_curve(y_label_roc, y_pred_roc, sample_weight=w_roc)\n",
    "plot_roc_curve(fpr, tpr, custom_auc)\n"
   ]
  },
  {
   "cell_type": "code",
   "execution_count": 47,
   "metadata": {},
   "outputs": [],
   "source": [
    "#  define a function to plot the ROC curves - just makes the roc_curve look nicer than the default\n",
    "def plot_roc_curve(fpr, tpr, auc):\n",
    "    fig, ax = plt.subplots()\n",
    "    ax.plot(fpr, tpr)\n",
    "    ax.set(xlabel='False Positive Rate', ylabel='True Positive Rate')\n",
    "    ax.grid()\n",
    "    ax.text(0.6, 0.3, 'Custom AUC Score: {:.3f}'.format(auc),\n",
    "            bbox=dict(boxstyle='square,pad=0.3', fc='white', ec='k'))\n",
    "    lims = [np.min([ax.get_xlim(), ax.get_ylim()]), np.max([ax.get_xlim(), ax.get_ylim()])]\n",
    "    ax.plot(lims, lims, 'k--')\n",
    "    ax.set_xlim(lims)\n",
    "    ax.set_ylim(lims)\n",
    "    plt.savefig('roc_rho_rho_NN')"
   ]
  },
  {
   "cell_type": "code",
   "execution_count": 16,
   "metadata": {},
   "outputs": [
    {
     "data": {
      "text/plain": [
       "<matplotlib.legend.Legend at 0x7f5abd5e08d0>"
      ]
     },
     "execution_count": 16,
     "metadata": {},
     "output_type": "execute_result"
    },
    {
     "data": {
      "image/png": "[encoded data removed]",
      "text/plain": [
       "<Figure size 432x288 with 1 Axes>"
      ]
     },
     "metadata": {
      "needs_background": "light"
     },
     "output_type": "display_data"
    }
   ],
   "source": [
    "# Extract number of run epochs from the training history\n",
    "epochs = range(1, len(history.history[\"loss\"])+1)\n",
    "\n",
    "# Extract loss on training and validation ddataset and plot them together\n",
    "plt.plot(epochs, history.history[\"loss\"], \"o-\", label=\"Training\")\n",
    "plt.plot(epochs, history.history[\"val_loss\"], \"o-\", label=\"Test\")\n",
    "plt.xlabel(\"Epochs\"), plt.ylabel(\"Loss\")\n",
    "# plt.yscale(\"log\")\n",
    "plt.legend()"
   ]
  },
  {
   "cell_type": "code",
   "execution_count": 3,
   "metadata": {},
   "outputs": [
    {
     "name": "stderr",
     "output_type": "stream",
     "text": [
      "2020-11-09 14:16:57.186656: I tensorflow/core/platform/cpu_feature_guard.cc:142] This TensorFlow binary is optimized with oneAPI Deep Neural Network Library (oneDNN)to use the following CPU instructions in performance-critical operations:  AVX2 FMA\n",
      "To enable them in other operations, rebuild TensorFlow with the appropriate compiler flags.\n",
      "2020-11-09 14:16:57.319925: I tensorflow/core/platform/profile_utils/cpu_utils.cc:104] CPU Frequency: 2399960000 Hz\n",
      "2020-11-09 14:16:57.326192: I tensorflow/compiler/xla/service/service.cc:168] XLA service 0x17f4efa0 initialized for platform Host (this does not guarantee that XLA will be used). Devices:\n",
      "2020-11-09 14:16:57.326239: I tensorflow/compiler/xla/service/service.cc:176]   StreamExecutor device (0): Host, Default Version\n"
     ]
    }
   ],
   "source": [
    "model_2 = tf.keras.models.load_model('potential_2016/NN_1')"
   ]
  },
  {
   "cell_type": "code",
   "execution_count": 6,
   "metadata": {
    "scrolled": true
   },
   "outputs": [
    {
     "name": "stderr",
     "output_type": "stream",
     "text": [
      "WARNING: Logging before flag parsing goes to stderr.\n",
      "W1109 14:17:23.320142 140178397140800 ag_logging.py:146] AutoGraph could not transform <function Model.make_predict_function.<locals>.predict_function at 0x7f7cc838f290> and will run it as-is.\n",
      "Please report this to the TensorFlow team. When filing the bug, set the verbosity to 10 (on Linux, `export AUTOGRAPH_VERBOSITY=10`) and attach the full output.\n",
      "Cause: 'arguments' object has no attribute 'posonlyargs'\n",
      "To silence this warning, decorate the function with @tf.autograph.experimental.do_not_convert\n"
     ]
    },
    {
     "name": "stdout",
     "output_type": "stream",
     "text": [
      "WARNING: AutoGraph could not transform <function Model.make_predict_function.<locals>.predict_function at 0x7f7cc838f290> and will run it as-is.\n",
      "Please report this to the TensorFlow team. When filing the bug, set the verbosity to 10 (on Linux, `export AUTOGRAPH_VERBOSITY=10`) and attach the full output.\n",
      "Cause: 'arguments' object has no attribute 'posonlyargs'\n",
      "To silence this warning, decorate the function with @tf.autograph.experimental.do_not_convert\n"
     ]
    },
    {
     "ename": "NameError",
     "evalue": "name 'set_a' is not defined",
     "output_type": "error",
     "traceback": [
      "\u001b[0;31m---------------------------------------------------------------------------\u001b[0m",
      "\u001b[0;31mNameError\u001b[0m                                 Traceback (most recent call last)",
      "\u001b[0;32m<ipython-input-6-3ca7d66e8b2e>\u001b[0m in \u001b[0;36m<module>\u001b[0;34m\u001b[0m\n\u001b[1;32m      1\u001b[0m \u001b[0my_pred\u001b[0m \u001b[0;34m=\u001b[0m \u001b[0mmodel_2\u001b[0m\u001b[0;34m.\u001b[0m\u001b[0mpredict\u001b[0m\u001b[0;34m(\u001b[0m\u001b[0mX\u001b[0m\u001b[0;34m)\u001b[0m\u001b[0;34m\u001b[0m\u001b[0;34m\u001b[0m\u001b[0m\n\u001b[1;32m      2\u001b[0m \u001b[0my_pred_roc\u001b[0m \u001b[0;34m=\u001b[0m \u001b[0mnp\u001b[0m\u001b[0;34m.\u001b[0m\u001b[0mr_\u001b[0m\u001b[0;34m[\u001b[0m\u001b[0my_pred\u001b[0m\u001b[0;34m,\u001b[0m \u001b[0my_pred\u001b[0m\u001b[0;34m]\u001b[0m\u001b[0;34m\u001b[0m\u001b[0;34m\u001b[0m\u001b[0m\n\u001b[0;32m----> 3\u001b[0;31m \u001b[0my_label_roc\u001b[0m \u001b[0;34m=\u001b[0m \u001b[0mnp\u001b[0m\u001b[0;34m.\u001b[0m\u001b[0mr_\u001b[0m\u001b[0;34m[\u001b[0m\u001b[0mset_a\u001b[0m\u001b[0;34m,\u001b[0m \u001b[0mset_b\u001b[0m\u001b[0;34m]\u001b[0m\u001b[0;34m\u001b[0m\u001b[0;34m\u001b[0m\u001b[0m\n\u001b[0m\u001b[1;32m      4\u001b[0m \u001b[0mw_roc\u001b[0m \u001b[0;34m=\u001b[0m \u001b[0mnp\u001b[0m\u001b[0;34m.\u001b[0m\u001b[0mr_\u001b[0m\u001b[0;34m[\u001b[0m\u001b[0mw_a\u001b[0m\u001b[0;34m,\u001b[0m \u001b[0mw_b\u001b[0m\u001b[0;34m]\u001b[0m\u001b[0;34m\u001b[0m\u001b[0;34m\u001b[0m\u001b[0m\n\u001b[1;32m      5\u001b[0m \u001b[0mcustom_auc\u001b[0m \u001b[0;34m=\u001b[0m \u001b[0mroc_auc_score\u001b[0m\u001b[0;34m(\u001b[0m\u001b[0my_label_roc\u001b[0m\u001b[0;34m,\u001b[0m \u001b[0my_pred_roc\u001b[0m\u001b[0;34m,\u001b[0m \u001b[0msample_weight\u001b[0m\u001b[0;34m=\u001b[0m\u001b[0mw_roc\u001b[0m\u001b[0;34m)\u001b[0m\u001b[0;34m\u001b[0m\u001b[0;34m\u001b[0m\u001b[0m\n",
      "\u001b[0;31mNameError\u001b[0m: name 'set_a' is not defined"
     ]
    }
   ],
   "source": [
    "y_pred = model_2.predict(X)\n",
    "y_pred_roc = np.r_[y_pred, y_pred]\n",
    "y_label_roc = np.r_[set_a, set_b]\n",
    "w_roc = np.r_[w_a, w_b]\n",
    "custom_auc = roc_auc_score(y_label_roc, y_pred_roc, sample_weight=w_roc)\n",
    "custom_auc"
   ]
  },
  {
   "cell_type": "code",
   "execution_count": 46,
   "metadata": {},
   "outputs": [
    {
     "data": {
      "text/plain": [
       "0.7751572527012546"
      ]
     },
     "execution_count": 46,
     "metadata": {},
     "output_type": "execute_result"
    }
   ],
   "source": [
    "# theoretical limit\n",
    "y = w_a/(w_a+w_b)\n",
    "set_a = np.ones(len(y))\n",
    "set_b = np.zeros(len(y))\n",
    "y_pred_roc = np.r_[y, y]\n",
    "y_label_roc = np.r_[set_a, set_b]\n",
    "w_roc = np.r_[w_a, w_b]\n",
    "custom_auc = roc_auc_score(y_label_roc, y_pred_roc, sample_weight=w_roc)\n",
    "custom_auc"
   ]
  },
  {
   "cell_type": "code",
   "execution_count": null,
   "metadata": {},
   "outputs": [],
   "source": [
    "# sanity check of roc score\n",
    "X_train,X_test, y_train, y_test  = train_test_split(\n",
    "    X,\n",
    "    y,\n",
    "    test_size=0.2,\n",
    "    random_state=123456,\n",
    "#     stratify=y.values,\n",
    ")"
   ]
  },
  {
   "cell_type": "code",
   "execution_count": 70,
   "metadata": {},
   "outputs": [],
   "source": [
    "w_a_train, w_a_test, w_b_train, w_b_test = train_test_split(w_a, w_b, test_size=0.2, random_state=123456)"
   ]
  },
  {
   "cell_type": "code",
   "execution_count": 54,
   "metadata": {},
   "outputs": [],
   "source": [
    "def custom_auc_score(pred, w_a, w_b):\n",
    "    set_a = np.ones(len(pred))\n",
    "    set_b = np.zeros(len(pred))\n",
    "    y_pred_roc = np.r_[pred, pred]\n",
    "    y_label_roc = np.r_[set_a, set_b]\n",
    "    w_roc = np.r_[w_a, w_b]\n",
    "    custom_auc = roc_auc_score(y_label_roc, y_pred_roc, sample_weight=w_roc)\n",
    "    return custom_auc"
   ]
  },
  {
   "cell_type": "code",
   "execution_count": 101,
   "metadata": {},
   "outputs": [
    {
     "name": "stderr",
     "output_type": "stream",
     "text": [
      "W1109 16:27:28.111766 140178397140800 ag_logging.py:146] AutoGraph could not transform <function Model.make_predict_function.<locals>.predict_function at 0x7f7bea7e4710> and will run it as-is.\n",
      "Please report this to the TensorFlow team. When filing the bug, set the verbosity to 10 (on Linux, `export AUTOGRAPH_VERBOSITY=10`) and attach the full output.\n",
      "Cause: 'arguments' object has no attribute 'posonlyargs'\n",
      "To silence this warning, decorate the function with @tf.autograph.experimental.do_not_convert\n"
     ]
    },
    {
     "name": "stdout",
     "output_type": "stream",
     "text": [
      "WARNING: AutoGraph could not transform <function Model.make_predict_function.<locals>.predict_function at 0x7f7bea7e4710> and will run it as-is.\n",
      "Please report this to the TensorFlow team. When filing the bug, set the verbosity to 10 (on Linux, `export AUTOGRAPH_VERBOSITY=10`) and attach the full output.\n",
      "Cause: 'arguments' object has no attribute 'posonlyargs'\n",
      "To silence this warning, decorate the function with @tf.autograph.experimental.do_not_convert\n"
     ]
    }
   ],
   "source": [
    "y_pred_test = model.predict(X_test)\n",
    "test_auc = custom_auc_score(y_pred_test, w_a_test, w_b_test)\n",
    "y_pred_train = model.predict(X_train)\n",
    "train_auc = custom_auc_score(y_pred_train, w_a_train, w_b_train)\n",
    "y_pred = model.predict(X)\n",
    "auc = custom_auc_score(y_pred, w_a, w_b)"
   ]
  },
  {
   "cell_type": "code",
   "execution_count": 102,
   "metadata": {},
   "outputs": [
    {
     "name": "stdout",
     "output_type": "stream",
     "text": [
      "0.5929943614390831 0.5930850939054201 0.5930668913683725\n"
     ]
    }
   ],
   "source": [
    "print(test_auc, train_auc, auc)"
   ]
  }
 ],
 "metadata": {
  "kernelspec": {
   "display_name": "Python 3",
   "language": "python",
   "name": "python3"
  },
  "language_info": {
   "codemirror_mode": {
    "name": "ipython",
    "version": 3
   },
   "file_extension": ".py",
   "mimetype": "text/x-python",
   "name": "python",
   "nbconvert_exporter": "python",
   "pygments_lexer": "ipython3",
   "version": "3.8.6"
  }
 },
 "nbformat": 4,
 "nbformat_minor": 4
}
