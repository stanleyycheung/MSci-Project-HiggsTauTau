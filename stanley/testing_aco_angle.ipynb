{
 "cells": [
  {
   "cell_type": "code",
   "execution_count": 1,
   "metadata": {},
   "outputs": [],
   "source": [
    "import numpy as np\n",
    "import pandas as pd\n",
    "import uproot\n",
    "from pylorentz import Momentum4\n",
    "import matplotlib.pyplot as plt\n",
    "%matplotlib inline\n",
    "m_tau = 1.776"
   ]
  },
  {
   "cell_type": "code",
   "execution_count": 2,
   "metadata": {},
   "outputs": [],
   "source": [
    "df = pd.read_pickle('../shared/df_tt_rho_rho.pkl')"
   ]
  },
  {
   "cell_type": "code",
   "execution_count": 3,
   "metadata": {},
   "outputs": [],
   "source": [
    "df = df[(df['mva_dm_1'] == 1) & (df['mva_dm_2'] == 1) & (df[\"tau_decay_mode_1\"] == 1) & (df[\"tau_decay_mode_2\"] == 1)]"
   ]
  },
  {
   "cell_type": "code",
   "execution_count": 4,
   "metadata": {},
   "outputs": [
    {
     "data": {
      "text/html": [
       "<div>\n",
       "<style scoped>\n",
       "    .dataframe tbody tr th:only-of-type {\n",
       "        vertical-align: middle;\n",
       "    }\n",
       "\n",
       "    .dataframe tbody tr th {\n",
       "        vertical-align: top;\n",
       "    }\n",
       "\n",
       "    .dataframe thead th {\n",
       "        text-align: right;\n",
       "    }\n",
       "</style>\n",
       "<table border=\"1\" class=\"dataframe\">\n",
       "  <thead>\n",
       "    <tr style=\"text-align: right;\">\n",
       "      <th></th>\n",
       "      <th>wt_cp_sm</th>\n",
       "      <th>wt_cp_ps</th>\n",
       "      <th>wt_cp_mm</th>\n",
       "      <th>rand</th>\n",
       "      <th>aco_angle_1</th>\n",
       "      <th>mva_dm_1</th>\n",
       "      <th>mva_dm_2</th>\n",
       "      <th>tau_decay_mode_1</th>\n",
       "      <th>tau_decay_mode_2</th>\n",
       "      <th>pi_E_1</th>\n",
       "      <th>...</th>\n",
       "      <th>metcov00</th>\n",
       "      <th>metcov01</th>\n",
       "      <th>metcov10</th>\n",
       "      <th>metcov11</th>\n",
       "      <th>gen_nu_p_1</th>\n",
       "      <th>gen_nu_phi_1</th>\n",
       "      <th>gen_nu_eta_1</th>\n",
       "      <th>gen_nu_p_2</th>\n",
       "      <th>gen_nu_phi_2</th>\n",
       "      <th>gen_nu_eta_2</th>\n",
       "    </tr>\n",
       "    <tr>\n",
       "      <th>entry</th>\n",
       "      <th></th>\n",
       "      <th></th>\n",
       "      <th></th>\n",
       "      <th></th>\n",
       "      <th></th>\n",
       "      <th></th>\n",
       "      <th></th>\n",
       "      <th></th>\n",
       "      <th></th>\n",
       "      <th></th>\n",
       "      <th></th>\n",
       "      <th></th>\n",
       "      <th></th>\n",
       "      <th></th>\n",
       "      <th></th>\n",
       "      <th></th>\n",
       "      <th></th>\n",
       "      <th></th>\n",
       "      <th></th>\n",
       "      <th></th>\n",
       "      <th></th>\n",
       "    </tr>\n",
       "  </thead>\n",
       "  <tbody>\n",
       "    <tr>\n",
       "      <th>8</th>\n",
       "      <td>1.228852</td>\n",
       "      <td>0.950417</td>\n",
       "      <td>0.223672</td>\n",
       "      <td>0.861532</td>\n",
       "      <td>2.657029</td>\n",
       "      <td>1</td>\n",
       "      <td>1</td>\n",
       "      <td>1</td>\n",
       "      <td>1</td>\n",
       "      <td>45.423448</td>\n",
       "      <td>...</td>\n",
       "      <td>42.660179</td>\n",
       "      <td>48.254131</td>\n",
       "      <td>48.254131</td>\n",
       "      <td>127.915657</td>\n",
       "      <td>11.907320</td>\n",
       "      <td>-1.878383</td>\n",
       "      <td>-0.443223</td>\n",
       "      <td>12.628682</td>\n",
       "      <td>1.261835</td>\n",
       "      <td>0.048225</td>\n",
       "    </tr>\n",
       "    <tr>\n",
       "      <th>25</th>\n",
       "      <td>0.124674</td>\n",
       "      <td>1.936855</td>\n",
       "      <td>1.318387</td>\n",
       "      <td>0.932849</td>\n",
       "      <td>1.547246</td>\n",
       "      <td>1</td>\n",
       "      <td>1</td>\n",
       "      <td>1</td>\n",
       "      <td>1</td>\n",
       "      <td>24.506373</td>\n",
       "      <td>...</td>\n",
       "      <td>161.991516</td>\n",
       "      <td>2.567861</td>\n",
       "      <td>2.567861</td>\n",
       "      <td>105.209160</td>\n",
       "      <td>14.349887</td>\n",
       "      <td>2.519850</td>\n",
       "      <td>-0.934011</td>\n",
       "      <td>44.844142</td>\n",
       "      <td>-0.313698</td>\n",
       "      <td>-1.423014</td>\n",
       "    </tr>\n",
       "    <tr>\n",
       "      <th>27</th>\n",
       "      <td>1.461517</td>\n",
       "      <td>0.400455</td>\n",
       "      <td>0.172710</td>\n",
       "      <td>0.132842</td>\n",
       "      <td>3.750274</td>\n",
       "      <td>1</td>\n",
       "      <td>1</td>\n",
       "      <td>1</td>\n",
       "      <td>1</td>\n",
       "      <td>15.319610</td>\n",
       "      <td>...</td>\n",
       "      <td>80.564423</td>\n",
       "      <td>-29.174086</td>\n",
       "      <td>-29.174086</td>\n",
       "      <td>72.426666</td>\n",
       "      <td>35.673293</td>\n",
       "      <td>0.106444</td>\n",
       "      <td>1.180579</td>\n",
       "      <td>23.342057</td>\n",
       "      <td>-2.873663</td>\n",
       "      <td>1.126849</td>\n",
       "    </tr>\n",
       "    <tr>\n",
       "      <th>45</th>\n",
       "      <td>0.059870</td>\n",
       "      <td>0.061072</td>\n",
       "      <td>0.111744</td>\n",
       "      <td>0.514073</td>\n",
       "      <td>1.192612</td>\n",
       "      <td>1</td>\n",
       "      <td>1</td>\n",
       "      <td>1</td>\n",
       "      <td>1</td>\n",
       "      <td>94.211361</td>\n",
       "      <td>...</td>\n",
       "      <td>45.858810</td>\n",
       "      <td>-4.467490</td>\n",
       "      <td>-4.467490</td>\n",
       "      <td>212.978531</td>\n",
       "      <td>2.964097</td>\n",
       "      <td>-0.686183</td>\n",
       "      <td>-1.008616</td>\n",
       "      <td>0.729467</td>\n",
       "      <td>2.953007</td>\n",
       "      <td>-0.809572</td>\n",
       "    </tr>\n",
       "    <tr>\n",
       "      <th>50</th>\n",
       "      <td>0.654131</td>\n",
       "      <td>0.931771</td>\n",
       "      <td>0.072470</td>\n",
       "      <td>0.504356</td>\n",
       "      <td>3.264792</td>\n",
       "      <td>1</td>\n",
       "      <td>1</td>\n",
       "      <td>1</td>\n",
       "      <td>1</td>\n",
       "      <td>25.899289</td>\n",
       "      <td>...</td>\n",
       "      <td>84.956879</td>\n",
       "      <td>27.219664</td>\n",
       "      <td>27.219664</td>\n",
       "      <td>33.637897</td>\n",
       "      <td>8.663849</td>\n",
       "      <td>-2.653995</td>\n",
       "      <td>-0.131161</td>\n",
       "      <td>27.029359</td>\n",
       "      <td>0.369547</td>\n",
       "      <td>-0.154201</td>\n",
       "    </tr>\n",
       "  </tbody>\n",
       "</table>\n",
       "<p>5 rows × 40 columns</p>\n",
       "</div>"
      ],
      "text/plain": [
       "       wt_cp_sm  wt_cp_ps  wt_cp_mm      rand  aco_angle_1  mva_dm_1  \\\n",
       "entry                                                                  \n",
       "8      1.228852  0.950417  0.223672  0.861532     2.657029         1   \n",
       "25     0.124674  1.936855  1.318387  0.932849     1.547246         1   \n",
       "27     1.461517  0.400455  0.172710  0.132842     3.750274         1   \n",
       "45     0.059870  0.061072  0.111744  0.514073     1.192612         1   \n",
       "50     0.654131  0.931771  0.072470  0.504356     3.264792         1   \n",
       "\n",
       "       mva_dm_2  tau_decay_mode_1  tau_decay_mode_2     pi_E_1  ...  \\\n",
       "entry                                                           ...   \n",
       "8             1                 1                 1  45.423448  ...   \n",
       "25            1                 1                 1  24.506373  ...   \n",
       "27            1                 1                 1  15.319610  ...   \n",
       "45            1                 1                 1  94.211361  ...   \n",
       "50            1                 1                 1  25.899289  ...   \n",
       "\n",
       "         metcov00   metcov01   metcov10    metcov11  gen_nu_p_1  gen_nu_phi_1  \\\n",
       "entry                                                                           \n",
       "8       42.660179  48.254131  48.254131  127.915657   11.907320     -1.878383   \n",
       "25     161.991516   2.567861   2.567861  105.209160   14.349887      2.519850   \n",
       "27      80.564423 -29.174086 -29.174086   72.426666   35.673293      0.106444   \n",
       "45      45.858810  -4.467490  -4.467490  212.978531    2.964097     -0.686183   \n",
       "50      84.956879  27.219664  27.219664   33.637897    8.663849     -2.653995   \n",
       "\n",
       "       gen_nu_eta_1  gen_nu_p_2  gen_nu_phi_2  gen_nu_eta_2  \n",
       "entry                                                        \n",
       "8         -0.443223   12.628682      1.261835      0.048225  \n",
       "25        -0.934011   44.844142     -0.313698     -1.423014  \n",
       "27         1.180579   23.342057     -2.873663      1.126849  \n",
       "45        -1.008616    0.729467      2.953007     -0.809572  \n",
       "50        -0.131161   27.029359      0.369547     -0.154201  \n",
       "\n",
       "[5 rows x 40 columns]"
      ]
     },
     "execution_count": 4,
     "metadata": {},
     "output_type": "execute_result"
    }
   ],
   "source": [
    "df.head()"
   ]
  },
  {
   "cell_type": "code",
   "execution_count": 16,
   "metadata": {},
   "outputs": [],
   "source": [
    "pi_1 = Momentum4(df['pi_E_1'], df['pi_px_1'], df['pi_py_1'], df['pi_pz_1'])\n",
    "pi_2 = Momentum4(df['pi_E_2'], df['pi_px_2'], df['pi_py_2'], df['pi_pz_2'])\n",
    "pi0_1 = Momentum4(df['pi0_E_1'], df['pi0_px_1'], df['pi0_py_1'], df['pi0_pz_1'])\n",
    "pi0_2 = Momentum4(df['pi0_E_2'], df['pi0_px_2'], df['pi0_py_2'], df['pi0_pz_2'])"
   ]
  },
  {
   "cell_type": "code",
   "execution_count": 136,
   "metadata": {},
   "outputs": [],
   "source": [
    "p1 = pi_1\n",
    "p2 = pi_2\n",
    "p3 = pi0_1\n",
    "p4 = pi0_2\n",
    "rest_frame = pi_1+pi_2+pi0_1+pi0_2\n",
    "boost = Momentum4(rest_frame[0], -rest_frame[1], -rest_frame[2], -rest_frame[3])\n",
    "p1 = p1.boost_particle(boost)\n",
    "p2 = p2.boost_particle(boost)\n",
    "p3 = p3.boost_particle(boost)\n",
    "p4 = p4.boost_particle(boost)\n",
    "\n",
    "# Some geometrical functions\n",
    "def cross_product(vector3_1, vector3_2):\n",
    "    return np.cross(vector3_1.T, vector3_2.T).T\n",
    "\n",
    "def dot_product(vector1, vector2):\n",
    "    return np.einsum('ij, ij->i', vector1.T, vector2.T)\n",
    "\n",
    "def norm(vector):\n",
    "    return np.sqrt((vector.T ** 2).sum(-1))[..., np.newaxis].T\n",
    "\n",
    "# calculating the perpependicular component\n",
    "pi0_1_3Mom_star_perp = cross_product(p1[1:], p3[1:])\n",
    "pi0_2_3Mom_star_perp = cross_product(p2[1:], p4[1:])\n",
    "# Now normalise:\n",
    "pi0_1_3Mom_star_perp = pi0_1_3Mom_star_perp/norm(pi0_1_3Mom_star_perp)\n",
    "pi0_2_3Mom_star_perp = pi0_2_3Mom_star_perp/norm(pi0_2_3Mom_star_perp)\n",
    "# Calculating phi_star\n",
    "phi_CP = np.arccos(dot_product(pi0_1_3Mom_star_perp, pi0_2_3Mom_star_perp))"
   ]
  },
  {
   "cell_type": "code",
   "execution_count": 109,
   "metadata": {},
   "outputs": [
    {
     "data": {
      "text/plain": [
       "array([0.48437372, 1.59424942, 0.60866791, ..., 1.28933097, 2.63131196,\n",
       "       1.21207559])"
      ]
     },
     "execution_count": 109,
     "metadata": {},
     "output_type": "execute_result"
    }
   ],
   "source": [
    "phi_CP"
   ]
  },
  {
   "cell_type": "code",
   "execution_count": 121,
   "metadata": {},
   "outputs": [],
   "source": [
    "p1 = pi_1\n",
    "p2 = pi_2\n",
    "p3 = pi0_1\n",
    "p4 = pi0_2\n",
    "rest_frame = pi_1+pi_2+pi0_1+pi0_2\n",
    "\n",
    "boost = Momentum4(rest_frame[0], -rest_frame[1], -rest_frame[2], -rest_frame[3])\n",
    "p1_boosted = p1.boost_particle(boost)\n",
    "p2_boosted = p2.boost_particle(boost)\n",
    "p3_boosted = p3.boost_particle(boost)\n",
    "p4_boosted = p4.boost_particle(boost)\n",
    "p1_b_p = np.c_[p1_boosted.p_x, p1_boosted.p_y, p1_boosted.p_z]\n",
    "p2_b_p = np.c_[p2_boosted.p_x, p2_boosted.p_y, p2_boosted.p_z]\n",
    "p3_b_p = np.c_[p3_boosted.p_x, p3_boosted.p_y, p3_boosted.p_z]\n",
    "p4_b_p = np.c_[p4_boosted.p_x, p4_boosted.p_y, p4_boosted.p_z]\n",
    "n1 = p1_b_p - np.multiply(np.einsum('ij, ij->i', p1_b_p, normaliseVector(p3_b_p))[:, None], normaliseVector(p3_b_p))\n",
    "n2 = p2_b_p - np.multiply(np.einsum('ij, ij->i', p2_b_p, normaliseVector(p4_b_p))[:, None], normaliseVector(p4_b_p))\n",
    "n1 = normaliseVector(n1)\n",
    "n2 = normaliseVector(n2)\n",
    "# vectorised form of\n",
    "# n1 = p1.Vect() - p1.Vect().Dot(p3.Vect().Unit())*p3.Vect().Unit();\n",
    "# n2 = p2.Vect() - p2.Vect().Dot(p4.Vect().Unit())*p4.Vect().Unit();\n",
    "aco_angle = np.arccos(np.einsum('ij, ij->i', n1, n2))\n",
    "\n",
    "def normaliseVector(vec):\n",
    "    \"\"\"\n",
    "\n",
    "    Normalises an array of vectors\n",
    "    \"\"\"\n",
    "    return vec/np.sqrt((vec ** 2).sum(-1))[..., np.newaxis]\n",
    "\n",
    "def dotRowOfVectors(vec1, vec2):\n",
    "    return np.einsum('ij, ij->i', vec1, vec2)"
   ]
  },
  {
   "cell_type": "code",
   "execution_count": 120,
   "metadata": {},
   "outputs": [
    {
     "data": {
      "text/plain": [
       "array([3.61897216, 4.6924002 , 3.72700124, ..., 4.40393606, 5.72403402,\n",
       "       4.32747216])"
      ]
     },
     "execution_count": 120,
     "metadata": {},
     "output_type": "execute_result"
    }
   ],
   "source": [
    "np.array(aco_angle)"
   ]
  },
  {
   "cell_type": "code",
   "execution_count": 115,
   "metadata": {},
   "outputs": [
    {
     "data": {
      "text/plain": [
       "array([38.78627605, 17.15501438,  8.51852755, ..., 48.04197876,\n",
       "        1.96696487, 14.98627838])"
      ]
     },
     "execution_count": 115,
     "metadata": {},
     "output_type": "execute_result"
    }
   ],
   "source": [
    "np.einsum('ij, ij->i', p1_b_p, normaliseVector(p3_b_p))"
   ]
  },
  {
   "cell_type": "code",
   "execution_count": 52,
   "metadata": {},
   "outputs": [
    {
     "data": {
      "text/plain": [
       "array([[ 8.55104912],\n",
       "       [29.05548573],\n",
       "       [37.54481643],\n",
       "       ...,\n",
       "       [ 2.68961678],\n",
       "       [33.24603664],\n",
       "       [13.17196788]])"
      ]
     },
     "execution_count": 52,
     "metadata": {},
     "output_type": "execute_result"
    }
   ],
   "source": [
    "np.einsum('ij, ij->i', p1_b_p, normaliseVector(p3_b_p))[:, None]"
   ]
  },
  {
   "cell_type": "code",
   "execution_count": 128,
   "metadata": {},
   "outputs": [],
   "source": [
    "pi_1_boosted = p1_boosted\n",
    "pi_2_boosted = p2_boosted\n",
    "pi0_1_boosted = p3_boosted\n",
    "pi0_2_boosted = p4_boosted\n",
    "y_1 = (pi_1_boosted.e - pi0_1_boosted.e)/(pi_1_boosted.e + pi0_1_boosted.e)\n",
    "y_2 = (pi_2_boosted.e - pi0_2_boosted.e)/(pi_2_boosted.e + pi0_2_boosted.e)"
   ]
  },
  {
   "cell_type": "code",
   "execution_count": 133,
   "metadata": {},
   "outputs": [
    {
     "data": {
      "image/png": "[encoded data removed]",
      "text/plain": [
       "<Figure size 432x288 with 1 Axes>"
      ]
     },
     "metadata": {
      "needs_background": "light"
     },
     "output_type": "display_data"
    }
   ],
   "source": [
    "plt.hist(phi_CP[y_1*y_2<0],alpha=0.5)\n",
    "plt.hist(phi_CP[y_1*y_2>0],alpha=0.5)\n",
    "plt.show()"
   ]
  },
  {
   "cell_type": "markdown",
   "metadata": {},
   "source": [
    "## testing rotations"
   ]
  },
  {
   "cell_type": "code",
   "execution_count": 5,
   "metadata": {},
   "outputs": [],
   "source": [
    "pi_1 = Momentum4(df['pi_E_1'], df[\"pi_px_1\"], df[\"pi_py_1\"], df[\"pi_pz_1\"])\n",
    "pi_2 = Momentum4(df['pi_E_2'], df[\"pi_px_2\"], df[\"pi_py_2\"], df[\"pi_pz_2\"])\n",
    "pi0_1 = Momentum4(df['pi0_E_1'], df[\"pi0_px_1\"], df[\"pi0_py_1\"], df[\"pi0_pz_1\"])\n",
    "pi0_2 = Momentum4(df['pi0_E_2'], df[\"pi0_px_2\"], df[\"pi0_py_2\"], df[\"pi0_pz_2\"])\n",
    "rho_1 = pi_1 + pi0_1\n",
    "rho_2 = pi_2 + pi0_2\n",
    "# boost into rest frame of resonances\n",
    "rest_frame = pi_1 + pi_2 + pi0_1 + pi0_2\n",
    "boost = Momentum4(rest_frame[0], -rest_frame[1], -rest_frame[2], -rest_frame[3])\n",
    "pi_1_boosted = pi_1.boost_particle(boost)\n",
    "pi_2_boosted = pi_2.boost_particle(boost)\n",
    "pi0_1_boosted = pi0_1.boost_particle(boost)\n",
    "pi0_2_boosted = pi0_2.boost_particle(boost)\n",
    "rho_1_boosted = pi_1_boosted + pi0_1_boosted\n",
    "rho_2_boosted = pi_2_boosted + pi0_2_boosted"
   ]
  },
  {
   "cell_type": "code",
   "execution_count": 6,
   "metadata": {},
   "outputs": [
    {
     "data": {
      "text/plain": [
       "array([47.42022064, 46.25090776, 46.09697802, ..., 50.77851103,\n",
       "       35.21913271, 28.18586738])"
      ]
     },
     "execution_count": 6,
     "metadata": {},
     "output_type": "execute_result"
    }
   ],
   "source": [
    "rho_1_boosted.p"
   ]
  },
  {
   "cell_type": "code",
   "execution_count": 7,
   "metadata": {},
   "outputs": [],
   "source": [
    "vec1 = rho_1_boosted[1:].T\n",
    "vec2 = np.tile(np.array([0, 0, 1]), (len(vec1),1))"
   ]
  },
  {
   "cell_type": "code",
   "execution_count": 27,
   "metadata": {},
   "outputs": [
    {
     "data": {
      "text/plain": [
       "((998268, 3), (998268, 3))"
      ]
     },
     "execution_count": 27,
     "metadata": {},
     "output_type": "execute_result"
    }
   ],
   "source": [
    "vec1.shape, vec2.shape"
   ]
  },
  {
   "cell_type": "code",
   "execution_count": 42,
   "metadata": {},
   "outputs": [
    {
     "data": {
      "text/plain": [
       "998268"
      ]
     },
     "execution_count": 42,
     "metadata": {},
     "output_type": "execute_result"
    }
   ],
   "source": [
    "rho_1_boosted.e.shape[0]"
   ]
  },
  {
   "cell_type": "code",
   "execution_count": 32,
   "metadata": {},
   "outputs": [
    {
     "data": {
      "text/plain": [
       "array([[-13.6526224 , -43.56032036, -12.83673312],\n",
       "       [-39.68447265,  20.78640418,  11.49845642],\n",
       "       [ 45.14267381,   8.90718296,   2.78073299],\n",
       "       ...,\n",
       "       [-26.2174774 , -21.11066856,  38.0189523 ],\n",
       "       [ -2.74607258, -33.03286019, -11.90279554],\n",
       "       [ 18.45834459, -14.95493103, -15.16847629]])"
      ]
     },
     "execution_count": 32,
     "metadata": {},
     "output_type": "execute_result"
    }
   ],
   "source": [
    "vec1"
   ]
  },
  {
   "cell_type": "code",
   "execution_count": 31,
   "metadata": {},
   "outputs": [
    {
     "data": {
      "text/plain": [
       "array([47.42022064, 46.25090776, 46.09697802, ..., 50.77851103,\n",
       "       35.21913271, 28.18586738])"
      ]
     },
     "execution_count": 31,
     "metadata": {},
     "output_type": "execute_result"
    }
   ],
   "source": [
    "np.linalg.norm(vec1, axis=1)"
   ]
  },
  {
   "cell_type": "code",
   "execution_count": 41,
   "metadata": {},
   "outputs": [
    {
     "data": {
      "text/plain": [
       "array([[-0.28790719, -0.91860223, -0.27070167],\n",
       "       [-0.85802581,  0.44942695,  0.24861039],\n",
       "       [ 0.9792979 ,  0.19322705,  0.06032354],\n",
       "       ...,\n",
       "       [-0.51631048, -0.4157402 ,  0.74872129],\n",
       "       [-0.07797105, -0.93792373, -0.3379639 ],\n",
       "       [ 0.65487942, -0.53058261, -0.53815893]])"
      ]
     },
     "execution_count": 41,
     "metadata": {},
     "output_type": "execute_result"
    }
   ],
   "source": [
    "vec1 / np.linalg.norm(vec1, axis=1)[:,None]"
   ]
  },
  {
   "cell_type": "code",
   "execution_count": 8,
   "metadata": {},
   "outputs": [],
   "source": [
    "def rotation_matrix_from_vectors(vec1, vec2):\n",
    "    \"\"\" Find the rotation matrix that aligns vec1 to vec2\n",
    "    :param vec1: A 3d \"source\" vector\n",
    "    :param vec2: A 3d \"destination\" vector\n",
    "    :return mat: A transform matrix (3x3) which when applied to vec1, aligns it with vec2.\n",
    "    \"\"\"\n",
    "    a, b = (vec1 / np.linalg.norm(vec1)).reshape(3), (vec2 / np.linalg.norm(vec2)).reshape(3)\n",
    "    v = np.cross(a, b)\n",
    "    c = np.dot(a, b)\n",
    "    s = np.linalg.norm(v)\n",
    "    kmat = np.array([[0, -v[2], v[1]], [v[2], 0, -v[0]], [-v[1], v[0], 0]])\n",
    "    rotation_matrix = np.eye(3) + kmat + kmat.dot(kmat) * ((1 - c) / (s ** 2))\n",
    "#     return np.eye(3), kmat, kmat.dot(kmat) * ((1 - c) / (s ** 2))\n",
    "    return rotation_matrix\n",
    "\n",
    "def rotation_matrix_from_vectors_v(vec1, vec2):\n",
    "    \"\"\" Find the rotation matrix that aligns vec1 to vec2\n",
    "    :param vec1: A 3d \"source\" vector\n",
    "    :param vec2: A 3d \"destination\" vector\n",
    "    :return mat: A transform matrix (3x3) which when applied to vec1, aligns it with vec2.\n",
    "    \"\"\"\n",
    "    a, b = vec1 / np.linalg.norm(vec1, axis=1)[:,None], vec2 / np.linalg.norm(vec2, axis=1)[:,None]\n",
    "    v = np.cross(a, b)\n",
    "    c = np.einsum('ij, ij->i', a, b)\n",
    "    s = np.linalg.norm(v, axis=1)\n",
    "    kmat = np.array([[-np.zeros(len(vec1)), v.T[2], -v.T[1]], [-v.T[2], -np.zeros(len(vec1)), v.T[0]], [v.T[1], -v.T[0], -np.zeros(len(vec1))]]).T\n",
    "#     return ((1 - c) / (s ** 2))\n",
    "#     return \n",
    "    rotation_matrix = np.tile(np.eye(3), (len(vec1),1,1)) + kmat + np.linalg.matrix_power(kmat, 2)*((1 - c) / (s ** 2))[:,None][:,np.newaxis]\n",
    "#     return np.tile(np.eye(3), (len(vec1),1,1)), kmat, np.linalg.matrix_power(kmat, 2)*((1 - c) / (s ** 2))[:,None][:,np.newaxis]\n",
    "    return rotation_matrix"
   ]
  },
  {
   "cell_type": "code",
   "execution_count": 171,
   "metadata": {},
   "outputs": [
    {
     "ename": "KeyboardInterrupt",
     "evalue": "",
     "output_type": "error",
     "traceback": [
      "\u001b[1;31m---------------------------------------------------------------------------\u001b[0m",
      "\u001b[1;31mKeyboardInterrupt\u001b[0m                         Traceback (most recent call last)",
      "\u001b[1;32m<ipython-input-171-6c020e524d6f>\u001b[0m in \u001b[0;36m<module>\u001b[1;34m\u001b[0m\n\u001b[0;32m      1\u001b[0m \u001b[0mb\u001b[0m \u001b[1;33m=\u001b[0m \u001b[0mrotation_matrix_from_vectors_v\u001b[0m\u001b[1;33m(\u001b[0m\u001b[0mvec1\u001b[0m\u001b[1;33m,\u001b[0m \u001b[0mvec2\u001b[0m\u001b[1;33m)\u001b[0m\u001b[1;33m\u001b[0m\u001b[1;33m\u001b[0m\u001b[0m\n\u001b[0;32m      2\u001b[0m \u001b[1;32mfor\u001b[0m \u001b[0mi\u001b[0m \u001b[1;32min\u001b[0m \u001b[0mrange\u001b[0m\u001b[1;33m(\u001b[0m\u001b[0mlen\u001b[0m\u001b[1;33m(\u001b[0m\u001b[0mvec1\u001b[0m\u001b[1;33m)\u001b[0m\u001b[1;33m)\u001b[0m\u001b[1;33m:\u001b[0m\u001b[1;33m\u001b[0m\u001b[1;33m\u001b[0m\u001b[0m\n\u001b[1;32m----> 3\u001b[1;33m     \u001b[0ma\u001b[0m \u001b[1;33m=\u001b[0m \u001b[0mrotation_matrix_from_vectors\u001b[0m\u001b[1;33m(\u001b[0m\u001b[0mvec1\u001b[0m\u001b[1;33m[\u001b[0m\u001b[0mi\u001b[0m\u001b[1;33m]\u001b[0m\u001b[1;33m,\u001b[0m \u001b[0mvec2\u001b[0m\u001b[1;33m[\u001b[0m\u001b[0mi\u001b[0m\u001b[1;33m]\u001b[0m\u001b[1;33m)\u001b[0m\u001b[1;33m\u001b[0m\u001b[1;33m\u001b[0m\u001b[0m\n\u001b[0m\u001b[0;32m      4\u001b[0m     \u001b[0mj\u001b[0m\u001b[1;33m=\u001b[0m\u001b[1;36m1\u001b[0m\u001b[1;33m\u001b[0m\u001b[1;33m\u001b[0m\u001b[0m\n\u001b[0;32m      5\u001b[0m \u001b[1;31m#     print(a[j])\u001b[0m\u001b[1;33m\u001b[0m\u001b[1;33m\u001b[0m\u001b[1;33m\u001b[0m\u001b[0m\n",
      "\u001b[1;32m<ipython-input-165-f017ce8194ee>\u001b[0m in \u001b[0;36mrotation_matrix_from_vectors\u001b[1;34m(vec1, vec2)\u001b[0m\n\u001b[0;32m     10\u001b[0m     \u001b[0ms\u001b[0m \u001b[1;33m=\u001b[0m \u001b[0mnp\u001b[0m\u001b[1;33m.\u001b[0m\u001b[0mlinalg\u001b[0m\u001b[1;33m.\u001b[0m\u001b[0mnorm\u001b[0m\u001b[1;33m(\u001b[0m\u001b[0mv\u001b[0m\u001b[1;33m)\u001b[0m\u001b[1;33m\u001b[0m\u001b[1;33m\u001b[0m\u001b[0m\n\u001b[0;32m     11\u001b[0m     \u001b[0mkmat\u001b[0m \u001b[1;33m=\u001b[0m \u001b[0mnp\u001b[0m\u001b[1;33m.\u001b[0m\u001b[0marray\u001b[0m\u001b[1;33m(\u001b[0m\u001b[1;33m[\u001b[0m\u001b[1;33m[\u001b[0m\u001b[1;36m0\u001b[0m\u001b[1;33m,\u001b[0m \u001b[1;33m-\u001b[0m\u001b[0mv\u001b[0m\u001b[1;33m[\u001b[0m\u001b[1;36m2\u001b[0m\u001b[1;33m]\u001b[0m\u001b[1;33m,\u001b[0m \u001b[0mv\u001b[0m\u001b[1;33m[\u001b[0m\u001b[1;36m1\u001b[0m\u001b[1;33m]\u001b[0m\u001b[1;33m]\u001b[0m\u001b[1;33m,\u001b[0m \u001b[1;33m[\u001b[0m\u001b[0mv\u001b[0m\u001b[1;33m[\u001b[0m\u001b[1;36m2\u001b[0m\u001b[1;33m]\u001b[0m\u001b[1;33m,\u001b[0m \u001b[1;36m0\u001b[0m\u001b[1;33m,\u001b[0m \u001b[1;33m-\u001b[0m\u001b[0mv\u001b[0m\u001b[1;33m[\u001b[0m\u001b[1;36m0\u001b[0m\u001b[1;33m]\u001b[0m\u001b[1;33m]\u001b[0m\u001b[1;33m,\u001b[0m \u001b[1;33m[\u001b[0m\u001b[1;33m-\u001b[0m\u001b[0mv\u001b[0m\u001b[1;33m[\u001b[0m\u001b[1;36m1\u001b[0m\u001b[1;33m]\u001b[0m\u001b[1;33m,\u001b[0m \u001b[0mv\u001b[0m\u001b[1;33m[\u001b[0m\u001b[1;36m0\u001b[0m\u001b[1;33m]\u001b[0m\u001b[1;33m,\u001b[0m \u001b[1;36m0\u001b[0m\u001b[1;33m]\u001b[0m\u001b[1;33m]\u001b[0m\u001b[1;33m)\u001b[0m\u001b[1;33m\u001b[0m\u001b[1;33m\u001b[0m\u001b[0m\n\u001b[1;32m---> 12\u001b[1;33m     \u001b[0mrotation_matrix\u001b[0m \u001b[1;33m=\u001b[0m \u001b[0mnp\u001b[0m\u001b[1;33m.\u001b[0m\u001b[0meye\u001b[0m\u001b[1;33m(\u001b[0m\u001b[1;36m3\u001b[0m\u001b[1;33m)\u001b[0m \u001b[1;33m+\u001b[0m \u001b[0mkmat\u001b[0m \u001b[1;33m+\u001b[0m \u001b[0mkmat\u001b[0m\u001b[1;33m.\u001b[0m\u001b[0mdot\u001b[0m\u001b[1;33m(\u001b[0m\u001b[0mkmat\u001b[0m\u001b[1;33m)\u001b[0m \u001b[1;33m*\u001b[0m \u001b[1;33m(\u001b[0m\u001b[1;33m(\u001b[0m\u001b[1;36m1\u001b[0m \u001b[1;33m-\u001b[0m \u001b[0mc\u001b[0m\u001b[1;33m)\u001b[0m \u001b[1;33m/\u001b[0m \u001b[1;33m(\u001b[0m\u001b[0ms\u001b[0m \u001b[1;33m**\u001b[0m \u001b[1;36m2\u001b[0m\u001b[1;33m)\u001b[0m\u001b[1;33m)\u001b[0m\u001b[1;33m\u001b[0m\u001b[1;33m\u001b[0m\u001b[0m\n\u001b[0m\u001b[0;32m     13\u001b[0m     \u001b[1;32mreturn\u001b[0m \u001b[0mnp\u001b[0m\u001b[1;33m.\u001b[0m\u001b[0meye\u001b[0m\u001b[1;33m(\u001b[0m\u001b[1;36m3\u001b[0m\u001b[1;33m)\u001b[0m\u001b[1;33m,\u001b[0m \u001b[0mkmat\u001b[0m\u001b[1;33m,\u001b[0m \u001b[0mkmat\u001b[0m\u001b[1;33m.\u001b[0m\u001b[0mdot\u001b[0m\u001b[1;33m(\u001b[0m\u001b[0mkmat\u001b[0m\u001b[1;33m)\u001b[0m \u001b[1;33m*\u001b[0m \u001b[1;33m(\u001b[0m\u001b[1;33m(\u001b[0m\u001b[1;36m1\u001b[0m \u001b[1;33m-\u001b[0m \u001b[0mc\u001b[0m\u001b[1;33m)\u001b[0m \u001b[1;33m/\u001b[0m \u001b[1;33m(\u001b[0m\u001b[0ms\u001b[0m \u001b[1;33m**\u001b[0m \u001b[1;36m2\u001b[0m\u001b[1;33m)\u001b[0m\u001b[1;33m)\u001b[0m\u001b[1;33m\u001b[0m\u001b[1;33m\u001b[0m\u001b[0m\n\u001b[0;32m     14\u001b[0m \u001b[1;33m\u001b[0m\u001b[0m\n",
      "\u001b[1;31mKeyboardInterrupt\u001b[0m: "
     ]
    }
   ],
   "source": [
    "b = rotation_matrix_from_vectors_v(vec1, vec2)\n",
    "for i in range(len(vec1)):\n",
    "    a = rotation_matrix_from_vectors(vec1[i], vec2[i])\n",
    "    j=1\n",
    "#     print(a[j])\n",
    "#     print(b[j][i])\n",
    "    if not np.all(a[j]==b[j][i]):\n",
    "        print('bad')\n",
    "#     print('\\n')"
   ]
  },
  {
   "cell_type": "code",
   "execution_count": 181,
   "metadata": {},
   "outputs": [
    {
     "name": "stdout",
     "output_type": "stream",
     "text": [
      "getting 0\n",
      "getting 100000\n",
      "getting 200000\n",
      "getting 300000\n",
      "getting 400000\n",
      "getting 500000\n",
      "getting 600000\n",
      "getting 700000\n",
      "getting 800000\n",
      "getting 900000\n"
     ]
    }
   ],
   "source": [
    "b = rotation_matrix_from_vectors_v(vec1, vec2)\n",
    "for i in range(len(vec1)):\n",
    "    a = rotation_matrix_from_vectors(vec1[i], vec2[i])\n",
    "    j=1\n",
    "#     print(a[j])\n",
    "#     print(b[j][i])\n",
    "    if not np.allclose(a,b[i]):\n",
    "        print(a)\n",
    "        print(b[i])\n",
    "        print(np.allclose(a,b[i]))\n",
    "        print('\\n')\n",
    "    if i%100000 == 0:\n",
    "        print(f'getting {i}')\n",
    "#     print('\\n')"
   ]
  },
  {
   "cell_type": "code",
   "execution_count": 25,
   "metadata": {},
   "outputs": [],
   "source": [
    "b = rotation_matrix_from_vectors_v(vec1, vec2)"
   ]
  },
  {
   "cell_type": "code",
   "execution_count": 144,
   "metadata": {},
   "outputs": [
    {
     "data": {
      "text/plain": [
       "array([[-0.15393397, -0.35627976,  0.92161221],\n",
       "       [-0.35627976,  0.88999781,  0.28454989],\n",
       "       [-0.92161221, -0.28454989, -0.26393616]])"
      ]
     },
     "execution_count": 144,
     "metadata": {},
     "output_type": "execute_result"
    }
   ],
   "source": [
    "a"
   ]
  },
  {
   "cell_type": "code",
   "execution_count": 145,
   "metadata": {},
   "outputs": [
    {
     "data": {
      "text/plain": [
       "array([[ 0.88634205, -0.36263923, -0.28790719],\n",
       "       [-0.36263923, -0.15704373, -0.91860223],\n",
       "       [ 0.28790719,  0.91860223, -0.27070167]])"
      ]
     },
     "execution_count": 145,
     "metadata": {},
     "output_type": "execute_result"
    }
   ],
   "source": [
    "b[0]"
   ]
  },
  {
   "cell_type": "code",
   "execution_count": 182,
   "metadata": {
    "collapsed": true,
    "jupyter": {
     "outputs_hidden": true
    }
   },
   "outputs": [
    {
     "data": {
      "text/plain": [
       "array([[[ 0.88634205, -0.36263923,  0.28790719],\n",
       "        [-0.36263923, -0.15704373,  0.91860223],\n",
       "        [-0.28790719, -0.91860223, -0.27070167]],\n",
       "\n",
       "       [[ 0.41037789,  0.30883927,  0.85802581],\n",
       "        [ 0.30883927,  0.8382325 , -0.44942695],\n",
       "        [-0.85802581,  0.44942695,  0.24861039]],\n",
       "\n",
       "       [[ 0.09553609, -0.17846142, -0.9792979 ],\n",
       "        [-0.17846142,  0.96478745, -0.19322705],\n",
       "        [ 0.9792979 ,  0.19322705,  0.06032354]],\n",
       "\n",
       "       ...,\n",
       "\n",
       "       [[ 0.84755918, -0.12274742,  0.51631048],\n",
       "        [-0.12274742,  0.90116211,  0.4157402 ],\n",
       "        [-0.51631048, -0.4157402 ,  0.74872129]],\n",
       "\n",
       "       [[ 0.99081699, -0.1104636 ,  0.07797105],\n",
       "        [-0.1104636 , -0.32878089,  0.93792373],\n",
       "        [-0.07797105, -0.93792373, -0.3379639 ]],\n",
       "\n",
       "       [[ 0.07139687,  0.75235326, -0.65487942],\n",
       "        [ 0.75235326,  0.39044419,  0.53058261],\n",
       "        [ 0.65487942, -0.53058261, -0.53815893]]])"
      ]
     },
     "execution_count": 182,
     "metadata": {},
     "output_type": "execute_result"
    }
   ],
   "source": [
    "b"
   ]
  },
  {
   "cell_type": "code",
   "execution_count": 190,
   "metadata": {},
   "outputs": [
    {
     "data": {
      "text/plain": [
       "array([[[ 0.88634205, -0.36263923,  0.28790719],\n",
       "        [-0.36263923, -0.15704373,  0.91860223],\n",
       "        [-0.28790719, -0.91860223, -0.27070167]],\n",
       "\n",
       "       [[ 0.41037789,  0.30883927,  0.85802581],\n",
       "        [ 0.30883927,  0.8382325 , -0.44942695],\n",
       "        [-0.85802581,  0.44942695,  0.24861039]],\n",
       "\n",
       "       [[ 0.09553609, -0.17846142, -0.9792979 ],\n",
       "        [-0.17846142,  0.96478745, -0.19322705],\n",
       "        [ 0.9792979 ,  0.19322705,  0.06032354]],\n",
       "\n",
       "       ...,\n",
       "\n",
       "       [[ 0.84755918, -0.12274742,  0.51631048],\n",
       "        [-0.12274742,  0.90116211,  0.4157402 ],\n",
       "        [-0.51631048, -0.4157402 ,  0.74872129]],\n",
       "\n",
       "       [[ 0.99081699, -0.1104636 ,  0.07797105],\n",
       "        [-0.1104636 , -0.32878089,  0.93792373],\n",
       "        [-0.07797105, -0.93792373, -0.3379639 ]],\n",
       "\n",
       "       [[ 0.07139687,  0.75235326, -0.65487942],\n",
       "        [ 0.75235326,  0.39044419,  0.53058261],\n",
       "        [ 0.65487942, -0.53058261, -0.53815893]]])"
      ]
     },
     "execution_count": 190,
     "metadata": {},
     "output_type": "execute_result"
    }
   ],
   "source": [
    "b"
   ]
  },
  {
   "cell_type": "code",
   "execution_count": 30,
   "metadata": {},
   "outputs": [],
   "source": [
    "pi_1_boosted_rot_2 = np.einsum('ij,ikj->ik',pi_1_boosted[1:].T,b)"
   ]
  },
  {
   "cell_type": "code",
   "execution_count": 44,
   "metadata": {},
   "outputs": [
    {
     "name": "stdout",
     "output_type": "stream",
     "text": [
      "finished getting rotated 4-vector 0\n",
      "finished getting rotated 4-vector 100000\n",
      "finished getting rotated 4-vector 200000\n",
      "finished getting rotated 4-vector 300000\n",
      "finished getting rotated 4-vector 400000\n",
      "finished getting rotated 4-vector 500000\n",
      "finished getting rotated 4-vector 600000\n",
      "finished getting rotated 4-vector 700000\n",
      "finished getting rotated 4-vector 800000\n",
      "finished getting rotated 4-vector 900000\n"
     ]
    }
   ],
   "source": [
    "pi_1_boosted_rot, pi_2_boosted_rot = [], []\n",
    "pi0_1_boosted_rot, pi0_2_boosted_rot = [], []\n",
    "rho_1_boosted_rot, rho_2_boosted_rot = [], []\n",
    "for i in range(pi_1_boosted[:].shape[1]):\n",
    "    rot_mat = rotation_matrix_from_vectors(rho_1_boosted[1:, i], [0, 0, 1])\n",
    "    pi_1_boosted_rot.append(rot_mat.dot(pi_1_boosted[1:, i]))\n",
    "    pi0_1_boosted_rot.append(rot_mat.dot(pi0_1_boosted[1:, i]))\n",
    "    pi_2_boosted_rot.append(rot_mat.dot(pi_2_boosted[1:, i]))\n",
    "    pi0_2_boosted_rot.append(rot_mat.dot(pi0_2_boosted[1:, i]))\n",
    "    rho_1_boosted_rot.append(rot_mat.dot(rho_1_boosted[1:, i]))\n",
    "    rho_2_boosted_rot.append(rot_mat.dot(rho_2_boosted[1:, i]))\n",
    "    if i % 100000 == 0:\n",
    "        print('finished getting rotated 4-vector', i)"
   ]
  },
  {
   "cell_type": "code",
   "execution_count": 47,
   "metadata": {},
   "outputs": [
    {
     "data": {
      "text/plain": [
       "(array([-4.88498131e-15, -1.77635684e-14,  4.74202206e+01]),\n",
       " array([-5.77315973e-15, -1.59872116e-14,  4.74202206e+01]))"
      ]
     },
     "execution_count": 47,
     "metadata": {},
     "output_type": "execute_result"
    }
   ],
   "source": [
    "rho_1_boosted_rot[0], pi_1_boosted_rot[0] + pi0_1_boosted_rot[0]"
   ]
  },
  {
   "cell_type": "code",
   "execution_count": 36,
   "metadata": {},
   "outputs": [
    {
     "name": "stdout",
     "output_type": "stream",
     "text": [
      "[ True  True  True]\n",
      "[ True  True  True]\n",
      "[ True  True  True]\n",
      "[ True  True  True]\n",
      "[ True  True  True]\n",
      "[ True  True  True]\n",
      "[ True  True  True]\n",
      "[ True  True  True]\n",
      "[ True  True  True]\n",
      "[ True  True  True]\n",
      "[ True  True  True]\n",
      "[ True  True  True]\n",
      "[ True  True  True]\n",
      "[ True  True  True]\n",
      "[ True  True  True]\n",
      "[ True  True  True]\n",
      "[ True  True  True]\n",
      "[ True  True  True]\n",
      "[ True  True  True]\n",
      "[ True  True  True]\n",
      "[ True  True  True]\n",
      "[ True  True  True]\n",
      "[ True  True  True]\n",
      "[ True  True  True]\n",
      "[ True  True  True]\n",
      "[ True  True  True]\n",
      "[ True  True  True]\n",
      "[ True  True  True]\n",
      "[ True  True  True]\n",
      "[ True  True  True]\n",
      "[ True  True  True]\n",
      "[ True  True  True]\n",
      "[ True  True  True]\n",
      "[ True  True  True]\n",
      "[ True  True  True]\n",
      "[ True  True  True]\n",
      "[ True  True  True]\n",
      "[ True  True  True]\n",
      "[ True  True  True]\n",
      "[ True  True  True]\n",
      "[ True  True  True]\n",
      "[ True  True  True]\n",
      "[ True  True  True]\n",
      "[ True  True  True]\n",
      "[ True  True  True]\n",
      "[ True  True  True]\n",
      "[ True  True  True]\n",
      "[ True  True  True]\n",
      "[ True  True  True]\n",
      "[ True  True  True]\n",
      "[ True  True  True]\n",
      "[ True  True  True]\n",
      "[ True  True  True]\n",
      "[ True  True  True]\n",
      "[ True  True  True]\n",
      "[ True  True  True]\n",
      "[ True  True  True]\n",
      "[ True  True  True]\n",
      "[ True  True  True]\n",
      "[ True  True  True]\n",
      "[ True  True  True]\n",
      "[ True  True  True]\n",
      "[ True  True  True]\n",
      "[ True  True  True]\n",
      "[ True  True  True]\n",
      "[ True  True  True]\n",
      "[ True  True  True]\n",
      "[ True  True  True]\n",
      "[ True  True  True]\n",
      "[ True  True  True]\n",
      "[ True  True  True]\n",
      "[ True  True  True]\n",
      "[ True  True  True]\n",
      "[ True  True  True]\n",
      "[ True  True  True]\n",
      "[ True  True  True]\n",
      "[ True  True  True]\n",
      "[ True  True  True]\n",
      "[ True  True  True]\n",
      "[ True  True  True]\n",
      "[ True  True  True]\n",
      "[ True  True  True]\n",
      "[ True  True  True]\n",
      "[ True  True  True]\n",
      "[ True  True  True]\n",
      "[ True  True  True]\n",
      "[ True  True  True]\n",
      "[ True  True  True]\n",
      "[ True  True  True]\n",
      "[ True  True  True]\n",
      "[ True  True  True]\n",
      "[ True  True  True]\n",
      "[ True  True  True]\n",
      "[ True  True  True]\n",
      "[ True  True  True]\n",
      "[ True  True  True]\n",
      "[ True  True  True]\n",
      "[ True  True  True]\n",
      "[ True  True  True]\n",
      "[ True  True  True]\n"
     ]
    }
   ],
   "source": [
    "for i in range(100):\n",
    "    print(pi_1_boosted_rot[i]==pi_1_boosted_rot_2[i])"
   ]
  }
 ],
 "metadata": {
  "kernelspec": {
   "display_name": "Python 3",
   "language": "python",
   "name": "python3"
  },
  "language_info": {
   "codemirror_mode": {
    "name": "ipython",
    "version": 3
   },
   "file_extension": ".py",
   "mimetype": "text/x-python",
   "name": "python",
   "nbconvert_exporter": "python",
   "pygments_lexer": "ipython3",
   "version": "3.8.5"
  }
 },
 "nbformat": 4,
 "nbformat_minor": 4
}
