{
 "cells": [
  {
   "cell_type": "code",
   "execution_count": 1,
   "metadata": {},
   "outputs": [],
   "source": [
    "import numpy as np\n",
    "import pandas as pd\n",
    "import uproot\n",
    "from pylorentz import Momentum4\n",
    "import matplotlib.pyplot as plt\n",
    "%matplotlib inline\n",
    "m_tau = 1.776"
   ]
  },
  {
   "cell_type": "code",
   "execution_count": 2,
   "metadata": {},
   "outputs": [],
   "source": [
    "df = pd.read_pickle('../shared/df_tt_rho_rho.pkl')"
   ]
  },
  {
   "cell_type": "code",
   "execution_count": 6,
   "metadata": {},
   "outputs": [],
   "source": [
    "df = df[(df['mva_dm_1'] == 1) & (df['mva_dm_2'] == 1) & (df[\"tau_decay_mode_1\"] == 1) & (df[\"tau_decay_mode_2\"] == 1)]"
   ]
  },
  {
   "cell_type": "code",
   "execution_count": 7,
   "metadata": {},
   "outputs": [
    {
     "data": {
      "text/html": [
       "<div>\n",
       "<style scoped>\n",
       "    .dataframe tbody tr th:only-of-type {\n",
       "        vertical-align: middle;\n",
       "    }\n",
       "\n",
       "    .dataframe tbody tr th {\n",
       "        vertical-align: top;\n",
       "    }\n",
       "\n",
       "    .dataframe thead th {\n",
       "        text-align: right;\n",
       "    }\n",
       "</style>\n",
       "<table border=\"1\" class=\"dataframe\">\n",
       "  <thead>\n",
       "    <tr style=\"text-align: right;\">\n",
       "      <th></th>\n",
       "      <th>wt_cp_sm</th>\n",
       "      <th>wt_cp_ps</th>\n",
       "      <th>wt_cp_mm</th>\n",
       "      <th>rand</th>\n",
       "      <th>aco_angle_1</th>\n",
       "      <th>mva_dm_1</th>\n",
       "      <th>mva_dm_2</th>\n",
       "      <th>tau_decay_mode_1</th>\n",
       "      <th>tau_decay_mode_2</th>\n",
       "      <th>pi_E_1</th>\n",
       "      <th>...</th>\n",
       "      <th>metcov00</th>\n",
       "      <th>metcov01</th>\n",
       "      <th>metcov10</th>\n",
       "      <th>metcov11</th>\n",
       "      <th>gen_nu_p_1</th>\n",
       "      <th>gen_nu_phi_1</th>\n",
       "      <th>gen_nu_eta_1</th>\n",
       "      <th>gen_nu_p_2</th>\n",
       "      <th>gen_nu_phi_2</th>\n",
       "      <th>gen_nu_eta_2</th>\n",
       "    </tr>\n",
       "    <tr>\n",
       "      <th>entry</th>\n",
       "      <th></th>\n",
       "      <th></th>\n",
       "      <th></th>\n",
       "      <th></th>\n",
       "      <th></th>\n",
       "      <th></th>\n",
       "      <th></th>\n",
       "      <th></th>\n",
       "      <th></th>\n",
       "      <th></th>\n",
       "      <th></th>\n",
       "      <th></th>\n",
       "      <th></th>\n",
       "      <th></th>\n",
       "      <th></th>\n",
       "      <th></th>\n",
       "      <th></th>\n",
       "      <th></th>\n",
       "      <th></th>\n",
       "      <th></th>\n",
       "      <th></th>\n",
       "    </tr>\n",
       "  </thead>\n",
       "  <tbody>\n",
       "    <tr>\n",
       "      <th>8</th>\n",
       "      <td>1.228852</td>\n",
       "      <td>0.950417</td>\n",
       "      <td>0.223672</td>\n",
       "      <td>0.861532</td>\n",
       "      <td>2.657029</td>\n",
       "      <td>1</td>\n",
       "      <td>1</td>\n",
       "      <td>1</td>\n",
       "      <td>1</td>\n",
       "      <td>45.423448</td>\n",
       "      <td>...</td>\n",
       "      <td>42.660179</td>\n",
       "      <td>48.254131</td>\n",
       "      <td>48.254131</td>\n",
       "      <td>127.915657</td>\n",
       "      <td>11.907320</td>\n",
       "      <td>-1.878383</td>\n",
       "      <td>-0.443223</td>\n",
       "      <td>12.628682</td>\n",
       "      <td>1.261835</td>\n",
       "      <td>0.048225</td>\n",
       "    </tr>\n",
       "    <tr>\n",
       "      <th>25</th>\n",
       "      <td>0.124674</td>\n",
       "      <td>1.936855</td>\n",
       "      <td>1.318387</td>\n",
       "      <td>0.932849</td>\n",
       "      <td>1.547246</td>\n",
       "      <td>1</td>\n",
       "      <td>1</td>\n",
       "      <td>1</td>\n",
       "      <td>1</td>\n",
       "      <td>24.506373</td>\n",
       "      <td>...</td>\n",
       "      <td>161.991516</td>\n",
       "      <td>2.567861</td>\n",
       "      <td>2.567861</td>\n",
       "      <td>105.209160</td>\n",
       "      <td>14.349887</td>\n",
       "      <td>2.519850</td>\n",
       "      <td>-0.934011</td>\n",
       "      <td>44.844142</td>\n",
       "      <td>-0.313698</td>\n",
       "      <td>-1.423014</td>\n",
       "    </tr>\n",
       "    <tr>\n",
       "      <th>27</th>\n",
       "      <td>1.461517</td>\n",
       "      <td>0.400455</td>\n",
       "      <td>0.172710</td>\n",
       "      <td>0.132842</td>\n",
       "      <td>3.750274</td>\n",
       "      <td>1</td>\n",
       "      <td>1</td>\n",
       "      <td>1</td>\n",
       "      <td>1</td>\n",
       "      <td>15.319610</td>\n",
       "      <td>...</td>\n",
       "      <td>80.564423</td>\n",
       "      <td>-29.174086</td>\n",
       "      <td>-29.174086</td>\n",
       "      <td>72.426666</td>\n",
       "      <td>35.673293</td>\n",
       "      <td>0.106444</td>\n",
       "      <td>1.180579</td>\n",
       "      <td>23.342057</td>\n",
       "      <td>-2.873663</td>\n",
       "      <td>1.126849</td>\n",
       "    </tr>\n",
       "    <tr>\n",
       "      <th>45</th>\n",
       "      <td>0.059870</td>\n",
       "      <td>0.061072</td>\n",
       "      <td>0.111744</td>\n",
       "      <td>0.514073</td>\n",
       "      <td>1.192612</td>\n",
       "      <td>1</td>\n",
       "      <td>1</td>\n",
       "      <td>1</td>\n",
       "      <td>1</td>\n",
       "      <td>94.211361</td>\n",
       "      <td>...</td>\n",
       "      <td>45.858810</td>\n",
       "      <td>-4.467490</td>\n",
       "      <td>-4.467490</td>\n",
       "      <td>212.978531</td>\n",
       "      <td>2.964097</td>\n",
       "      <td>-0.686183</td>\n",
       "      <td>-1.008616</td>\n",
       "      <td>0.729467</td>\n",
       "      <td>2.953007</td>\n",
       "      <td>-0.809572</td>\n",
       "    </tr>\n",
       "    <tr>\n",
       "      <th>50</th>\n",
       "      <td>0.654131</td>\n",
       "      <td>0.931771</td>\n",
       "      <td>0.072470</td>\n",
       "      <td>0.504356</td>\n",
       "      <td>3.264792</td>\n",
       "      <td>1</td>\n",
       "      <td>1</td>\n",
       "      <td>1</td>\n",
       "      <td>1</td>\n",
       "      <td>25.899289</td>\n",
       "      <td>...</td>\n",
       "      <td>84.956879</td>\n",
       "      <td>27.219664</td>\n",
       "      <td>27.219664</td>\n",
       "      <td>33.637897</td>\n",
       "      <td>8.663849</td>\n",
       "      <td>-2.653995</td>\n",
       "      <td>-0.131161</td>\n",
       "      <td>27.029359</td>\n",
       "      <td>0.369547</td>\n",
       "      <td>-0.154201</td>\n",
       "    </tr>\n",
       "  </tbody>\n",
       "</table>\n",
       "<p>5 rows × 40 columns</p>\n",
       "</div>"
      ],
      "text/plain": [
       "       wt_cp_sm  wt_cp_ps  wt_cp_mm      rand  aco_angle_1  mva_dm_1  \\\n",
       "entry                                                                  \n",
       "8      1.228852  0.950417  0.223672  0.861532     2.657029         1   \n",
       "25     0.124674  1.936855  1.318387  0.932849     1.547246         1   \n",
       "27     1.461517  0.400455  0.172710  0.132842     3.750274         1   \n",
       "45     0.059870  0.061072  0.111744  0.514073     1.192612         1   \n",
       "50     0.654131  0.931771  0.072470  0.504356     3.264792         1   \n",
       "\n",
       "       mva_dm_2  tau_decay_mode_1  tau_decay_mode_2     pi_E_1  ...  \\\n",
       "entry                                                           ...   \n",
       "8             1                 1                 1  45.423448  ...   \n",
       "25            1                 1                 1  24.506373  ...   \n",
       "27            1                 1                 1  15.319610  ...   \n",
       "45            1                 1                 1  94.211361  ...   \n",
       "50            1                 1                 1  25.899289  ...   \n",
       "\n",
       "         metcov00   metcov01   metcov10    metcov11  gen_nu_p_1  gen_nu_phi_1  \\\n",
       "entry                                                                           \n",
       "8       42.660179  48.254131  48.254131  127.915657   11.907320     -1.878383   \n",
       "25     161.991516   2.567861   2.567861  105.209160   14.349887      2.519850   \n",
       "27      80.564423 -29.174086 -29.174086   72.426666   35.673293      0.106444   \n",
       "45      45.858810  -4.467490  -4.467490  212.978531    2.964097     -0.686183   \n",
       "50      84.956879  27.219664  27.219664   33.637897    8.663849     -2.653995   \n",
       "\n",
       "       gen_nu_eta_1  gen_nu_p_2  gen_nu_phi_2  gen_nu_eta_2  \n",
       "entry                                                        \n",
       "8         -0.443223   12.628682      1.261835      0.048225  \n",
       "25        -0.934011   44.844142     -0.313698     -1.423014  \n",
       "27         1.180579   23.342057     -2.873663      1.126849  \n",
       "45        -1.008616    0.729467      2.953007     -0.809572  \n",
       "50        -0.131161   27.029359      0.369547     -0.154201  \n",
       "\n",
       "[5 rows x 40 columns]"
      ]
     },
     "execution_count": 7,
     "metadata": {},
     "output_type": "execute_result"
    }
   ],
   "source": [
    "df.head()"
   ]
  },
  {
   "cell_type": "code",
   "execution_count": 16,
   "metadata": {},
   "outputs": [],
   "source": [
    "pi_1 = Momentum4(df['pi_E_1'], df['pi_px_1'], df['pi_py_1'], df['pi_pz_1'])\n",
    "pi_2 = Momentum4(df['pi_E_2'], df['pi_px_2'], df['pi_py_2'], df['pi_pz_2'])\n",
    "pi0_1 = Momentum4(df['pi0_E_1'], df['pi0_px_1'], df['pi0_py_1'], df['pi0_pz_1'])\n",
    "pi0_2 = Momentum4(df['pi0_E_2'], df['pi0_px_2'], df['pi0_py_2'], df['pi0_pz_2'])"
   ]
  },
  {
   "cell_type": "code",
   "execution_count": 96,
   "metadata": {},
   "outputs": [],
   "source": [
    "p1 = pi_1\n",
    "p2 = pi_2\n",
    "p3 = pi0_1\n",
    "p4 = pi0_2\n",
    "rest_frame = pi_1+pi_2+pi0_1+pi0_2\n",
    "boost = Momentum4(rest_frame[0], -rest_frame[1], -rest_frame[2], -rest_frame[3])\n",
    "p1 = p1.boost_particle(boost)\n",
    "p2 = p2.boost_particle(boost)\n",
    "p3 = p3.boost_particle(boost)\n",
    "p4 = p4.boost_particle(boost)\n",
    "\n",
    "# Some geometrical functions\n",
    "def cross_product(vector3_1, vector3_2):\n",
    "    return np.cross(vector3_1.T, vector3_2.T).T\n",
    "\n",
    "def dot_product(vector1, vector2):\n",
    "    return np.einsum('ij, ij->i', vector1.T, vector2.T)\n",
    "\n",
    "def norm(vector):\n",
    "    return np.sqrt((vector.T ** 2).sum(-1))[..., np.newaxis].T\n",
    "\n",
    "# calculating the perpependicular component\n",
    "pi0_1_3Mom_star_perp = cross_product(p1[1:], p3[1:])\n",
    "pi0_2_3Mom_star_perp = cross_product(p2[1:], p4[1:])\n",
    "# Now normalise:\n",
    "pi0_1_3Mom_star_perp = pi0_1_3Mom_star_perp/norm(pi0_1_3Mom_star_perp)\n",
    "pi0_2_3Mom_star_perp = pi0_2_3Mom_star_perp/norm(pi0_2_3Mom_star_perp)\n",
    "# Calculating phi_star\n",
    "phi_CP = np.arccos(dot_product(pi0_1_3Mom_star_perp, pi0_2_3Mom_star_perp))"
   ]
  },
  {
   "cell_type": "code",
   "execution_count": 109,
   "metadata": {},
   "outputs": [
    {
     "data": {
      "text/plain": [
       "array([0.48437372, 1.59424942, 0.60866791, ..., 1.28933097, 2.63131196,\n",
       "       1.21207559])"
      ]
     },
     "execution_count": 109,
     "metadata": {},
     "output_type": "execute_result"
    }
   ],
   "source": [
    "phi_CP"
   ]
  },
  {
   "cell_type": "code",
   "execution_count": 121,
   "metadata": {},
   "outputs": [],
   "source": [
    "p1 = pi_1\n",
    "p2 = pi_2\n",
    "p3 = pi0_1\n",
    "p4 = pi0_2\n",
    "rest_frame = pi_1+pi_2+pi0_1+pi0_2\n",
    "\n",
    "boost = Momentum4(rest_frame[0], -rest_frame[1], -rest_frame[2], -rest_frame[3])\n",
    "p1_boosted = p1.boost_particle(boost)\n",
    "p2_boosted = p2.boost_particle(boost)\n",
    "p3_boosted = p3.boost_particle(boost)\n",
    "p4_boosted = p4.boost_particle(boost)\n",
    "p1_b_p = np.c_[p1_boosted.p_x, p1_boosted.p_y, p1_boosted.p_z]\n",
    "p2_b_p = np.c_[p2_boosted.p_x, p2_boosted.p_y, p2_boosted.p_z]\n",
    "p3_b_p = np.c_[p3_boosted.p_x, p3_boosted.p_y, p3_boosted.p_z]\n",
    "p4_b_p = np.c_[p4_boosted.p_x, p4_boosted.p_y, p4_boosted.p_z]\n",
    "n1 = p1_b_p - np.multiply(np.einsum('ij, ij->i', p1_b_p, normaliseVector(p3_b_p))[:, None], normaliseVector(p3_b_p))\n",
    "n2 = p2_b_p - np.multiply(np.einsum('ij, ij->i', p2_b_p, normaliseVector(p4_b_p))[:, None], normaliseVector(p4_b_p))\n",
    "n1 = normaliseVector(n1)\n",
    "n2 = normaliseVector(n2)\n",
    "# vectorised form of\n",
    "# n1 = p1.Vect() - p1.Vect().Dot(p3.Vect().Unit())*p3.Vect().Unit();\n",
    "# n2 = p2.Vect() - p2.Vect().Dot(p4.Vect().Unit())*p4.Vect().Unit();\n",
    "aco_angle = np.arccos(np.einsum('ij, ij->i', n1, n2))\n",
    "\n",
    "def normaliseVector(vec):\n",
    "    \"\"\"\n",
    "\n",
    "    Normalises an array of vectors\n",
    "    \"\"\"\n",
    "    return vec/np.sqrt((vec ** 2).sum(-1))[..., np.newaxis]\n",
    "\n",
    "def dotRowOfVectors(vec1, vec2):\n",
    "    return np.einsum('ij, ij->i', vec1, vec2)"
   ]
  },
  {
   "cell_type": "code",
   "execution_count": 120,
   "metadata": {},
   "outputs": [
    {
     "data": {
      "text/plain": [
       "array([3.61897216, 4.6924002 , 3.72700124, ..., 4.40393606, 5.72403402,\n",
       "       4.32747216])"
      ]
     },
     "execution_count": 120,
     "metadata": {},
     "output_type": "execute_result"
    }
   ],
   "source": [
    "np.array(aco_angle)"
   ]
  },
  {
   "cell_type": "code",
   "execution_count": 115,
   "metadata": {},
   "outputs": [
    {
     "data": {
      "text/plain": [
       "array([38.78627605, 17.15501438,  8.51852755, ..., 48.04197876,\n",
       "        1.96696487, 14.98627838])"
      ]
     },
     "execution_count": 115,
     "metadata": {},
     "output_type": "execute_result"
    }
   ],
   "source": [
    "np.einsum('ij, ij->i', p1_b_p, normaliseVector(p3_b_p))"
   ]
  },
  {
   "cell_type": "code",
   "execution_count": 52,
   "metadata": {},
   "outputs": [
    {
     "data": {
      "text/plain": [
       "array([[ 8.55104912],\n",
       "       [29.05548573],\n",
       "       [37.54481643],\n",
       "       ...,\n",
       "       [ 2.68961678],\n",
       "       [33.24603664],\n",
       "       [13.17196788]])"
      ]
     },
     "execution_count": 52,
     "metadata": {},
     "output_type": "execute_result"
    }
   ],
   "source": [
    "np.einsum('ij, ij->i', p1_b_p, normaliseVector(p3_b_p))[:, None]"
   ]
  },
  {
   "cell_type": "code",
   "execution_count": 122,
   "metadata": {},
   "outputs": [
    {
     "ename": "NameError",
     "evalue": "name 'pi_1_boosted' is not defined",
     "output_type": "error",
     "traceback": [
      "\u001b[1;31m---------------------------------------------------------------------------\u001b[0m",
      "\u001b[1;31mNameError\u001b[0m                                 Traceback (most recent call last)",
      "\u001b[1;32m<ipython-input-122-0e3d4b57812b>\u001b[0m in \u001b[0;36m<module>\u001b[1;34m\u001b[0m\n\u001b[1;32m----> 1\u001b[1;33m \u001b[0my_1\u001b[0m \u001b[1;33m=\u001b[0m \u001b[1;33m(\u001b[0m\u001b[0mpi_1_boosted\u001b[0m\u001b[1;33m.\u001b[0m\u001b[0mE\u001b[0m \u001b[1;33m-\u001b[0m \u001b[0mpi0_1_boosted\u001b[0m\u001b[1;33m.\u001b[0m\u001b[0mE\u001b[0m\u001b[1;33m)\u001b[0m\u001b[1;33m/\u001b[0m\u001b[1;33m(\u001b[0m\u001b[0mpi_1_boosted\u001b[0m\u001b[1;33m.\u001b[0m\u001b[0mE\u001b[0m \u001b[1;33m+\u001b[0m \u001b[0mpi0_1_boosted\u001b[0m\u001b[1;33m.\u001b[0m\u001b[0mE\u001b[0m\u001b[1;33m)\u001b[0m\u001b[1;33m\u001b[0m\u001b[1;33m\u001b[0m\u001b[0m\n\u001b[0m\u001b[0;32m      2\u001b[0m \u001b[0my_2\u001b[0m \u001b[1;33m=\u001b[0m \u001b[1;33m(\u001b[0m\u001b[0mpi_2_boosted\u001b[0m\u001b[1;33m.\u001b[0m\u001b[0mE\u001b[0m \u001b[1;33m-\u001b[0m \u001b[0mpi0_2_boosted\u001b[0m\u001b[1;33m.\u001b[0m\u001b[0mE\u001b[0m\u001b[1;33m)\u001b[0m\u001b[1;33m/\u001b[0m\u001b[1;33m(\u001b[0m\u001b[0mpi_2_boosted\u001b[0m\u001b[1;33m.\u001b[0m\u001b[0mE\u001b[0m \u001b[1;33m+\u001b[0m \u001b[0mpi0_2_boosted\u001b[0m\u001b[1;33m.\u001b[0m\u001b[0mE\u001b[0m\u001b[1;33m)\u001b[0m\u001b[1;33m\u001b[0m\u001b[1;33m\u001b[0m\u001b[0m\n",
      "\u001b[1;31mNameError\u001b[0m: name 'pi_1_boosted' is not defined"
     ]
    }
   ],
   "source": [
    "y_1 = (pi_1_boosted.E - pi0_1_boosted.E)/(pi_1_boosted.E + pi0_1_boosted.E)\n",
    "y_2 = (pi_2_boosted.E - pi0_2_boosted.E)/(pi_2_boosted.E + pi0_2_boosted.E)"
   ]
  }
 ],
 "metadata": {
  "kernelspec": {
   "display_name": "Python 3",
   "language": "python",
   "name": "python3"
  },
  "language_info": {
   "codemirror_mode": {
    "name": "ipython",
    "version": 3
   },
   "file_extension": ".py",
   "mimetype": "text/x-python",
   "name": "python",
   "nbconvert_exporter": "python",
   "pygments_lexer": "ipython3",
   "version": "3.8.5"
  }
 },
 "nbformat": 4,
 "nbformat_minor": 4
}
