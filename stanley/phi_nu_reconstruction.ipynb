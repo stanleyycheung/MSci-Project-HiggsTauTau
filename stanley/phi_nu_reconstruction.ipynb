{
 "cells": [
  {
   "cell_type": "code",
   "execution_count": 4,
   "metadata": {},
   "outputs": [],
   "source": [
    "import uproot\n",
    "import numpy as np\n",
    "import scipy.stats as sps\n",
    "import pandas as pd\n",
    "import tensorflow as tf\n",
    "import matplotlib.pyplot as plt\n",
    "from collections import Counter\n",
    "from sklearn.model_selection import train_test_split\n",
    "from scipy.spatial.transform import Rotation as R\n",
    "from sklearn.preprocessing import MinMaxScaler\n",
    "from sklearn.metrics import classification_report, roc_curve, roc_auc_score\n",
    "from pylorentz import Momentum4, Position4\n",
    "from mpl_toolkits.mplot3d import Axes3D"
   ]
  },
  {
   "cell_type": "code",
   "execution_count": null,
   "metadata": {
    "scrolled": false
   },
   "outputs": [],
   "source": [
    "tree_tt = uproot.open(\"../MVAFILE_AllHiggs_tt_new.root\")[\"ntuple\"]\n",
    "print('loaded root file')\n",
    "variables = [\n",
    "            \"wt_cp_sm\", \"wt_cp_ps\", \"wt_cp_mm\", \"rand\",\n",
    "            \"aco_angle_1\", \n",
    "#             \"aco_angle_5\", \"aco_angle_6\", \"aco_angle_7\", \n",
    "            \"mva_dm_1\",\"mva_dm_2\",\n",
    "            \"tau_decay_mode_1\",\"tau_decay_mode_2\",\n",
    "#             \"ip_x_1\", \"ip_y_1\", \"ip_z_1\", \"ip_x_2\", \"ip_y_2\", \"ip_z_2\", # ignore impact parameter for now\n",
    "            \"pi_E_1\", \"pi_px_1\", \"pi_py_1\", \"pi_pz_1\", \n",
    "            \"pi_E_2\", \"pi_px_2\", \"pi_py_2\", \"pi_pz_2\", \n",
    "            \"pi0_E_1\", \"pi0_px_1\", \"pi0_py_1\", \"pi0_pz_1\",\n",
    "            \"pi0_E_2\", \"pi0_px_2\", \"pi0_py_2\", \"pi0_pz_2\", \n",
    "            \"y_1_1\", \"y_1_2\",\n",
    "            'met', 'metx', 'mety',\n",
    "        #     'sv_x_1', 'sv_y_1', 'sv_z_1', 'sv_x_2', 'sv_y_2','sv_z_2'\n",
    "        ]\n",
    "# variables += [\"gen_nu_p_1\", \"gen_nu_phi_1\", \"gen_nu_eta_1\", #leading neutrino, gen level\n",
    "#             \"gen_nu_p_2\", \"gen_nu_phi_2\", \"gen_nu_eta_2\" #subleading neutrino, gen level\n",
    "#              ]\n",
    "df_tt = tree_tt.pandas.df(variables)\n",
    "print('loaded df')\n",
    "# select only rho-rho events\n",
    "df_rho = df_tt[(df_tt['mva_dm_1']==1) & (df_tt['mva_dm_2']==1) & (df_tt[\"tau_decay_mode_1\"] == 1) & (df_tt[\"tau_decay_mode_2\"] == 1)]\n",
    "# drop unnecessary labels \n",
    "df = df_rho.drop([\"mva_dm_1\",\"mva_dm_2\",\"tau_decay_mode_1\",\"tau_decay_mode_2\", \"wt_cp_sm\", \"wt_cp_ps\", \"wt_cp_mm\", \"rand\"], axis=1).reset_index(drop=True)\n",
    "print('finished rho-rho loading')"
   ]
  },
  {
   "cell_type": "code",
   "execution_count": 5,
   "metadata": {},
   "outputs": [],
   "source": [
    "df_tt = pd.read_pickle('./df_tt.pkl')\n",
    "df_rho = df_tt[(df_tt['mva_dm_1']==1) & (df_tt['mva_dm_2']==1) & (df_tt[\"tau_decay_mode_1\"] == 1) & (df_tt[\"tau_decay_mode_2\"] == 1)]\n",
    "df_reco = df_rho.drop([\"mva_dm_1\",\"mva_dm_2\",\"tau_decay_mode_1\",\"tau_decay_mode_2\", \"wt_cp_sm\", \"wt_cp_ps\", \"wt_cp_mm\", \"rand\"], axis=1).reset_index(drop=True)"
   ]
  },
  {
   "cell_type": "code",
   "execution_count": 8,
   "metadata": {},
   "outputs": [],
   "source": [
    "df_tt_gen = pd.read_pickle('./df_tt_gen.pkl')\n",
    "df_rho = df_tt_gen[(df_tt_gen['dm_1']==1) & (df_tt_gen['dm_2']==1)]\n",
    "df_gen = df_rho.drop([\"dm_1\",\"dm_2\",\"wt_cp_sm\", \"wt_cp_ps\", \"wt_cp_mm\", \"rand\"], axis=1).reset_index(drop=True)"
   ]
  },
  {
   "cell_type": "code",
   "execution_count": 6,
   "metadata": {},
   "outputs": [],
   "source": [
    "def get_products(df_reco):\n",
    "    pi_1 = Momentum4(df_reco['pi_E_1'], df_reco[\"pi_px_1\"], df_reco[\"pi_py_1\"], df_reco[\"pi_pz_1\"])\n",
    "    pi_2 = Momentum4(df_reco['pi_E_2'], df_reco[\"pi_px_2\"], df_reco[\"pi_py_2\"], df_reco[\"pi_pz_2\"])\n",
    "    pi0_1 = Momentum4(df_reco['pi0_E_1'], df_reco[\"pi0_px_1\"], df_reco[\"pi0_py_1\"], df_reco[\"pi0_pz_1\"])\n",
    "    pi0_2 = Momentum4(df_reco['pi0_E_2'], df_reco[\"pi0_px_2\"], df_reco[\"pi0_py_2\"], df_reco[\"pi0_pz_2\"])\n",
    "    rho_1 = pi_1 + pi0_1\n",
    "    rho_2 = pi_2 + pi0_2\n",
    "    return pi_1, pi_2, pi0_1, pi0_2, rho_1, rho_2"
   ]
  },
  {
   "cell_type": "code",
   "execution_count": null,
   "metadata": {},
   "outputs": [],
   "source": [
    "ip_1 = np.c_[df_reco['ip_x_1'], df_reco['ip_y_1'], df_reco['ip_z_1']]\n",
    "ip_2 = np.c_[df_reco['ip_x_2'], df_reco['ip_y_2'], df_reco['ip_z_2']]"
   ]
  },
  {
   "cell_type": "markdown",
   "metadata": {},
   "source": [
    "## investigating gen SV and p_t_vis"
   ]
  },
  {
   "cell_type": "code",
   "execution_count": null,
   "metadata": {
    "scrolled": true
   },
   "outputs": [],
   "source": [
    "df_gen.keys()"
   ]
  },
  {
   "cell_type": "code",
   "execution_count": 9,
   "metadata": {
    "scrolled": true
   },
   "outputs": [
    {
     "name": "stderr",
     "output_type": "stream",
     "text": [
      "<ipython-input-9-90836dda2a75>:3: SettingWithCopyWarning: \n",
      "A value is trying to be set on a copy of a slice from a DataFrame.\n",
      "Try using .loc[row_indexer,col_indexer] = value instead\n",
      "\n",
      "See the caveats in the documentation: https://pandas.pydata.org/pandas-docs/stable/user_guide/indexing.html#returning-a-view-versus-a-copy\n",
      "  sv_df['p_t_vis_1'] = rho_1.p\n",
      "<ipython-input-9-90836dda2a75>:4: SettingWithCopyWarning: \n",
      "A value is trying to be set on a copy of a slice from a DataFrame.\n",
      "Try using .loc[row_indexer,col_indexer] = value instead\n",
      "\n",
      "See the caveats in the documentation: https://pandas.pydata.org/pandas-docs/stable/user_guide/indexing.html#returning-a-view-versus-a-copy\n",
      "  sv_df['p_t_vis_2'] = rho_2.p\n"
     ]
    }
   ],
   "source": [
    "sv_df = df_gen[['sv_x_1', 'sv_y_1', 'sv_z_1', 'sv_x_2', 'sv_y_2', 'sv_z_2']]\n",
    "pi_1, pi_2, pi0_1, pi0_2, rho_1, rho_2 = get_products(df_gen)\n",
    "sv_df['p_t_vis_1'] = rho_1.p\n",
    "sv_df['p_t_vis_2'] = rho_2.p"
   ]
  },
  {
   "cell_type": "code",
   "execution_count": 10,
   "metadata": {},
   "outputs": [
    {
     "data": {
      "text/html": [
       "<div>\n",
       "<style scoped>\n",
       "    .dataframe tbody tr th:only-of-type {\n",
       "        vertical-align: middle;\n",
       "    }\n",
       "\n",
       "    .dataframe tbody tr th {\n",
       "        vertical-align: top;\n",
       "    }\n",
       "\n",
       "    .dataframe thead th {\n",
       "        text-align: right;\n",
       "    }\n",
       "</style>\n",
       "<table border=\"1\" class=\"dataframe\">\n",
       "  <thead>\n",
       "    <tr style=\"text-align: right;\">\n",
       "      <th></th>\n",
       "      <th>sv_x_1</th>\n",
       "      <th>sv_y_1</th>\n",
       "      <th>sv_z_1</th>\n",
       "      <th>sv_x_2</th>\n",
       "      <th>sv_y_2</th>\n",
       "      <th>sv_z_2</th>\n",
       "      <th>p_t_vis_1</th>\n",
       "      <th>p_t_vis_2</th>\n",
       "    </tr>\n",
       "  </thead>\n",
       "  <tbody>\n",
       "    <tr>\n",
       "      <th>0</th>\n",
       "      <td>0.023583</td>\n",
       "      <td>0.019393</td>\n",
       "      <td>0.005763</td>\n",
       "      <td>-0.581665</td>\n",
       "      <td>-0.513909</td>\n",
       "      <td>0.018126</td>\n",
       "      <td>33.753041</td>\n",
       "      <td>52.583766</td>\n",
       "    </tr>\n",
       "    <tr>\n",
       "      <th>1</th>\n",
       "      <td>0.264949</td>\n",
       "      <td>-0.061602</td>\n",
       "      <td>-0.161944</td>\n",
       "      <td>-0.120283</td>\n",
       "      <td>-0.045656</td>\n",
       "      <td>-0.260196</td>\n",
       "      <td>37.600309</td>\n",
       "      <td>127.553300</td>\n",
       "    </tr>\n",
       "    <tr>\n",
       "      <th>2</th>\n",
       "      <td>0.238845</td>\n",
       "      <td>0.233997</td>\n",
       "      <td>0.112015</td>\n",
       "      <td>-0.280071</td>\n",
       "      <td>0.057288</td>\n",
       "      <td>0.059971</td>\n",
       "      <td>59.091590</td>\n",
       "      <td>67.625778</td>\n",
       "    </tr>\n",
       "    <tr>\n",
       "      <th>3</th>\n",
       "      <td>-0.005463</td>\n",
       "      <td>0.055390</td>\n",
       "      <td>0.092998</td>\n",
       "      <td>0.429833</td>\n",
       "      <td>-1.008276</td>\n",
       "      <td>3.836661</td>\n",
       "      <td>65.426963</td>\n",
       "      <td>145.224950</td>\n",
       "    </tr>\n",
       "    <tr>\n",
       "      <th>4</th>\n",
       "      <td>0.066919</td>\n",
       "      <td>0.085073</td>\n",
       "      <td>-0.095757</td>\n",
       "      <td>0.065669</td>\n",
       "      <td>0.054346</td>\n",
       "      <td>0.027046</td>\n",
       "      <td>56.050964</td>\n",
       "      <td>80.801777</td>\n",
       "    </tr>\n",
       "  </tbody>\n",
       "</table>\n",
       "</div>"
      ],
      "text/plain": [
       "     sv_x_1    sv_y_1    sv_z_1    sv_x_2    sv_y_2    sv_z_2  p_t_vis_1  \\\n",
       "0  0.023583  0.019393  0.005763 -0.581665 -0.513909  0.018126  33.753041   \n",
       "1  0.264949 -0.061602 -0.161944 -0.120283 -0.045656 -0.260196  37.600309   \n",
       "2  0.238845  0.233997  0.112015 -0.280071  0.057288  0.059971  59.091590   \n",
       "3 -0.005463  0.055390  0.092998  0.429833 -1.008276  3.836661  65.426963   \n",
       "4  0.066919  0.085073 -0.095757  0.065669  0.054346  0.027046  56.050964   \n",
       "\n",
       "    p_t_vis_2  \n",
       "0   52.583766  \n",
       "1  127.553300  \n",
       "2   67.625778  \n",
       "3  145.224950  \n",
       "4   80.801777  "
      ]
     },
     "execution_count": 10,
     "metadata": {},
     "output_type": "execute_result"
    }
   ],
   "source": [
    "sv_df.head()"
   ]
  },
  {
   "cell_type": "code",
   "execution_count": null,
   "metadata": {
    "scrolled": true
   },
   "outputs": [],
   "source": [
    "from pandas_profiling import ProfileReport\n",
    "profile = ProfileReport(sv_df, title='Pandas Profiling Report', explorative=True)"
   ]
  },
  {
   "cell_type": "code",
   "execution_count": null,
   "metadata": {
    "scrolled": false
   },
   "outputs": [],
   "source": [
    "profile.to_widgets()"
   ]
  },
  {
   "cell_type": "code",
   "execution_count": null,
   "metadata": {},
   "outputs": [],
   "source": [
    "profile.to_file(\"sv_df.html\")"
   ]
  },
  {
   "cell_type": "code",
   "execution_count": null,
   "metadata": {},
   "outputs": [],
   "source": [
    "# p_t_vis_1 = rho_1.p\n",
    "# p_t_vis_2 = rho_2.p\n",
    "# sv_x_1, sv_y_1, sv_z_1 = sv_df['sv_x_1'], sv_df['sv_y_1'], sv_df['sv_z_1'] \n",
    "# sv_x_2, sv_y_2, sv_z_2 = sv_df['sv_x_2'], sv_df['sv_y_2'], sv_df['sv_z_2']"
   ]
  },
  {
   "cell_type": "code",
   "execution_count": null,
   "metadata": {},
   "outputs": [],
   "source": [
    "plt.figure()\n",
    "plt.hist(sv_df['sv_z_1'], bins=100)\n",
    "plt.show()"
   ]
  },
  {
   "cell_type": "code",
   "execution_count": null,
   "metadata": {},
   "outputs": [],
   "source": [
    "plt.clf()"
   ]
  },
  {
   "cell_type": "code",
   "execution_count": null,
   "metadata": {},
   "outputs": [],
   "source": [
    "# %matplotlib notebook\n",
    "def three_d_scatterplot(p_t_vis, sv_x, sv_y, sv_z, samples=10000):\n",
    "    idx = np.random.choice(np.arange(len(p_t_vis)), samples, replace=False)\n",
    "    p_t_vis = p_t_vis[idx]\n",
    "    sv_x = sv_x[idx]\n",
    "    sv_y = sv_y[idx]\n",
    "    sv_z = sv_z[idx]\n",
    "    fig = plt.figure(figsize=(8,6))\n",
    "    ax = fig.add_subplot(111, projection='3d')\n",
    "    img = ax.scatter(sv_x, sv_y, sv_z, c=p_t_vis, cmap=plt.hot())\n",
    "    fig.colorbar(img)\n",
    "    plt.show()\n"
   ]
  },
  {
   "cell_type": "code",
   "execution_count": 77,
   "metadata": {},
   "outputs": [],
   "source": [
    "def profileplot(x, y, xlabel, ylabel, bins=100, mode=1):\n",
    "    means_result = sps.binned_statistic(x, [y, y**2], bins=bins, statistic='mean')\n",
    "    means, means2 = means_result.statistic\n",
    "    standard_deviations = np.sqrt(means2 - means**2)\n",
    "    bin_edges = means_result.bin_edges\n",
    "    bin_centers = (bin_edges[:-1] + bin_edges[1:])/2.\n",
    "    # remove NaNs and single count bins\n",
    "    nan_idx = np.argwhere(np.isnan(means) ).flatten()\n",
    "    zero_idx = np.argwhere(standard_deviations == 0)\n",
    "    to_remove = np.union1d(nan_idx, zero_idx)\n",
    "    means = np.delete(means, to_remove, None)\n",
    "    bin_centers = np.delete(bin_centers, to_remove, None)\n",
    "    standard_deviations = np.delete(standard_deviations, to_remove, None)\n",
    "    count = Counter(means_result.binnumber)\n",
    "    to_remove_set = set(to_remove)\n",
    "    N = []\n",
    "    for i in range(1,bins+1):\n",
    "        if i-1 in to_remove_set:\n",
    "            continue\n",
    "        if i in count:\n",
    "            N.append(count[i])\n",
    "#     print(to_remove.shape)\n",
    "#     print(bin_centers.shape, means.shape)\n",
    "    yerr = standard_deviations/np.sqrt(N)\n",
    "#     yerr = standard_deviations\n",
    "    # fitting\n",
    "#     print(bin_centers, means, yerr)\n",
    "    if mode == 1:\n",
    "        fit, cov = np.polyfit(bin_centers, means, 1, w=1/yerr, cov=True)\n",
    "        p = np.poly1d(fit)\n",
    "        print(f\"Fit params: {fit[0]}, {fit[1]}\")\n",
    "        print(f\"Diag of cov: {cov[0][0]} , {cov[1][1]}\")\n",
    "    plt.figure()\n",
    "    plt.errorbar(x=bin_centers, y=means, yerr=yerr, linestyle='none', marker='.', capsize=2)\n",
    "    if mode == 1:\n",
    "        plt.plot(bin_centers, p(bin_centers))\n",
    "    plt.grid()\n",
    "    plt.xlabel(xlabel)\n",
    "    plt.ylabel(ylabel)\n",
    "    plt.tight_layout()\n",
    "    return fit, cov, bin_centers, means\n",
    "plt.rcParams.update({'font.size': 14, \"figure.figsize\": (10,6)})"
   ]
  },
  {
   "cell_type": "markdown",
   "metadata": {},
   "source": [
    "# double checking SV length"
   ]
  },
  {
   "cell_type": "code",
   "execution_count": 35,
   "metadata": {
    "scrolled": true
   },
   "outputs": [
    {
     "data": {
      "image/png": "[encoded data removed]",
      "text/plain": [
       "<Figure size 720x432 with 1 Axes>"
      ]
     },
     "metadata": {
      "needs_background": "light"
     },
     "output_type": "display_data"
    }
   ],
   "source": [
    "plt.hist(sv_df['sv_x_1'], bins=100, alpha=0.5, label='sv_x')\n",
    "plt.hist(sv_df['sv_y_1'], bins=100, alpha=0.5, label='sv_y')\n",
    "plt.hist(sv_df['sv_z_1'], bins=100, alpha=0.5, label='sv_z')\n",
    "plt.legend()\n",
    "plt.show()"
   ]
  },
  {
   "cell_type": "code",
   "execution_count": 76,
   "metadata": {
    "scrolled": true
   },
   "outputs": [
    {
     "name": "stdout",
     "output_type": "stream",
     "text": [
      "75.29149657910683\n",
      "[1534472 1040750  734034  530535  393867  297310  229271  179235  143232\n",
      "  115151   93936   77179   64010   53373   45556   39188   33285   28588\n",
      "   24743   21594   18793   16365   14586   12839   11384   10014    8976\n",
      "    7915    7161    6460    5753    5292    4734    4284    3885    3511\n",
      "    3179    2924    2560    2437    2238    1972    1927    1638    1525\n",
      "    1418    1346    1209    1109    1042    1016     892     858     784\n",
      "     672     647     622     531     586     476     473     450     372\n",
      "     380     376     335     304     303     243     262     243     232\n",
      "     219     195     187     179     156     158     133     150     144\n",
      "     116     120      99      94     105      89     107      85      69\n",
      "      85      65      61      68      74      65      55      63      35\n",
      "      42      41      44      45      38      43      34      32      38\n",
      "      33      31      28      19      40      25      29      18      23\n",
      "      29      16      22      13      13      12      19      19      21\n",
      "      18      13      11      18      10      15      13      12       6\n",
      "      11       8       9      11       5       8       8       7      11\n",
      "      10       9       7      10       7       7       5       5       6\n",
      "       4       4       6       3       2       5       4       8       3\n",
      "       1       3       4       2       4       6       6       2       2\n",
      "       4       2       3       4       0       3       2       3       2\n",
      "       1       2       1       1       3       5       1       1       2\n",
      "       1       1       1       2       2       1       1       4       2\n",
      "       2       2       2       2       2       0       0       1       0\n",
      "       0       0       1       0       0       0       1       3       2\n",
      "       0       0       0       1       1       2       2       1       0\n",
      "       1       1       0       1       0       0       1       1       0\n",
      "       0       0       0       1       0       1       0       0       0\n",
      "       0       0       0       1       0       0       1       1       0\n",
      "       0       0       0       1       0       0       1       0       0\n",
      "       0       0       0       1       0       0       0       0       0\n",
      "       0       1       0       0       0       1       0       0       0\n",
      "       0       0       0       0       0       0       0       0       0\n",
      "       0       0       0       0       0       0       0       0       0\n",
      "       0       0       0       0       0       0       0       0       0\n",
      "       0       0       0       0       0       0       0       0       0\n",
      "       0       0       0       0       0       0       0       0       1\n",
      "       0       0       0       0       0       0       0       0       0\n",
      "       0       0       0       0       0       1       0       0       0\n",
      "       0       0       0       0       0       0       0       1       0\n",
      "       0       0       0       0       0       0       0       0       0\n",
      "       0       0       0       0       0       0       0       0       1\n",
      "       0       0       0       0       0       0       0       0       0\n",
      "       0       0       0       0       0       0       0       0       0\n",
      "       0       0       0       0       0       0       0       0       0\n",
      "       0       0       0       0       0       0       0       0       0\n",
      "       0       0       0       0       0       0       0       0       0\n",
      "       0       0       0       0       0       0       0       0       0\n",
      "       0       0       0       0       0       0       0       0       0\n",
      "       0       0       0       0       0       0       0       0       0\n",
      "       0       0       0       0       0       0       0       0       0\n",
      "       0       0       0       0       0       0       0       0       0\n",
      "       0       0       0       0       0       0       0       0       0\n",
      "       0       0       0       0       0       0       0       0       0\n",
      "       0       0       0       0       0       0       0       0       0\n",
      "       0       0       0       0       0       0       0       0       0\n",
      "       0       0       0       0       1]\n"
     ]
    },
    {
     "data": {
      "image/png": "[encoded data removed]",
      "text/plain": [
       "<Figure size 720x432 with 1 Axes>"
      ]
     },
     "metadata": {
      "needs_background": "light"
     },
     "output_type": "display_data"
    }
   ],
   "source": [
    "sv_1 = np.sqrt(df_gen['sv_x_1']**2 + df_gen['sv_y_1']**2 + df_gen['sv_z_1']**2)\n",
    "print(max(sv_1))\n",
    "hist, bin_edges = np.histogram(sv_1, bins=500)\n",
    "\n",
    "print(hist)\n",
    "plt.hist(sv_1, bins=500)\n",
    "plt.show()"
   ]
  },
  {
   "cell_type": "code",
   "execution_count": 73,
   "metadata": {},
   "outputs": [
    {
     "data": {
      "text/plain": [
       "52494"
      ]
     },
     "execution_count": 73,
     "metadata": {},
     "output_type": "execute_result"
    }
   ],
   "source": [
    "(sv_1>5).sum()"
   ]
  },
  {
   "cell_type": "code",
   "execution_count": 80,
   "metadata": {
    "scrolled": false
   },
   "outputs": [
    {
     "name": "stdout",
     "output_type": "stream",
     "text": [
      "Fit params: 0.0007957944363817757, 0.15351442035189425\n",
      "Diag of cov: 2.3734655398110468e-09 , 1.9066149686234836e-05\n"
     ]
    },
    {
     "data": {
      "image/png": "[encoded data removed]",
      "text/plain": [
       "<Figure size 720x432 with 1 Axes>"
      ]
     },
     "metadata": {
      "needs_background": "light"
     },
     "output_type": "display_data"
    }
   ],
   "source": [
    "profileplot(sv_df['p_t_vis_1'], np.abs(sv_df['sv_x_1']), xlabel=r'', ylabel=r'', bins=100)\n",
    "plt.show()"
   ]
  },
  {
   "cell_type": "code",
   "execution_count": 98,
   "metadata": {
    "scrolled": false
   },
   "outputs": [
    {
     "name": "stdout",
     "output_type": "stream",
     "text": [
      "Fit params: 0.006096002132235139, 0.07016783196311625\n",
      "Diag of cov: 2.1472147450381446e-09 , 9.80534420058444e-06\n",
      "855.7739368211813\n"
     ]
    },
    {
     "data": {
      "image/png": "[encoded data removed]",
      "text/plain": [
       "<Figure size 720x432 with 1 Axes>"
      ]
     },
     "metadata": {
      "needs_background": "light"
     },
     "output_type": "display_data"
    }
   ],
   "source": [
    "# profileplot(sv_df['p_t_vis_1'], np.abs(sv_df['sv_x_1']), xlabel=r'$P_{T,1}^{vis}$', ylabel=r'$|SV_1^x|$')\n",
    "# profileplot(np.abs(sv_df['sv_y_1']), sv_df['p_t_vis_1'], xlabel=r'$|SV_1^y|$', ylabel=r'$P_{T,1}^{vis}$')\n",
    "# profileplot(np.abs(sv_df['sv_z_1']), sv_df['p_t_vis_1'], xlabel=r'$|SV_1^z|$', ylabel=r'$P_{T,1}^{vis}$')\n",
    "sv_1 = np.sqrt(sv_df['sv_x_1']**2 + sv_df['sv_y_1']**2 + sv_df['sv_z_1']**2)\n",
    "_,_,x,y = profileplot(sv_df['p_t_vis_1'], sv_1, xlabel=r'$P_{T,1}^{vis}$', ylabel=r'$||SV_1||$', bins=150)\n",
    "idx = 50\n",
    "plt.plot(x[idx], y[idx], 'ro')\n",
    "print(x[idx])\n",
    "# plt.savefig('sv_analysis/profile_sv_1.png')\n",
    "plt.show()"
   ]
  },
  {
   "cell_type": "code",
   "execution_count": null,
   "metadata": {
    "scrolled": false
   },
   "outputs": [],
   "source": [
    "x_fit_1, _ = profileplot(sv_df['p_t_vis_1'], sv_df['sv_x_1'], xlabel=r'$P_{T,1}^{vis}$', ylabel=r'$SV_1^x$', bins=150)\n",
    "plt.savefig('fig_2.png')\n",
    "# y_fit_1, _ = profileplot(sv_df['p_t_vis_1'], sv_df['sv_y_1'], xlabel=r'$P_{T,1}^{vis}$', ylabel=r'$SV_1^y$', bins=150)\n",
    "# z_fit_1, _ = profileplot(sv_df['p_t_vis_1'], sv_df['sv_z_1'], xlabel=r'$P_{T,1}^{vis}$', ylabel=r'$SV_1^z$', bins=150)\n",
    "# np.savetxt('sv_analysis/sv_fit_rho_rho_1.txt', np.vstack((x_fit_1, y_fit_1, z_fit_1)), delimiter=',')"
   ]
  },
  {
   "cell_type": "code",
   "execution_count": 101,
   "metadata": {},
   "outputs": [
    {
     "name": "stdout",
     "output_type": "stream",
     "text": [
      "Fit params: 0.00605188773186402, 0.08695657904664322\n",
      "Diag of cov: 1.1421284475951212e-08 , 5.74820239212352e-05\n",
      "756.2574800809682\n"
     ]
    },
    {
     "data": {
      "image/png": "[encoded data removed]",
      "text/plain": [
       "<Figure size 720x432 with 1 Axes>"
      ]
     },
     "metadata": {
      "needs_background": "light"
     },
     "output_type": "display_data"
    }
   ],
   "source": [
    "sv_2 = np.sqrt(sv_df['sv_x_2']**2 + sv_df['sv_y_2']**2 + sv_df['sv_z_2']**2)\n",
    "_, _, x, y = profileplot(sv_df['p_t_vis_2'], sv_2, xlabel=r'$P_{T,2}^{vis}$', ylabel=r'$||SV_2||$', bins=200)\n",
    "idx = 40\n",
    "plt.plot(x[idx], y[idx], 'ro')\n",
    "print(x[idx])\n",
    "plt.savefig('sv_analysis/profile_sv_2.png')\n",
    "plt.show()"
   ]
  },
  {
   "cell_type": "code",
   "execution_count": null,
   "metadata": {},
   "outputs": [],
   "source": [
    "x_fit_2, _ = profileplot(sv_df['p_t_vis_2'], sv_df['sv_x_2'], xlabel=r'$P_{T,2}^{vis}$', ylabel=r'$SV_2^x$', bins=1000)\n",
    "# y_fit_2, _ = profileplot(sv_df['p_t_vis_2'], sv_df['sv_y_2'], xlabel=r'$P_{T,2}^{vis}$', ylabel=r'$SV_2^y$', bins=1000)\n",
    "# z_fit_2, _ = profileplot(sv_df['p_t_vis_2'], sv_df['sv_z_2'], xlabel=r'$P_{T,2}^{vis}$', ylabel=r'$SV_2^z$', bins=1000)\n",
    "# np.savetxt('sv_analysis/sv_fit_rho_rho_2.txt', np.vstack((x_fit_2, y_fit_2, z_fit_2)), delimiter=',')"
   ]
  },
  {
   "cell_type": "code",
   "execution_count": null,
   "metadata": {},
   "outputs": [],
   "source": [
    "three_d_scatterplot(sv_df['p_t_vis_1'], sv_df['sv_x_1'], sv_df['sv_y_1'], sv_df['sv_z_1'] )"
   ]
  },
  {
   "cell_type": "code",
   "execution_count": null,
   "metadata": {},
   "outputs": [],
   "source": [
    "three_d_scatterplot(sv_df['p_t_vis_2'], sv_df['sv_x_2'], sv_df['sv_y_2'], sv_df['sv_z_2'] )"
   ]
  },
  {
   "cell_type": "code",
   "execution_count": null,
   "metadata": {},
   "outputs": [],
   "source": [
    "# pi_1_boosted_rot = np.load('gen_info/pi_1_boosted_rot.npy', allow_pickle=True)\n",
    "# pi_2_boosted_rot = np.load('gen_info/pi_2_boosted_rot.npy', allow_pickle=True)\n",
    "# pi0_1_boosted_rot = np.load('gen_info/pi0_1_boosted_rot.npy', allow_pickle=True)\n",
    "# pi0_2_boosted_rot = np.load('gen_info/pi0_2_boosted_rot.npy', allow_pickle=True)\n",
    "# rho_1_boosted_rot = pi_1_boosted_rot + pi0_1_boosted_rot\n",
    "# rho_2_boosted_rot = pi_2_boosted_rot + pi0_2_boosted_rot"
   ]
  },
  {
   "cell_type": "code",
   "execution_count": null,
   "metadata": {},
   "outputs": [],
   "source": [
    "df_gen.columns"
   ]
  },
  {
   "cell_type": "markdown",
   "metadata": {},
   "source": [
    "to do:  \n",
    "- [ ] change units - ip is in cm"
   ]
  },
  {
   "cell_type": "code",
   "execution_count": null,
   "metadata": {
    "scrolled": true
   },
   "outputs": [],
   "source": [
    "df_reco.head()"
   ]
  },
  {
   "cell_type": "code",
   "execution_count": null,
   "metadata": {},
   "outputs": [],
   "source": [
    "df_reco.columns"
   ]
  },
  {
   "cell_type": "code",
   "execution_count": null,
   "metadata": {},
   "outputs": [],
   "source": [
    "def getSVFunctions(x_fit, y_fit, z_fit):\n",
    "    x = np.poly1d(x_fit)\n",
    "    y = np.poly1d(y_fit)\n",
    "    z = np.poly1d(z_fit)\n",
    "    return x, y, z"
   ]
  },
  {
   "cell_type": "code",
   "execution_count": null,
   "metadata": {},
   "outputs": [],
   "source": [
    "fit_1 = np.vstack((x_fit_1, y_fit_1, z_fit_1))\n",
    "fit_2 = np.vstack((x_fit_2, y_fit_2, z_fit_2))\n",
    "c = 299792458\n",
    "t_flight = 87e-6/c\n",
    "f_1_x, f_1_y, f_1_z = getSVFunctions(*fit_1)\n",
    "f_2_x, f_2_y, f_2_z = getSVFunctions(*fit_2)\n",
    "p_t_1 = np.sqrt(df_reco['pi_px_1']**2+df_reco['pi_py_1']**2+df_reco['pi_pz_1']**2).to_numpy()\n",
    "p_t_2 = np.sqrt(df_reco['pi_px_2']**2+df_reco['pi_py_2']**2+df_reco['pi_pz_2']**2).to_numpy()\n",
    "\n",
    "SV_1_x, SV_1_y, SV_1_z = f_1_x(df_reco['pi_px_1']), f_1_y(df_reco['pi_py_1']), f_1_z(df_reco['pi_pz_1'])\n",
    "SV_2_x, SV_2_y, SV_2_z = f_2_x(df_reco['pi_px_2']), f_2_y(df_reco['pi_py_2']), f_2_z(df_reco['pi_pz_2'])\n",
    "\n",
    "# calculate in lab frame\n",
    "# p_x_tau_1 = -m_tau*df['sv_x_1']/t_flight\n",
    "# p_y_tau_1 = -m_tau*df['sv_y_1']/t_flight\n",
    "# p_y_tau_1 = -m_tau*df['sv_y_1']/t_flight\n",
    "# # need to convert units of p\n",
    "# E_tau_1 = np.sqrt(p_x_tau_1**2+p_y_tau_1**2+p_z_tau_1**2+m_tau**2)\n",
    "\n",
    "\n",
    "# try fitting p_t instead of each component"
   ]
  },
  {
   "cell_type": "code",
   "execution_count": null,
   "metadata": {},
   "outputs": [],
   "source": [
    "plt.figure()\n",
    "# plt.hist(SV_1_x, density=True)\n",
    "plt.hist(sv_df['sv_x_1'], bins=100)\n",
    "# plt.xlim(-0.002,0.002)\n",
    "plt.show()"
   ]
  },
  {
   "cell_type": "code",
   "execution_count": null,
   "metadata": {},
   "outputs": [],
   "source": [
    "plt.clf()"
   ]
  },
  {
   "cell_type": "code",
   "execution_count": null,
   "metadata": {},
   "outputs": [],
   "source": [
    "l_tau = 87e-4 # in cm\n",
    "# testing sandbox\n",
    "for i in range(100):\n",
    "    vis_dir = rho_1[:,i][1:]/np.linalg.norm(rho_1[:,i][1:])\n",
    "    ip = ip_1[i]\n",
    "    delta = vis_dir.dot(ip)**2 - (np.linalg.norm(ip)**2-l_tau**2)\n",
    "    d_plus = -vis_dir.dot(ip) + delta\n",
    "    d_minus = -vis_dir.dot(ip) - delta\n",
    "    # todo: transform d to a point\n",
    "    if delta > 0:\n",
    "        sv_1 = d_plus*vis_dir\n",
    "        sv_2 = d_minus*vis_dir\n",
    "    else:\n",
    "        pass"
   ]
  },
  {
   "cell_type": "code",
   "execution_count": null,
   "metadata": {},
   "outputs": [],
   "source": []
  }
 ],
 "metadata": {
  "kernelspec": {
   "display_name": "Python 3",
   "language": "python",
   "name": "python3"
  },
  "language_info": {
   "codemirror_mode": {
    "name": "ipython",
    "version": 3
   },
   "file_extension": ".py",
   "mimetype": "text/x-python",
   "name": "python",
   "nbconvert_exporter": "python",
   "pygments_lexer": "ipython3",
   "version": "3.8.5"
  }
 },
 "nbformat": 4,
 "nbformat_minor": 4
}
