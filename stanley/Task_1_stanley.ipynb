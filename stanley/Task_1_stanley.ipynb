{
 "cells": [
  {
   "cell_type": "code",
   "execution_count": 2,
   "metadata": {},
   "outputs": [
    {
     "name": "stdout",
     "output_type": "stream",
     "text": [
      "Welcome to JupyROOT 6.20/06\n"
     ]
    },
    {
     "data": {
      "text/plain": [
       "<function matplotlib.pyplot.figure(num=None, figsize=None, dpi=None, facecolor=None, edgecolor=None, frameon=True, FigureClass=<class 'matplotlib.figure.Figure'>, clear=False, **kwargs)>"
      ]
     },
     "execution_count": 2,
     "metadata": {},
     "output_type": "execute_result"
    }
   ],
   "source": [
    "from ROOT import TLorentzVector\n",
    "import uproot \n",
    "import numpy as np\n",
    "import pandas as pd\n",
    "import math\n",
    "import matplotlib.pyplot as plt\n",
    "plt.figure"
   ]
  },
  {
   "cell_type": "code",
   "execution_count": 3,
   "metadata": {},
   "outputs": [],
   "source": [
    "# read data files\n",
    "tree_tt = uproot.open(\"/eos/user/s/stcheung/SWAN_projects/Masters_CP/MVAFILE_AllHiggs_tt.root\")[\"ntuple\"]\n",
    "tree_et = uproot.open(\"/eos/user/s/stcheung/SWAN_projects/Masters_CP/MVAFILE_AllHiggs_et.root\")[\"ntuple\"]\n",
    "tree_mt = uproot.open(\"/eos/user/s/stcheung/SWAN_projects/Masters_CP/MVAFILE_AllHiggs_mt.root\")[\"ntuple\"]"
   ]
  },
  {
   "cell_type": "code",
   "execution_count": 4,
   "metadata": {},
   "outputs": [],
   "source": [
    "variables = [\n",
    "    \"wt_cp_sm\", \"wt_cp_ps\", \"wt_cp_mm\", \"rand\",\n",
    "    \"aco_angle_1\", \n",
    "    \"mva_dm_1\",\"mva_dm_2\",\n",
    "    \"tau_decay_mode_1\",\"tau_decay_mode_2\",\n",
    "#     \"ip_x_1\", \"ip_y_1\", \"ip_z_1\", \"ip_x_2\", \"ip_y_2\", \"ip_z_2\", # ignore impact parameter for now\n",
    "    \"pi_px_1\", \"pi_py_1\", \"pi_pz_1\", \"pi_E_1\",\n",
    "    \"pi_px_2\", \"pi_py_2\", \"pi_pz_2\", \"pi_E_2\",\n",
    "    \"pi0_px_1\", \"pi0_py_1\", \"pi0_pz_1\", \"pi0_E_1\",\n",
    "    \"pi0_px_2\", \"pi0_py_2\", \"pi0_pz_2\", \"pi0_E_2\",\n",
    "    \"y_1_1\", \"y_1_2\"\n",
    "]\n",
    "    \n",
    "\n",
    "def calcCPAngle(p1: TLorentzVector, p2: TLorentzVector, p3: TLorentzVector, p4: TLorentzVector):\n",
    "    \"\"\"\n",
    "    Calculates CP angle, without shift\n",
    "    p1 = pi0_1\n",
    "    p2 = pi0_2\n",
    "    p3 = pi_1\n",
    "    p4 = pi_2\n",
    "    \"\"\"\n",
    "    boost = (p3+p4).BoostVector()\n",
    "    p1.Boost(-boost)\n",
    "    p2.Boost(-boost)\n",
    "    p3.Boost(-boost)\n",
    "    p4.Boost(-boost)\n",
    "    n1 = p1.Vect() - p1.Vect().Dot(p3.Vect().Unit())*p3.Vect().Unit()\n",
    "    n2 = p2.Vect() - p2.Vect().Dot(p4.Vect().Unit())*p4.Vect().Unit()\n",
    "    n1 = n1.Unit()\n",
    "    n2 = n2.Unit()\n",
    "    angle = math.acos(n1.Dot(n2))\n",
    "    sign = p4.Vect().Unit().Dot(n1.Cross(n2))\n",
    "    if sign<0: angle = 2*math.pi - angle\n",
    "    return angle\n",
    "\n",
    "def CPAngle(pi_px_1, pi_py_1, pi_pz_1, pi_E_1, pi_px_2, pi_py_2, pi_pz_2, pi_E_2, pi0_px_1, pi0_py_1, pi0_pz_1, pi0_E_1, pi0_px_2, pi0_py_2, pi0_pz_2, pi0_E_2, y_1_1, y_1_2):\n",
    "    p1 = TLorentzVector(pi_px_1, pi_py_1, pi_pz_1, pi_E_1)\n",
    "    p2 = TLorentzVector(pi_px_2, pi_py_2, pi_pz_2, pi_E_2)\n",
    "    p3 = TLorentzVector(pi0_px_1, pi0_py_1, pi0_pz_1, pi0_E_1)\n",
    "    p4 = TLorentzVector(pi0_px_2, pi0_py_2, pi0_pz_2, pi0_E_2)\n",
    "    angle = calcCPAngle(p1, p2, p3, p4)\n",
    "    \n",
    "    if y_1_1 * y_1_2 < 0:\n",
    "        if angle < math.pi: angle += math.pi\n",
    "        else: angle -= math.pi\n",
    "    \n",
    "    return angle\n",
    "\n",
    "def plotCPAngle(df, dm, bins=100, sample_num=5000):\n",
    "\n",
    "    plt.rcParams['font.size'] = 14\n",
    "    \n",
    "    df_ps = df[(df[\"rand\"]<df[\"wt_cp_ps\"]/2)]\n",
    "    df_sm = df[(df[\"rand\"]<df[\"wt_cp_sm\"]/2)]\n",
    "    \n",
    "    ps = df_ps[\"calc_aco_angle_1\"].sample(sample_num)\n",
    "    sm = df_sm[\"calc_aco_angle_1\"].sample(sample_num)\n",
    "    fig, (ax1, ax2, ax3) = plt.subplots(1, 3, figsize=(18,6))\n",
    "    ax1.hist(ps, bins=bins)\n",
    "    ax1.hist(sm, bins=bins)\n",
    "    ax1.set_ylabel('freq')\n",
    "    ax1.set_xlabel(r'$\\phi_{CP}$')\n",
    "    ax1.set_title('combined ps and sm distribution')\n",
    "    ax2.hist(ps, bins=bins, color='tab:blue')\n",
    "    ax2.set_title('ps distribution')\n",
    "    ax2.set_ylabel('freq')\n",
    "    ax2.set_xlabel(r'$\\phi_{CP}$')\n",
    "    ax3.hist(sm, bins=bins, color='tab:orange')\n",
    "    ax3.set_title('sm distribution')\n",
    "    ax3.set_ylabel('freq')\n",
    "    ax3.set_xlabel(r'$\\phi_{CP}$')\n",
    "    plt.tight_layout()\n",
    "    plt.savefig(f\"fig/task1/calculated_aco_angle_1_{dm}.png\")\n",
    "    "
   ]
  },
  {
   "cell_type": "code",
   "execution_count": 5,
   "metadata": {},
   "outputs": [],
   "source": [
    "def rhorhoCPAngle(root_file, dm, verbose=False):\n",
    "    df = root_file.pandas.df(variables)\n",
    "    # select only rho-rho events (aco_angle_1 measures rho-rho events)\n",
    "    df = df[(df['mva_dm_1']==1) & (df['mva_dm_2']==1) & (df[\"tau_decay_mode_1\"] == 1) & (df[\"tau_decay_mode_2\"] == 1)]\n",
    "    # drop unnecessary labels \n",
    "    df_rhorho = df.drop([\"mva_dm_1\",\"mva_dm_2\",\"tau_decay_mode_1\",\"tau_decay_mode_2\"], axis=1).reset_index(drop=True)\n",
    "    # find CP angle\n",
    "    df_rhorho['calc_aco_angle_1'] = df_rhorho.apply(lambda x: CPAngle(x.pi_px_1, x.pi_py_1, x.pi_pz_1, x.pi_E_1, \n",
    "                                                                       x.pi_px_2, x.pi_py_2, x.pi_pz_2, x.pi_E_2, \n",
    "                                                                       x.pi0_px_1, x.pi0_py_1, x.pi0_pz_1, x.pi0_E_1, \n",
    "                                                                       x.pi0_px_2, x.pi0_py_2, x.pi0_pz_2, x.pi0_E_2,\n",
    "                                                                       x.y_1_1, x.y_1_2), axis=1)\n",
    "    df_rhorho['residuals'] = df_rhorho['aco_angle_1'] - df_rhorho['calc_aco_angle_1']\n",
    "    if verbose:\n",
    "        print(df_rhorho[['aco_angle_1', 'calc_aco_angle_1', 'residuals']])\n",
    "        # check residuals are small\n",
    "        print(df_rhorho['residuals'].describe())\n",
    "    plotCPAngle(df_rhorho, dm, sample_num=10000)"
   ]
  },
  {
   "cell_type": "code",
   "execution_count": 1,
   "metadata": {},
   "outputs": [
    {
     "ename": "NameError",
     "evalue": "name 'rhorhoCPAngle' is not defined",
     "output_type": "error",
     "traceback": [
      "\u001b[0;31m---------------------------------------------------------------------------\u001b[0m",
      "\u001b[0;31mNameError\u001b[0m                                 Traceback (most recent call last)",
      "\u001b[0;32m<timed eval>\u001b[0m in \u001b[0;36m<module>\u001b[0;34m\u001b[0m\n",
      "\u001b[0;31mNameError\u001b[0m: name 'rhorhoCPAngle' is not defined"
     ]
    }
   ],
   "source": [
    "%%time\n",
    "rhorhoCPAngle(tree_tt, 'tt')"
   ]
  },
  {
   "cell_type": "markdown",
   "metadata": {},
   "source": [
    "# Uncombined methods"
   ]
  },
  {
   "cell_type": "code",
   "execution_count": 83,
   "metadata": {},
   "outputs": [],
   "source": [
    "# variables to extract\n",
    "variables = [\n",
    "    \"wt_cp_sm\", \"wt_cp_ps\", \"wt_cp_mm\", \"rand\",\n",
    "    \"aco_angle_1\", \n",
    "    \"mva_dm_1\",\"mva_dm_2\",\n",
    "    \"tau_decay_mode_1\",\"tau_decay_mode_2\",\n",
    "#     \"ip_x_1\", \"ip_y_1\", \"ip_z_1\", \"ip_x_2\", \"ip_y_2\", \"ip_z_2\", # ignore impact parameter for now\n",
    "    \"pi_px_1\", \"pi_py_1\", \"pi_pz_1\", \"pi_E_1\",\n",
    "    \"pi_px_2\", \"pi_py_2\", \"pi_pz_2\", \"pi_E_2\",\n",
    "    \"pi0_px_1\", \"pi0_py_1\", \"pi0_pz_1\", \"pi0_E_1\",\n",
    "    \"pi0_px_2\", \"pi0_py_2\", \"pi0_pz_2\", \"pi0_E_2\",\n",
    "    \"y_1_1\", \"y_1_2\"\n",
    "]"
   ]
  },
  {
   "cell_type": "code",
   "execution_count": 105,
   "metadata": {},
   "outputs": [],
   "source": [
    "# only deal with tt data first\n",
    "df_tt = tree_tt.pandas.df(variables)\n",
    "# select only rho-rho events (aco_angle_1 measures rho-rho events)\n",
    "df_tt = df_tt[(df_tt['mva_dm_1']==1) & (df_tt['mva_dm_2']==1) & (df_tt[\"tau_decay_mode_1\"] == 1) & (df_tt[\"tau_decay_mode_2\"] == 1)]\n",
    "# drop unnecessary labels \n",
    "df_tt_rhorho = df_tt.drop([\"mva_dm_1\",\"mva_dm_2\",\"tau_decay_mode_1\",\"tau_decay_mode_2\"], axis=1).reset_index(drop=True)"
   ]
  },
  {
   "cell_type": "code",
   "execution_count": 107,
   "metadata": {
    "collapsed": true
   },
   "outputs": [
    {
     "name": "stdout",
     "output_type": "stream",
     "text": [
      "        aco_angle_1  calc_aco_angle_1          diff\n",
      "0          2.657029          2.657098 -6.812228e-05\n",
      "1          1.547246          1.547159  8.642635e-05\n",
      "2          3.750274          3.750331 -5.754366e-05\n",
      "3          1.192612          1.192824 -2.117337e-04\n",
      "4          3.264792          3.264791  7.556683e-07\n",
      "5          5.753096          5.753144 -4.785334e-05\n",
      "6          2.700190          2.700252 -6.214446e-05\n",
      "7          3.907006          3.907034 -2.735040e-05\n",
      "8          1.669376          1.669353  2.370017e-05\n",
      "9          1.077887          1.077877  9.409454e-06\n",
      "10         6.073213          6.073216 -3.243284e-06\n",
      "11         2.413196          2.413368 -1.718009e-04\n",
      "12         2.236670          2.236698 -2.874584e-05\n",
      "13         3.952976          3.953104 -1.283458e-04\n",
      "14         2.338017          2.337995  2.208723e-05\n",
      "15         3.311521          3.311529 -8.046063e-06\n",
      "16         5.628795          5.628813 -1.751199e-05\n",
      "17         2.149978          2.149790  1.883789e-04\n",
      "18         2.026023          2.025579  4.443345e-04\n",
      "19         4.783627          4.783672 -4.480043e-05\n",
      "20         4.104225          4.103457  7.677178e-04\n",
      "21         6.259001          6.259001  7.223911e-07\n",
      "22         2.589150          2.589207 -5.746615e-05\n",
      "23         2.900892          2.900884  7.165122e-06\n",
      "24         2.914611          2.914510  1.016426e-04\n",
      "25         3.902166          3.905018 -2.852396e-03\n",
      "26         5.165087          5.165095 -7.468319e-06\n",
      "27         4.965243          4.965306 -6.303858e-05\n",
      "28         0.723919          0.723780  1.390794e-04\n",
      "29         3.400597          3.400476  1.202257e-04\n",
      "...             ...               ...           ...\n",
      "653498     0.086519          0.086643 -1.234364e-04\n",
      "653499     4.906675          4.906479  1.960679e-04\n",
      "653500     5.394608          5.394598  9.408015e-06\n",
      "653501     5.927051          5.927083 -3.163460e-05\n",
      "653502     3.694348          3.694949 -6.016090e-04\n",
      "653503     0.559484          0.559621 -1.363072e-04\n",
      "653504     1.275842          1.276257 -4.145687e-04\n",
      "653505     1.467779          1.467780 -1.312638e-06\n",
      "653506     5.975602          5.975887 -2.846541e-04\n",
      "653507     0.170006          0.170019 -1.264958e-05\n",
      "653508     5.777210          5.777146  6.369592e-05\n",
      "653509     6.142116          6.142126 -9.912493e-06\n",
      "653510     2.183644          2.183552  9.163957e-05\n",
      "653511     5.447827          5.447772  5.433292e-05\n",
      "653512     6.219738          6.219692  4.663699e-05\n",
      "653513     5.884049          5.884046  3.383985e-06\n",
      "653514     1.933530          1.933503  2.712342e-05\n",
      "653515     5.648714          5.648866 -1.515455e-04\n",
      "653516     4.151087          4.151059  2.761819e-05\n",
      "653517     2.155819          2.155722  9.699371e-05\n",
      "653518     1.177476          1.177577 -1.008864e-04\n",
      "653519     4.872852          4.872758  9.314805e-05\n",
      "653520     5.212435          5.212367  6.802049e-05\n",
      "653521     1.449764          1.450038 -2.736745e-04\n",
      "653522     2.827512          2.827417  9.473969e-05\n",
      "653523     0.277067          0.277142 -7.444157e-05\n",
      "653524     1.115490          1.115845 -3.549809e-04\n",
      "653525     4.993271          4.993653 -3.823599e-04\n",
      "653526     2.631089          2.632684 -1.595133e-03\n",
      "653527     4.354135          4.353984  1.513463e-04\n",
      "\n",
      "[653528 rows x 3 columns]\n"
     ]
    }
   ],
   "source": [
    "df_tt_rhorho['calc_aco_angle_1'] = df_tt_rhorho.apply(lambda x: CPAngle(x.pi_px_1, x.pi_py_1, x.pi_pz_1, x.pi_E_1, \n",
    "                                                                       x.pi_px_2, x.pi_py_2, x.pi_pz_2, x.pi_E_2, \n",
    "                                                                       x.pi0_px_1, x.pi0_py_1, x.pi0_pz_1, x.pi0_E_1, \n",
    "                                                                       x.pi0_px_2, x.pi0_py_2, x.pi0_pz_2, x.pi0_E_2,\n",
    "                                                                       x.y_1_1, x.y_1_2), axis=1)\n",
    "df_tt_rhorho['residuals'] = df_tt_rhorho['aco_angle_1'] - df_tt_rhorho['calc_aco_angle_1']\n",
    "print(df_tt_rhorho[['aco_angle_1', 'calc_aco_angle_1', 'residuals']])"
   ]
  },
  {
   "cell_type": "code",
   "execution_count": 166,
   "metadata": {
    "scrolled": true
   },
   "outputs": [
    {
     "data": {
      "image/png": "[encoded data removed]",
      "text/plain": [
       "<Figure size 1296x432 with 3 Axes>"
      ]
     },
     "metadata": {
      "needs_background": "light"
     },
     "output_type": "display_data"
    }
   ],
   "source": [
    "plotCPAngle(df_tt_rhorho, sample_num=10000)"
   ]
  },
  {
   "cell_type": "code",
   "execution_count": 165,
   "metadata": {
    "scrolled": true
   },
   "outputs": [
    {
     "name": "stdout",
     "output_type": "stream",
     "text": [
      "count    6.535280e+05\n",
      "mean    -2.771969e-06\n",
      "std      1.008684e-03\n",
      "min     -3.507880e-01\n",
      "25%     -4.430938e-05\n",
      "50%      1.747658e-09\n",
      "75%      4.461731e-05\n",
      "max      1.720621e-01\n",
      "Name: diff, dtype: float64\n"
     ]
    }
   ],
   "source": [
    "# check residuals are small\n",
    "print(df_tt_rhorho['residuals'].describe())"
   ]
  },
  {
   "cell_type": "markdown",
   "metadata": {},
   "source": [
    "# Even older methods"
   ]
  },
  {
   "cell_type": "code",
   "execution_count": 46,
   "metadata": {},
   "outputs": [],
   "source": [
    "for _, row in df_tt_rhorho.iterrows():\n",
    "    p1 = TLorentzVector(row['pi_px_1'], row['pi_py_1'], row['pi_pz_1'], row['pi_E_1'])\n",
    "    p2 = TLorentzVector(row['pi_px_2'], row['pi_py_2'], row['pi_pz_2'], row['pi_E_2'])\n",
    "    p3 = TLorentzVector(row['pi0_px_1'], row['pi0_py_1'], row['pi0_pz_1'], row['pi0_E_1'])\n",
    "    p4 = TLorentzVector(row['pi0_px_2'], row['pi0_py_2'], row['pi0_pz_2'], row['pi0_E_2'])\n",
    "    \n",
    "#     print(calcAPAngle(p1, p2, p3, p4))\n",
    "\n",
    "\n",
    "# p_1 = np.array(df_tt_rhorho[['pi_px_1', 'pi_py_1', 'pi_pz_1']].values)\n",
    "# E_1 = np.array(df_tt_rhorho[['pi_E_1']].values)\n",
    "# p_1_four = np.array([TLorentzVector(E, px, py, pz) for px, py, pz in p_1 for E in E_1])\n",
    "\n",
    "# p_2 = np.array(df_tt_rhorho[['pi_px_2', 'pi_py_2', 'pi_pz_2']].values)\n",
    "# E_2 = np.array(df_tt_rhorho[['pi_E_2']].values)\n",
    "# p_2_four = np.array([TLorentzVector(E, px, py, pz) for px, py, pz in p_2 for E in E_2])\n",
    "\n",
    "def transformLorentzVector(E, px, py, pz):\n",
    "    return TLorentzVector(E, px, py, pz)\n",
    "\n",
    "transform_lorentz = np.vectorize(transformLorentzVector)\n",
    "p_1_four = transform_lorentz(df_tt_rhorho['pi_E_1'].values, df_tt_rhorho['pi_px_1'].values, df_tt_rhorho['pi_py_1'].values, df_tt_rhorho['pi_pz_1'].values)\n",
    "p_2_four = transform_lorentz(df_tt_rhorho['pi_E_2'].values, df_tt_rhorho['pi_px_2'].values, df_tt_rhorho['pi_py_2'].values, df_tt_rhorho['pi_pz_2'].values)\n",
    "\n",
    "ZMF_four = p_1_four + p_2_four\n",
    "\n",
    "\n",
    "# print(ZMF_four)\n",
    "\n",
    "# boost = ZMF_four[0].BoostVector()\n",
    "# print(boost)\n",
    "# p_1_four[0].Boost(-boost)\n",
    "\n",
    "\n",
    "def calc_velocity(p, m):\n",
    "    Q = p/m\n",
    "    v = np.sqrt(Q**2/(1+Q**2))\n",
    "    return v\n",
    "\n",
    "def gamma(v):\n",
    "    return 1/np.sqrt(1-v**2)\n",
    "\n",
    "def lorentz_transform(four_mom, velocity):\n",
    "    v_x, v_y, v_z = velocity\n",
    "    v = np.linalg.norm(v)\n",
    "    g = gamma(v)\n",
    "    B = np.array([\n",
    "        [g, -g*v_x, -g*v_y/c, -g*v_z/c],\n",
    "        [-g*v_x, 1+(g-1)*v_x**2/v**2, (g-1)*v_x*v_y/v**2, (g-1)*v_x*v_z/v**2],\n",
    "        [-g*v_y, (g-1)*v_y*v_x/v**2, 1+(g-1)*v_y**2/v**2, (g-1)*v_y*v_z/v**2],\n",
    "        [-g*v_z, (g-1)*v_z*v_x/v**2, (g-1)*v_z*v_y/v**2, 1+(g-1)*v_z**2/v**2]\n",
    "    ])\n",
    "    return B.dot(four_mom)\n",
    "\n",
    "p = df_tt_rhorho['pi_px_1']\n",
    "\n",
    "# print(calc_velocity(p, m_pi))"
   ]
  }
 ],
 "metadata": {
  "kernelspec": {
   "display_name": "Python 3",
   "language": "python",
   "name": "python3"
  },
  "language_info": {
   "codemirror_mode": {
    "name": "ipython",
    "version": 3
   },
   "file_extension": ".py",
   "mimetype": "text/x-python",
   "name": "python",
   "nbconvert_exporter": "python",
   "pygments_lexer": "ipython3",
   "version": "3.7.6"
  }
 },
 "nbformat": 4,
 "nbformat_minor": 4
}
