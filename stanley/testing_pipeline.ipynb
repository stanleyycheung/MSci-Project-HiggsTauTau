{
 "cells": [
  {
   "cell_type": "code",
   "execution_count": 58,
   "metadata": {},
   "outputs": [],
   "source": [
    "import uproot\n",
    "import pandas as pd\n",
    "import numpy as np\n",
    "from pylorentz import Momentum4"
   ]
  },
  {
   "cell_type": "markdown",
   "metadata": {},
   "source": [
    "## testing rho_a1 channel"
   ]
  },
  {
   "cell_type": "code",
   "execution_count": 24,
   "metadata": {},
   "outputs": [],
   "source": [
    "df = pd.read_pickle('../shared/df_tt_rho_a1.pkl')"
   ]
  },
  {
   "cell_type": "code",
   "execution_count": 25,
   "metadata": {},
   "outputs": [],
   "source": [
    "df = df[(df['mva_dm_1'] == 1) & (df['mva_dm_2'] == 10) & (df[\"tau_decay_mode_1\"] == 1)]"
   ]
  },
  {
   "cell_type": "code",
   "execution_count": 7,
   "metadata": {},
   "outputs": [
    {
     "data": {
      "text/html": [
       "<div>\n",
       "<style scoped>\n",
       "    .dataframe tbody tr th:only-of-type {\n",
       "        vertical-align: middle;\n",
       "    }\n",
       "\n",
       "    .dataframe tbody tr th {\n",
       "        vertical-align: top;\n",
       "    }\n",
       "\n",
       "    .dataframe thead th {\n",
       "        text-align: right;\n",
       "    }\n",
       "</style>\n",
       "<table border=\"1\" class=\"dataframe\">\n",
       "  <thead>\n",
       "    <tr style=\"text-align: right;\">\n",
       "      <th></th>\n",
       "      <th>wt_cp_sm</th>\n",
       "      <th>wt_cp_ps</th>\n",
       "      <th>wt_cp_mm</th>\n",
       "      <th>rand</th>\n",
       "      <th>aco_angle_1</th>\n",
       "      <th>mva_dm_1</th>\n",
       "      <th>mva_dm_2</th>\n",
       "      <th>tau_decay_mode_1</th>\n",
       "      <th>tau_decay_mode_2</th>\n",
       "      <th>pi_E_1</th>\n",
       "      <th>...</th>\n",
       "      <th>pi3_pz_2</th>\n",
       "      <th>pi3_E_2</th>\n",
       "      <th>ip_x_1</th>\n",
       "      <th>ip_y_1</th>\n",
       "      <th>ip_z_1</th>\n",
       "      <th>sv_x_2</th>\n",
       "      <th>sv_y_2</th>\n",
       "      <th>sv_z_2</th>\n",
       "      <th>y_1_1</th>\n",
       "      <th>y_1_2</th>\n",
       "    </tr>\n",
       "    <tr>\n",
       "      <th>entry</th>\n",
       "      <th></th>\n",
       "      <th></th>\n",
       "      <th></th>\n",
       "      <th></th>\n",
       "      <th></th>\n",
       "      <th></th>\n",
       "      <th></th>\n",
       "      <th></th>\n",
       "      <th></th>\n",
       "      <th></th>\n",
       "      <th></th>\n",
       "      <th></th>\n",
       "      <th></th>\n",
       "      <th></th>\n",
       "      <th></th>\n",
       "      <th></th>\n",
       "      <th></th>\n",
       "      <th></th>\n",
       "      <th></th>\n",
       "      <th></th>\n",
       "      <th></th>\n",
       "    </tr>\n",
       "  </thead>\n",
       "  <tbody>\n",
       "    <tr>\n",
       "      <th>84</th>\n",
       "      <td>1.054828</td>\n",
       "      <td>0.426911</td>\n",
       "      <td>1.284706</td>\n",
       "      <td>0.720768</td>\n",
       "      <td>0.448291</td>\n",
       "      <td>1</td>\n",
       "      <td>10</td>\n",
       "      <td>1</td>\n",
       "      <td>10</td>\n",
       "      <td>62.296712</td>\n",
       "      <td>...</td>\n",
       "      <td>-21.745945</td>\n",
       "      <td>24.261825</td>\n",
       "      <td>-0.001220</td>\n",
       "      <td>0.000906</td>\n",
       "      <td>0.000485</td>\n",
       "      <td>0.537517</td>\n",
       "      <td>0.513830</td>\n",
       "      <td>-1.507642</td>\n",
       "      <td>0.521097</td>\n",
       "      <td>-0.756186</td>\n",
       "    </tr>\n",
       "    <tr>\n",
       "      <th>112</th>\n",
       "      <td>1.389296</td>\n",
       "      <td>1.375229</td>\n",
       "      <td>0.823178</td>\n",
       "      <td>0.062696</td>\n",
       "      <td>5.195203</td>\n",
       "      <td>1</td>\n",
       "      <td>10</td>\n",
       "      <td>1</td>\n",
       "      <td>10</td>\n",
       "      <td>129.736484</td>\n",
       "      <td>...</td>\n",
       "      <td>-30.046129</td>\n",
       "      <td>31.985978</td>\n",
       "      <td>0.000085</td>\n",
       "      <td>0.000676</td>\n",
       "      <td>0.000180</td>\n",
       "      <td>-0.044614</td>\n",
       "      <td>-0.837997</td>\n",
       "      <td>-2.299997</td>\n",
       "      <td>0.661192</td>\n",
       "      <td>-0.226584</td>\n",
       "    </tr>\n",
       "    <tr>\n",
       "      <th>137</th>\n",
       "      <td>1.746559</td>\n",
       "      <td>0.138269</td>\n",
       "      <td>0.658890</td>\n",
       "      <td>0.528590</td>\n",
       "      <td>6.187443</td>\n",
       "      <td>1</td>\n",
       "      <td>10</td>\n",
       "      <td>1</td>\n",
       "      <td>10</td>\n",
       "      <td>21.586403</td>\n",
       "      <td>...</td>\n",
       "      <td>-1.955230</td>\n",
       "      <td>18.448186</td>\n",
       "      <td>-0.001082</td>\n",
       "      <td>-0.000616</td>\n",
       "      <td>-0.001638</td>\n",
       "      <td>-0.504805</td>\n",
       "      <td>-0.000781</td>\n",
       "      <td>-0.054147</td>\n",
       "      <td>-0.429560</td>\n",
       "      <td>-0.724265</td>\n",
       "    </tr>\n",
       "    <tr>\n",
       "      <th>150</th>\n",
       "      <td>1.215505</td>\n",
       "      <td>0.529970</td>\n",
       "      <td>0.309630</td>\n",
       "      <td>0.712083</td>\n",
       "      <td>2.946159</td>\n",
       "      <td>1</td>\n",
       "      <td>10</td>\n",
       "      <td>1</td>\n",
       "      <td>10</td>\n",
       "      <td>48.320095</td>\n",
       "      <td>...</td>\n",
       "      <td>26.473766</td>\n",
       "      <td>30.532808</td>\n",
       "      <td>-0.005581</td>\n",
       "      <td>-0.002263</td>\n",
       "      <td>0.006209</td>\n",
       "      <td>0.000154</td>\n",
       "      <td>-0.000044</td>\n",
       "      <td>-0.001272</td>\n",
       "      <td>0.539491</td>\n",
       "      <td>0.738505</td>\n",
       "    </tr>\n",
       "    <tr>\n",
       "      <th>161</th>\n",
       "      <td>0.281364</td>\n",
       "      <td>1.826692</td>\n",
       "      <td>0.573262</td>\n",
       "      <td>0.287648</td>\n",
       "      <td>3.335559</td>\n",
       "      <td>1</td>\n",
       "      <td>10</td>\n",
       "      <td>1</td>\n",
       "      <td>10</td>\n",
       "      <td>37.798816</td>\n",
       "      <td>...</td>\n",
       "      <td>-0.489866</td>\n",
       "      <td>3.143108</td>\n",
       "      <td>-0.000051</td>\n",
       "      <td>-0.002134</td>\n",
       "      <td>0.001211</td>\n",
       "      <td>-0.001990</td>\n",
       "      <td>0.110368</td>\n",
       "      <td>-0.022747</td>\n",
       "      <td>-0.220830</td>\n",
       "      <td>0.539584</td>\n",
       "    </tr>\n",
       "  </tbody>\n",
       "</table>\n",
       "<p>5 rows × 37 columns</p>\n",
       "</div>"
      ],
      "text/plain": [
       "       wt_cp_sm  wt_cp_ps  wt_cp_mm      rand  aco_angle_1  mva_dm_1  \\\n",
       "entry                                                                  \n",
       "84     1.054828  0.426911  1.284706  0.720768     0.448291         1   \n",
       "112    1.389296  1.375229  0.823178  0.062696     5.195203         1   \n",
       "137    1.746559  0.138269  0.658890  0.528590     6.187443         1   \n",
       "150    1.215505  0.529970  0.309630  0.712083     2.946159         1   \n",
       "161    0.281364  1.826692  0.573262  0.287648     3.335559         1   \n",
       "\n",
       "       mva_dm_2  tau_decay_mode_1  tau_decay_mode_2      pi_E_1  ...  \\\n",
       "entry                                                            ...   \n",
       "84           10                 1                10   62.296712  ...   \n",
       "112          10                 1                10  129.736484  ...   \n",
       "137          10                 1                10   21.586403  ...   \n",
       "150          10                 1                10   48.320095  ...   \n",
       "161          10                 1                10   37.798816  ...   \n",
       "\n",
       "        pi3_pz_2    pi3_E_2    ip_x_1    ip_y_1    ip_z_1    sv_x_2    sv_y_2  \\\n",
       "entry                                                                           \n",
       "84    -21.745945  24.261825 -0.001220  0.000906  0.000485  0.537517  0.513830   \n",
       "112   -30.046129  31.985978  0.000085  0.000676  0.000180 -0.044614 -0.837997   \n",
       "137    -1.955230  18.448186 -0.001082 -0.000616 -0.001638 -0.504805 -0.000781   \n",
       "150    26.473766  30.532808 -0.005581 -0.002263  0.006209  0.000154 -0.000044   \n",
       "161    -0.489866   3.143108 -0.000051 -0.002134  0.001211 -0.001990  0.110368   \n",
       "\n",
       "         sv_z_2     y_1_1     y_1_2  \n",
       "entry                                \n",
       "84    -1.507642  0.521097 -0.756186  \n",
       "112   -2.299997  0.661192 -0.226584  \n",
       "137   -0.054147 -0.429560 -0.724265  \n",
       "150   -0.001272  0.539491  0.738505  \n",
       "161   -0.022747 -0.220830  0.539584  \n",
       "\n",
       "[5 rows x 37 columns]"
      ]
     },
     "execution_count": 7,
     "metadata": {},
     "output_type": "execute_result"
    }
   ],
   "source": [
    "df.head()"
   ]
  },
  {
   "cell_type": "code",
   "execution_count": 26,
   "metadata": {},
   "outputs": [],
   "source": [
    "df.drop(['wt_cp_sm', 'wt_cp_ps', 'wt_cp_mm', 'rand', 'aco_angle_1', 'mva_dm_1', 'mva_dm_2', 'tau_decay_mode_1', 'tau_decay_mode_2'], axis=1, inplace=True)"
   ]
  },
  {
   "cell_type": "code",
   "execution_count": null,
   "metadata": {},
   "outputs": [],
   "source": []
  },
  {
   "cell_type": "markdown",
   "metadata": {},
   "source": [
    "## testing a1_a1 channel"
   ]
  },
  {
   "cell_type": "code",
   "execution_count": 29,
   "metadata": {},
   "outputs": [],
   "source": [
    "df = pd.read_pickle('../shared/df_tt_a1_a1.pkl')"
   ]
  },
  {
   "cell_type": "code",
   "execution_count": 32,
   "metadata": {},
   "outputs": [],
   "source": [
    "df = df[(df['mva_dm_1'] == 10) & (df['mva_dm_2'] == 10)]"
   ]
  },
  {
   "cell_type": "code",
   "execution_count": 31,
   "metadata": {},
   "outputs": [],
   "source": [
    "df = df.loc[~(df['pi_px_1'] == 0)] "
   ]
  },
  {
   "cell_type": "code",
   "execution_count": 33,
   "metadata": {},
   "outputs": [
    {
     "data": {
      "text/html": [
       "<div>\n",
       "<style scoped>\n",
       "    .dataframe tbody tr th:only-of-type {\n",
       "        vertical-align: middle;\n",
       "    }\n",
       "\n",
       "    .dataframe tbody tr th {\n",
       "        vertical-align: top;\n",
       "    }\n",
       "\n",
       "    .dataframe thead th {\n",
       "        text-align: right;\n",
       "    }\n",
       "</style>\n",
       "<table border=\"1\" class=\"dataframe\">\n",
       "  <thead>\n",
       "    <tr style=\"text-align: right;\">\n",
       "      <th></th>\n",
       "      <th>wt_cp_sm</th>\n",
       "      <th>wt_cp_ps</th>\n",
       "      <th>wt_cp_mm</th>\n",
       "      <th>rand</th>\n",
       "      <th>aco_angle_1</th>\n",
       "      <th>mva_dm_1</th>\n",
       "      <th>mva_dm_2</th>\n",
       "      <th>tau_decay_mode_1</th>\n",
       "      <th>tau_decay_mode_2</th>\n",
       "      <th>pi_E_1</th>\n",
       "      <th>...</th>\n",
       "      <th>pi3_pz_2</th>\n",
       "      <th>pi3_E_2</th>\n",
       "      <th>ip_x_1</th>\n",
       "      <th>ip_y_1</th>\n",
       "      <th>ip_z_1</th>\n",
       "      <th>sv_x_2</th>\n",
       "      <th>sv_y_2</th>\n",
       "      <th>sv_z_2</th>\n",
       "      <th>y_1_1</th>\n",
       "      <th>y_1_2</th>\n",
       "    </tr>\n",
       "    <tr>\n",
       "      <th>entry</th>\n",
       "      <th></th>\n",
       "      <th></th>\n",
       "      <th></th>\n",
       "      <th></th>\n",
       "      <th></th>\n",
       "      <th></th>\n",
       "      <th></th>\n",
       "      <th></th>\n",
       "      <th></th>\n",
       "      <th></th>\n",
       "      <th></th>\n",
       "      <th></th>\n",
       "      <th></th>\n",
       "      <th></th>\n",
       "      <th></th>\n",
       "      <th></th>\n",
       "      <th></th>\n",
       "      <th></th>\n",
       "      <th></th>\n",
       "      <th></th>\n",
       "      <th></th>\n",
       "    </tr>\n",
       "  </thead>\n",
       "  <tbody>\n",
       "    <tr>\n",
       "      <th>1</th>\n",
       "      <td>0.370084</td>\n",
       "      <td>1.765682</td>\n",
       "      <td>1.648769</td>\n",
       "      <td>0.604970</td>\n",
       "      <td>6.117143</td>\n",
       "      <td>10</td>\n",
       "      <td>10</td>\n",
       "      <td>10</td>\n",
       "      <td>10</td>\n",
       "      <td>5.463920</td>\n",
       "      <td>...</td>\n",
       "      <td>50.083434</td>\n",
       "      <td>55.283111</td>\n",
       "      <td>0.006238</td>\n",
       "      <td>-0.004234</td>\n",
       "      <td>0.006636</td>\n",
       "      <td>0.224309</td>\n",
       "      <td>0.175644</td>\n",
       "      <td>0.615207</td>\n",
       "      <td>-0.646848</td>\n",
       "      <td>-0.000256</td>\n",
       "    </tr>\n",
       "    <tr>\n",
       "      <th>3</th>\n",
       "      <td>0.203289</td>\n",
       "      <td>1.797292</td>\n",
       "      <td>0.414664</td>\n",
       "      <td>0.092664</td>\n",
       "      <td>3.297071</td>\n",
       "      <td>10</td>\n",
       "      <td>10</td>\n",
       "      <td>10</td>\n",
       "      <td>10</td>\n",
       "      <td>39.206211</td>\n",
       "      <td>...</td>\n",
       "      <td>-17.588130</td>\n",
       "      <td>22.499728</td>\n",
       "      <td>0.012066</td>\n",
       "      <td>0.004882</td>\n",
       "      <td>0.015056</td>\n",
       "      <td>-0.066309</td>\n",
       "      <td>0.058633</td>\n",
       "      <td>-0.109475</td>\n",
       "      <td>0.642559</td>\n",
       "      <td>-0.790142</td>\n",
       "    </tr>\n",
       "    <tr>\n",
       "      <th>12</th>\n",
       "      <td>0.412547</td>\n",
       "      <td>1.816359</td>\n",
       "      <td>1.537121</td>\n",
       "      <td>0.533256</td>\n",
       "      <td>0.924842</td>\n",
       "      <td>10</td>\n",
       "      <td>10</td>\n",
       "      <td>11</td>\n",
       "      <td>10</td>\n",
       "      <td>30.358725</td>\n",
       "      <td>...</td>\n",
       "      <td>1.320237</td>\n",
       "      <td>8.502720</td>\n",
       "      <td>0.004377</td>\n",
       "      <td>0.003232</td>\n",
       "      <td>0.000308</td>\n",
       "      <td>-0.155510</td>\n",
       "      <td>0.175243</td>\n",
       "      <td>0.051742</td>\n",
       "      <td>0.195010</td>\n",
       "      <td>0.344665</td>\n",
       "    </tr>\n",
       "    <tr>\n",
       "      <th>13</th>\n",
       "      <td>1.000000</td>\n",
       "      <td>1.000000</td>\n",
       "      <td>1.000000</td>\n",
       "      <td>0.666072</td>\n",
       "      <td>3.661648</td>\n",
       "      <td>10</td>\n",
       "      <td>10</td>\n",
       "      <td>10</td>\n",
       "      <td>10</td>\n",
       "      <td>19.221223</td>\n",
       "      <td>...</td>\n",
       "      <td>0.152410</td>\n",
       "      <td>3.032439</td>\n",
       "      <td>0.000310</td>\n",
       "      <td>0.001501</td>\n",
       "      <td>-0.000524</td>\n",
       "      <td>-1.102329</td>\n",
       "      <td>-1.106432</td>\n",
       "      <td>0.026094</td>\n",
       "      <td>0.087603</td>\n",
       "      <td>-0.183561</td>\n",
       "    </tr>\n",
       "    <tr>\n",
       "      <th>32</th>\n",
       "      <td>1.000000</td>\n",
       "      <td>1.000000</td>\n",
       "      <td>1.000000</td>\n",
       "      <td>0.960308</td>\n",
       "      <td>4.637460</td>\n",
       "      <td>10</td>\n",
       "      <td>10</td>\n",
       "      <td>10</td>\n",
       "      <td>10</td>\n",
       "      <td>33.953942</td>\n",
       "      <td>...</td>\n",
       "      <td>-0.208569</td>\n",
       "      <td>16.751880</td>\n",
       "      <td>0.000256</td>\n",
       "      <td>-0.000595</td>\n",
       "      <td>-0.009137</td>\n",
       "      <td>-0.056976</td>\n",
       "      <td>0.109527</td>\n",
       "      <td>-0.009077</td>\n",
       "      <td>0.521697</td>\n",
       "      <td>-0.037144</td>\n",
       "    </tr>\n",
       "  </tbody>\n",
       "</table>\n",
       "<p>5 rows × 41 columns</p>\n",
       "</div>"
      ],
      "text/plain": [
       "       wt_cp_sm  wt_cp_ps  wt_cp_mm      rand  aco_angle_1  mva_dm_1  \\\n",
       "entry                                                                  \n",
       "1      0.370084  1.765682  1.648769  0.604970     6.117143        10   \n",
       "3      0.203289  1.797292  0.414664  0.092664     3.297071        10   \n",
       "12     0.412547  1.816359  1.537121  0.533256     0.924842        10   \n",
       "13     1.000000  1.000000  1.000000  0.666072     3.661648        10   \n",
       "32     1.000000  1.000000  1.000000  0.960308     4.637460        10   \n",
       "\n",
       "       mva_dm_2  tau_decay_mode_1  tau_decay_mode_2     pi_E_1  ...  \\\n",
       "entry                                                           ...   \n",
       "1            10                10                10   5.463920  ...   \n",
       "3            10                10                10  39.206211  ...   \n",
       "12           10                11                10  30.358725  ...   \n",
       "13           10                10                10  19.221223  ...   \n",
       "32           10                10                10  33.953942  ...   \n",
       "\n",
       "        pi3_pz_2    pi3_E_2    ip_x_1    ip_y_1    ip_z_1    sv_x_2    sv_y_2  \\\n",
       "entry                                                                           \n",
       "1      50.083434  55.283111  0.006238 -0.004234  0.006636  0.224309  0.175644   \n",
       "3     -17.588130  22.499728  0.012066  0.004882  0.015056 -0.066309  0.058633   \n",
       "12      1.320237   8.502720  0.004377  0.003232  0.000308 -0.155510  0.175243   \n",
       "13      0.152410   3.032439  0.000310  0.001501 -0.000524 -1.102329 -1.106432   \n",
       "32     -0.208569  16.751880  0.000256 -0.000595 -0.009137 -0.056976  0.109527   \n",
       "\n",
       "         sv_z_2     y_1_1     y_1_2  \n",
       "entry                                \n",
       "1      0.615207 -0.646848 -0.000256  \n",
       "3     -0.109475  0.642559 -0.790142  \n",
       "12     0.051742  0.195010  0.344665  \n",
       "13     0.026094  0.087603 -0.183561  \n",
       "32    -0.009077  0.521697 -0.037144  \n",
       "\n",
       "[5 rows x 41 columns]"
      ]
     },
     "execution_count": 33,
     "metadata": {},
     "output_type": "execute_result"
    }
   ],
   "source": [
    "df.head()"
   ]
  },
  {
   "cell_type": "code",
   "execution_count": 35,
   "metadata": {},
   "outputs": [],
   "source": [
    "input_df = np.load('../shared/input_df_reco/input_a1_a1_b.pkl', allow_pickle=True)"
   ]
  },
  {
   "cell_type": "code",
   "execution_count": 37,
   "metadata": {},
   "outputs": [
    {
     "data": {
      "text/plain": [
       "Index(['pi_E_1_br', 'pi_px_1_br', 'pi_py_1_br', 'pi_pz_1_br', 'pi2_E_1_br',\n",
       "       'pi2_px_1_br', 'pi2_py_1_br', 'pi2_pz_1_br', 'pi3_E_1_br',\n",
       "       'pi3_px_1_br', 'pi3_py_1_br', 'pi3_pz_1_br', 'pi_E_2_br', 'pi_px_2_br',\n",
       "       'pi_py_2_br', 'pi_pz_2_br', 'pi2_E_2_br', 'pi2_px_2_br', 'pi2_py_2_br',\n",
       "       'pi2_pz_2_br', 'pi3_E_2_br', 'pi3_px_2_br', 'pi3_py_2_br',\n",
       "       'pi3_pz_2_br', 'rho0_E_1_br', 'rho0_px_1_br', 'rho0_py_1_br',\n",
       "       'rho0_pz_1_br', 'rho02_E_1_br', 'rho02_px_1_br', 'rho02_py_1_br',\n",
       "       'rho02_pz_1_br', 'rho0_E_2_br', 'rho0_px_2_br', 'rho0_py_2_br',\n",
       "       'rho0_pz_2_br', 'rho02_E_2_br', 'rho02_px_2_br', 'rho02_py_2_br',\n",
       "       'rho02_pz_2_br', 'a1_1_E_br', 'a1_1_px_br', 'a1_1_py_br', 'a1_1_pz_br',\n",
       "       'a1_2_E_br', 'a1_2_px_br', 'a1_2_py_br', 'a1_2_pz_br',\n",
       "       'aco_angle_1_calc', 'aco_angle_2_calc', 'aco_angle_3_calc',\n",
       "       'aco_angle_4_calc', 'aco_angle_5_calc', 'aco_angle_6_calc',\n",
       "       'aco_angle_7_calc', 'aco_angle_8_calc', 'aco_angle_9_calc',\n",
       "       'aco_angle_10_calc', 'aco_angle_11_calc', 'aco_angle_12_calc',\n",
       "       'aco_angle_13_calc', 'aco_angle_14_calc', 'aco_angle_15_calc',\n",
       "       'aco_angle_16_calc', 'y_rho0_1', 'y_rho02_1', 'y_rho_2', 'y_rho0_2',\n",
       "       'y_a1_1', 'y_a12_1', 'y_a1_2', 'y_a12_2', 'w_a', 'w_b', 'm_rho0_2',\n",
       "       'm_rho02_2', 'm_a1_1', 'y'],\n",
       "      dtype='object')"
      ]
     },
     "execution_count": 37,
     "metadata": {},
     "output_type": "execute_result"
    }
   ],
   "source": [
    "input_df.columns"
   ]
  },
  {
   "cell_type": "code",
   "execution_count": 61,
   "metadata": {},
   "outputs": [
    {
     "data": {
      "text/plain": [
       "0          4.211137+0.000000j\n",
       "1         12.061194+0.000000j\n",
       "2          2.968458+0.000000j\n",
       "3          2.922806+0.000000j\n",
       "4         18.986805+0.000000j\n",
       "                 ...         \n",
       "356179     6.804251+0.000000j\n",
       "356180    58.282127+0.000000j\n",
       "356181     2.968171+0.000000j\n",
       "356182    21.012172+0.000000j\n",
       "356183    15.369986+0.000000j\n",
       "Name: y_a1_1, Length: 356184, dtype: complex128"
      ]
     },
     "execution_count": 61,
     "metadata": {},
     "output_type": "execute_result"
    }
   ],
   "source": [
    "input_df.y_a1_1"
   ]
  },
  {
   "cell_type": "code",
   "execution_count": 56,
   "metadata": {
    "collapsed": true,
    "jupyter": {
     "outputs_hidden": true
    }
   },
   "outputs": [
    {
     "name": "stdout",
     "output_type": "stream",
     "text": [
      "Loading .root info\n"
     ]
    },
    {
     "ename": "FileNotFoundError",
     "evalue": "[Errno 2] No such file or directory: './df_tt_a1_a1.pkl'",
     "output_type": "error",
     "traceback": [
      "\u001b[1;31m---------------------------------------------------------------------------\u001b[0m",
      "\u001b[1;31mFileNotFoundError\u001b[0m                         Traceback (most recent call last)",
      "\u001b[1;32m<ipython-input-56-7bf8a8e9e9af>\u001b[0m in \u001b[0;36m<module>\u001b[1;34m\u001b[0m\n\u001b[0;32m      4\u001b[0m \u001b[1;32mimport\u001b[0m \u001b[0mconfig\u001b[0m \u001b[1;32mas\u001b[0m \u001b[0mconfig\u001b[0m\u001b[1;33m\u001b[0m\u001b[1;33m\u001b[0m\u001b[0m\n\u001b[0;32m      5\u001b[0m \u001b[0mDL\u001b[0m \u001b[1;33m=\u001b[0m \u001b[0mDataLoader\u001b[0m\u001b[1;33m(\u001b[0m\u001b[0mconfig\u001b[0m\u001b[1;33m.\u001b[0m\u001b[0mvariables_a1_a1\u001b[0m\u001b[1;33m,\u001b[0m \u001b[1;34m'a1_a1'\u001b[0m\u001b[1;33m)\u001b[0m\u001b[1;33m\u001b[0m\u001b[1;33m\u001b[0m\u001b[0m\n\u001b[1;32m----> 6\u001b[1;33m \u001b[0mDL\u001b[0m\u001b[1;33m.\u001b[0m\u001b[0mcreateRecoData\u001b[0m\u001b[1;33m(\u001b[0m\u001b[1;32mTrue\u001b[0m\u001b[1;33m,\u001b[0m \u001b[1;32mTrue\u001b[0m\u001b[1;33m)\u001b[0m\u001b[1;33m\u001b[0m\u001b[1;33m\u001b[0m\u001b[0m\n\u001b[0m",
      "\u001b[1;32mE:\\Documents\\Imperial\\MSci_Project\\MSci-Project-HiggsTauTau\\stanley\\data_loader.py\u001b[0m in \u001b[0;36mcreateRecoData\u001b[1;34m(self, binary, from_pickle, addons)\u001b[0m\n\u001b[0;32m     36\u001b[0m     \u001b[1;32mdef\u001b[0m \u001b[0mcreateRecoData\u001b[0m\u001b[1;33m(\u001b[0m\u001b[0mself\u001b[0m\u001b[1;33m,\u001b[0m \u001b[0mbinary\u001b[0m\u001b[1;33m,\u001b[0m  \u001b[0mfrom_pickle\u001b[0m\u001b[1;33m=\u001b[0m\u001b[1;32mTrue\u001b[0m\u001b[1;33m,\u001b[0m \u001b[0maddons\u001b[0m\u001b[1;33m=\u001b[0m\u001b[1;33m[\u001b[0m\u001b[1;33m]\u001b[0m\u001b[1;33m)\u001b[0m\u001b[1;33m:\u001b[0m\u001b[1;33m\u001b[0m\u001b[1;33m\u001b[0m\u001b[0m\n\u001b[0;32m     37\u001b[0m         \u001b[0mprint\u001b[0m\u001b[1;33m(\u001b[0m\u001b[1;34m'Loading .root info'\u001b[0m\u001b[1;33m)\u001b[0m\u001b[1;33m\u001b[0m\u001b[1;33m\u001b[0m\u001b[0m\n\u001b[1;32m---> 38\u001b[1;33m         \u001b[0mdf\u001b[0m \u001b[1;33m=\u001b[0m \u001b[0mself\u001b[0m\u001b[1;33m.\u001b[0m\u001b[0mreadRecoData\u001b[0m\u001b[1;33m(\u001b[0m\u001b[0mfrom_pickle\u001b[0m\u001b[1;33m=\u001b[0m\u001b[0mfrom_pickle\u001b[0m\u001b[1;33m)\u001b[0m\u001b[1;33m\u001b[0m\u001b[1;33m\u001b[0m\u001b[0m\n\u001b[0m\u001b[0;32m     39\u001b[0m         \u001b[0mprint\u001b[0m\u001b[1;33m(\u001b[0m\u001b[1;34m'Cleaning data'\u001b[0m\u001b[1;33m)\u001b[0m\u001b[1;33m\u001b[0m\u001b[1;33m\u001b[0m\u001b[0m\n\u001b[0;32m     40\u001b[0m         \u001b[0mdf_clean\u001b[0m\u001b[1;33m,\u001b[0m \u001b[0mdf_ps_clean\u001b[0m\u001b[1;33m,\u001b[0m \u001b[0mdf_sm_clean\u001b[0m \u001b[1;33m=\u001b[0m \u001b[0mself\u001b[0m\u001b[1;33m.\u001b[0m\u001b[0mcleanRecoData\u001b[0m\u001b[1;33m(\u001b[0m\u001b[0mdf\u001b[0m\u001b[1;33m)\u001b[0m\u001b[1;33m\u001b[0m\u001b[1;33m\u001b[0m\u001b[0m\n",
      "\u001b[1;32mE:\\Documents\\Imperial\\MSci_Project\\MSci-Project-HiggsTauTau\\stanley\\data_loader.py\u001b[0m in \u001b[0;36mreadRecoData\u001b[1;34m(self, from_pickle)\u001b[0m\n\u001b[0;32m     51\u001b[0m             \u001b[0mdf\u001b[0m\u001b[1;33m.\u001b[0m\u001b[0mto_pickle\u001b[0m\u001b[1;33m(\u001b[0m\u001b[1;34mf\"{self.reco_df_path}_{self.channel}.pkl\"\u001b[0m\u001b[1;33m)\u001b[0m\u001b[1;33m\u001b[0m\u001b[1;33m\u001b[0m\u001b[0m\n\u001b[0;32m     52\u001b[0m         \u001b[1;32melse\u001b[0m\u001b[1;33m:\u001b[0m\u001b[1;33m\u001b[0m\u001b[1;33m\u001b[0m\u001b[0m\n\u001b[1;32m---> 53\u001b[1;33m             \u001b[0mdf\u001b[0m \u001b[1;33m=\u001b[0m \u001b[0mpd\u001b[0m\u001b[1;33m.\u001b[0m\u001b[0mread_pickle\u001b[0m\u001b[1;33m(\u001b[0m\u001b[1;34mf\"{self.reco_df_path}_{self.channel}.pkl\"\u001b[0m\u001b[1;33m)\u001b[0m\u001b[1;33m\u001b[0m\u001b[1;33m\u001b[0m\u001b[0m\n\u001b[0m\u001b[0;32m     54\u001b[0m         \u001b[1;32mreturn\u001b[0m \u001b[0mdf\u001b[0m\u001b[1;33m\u001b[0m\u001b[1;33m\u001b[0m\u001b[0m\n\u001b[0;32m     55\u001b[0m \u001b[1;33m\u001b[0m\u001b[0m\n",
      "\u001b[1;32m~\\.conda\\envs\\msci\\lib\\site-packages\\pandas\\io\\pickle.py\u001b[0m in \u001b[0;36mread_pickle\u001b[1;34m(filepath_or_buffer, compression)\u001b[0m\n\u001b[0;32m    167\u001b[0m     \u001b[1;32mif\u001b[0m \u001b[1;32mnot\u001b[0m \u001b[0misinstance\u001b[0m\u001b[1;33m(\u001b[0m\u001b[0mfp_or_buf\u001b[0m\u001b[1;33m,\u001b[0m \u001b[0mstr\u001b[0m\u001b[1;33m)\u001b[0m \u001b[1;32mand\u001b[0m \u001b[0mcompression\u001b[0m \u001b[1;33m==\u001b[0m \u001b[1;34m\"infer\"\u001b[0m\u001b[1;33m:\u001b[0m\u001b[1;33m\u001b[0m\u001b[1;33m\u001b[0m\u001b[0m\n\u001b[0;32m    168\u001b[0m         \u001b[0mcompression\u001b[0m \u001b[1;33m=\u001b[0m \u001b[1;32mNone\u001b[0m\u001b[1;33m\u001b[0m\u001b[1;33m\u001b[0m\u001b[0m\n\u001b[1;32m--> 169\u001b[1;33m     \u001b[0mf\u001b[0m\u001b[1;33m,\u001b[0m \u001b[0mfh\u001b[0m \u001b[1;33m=\u001b[0m \u001b[0mget_handle\u001b[0m\u001b[1;33m(\u001b[0m\u001b[0mfp_or_buf\u001b[0m\u001b[1;33m,\u001b[0m \u001b[1;34m\"rb\"\u001b[0m\u001b[1;33m,\u001b[0m \u001b[0mcompression\u001b[0m\u001b[1;33m=\u001b[0m\u001b[0mcompression\u001b[0m\u001b[1;33m,\u001b[0m \u001b[0mis_text\u001b[0m\u001b[1;33m=\u001b[0m\u001b[1;32mFalse\u001b[0m\u001b[1;33m)\u001b[0m\u001b[1;33m\u001b[0m\u001b[1;33m\u001b[0m\u001b[0m\n\u001b[0m\u001b[0;32m    170\u001b[0m \u001b[1;33m\u001b[0m\u001b[0m\n\u001b[0;32m    171\u001b[0m     \u001b[1;31m# 1) try standard library Pickle\u001b[0m\u001b[1;33m\u001b[0m\u001b[1;33m\u001b[0m\u001b[1;33m\u001b[0m\u001b[0m\n",
      "\u001b[1;32m~\\.conda\\envs\\msci\\lib\\site-packages\\pandas\\io\\common.py\u001b[0m in \u001b[0;36mget_handle\u001b[1;34m(path_or_buf, mode, encoding, compression, memory_map, is_text, errors)\u001b[0m\n\u001b[0;32m    497\u001b[0m         \u001b[1;32melse\u001b[0m\u001b[1;33m:\u001b[0m\u001b[1;33m\u001b[0m\u001b[1;33m\u001b[0m\u001b[0m\n\u001b[0;32m    498\u001b[0m             \u001b[1;31m# Binary mode\u001b[0m\u001b[1;33m\u001b[0m\u001b[1;33m\u001b[0m\u001b[1;33m\u001b[0m\u001b[0m\n\u001b[1;32m--> 499\u001b[1;33m             \u001b[0mf\u001b[0m \u001b[1;33m=\u001b[0m \u001b[0mopen\u001b[0m\u001b[1;33m(\u001b[0m\u001b[0mpath_or_buf\u001b[0m\u001b[1;33m,\u001b[0m \u001b[0mmode\u001b[0m\u001b[1;33m)\u001b[0m\u001b[1;33m\u001b[0m\u001b[1;33m\u001b[0m\u001b[0m\n\u001b[0m\u001b[0;32m    500\u001b[0m         \u001b[0mhandles\u001b[0m\u001b[1;33m.\u001b[0m\u001b[0mappend\u001b[0m\u001b[1;33m(\u001b[0m\u001b[0mf\u001b[0m\u001b[1;33m)\u001b[0m\u001b[1;33m\u001b[0m\u001b[1;33m\u001b[0m\u001b[0m\n\u001b[0;32m    501\u001b[0m \u001b[1;33m\u001b[0m\u001b[0m\n",
      "\u001b[1;31mFileNotFoundError\u001b[0m: [Errno 2] No such file or directory: './df_tt_a1_a1.pkl'"
     ]
    }
   ],
   "source": [
    "import sys\n",
    "sys.path.append('../shared/')\n",
    "from data_loader import DataLoader\n",
    "import config as config\n",
    "DL = DataLoader(config.variables_a1_a1, 'a1_a1')\n",
    "DL.createRecoData(True, True)"
   ]
  },
  {
   "cell_type": "code",
   "execution_count": 60,
   "metadata": {},
   "outputs": [
    {
     "name": "stderr",
     "output_type": "stream",
     "text": [
      "<ipython-input-60-c2b37df8024a>:24: RuntimeWarning: invalid value encountered in true_divide\n",
      "  y_a1_2 = (rho0_2.e - pi3_2.e) / (a1_2.m**2 - pi3_2.m**2 + rho0_2.m) / (2 * a1_2.m**2)\n",
      "<ipython-input-60-c2b37df8024a>:25: RuntimeWarning: invalid value encountered in true_divide\n",
      "  y_a12_2 = (rho02_2.e - pi2_2.e) / (a1_2.m**2 - pi2_2.m**2 + rho02_2.m) / (2 * a1_2.m**2)\n",
      "<ipython-input-60-c2b37df8024a>:31: RuntimeWarning: invalid value encountered in true_divide\n",
      "  y_rho0_2 = (pi_2.e - pi2_2.e) / (pi_2.e + pi2_2.e)\n",
      "<ipython-input-60-c2b37df8024a>:32: RuntimeWarning: invalid value encountered in true_divide\n",
      "  y_rho02_2 = (pi_2.e - pi3_2.e) / (pi_2.e + pi3_2.e)\n"
     ]
    }
   ],
   "source": [
    "pi_1 = Momentum4(df['pi_E_1'], df[\"pi_px_1\"], df[\"pi_py_1\"], df[\"pi_pz_1\"])\n",
    "pi2_1 = Momentum4(df['pi2_E_1'], df[\"pi2_px_1\"], df[\"pi2_py_1\"], df[\"pi2_pz_1\"])\n",
    "pi3_1 = Momentum4(df['pi3_E_1'], df[\"pi3_px_1\"], df[\"pi3_py_1\"], df[\"pi3_pz_1\"])\n",
    "pi_2 = Momentum4(df['pi_E_2'], df[\"pi_px_2\"], df[\"pi_py_2\"], df[\"pi_pz_2\"])\n",
    "pi2_2 = Momentum4(df['pi2_E_2'], df[\"pi2_px_2\"], df[\"pi2_py_2\"], df[\"pi2_pz_2\"])\n",
    "pi3_2 = Momentum4(df['pi3_E_2'], df[\"pi3_px_2\"], df[\"pi3_py_2\"], df[\"pi3_pz_2\"])\n",
    "a1_1 = pi_1 + pi2_1 + pi3_1\n",
    "a1_2 = pi_2 + pi2_2 + pi3_2\n",
    "rho0_1 = pi_1 + pi2_1\n",
    "rho02_1 = pi_1 + pi3_1\n",
    "rho0_2 = pi_2 + pi2_2\n",
    "rho02_2 = pi_2 + pi3_2\n",
    "rho0_1 = pi_1 + pi2_1\n",
    "rho02_1 = pi_1 + pi3_1\n",
    "rho0_2 = pi_2 + pi2_2\n",
    "rho02_2 = pi_2 + pi3_2\n",
    "a1_1 = rho0_1 + pi3_1\n",
    "a1_2 = rho0_2 + pi3_2\n",
    "# 4 ys from the y_a1 formula due to ambiguities in the 2 a1s\n",
    "# 2 from the first a1\n",
    "y_a1_1 = (rho0_1.e - pi3_1.e) / (a1_1.m**2 - pi3_1.m**2 + rho0_1.m) / (2 * a1_1.m**2)\n",
    "y_a12_1 = (rho02_1.e - pi2_1.e) / (a1_1.m**2 - pi2_1.m**2 + rho02_1.m) / (2 * a1_1.m**2)\n",
    "# 2 from the second a1\n",
    "y_a1_2 = (rho0_2.e - pi3_2.e) / (a1_2.m**2 - pi3_2.m**2 + rho0_2.m) / (2 * a1_2.m**2)\n",
    "y_a12_2 = (rho02_2.e - pi2_2.e) / (a1_2.m**2 - pi2_2.m**2 + rho02_2.m) / (2 * a1_2.m**2)\n",
    "# 4 ys from the y_rho0 due to ambiguities in the 2 rho0s\n",
    "# 2 from the first rho0\n",
    "y_rho0_1 = (pi_1.e - pi2_1.e) / (pi_1.e + pi2_1.e)\n",
    "y_rho02_1 = (pi_1.e - pi3_1.e) / (pi_1.e + pi3_1.e)\n",
    "# 2 from the second rho0\n",
    "y_rho0_2 = (pi_2.e - pi2_2.e) / (pi_2.e + pi2_2.e)\n",
    "y_rho02_2 = (pi_2.e - pi3_2.e) / (pi_2.e + pi3_2.e)"
   ]
  },
  {
   "cell_type": "code",
   "execution_count": 64,
   "metadata": {},
   "outputs": [
    {
     "data": {
      "text/plain": [
       "array([ 1.27951339+0.j,  4.21113741+0.j,  4.75703858+0.j, ...,\n",
       "       21.01217206+0.j, 15.36998612+0.j, 12.63646352+0.j])"
      ]
     },
     "execution_count": 64,
     "metadata": {},
     "output_type": "execute_result"
    }
   ],
   "source": [
    "y_a1_1"
   ]
  },
  {
   "cell_type": "code",
   "execution_count": 67,
   "metadata": {},
   "outputs": [
    {
     "data": {
      "text/plain": [
       "0"
      ]
     },
     "execution_count": 67,
     "metadata": {},
     "output_type": "execute_result"
    }
   ],
   "source": [
    "(a1_1.m==0).sum()"
   ]
  },
  {
   "cell_type": "code",
   "execution_count": 68,
   "metadata": {},
   "outputs": [],
   "source": [
    "y_a1_1 = (rho0_1.e - pi3_1.e) / (rho0_1.e + pi3_1.e) - (a1_1.m**2 - pi3_1.m**2 + rho0_1.m**2) / (2 * a1_1.m**2)"
   ]
  },
  {
   "cell_type": "code",
   "execution_count": 79,
   "metadata": {},
   "outputs": [
    {
     "data": {
      "text/plain": [
       "array([0.13952637+0.j, 0.13952637+0.j, 0.13952637+0.j, ...,\n",
       "       0.13952637+0.j, 0.13952637+0.j, 0.13952637+0.j])"
      ]
     },
     "execution_count": 79,
     "metadata": {},
     "output_type": "execute_result"
    }
   ],
   "source": [
    "pi3_1.m"
   ]
  },
  {
   "cell_type": "code",
   "execution_count": 86,
   "metadata": {},
   "outputs": [
    {
     "data": {
      "text/plain": [
       "862"
      ]
     },
     "execution_count": 86,
     "metadata": {},
     "output_type": "execute_result"
    }
   ],
   "source": [
    "(pi3_1[0]**2-(pi3_1[1]**2+pi3_1[2]**2+pi3_1[3]**2) < 0).sum()"
   ]
  },
  {
   "cell_type": "code",
   "execution_count": 89,
   "metadata": {},
   "outputs": [
    {
     "data": {
      "text/plain": [
       "0"
      ]
     },
     "execution_count": 89,
     "metadata": {},
     "output_type": "execute_result"
    }
   ],
   "source": [
    "(pi3_1[0]<0).sum()"
   ]
  },
  {
   "cell_type": "code",
   "execution_count": null,
   "metadata": {},
   "outputs": [],
   "source": []
  }
 ],
 "metadata": {
  "kernelspec": {
   "display_name": "Python 3",
   "language": "python",
   "name": "python3"
  },
  "language_info": {
   "codemirror_mode": {
    "name": "ipython",
    "version": 3
   },
   "file_extension": ".py",
   "mimetype": "text/x-python",
   "name": "python",
   "nbconvert_exporter": "python",
   "pygments_lexer": "ipython3",
   "version": "3.8.5"
  }
 },
 "nbformat": 4,
 "nbformat_minor": 4
}
