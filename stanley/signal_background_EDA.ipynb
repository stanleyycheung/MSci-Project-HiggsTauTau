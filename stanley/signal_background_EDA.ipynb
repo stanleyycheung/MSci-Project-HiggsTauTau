{
 "cells": [
  {
   "cell_type": "code",
   "execution_count": 50,
   "id": "early-battle",
   "metadata": {},
   "outputs": [],
   "source": [
    "import numpy as np\n",
    "import pandas as pd\n",
    "import matplotlib.pyplot as plt\n",
    "import uproot\n",
    "import xgboost\n",
    "from sklearn.model_selection import train_test_split\n",
    "from sklearn.metrics import classification_report, roc_curve, roc_auc_score, auc\n",
    "from sklearn.preprocessing import label_binarize\n",
    "from sklearn.metrics import confusion_matrix\n",
    "import itertools"
   ]
  },
  {
   "cell_type": "code",
   "execution_count": 2,
   "id": "ahead-editor",
   "metadata": {},
   "outputs": [],
   "source": [
    "path = '/vols/cms/dw515/Offline/output/SM/masters_signal_vs_background_combined/'"
   ]
  },
  {
   "cell_type": "code",
   "execution_count": 3,
   "id": "indoor-insert",
   "metadata": {},
   "outputs": [
    {
     "name": "stdout",
     "output_type": "stream",
     "text": [
      "total 12466911\n",
      "-rw-r--r-- 1 dw515 cms0 3547255399 Mar  1 10:29 VBFH.root\n",
      "-rw-r--r-- 1 dw515 cms0  120669646 Mar  1 10:32 ZTT.root\n",
      "-rw-r--r-- 1 dw515 cms0 6854308226 Mar  1 10:33 fakes.root\n",
      "-rw-r--r-- 1 dw515 cms0 2243882311 Mar  1 10:30 ggH.root\n"
     ]
    }
   ],
   "source": [
    "!ls -l /vols/cms/dw515/Offline/output/SM/masters_signal_vs_background_combined/"
   ]
  },
  {
   "cell_type": "code",
   "execution_count": 4,
   "id": "corporate-manitoba",
   "metadata": {},
   "outputs": [],
   "source": [
    "vbfh_tree = uproot.open(path+'VBFH.root')['ntuple']\n",
    "ztt_tree = uproot.open(path+'ZTT.root')['ntuple']\n",
    "fakes_tree = uproot.open(path+'fakes.root')['ntuple']\n",
    "ggh_tree = uproot.open(path+'ggH.root')['ntuple']"
   ]
  },
  {
   "cell_type": "code",
   "execution_count": 5,
   "id": "metallic-delta",
   "metadata": {},
   "outputs": [
    {
     "data": {
      "text/plain": [
       "[b'genM',\n",
       " b'genpT',\n",
       " b'gen_nu_p_1',\n",
       " b'gen_nu_p_2',\n",
       " b'gen_nu_phi_1',\n",
       " b'gen_nu_phi_2',\n",
       " b'gen_nu_eta_1',\n",
       " b'gen_nu_eta_2',\n",
       " b'gen_vis_p_1',\n",
       " b'gen_vis_p_2',\n",
       " b'gen_vis_E_1',\n",
       " b'gen_vis_E_2',\n",
       " b'gen_vis_phi_1',\n",
       " b'gen_vis_phi_2',\n",
       " b'gen_vis_eta_1',\n",
       " b'gen_vis_eta_2',\n",
       " b'pt_2',\n",
       " b'pt_1',\n",
       " b'iso_1',\n",
       " b'met',\n",
       " b'wt_cp_sm',\n",
       " b'wt_cp_ps',\n",
       " b'wt_cp_mm',\n",
       " b'mva_dm_1',\n",
       " b'mva_dm_2',\n",
       " b'tau_decay_mode_2',\n",
       " b'tau_decay_mode_1',\n",
       " b'trg_singleelectron',\n",
       " b'trg_singlemuon',\n",
       " b'trg_doubletau',\n",
       " b'deepTauVsJets_medium_1',\n",
       " b'deepTauVsJets_medium_2',\n",
       " b'deepTauVsEle_vvloose_1',\n",
       " b'deepTauVsEle_vvloose_2',\n",
       " b'deepTauVsEle_tight_1',\n",
       " b'deepTauVsEle_tight_2',\n",
       " b'deepTauVsMu_vloose_1',\n",
       " b'deepTauVsMu_vloose_2',\n",
       " b'deepTauVsMu_tight_1',\n",
       " b'deepTauVsMu_tight_2',\n",
       " b'aco_angle_1',\n",
       " b'aco_angle_2',\n",
       " b'aco_angle_3',\n",
       " b'aco_angle_4',\n",
       " b'aco_angle_5',\n",
       " b'aco_angle_6',\n",
       " b'aco_angle_7',\n",
       " b'pv_angle',\n",
       " b'mass0',\n",
       " b'mass1',\n",
       " b'mass2',\n",
       " b'ip_sig_1',\n",
       " b'ip_sig_2',\n",
       " b'rand',\n",
       " b'tauFlag_1',\n",
       " b'tauFlag_2',\n",
       " b'gen_phitt',\n",
       " b'y_1_1',\n",
       " b'y_1_2',\n",
       " b'y_2_2',\n",
       " b'y_3_2',\n",
       " b'y_4_2',\n",
       " b'metcov00',\n",
       " b'metcov01',\n",
       " b'metcov10',\n",
       " b'metcov11',\n",
       " b'pi_px_1',\n",
       " b'pi_py_1',\n",
       " b'pi_pz_1',\n",
       " b'pi_E_1',\n",
       " b'pi2_px_1',\n",
       " b'pi2_py_1',\n",
       " b'pi2_pz_1',\n",
       " b'pi2_E_1',\n",
       " b'pi3_px_1',\n",
       " b'pi3_py_1',\n",
       " b'pi3_pz_1',\n",
       " b'pi3_E_1',\n",
       " b'pi_px_2',\n",
       " b'pi_py_2',\n",
       " b'pi_pz_2',\n",
       " b'pi_E_2',\n",
       " b'pi2_px_2',\n",
       " b'pi2_py_2',\n",
       " b'pi2_pz_2',\n",
       " b'pi2_E_2',\n",
       " b'pi3_px_2',\n",
       " b'pi3_py_2',\n",
       " b'pi3_pz_2',\n",
       " b'pi3_E_2',\n",
       " b'pi0_px_1',\n",
       " b'pi0_py_1',\n",
       " b'pi0_pz_1',\n",
       " b'pi0_E_1',\n",
       " b'pi0_px_2',\n",
       " b'pi0_py_2',\n",
       " b'pi0_pz_2',\n",
       " b'pi0_E_2',\n",
       " b'gam1_px_1',\n",
       " b'gam1_py_1',\n",
       " b'gam1_pz_1',\n",
       " b'gam1_E_1',\n",
       " b'gam1_px_2',\n",
       " b'gam1_py_2',\n",
       " b'gam1_pz_2',\n",
       " b'gam1_E_2',\n",
       " b'gam2_px_1',\n",
       " b'gam2_py_1',\n",
       " b'gam2_pz_1',\n",
       " b'gam2_E_1',\n",
       " b'gam2_px_2',\n",
       " b'gam2_py_2',\n",
       " b'gam2_pz_2',\n",
       " b'gam2_E_2',\n",
       " b'gam3_px_1',\n",
       " b'gam3_py_1',\n",
       " b'gam3_pz_1',\n",
       " b'gam3_E_1',\n",
       " b'gam3_px_2',\n",
       " b'gam3_py_2',\n",
       " b'gam3_pz_2',\n",
       " b'gam3_E_2',\n",
       " b'gam4_px_1',\n",
       " b'gam4_py_1',\n",
       " b'gam4_pz_1',\n",
       " b'gam4_E_1',\n",
       " b'gam4_px_2',\n",
       " b'gam4_py_2',\n",
       " b'gam4_pz_2',\n",
       " b'gam4_E_2',\n",
       " b'metx',\n",
       " b'mety',\n",
       " b'ip_x_1',\n",
       " b'ip_y_1',\n",
       " b'ip_z_1',\n",
       " b'ip_x_2',\n",
       " b'ip_y_2',\n",
       " b'ip_z_2',\n",
       " b'sv_x_1',\n",
       " b'sv_y_1',\n",
       " b'sv_z_1',\n",
       " b'sv_x_2',\n",
       " b'sv_y_2',\n",
       " b'sv_z_2',\n",
       " b'ipcov00_1',\n",
       " b'ipcov01_1',\n",
       " b'ipcov02_1',\n",
       " b'ipcov10_1',\n",
       " b'ipcov11_1',\n",
       " b'ipcov12_1',\n",
       " b'ipcov20_1',\n",
       " b'ipcov21_1',\n",
       " b'ipcov22_1',\n",
       " b'ipcov00_2',\n",
       " b'ipcov01_2',\n",
       " b'ipcov02_2',\n",
       " b'ipcov10_2',\n",
       " b'ipcov11_2',\n",
       " b'ipcov12_2',\n",
       " b'ipcov20_2',\n",
       " b'ipcov21_2',\n",
       " b'ipcov22_2',\n",
       " b'svcov00_1',\n",
       " b'svcov01_1',\n",
       " b'svcov02_1',\n",
       " b'svcov10_1',\n",
       " b'svcov11_1',\n",
       " b'svcov12_1',\n",
       " b'svcov20_1',\n",
       " b'svcov21_1',\n",
       " b'svcov22_1',\n",
       " b'svcov00_2',\n",
       " b'svcov01_2',\n",
       " b'svcov02_2',\n",
       " b'svcov10_2',\n",
       " b'svcov11_2',\n",
       " b'svcov12_2',\n",
       " b'svcov20_2',\n",
       " b'svcov21_2',\n",
       " b'svcov22_2',\n",
       " b'met',\n",
       " b'n_jets',\n",
       " b'mjj',\n",
       " b'jpt_1',\n",
       " b'm_vis',\n",
       " b'pt_vis',\n",
       " b'pt_tt',\n",
       " b'iso_2',\n",
       " b'wt',\n",
       " b'os',\n",
       " b'event',\n",
       " b'run',\n",
       " b'lumi',\n",
       " b'svfit_mass']"
      ]
     },
     "execution_count": 5,
     "metadata": {},
     "output_type": "execute_result"
    }
   ],
   "source": [
    "vbfh_tree.keys()"
   ]
  },
  {
   "cell_type": "code",
   "execution_count": 6,
   "id": "apart-casting",
   "metadata": {},
   "outputs": [],
   "source": [
    "variables = ['pt_1','pt_2', 'm_vis','svfit_mass','mjj','jpt_1','pt_tt','met','n_jets','pt_vis','iso_1','iso_2', 'wt']\n",
    "selectors = ['rand', 'wt_cp_sm', 'deepTauVsJets_medium_1', 'deepTauVsJets_medium_2', 'trg_doubletau', 'os']"
   ]
  },
  {
   "cell_type": "code",
   "execution_count": 7,
   "id": "amended-strain",
   "metadata": {},
   "outputs": [],
   "source": [
    "vbfh = vbfh_tree.pandas.df(variables+selectors)\n",
    "ztt = ztt_tree.pandas.df(variables+selectors)\n",
    "fakes = fakes_tree.pandas.df(variables+selectors)\n",
    "ggh = ggh_tree.pandas.df(variables+selectors)"
   ]
  },
  {
   "cell_type": "code",
   "execution_count": 8,
   "id": "enhanced-shakespeare",
   "metadata": {},
   "outputs": [],
   "source": [
    "vbfh = vbfh[vbfh['deepTauVsJets_medium_1'] & vbfh['deepTauVsJets_medium_2'] & vbfh['trg_doubletau'] & vbfh['os']]\n",
    "ztt = ztt[ztt['deepTauVsJets_medium_1'] & ztt['deepTauVsJets_medium_2'] & ztt['trg_doubletau'] & ztt['os']]\n",
    "fakes = fakes[fakes['deepTauVsJets_medium_1'] & fakes['deepTauVsJets_medium_2'] & fakes['trg_doubletau'] & (fakes['os']==0)]\n",
    "ggh = ggh[ggh['deepTauVsJets_medium_1'] & ggh['deepTauVsJets_medium_2'] & ggh['trg_doubletau'] & ggh['os']]"
   ]
  },
  {
   "cell_type": "code",
   "execution_count": 9,
   "id": "stopped-wholesale",
   "metadata": {},
   "outputs": [],
   "source": [
    "vbfh_sm = vbfh[(vbfh[\"rand\"] < vbfh[\"wt_cp_sm\"]/2)]\n",
    "ggh_sm = ggh[(ggh[\"rand\"] < ggh[\"wt_cp_sm\"]/2)]"
   ]
  },
  {
   "cell_type": "code",
   "execution_count": 10,
   "id": "contrary-district",
   "metadata": {},
   "outputs": [
    {
     "name": "stderr",
     "output_type": "stream",
     "text": [
      "/home/hep/shc3117/anaconda3/envs/msci/lib/python3.8/site-packages/pandas/core/indexing.py:1597: SettingWithCopyWarning: \n",
      "A value is trying to be set on a copy of a slice from a DataFrame.\n",
      "Try using .loc[row_indexer,col_indexer] = value instead\n",
      "\n",
      "See the caveats in the documentation: https://pandas.pydata.org/pandas-docs/stable/user_guide/indexing.html#returning-a-view-versus-a-copy\n",
      "  self.obj[key] = value\n",
      "/home/hep/shc3117/anaconda3/envs/msci/lib/python3.8/site-packages/pandas/core/indexing.py:1676: SettingWithCopyWarning: \n",
      "A value is trying to be set on a copy of a slice from a DataFrame.\n",
      "Try using .loc[row_indexer,col_indexer] = value instead\n",
      "\n",
      "See the caveats in the documentation: https://pandas.pydata.org/pandas-docs/stable/user_guide/indexing.html#returning-a-view-versus-a-copy\n",
      "  self._setitem_single_column(ilocs[0], value, pi)\n"
     ]
    }
   ],
   "source": [
    "vbfh_sm.loc[:, 'y'] = np.zeros(vbfh_sm.shape[0])\n",
    "ztt.loc[:, 'y'] = np.ones(ztt.shape[0])\n",
    "fakes.loc[:, 'y'] = np.full((fakes.shape[0],),2.)\n",
    "ggh_sm.loc[:, 'y'] = np.full((ggh_sm.shape[0],),3.)"
   ]
  },
  {
   "cell_type": "code",
   "execution_count": 11,
   "id": "reflected-negative",
   "metadata": {},
   "outputs": [],
   "source": [
    "vbfh_sm = vbfh_sm[(vbfh_sm != -9999).all(1)]\n",
    "ztt = ztt[(ztt != -9999).all(1)]\n",
    "fakes = fakes[(fakes != -9999).all(1)]\n",
    "ggh_sm = ggh_sm[(ggh_sm != -9999).all(1)]"
   ]
  },
  {
   "cell_type": "code",
   "execution_count": 12,
   "id": "photographic-standing",
   "metadata": {},
   "outputs": [
    {
     "data": {
      "text/plain": [
       "count    116239.000000\n",
       "mean          0.860433\n",
       "std           0.326771\n",
       "min          -1.306711\n",
       "25%           0.729219\n",
       "50%           0.899644\n",
       "75%           1.043154\n",
       "max          20.150797\n",
       "Name: wt, dtype: float64"
      ]
     },
     "execution_count": 12,
     "metadata": {},
     "output_type": "execute_result"
    }
   ],
   "source": [
    "ggh_sm.wt.describe()"
   ]
  },
  {
   "cell_type": "code",
   "execution_count": 13,
   "id": "optional-offering",
   "metadata": {},
   "outputs": [],
   "source": [
    "df = pd.concat([vbfh_sm, ztt, fakes, ggh_sm]).reset_index(drop=True)"
   ]
  },
  {
   "cell_type": "code",
   "execution_count": 14,
   "id": "smart-morgan",
   "metadata": {},
   "outputs": [],
   "source": [
    "df = df[(df >= 0).all(1)]"
   ]
  },
  {
   "cell_type": "code",
   "execution_count": 15,
   "id": "infectious-isolation",
   "metadata": {},
   "outputs": [
    {
     "data": {
      "text/html": [
       "<div>\n",
       "<style scoped>\n",
       "    .dataframe tbody tr th:only-of-type {\n",
       "        vertical-align: middle;\n",
       "    }\n",
       "\n",
       "    .dataframe tbody tr th {\n",
       "        vertical-align: top;\n",
       "    }\n",
       "\n",
       "    .dataframe thead th {\n",
       "        text-align: right;\n",
       "    }\n",
       "</style>\n",
       "<table border=\"1\" class=\"dataframe\">\n",
       "  <thead>\n",
       "    <tr style=\"text-align: right;\">\n",
       "      <th></th>\n",
       "      <th>pt_1</th>\n",
       "      <th>pt_2</th>\n",
       "      <th>m_vis</th>\n",
       "      <th>svfit_mass</th>\n",
       "      <th>mjj</th>\n",
       "      <th>jpt_1</th>\n",
       "      <th>pt_tt</th>\n",
       "      <th>met</th>\n",
       "      <th>n_jets</th>\n",
       "      <th>pt_vis</th>\n",
       "      <th>iso_1</th>\n",
       "      <th>iso_2</th>\n",
       "      <th>wt</th>\n",
       "      <th>rand</th>\n",
       "      <th>wt_cp_sm</th>\n",
       "      <th>deepTauVsJets_medium_1</th>\n",
       "      <th>deepTauVsJets_medium_2</th>\n",
       "      <th>trg_doubletau</th>\n",
       "      <th>os</th>\n",
       "      <th>y</th>\n",
       "    </tr>\n",
       "  </thead>\n",
       "  <tbody>\n",
       "    <tr>\n",
       "      <th>0</th>\n",
       "      <td>45.724323</td>\n",
       "      <td>41.521388</td>\n",
       "      <td>55.113260</td>\n",
       "      <td>121.425270</td>\n",
       "      <td>180.883915</td>\n",
       "      <td>174.227469</td>\n",
       "      <td>215.791560</td>\n",
       "      <td>151.278168</td>\n",
       "      <td>1</td>\n",
       "      <td>70.621449</td>\n",
       "      <td>0.998283</td>\n",
       "      <td>0.998022</td>\n",
       "      <td>0.734125</td>\n",
       "      <td>0.239110</td>\n",
       "      <td>0.790528</td>\n",
       "      <td>True</td>\n",
       "      <td>True</td>\n",
       "      <td>True</td>\n",
       "      <td>True</td>\n",
       "      <td>0.0</td>\n",
       "    </tr>\n",
       "    <tr>\n",
       "      <th>1</th>\n",
       "      <td>60.657018</td>\n",
       "      <td>59.239621</td>\n",
       "      <td>60.806931</td>\n",
       "      <td>102.100018</td>\n",
       "      <td>277.772166</td>\n",
       "      <td>299.959394</td>\n",
       "      <td>250.159880</td>\n",
       "      <td>142.520782</td>\n",
       "      <td>3</td>\n",
       "      <td>116.115447</td>\n",
       "      <td>0.919266</td>\n",
       "      <td>0.991346</td>\n",
       "      <td>1.004383</td>\n",
       "      <td>0.403895</td>\n",
       "      <td>1.494004</td>\n",
       "      <td>True</td>\n",
       "      <td>True</td>\n",
       "      <td>True</td>\n",
       "      <td>True</td>\n",
       "      <td>0.0</td>\n",
       "    </tr>\n",
       "    <tr>\n",
       "      <th>2</th>\n",
       "      <td>78.688465</td>\n",
       "      <td>75.486757</td>\n",
       "      <td>94.940505</td>\n",
       "      <td>99.721180</td>\n",
       "      <td>703.192358</td>\n",
       "      <td>210.365066</td>\n",
       "      <td>72.724995</td>\n",
       "      <td>55.960537</td>\n",
       "      <td>3</td>\n",
       "      <td>128.337830</td>\n",
       "      <td>0.986629</td>\n",
       "      <td>0.901483</td>\n",
       "      <td>1.147851</td>\n",
       "      <td>0.681770</td>\n",
       "      <td>1.703910</td>\n",
       "      <td>True</td>\n",
       "      <td>True</td>\n",
       "      <td>True</td>\n",
       "      <td>True</td>\n",
       "      <td>0.0</td>\n",
       "    </tr>\n",
       "    <tr>\n",
       "      <th>3</th>\n",
       "      <td>59.033181</td>\n",
       "      <td>47.371193</td>\n",
       "      <td>88.486321</td>\n",
       "      <td>107.813839</td>\n",
       "      <td>162.315871</td>\n",
       "      <td>96.680242</td>\n",
       "      <td>95.204124</td>\n",
       "      <td>18.772728</td>\n",
       "      <td>3</td>\n",
       "      <td>76.556526</td>\n",
       "      <td>0.998933</td>\n",
       "      <td>0.961375</td>\n",
       "      <td>0.956628</td>\n",
       "      <td>0.119103</td>\n",
       "      <td>1.012532</td>\n",
       "      <td>True</td>\n",
       "      <td>True</td>\n",
       "      <td>True</td>\n",
       "      <td>True</td>\n",
       "      <td>0.0</td>\n",
       "    </tr>\n",
       "    <tr>\n",
       "      <th>4</th>\n",
       "      <td>82.437047</td>\n",
       "      <td>43.187765</td>\n",
       "      <td>75.381079</td>\n",
       "      <td>94.136826</td>\n",
       "      <td>651.621061</td>\n",
       "      <td>354.062372</td>\n",
       "      <td>125.183005</td>\n",
       "      <td>30.044992</td>\n",
       "      <td>7</td>\n",
       "      <td>103.925552</td>\n",
       "      <td>0.998275</td>\n",
       "      <td>0.972116</td>\n",
       "      <td>0.812540</td>\n",
       "      <td>0.026671</td>\n",
       "      <td>1.376144</td>\n",
       "      <td>True</td>\n",
       "      <td>True</td>\n",
       "      <td>True</td>\n",
       "      <td>True</td>\n",
       "      <td>0.0</td>\n",
       "    </tr>\n",
       "  </tbody>\n",
       "</table>\n",
       "</div>"
      ],
      "text/plain": [
       "        pt_1       pt_2      m_vis  svfit_mass         mjj       jpt_1  \\\n",
       "0  45.724323  41.521388  55.113260  121.425270  180.883915  174.227469   \n",
       "1  60.657018  59.239621  60.806931  102.100018  277.772166  299.959394   \n",
       "2  78.688465  75.486757  94.940505   99.721180  703.192358  210.365066   \n",
       "3  59.033181  47.371193  88.486321  107.813839  162.315871   96.680242   \n",
       "4  82.437047  43.187765  75.381079   94.136826  651.621061  354.062372   \n",
       "\n",
       "        pt_tt         met  n_jets      pt_vis     iso_1     iso_2        wt  \\\n",
       "0  215.791560  151.278168       1   70.621449  0.998283  0.998022  0.734125   \n",
       "1  250.159880  142.520782       3  116.115447  0.919266  0.991346  1.004383   \n",
       "2   72.724995   55.960537       3  128.337830  0.986629  0.901483  1.147851   \n",
       "3   95.204124   18.772728       3   76.556526  0.998933  0.961375  0.956628   \n",
       "4  125.183005   30.044992       7  103.925552  0.998275  0.972116  0.812540   \n",
       "\n",
       "       rand  wt_cp_sm  deepTauVsJets_medium_1  deepTauVsJets_medium_2  \\\n",
       "0  0.239110  0.790528                    True                    True   \n",
       "1  0.403895  1.494004                    True                    True   \n",
       "2  0.681770  1.703910                    True                    True   \n",
       "3  0.119103  1.012532                    True                    True   \n",
       "4  0.026671  1.376144                    True                    True   \n",
       "\n",
       "   trg_doubletau    os    y  \n",
       "0           True  True  0.0  \n",
       "1           True  True  0.0  \n",
       "2           True  True  0.0  \n",
       "3           True  True  0.0  \n",
       "4           True  True  0.0  "
      ]
     },
     "execution_count": 15,
     "metadata": {},
     "output_type": "execute_result"
    }
   ],
   "source": [
    "df.head()"
   ]
  },
  {
   "cell_type": "code",
   "execution_count": 16,
   "id": "former-detector",
   "metadata": {},
   "outputs": [
    {
     "data": {
      "text/plain": [
       "539507"
      ]
     },
     "execution_count": 16,
     "metadata": {},
     "output_type": "execute_result"
    }
   ],
   "source": [
    "vbfh_sm.shape[0] + ztt.shape[0] + fakes.shape[0] + ggh_sm.shape[0]"
   ]
  },
  {
   "cell_type": "code",
   "execution_count": 17,
   "id": "acquired-cedar",
   "metadata": {},
   "outputs": [
    {
     "data": {
      "text/html": [
       "<div>\n",
       "<style scoped>\n",
       "    .dataframe tbody tr th:only-of-type {\n",
       "        vertical-align: middle;\n",
       "    }\n",
       "\n",
       "    .dataframe tbody tr th {\n",
       "        vertical-align: top;\n",
       "    }\n",
       "\n",
       "    .dataframe thead th {\n",
       "        text-align: right;\n",
       "    }\n",
       "</style>\n",
       "<table border=\"1\" class=\"dataframe\">\n",
       "  <thead>\n",
       "    <tr style=\"text-align: right;\">\n",
       "      <th></th>\n",
       "      <th>pt_1</th>\n",
       "      <th>pt_2</th>\n",
       "      <th>m_vis</th>\n",
       "      <th>svfit_mass</th>\n",
       "      <th>mjj</th>\n",
       "      <th>jpt_1</th>\n",
       "      <th>pt_tt</th>\n",
       "      <th>met</th>\n",
       "      <th>n_jets</th>\n",
       "      <th>pt_vis</th>\n",
       "      <th>iso_1</th>\n",
       "      <th>iso_2</th>\n",
       "      <th>wt</th>\n",
       "      <th>rand</th>\n",
       "      <th>wt_cp_sm</th>\n",
       "      <th>y</th>\n",
       "    </tr>\n",
       "  </thead>\n",
       "  <tbody>\n",
       "    <tr>\n",
       "      <th>count</th>\n",
       "      <td>537536.000000</td>\n",
       "      <td>537536.000000</td>\n",
       "      <td>537536.000000</td>\n",
       "      <td>537536.000000</td>\n",
       "      <td>537536.000000</td>\n",
       "      <td>537536.000000</td>\n",
       "      <td>537536.000000</td>\n",
       "      <td>537536.000000</td>\n",
       "      <td>537536.000000</td>\n",
       "      <td>537536.000000</td>\n",
       "      <td>537536.000000</td>\n",
       "      <td>537536.000000</td>\n",
       "      <td>537536.000000</td>\n",
       "      <td>5.375360e+05</td>\n",
       "      <td>537536.000000</td>\n",
       "      <td>537536.000000</td>\n",
       "    </tr>\n",
       "    <tr>\n",
       "      <th>mean</th>\n",
       "      <td>84.096061</td>\n",
       "      <td>54.667326</td>\n",
       "      <td>95.203664</td>\n",
       "      <td>120.745583</td>\n",
       "      <td>633.753216</td>\n",
       "      <td>127.376763</td>\n",
       "      <td>130.998937</td>\n",
       "      <td>47.074490</td>\n",
       "      <td>1.931195</td>\n",
       "      <td>101.315241</td>\n",
       "      <td>0.972360</td>\n",
       "      <td>0.969993</td>\n",
       "      <td>0.881034</td>\n",
       "      <td>3.421713e-01</td>\n",
       "      <td>1.151007</td>\n",
       "      <td>0.822207</td>\n",
       "    </tr>\n",
       "    <tr>\n",
       "      <th>std</th>\n",
       "      <td>42.221841</td>\n",
       "      <td>16.612670</td>\n",
       "      <td>31.770028</td>\n",
       "      <td>38.185488</td>\n",
       "      <td>697.896208</td>\n",
       "      <td>91.937690</td>\n",
       "      <td>94.874191</td>\n",
       "      <td>40.601526</td>\n",
       "      <td>1.051112</td>\n",
       "      <td>69.476268</td>\n",
       "      <td>0.028816</td>\n",
       "      <td>0.029487</td>\n",
       "      <td>0.334246</td>\n",
       "      <td>2.431996e-01</td>\n",
       "      <td>0.595361</td>\n",
       "      <td>1.254320</td>\n",
       "    </tr>\n",
       "    <tr>\n",
       "      <th>min</th>\n",
       "      <td>40.048722</td>\n",
       "      <td>40.000017</td>\n",
       "      <td>22.247594</td>\n",
       "      <td>23.882594</td>\n",
       "      <td>10.699818</td>\n",
       "      <td>20.027571</td>\n",
       "      <td>0.129098</td>\n",
       "      <td>0.022058</td>\n",
       "      <td>0.000000</td>\n",
       "      <td>0.089364</td>\n",
       "      <td>0.883479</td>\n",
       "      <td>0.883477</td>\n",
       "      <td>0.001391</td>\n",
       "      <td>5.704351e-08</td>\n",
       "      <td>0.000000</td>\n",
       "      <td>0.000000</td>\n",
       "    </tr>\n",
       "    <tr>\n",
       "      <th>25%</th>\n",
       "      <td>56.908217</td>\n",
       "      <td>43.944041</td>\n",
       "      <td>80.625806</td>\n",
       "      <td>105.183683</td>\n",
       "      <td>138.996533</td>\n",
       "      <td>58.120205</td>\n",
       "      <td>56.511371</td>\n",
       "      <td>20.941267</td>\n",
       "      <td>1.000000</td>\n",
       "      <td>49.799049</td>\n",
       "      <td>0.959021</td>\n",
       "      <td>0.954942</td>\n",
       "      <td>0.756354</td>\n",
       "      <td>1.382656e-01</td>\n",
       "      <td>0.801496</td>\n",
       "      <td>0.000000</td>\n",
       "    </tr>\n",
       "    <tr>\n",
       "      <th>50%</th>\n",
       "      <td>70.971239</td>\n",
       "      <td>49.240626</td>\n",
       "      <td>93.120025</td>\n",
       "      <td>115.903955</td>\n",
       "      <td>390.056118</td>\n",
       "      <td>104.607795</td>\n",
       "      <td>111.914056</td>\n",
       "      <td>35.537766</td>\n",
       "      <td>2.000000</td>\n",
       "      <td>91.439144</td>\n",
       "      <td>0.983733</td>\n",
       "      <td>0.981110</td>\n",
       "      <td>0.939293</td>\n",
       "      <td>3.001945e-01</td>\n",
       "      <td>1.228987</td>\n",
       "      <td>0.000000</td>\n",
       "    </tr>\n",
       "    <tr>\n",
       "      <th>75%</th>\n",
       "      <td>96.318541</td>\n",
       "      <td>59.177765</td>\n",
       "      <td>104.458417</td>\n",
       "      <td>127.257226</td>\n",
       "      <td>876.934637</td>\n",
       "      <td>170.776924</td>\n",
       "      <td>182.183904</td>\n",
       "      <td>59.180223</td>\n",
       "      <td>2.000000</td>\n",
       "      <td>136.528139</td>\n",
       "      <td>0.994467</td>\n",
       "      <td>0.993244</td>\n",
       "      <td>1.059655</td>\n",
       "      <td>5.050570e-01</td>\n",
       "      <td>1.653797</td>\n",
       "      <td>2.000000</td>\n",
       "    </tr>\n",
       "    <tr>\n",
       "      <th>max</th>\n",
       "      <td>868.500085</td>\n",
       "      <td>502.094518</td>\n",
       "      <td>1693.248083</td>\n",
       "      <td>2114.722656</td>\n",
       "      <td>8470.764511</td>\n",
       "      <td>1293.393006</td>\n",
       "      <td>975.723352</td>\n",
       "      <td>814.773254</td>\n",
       "      <td>10.000000</td>\n",
       "      <td>910.518933</td>\n",
       "      <td>0.999984</td>\n",
       "      <td>0.999921</td>\n",
       "      <td>20.150797</td>\n",
       "      <td>9.999979e-01</td>\n",
       "      <td>2.000000</td>\n",
       "      <td>3.000000</td>\n",
       "    </tr>\n",
       "  </tbody>\n",
       "</table>\n",
       "</div>"
      ],
      "text/plain": [
       "                pt_1           pt_2          m_vis     svfit_mass  \\\n",
       "count  537536.000000  537536.000000  537536.000000  537536.000000   \n",
       "mean       84.096061      54.667326      95.203664     120.745583   \n",
       "std        42.221841      16.612670      31.770028      38.185488   \n",
       "min        40.048722      40.000017      22.247594      23.882594   \n",
       "25%        56.908217      43.944041      80.625806     105.183683   \n",
       "50%        70.971239      49.240626      93.120025     115.903955   \n",
       "75%        96.318541      59.177765     104.458417     127.257226   \n",
       "max       868.500085     502.094518    1693.248083    2114.722656   \n",
       "\n",
       "                 mjj          jpt_1          pt_tt            met  \\\n",
       "count  537536.000000  537536.000000  537536.000000  537536.000000   \n",
       "mean      633.753216     127.376763     130.998937      47.074490   \n",
       "std       697.896208      91.937690      94.874191      40.601526   \n",
       "min        10.699818      20.027571       0.129098       0.022058   \n",
       "25%       138.996533      58.120205      56.511371      20.941267   \n",
       "50%       390.056118     104.607795     111.914056      35.537766   \n",
       "75%       876.934637     170.776924     182.183904      59.180223   \n",
       "max      8470.764511    1293.393006     975.723352     814.773254   \n",
       "\n",
       "              n_jets         pt_vis          iso_1          iso_2  \\\n",
       "count  537536.000000  537536.000000  537536.000000  537536.000000   \n",
       "mean        1.931195     101.315241       0.972360       0.969993   \n",
       "std         1.051112      69.476268       0.028816       0.029487   \n",
       "min         0.000000       0.089364       0.883479       0.883477   \n",
       "25%         1.000000      49.799049       0.959021       0.954942   \n",
       "50%         2.000000      91.439144       0.983733       0.981110   \n",
       "75%         2.000000     136.528139       0.994467       0.993244   \n",
       "max        10.000000     910.518933       0.999984       0.999921   \n",
       "\n",
       "                  wt          rand       wt_cp_sm              y  \n",
       "count  537536.000000  5.375360e+05  537536.000000  537536.000000  \n",
       "mean        0.881034  3.421713e-01       1.151007       0.822207  \n",
       "std         0.334246  2.431996e-01       0.595361       1.254320  \n",
       "min         0.001391  5.704351e-08       0.000000       0.000000  \n",
       "25%         0.756354  1.382656e-01       0.801496       0.000000  \n",
       "50%         0.939293  3.001945e-01       1.228987       0.000000  \n",
       "75%         1.059655  5.050570e-01       1.653797       2.000000  \n",
       "max        20.150797  9.999979e-01       2.000000       3.000000  "
      ]
     },
     "execution_count": 17,
     "metadata": {},
     "output_type": "execute_result"
    }
   ],
   "source": [
    "df.describe()"
   ]
  },
  {
   "cell_type": "code",
   "execution_count": 46,
   "id": "beautiful-sister",
   "metadata": {},
   "outputs": [
    {
     "data": {
      "image/png": "[encoded data removed]",
      "text/plain": [
       "<Figure size 576x432 with 1 Axes>"
      ]
     },
     "metadata": {
      "needs_background": "light"
     },
     "output_type": "display_data"
    },
    {
     "data": {
      "image/png": "[encoded data removed]",
      "text/plain": [
       "<Figure size 576x432 with 1 Axes>"
      ]
     },
     "metadata": {
      "needs_background": "light"
     },
     "output_type": "display_data"
    },
    {
     "data": {
      "image/png": "[encoded data removed]",
      "text/plain": [
       "<Figure size 576x432 with 1 Axes>"
      ]
     },
     "metadata": {
      "needs_background": "light"
     },
     "output_type": "display_data"
    },
    {
     "data": {
      "image/png": "[encoded data removed]",
      "text/plain": [
       "<Figure size 576x432 with 1 Axes>"
      ]
     },
     "metadata": {
      "needs_background": "light"
     },
     "output_type": "display_data"
    },
    {
     "data": {
      "image/png": "[encoded data removed]",
      "text/plain": [
       "<Figure size 576x432 with 1 Axes>"
      ]
     },
     "metadata": {
      "needs_background": "light"
     },
     "output_type": "display_data"
    },
    {
     "data": {
      "image/png": "[encoded data removed]",
      "text/plain": [
       "<Figure size 576x432 with 1 Axes>"
      ]
     },
     "metadata": {
      "needs_background": "light"
     },
     "output_type": "display_data"
    },
    {
     "data": {
      "image/png": "[encoded data removed]",
      "text/plain": [
       "<Figure size 576x432 with 1 Axes>"
      ]
     },
     "metadata": {
      "needs_background": "light"
     },
     "output_type": "display_data"
    },
    {
     "data": {
      "image/png": "[encoded data removed]",
      "text/plain": [
       "<Figure size 576x432 with 1 Axes>"
      ]
     },
     "metadata": {
      "needs_background": "light"
     },
     "output_type": "display_data"
    },
    {
     "data": {
      "image/png": "[encoded data removed]",
      "text/plain": [
       "<Figure size 576x432 with 1 Axes>"
      ]
     },
     "metadata": {
      "needs_background": "light"
     },
     "output_type": "display_data"
    },
    {
     "data": {
      "image/png": "[encoded data removed]",
      "text/plain": [
       "<Figure size 576x432 with 1 Axes>"
      ]
     },
     "metadata": {
      "needs_background": "light"
     },
     "output_type": "display_data"
    },
    {
     "data": {
      "image/png": "[encoded data removed]",
      "text/plain": [
       "<Figure size 576x432 with 1 Axes>"
      ]
     },
     "metadata": {
      "needs_background": "light"
     },
     "output_type": "display_data"
    },
    {
     "data": {
      "image/png": "[encoded data removed]",
      "text/plain": [
       "<Figure size 576x432 with 1 Axes>"
      ]
     },
     "metadata": {
      "needs_background": "light"
     },
     "output_type": "display_data"
    },
    {
     "data": {
      "image/png": "[encoded data removed]",
      "text/plain": [
       "<Figure size 576x432 with 1 Axes>"
      ]
     },
     "metadata": {
      "needs_background": "light"
     },
     "output_type": "display_data"
    }
   ],
   "source": [
    "for var in variables:\n",
    "    fig = plt.figure(figsize=(8,6))\n",
    "    plt.hist(vbfh_sm[var], bins=100, alpha=0.5, density=True, label='vbfh')\n",
    "    plt.hist(ztt[var], bins=100, alpha=0.5, density=True, label='ztt')\n",
    "    plt.hist(fakes[var], bins=100, alpha=0.5, density=True, label='fakes')\n",
    "    plt.hist(ggh_sm[var], bins=100, alpha=0.5, density=True, label='ggh')\n",
    "    plt.title(var)\n",
    "    plt.legend()\n",
    "    plt.savefig(f'./signal_background/eda/{var}.png')\n",
    "plt.show()"
   ]
  },
  {
   "cell_type": "code",
   "execution_count": 62,
   "id": "exotic-child",
   "metadata": {},
   "outputs": [
    {
     "data": {
      "image/png": "[encoded data removed]",
      "text/plain": [
       "<Figure size 864x576 with 2 Axes>"
      ]
     },
     "metadata": {
      "needs_background": "light"
     },
     "output_type": "display_data"
    }
   ],
   "source": [
    "import seaborn as sns\n",
    "plt.figure(figsize=(12,8))\n",
    "sns.heatmap(df.drop(selectors, axis=1).corr())\n",
    "plt.show()"
   ]
  },
  {
   "cell_type": "code",
   "execution_count": 45,
   "id": "elder-benjamin",
   "metadata": {},
   "outputs": [
    {
     "name": "stderr",
     "output_type": "stream",
     "text": [
      "/home/hep/shc3117/anaconda3/envs/msci/lib/python3.8/site-packages/seaborn/_decorators.py:36: FutureWarning: Pass the following variable as a keyword arg: x. From version 0.12, the only valid positional argument will be `data`, and passing other arguments without an explicit keyword will result in an error or misinterpretation.\n",
      "  warnings.warn(\n"
     ]
    },
    {
     "data": {
      "image/png": "[encoded data removed]",
      "text/plain": [
       "<Figure size 432x288 with 1 Axes>"
      ]
     },
     "metadata": {
      "needs_background": "light"
     },
     "output_type": "display_data"
    }
   ],
   "source": [
    "sns.countplot(df['y'])\n",
    "plt.savefig('./signal_background/eda/class_count.png')\n",
    "plt.show()"
   ]
  },
  {
   "cell_type": "code",
   "execution_count": 21,
   "id": "acknowledged-pitch",
   "metadata": {},
   "outputs": [],
   "source": [
    "df_1 = df.drop(selectors+['iso_1', 'iso_2'], axis=1)"
   ]
  },
  {
   "cell_type": "code",
   "execution_count": 22,
   "id": "polar-count",
   "metadata": {},
   "outputs": [],
   "source": [
    "# xgb_params = {\n",
    "#     \"objective\": \"multi:softmax\",\n",
    "#     \"max_depth\": 6,\n",
    "#     \"num_classes\": 4,\n",
    "# }\n",
    "xgb_params = {\n",
    "    \"objective\": \"multi:softprob\",\n",
    "    \"max_depth\": 3,\n",
    "    \"learning_rate\": 0.05,\n",
    "    \"silent\": 1,\n",
    "    \"n_estimators\": 1000,\n",
    "    \"subsample\": 0.9,\n",
    "    \"seed\": 123451,\n",
    "}\n",
    "\n",
    "xgb_clf = xgboost.XGBClassifier(**xgb_params)\n",
    "# xgb_clf = xgboost.XGBClassifier()\n"
   ]
  },
  {
   "cell_type": "code",
   "execution_count": 23,
   "id": "announced-thickness",
   "metadata": {},
   "outputs": [],
   "source": [
    "X = df_1.drop(['y', 'wt'], axis=1).to_numpy()\n",
    "y = df_1.y.astype(int)\n",
    "w = df_1.wt\n",
    "X_train, X_test, y_train, y_test, w_train, w_test = train_test_split(X, y, w, test_size=0.2, random_state=1, stratify=df_1.y)"
   ]
  },
  {
   "cell_type": "code",
   "execution_count": 24,
   "id": "iraqi-conservation",
   "metadata": {
    "collapsed": true,
    "jupyter": {
     "outputs_hidden": true
    }
   },
   "outputs": [
    {
     "name": "stderr",
     "output_type": "stream",
     "text": [
      "/home/hep/shc3117/anaconda3/envs/msci/lib/python3.8/site-packages/xgboost/sklearn.py:888: UserWarning: The use of label encoder in XGBClassifier is deprecated and will be removed in a future release. To remove this warning, do the following: 1) Pass option use_label_encoder=False when constructing XGBClassifier object; and 2) Encode your labels (y) as integers starting with 0, i.e. 0, 1, 2, ..., [num_class - 1].\n",
      "  warnings.warn(label_encoder_deprecation_msg, UserWarning)\n"
     ]
    },
    {
     "name": "stdout",
     "output_type": "stream",
     "text": [
      "[08:32:09] WARNING: ../src/learner.cc:541: \n",
      "Parameters: { silent } might not be used.\n",
      "\n",
      "  This may not be accurate due to some parameters are only used in language bindings but\n",
      "  passed down to XGBoost core.  Or some parameters are not used but slip through this\n",
      "  verification. Please open an issue if you find above cases.\n",
      "\n",
      "\n",
      "[0]\tvalidation_0-mlogloss:1.33292\tvalidation_1-mlogloss:1.33303\n",
      "[2]\tvalidation_0-mlogloss:1.24063\tvalidation_1-mlogloss:1.24081\n",
      "[4]\tvalidation_0-mlogloss:1.16305\tvalidation_1-mlogloss:1.16342\n",
      "[6]\tvalidation_0-mlogloss:1.09729\tvalidation_1-mlogloss:1.09771\n",
      "[8]\tvalidation_0-mlogloss:1.04061\tvalidation_1-mlogloss:1.04120\n",
      "[10]\tvalidation_0-mlogloss:0.99158\tvalidation_1-mlogloss:0.99226\n",
      "[12]\tvalidation_0-mlogloss:0.94878\tvalidation_1-mlogloss:0.94960\n",
      "[14]\tvalidation_0-mlogloss:0.91130\tvalidation_1-mlogloss:0.91226\n",
      "[16]\tvalidation_0-mlogloss:0.87842\tvalidation_1-mlogloss:0.87945\n",
      "[18]\tvalidation_0-mlogloss:0.84935\tvalidation_1-mlogloss:0.85049\n",
      "[20]\tvalidation_0-mlogloss:0.82375\tvalidation_1-mlogloss:0.82491\n",
      "[22]\tvalidation_0-mlogloss:0.80085\tvalidation_1-mlogloss:0.80212\n",
      "[24]\tvalidation_0-mlogloss:0.78056\tvalidation_1-mlogloss:0.78189\n",
      "[26]\tvalidation_0-mlogloss:0.76244\tvalidation_1-mlogloss:0.76388\n",
      "[28]\tvalidation_0-mlogloss:0.74631\tvalidation_1-mlogloss:0.74777\n",
      "[30]\tvalidation_0-mlogloss:0.73184\tvalidation_1-mlogloss:0.73337\n",
      "[32]\tvalidation_0-mlogloss:0.71874\tvalidation_1-mlogloss:0.72036\n",
      "[34]\tvalidation_0-mlogloss:0.70719\tvalidation_1-mlogloss:0.70888\n",
      "[36]\tvalidation_0-mlogloss:0.69677\tvalidation_1-mlogloss:0.69853\n",
      "[38]\tvalidation_0-mlogloss:0.68720\tvalidation_1-mlogloss:0.68905\n",
      "[40]\tvalidation_0-mlogloss:0.67870\tvalidation_1-mlogloss:0.68061\n",
      "[42]\tvalidation_0-mlogloss:0.67098\tvalidation_1-mlogloss:0.67297\n",
      "[44]\tvalidation_0-mlogloss:0.66389\tvalidation_1-mlogloss:0.66598\n",
      "[46]\tvalidation_0-mlogloss:0.65759\tvalidation_1-mlogloss:0.65975\n",
      "[48]\tvalidation_0-mlogloss:0.65182\tvalidation_1-mlogloss:0.65408\n",
      "[50]\tvalidation_0-mlogloss:0.64659\tvalidation_1-mlogloss:0.64891\n",
      "[52]\tvalidation_0-mlogloss:0.64186\tvalidation_1-mlogloss:0.64425\n",
      "[54]\tvalidation_0-mlogloss:0.63759\tvalidation_1-mlogloss:0.64004\n",
      "[56]\tvalidation_0-mlogloss:0.63364\tvalidation_1-mlogloss:0.63616\n",
      "[58]\tvalidation_0-mlogloss:0.63011\tvalidation_1-mlogloss:0.63270\n",
      "[60]\tvalidation_0-mlogloss:0.62683\tvalidation_1-mlogloss:0.62946\n",
      "[62]\tvalidation_0-mlogloss:0.62383\tvalidation_1-mlogloss:0.62649\n",
      "[64]\tvalidation_0-mlogloss:0.62109\tvalidation_1-mlogloss:0.62379\n",
      "[66]\tvalidation_0-mlogloss:0.61837\tvalidation_1-mlogloss:0.62110\n",
      "[68]\tvalidation_0-mlogloss:0.61601\tvalidation_1-mlogloss:0.61878\n",
      "[70]\tvalidation_0-mlogloss:0.61379\tvalidation_1-mlogloss:0.61660\n",
      "[72]\tvalidation_0-mlogloss:0.61170\tvalidation_1-mlogloss:0.61456\n",
      "[74]\tvalidation_0-mlogloss:0.60981\tvalidation_1-mlogloss:0.61272\n",
      "[76]\tvalidation_0-mlogloss:0.60801\tvalidation_1-mlogloss:0.61097\n",
      "[78]\tvalidation_0-mlogloss:0.60633\tvalidation_1-mlogloss:0.60933\n",
      "[80]\tvalidation_0-mlogloss:0.60481\tvalidation_1-mlogloss:0.60784\n",
      "[82]\tvalidation_0-mlogloss:0.60337\tvalidation_1-mlogloss:0.60642\n",
      "[84]\tvalidation_0-mlogloss:0.60212\tvalidation_1-mlogloss:0.60520\n",
      "[86]\tvalidation_0-mlogloss:0.60092\tvalidation_1-mlogloss:0.60404\n",
      "[88]\tvalidation_0-mlogloss:0.59969\tvalidation_1-mlogloss:0.60286\n",
      "[90]\tvalidation_0-mlogloss:0.59856\tvalidation_1-mlogloss:0.60176\n",
      "[92]\tvalidation_0-mlogloss:0.59765\tvalidation_1-mlogloss:0.60087\n",
      "[94]\tvalidation_0-mlogloss:0.59666\tvalidation_1-mlogloss:0.59989\n",
      "[96]\tvalidation_0-mlogloss:0.59566\tvalidation_1-mlogloss:0.59891\n",
      "[98]\tvalidation_0-mlogloss:0.59491\tvalidation_1-mlogloss:0.59815\n",
      "[100]\tvalidation_0-mlogloss:0.59415\tvalidation_1-mlogloss:0.59740\n",
      "[102]\tvalidation_0-mlogloss:0.59343\tvalidation_1-mlogloss:0.59668\n",
      "[104]\tvalidation_0-mlogloss:0.59261\tvalidation_1-mlogloss:0.59589\n",
      "[106]\tvalidation_0-mlogloss:0.59192\tvalidation_1-mlogloss:0.59523\n",
      "[108]\tvalidation_0-mlogloss:0.59120\tvalidation_1-mlogloss:0.59454\n",
      "[110]\tvalidation_0-mlogloss:0.59055\tvalidation_1-mlogloss:0.59393\n",
      "[112]\tvalidation_0-mlogloss:0.58988\tvalidation_1-mlogloss:0.59328\n",
      "[114]\tvalidation_0-mlogloss:0.58932\tvalidation_1-mlogloss:0.59275\n",
      "[116]\tvalidation_0-mlogloss:0.58878\tvalidation_1-mlogloss:0.59224\n",
      "[118]\tvalidation_0-mlogloss:0.58822\tvalidation_1-mlogloss:0.59171\n",
      "[120]\tvalidation_0-mlogloss:0.58770\tvalidation_1-mlogloss:0.59121\n",
      "[122]\tvalidation_0-mlogloss:0.58720\tvalidation_1-mlogloss:0.59073\n",
      "[124]\tvalidation_0-mlogloss:0.58681\tvalidation_1-mlogloss:0.59037\n",
      "[126]\tvalidation_0-mlogloss:0.58644\tvalidation_1-mlogloss:0.59002\n",
      "[128]\tvalidation_0-mlogloss:0.58605\tvalidation_1-mlogloss:0.58966\n",
      "[130]\tvalidation_0-mlogloss:0.58569\tvalidation_1-mlogloss:0.58931\n",
      "[132]\tvalidation_0-mlogloss:0.58530\tvalidation_1-mlogloss:0.58895\n",
      "[134]\tvalidation_0-mlogloss:0.58498\tvalidation_1-mlogloss:0.58864\n",
      "[136]\tvalidation_0-mlogloss:0.58468\tvalidation_1-mlogloss:0.58839\n",
      "[138]\tvalidation_0-mlogloss:0.58435\tvalidation_1-mlogloss:0.58807\n",
      "[140]\tvalidation_0-mlogloss:0.58402\tvalidation_1-mlogloss:0.58776\n",
      "[142]\tvalidation_0-mlogloss:0.58374\tvalidation_1-mlogloss:0.58749\n",
      "[144]\tvalidation_0-mlogloss:0.58347\tvalidation_1-mlogloss:0.58725\n",
      "[146]\tvalidation_0-mlogloss:0.58316\tvalidation_1-mlogloss:0.58698\n",
      "[148]\tvalidation_0-mlogloss:0.58290\tvalidation_1-mlogloss:0.58674\n",
      "[150]\tvalidation_0-mlogloss:0.58261\tvalidation_1-mlogloss:0.58647\n",
      "[152]\tvalidation_0-mlogloss:0.58241\tvalidation_1-mlogloss:0.58629\n",
      "[154]\tvalidation_0-mlogloss:0.58218\tvalidation_1-mlogloss:0.58608\n",
      "[156]\tvalidation_0-mlogloss:0.58195\tvalidation_1-mlogloss:0.58587\n",
      "[158]\tvalidation_0-mlogloss:0.58169\tvalidation_1-mlogloss:0.58563\n",
      "[160]\tvalidation_0-mlogloss:0.58147\tvalidation_1-mlogloss:0.58543\n",
      "[162]\tvalidation_0-mlogloss:0.58130\tvalidation_1-mlogloss:0.58527\n",
      "[164]\tvalidation_0-mlogloss:0.58113\tvalidation_1-mlogloss:0.58512\n",
      "[166]\tvalidation_0-mlogloss:0.58095\tvalidation_1-mlogloss:0.58497\n",
      "[168]\tvalidation_0-mlogloss:0.58073\tvalidation_1-mlogloss:0.58477\n",
      "[170]\tvalidation_0-mlogloss:0.58050\tvalidation_1-mlogloss:0.58455\n",
      "[172]\tvalidation_0-mlogloss:0.58034\tvalidation_1-mlogloss:0.58441\n",
      "[174]\tvalidation_0-mlogloss:0.58016\tvalidation_1-mlogloss:0.58425\n",
      "[176]\tvalidation_0-mlogloss:0.57997\tvalidation_1-mlogloss:0.58409\n",
      "[178]\tvalidation_0-mlogloss:0.57975\tvalidation_1-mlogloss:0.58390\n",
      "[180]\tvalidation_0-mlogloss:0.57956\tvalidation_1-mlogloss:0.58373\n",
      "[182]\tvalidation_0-mlogloss:0.57942\tvalidation_1-mlogloss:0.58360\n",
      "[184]\tvalidation_0-mlogloss:0.57925\tvalidation_1-mlogloss:0.58345\n",
      "[186]\tvalidation_0-mlogloss:0.57909\tvalidation_1-mlogloss:0.58332\n",
      "[188]\tvalidation_0-mlogloss:0.57889\tvalidation_1-mlogloss:0.58314\n",
      "[190]\tvalidation_0-mlogloss:0.57875\tvalidation_1-mlogloss:0.58302\n",
      "[192]\tvalidation_0-mlogloss:0.57859\tvalidation_1-mlogloss:0.58289\n",
      "[194]\tvalidation_0-mlogloss:0.57845\tvalidation_1-mlogloss:0.58276\n",
      "[196]\tvalidation_0-mlogloss:0.57831\tvalidation_1-mlogloss:0.58264\n",
      "[198]\tvalidation_0-mlogloss:0.57819\tvalidation_1-mlogloss:0.58255\n",
      "[200]\tvalidation_0-mlogloss:0.57802\tvalidation_1-mlogloss:0.58242\n",
      "[202]\tvalidation_0-mlogloss:0.57790\tvalidation_1-mlogloss:0.58232\n",
      "[204]\tvalidation_0-mlogloss:0.57776\tvalidation_1-mlogloss:0.58220\n",
      "[206]\tvalidation_0-mlogloss:0.57767\tvalidation_1-mlogloss:0.58213\n",
      "[208]\tvalidation_0-mlogloss:0.57759\tvalidation_1-mlogloss:0.58207\n",
      "[210]\tvalidation_0-mlogloss:0.57744\tvalidation_1-mlogloss:0.58195\n",
      "[212]\tvalidation_0-mlogloss:0.57733\tvalidation_1-mlogloss:0.58186\n",
      "[214]\tvalidation_0-mlogloss:0.57720\tvalidation_1-mlogloss:0.58175\n",
      "[216]\tvalidation_0-mlogloss:0.57713\tvalidation_1-mlogloss:0.58170\n",
      "[218]\tvalidation_0-mlogloss:0.57700\tvalidation_1-mlogloss:0.58159\n",
      "[220]\tvalidation_0-mlogloss:0.57690\tvalidation_1-mlogloss:0.58153\n",
      "[222]\tvalidation_0-mlogloss:0.57675\tvalidation_1-mlogloss:0.58141\n",
      "[224]\tvalidation_0-mlogloss:0.57666\tvalidation_1-mlogloss:0.58134\n",
      "[226]\tvalidation_0-mlogloss:0.57654\tvalidation_1-mlogloss:0.58123\n",
      "[228]\tvalidation_0-mlogloss:0.57644\tvalidation_1-mlogloss:0.58115\n",
      "[230]\tvalidation_0-mlogloss:0.57632\tvalidation_1-mlogloss:0.58106\n",
      "[232]\tvalidation_0-mlogloss:0.57620\tvalidation_1-mlogloss:0.58096\n",
      "[234]\tvalidation_0-mlogloss:0.57609\tvalidation_1-mlogloss:0.58088\n",
      "[236]\tvalidation_0-mlogloss:0.57598\tvalidation_1-mlogloss:0.58080\n",
      "[238]\tvalidation_0-mlogloss:0.57592\tvalidation_1-mlogloss:0.58077\n",
      "[240]\tvalidation_0-mlogloss:0.57585\tvalidation_1-mlogloss:0.58071\n",
      "[242]\tvalidation_0-mlogloss:0.57574\tvalidation_1-mlogloss:0.58062\n",
      "[244]\tvalidation_0-mlogloss:0.57565\tvalidation_1-mlogloss:0.58055\n",
      "[246]\tvalidation_0-mlogloss:0.57558\tvalidation_1-mlogloss:0.58049\n",
      "[248]\tvalidation_0-mlogloss:0.57550\tvalidation_1-mlogloss:0.58044\n",
      "[250]\tvalidation_0-mlogloss:0.57542\tvalidation_1-mlogloss:0.58038\n",
      "[252]\tvalidation_0-mlogloss:0.57531\tvalidation_1-mlogloss:0.58028\n",
      "[254]\tvalidation_0-mlogloss:0.57522\tvalidation_1-mlogloss:0.58022\n",
      "[256]\tvalidation_0-mlogloss:0.57516\tvalidation_1-mlogloss:0.58017\n",
      "[258]\tvalidation_0-mlogloss:0.57508\tvalidation_1-mlogloss:0.58012\n",
      "[260]\tvalidation_0-mlogloss:0.57500\tvalidation_1-mlogloss:0.58006\n",
      "[262]\tvalidation_0-mlogloss:0.57492\tvalidation_1-mlogloss:0.58000\n",
      "[264]\tvalidation_0-mlogloss:0.57483\tvalidation_1-mlogloss:0.57993\n",
      "[266]\tvalidation_0-mlogloss:0.57472\tvalidation_1-mlogloss:0.57985\n",
      "[268]\tvalidation_0-mlogloss:0.57460\tvalidation_1-mlogloss:0.57975\n",
      "[270]\tvalidation_0-mlogloss:0.57453\tvalidation_1-mlogloss:0.57970\n",
      "[272]\tvalidation_0-mlogloss:0.57447\tvalidation_1-mlogloss:0.57966\n",
      "[274]\tvalidation_0-mlogloss:0.57436\tvalidation_1-mlogloss:0.57958\n",
      "[276]\tvalidation_0-mlogloss:0.57426\tvalidation_1-mlogloss:0.57950\n",
      "[278]\tvalidation_0-mlogloss:0.57419\tvalidation_1-mlogloss:0.57945\n",
      "[280]\tvalidation_0-mlogloss:0.57410\tvalidation_1-mlogloss:0.57937\n",
      "[282]\tvalidation_0-mlogloss:0.57401\tvalidation_1-mlogloss:0.57930\n",
      "[284]\tvalidation_0-mlogloss:0.57393\tvalidation_1-mlogloss:0.57924\n",
      "[286]\tvalidation_0-mlogloss:0.57385\tvalidation_1-mlogloss:0.57917\n",
      "[288]\tvalidation_0-mlogloss:0.57380\tvalidation_1-mlogloss:0.57914\n",
      "[290]\tvalidation_0-mlogloss:0.57375\tvalidation_1-mlogloss:0.57911\n",
      "[292]\tvalidation_0-mlogloss:0.57368\tvalidation_1-mlogloss:0.57906\n",
      "[294]\tvalidation_0-mlogloss:0.57359\tvalidation_1-mlogloss:0.57899\n",
      "[296]\tvalidation_0-mlogloss:0.57352\tvalidation_1-mlogloss:0.57895\n",
      "[298]\tvalidation_0-mlogloss:0.57345\tvalidation_1-mlogloss:0.57890\n",
      "[300]\tvalidation_0-mlogloss:0.57337\tvalidation_1-mlogloss:0.57883\n",
      "[302]\tvalidation_0-mlogloss:0.57328\tvalidation_1-mlogloss:0.57877\n",
      "[304]\tvalidation_0-mlogloss:0.57322\tvalidation_1-mlogloss:0.57872\n",
      "[306]\tvalidation_0-mlogloss:0.57314\tvalidation_1-mlogloss:0.57866\n",
      "[308]\tvalidation_0-mlogloss:0.57308\tvalidation_1-mlogloss:0.57862\n",
      "[310]\tvalidation_0-mlogloss:0.57299\tvalidation_1-mlogloss:0.57855\n",
      "[312]\tvalidation_0-mlogloss:0.57293\tvalidation_1-mlogloss:0.57850\n",
      "[314]\tvalidation_0-mlogloss:0.57284\tvalidation_1-mlogloss:0.57842\n",
      "[316]\tvalidation_0-mlogloss:0.57277\tvalidation_1-mlogloss:0.57836\n",
      "[318]\tvalidation_0-mlogloss:0.57270\tvalidation_1-mlogloss:0.57832\n",
      "[320]\tvalidation_0-mlogloss:0.57263\tvalidation_1-mlogloss:0.57827\n",
      "[322]\tvalidation_0-mlogloss:0.57257\tvalidation_1-mlogloss:0.57823\n",
      "[324]\tvalidation_0-mlogloss:0.57251\tvalidation_1-mlogloss:0.57819\n",
      "[326]\tvalidation_0-mlogloss:0.57244\tvalidation_1-mlogloss:0.57813\n",
      "[328]\tvalidation_0-mlogloss:0.57239\tvalidation_1-mlogloss:0.57810\n",
      "[330]\tvalidation_0-mlogloss:0.57234\tvalidation_1-mlogloss:0.57807\n",
      "[332]\tvalidation_0-mlogloss:0.57227\tvalidation_1-mlogloss:0.57801\n",
      "[334]\tvalidation_0-mlogloss:0.57220\tvalidation_1-mlogloss:0.57796\n",
      "[336]\tvalidation_0-mlogloss:0.57213\tvalidation_1-mlogloss:0.57791\n",
      "[338]\tvalidation_0-mlogloss:0.57202\tvalidation_1-mlogloss:0.57782\n",
      "[340]\tvalidation_0-mlogloss:0.57196\tvalidation_1-mlogloss:0.57778\n",
      "[342]\tvalidation_0-mlogloss:0.57190\tvalidation_1-mlogloss:0.57774\n",
      "[344]\tvalidation_0-mlogloss:0.57183\tvalidation_1-mlogloss:0.57767\n",
      "[346]\tvalidation_0-mlogloss:0.57177\tvalidation_1-mlogloss:0.57763\n",
      "[348]\tvalidation_0-mlogloss:0.57170\tvalidation_1-mlogloss:0.57759\n",
      "[350]\tvalidation_0-mlogloss:0.57166\tvalidation_1-mlogloss:0.57756\n",
      "[352]\tvalidation_0-mlogloss:0.57158\tvalidation_1-mlogloss:0.57751\n",
      "[354]\tvalidation_0-mlogloss:0.57150\tvalidation_1-mlogloss:0.57745\n",
      "[356]\tvalidation_0-mlogloss:0.57142\tvalidation_1-mlogloss:0.57739\n",
      "[358]\tvalidation_0-mlogloss:0.57135\tvalidation_1-mlogloss:0.57734\n",
      "[360]\tvalidation_0-mlogloss:0.57129\tvalidation_1-mlogloss:0.57730\n",
      "[362]\tvalidation_0-mlogloss:0.57123\tvalidation_1-mlogloss:0.57725\n",
      "[364]\tvalidation_0-mlogloss:0.57118\tvalidation_1-mlogloss:0.57722\n",
      "[366]\tvalidation_0-mlogloss:0.57113\tvalidation_1-mlogloss:0.57719\n",
      "[368]\tvalidation_0-mlogloss:0.57107\tvalidation_1-mlogloss:0.57716\n",
      "[370]\tvalidation_0-mlogloss:0.57102\tvalidation_1-mlogloss:0.57713\n",
      "[372]\tvalidation_0-mlogloss:0.57095\tvalidation_1-mlogloss:0.57708\n",
      "[374]\tvalidation_0-mlogloss:0.57090\tvalidation_1-mlogloss:0.57703\n",
      "[376]\tvalidation_0-mlogloss:0.57083\tvalidation_1-mlogloss:0.57699\n",
      "[378]\tvalidation_0-mlogloss:0.57078\tvalidation_1-mlogloss:0.57694\n",
      "[380]\tvalidation_0-mlogloss:0.57071\tvalidation_1-mlogloss:0.57689\n",
      "[382]\tvalidation_0-mlogloss:0.57066\tvalidation_1-mlogloss:0.57684\n",
      "[384]\tvalidation_0-mlogloss:0.57061\tvalidation_1-mlogloss:0.57680\n",
      "[386]\tvalidation_0-mlogloss:0.57057\tvalidation_1-mlogloss:0.57678\n",
      "[388]\tvalidation_0-mlogloss:0.57053\tvalidation_1-mlogloss:0.57676\n",
      "[390]\tvalidation_0-mlogloss:0.57048\tvalidation_1-mlogloss:0.57672\n",
      "[392]\tvalidation_0-mlogloss:0.57045\tvalidation_1-mlogloss:0.57671\n",
      "[394]\tvalidation_0-mlogloss:0.57038\tvalidation_1-mlogloss:0.57666\n",
      "[396]\tvalidation_0-mlogloss:0.57032\tvalidation_1-mlogloss:0.57661\n",
      "[398]\tvalidation_0-mlogloss:0.57027\tvalidation_1-mlogloss:0.57659\n",
      "[400]\tvalidation_0-mlogloss:0.57023\tvalidation_1-mlogloss:0.57656\n",
      "[402]\tvalidation_0-mlogloss:0.57016\tvalidation_1-mlogloss:0.57652\n",
      "[404]\tvalidation_0-mlogloss:0.57010\tvalidation_1-mlogloss:0.57648\n",
      "[406]\tvalidation_0-mlogloss:0.57005\tvalidation_1-mlogloss:0.57644\n",
      "[408]\tvalidation_0-mlogloss:0.57000\tvalidation_1-mlogloss:0.57640\n",
      "[410]\tvalidation_0-mlogloss:0.56994\tvalidation_1-mlogloss:0.57635\n",
      "[412]\tvalidation_0-mlogloss:0.56989\tvalidation_1-mlogloss:0.57631\n",
      "[414]\tvalidation_0-mlogloss:0.56985\tvalidation_1-mlogloss:0.57628\n",
      "[416]\tvalidation_0-mlogloss:0.56980\tvalidation_1-mlogloss:0.57626\n",
      "[418]\tvalidation_0-mlogloss:0.56976\tvalidation_1-mlogloss:0.57623\n",
      "[420]\tvalidation_0-mlogloss:0.56972\tvalidation_1-mlogloss:0.57621\n",
      "[422]\tvalidation_0-mlogloss:0.56966\tvalidation_1-mlogloss:0.57617\n",
      "[424]\tvalidation_0-mlogloss:0.56962\tvalidation_1-mlogloss:0.57614\n",
      "[426]\tvalidation_0-mlogloss:0.56959\tvalidation_1-mlogloss:0.57612\n",
      "[428]\tvalidation_0-mlogloss:0.56955\tvalidation_1-mlogloss:0.57609\n",
      "[430]\tvalidation_0-mlogloss:0.56949\tvalidation_1-mlogloss:0.57604\n",
      "[432]\tvalidation_0-mlogloss:0.56944\tvalidation_1-mlogloss:0.57600\n",
      "[434]\tvalidation_0-mlogloss:0.56940\tvalidation_1-mlogloss:0.57598\n",
      "[436]\tvalidation_0-mlogloss:0.56936\tvalidation_1-mlogloss:0.57596\n",
      "[438]\tvalidation_0-mlogloss:0.56932\tvalidation_1-mlogloss:0.57593\n",
      "[440]\tvalidation_0-mlogloss:0.56927\tvalidation_1-mlogloss:0.57590\n",
      "[442]\tvalidation_0-mlogloss:0.56923\tvalidation_1-mlogloss:0.57587\n",
      "[444]\tvalidation_0-mlogloss:0.56917\tvalidation_1-mlogloss:0.57583\n",
      "[446]\tvalidation_0-mlogloss:0.56913\tvalidation_1-mlogloss:0.57580\n",
      "[448]\tvalidation_0-mlogloss:0.56909\tvalidation_1-mlogloss:0.57578\n",
      "[450]\tvalidation_0-mlogloss:0.56906\tvalidation_1-mlogloss:0.57576\n",
      "[452]\tvalidation_0-mlogloss:0.56903\tvalidation_1-mlogloss:0.57574\n",
      "[454]\tvalidation_0-mlogloss:0.56899\tvalidation_1-mlogloss:0.57571\n",
      "[456]\tvalidation_0-mlogloss:0.56895\tvalidation_1-mlogloss:0.57570\n",
      "[458]\tvalidation_0-mlogloss:0.56890\tvalidation_1-mlogloss:0.57565\n",
      "[460]\tvalidation_0-mlogloss:0.56883\tvalidation_1-mlogloss:0.57560\n",
      "[462]\tvalidation_0-mlogloss:0.56880\tvalidation_1-mlogloss:0.57559\n",
      "[464]\tvalidation_0-mlogloss:0.56876\tvalidation_1-mlogloss:0.57556\n",
      "[466]\tvalidation_0-mlogloss:0.56872\tvalidation_1-mlogloss:0.57554\n",
      "[468]\tvalidation_0-mlogloss:0.56868\tvalidation_1-mlogloss:0.57551\n",
      "[470]\tvalidation_0-mlogloss:0.56863\tvalidation_1-mlogloss:0.57548\n",
      "[472]\tvalidation_0-mlogloss:0.56857\tvalidation_1-mlogloss:0.57544\n",
      "[474]\tvalidation_0-mlogloss:0.56854\tvalidation_1-mlogloss:0.57542\n",
      "[476]\tvalidation_0-mlogloss:0.56850\tvalidation_1-mlogloss:0.57540\n",
      "[478]\tvalidation_0-mlogloss:0.56846\tvalidation_1-mlogloss:0.57537\n",
      "[480]\tvalidation_0-mlogloss:0.56841\tvalidation_1-mlogloss:0.57533\n",
      "[482]\tvalidation_0-mlogloss:0.56837\tvalidation_1-mlogloss:0.57530\n",
      "[484]\tvalidation_0-mlogloss:0.56832\tvalidation_1-mlogloss:0.57527\n",
      "[486]\tvalidation_0-mlogloss:0.56829\tvalidation_1-mlogloss:0.57525\n",
      "[488]\tvalidation_0-mlogloss:0.56825\tvalidation_1-mlogloss:0.57523\n",
      "[490]\tvalidation_0-mlogloss:0.56820\tvalidation_1-mlogloss:0.57519\n",
      "[492]\tvalidation_0-mlogloss:0.56817\tvalidation_1-mlogloss:0.57517\n",
      "[494]\tvalidation_0-mlogloss:0.56814\tvalidation_1-mlogloss:0.57516\n",
      "[496]\tvalidation_0-mlogloss:0.56812\tvalidation_1-mlogloss:0.57515\n",
      "[498]\tvalidation_0-mlogloss:0.56808\tvalidation_1-mlogloss:0.57513\n",
      "[500]\tvalidation_0-mlogloss:0.56803\tvalidation_1-mlogloss:0.57509\n",
      "[502]\tvalidation_0-mlogloss:0.56798\tvalidation_1-mlogloss:0.57505\n",
      "[504]\tvalidation_0-mlogloss:0.56795\tvalidation_1-mlogloss:0.57505\n",
      "[506]\tvalidation_0-mlogloss:0.56793\tvalidation_1-mlogloss:0.57503\n",
      "[508]\tvalidation_0-mlogloss:0.56789\tvalidation_1-mlogloss:0.57502\n",
      "[510]\tvalidation_0-mlogloss:0.56787\tvalidation_1-mlogloss:0.57501\n",
      "[512]\tvalidation_0-mlogloss:0.56784\tvalidation_1-mlogloss:0.57499\n",
      "[514]\tvalidation_0-mlogloss:0.56780\tvalidation_1-mlogloss:0.57496\n",
      "[516]\tvalidation_0-mlogloss:0.56777\tvalidation_1-mlogloss:0.57494\n",
      "[518]\tvalidation_0-mlogloss:0.56772\tvalidation_1-mlogloss:0.57491\n",
      "[520]\tvalidation_0-mlogloss:0.56768\tvalidation_1-mlogloss:0.57489\n",
      "[522]\tvalidation_0-mlogloss:0.56764\tvalidation_1-mlogloss:0.57486\n",
      "[524]\tvalidation_0-mlogloss:0.56761\tvalidation_1-mlogloss:0.57485\n",
      "[526]\tvalidation_0-mlogloss:0.56756\tvalidation_1-mlogloss:0.57480\n",
      "[528]\tvalidation_0-mlogloss:0.56753\tvalidation_1-mlogloss:0.57479\n",
      "[530]\tvalidation_0-mlogloss:0.56748\tvalidation_1-mlogloss:0.57476\n",
      "[532]\tvalidation_0-mlogloss:0.56743\tvalidation_1-mlogloss:0.57473\n",
      "[534]\tvalidation_0-mlogloss:0.56737\tvalidation_1-mlogloss:0.57469\n",
      "[536]\tvalidation_0-mlogloss:0.56733\tvalidation_1-mlogloss:0.57467\n",
      "[538]\tvalidation_0-mlogloss:0.56730\tvalidation_1-mlogloss:0.57466\n",
      "[540]\tvalidation_0-mlogloss:0.56726\tvalidation_1-mlogloss:0.57463\n",
      "[542]\tvalidation_0-mlogloss:0.56722\tvalidation_1-mlogloss:0.57461\n",
      "[544]\tvalidation_0-mlogloss:0.56719\tvalidation_1-mlogloss:0.57459\n",
      "[546]\tvalidation_0-mlogloss:0.56716\tvalidation_1-mlogloss:0.57458\n",
      "[548]\tvalidation_0-mlogloss:0.56712\tvalidation_1-mlogloss:0.57457\n",
      "[550]\tvalidation_0-mlogloss:0.56708\tvalidation_1-mlogloss:0.57454\n",
      "[552]\tvalidation_0-mlogloss:0.56705\tvalidation_1-mlogloss:0.57451\n",
      "[554]\tvalidation_0-mlogloss:0.56702\tvalidation_1-mlogloss:0.57450\n",
      "[556]\tvalidation_0-mlogloss:0.56700\tvalidation_1-mlogloss:0.57449\n",
      "[558]\tvalidation_0-mlogloss:0.56697\tvalidation_1-mlogloss:0.57448\n",
      "[560]\tvalidation_0-mlogloss:0.56693\tvalidation_1-mlogloss:0.57445\n",
      "[562]\tvalidation_0-mlogloss:0.56688\tvalidation_1-mlogloss:0.57442\n",
      "[564]\tvalidation_0-mlogloss:0.56686\tvalidation_1-mlogloss:0.57441\n",
      "[566]\tvalidation_0-mlogloss:0.56683\tvalidation_1-mlogloss:0.57439\n",
      "[568]\tvalidation_0-mlogloss:0.56680\tvalidation_1-mlogloss:0.57438\n",
      "[570]\tvalidation_0-mlogloss:0.56677\tvalidation_1-mlogloss:0.57437\n",
      "[572]\tvalidation_0-mlogloss:0.56674\tvalidation_1-mlogloss:0.57435\n",
      "[574]\tvalidation_0-mlogloss:0.56672\tvalidation_1-mlogloss:0.57436\n",
      "[576]\tvalidation_0-mlogloss:0.56671\tvalidation_1-mlogloss:0.57436\n",
      "[578]\tvalidation_0-mlogloss:0.56668\tvalidation_1-mlogloss:0.57435\n",
      "[580]\tvalidation_0-mlogloss:0.56665\tvalidation_1-mlogloss:0.57433\n",
      "[582]\tvalidation_0-mlogloss:0.56660\tvalidation_1-mlogloss:0.57430\n",
      "[584]\tvalidation_0-mlogloss:0.56655\tvalidation_1-mlogloss:0.57428\n",
      "[586]\tvalidation_0-mlogloss:0.56652\tvalidation_1-mlogloss:0.57426\n",
      "[588]\tvalidation_0-mlogloss:0.56647\tvalidation_1-mlogloss:0.57423\n",
      "[590]\tvalidation_0-mlogloss:0.56643\tvalidation_1-mlogloss:0.57420\n",
      "[592]\tvalidation_0-mlogloss:0.56639\tvalidation_1-mlogloss:0.57418\n",
      "[594]\tvalidation_0-mlogloss:0.56636\tvalidation_1-mlogloss:0.57415\n",
      "[596]\tvalidation_0-mlogloss:0.56633\tvalidation_1-mlogloss:0.57414\n",
      "[598]\tvalidation_0-mlogloss:0.56627\tvalidation_1-mlogloss:0.57410\n",
      "[600]\tvalidation_0-mlogloss:0.56623\tvalidation_1-mlogloss:0.57407\n",
      "[602]\tvalidation_0-mlogloss:0.56619\tvalidation_1-mlogloss:0.57405\n",
      "[604]\tvalidation_0-mlogloss:0.56615\tvalidation_1-mlogloss:0.57403\n",
      "[606]\tvalidation_0-mlogloss:0.56612\tvalidation_1-mlogloss:0.57400\n",
      "[608]\tvalidation_0-mlogloss:0.56607\tvalidation_1-mlogloss:0.57397\n",
      "[610]\tvalidation_0-mlogloss:0.56605\tvalidation_1-mlogloss:0.57398\n",
      "[612]\tvalidation_0-mlogloss:0.56602\tvalidation_1-mlogloss:0.57396\n",
      "[614]\tvalidation_0-mlogloss:0.56599\tvalidation_1-mlogloss:0.57394\n",
      "[616]\tvalidation_0-mlogloss:0.56597\tvalidation_1-mlogloss:0.57394\n",
      "[618]\tvalidation_0-mlogloss:0.56592\tvalidation_1-mlogloss:0.57390\n",
      "[620]\tvalidation_0-mlogloss:0.56590\tvalidation_1-mlogloss:0.57389\n",
      "[622]\tvalidation_0-mlogloss:0.56588\tvalidation_1-mlogloss:0.57388\n",
      "[624]\tvalidation_0-mlogloss:0.56584\tvalidation_1-mlogloss:0.57387\n",
      "[626]\tvalidation_0-mlogloss:0.56581\tvalidation_1-mlogloss:0.57385\n",
      "[628]\tvalidation_0-mlogloss:0.56580\tvalidation_1-mlogloss:0.57385\n",
      "[630]\tvalidation_0-mlogloss:0.56577\tvalidation_1-mlogloss:0.57384\n",
      "[632]\tvalidation_0-mlogloss:0.56571\tvalidation_1-mlogloss:0.57380\n",
      "[634]\tvalidation_0-mlogloss:0.56569\tvalidation_1-mlogloss:0.57379\n",
      "[636]\tvalidation_0-mlogloss:0.56565\tvalidation_1-mlogloss:0.57377\n",
      "[638]\tvalidation_0-mlogloss:0.56561\tvalidation_1-mlogloss:0.57374\n",
      "[640]\tvalidation_0-mlogloss:0.56558\tvalidation_1-mlogloss:0.57373\n",
      "[642]\tvalidation_0-mlogloss:0.56554\tvalidation_1-mlogloss:0.57371\n",
      "[644]\tvalidation_0-mlogloss:0.56553\tvalidation_1-mlogloss:0.57371\n",
      "[646]\tvalidation_0-mlogloss:0.56549\tvalidation_1-mlogloss:0.57369\n",
      "[648]\tvalidation_0-mlogloss:0.56547\tvalidation_1-mlogloss:0.57369\n",
      "[650]\tvalidation_0-mlogloss:0.56545\tvalidation_1-mlogloss:0.57368\n",
      "[652]\tvalidation_0-mlogloss:0.56542\tvalidation_1-mlogloss:0.57367\n",
      "[654]\tvalidation_0-mlogloss:0.56539\tvalidation_1-mlogloss:0.57365\n",
      "[656]\tvalidation_0-mlogloss:0.56535\tvalidation_1-mlogloss:0.57363\n",
      "[658]\tvalidation_0-mlogloss:0.56532\tvalidation_1-mlogloss:0.57362\n",
      "[660]\tvalidation_0-mlogloss:0.56530\tvalidation_1-mlogloss:0.57362\n",
      "[662]\tvalidation_0-mlogloss:0.56528\tvalidation_1-mlogloss:0.57362\n",
      "[664]\tvalidation_0-mlogloss:0.56525\tvalidation_1-mlogloss:0.57359\n",
      "[666]\tvalidation_0-mlogloss:0.56522\tvalidation_1-mlogloss:0.57358\n",
      "[668]\tvalidation_0-mlogloss:0.56519\tvalidation_1-mlogloss:0.57357\n",
      "[670]\tvalidation_0-mlogloss:0.56515\tvalidation_1-mlogloss:0.57355\n",
      "[672]\tvalidation_0-mlogloss:0.56512\tvalidation_1-mlogloss:0.57353\n",
      "[674]\tvalidation_0-mlogloss:0.56509\tvalidation_1-mlogloss:0.57351\n",
      "[676]\tvalidation_0-mlogloss:0.56506\tvalidation_1-mlogloss:0.57350\n",
      "[678]\tvalidation_0-mlogloss:0.56503\tvalidation_1-mlogloss:0.57349\n",
      "[680]\tvalidation_0-mlogloss:0.56500\tvalidation_1-mlogloss:0.57347\n",
      "[682]\tvalidation_0-mlogloss:0.56498\tvalidation_1-mlogloss:0.57347\n",
      "[684]\tvalidation_0-mlogloss:0.56497\tvalidation_1-mlogloss:0.57347\n",
      "[686]\tvalidation_0-mlogloss:0.56495\tvalidation_1-mlogloss:0.57346\n",
      "[688]\tvalidation_0-mlogloss:0.56491\tvalidation_1-mlogloss:0.57344\n",
      "[690]\tvalidation_0-mlogloss:0.56488\tvalidation_1-mlogloss:0.57343\n",
      "[692]\tvalidation_0-mlogloss:0.56485\tvalidation_1-mlogloss:0.57342\n",
      "[694]\tvalidation_0-mlogloss:0.56483\tvalidation_1-mlogloss:0.57341\n",
      "[696]\tvalidation_0-mlogloss:0.56479\tvalidation_1-mlogloss:0.57339\n",
      "[698]\tvalidation_0-mlogloss:0.56477\tvalidation_1-mlogloss:0.57339\n",
      "[700]\tvalidation_0-mlogloss:0.56473\tvalidation_1-mlogloss:0.57336\n",
      "[702]\tvalidation_0-mlogloss:0.56470\tvalidation_1-mlogloss:0.57333\n",
      "[704]\tvalidation_0-mlogloss:0.56467\tvalidation_1-mlogloss:0.57332\n",
      "[706]\tvalidation_0-mlogloss:0.56464\tvalidation_1-mlogloss:0.57330\n",
      "[708]\tvalidation_0-mlogloss:0.56461\tvalidation_1-mlogloss:0.57329\n",
      "[710]\tvalidation_0-mlogloss:0.56458\tvalidation_1-mlogloss:0.57328\n",
      "[712]\tvalidation_0-mlogloss:0.56455\tvalidation_1-mlogloss:0.57326\n",
      "[714]\tvalidation_0-mlogloss:0.56451\tvalidation_1-mlogloss:0.57323\n",
      "[716]\tvalidation_0-mlogloss:0.56449\tvalidation_1-mlogloss:0.57323\n",
      "[718]\tvalidation_0-mlogloss:0.56446\tvalidation_1-mlogloss:0.57322\n",
      "[720]\tvalidation_0-mlogloss:0.56443\tvalidation_1-mlogloss:0.57321\n",
      "[722]\tvalidation_0-mlogloss:0.56440\tvalidation_1-mlogloss:0.57320\n",
      "[724]\tvalidation_0-mlogloss:0.56438\tvalidation_1-mlogloss:0.57320\n",
      "[726]\tvalidation_0-mlogloss:0.56435\tvalidation_1-mlogloss:0.57318\n",
      "[728]\tvalidation_0-mlogloss:0.56430\tvalidation_1-mlogloss:0.57316\n",
      "[730]\tvalidation_0-mlogloss:0.56427\tvalidation_1-mlogloss:0.57316\n",
      "[732]\tvalidation_0-mlogloss:0.56426\tvalidation_1-mlogloss:0.57315\n",
      "[734]\tvalidation_0-mlogloss:0.56423\tvalidation_1-mlogloss:0.57314\n",
      "[736]\tvalidation_0-mlogloss:0.56420\tvalidation_1-mlogloss:0.57313\n",
      "[738]\tvalidation_0-mlogloss:0.56419\tvalidation_1-mlogloss:0.57313\n",
      "[740]\tvalidation_0-mlogloss:0.56416\tvalidation_1-mlogloss:0.57311\n",
      "[742]\tvalidation_0-mlogloss:0.56413\tvalidation_1-mlogloss:0.57310\n",
      "[744]\tvalidation_0-mlogloss:0.56411\tvalidation_1-mlogloss:0.57310\n",
      "[746]\tvalidation_0-mlogloss:0.56410\tvalidation_1-mlogloss:0.57310\n",
      "[748]\tvalidation_0-mlogloss:0.56408\tvalidation_1-mlogloss:0.57309\n",
      "[750]\tvalidation_0-mlogloss:0.56404\tvalidation_1-mlogloss:0.57307\n",
      "[752]\tvalidation_0-mlogloss:0.56401\tvalidation_1-mlogloss:0.57305\n",
      "[754]\tvalidation_0-mlogloss:0.56400\tvalidation_1-mlogloss:0.57305\n",
      "[756]\tvalidation_0-mlogloss:0.56397\tvalidation_1-mlogloss:0.57303\n",
      "[758]\tvalidation_0-mlogloss:0.56394\tvalidation_1-mlogloss:0.57300\n",
      "[760]\tvalidation_0-mlogloss:0.56391\tvalidation_1-mlogloss:0.57299\n",
      "[762]\tvalidation_0-mlogloss:0.56388\tvalidation_1-mlogloss:0.57297\n",
      "[764]\tvalidation_0-mlogloss:0.56385\tvalidation_1-mlogloss:0.57296\n",
      "[766]\tvalidation_0-mlogloss:0.56383\tvalidation_1-mlogloss:0.57296\n",
      "[768]\tvalidation_0-mlogloss:0.56380\tvalidation_1-mlogloss:0.57294\n",
      "[770]\tvalidation_0-mlogloss:0.56378\tvalidation_1-mlogloss:0.57293\n",
      "[772]\tvalidation_0-mlogloss:0.56373\tvalidation_1-mlogloss:0.57291\n",
      "[774]\tvalidation_0-mlogloss:0.56372\tvalidation_1-mlogloss:0.57290\n",
      "[776]\tvalidation_0-mlogloss:0.56369\tvalidation_1-mlogloss:0.57289\n",
      "[778]\tvalidation_0-mlogloss:0.56366\tvalidation_1-mlogloss:0.57288\n",
      "[780]\tvalidation_0-mlogloss:0.56364\tvalidation_1-mlogloss:0.57287\n",
      "[782]\tvalidation_0-mlogloss:0.56361\tvalidation_1-mlogloss:0.57286\n",
      "[784]\tvalidation_0-mlogloss:0.56358\tvalidation_1-mlogloss:0.57285\n",
      "[786]\tvalidation_0-mlogloss:0.56356\tvalidation_1-mlogloss:0.57284\n",
      "[788]\tvalidation_0-mlogloss:0.56352\tvalidation_1-mlogloss:0.57281\n",
      "[790]\tvalidation_0-mlogloss:0.56349\tvalidation_1-mlogloss:0.57280\n",
      "[792]\tvalidation_0-mlogloss:0.56347\tvalidation_1-mlogloss:0.57280\n",
      "[794]\tvalidation_0-mlogloss:0.56343\tvalidation_1-mlogloss:0.57277\n",
      "[796]\tvalidation_0-mlogloss:0.56340\tvalidation_1-mlogloss:0.57276\n",
      "[798]\tvalidation_0-mlogloss:0.56337\tvalidation_1-mlogloss:0.57275\n",
      "[800]\tvalidation_0-mlogloss:0.56335\tvalidation_1-mlogloss:0.57275\n",
      "[802]\tvalidation_0-mlogloss:0.56334\tvalidation_1-mlogloss:0.57275\n",
      "[804]\tvalidation_0-mlogloss:0.56330\tvalidation_1-mlogloss:0.57273\n",
      "[806]\tvalidation_0-mlogloss:0.56328\tvalidation_1-mlogloss:0.57272\n",
      "[808]\tvalidation_0-mlogloss:0.56326\tvalidation_1-mlogloss:0.57271\n",
      "[810]\tvalidation_0-mlogloss:0.56324\tvalidation_1-mlogloss:0.57271\n",
      "[812]\tvalidation_0-mlogloss:0.56322\tvalidation_1-mlogloss:0.57270\n",
      "[814]\tvalidation_0-mlogloss:0.56318\tvalidation_1-mlogloss:0.57269\n",
      "[816]\tvalidation_0-mlogloss:0.56316\tvalidation_1-mlogloss:0.57268\n",
      "[818]\tvalidation_0-mlogloss:0.56314\tvalidation_1-mlogloss:0.57268\n",
      "[820]\tvalidation_0-mlogloss:0.56312\tvalidation_1-mlogloss:0.57268\n",
      "[822]\tvalidation_0-mlogloss:0.56308\tvalidation_1-mlogloss:0.57265\n",
      "[824]\tvalidation_0-mlogloss:0.56305\tvalidation_1-mlogloss:0.57264\n",
      "[826]\tvalidation_0-mlogloss:0.56302\tvalidation_1-mlogloss:0.57264\n",
      "[828]\tvalidation_0-mlogloss:0.56299\tvalidation_1-mlogloss:0.57263\n",
      "[830]\tvalidation_0-mlogloss:0.56293\tvalidation_1-mlogloss:0.57258\n",
      "[832]\tvalidation_0-mlogloss:0.56291\tvalidation_1-mlogloss:0.57257\n",
      "[834]\tvalidation_0-mlogloss:0.56288\tvalidation_1-mlogloss:0.57256\n",
      "[836]\tvalidation_0-mlogloss:0.56286\tvalidation_1-mlogloss:0.57255\n",
      "[838]\tvalidation_0-mlogloss:0.56284\tvalidation_1-mlogloss:0.57254\n",
      "[840]\tvalidation_0-mlogloss:0.56280\tvalidation_1-mlogloss:0.57252\n",
      "[842]\tvalidation_0-mlogloss:0.56278\tvalidation_1-mlogloss:0.57251\n",
      "[844]\tvalidation_0-mlogloss:0.56275\tvalidation_1-mlogloss:0.57249\n",
      "[846]\tvalidation_0-mlogloss:0.56272\tvalidation_1-mlogloss:0.57248\n",
      "[848]\tvalidation_0-mlogloss:0.56270\tvalidation_1-mlogloss:0.57247\n",
      "[850]\tvalidation_0-mlogloss:0.56267\tvalidation_1-mlogloss:0.57246\n",
      "[852]\tvalidation_0-mlogloss:0.56264\tvalidation_1-mlogloss:0.57245\n",
      "[854]\tvalidation_0-mlogloss:0.56262\tvalidation_1-mlogloss:0.57243\n",
      "[856]\tvalidation_0-mlogloss:0.56259\tvalidation_1-mlogloss:0.57242\n",
      "[858]\tvalidation_0-mlogloss:0.56256\tvalidation_1-mlogloss:0.57240\n",
      "[860]\tvalidation_0-mlogloss:0.56254\tvalidation_1-mlogloss:0.57240\n",
      "[862]\tvalidation_0-mlogloss:0.56252\tvalidation_1-mlogloss:0.57240\n",
      "[864]\tvalidation_0-mlogloss:0.56251\tvalidation_1-mlogloss:0.57239\n",
      "[866]\tvalidation_0-mlogloss:0.56249\tvalidation_1-mlogloss:0.57239\n",
      "[868]\tvalidation_0-mlogloss:0.56247\tvalidation_1-mlogloss:0.57238\n",
      "[870]\tvalidation_0-mlogloss:0.56241\tvalidation_1-mlogloss:0.57234\n",
      "[872]\tvalidation_0-mlogloss:0.56239\tvalidation_1-mlogloss:0.57234\n",
      "[874]\tvalidation_0-mlogloss:0.56237\tvalidation_1-mlogloss:0.57232\n",
      "[876]\tvalidation_0-mlogloss:0.56234\tvalidation_1-mlogloss:0.57230\n",
      "[878]\tvalidation_0-mlogloss:0.56232\tvalidation_1-mlogloss:0.57230\n",
      "[880]\tvalidation_0-mlogloss:0.56228\tvalidation_1-mlogloss:0.57227\n",
      "[882]\tvalidation_0-mlogloss:0.56225\tvalidation_1-mlogloss:0.57227\n",
      "[884]\tvalidation_0-mlogloss:0.56221\tvalidation_1-mlogloss:0.57224\n",
      "[886]\tvalidation_0-mlogloss:0.56219\tvalidation_1-mlogloss:0.57223\n",
      "[888]\tvalidation_0-mlogloss:0.56217\tvalidation_1-mlogloss:0.57223\n",
      "[890]\tvalidation_0-mlogloss:0.56215\tvalidation_1-mlogloss:0.57222\n",
      "[892]\tvalidation_0-mlogloss:0.56213\tvalidation_1-mlogloss:0.57220\n",
      "[894]\tvalidation_0-mlogloss:0.56210\tvalidation_1-mlogloss:0.57220\n",
      "[896]\tvalidation_0-mlogloss:0.56209\tvalidation_1-mlogloss:0.57220\n",
      "[898]\tvalidation_0-mlogloss:0.56206\tvalidation_1-mlogloss:0.57219\n",
      "[900]\tvalidation_0-mlogloss:0.56204\tvalidation_1-mlogloss:0.57218\n",
      "[902]\tvalidation_0-mlogloss:0.56201\tvalidation_1-mlogloss:0.57217\n",
      "[904]\tvalidation_0-mlogloss:0.56197\tvalidation_1-mlogloss:0.57215\n",
      "[906]\tvalidation_0-mlogloss:0.56195\tvalidation_1-mlogloss:0.57214\n",
      "[908]\tvalidation_0-mlogloss:0.56193\tvalidation_1-mlogloss:0.57213\n",
      "[910]\tvalidation_0-mlogloss:0.56191\tvalidation_1-mlogloss:0.57213\n",
      "[912]\tvalidation_0-mlogloss:0.56188\tvalidation_1-mlogloss:0.57212\n",
      "[914]\tvalidation_0-mlogloss:0.56183\tvalidation_1-mlogloss:0.57208\n",
      "[916]\tvalidation_0-mlogloss:0.56180\tvalidation_1-mlogloss:0.57208\n",
      "[918]\tvalidation_0-mlogloss:0.56176\tvalidation_1-mlogloss:0.57205\n",
      "[920]\tvalidation_0-mlogloss:0.56173\tvalidation_1-mlogloss:0.57205\n",
      "[922]\tvalidation_0-mlogloss:0.56171\tvalidation_1-mlogloss:0.57205\n",
      "[924]\tvalidation_0-mlogloss:0.56168\tvalidation_1-mlogloss:0.57203\n",
      "[926]\tvalidation_0-mlogloss:0.56166\tvalidation_1-mlogloss:0.57203\n",
      "[928]\tvalidation_0-mlogloss:0.56165\tvalidation_1-mlogloss:0.57203\n",
      "[930]\tvalidation_0-mlogloss:0.56163\tvalidation_1-mlogloss:0.57202\n",
      "[932]\tvalidation_0-mlogloss:0.56161\tvalidation_1-mlogloss:0.57201\n",
      "[934]\tvalidation_0-mlogloss:0.56158\tvalidation_1-mlogloss:0.57200\n",
      "[936]\tvalidation_0-mlogloss:0.56156\tvalidation_1-mlogloss:0.57198\n",
      "[938]\tvalidation_0-mlogloss:0.56154\tvalidation_1-mlogloss:0.57198\n",
      "[940]\tvalidation_0-mlogloss:0.56151\tvalidation_1-mlogloss:0.57197\n",
      "[942]\tvalidation_0-mlogloss:0.56148\tvalidation_1-mlogloss:0.57195\n",
      "[944]\tvalidation_0-mlogloss:0.56145\tvalidation_1-mlogloss:0.57195\n",
      "[946]\tvalidation_0-mlogloss:0.56144\tvalidation_1-mlogloss:0.57195\n",
      "[948]\tvalidation_0-mlogloss:0.56143\tvalidation_1-mlogloss:0.57195\n",
      "[950]\tvalidation_0-mlogloss:0.56140\tvalidation_1-mlogloss:0.57193\n",
      "[952]\tvalidation_0-mlogloss:0.56138\tvalidation_1-mlogloss:0.57192\n",
      "[954]\tvalidation_0-mlogloss:0.56136\tvalidation_1-mlogloss:0.57192\n",
      "[956]\tvalidation_0-mlogloss:0.56134\tvalidation_1-mlogloss:0.57191\n",
      "[958]\tvalidation_0-mlogloss:0.56131\tvalidation_1-mlogloss:0.57190\n",
      "[960]\tvalidation_0-mlogloss:0.56129\tvalidation_1-mlogloss:0.57190\n",
      "[962]\tvalidation_0-mlogloss:0.56127\tvalidation_1-mlogloss:0.57189\n",
      "[964]\tvalidation_0-mlogloss:0.56124\tvalidation_1-mlogloss:0.57188\n",
      "[966]\tvalidation_0-mlogloss:0.56121\tvalidation_1-mlogloss:0.57187\n",
      "[968]\tvalidation_0-mlogloss:0.56119\tvalidation_1-mlogloss:0.57187\n",
      "[970]\tvalidation_0-mlogloss:0.56118\tvalidation_1-mlogloss:0.57187\n",
      "[972]\tvalidation_0-mlogloss:0.56115\tvalidation_1-mlogloss:0.57186\n",
      "[974]\tvalidation_0-mlogloss:0.56112\tvalidation_1-mlogloss:0.57183\n",
      "[976]\tvalidation_0-mlogloss:0.56110\tvalidation_1-mlogloss:0.57183\n",
      "[978]\tvalidation_0-mlogloss:0.56107\tvalidation_1-mlogloss:0.57180\n",
      "[980]\tvalidation_0-mlogloss:0.56104\tvalidation_1-mlogloss:0.57179\n",
      "[982]\tvalidation_0-mlogloss:0.56101\tvalidation_1-mlogloss:0.57178\n",
      "[984]\tvalidation_0-mlogloss:0.56099\tvalidation_1-mlogloss:0.57177\n",
      "[986]\tvalidation_0-mlogloss:0.56097\tvalidation_1-mlogloss:0.57176\n",
      "[988]\tvalidation_0-mlogloss:0.56094\tvalidation_1-mlogloss:0.57175\n",
      "[990]\tvalidation_0-mlogloss:0.56092\tvalidation_1-mlogloss:0.57174\n",
      "[992]\tvalidation_0-mlogloss:0.56090\tvalidation_1-mlogloss:0.57173\n",
      "[994]\tvalidation_0-mlogloss:0.56088\tvalidation_1-mlogloss:0.57173\n",
      "[996]\tvalidation_0-mlogloss:0.56086\tvalidation_1-mlogloss:0.57173\n",
      "[998]\tvalidation_0-mlogloss:0.56083\tvalidation_1-mlogloss:0.57171\n",
      "[999]\tvalidation_0-mlogloss:0.56082\tvalidation_1-mlogloss:0.57170\n"
     ]
    },
    {
     "data": {
      "text/plain": [
       "XGBClassifier(base_score=0.5, booster='gbtree', colsample_bylevel=1,\n",
       "              colsample_bynode=1, colsample_bytree=1, gamma=0, gpu_id=-1,\n",
       "              importance_type='gain', interaction_constraints='',\n",
       "              learning_rate=0.05, max_delta_step=0, max_depth=3,\n",
       "              min_child_weight=1, missing=nan, monotone_constraints='()',\n",
       "              n_estimators=1000, n_jobs=16, num_parallel_tree=1,\n",
       "              objective='multi:softprob', random_state=123451, reg_alpha=0,\n",
       "              reg_lambda=1, scale_pos_weight=None, seed=123451, silent=1,\n",
       "              subsample=0.9, tree_method='exact', validate_parameters=1,\n",
       "              verbosity=None)"
      ]
     },
     "execution_count": 24,
     "metadata": {},
     "output_type": "execute_result"
    }
   ],
   "source": [
    "eval_set = [(X_train, y_train), (X_test, y_test)]\n",
    "xgb_clf.fit(X_train, y_train, sample_weight=w_train, verbose=2, early_stopping_rounds=1000, eval_set=eval_set, eval_metric = \"mlogloss\")\n",
    "# xgb_clf.fit(X_train, y_train, sample_weight=w_train, verbose=2, eval_metric=\"mlogloss\")"
   ]
  },
  {
   "cell_type": "code",
   "execution_count": 44,
   "id": "fiscal-headline",
   "metadata": {},
   "outputs": [
    {
     "data": {
      "image/png": "[encoded data removed]",
      "text/plain": [
       "<Figure size 432x288 with 1 Axes>"
      ]
     },
     "metadata": {
      "needs_background": "light"
     },
     "output_type": "display_data"
    }
   ],
   "source": [
    "xgboost.plot_importance(xgb_clf).set_yticklabels(df_1.drop(['y','wt'], axis=1).columns)\n",
    "plt.savefig('./signal_background/eda/feature_importance.png')\n",
    "plt.show()"
   ]
  },
  {
   "cell_type": "code",
   "execution_count": 26,
   "id": "identical-trunk",
   "metadata": {},
   "outputs": [],
   "source": [
    "y_pred = xgb_clf.predict_proba(X_test)"
   ]
  },
  {
   "cell_type": "code",
   "execution_count": 27,
   "id": "forward-poverty",
   "metadata": {},
   "outputs": [
    {
     "data": {
      "text/plain": [
       "0.8950004636213132"
      ]
     },
     "execution_count": 27,
     "metadata": {},
     "output_type": "execute_result"
    }
   ],
   "source": [
    "roc_auc_score(y_test, y_pred, multi_class='ovr')\n"
   ]
  },
  {
   "cell_type": "code",
   "execution_count": 28,
   "id": "textile-celebration",
   "metadata": {},
   "outputs": [
    {
     "data": {
      "text/plain": [
       "0.8668710464845789"
      ]
     },
     "execution_count": 28,
     "metadata": {},
     "output_type": "execute_result"
    }
   ],
   "source": [
    "roc_auc_score(y_test, y_pred, multi_class='ovo')"
   ]
  },
  {
   "cell_type": "code",
   "execution_count": 29,
   "id": "three-nevada",
   "metadata": {},
   "outputs": [],
   "source": [
    "onehot=label_binarize(y_test,classes=[0,1,2,3])\n",
    "fpr=dict()\n",
    "tpr=dict()\n",
    "thresh = dict()\n",
    "roc_auc=dict()\n",
    "for i in range(4):\n",
    "    fpr[i], tpr[i], thresh[i] = roc_curve(onehot[:,i], y_pred[:,i])#,None,w_test)\n",
    "    roc_auc[i] = auc(fpr[i], tpr[i])#,reorder=True)"
   ]
  },
  {
   "cell_type": "code",
   "execution_count": 57,
   "id": "statistical-albany",
   "metadata": {},
   "outputs": [
    {
     "data": {
      "image/png": "[encoded data removed]",
      "text/plain": [
       "<Figure size 576x432 with 1 Axes>"
      ]
     },
     "metadata": {
      "needs_background": "light"
     },
     "output_type": "display_data"
    }
   ],
   "source": [
    "classes = ['vbfH', 'ztt', 'fakes', 'ggH']\n",
    "fig, ax = plt.subplots(figsize=(8,6))\n",
    "def plot_roc_curve(fpr, tpr, auc, i):\n",
    "    ax.plot(fpr, tpr, label=f'{classes[i]} ROC score: {auc:.3f}')\n",
    "    ax.set(xlabel='False Positive Rate', ylabel='True Positive Rate')\n",
    "#     ax.text(0.6, 0.3, 'ROC AUC Score: {:.3f}'.format(auc),\n",
    "#             bbox=dict(boxstyle='square,pad=0.3', fc='white', ec='k'))\n",
    "    plt.legend()\n",
    "lims = [np.min([ax.get_xlim(), ax.get_ylim()]), np.max([ax.get_xlim(), ax.get_ylim()])]\n",
    "ax.set_xlim(lims)\n",
    "ax.set_ylim(lims)\n",
    "ax.plot(lims, lims, 'k--')\n",
    "ax.grid()\n",
    "for i in range(len(fpr)):\n",
    "    plot_roc_curve(fpr[i],tpr[i],roc_auc[i], i)\n",
    "# plot_roc_curve(fpr[1],tpr[1],roc_auc[1], 1)\n",
    "# plot_roc_curve(fpr[2],tpr[2],roc_auc[2], 2)\n",
    "# plot_roc_curve(fpr[3],tpr[3],roc_auc[3], 3)\n",
    "plt.savefig('./signal_background/eda/roc_curves.png')"
   ]
  },
  {
   "cell_type": "code",
   "execution_count": 59,
   "id": "polish-california",
   "metadata": {},
   "outputs": [],
   "source": [
    "def plot_confusion_matrix(y_test, y_pred, classes, figname, w_test=None, normalise_by_col=False, normalise_by_row=False, cmap=plt.cm.Blues):\n",
    "    if w_test is not None: cm = confusion_matrix(y_test, y_pred, sample_weight=w_test)\n",
    "    else: cm = confusion_matrix(y_test, y_pred) \n",
    "    if normalise_by_col:\n",
    "        cm = cm.astype('float') / cm.sum(axis=1)[:, np.newaxis]\n",
    "        print ('Normalised efficiency confusion matrix')\n",
    "    if normalise_by_row:\n",
    "        cm = cm.astype('float') / cm.sum(axis=0)[np.newaxis, :]\n",
    "        print ('Normalised purity confusion matrix')\n",
    "    else:\n",
    "        print ('Non-normalised confusion matrix')\n",
    "\n",
    "    print(cm)\n",
    "\n",
    "    plt.figure()\n",
    "    plt.imshow(cm, interpolation='nearest', cmap=cmap)\n",
    "    plt.colorbar()\n",
    "    tick_marks = np.arange(len(classes))\n",
    "    plt.xticks(tick_marks, classes, rotation=45)\n",
    "    plt.yticks(tick_marks, classes)\n",
    "\n",
    "    fmt = '.3f'\n",
    "    thresh = cm.max() / 2.\n",
    "    for i, j in itertools.product(range(cm.shape[0]), range(cm.shape[1])):\n",
    "        plt.text(j, i, format(cm[i, j], fmt),\n",
    "                 horizontalalignment='center',\n",
    "                 color='w' if cm[i, j] > thresh else 'k')\n",
    "\n",
    "    plt.tight_layout(pad=1.4)\n",
    "    plt.ylabel('True label')\n",
    "    plt.xlabel('Predicted label')\n",
    "    plt.savefig(figname)\n",
    "    print ('Confusion matrix saved as {}'.format(figname))"
   ]
  },
  {
   "cell_type": "code",
   "execution_count": 53,
   "id": "afraid-bracelet",
   "metadata": {},
   "outputs": [],
   "source": [
    "predict=xgb_clf.predict(X_test)"
   ]
  },
  {
   "cell_type": "code",
   "execution_count": 60,
   "id": "athletic-customs",
   "metadata": {},
   "outputs": [
    {
     "name": "stdout",
     "output_type": "stream",
     "text": [
      "Normalised purity confusion matrix\n",
      "[[0.81253555 0.25660074 0.06350822 0.26391048]\n",
      " [0.00751969 0.4263656  0.04129765 0.01396844]\n",
      " [0.01275561 0.16280881 0.83134216 0.13868123]\n",
      " [0.16718915 0.15422485 0.06385198 0.58343985]]\n",
      "Confusion matrix saved as ./signal_background/eda/purity.png\n",
      "Normalised efficiency confusion matrix\n",
      "Non-normalised confusion matrix\n",
      "[[0.94817015 0.00130729 0.00537901 0.04514356]\n",
      " [0.52125248 0.12903265 0.2077792  0.14193567]\n",
      " [0.13550247 0.0075508  0.64099396 0.21595277]\n",
      " [0.64796566 0.00260956 0.01796166 0.33146312]]\n",
      "Confusion matrix saved as ./signal_background/eda/efficiency.png\n"
     ]
    },
    {
     "data": {
      "image/png": "[encoded data removed]",
      "text/plain": [
       "<Figure size 432x288 with 2 Axes>"
      ]
     },
     "metadata": {
      "needs_background": "light"
     },
     "output_type": "display_data"
    },
    {
     "data": {
      "image/png": "[encoded data removed]",
      "text/plain": [
       "<Figure size 432x288 with 2 Axes>"
      ]
     },
     "metadata": {
      "needs_background": "light"
     },
     "output_type": "display_data"
    }
   ],
   "source": [
    "plot_confusion_matrix(y_test, predict, [0,1,2,3],\n",
    "                    normalise_by_row=True, w_test=w_test, figname='./signal_background/eda/purity.png')\n",
    "plot_confusion_matrix(y_test, predict, [0,1,2,3],\n",
    "                    normalise_by_col=True, w_test=w_test, figname='./signal_background/eda/efficiency.png')"
   ]
  },
  {
   "cell_type": "code",
   "execution_count": null,
   "id": "prospective-penny",
   "metadata": {},
   "outputs": [],
   "source": []
  }
 ],
 "metadata": {
  "kernelspec": {
   "display_name": "Python 3",
   "language": "python",
   "name": "python3"
  },
  "language_info": {
   "codemirror_mode": {
    "name": "ipython",
    "version": 3
   },
   "file_extension": ".py",
   "mimetype": "text/x-python",
   "name": "python",
   "nbconvert_exporter": "python",
   "pygments_lexer": "ipython3",
   "version": "3.8.5"
  }
 },
 "nbformat": 4,
 "nbformat_minor": 5
}
