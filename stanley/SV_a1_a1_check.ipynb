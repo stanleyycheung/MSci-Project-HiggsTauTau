{
 "cells": [
  {
   "cell_type": "code",
   "execution_count": 8,
   "metadata": {},
   "outputs": [],
   "source": [
    "import uproot\n",
    "import pandas as pd\n",
    "import matplotlib.pyplot as plt\n",
    "import numpy as np\n",
    "from pylorentz import Momentum4, Position4"
   ]
  },
  {
   "cell_type": "code",
   "execution_count": 9,
   "metadata": {},
   "outputs": [
    {
     "name": "stdout",
     "output_type": "stream",
     "text": [
      "loaded root file\n",
      "loaded df\n"
     ]
    }
   ],
   "source": [
    "# tree_tt = uproot.open(\"/eos/user/d/dwinterb/SWAN_projects/Masters_CP/MVAFILE_AllHiggs_tt.root\")[\"ntuple\"]\n",
    "tree_tt = uproot.open(\"../MVAFILE_AllHiggs_tt_new.root\")[\"ntuple\"]\n",
    "print('loaded root file')\n",
    "variables = [\n",
    "            \"wt_cp_sm\", \"wt_cp_ps\", \"wt_cp_mm\", \"rand\",\n",
    "            \"aco_angle_1\", \n",
    "            \"mva_dm_1\",\"mva_dm_2\",\n",
    "            \"tau_decay_mode_1\",\"tau_decay_mode_2\",\n",
    "            \"ip_x_1\", \"ip_y_1\", \"ip_z_1\", \"ip_x_2\", \"ip_y_2\", \"ip_z_2\",\n",
    "            \"pi_E_1\", \"pi_px_1\", \"pi_py_1\", \"pi_pz_1\", \n",
    "            \"pi2_E_1\", \"pi2_px_1\", \"pi2_py_1\", \"pi2_pz_1\",\n",
    "            \"pi3_E_1\", \"pi3_px_1\", \"pi3_py_1\", \"pi3_pz_1\",\n",
    "            \"pi_E_2\", \"pi_px_2\", \"pi_py_2\", \"pi_pz_2\", \n",
    "            \"pi2_E_2\", \"pi2_px_2\", \"pi2_py_2\", \"pi2_pz_2\",\n",
    "            \"pi3_E_2\", \"pi3_px_2\", \"pi3_py_2\", \"pi3_pz_2\",\n",
    "            'sv_x_1', 'sv_y_1', 'sv_z_1', 'sv_x_2', 'sv_y_2','sv_z_2',\n",
    "        ]\n",
    "variables += [\"gen_nu_p_1\", \"gen_nu_phi_1\", \"gen_nu_eta_1\", #leading neutrino, gen level\n",
    "            \"gen_nu_p_2\", \"gen_nu_phi_2\", \"gen_nu_eta_2\" #subleading neutrino, gen level\n",
    "             ]\n",
    "\n",
    "df_tt = tree_tt.pandas.df(variables)\n",
    "print('loaded df')"
   ]
  },
  {
   "cell_type": "code",
   "execution_count": 10,
   "metadata": {},
   "outputs": [],
   "source": [
    "df_a1_a1 = df_tt[(df_tt['mva_dm_1']==10) & (df_tt['mva_dm_2']==10)]\n",
    "df = df_a1_a1.drop([\"mva_dm_1\",\"mva_dm_2\",\"tau_decay_mode_1\",\"tau_decay_mode_2\", \"wt_cp_sm\", \"wt_cp_ps\", \"wt_cp_mm\", \"rand\"], axis=1).reset_index(drop=True)"
   ]
  },
  {
   "cell_type": "code",
   "execution_count": 11,
   "metadata": {
    "scrolled": true
   },
   "outputs": [
    {
     "data": {
      "text/html": [
       "<div>\n",
       "<style scoped>\n",
       "    .dataframe tbody tr th:only-of-type {\n",
       "        vertical-align: middle;\n",
       "    }\n",
       "\n",
       "    .dataframe tbody tr th {\n",
       "        vertical-align: top;\n",
       "    }\n",
       "\n",
       "    .dataframe thead th {\n",
       "        text-align: right;\n",
       "    }\n",
       "</style>\n",
       "<table border=\"1\" class=\"dataframe\">\n",
       "  <thead>\n",
       "    <tr style=\"text-align: right;\">\n",
       "      <th></th>\n",
       "      <th>aco_angle_1</th>\n",
       "      <th>ip_x_1</th>\n",
       "      <th>ip_y_1</th>\n",
       "      <th>ip_z_1</th>\n",
       "      <th>ip_x_2</th>\n",
       "      <th>ip_y_2</th>\n",
       "      <th>ip_z_2</th>\n",
       "      <th>pi_E_1</th>\n",
       "      <th>pi_px_1</th>\n",
       "      <th>pi_py_1</th>\n",
       "      <th>...</th>\n",
       "      <th>sv_z_1</th>\n",
       "      <th>sv_x_2</th>\n",
       "      <th>sv_y_2</th>\n",
       "      <th>sv_z_2</th>\n",
       "      <th>gen_nu_p_1</th>\n",
       "      <th>gen_nu_phi_1</th>\n",
       "      <th>gen_nu_eta_1</th>\n",
       "      <th>gen_nu_p_2</th>\n",
       "      <th>gen_nu_phi_2</th>\n",
       "      <th>gen_nu_eta_2</th>\n",
       "    </tr>\n",
       "  </thead>\n",
       "  <tbody>\n",
       "    <tr>\n",
       "      <th>0</th>\n",
       "      <td>6.117143</td>\n",
       "      <td>0.006238</td>\n",
       "      <td>-0.004234</td>\n",
       "      <td>0.006636</td>\n",
       "      <td>-0.003519</td>\n",
       "      <td>-0.000472</td>\n",
       "      <td>0.001458</td>\n",
       "      <td>5.463920</td>\n",
       "      <td>-4.324960</td>\n",
       "      <td>-2.038399</td>\n",
       "      <td>...</td>\n",
       "      <td>0.178732</td>\n",
       "      <td>0.224309</td>\n",
       "      <td>0.175644</td>\n",
       "      <td>0.615207</td>\n",
       "      <td>12.439656</td>\n",
       "      <td>-2.694677</td>\n",
       "      <td>0.498218</td>\n",
       "      <td>27.497826</td>\n",
       "      <td>0.621760</td>\n",
       "      <td>1.525403</td>\n",
       "    </tr>\n",
       "    <tr>\n",
       "      <th>1</th>\n",
       "      <td>3.297071</td>\n",
       "      <td>0.012066</td>\n",
       "      <td>0.004882</td>\n",
       "      <td>0.015056</td>\n",
       "      <td>-0.001900</td>\n",
       "      <td>-0.001342</td>\n",
       "      <td>0.000295</td>\n",
       "      <td>39.206211</td>\n",
       "      <td>29.270620</td>\n",
       "      <td>-16.989121</td>\n",
       "      <td>...</td>\n",
       "      <td>-0.530272</td>\n",
       "      <td>-0.066309</td>\n",
       "      <td>0.058633</td>\n",
       "      <td>-0.109475</td>\n",
       "      <td>2.536093</td>\n",
       "      <td>-0.428295</td>\n",
       "      <td>-0.487515</td>\n",
       "      <td>9.252467</td>\n",
       "      <td>2.453116</td>\n",
       "      <td>-1.111630</td>\n",
       "    </tr>\n",
       "    <tr>\n",
       "      <th>2</th>\n",
       "      <td>0.924842</td>\n",
       "      <td>0.004377</td>\n",
       "      <td>0.003232</td>\n",
       "      <td>0.000308</td>\n",
       "      <td>-0.000515</td>\n",
       "      <td>-0.000585</td>\n",
       "      <td>0.000942</td>\n",
       "      <td>30.358725</td>\n",
       "      <td>11.301172</td>\n",
       "      <td>-13.238619</td>\n",
       "      <td>...</td>\n",
       "      <td>-0.164217</td>\n",
       "      <td>-0.155510</td>\n",
       "      <td>0.175243</td>\n",
       "      <td>0.051742</td>\n",
       "      <td>18.037537</td>\n",
       "      <td>-0.796603</td>\n",
       "      <td>-1.167675</td>\n",
       "      <td>8.062246</td>\n",
       "      <td>2.322562</td>\n",
       "      <td>0.143439</td>\n",
       "    </tr>\n",
       "    <tr>\n",
       "      <th>3</th>\n",
       "      <td>3.661648</td>\n",
       "      <td>0.000310</td>\n",
       "      <td>0.001501</td>\n",
       "      <td>-0.000524</td>\n",
       "      <td>0.005408</td>\n",
       "      <td>-0.005452</td>\n",
       "      <td>-0.007149</td>\n",
       "      <td>19.221223</td>\n",
       "      <td>17.263894</td>\n",
       "      <td>0.244493</td>\n",
       "      <td>...</td>\n",
       "      <td>-0.049048</td>\n",
       "      <td>-1.102329</td>\n",
       "      <td>-1.106432</td>\n",
       "      <td>0.026094</td>\n",
       "      <td>17.809995</td>\n",
       "      <td>-0.010321</td>\n",
       "      <td>0.504604</td>\n",
       "      <td>2.451051</td>\n",
       "      <td>-2.454931</td>\n",
       "      <td>0.060119</td>\n",
       "    </tr>\n",
       "    <tr>\n",
       "      <th>4</th>\n",
       "      <td>4.637460</td>\n",
       "      <td>0.000256</td>\n",
       "      <td>-0.000595</td>\n",
       "      <td>-0.009137</td>\n",
       "      <td>-0.002936</td>\n",
       "      <td>-0.001267</td>\n",
       "      <td>-0.005894</td>\n",
       "      <td>33.953942</td>\n",
       "      <td>16.938983</td>\n",
       "      <td>-29.299663</td>\n",
       "      <td>...</td>\n",
       "      <td>-0.006299</td>\n",
       "      <td>-0.056976</td>\n",
       "      <td>0.109527</td>\n",
       "      <td>-0.009077</td>\n",
       "      <td>5.152344</td>\n",
       "      <td>-1.097308</td>\n",
       "      <td>0.062317</td>\n",
       "      <td>8.930094</td>\n",
       "      <td>2.108329</td>\n",
       "      <td>-0.016631</td>\n",
       "    </tr>\n",
       "  </tbody>\n",
       "</table>\n",
       "<p>5 rows × 43 columns</p>\n",
       "</div>"
      ],
      "text/plain": [
       "   aco_angle_1    ip_x_1    ip_y_1    ip_z_1    ip_x_2    ip_y_2    ip_z_2  \\\n",
       "0     6.117143  0.006238 -0.004234  0.006636 -0.003519 -0.000472  0.001458   \n",
       "1     3.297071  0.012066  0.004882  0.015056 -0.001900 -0.001342  0.000295   \n",
       "2     0.924842  0.004377  0.003232  0.000308 -0.000515 -0.000585  0.000942   \n",
       "3     3.661648  0.000310  0.001501 -0.000524  0.005408 -0.005452 -0.007149   \n",
       "4     4.637460  0.000256 -0.000595 -0.009137 -0.002936 -0.001267 -0.005894   \n",
       "\n",
       "      pi_E_1    pi_px_1    pi_py_1  ...    sv_z_1    sv_x_2    sv_y_2  \\\n",
       "0   5.463920  -4.324960  -2.038399  ...  0.178732  0.224309  0.175644   \n",
       "1  39.206211  29.270620 -16.989121  ... -0.530272 -0.066309  0.058633   \n",
       "2  30.358725  11.301172 -13.238619  ... -0.164217 -0.155510  0.175243   \n",
       "3  19.221223  17.263894   0.244493  ... -0.049048 -1.102329 -1.106432   \n",
       "4  33.953942  16.938983 -29.299663  ... -0.006299 -0.056976  0.109527   \n",
       "\n",
       "     sv_z_2  gen_nu_p_1  gen_nu_phi_1  gen_nu_eta_1  gen_nu_p_2  gen_nu_phi_2  \\\n",
       "0  0.615207   12.439656     -2.694677      0.498218   27.497826      0.621760   \n",
       "1 -0.109475    2.536093     -0.428295     -0.487515    9.252467      2.453116   \n",
       "2  0.051742   18.037537     -0.796603     -1.167675    8.062246      2.322562   \n",
       "3  0.026094   17.809995     -0.010321      0.504604    2.451051     -2.454931   \n",
       "4 -0.009077    5.152344     -1.097308      0.062317    8.930094      2.108329   \n",
       "\n",
       "   gen_nu_eta_2  \n",
       "0      1.525403  \n",
       "1     -1.111630  \n",
       "2      0.143439  \n",
       "3      0.060119  \n",
       "4     -0.016631  \n",
       "\n",
       "[5 rows x 43 columns]"
      ]
     },
     "execution_count": 11,
     "metadata": {},
     "output_type": "execute_result"
    }
   ],
   "source": [
    "df.head()"
   ]
  },
  {
   "cell_type": "markdown",
   "metadata": {},
   "source": [
    "## to check - which variables are 0 or 9999'd in a1_a1"
   ]
  },
  {
   "cell_type": "code",
   "execution_count": 6,
   "metadata": {},
   "outputs": [
    {
     "data": {
      "text/plain": [
       "0        -0.310091\n",
       "1         0.817724\n",
       "2         0.078595\n",
       "3        -0.093552\n",
       "4         0.019370\n",
       "            ...   \n",
       "361671   -0.067273\n",
       "361672   -0.141066\n",
       "361673   -0.397078\n",
       "361674   -0.531463\n",
       "361675   -0.462973\n",
       "Name: sv_x_1, Length: 361676, dtype: float64"
      ]
     },
     "execution_count": 6,
     "metadata": {},
     "output_type": "execute_result"
    }
   ],
   "source": [
    "df['sv_x_1']"
   ]
  },
  {
   "cell_type": "code",
   "execution_count": 12,
   "metadata": {},
   "outputs": [],
   "source": [
    "# calc tau mom in lab frame\n",
    "m_tau = 1.776 \n",
    "c = 299792458\n",
    "t_flight = 87e-6/c\n",
    "p_conver = 1/(5.36e-19)\n",
    "m_conver = 1.78266192e-27\n",
    "\n",
    "p_x_tau_1 = -m_tau*m_conver*df['sv_x_1']/100/t_flight*p_conver\n",
    "p_y_tau_1 = -m_tau*m_conver*df['sv_y_1']/100/t_flight*p_conver\n",
    "p_z_tau_1 = -m_tau*m_conver*df['sv_z_1']/100/t_flight*p_conver\n",
    "E_tau_1 = np.sqrt(p_x_tau_1**2+p_y_tau_1**2+p_z_tau_1**2+m_tau**2)\n",
    "p_x_tau_2 = -m_tau*m_conver*df['sv_x_2']/100/t_flight*p_conver\n",
    "p_y_tau_2 = -m_tau*m_conver*df['sv_y_2']/100/t_flight*p_conver\n",
    "p_z_tau_2 = -m_tau*m_conver*df['sv_z_2']/100/t_flight*p_conver\n",
    "E_tau_2 = np.sqrt(p_x_tau_2**2+p_y_tau_2**2+p_z_tau_2**2+m_tau**2)"
   ]
  },
  {
   "cell_type": "code",
   "execution_count": 13,
   "metadata": {},
   "outputs": [
    {
     "name": "stdout",
     "output_type": "stream",
     "text": [
      "loaded root file\n",
      "loaded df\n"
     ]
    }
   ],
   "source": [
    "# load gen information\n",
    "tree_tt_gen = uproot.open(\"./MVAFILE_GEN_AllHiggs_tt.root\")[\"ntuple\"]\n",
    "print('loaded root file')\n",
    "variables = [\n",
    "            \"wt_cp_sm\", \"wt_cp_ps\", \"wt_cp_mm\", \"rand\",\n",
    "            \"dm_1\",\"dm_2\",\n",
    "#             \"ip_x_1\", \"ip_y_1\", \"ip_z_1\", \"ip_x_2\", \"ip_y_2\", \"ip_z_2\",\n",
    "            \"pi_E_1\", \"pi_px_1\", \"pi_py_1\", \"pi_pz_1\", \n",
    "            \"pi2_E_1\", \"pi2_px_1\", \"pi2_py_1\", \"pi2_pz_1\",\n",
    "            \"pi3_E_1\", \"pi3_px_1\", \"pi3_py_1\", \"pi3_pz_1\",\n",
    "            \"pi_E_2\", \"pi_px_2\", \"pi_py_2\", \"pi_pz_2\", \n",
    "            \"pi2_E_2\", \"pi2_px_2\", \"pi2_py_2\", \"pi2_pz_2\",\n",
    "            \"pi3_E_2\", \"pi3_px_2\", \"pi3_py_2\", \"pi3_pz_2\",\n",
    "#             'sv_x_1', 'sv_y_1', 'sv_z_1', 'sv_x_2', 'sv_y_2','sv_z_2',\n",
    "        ]\n",
    "\n",
    "df_tt_gen = tree_tt_gen.pandas.df(variables)\n",
    "print('loaded df')"
   ]
  },
  {
   "cell_type": "code",
   "execution_count": 14,
   "metadata": {},
   "outputs": [],
   "source": [
    "df_a1_a1_gen = df_tt_gen[(df_tt_gen['dm_1']==10) & (df_tt_gen['dm_2']==10)]\n",
    "df_gen = df_a1_a1_gen.drop([\"dm_1\",\"dm_2\",\"wt_cp_sm\", \"wt_cp_ps\", \"wt_cp_mm\", \"rand\"], axis=1).reset_index(drop=True)"
   ]
  },
  {
   "cell_type": "code",
   "execution_count": 15,
   "metadata": {},
   "outputs": [
    {
     "ename": "NameError",
     "evalue": "name 'nu_2' is not defined",
     "output_type": "error",
     "traceback": [
      "\u001b[1;31m---------------------------------------------------------------------------\u001b[0m",
      "\u001b[1;31mNameError\u001b[0m                                 Traceback (most recent call last)",
      "\u001b[1;32m<ipython-input-15-44fa1f26885b>\u001b[0m in \u001b[0;36m<module>\u001b[1;34m\u001b[0m\n\u001b[1;32m----> 1\u001b[1;33m \u001b[1;33m(\u001b[0m\u001b[0mnu_2\u001b[0m\u001b[1;33m[\u001b[0m\u001b[1;36m0\u001b[0m\u001b[1;33m]\u001b[0m\u001b[1;33m==\u001b[0m\u001b[1;36m9999\u001b[0m\u001b[1;33m)\u001b[0m\u001b[1;33m.\u001b[0m\u001b[0msum\u001b[0m\u001b[1;33m(\u001b[0m\u001b[1;33m)\u001b[0m\u001b[1;33m\u001b[0m\u001b[1;33m\u001b[0m\u001b[0m\n\u001b[0m",
      "\u001b[1;31mNameError\u001b[0m: name 'nu_2' is not defined"
     ]
    }
   ],
   "source": [
    "(nu_2[0]==9999).sum()"
   ]
  },
  {
   "cell_type": "code",
   "execution_count": 16,
   "metadata": {},
   "outputs": [],
   "source": [
    "def remove9999 (Momenta4, leading):\n",
    "    if leading == 1:\n",
    "        nu_ref = Momentum4.m_eta_phi_p(np.zeros(len(df[\"gen_nu_phi_1\"])), df[\"gen_nu_eta_1\"], df[\"gen_nu_phi_1\"], df[\"gen_nu_p_1\"])\n",
    "    if leading == 2:\n",
    "        nu_ref = Momentum4.m_eta_phi_p(np.zeros(len(df[\"gen_nu_phi_2\"])), df[\"gen_nu_eta_2\"], df[\"gen_nu_phi_2\"], df[\"gen_nu_p_2\"])\n",
    "    \n",
    "    array = np.array(Momenta4).T\n",
    "    array = array[nu_ref.p_z != 9999]\n",
    "    array = array.T\n",
    "    return Momentum4(array[0], array[1], array[2], array[3])"
   ]
  },
  {
   "cell_type": "code",
   "execution_count": 17,
   "metadata": {},
   "outputs": [
    {
     "name": "stderr",
     "output_type": "stream",
     "text": [
      "C:\\Users\\Stanley\\.conda\\envs\\msci\\lib\\site-packages\\pandas\\core\\series.py:726: RuntimeWarning: overflow encountered in exp\n",
      "  result = getattr(ufunc, method)(*inputs, **kwargs)\n"
     ]
    }
   ],
   "source": [
    "# get tau vectors\n",
    "# reco + gen neutrino\n",
    "pi_1 = Momentum4(df['pi_E_1'], df[\"pi_px_1\"], df[\"pi_py_1\"], df[\"pi_pz_1\"])\n",
    "pi2_1 = Momentum4(df['pi2_E_1'], df[\"pi2_px_1\"], df[\"pi2_py_1\"], df[\"pi2_pz_1\"])\n",
    "pi3_1 = Momentum4(df['pi3_E_1'], df[\"pi3_px_1\"], df[\"pi3_py_1\"], df[\"pi3_pz_1\"])\n",
    "nu_1 = Momentum4.m_eta_phi_p(np.zeros(len(df[\"gen_nu_phi_1\"])), df[\"gen_nu_eta_1\"], df[\"gen_nu_phi_1\"], df[\"gen_nu_p_1\"])\n",
    "pi_1 = remove9999(pi_1, 1)\n",
    "pi2_1 = remove9999(pi2_1, 1)\n",
    "pi3_1 = remove9999(pi3_1, 1)\n",
    "nu_1 = remove9999(nu_1, 1)\n",
    "tau_1 = pi_1 + pi2_1 + pi3_1 + nu_1\n",
    "\n",
    "pi_2 = Momentum4(df['pi_E_2'], df[\"pi_px_2\"], df[\"pi_py_2\"], df[\"pi_pz_2\"])\n",
    "pi2_2 = Momentum4(df['pi2_E_2'], df[\"pi2_px_2\"], df[\"pi2_py_2\"], df[\"pi2_pz_2\"])\n",
    "pi3_2 = Momentum4(df['pi3_E_2'], df[\"pi3_px_2\"], df[\"pi3_py_2\"], df[\"pi3_pz_2\"])\n",
    "nu_2 = Momentum4.m_eta_phi_p(np.zeros(len(df[\"gen_nu_phi_2\"])), df[\"gen_nu_eta_2\"], df[\"gen_nu_phi_2\"], df[\"gen_nu_p_2\"])\n",
    "pi_2 = remove9999(pi_2, 1)\n",
    "pi2_2 = remove9999(pi2_2, 1)\n",
    "pi3_2 = remove9999(pi3_2, 1)\n",
    "nu_2 = remove9999(nu_2, 1)\n",
    "tau_2 = pi_2 + pi2_2 + pi3_2 + nu_2"
   ]
  },
  {
   "cell_type": "code",
   "execution_count": null,
   "metadata": {},
   "outputs": [],
   "source": [
    "df.columns"
   ]
  },
  {
   "cell_type": "code",
   "execution_count": 18,
   "metadata": {},
   "outputs": [],
   "source": []
  },
  {
   "cell_type": "code",
   "execution_count": 48,
   "metadata": {},
   "outputs": [],
   "source": [
    "np.random.seed(1)"
   ]
  },
  {
   "cell_type": "code",
   "execution_count": 62,
   "metadata": {
    "scrolled": false
   },
   "outputs": [
    {
     "data": {
      "image/png": "[encoded data removed]",
      "text/plain": [
       "<Figure size 720x432 with 1 Axes>"
      ]
     },
     "metadata": {
      "needs_background": "light"
     },
     "output_type": "display_data"
    }
   ],
   "source": [
    "# %matplotlib inline\n",
    "samples = min(len(p_z_tau_1), len(tau_1.p_z))\n",
    "lower_lim = -500\n",
    "upper_lim = 500\n",
    "reco_plot = np.random.choice(p_x_tau_1, samples)\n",
    "gen_plot = np.random.choice(tau_1.p_x, samples)\n",
    "reco_plot = np.clip(reco_plot, lower_lim, upper_lim)\n",
    "gen_plot = np.clip(gen_plot, lower_lim, upper_lim)\n",
    "plt.hist(reco_plot, bins=200, alpha=0.5, label='calculated via SV')\n",
    "plt.hist(gen_plot, bins=200, alpha=0.5, label='gen level')\n",
    "plt.legend()\n",
    "# plt.xlim(-1000,1000)\n",
    "plt.xlabel('p_x_tau_1')\n",
    "plt.ylabel('Freq')\n",
    "plt.tight_layout()\n",
    "# plt.savefig('sv_analysis/sv_a1_a1_check_p_x.png')\n",
    "plt.title('clipped at [-500, 500]')\n",
    "plt.show()"
   ]
  },
  {
   "cell_type": "code",
   "execution_count": null,
   "metadata": {},
   "outputs": [],
   "source": [
    "p_z_tau_1.shape"
   ]
  },
  {
   "cell_type": "code",
   "execution_count": 77,
   "metadata": {
    "scrolled": false
   },
   "outputs": [
    {
     "data": {
      "image/png": "[encoded data removed]",
      "text/plain": [
       "<Figure size 720x432 with 1 Axes>"
      ]
     },
     "metadata": {
      "needs_background": "light"
     },
     "output_type": "display_data"
    }
   ],
   "source": [
    "# %matplotlib inline\n",
    "# np.random.seed(1)\n",
    "upper_lim = 2\n",
    "lower_lim = -2\n",
    "reco = np.random.choice(p_z_tau_1,samples)\n",
    "gen = np.random.choice(tau_1.p_z,samples)\n",
    "rel_error = (gen-reco)/gen\n",
    "rel_error_red = rel_error[np.where((rel_error >= lower_lim) & (rel_error <= upper_lim))]\n",
    "# rel_error = np.clip(rel_error, lower_lim,upper_lim)\n",
    "plt.hist(rel_error_red, bins=300, label='p_z', alpha=0.5)\n",
    "# plt.legend()\n",
    "# plt.xlim(-10,10)\n",
    "reco = np.random.choice(p_x_tau_1,samples)\n",
    "gen = np.random.choice(tau_1.p_x,samples)\n",
    "rel_error = (gen-reco)/gen\n",
    "rel_error_red = rel_error[np.where((rel_error >= lower_lim) & (rel_error <= upper_lim))]\n",
    "# rel_error = np.clip(rel_error, lower_lim,upper_lim)\n",
    "plt.hist(rel_error_red, bins=300, label='p_x', alpha=0.5)\n",
    "\n",
    "plt.legend()\n",
    "plt.xlabel('relative error')\n",
    "plt.ylabel('freq')\n",
    "plt.title('restricted range to [-2, 2]')\n",
    "plt.tight_layout()\n",
    "plt.savefig('sv_analysis/sv_a1_a1_check_rel_err.png')\n",
    "plt.show()"
   ]
  },
  {
   "cell_type": "code",
   "execution_count": 78,
   "metadata": {},
   "outputs": [
    {
     "data": {
      "image/png": "[encoded data removed]",
      "text/plain": [
       "<Figure size 720x432 with 1 Axes>"
      ]
     },
     "metadata": {
      "needs_background": "light"
     },
     "output_type": "display_data"
    }
   ],
   "source": [
    "upper_lim = 750\n",
    "lower_lim = -750\n",
    "reco = np.random.choice(p_x_tau_1,samples)\n",
    "gen = np.random.choice(tau_1.p_x,samples)\n",
    "error = (gen-reco)\n",
    "# rel_error_red = rel_error[np.where((rel_error >= lower_lim) & (rel_error <= upper_lim))]\n",
    "error = np.clip(error, lower_lim, upper_lim)\n",
    "plt.hist(error, bins=300, label='p_x', alpha=0.5)\n",
    "\n",
    "reco = np.random.choice(p_z_tau_1,samples)\n",
    "gen = np.random.choice(tau_1.p_z,samples)\n",
    "error = (gen-reco)\n",
    "# rel_error_red = rel_error[np.where((rel_error >= lower_lim) & (rel_error <= upper_lim))]\n",
    "error = np.clip(error, lower_lim, upper_lim)\n",
    "plt.hist(error, bins=300, label='p_z', alpha=0.5)\n",
    "\n",
    "plt.legend()\n",
    "# plt.xlim(-10,10)\n",
    "plt.xlabel('error')\n",
    "plt.ylabel('freq')\n",
    "plt.title('clipped range to [-750, 750]')\n",
    "plt.tight_layout()\n",
    "plt.savefig('sv_analysis/sv_a1_a1_check_err.png')\n",
    "plt.show()"
   ]
  },
  {
   "cell_type": "code",
   "execution_count": 133,
   "metadata": {},
   "outputs": [
    {
     "data": {
      "text/plain": [
       "0.3678181576880965"
      ]
     },
     "execution_count": 133,
     "metadata": {},
     "output_type": "execute_result"
    }
   ],
   "source": [
    "(abs((gen-reco)/gen)<1).sum()/len((gen-reco)/gen)"
   ]
  }
 ],
 "metadata": {
  "kernelspec": {
   "display_name": "Python 3",
   "language": "python",
   "name": "python3"
  },
  "language_info": {
   "codemirror_mode": {
    "name": "ipython",
    "version": 3
   },
   "file_extension": ".py",
   "mimetype": "text/x-python",
   "name": "python",
   "nbconvert_exporter": "python",
   "pygments_lexer": "ipython3",
   "version": "3.8.5"
  }
 },
 "nbformat": 4,
 "nbformat_minor": 4
}
