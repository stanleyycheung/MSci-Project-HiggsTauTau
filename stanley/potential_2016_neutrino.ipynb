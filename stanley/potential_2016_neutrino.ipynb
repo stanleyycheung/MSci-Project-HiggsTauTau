{
 "cells": [
  {
   "cell_type": "code",
   "execution_count": null,
   "metadata": {},
   "outputs": [],
   "source": [
    "!pip install pylorentz --user"
   ]
  },
  {
   "cell_type": "code",
   "execution_count": 1,
   "metadata": {},
   "outputs": [],
   "source": [
    "import uproot \n",
    "import numpy as np\n",
    "import pandas as pd\n",
    "import tensorflow as tf\n",
    "import matplotlib.pyplot as plt\n",
    "from sklearn.model_selection import train_test_split\n",
    "from scipy.spatial.transform import Rotation as R\n",
    "from sklearn.preprocessing import MinMaxScaler\n",
    "from sklearn.metrics import classification_report, roc_curve, roc_auc_score\n",
    "from pylorentz import Momentum4\n",
    "from pylorentz import Position4"
   ]
  },
  {
   "cell_type": "code",
   "execution_count": 1,
   "metadata": {},
   "outputs": [
    {
     "ename": "NameError",
     "evalue": "name 'uproot' is not defined",
     "output_type": "error",
     "traceback": [
      "\u001b[1;31m---------------------------------------------------------------------------\u001b[0m",
      "\u001b[1;31mNameError\u001b[0m                                 Traceback (most recent call last)",
      "\u001b[1;32m<ipython-input-1-b74c88ba5e4a>\u001b[0m in \u001b[0;36m<module>\u001b[1;34m\u001b[0m\n\u001b[0;32m      1\u001b[0m \u001b[1;31m# tree_tt = uproot.open(\"/eos/user/d/dwinterb/SWAN_projects/Masters_CP/MVAFILE_AllHiggs_tt.root\")[\"ntuple\"]\u001b[0m\u001b[1;33m\u001b[0m\u001b[1;33m\u001b[0m\u001b[1;33m\u001b[0m\u001b[0m\n\u001b[1;32m----> 2\u001b[1;33m \u001b[0mtree_tt\u001b[0m \u001b[1;33m=\u001b[0m \u001b[0muproot\u001b[0m\u001b[1;33m.\u001b[0m\u001b[0mopen\u001b[0m\u001b[1;33m(\u001b[0m\u001b[1;34m\"/eos/user/s/stcheung/SWAN_projects/Masters_CP/MVAFILE_AllHiggs_tt.root\"\u001b[0m\u001b[1;33m)\u001b[0m\u001b[1;33m[\u001b[0m\u001b[1;34m\"ntuple\"\u001b[0m\u001b[1;33m]\u001b[0m\u001b[1;33m\u001b[0m\u001b[1;33m\u001b[0m\u001b[0m\n\u001b[0m\u001b[0;32m      3\u001b[0m \u001b[0mprint\u001b[0m\u001b[1;33m(\u001b[0m\u001b[1;34m'loaded root file'\u001b[0m\u001b[1;33m)\u001b[0m\u001b[1;33m\u001b[0m\u001b[1;33m\u001b[0m\u001b[0m\n\u001b[0;32m      4\u001b[0m variables = [\n\u001b[0;32m      5\u001b[0m             \u001b[1;34m\"wt_cp_sm\"\u001b[0m\u001b[1;33m,\u001b[0m \u001b[1;34m\"wt_cp_ps\"\u001b[0m\u001b[1;33m,\u001b[0m \u001b[1;34m\"wt_cp_mm\"\u001b[0m\u001b[1;33m,\u001b[0m \u001b[1;34m\"rand\"\u001b[0m\u001b[1;33m,\u001b[0m\u001b[1;33m\u001b[0m\u001b[1;33m\u001b[0m\u001b[0m\n",
      "\u001b[1;31mNameError\u001b[0m: name 'uproot' is not defined"
     ]
    }
   ],
   "source": [
    "# tree_tt = uproot.open(\"/eos/user/d/dwinterb/SWAN_projects/Masters_CP/MVAFILE_AllHiggs_tt.root\")[\"ntuple\"]\n",
    "tree_tt = uproot.open(\"/eos/user/s/stcheung/SWAN_projects/Masters_CP/MVAFILE_AllHiggs_tt.root\")[\"ntuple\"]\n",
    "print('loaded root file')\n",
    "variables = [\n",
    "            \"wt_cp_sm\", \"wt_cp_ps\", \"wt_cp_mm\", \"rand\",\n",
    "            \"aco_angle_1\", \"aco_angle_5\", \"aco_angle_6\", \"aco_angle_7\", \n",
    "            \"mva_dm_1\",\"mva_dm_2\",\n",
    "            \"tau_decay_mode_1\",\"tau_decay_mode_2\",\n",
    "            \"ip_x_1\", \"ip_y_1\", \"ip_z_1\", \"ip_x_2\", \"ip_y_2\", \"ip_z_2\", # ignore impact parameter for now\n",
    "            \"pi_E_1\", \"pi_px_1\", \"pi_py_1\", \"pi_pz_1\", \n",
    "            \"pi_E_2\", \"pi_px_2\", \"pi_py_2\", \"pi_pz_2\", \n",
    "            \"pi0_E_1\", \"pi0_px_1\", \"pi0_py_1\", \"pi0_pz_1\",\n",
    "            \"pi0_E_2\", \"pi0_px_2\", \"pi0_py_2\", \"pi0_pz_2\", \n",
    "            \"y_1_1\", \"y_1_2\",\n",
    "            'met', 'metx', 'mety',\n",
    "            'metCov00', 'metCov01', 'metCov10', 'metCov11'\n",
    "            'sv_x_1', 'sv_y_1', 'sv_z_1', 'sv_x_2', 'sv_y_2','sv_z_2'\n",
    "        ]\n",
    "\n",
    "variables += [\"gen_nu_p_1\", \"gen_nu_phi_1\", \"gen_nu_eta_1\", #leading neutrino, gen level\n",
    "            \"gen_nu_p_2\", \"gen_nu_phi_2\", \"gen_nu_eta_2\" #subleading neutrino, gen level\n",
    "             ]\n",
    "\n",
    "df_tt = tree_tt.pandas.df(variables)\n",
    "print('loaded df')\n",
    "# select only rho-rho events\n",
    "df_rho = df[(df['mva_dm_1']==1) & (df['mva_dm_2']==1) & (df[\"tau_decay_mode_1\"] == 1) & (df[\"tau_decay_mode_2\"] == 1)]\n",
    "# drop unnecessary labels \n",
    "df = df_rho.drop([\"mva_dm_1\",\"mva_dm_2\",\"tau_decay_mode_1\",\"tau_decay_mode_2\", \"wt_cp_sm\", \"wt_cp_ps\", \"wt_cp_mm\", \"rand\"], axis=1).reset_index(drop=True)\n",
    "print('finished rho-rho loading')"
   ]
  },
  {
   "cell_type": "code",
   "execution_count": null,
   "metadata": {},
   "outputs": [],
   "source": [
    "# gen level data\n",
    "tree_tt_gen = uproot.open(\"/eos/user/d/dwinterb/SWAN_projects/Masters_CP/MVAFILE_GEN_AllHiggs_tt.root\")[\"ntuple\"]\n",
    "variables_gen = [\n",
    "            \"wt_cp_sm\", \"wt_cp_ps\", \"wt_cp_mm\", \"rand\",\n",
    "            \"dm_1\", \"dm_2\",\n",
    "            \"pi_E_1\", \"pi_px_1\", \"pi_py_1\", \"pi_pz_1\", # charged pion 1\n",
    "            \"pi_E_2\", \"pi_px_2\", \"pi_py_2\", \"pi_pz_2\", # charged pion 2\n",
    "            \"pi0_E_1\", \"pi0_px_1\", \"pi0_py_1\", \"pi0_pz_1\", # neutral pion 1\n",
    "            \"pi0_E_2\", \"pi0_px_2\", \"pi0_py_2\", \"pi0_pz_2\", # neutral pion 2,\n",
    "            'metx', 'mety',\n",
    "            ]\n",
    "df_tt_gen = tree_tt_gen.pandas.df(variables_gen)\n",
    "df_rho = df_tt_gen[(df_tt_gen['dm_1']==1) & (df_tt_gen['dm_2']==1)]"
   ]
  },
  {
   "cell_type": "code",
   "execution_count": null,
   "metadata": {},
   "outputs": [],
   "source": [
    "df_tt_gen.to_pickle('./df_tt_gen.pkl')"
   ]
  },
  {
   "cell_type": "code",
   "execution_count": null,
   "metadata": {
    "scrolled": false
   },
   "outputs": [],
   "source": [
    "df_tt_gen = pd.read_pickle('./df_tt_gen.pkl')"
   ]
  },
  {
   "cell_type": "code",
   "execution_count": null,
   "metadata": {},
   "outputs": [],
   "source": [
    "df_tt.to_pickle('./df_tt.pkl')"
   ]
  },
  {
   "cell_type": "code",
   "execution_count": 2,
   "metadata": {
    "scrolled": true
   },
   "outputs": [],
   "source": [
    "df_tt = pd.read_pickle('df_tt.pkl')"
   ]
  },
  {
   "cell_type": "code",
   "execution_count": 3,
   "metadata": {},
   "outputs": [],
   "source": [
    "channel = 'rho_rho'"
   ]
  },
  {
   "cell_type": "code",
   "execution_count": 4,
   "metadata": {
    "scrolled": false
   },
   "outputs": [],
   "source": [
    "# reco level data\n",
    "if channel == 'rho_rho':\n",
    "    df_rho = df_tt[(df_tt['mva_dm_1']==1) & (df_tt['mva_dm_2']==1) & (df_tt[\"tau_decay_mode_1\"] == 1) & (df_tt[\"tau_decay_mode_2\"] == 1)]\n",
    "    df = df_rho.drop([\"mva_dm_1\",\"mva_dm_2\",\"tau_decay_mode_1\",\"tau_decay_mode_2\", \"wt_cp_sm\", \"wt_cp_ps\", \"wt_cp_mm\", \"rand\"], axis=1).reset_index(drop=True)\n",
    "elif channel == 'rho_a1':\n",
    "    df_rho_a1 = df_tt[(df_tt['mva_dm_1']==1) & (df_tt['mva_dm_2']==10) & (df_tt[\"tau_decay_mode_1\"] == 1)]\n",
    "    df = df_rho_a1.drop([\"mva_dm_1\",\"mva_dm_2\",\"tau_decay_mode_1\",\"tau_decay_mode_2\", \"wt_cp_sm\", \"wt_cp_ps\", \"wt_cp_mm\", \"rand\"], axis=1).reset_index(drop=True)\n",
    "elif channel == 'a1_a1':\n",
    "    df_a1_a1 = df_tt[(df_tt['mva_dm_1']==10) & (df_tt['mva_dm_2']==10)]\n",
    "    df = df_a1_a1.drop([\"mva_dm_1\",\"mva_dm_2\",\"tau_decay_mode_1\",\"tau_decay_mode_2\", \"wt_cp_sm\", \"wt_cp_ps\", \"wt_cp_mm\", \"rand\"], axis=1).reset_index(drop=True)    \n",
    "else:\n",
    "    print('CHANNEL not understood!')"
   ]
  },
  {
   "cell_type": "code",
   "execution_count": null,
   "metadata": {},
   "outputs": [],
   "source": [
    "# gen level data NEED TO CHECK FOR TAU DECAY MODE LABEL\n",
    "if channel == 'rho_rho':\n",
    "    df_rho = df_tt_gen[(df_tt_gen['dm_1']==1) & (df_tt_gen['dm_2']==1)]\n",
    "    df = df_rho.drop([\"dm_1\",\"dm_2\",\"wt_cp_sm\", \"wt_cp_ps\", \"wt_cp_mm\", \"rand\"], axis=1).reset_index(drop=True)\n",
    "elif channel == 'rho_a1':\n",
    "    df_rho_a1 = df_tt_gen[(df_tt_gen['dm_1']==1) & (df_tt_gen['dm_2']==10)]\n",
    "    df = df_rho_a1.drop([\"dm_1\",\"dm_2\",\"wt_cp_sm\", \"wt_cp_ps\", \"wt_cp_mm\", \"rand\"], axis=1).reset_index(drop=True)\n",
    "elif channel == 'a1_a1':\n",
    "    df_a1_a1 = df_tt_gen[(df_tt_gen['dm_1']==10) & (df_tt_gen['dm_2']==10)]\n",
    "    df = df_a1_a1.drop([\"dm_1\",\"dm_2\",\"wt_cp_sm\", \"wt_cp_ps\", \"wt_cp_mm\", \"rand\"], axis=1).reset_index(drop=True)\n",
    "else:\n",
    "    print('CHANNEL not understood!')\n",
    "df['met'] = np.sqrt(df['metx']**2+df['mety']**2)"
   ]
  },
  {
   "cell_type": "code",
   "execution_count": null,
   "metadata": {
    "scrolled": true
   },
   "outputs": [],
   "source": [
    "df.head()"
   ]
  },
  {
   "cell_type": "code",
   "execution_count": null,
   "metadata": {},
   "outputs": [],
   "source": [
    "# y = (~(df_rho[\"rand\"]<df_rho[\"wt_cp_ps\"]/2).to_numpy()).astype(int)\n",
    "# np.save('./potential_2016/y_kristof', y, allow_pickle=True)"
   ]
  },
  {
   "cell_type": "code",
   "execution_count": 5,
   "metadata": {},
   "outputs": [],
   "source": [
    "N = len(df['metx'])\n",
    "met_x = Momentum4(df['metx'], np.zeros(N), np.zeros(N), np.zeros(N))\n",
    "met_y = Momentum4(df['mety'], np.zeros(N), np.zeros(N), np.zeros(N))\n",
    "met = Momentum4(df['met'], np.zeros(N), np.zeros(N), np.zeros(N))"
   ]
  },
  {
   "cell_type": "code",
   "execution_count": 6,
   "metadata": {},
   "outputs": [],
   "source": [
    "pi_1 = Momentum4(df['pi_E_1'], df[\"pi_px_1\"], df[\"pi_py_1\"], df[\"pi_pz_1\"])\n",
    "pi_2 = Momentum4(df['pi_E_2'], df[\"pi_px_2\"], df[\"pi_py_2\"], df[\"pi_pz_2\"])\n",
    "pi0_1 = Momentum4(df['pi0_E_1'], df[\"pi0_px_1\"], df[\"pi0_py_1\"], df[\"pi0_pz_1\"])\n",
    "pi0_2 = Momentum4(df['pi0_E_2'], df[\"pi0_px_2\"], df[\"pi0_py_2\"], df[\"pi0_pz_2\"])\n",
    "rho_1 = pi_1 + pi0_1\n",
    "rho_2 = pi_2 + pi0_2\n",
    "# rho_1.m is invariant mass of rhos\n",
    "# boost into rest frame of resonances\n",
    "rest_frame = pi_1 + pi_2 + pi0_1 + pi0_2\n",
    "boost = Momentum4(rest_frame[0], -rest_frame[1], -rest_frame[2], -rest_frame[3])\n",
    "pi_1_boosted = pi_1.boost_particle(boost)\n",
    "pi_2_boosted = pi_2.boost_particle(boost)\n",
    "pi0_1_boosted = pi0_1.boost_particle(boost)\n",
    "pi0_2_boosted = pi0_2.boost_particle(boost)\n",
    "rho_1_boosted = pi_1_boosted + pi0_1_boosted\n",
    "rho_2_boosted = pi_2_boosted + pi0_2_boosted\n",
    "# boost MET\n",
    "met_x_boosted = met_x.boost_particle(boost)\n",
    "met_y_boosted = met_y.boost_particle(boost)\n",
    "met_boosted = met.boost_particle(boost)"
   ]
  },
  {
   "cell_type": "code",
   "execution_count": 7,
   "metadata": {},
   "outputs": [
    {
     "name": "stdout",
     "output_type": "stream",
     "text": [
      "finished getting rotated 4-vector 0\n",
      "finished getting rotated 4-vector 100000\n",
      "finished getting rotated 4-vector 200000\n",
      "finished getting rotated 4-vector 300000\n",
      "finished getting rotated 4-vector 400000\n",
      "finished getting rotated 4-vector 500000\n",
      "finished getting rotated 4-vector 600000\n",
      "finished getting rotated 4-vector 700000\n",
      "finished getting rotated 4-vector 800000\n",
      "finished getting rotated 4-vector 900000\n"
     ]
    }
   ],
   "source": [
    "# rotations\n",
    "def rotation_matrix_from_vectors(vec1, vec2):\n",
    "    \"\"\" Find the rotation matrix that aligns vec1 to vec2\n",
    "    :param vec1: A 3d \"source\" vector\n",
    "    :param vec2: A 3d \"destination\" vector\n",
    "    :return mat: A transform matrix (3x3) which when applied to vec1, aligns it with vec2.\n",
    "    \"\"\"\n",
    "    a, b = (vec1 / np.linalg.norm(vec1)).reshape(3), (vec2 / np.linalg.norm(vec2)).reshape(3)\n",
    "    v = np.cross(a, b)\n",
    "    c = np.dot(a, b)\n",
    "    s = np.linalg.norm(v)\n",
    "    kmat = np.array([[0, -v[2], v[1]], [v[2], 0, -v[0]], [-v[1], v[0], 0]])\n",
    "    rotation_matrix = np.eye(3) + kmat + kmat.dot(kmat) * ((1 - c) / (s ** 2))\n",
    "    return rotation_matrix\n",
    "    \n",
    "pi_1_boosted_rot = []\n",
    "pi_2_boosted_rot = []\n",
    "pi0_1_boosted_rot = []\n",
    "pi0_2_boosted_rot = []\n",
    "rho_1_boosted_rot = []\n",
    "rho_2_boosted_rot = []\n",
    "for i in range(pi_1_boosted[:].shape[1]):\n",
    "    rot_mat = rotation_matrix_from_vectors(rho_1_boosted[1:, i], [0,0,1])\n",
    "    pi_1_boosted_rot.append(rot_mat.dot(pi_1_boosted[1:, i]))\n",
    "    pi0_1_boosted_rot.append(rot_mat.dot(pi0_1_boosted[1:, i]))\n",
    "    pi_2_boosted_rot.append(rot_mat.dot(pi_2_boosted[1:, i]))\n",
    "    pi0_2_boosted_rot.append(rot_mat.dot(pi0_2_boosted[1:, i]))\n",
    "    rho_1_boosted_rot.append(rot_mat.dot(rho_1_boosted[1:, i]))\n",
    "    rho_2_boosted_rot.append(rot_mat.dot(rho_2_boosted[1:, i]))\n",
    "    if i%100000==0:\n",
    "        print('finished getting rotated 4-vector', i)\n",
    "        "
   ]
  },
  {
   "cell_type": "code",
   "execution_count": 8,
   "metadata": {
    "scrolled": false
   },
   "outputs": [],
   "source": [
    "pi_1_boosted_rot = np.array(pi_1_boosted_rot)\n",
    "pi_2_boosted_rot = np.array(pi_2_boosted_rot)\n",
    "pi0_1_boosted_rot = np.array(pi0_1_boosted_rot)\n",
    "pi0_2_boosted_rot = np.array(pi0_2_boosted_rot)\n",
    "rho_1_boosted_rot = np.array(rho_1_boosted_rot)\n",
    "rho_2_boosted_rot = np.array(rho_2_boosted_rot)"
   ]
  },
  {
   "cell_type": "code",
   "execution_count": 46,
   "metadata": {},
   "outputs": [
    {
     "data": {
      "text/plain": [
       "Index(['aco_angle_1', 'aco_angle_5', 'aco_angle_6', 'aco_angle_7', 'ip_x_1',\n",
       "       'ip_y_1', 'ip_z_1', 'ip_x_2', 'ip_y_2', 'ip_z_2', 'pi_E_1', 'pi_px_1',\n",
       "       'pi_py_1', 'pi_pz_1', 'pi_E_2', 'pi_px_2', 'pi_py_2', 'pi_pz_2',\n",
       "       'pi0_E_1', 'pi0_px_1', 'pi0_py_1', 'pi0_pz_1', 'pi0_E_2', 'pi0_px_2',\n",
       "       'pi0_py_2', 'pi0_pz_2', 'y_1_1', 'y_1_2', 'met', 'metx', 'mety',\n",
       "       'metcov00', 'metcov01', 'metcov10', 'metcov11', 'gen_nu_p_1',\n",
       "       'gen_nu_phi_1', 'gen_nu_eta_1', 'gen_nu_p_2', 'gen_nu_phi_2',\n",
       "       'gen_nu_eta_2'],\n",
       "      dtype='object')"
      ]
     },
     "execution_count": 46,
     "metadata": {},
     "output_type": "execute_result"
    }
   ],
   "source": [
    "df.columns"
   ]
  },
  {
   "cell_type": "code",
   "execution_count": 78,
   "metadata": {
    "scrolled": true
   },
   "outputs": [],
   "source": [
    "# create new dataframe to store this new inputs\n",
    "df_new_data = {\n",
    "    'pi_E_1_br': pi_1_boosted[0],\n",
    "    'pi_px_1_br': pi_1_boosted_rot[:,0],\n",
    "    'pi_py_1_br': pi_1_boosted_rot[:,1],\n",
    "    'pi_pz_1_br': pi_1_boosted_rot[:,2],\n",
    "    'pi_E_2_br': pi_2_boosted[0],\n",
    "    'pi_px_2_br': pi_2_boosted_rot[:,0],\n",
    "    'pi_py_2_br': pi_2_boosted_rot[:,1],\n",
    "    'pi_pz_2_br': pi_2_boosted_rot[:,2],\n",
    "    'pi0_E_1_br': pi0_1_boosted[0],\n",
    "    'pi0_px_1_br': pi0_1_boosted_rot[:,0],\n",
    "    'pi0_py_1_br': pi0_1_boosted_rot[:,1],\n",
    "    'pi0_pz_1_br': pi0_1_boosted_rot[:,2],\n",
    "    'pi0_E_2_br': pi0_2_boosted[0],\n",
    "    'pi0_px_2_br': pi0_2_boosted_rot[:,0],\n",
    "    'pi0_py_2_br': pi0_2_boosted_rot[:,1],\n",
    "    'pi0_pz_2_br': pi0_2_boosted_rot[:,2],\n",
    "    'y_1_1': df.y_1_1,\n",
    "    'y_1_2': df.y_1_2,\n",
    "    'aco_angle_1': df.aco_angle_1,\n",
    "    'm_1': rho_1.m,\n",
    "    'm_2': rho_2.m,\n",
    "    'gen_nu_px_1_br': nu_1_boosted_rot[:,0],\n",
    "    'gen_nu_py_1_br': nu_1_boosted_rot[:,1],\n",
    "    'gen_nu_pz_1_br': nu_1_boosted_rot[:,2],\n",
    "    'gen_nu_px_2_br': nu_2_boosted_rot[:,0],\n",
    "    'gen_nu_py_2_br': nu_2_boosted_rot[:,1],\n",
    "    'gen_nu_pz_2_br': nu_2_boosted_rot[:,2],\n",
    "}\n",
    "df_new = pd.DataFrame(data=df_new_data)\n",
    "df_new.to_pickle('./df_saved/rho_rho/df_rho_rho.pkl')"
   ]
  },
  {
   "cell_type": "code",
   "execution_count": 41,
   "metadata": {},
   "outputs": [
    {
     "data": {
      "text/plain": [
       "array([38.86624918, 17.17515037,  8.52699315, ..., 48.08895789,\n",
       "        1.97226794, 15.00650155])"
      ]
     },
     "execution_count": 41,
     "metadata": {},
     "output_type": "execute_result"
    }
   ],
   "source": [
    "pi_1_boosted[0]"
   ]
  },
  {
   "cell_type": "code",
   "execution_count": 12,
   "metadata": {
    "scrolled": true
   },
   "outputs": [],
   "source": [
    "np.save('reco_info/rho_rho/pi_1_boosted_rot.npy', pi_1_boosted_rot, allow_pickle=True)\n",
    "np.save('reco_info/rho_rho/pi_2_boosted_rot.npy', pi_2_boosted_rot, allow_pickle=True)\n",
    "np.save('reco_info/rho_rho/pi0_1_boosted_rot.npy', pi0_1_boosted_rot, allow_pickle=True)\n",
    "np.save('reco_info/rho_rho/pi0_2_boosted_rot.npy', pi0_2_boosted_rot, allow_pickle=True)"
   ]
  },
  {
   "cell_type": "code",
   "execution_count": 8,
   "metadata": {},
   "outputs": [],
   "source": [
    "pi_1_boosted_rot = np.load('reco_info/rho_rho/pi_1_boosted_rot.npy', allow_pickle=True)\n",
    "pi_2_boosted_rot = np.load('reco_info/rho_rho/pi_2_boosted_rot.npy', allow_pickle=True)\n",
    "pi0_1_boosted_rot = np.load('reco_info/rho_rho/pi0_1_boosted_rot.npy', allow_pickle=True)\n",
    "pi0_2_boosted_rot = np.load('reco_info/rho_rho/pi0_2_boosted_rot.npy', allow_pickle=True)"
   ]
  },
  {
   "cell_type": "code",
   "execution_count": 15,
   "metadata": {},
   "outputs": [],
   "source": [
    "E_miss_boosted = met_boosted[0]\n",
    "E_miss_x_boosted = met_x_boosted[0]\n",
    "E_miss_y_boosted = met_y_boosted[0]"
   ]
  },
  {
   "cell_type": "code",
   "execution_count": null,
   "metadata": {},
   "outputs": [],
   "source": [
    "# to_load = []\n",
    "# to_load_names = [\"pi_1_transformed\", \"pi_2_transformed\", \"pi0_1_transformed\", \"pi0_2_transformed\", \"rho_1_transformed\", \"rho_2_transformed\", \"aco_angle_1\", \"y_1_1\", \"y_1_2\", \"m_1\", \"m_2\", \"w_a\", \"w_b\"]\n",
    "# for i in range(len(to_load_names)):\n",
    "#     to_load.append(np.load(f'potential_2016/{to_load_names[i]}.npy', allow_pickle=True))\n",
    "# pi_1_transformed, pi_2_transformed, pi0_1_transformed, pi0_2_transformed, rho_1_transformed, rho_2_transformed, aco_angle_1, y_1_1, y_1_2, m_1, m_2, w_a, w_b = to_load"
   ]
  },
  {
   "cell_type": "code",
   "execution_count": null,
   "metadata": {},
   "outputs": [],
   "source": [
    "# pi_1_boosted_rot = pi_1_transformed[:, 1:]\n",
    "# pi_2_boosted_rot = pi_2_transformed[:, 1:]\n",
    "# pi0_1_boosted_rot = pi0_1_transformed[:, 1:]\n",
    "# pi0_2_boosted_rot = pi0_2_transformed[:, 1:]\n",
    "# rho_1_boosted_rot = rho_1_transformed[:, 1:]\n",
    "# rho_2_boosted_rot = rho_2_transformed[:, 1:]"
   ]
  },
  {
   "cell_type": "code",
   "execution_count": 9,
   "metadata": {},
   "outputs": [],
   "source": [
    "higgs = rho_1_boosted + rho_2_boosted\n",
    "m_tau = 1.776\n",
    "m_rho = 0.7754\n",
    "m_higgs = 125.18"
   ]
  },
  {
   "cell_type": "code",
   "execution_count": 10,
   "metadata": {},
   "outputs": [],
   "source": [
    "E_miss = df['met'].to_numpy()\n",
    "E_miss_x = df['metx'].to_numpy()\n",
    "E_miss_y = df['mety'].to_numpy()"
   ]
  },
  {
   "cell_type": "code",
   "execution_count": 11,
   "metadata": {
    "scrolled": true
   },
   "outputs": [],
   "source": [
    "rho_1_boosted_rot = np.array(rho_1_boosted_rot)\n",
    "rho_2_boosted_rot = np.array(rho_2_boosted_rot)"
   ]
  },
  {
   "cell_type": "code",
   "execution_count": 12,
   "metadata": {},
   "outputs": [],
   "source": [
    "def calc_alpha(mode):\n",
    "    if mode == 1:\n",
    "        alpha_2 = (E_miss_y*rho_1[1]-E_miss_x*rho_1[2])/(rho_2[2]*rho_1[1]-rho_2[1]*rho_1[2])\n",
    "        alpha_1 = (E_miss_x - alpha_2*rho_2[1])/rho_1[1]\n",
    "    elif mode == 2:\n",
    "        alpha_1 = (E_miss_y*rho_2[1]-E_miss_x*rho_2[2])/(rho_1[2]*rho_2[1]-rho_1[1]*rho_2[2])\n",
    "        alpha_2 = (m_higgs**2/2 - m_tau**2)/(rho_1[0]*rho_2[0]-rho_1[1]*rho_2[1]-rho_1[2]*rho_1[2]-rho_1[3]*rho_1[3])/(1+alpha_1) - 1\n",
    "    elif mode == 3:\n",
    "        alpha_2 = (E_miss_y*rho_1[1]-E_miss_x*rho_1[2])/(rho_2[2]*rho_1[1]-rho_2[1]*rho_1[2])\n",
    "        alpha_1 = (m_higgs**2/2 - m_tau**2)/(rho_1[0]*rho_2[0]-rho_1[1]*rho_2[1]-rho_1[2]*rho_1[2]-rho_1[3]*rho_1[3])/(1+alpha_2) - 1\n",
    "    else:\n",
    "        raise InputError('incorrect mode in parameters')\n",
    "    return alpha_1, alpha_2"
   ]
  },
  {
   "cell_type": "code",
   "execution_count": 13,
   "metadata": {},
   "outputs": [],
   "source": [
    "def calc_alpha_2(E_miss_x, E_miss_y, rho_1, rho_2, mode):\n",
    "    if mode == 1:\n",
    "        alpha_2 = (E_miss_y*rho_1[1]-E_miss_x*rho_1[2])/(rho_2[2]*rho_1[1]-rho_2[1]*rho_1[2])\n",
    "        alpha_1 = (E_miss_x - alpha_2*rho_2[1])/rho_1[1]\n",
    "    elif mode == 2:\n",
    "        alpha_1 = (E_miss_y*rho_2[1]-E_miss_x*rho_2[2])/(rho_1[2]*rho_2[1]-rho_1[1]*rho_2[2])\n",
    "        alpha_2 = (m_higgs**2/2 - m_tau**2)/(rho_1[0]*rho_2[0]-rho_1[1]*rho_2[1]-rho_1[2]*rho_1[2]-rho_1[3]*rho_1[3])/(1+alpha_1) - 1\n",
    "    elif mode == 3:\n",
    "        alpha_2 = (E_miss_y*rho_1[1]-E_miss_x*rho_1[2])/(rho_2[2]*rho_1[1]-rho_2[1]*rho_1[2])\n",
    "        alpha_1 = (m_higgs**2/2 - m_tau**2)/(rho_1[0]*rho_2[0]-rho_1[1]*rho_2[1]-rho_1[2]*rho_1[2]-rho_1[3]*rho_1[3])/(1+alpha_2) - 1\n",
    "    else:\n",
    "        raise InputError('incorrect mode in parameters')\n",
    "    return alpha_1, alpha_2"
   ]
  },
  {
   "cell_type": "code",
   "execution_count": 14,
   "metadata": {},
   "outputs": [],
   "source": [
    "def evaluate(var, mode=0):\n",
    "    if mode == 0:\n",
    "        print(f\"Fraction of < 0 in {var}: {(eval(var)<0).sum()/len(eval(var)):.3f}, {(eval(var)>0).sum()} values left\")\n",
    "    elif mode == 1:\n",
    "        print(f'Fraction of NaNs in {var}: {np.isnan(eval(var)).sum()/len(eval(var)):.3f}, {len(eval(var))-np.isnan(eval(var)).sum()} values left')"
   ]
  },
  {
   "cell_type": "code",
   "execution_count": 15,
   "metadata": {
    "scrolled": true
   },
   "outputs": [
    {
     "data": {
      "text/plain": [
       "Index(['aco_angle_1', 'aco_angle_5', 'aco_angle_6', 'aco_angle_7', 'ip_x_1',\n",
       "       'ip_y_1', 'ip_z_1', 'ip_x_2', 'ip_y_2', 'ip_z_2', 'pi_E_1', 'pi_px_1',\n",
       "       'pi_py_1', 'pi_pz_1', 'pi_E_2', 'pi_px_2', 'pi_py_2', 'pi_pz_2',\n",
       "       'pi0_E_1', 'pi0_px_1', 'pi0_py_1', 'pi0_pz_1', 'pi0_E_2', 'pi0_px_2',\n",
       "       'pi0_py_2', 'pi0_pz_2', 'y_1_1', 'y_1_2', 'met', 'metx', 'mety',\n",
       "       'metcov00', 'metcov01', 'metcov10', 'metcov11', 'gen_nu_p_1',\n",
       "       'gen_nu_phi_1', 'gen_nu_eta_1', 'gen_nu_p_2', 'gen_nu_phi_2',\n",
       "       'gen_nu_eta_2'],\n",
       "      dtype='object')"
      ]
     },
     "execution_count": 15,
     "metadata": {},
     "output_type": "execute_result"
    }
   ],
   "source": [
    "df.columns"
   ]
  },
  {
   "cell_type": "code",
   "execution_count": 17,
   "metadata": {},
   "outputs": [
    {
     "data": {
      "text/plain": [
       "(-1, -1)"
      ]
     },
     "execution_count": 17,
     "metadata": {},
     "output_type": "execute_result"
    }
   ],
   "source": [
    "# calculate alphas from gaussian distribution, remember to add seed\n",
    "np.random.seed(1)\n",
    "def getAlpha(E_miss_x, E_miss_y, rho_1, rho_2, mean, cov, mode=1, termination=1000):\n",
    "    alpha_1, alpha_2 = calc_alpha_2(E_miss_x, E_miss_y, rho_1, rho_2, mode)\n",
    "    if alpha_1 < 0 or alpha_2 < 0:\n",
    "        E_miss_gen = np.random.multivariate_normal(mean, cov, termination)\n",
    "    else:\n",
    "        return alpha_1, alpha_2\n",
    "    for i in range(termination):\n",
    "        E_miss_x, E_miss_y = E_miss_gen[i]\n",
    "        alpha_1, alpha_2 = calc_alpha_2(E_miss_x, E_miss_y, rho_1, rho_2, mode)\n",
    "#         print(E_miss_x, E_miss_y, alpha_1, alpha_2)\n",
    "        if alpha_1 > 0 and alpha_2 > 0:\n",
    "            return alpha_1, alpha_2\n",
    "    return -1, -1\n",
    "    \n",
    "        \n",
    "E_miss_x_test = df.metx[0] \n",
    "E_miss_y_test = df.mety[0] \n",
    "rho_1_test = np.array([df.pi_E_1[0],df.pi_px_1[0],df.pi_py_1[0],df.pi_pz_1[0]])\n",
    "rho_2_test = np.array([df.pi_E_2[0],df.pi_px_2[0],df.pi_py_2[0],df.pi_pz_2[0]])\n",
    "test_mean = np.array([df.metx[0], df.mety[0]])\n",
    "test_cov = np.array(([df.metcov00[0],df.metcov01[0]],[df.metcov10[0],df.metcov11[0]]))\n",
    "\n",
    "getAlpha(E_miss_x_test, E_miss_y_test, rho_1_test, rho_2_test, test_mean, test_cov,)"
   ]
  },
  {
   "cell_type": "code",
   "execution_count": 38,
   "metadata": {},
   "outputs": [
    {
     "data": {
      "text/plain": [
       "(998268,)"
      ]
     },
     "execution_count": 38,
     "metadata": {},
     "output_type": "execute_result"
    }
   ],
   "source": [
    "E_miss_x.shape"
   ]
  },
  {
   "cell_type": "code",
   "execution_count": 18,
   "metadata": {
    "scrolled": true
   },
   "outputs": [
    {
     "name": "stdout",
     "output_type": "stream",
     "text": [
      "getting alpha for 0, rejection: 1/998268\n"
     ]
    },
    {
     "name": "stderr",
     "output_type": "stream",
     "text": [
      "<ipython-input-17-4438e1c2f98c>:6: RuntimeWarning: covariance is not positive-semidefinite.\n",
      "  E_miss_gen = np.random.multivariate_normal(mean, cov, termination)\n"
     ]
    },
    {
     "name": "stdout",
     "output_type": "stream",
     "text": [
      "getting alpha for 100000, rejection: 10220/998268\n",
      "getting alpha for 200000, rejection: 19646/998268\n",
      "getting alpha for 300000, rejection: 28019/998268\n",
      "getting alpha for 400000, rejection: 34796/998268\n",
      "getting alpha for 500000, rejection: 41756/998268\n",
      "getting alpha for 600000, rejection: 48782/998268\n",
      "getting alpha for 700000, rejection: 55948/998268\n",
      "getting alpha for 800000, rejection: 62069/998268\n",
      "getting alpha for 900000, rejection: 66925/998268\n"
     ]
    }
   ],
   "source": [
    "alpha_1, alpha_2 = [], []\n",
    "rejection = 0\n",
    "for i in range(df.shape[0]):\n",
    "    E_miss_x_test = df.metx[i] \n",
    "    E_miss_y_test = df.mety[i] \n",
    "    rho_1_test = np.array([df.pi_E_1[i],df.pi_px_1[i],df.pi_py_1[i],df.pi_pz_1[i]])\n",
    "    rho_2_test = np.array([df.pi_E_2[i],df.pi_px_2[i],df.pi_py_2[i],df.pi_pz_2[i]])\n",
    "    test_mean = np.array([df.metx[i], df.mety[i]])\n",
    "    test_cov = np.array(([df.metcov00[i],df.metcov01[i]],[df.metcov10[i],df.metcov11[i]]))\n",
    "    alpha_1_loc, alpha_2_loc = getAlpha(E_miss_x_test, E_miss_y_test, rho_1_test, rho_2_test, test_mean, test_cov,)\n",
    "    alpha_1.append(alpha_1_loc)\n",
    "    alpha_2.append(alpha_2_loc)\n",
    "    if alpha_1_loc < 0:\n",
    "        rejection += 1\n",
    "    if i%100000 == 0:\n",
    "        print(f'getting alpha for {i}, rejection: {rejection}/{df.shape[0]}')"
   ]
  },
  {
   "cell_type": "code",
   "execution_count": 29,
   "metadata": {},
   "outputs": [],
   "source": [
    "np.save('alpha_analysis/alpha_1.npy', alpha_1, allow_pickle=True)\n",
    "np.save('alpha_analysis/alpha_2.npy', alpha_2, allow_pickle=True)"
   ]
  },
  {
   "cell_type": "code",
   "execution_count": 50,
   "metadata": {},
   "outputs": [
    {
     "data": {
      "text/plain": [
       "array([47.42022064, 46.25090776, 46.09697802, ..., 50.77851103,\n",
       "       35.21913271, 28.18586738])"
      ]
     },
     "execution_count": 50,
     "metadata": {},
     "output_type": "execute_result"
    }
   ],
   "source": [
    "rho_1_boosted_rot[:,2]"
   ]
  },
  {
   "cell_type": "code",
   "execution_count": null,
   "metadata": {},
   "outputs": [],
   "source": [
    "# use lab frame calculate alphas\n",
    "alpha_1, alpha_2 = calc_alpha(1)\n",
    "\n",
    "evaluate('alpha_1')\n",
    "evaluate('alpha_2')\n",
    "# # set negative alpha to None\n",
    "# alpha_1[alpha_1<0] = None\n",
    "# alpha_2[alpha_2<0] = None"
   ]
  },
  {
   "cell_type": "code",
   "execution_count": 19,
   "metadata": {
    "scrolled": true
   },
   "outputs": [
    {
     "name": "stdout",
     "output_type": "stream",
     "text": [
      "Fraction of < 0 in E_nu_1: 0.072, 926490 values left\n",
      "Fraction of < 0 in E_nu_2: 0.072, 926506 values left\n",
      "Fraction of NaNs in p_t_nu_1: 0.232, 766317 values left\n",
      "Fraction of NaNs in p_t_nu_2: 0.272, 726931 values left\n"
     ]
    },
    {
     "name": "stderr",
     "output_type": "stream",
     "text": [
      "<ipython-input-19-5665b92cd82a>:6: RuntimeWarning: invalid value encountered in sqrt\n",
      "  p_t_nu_1 = np.sqrt(E_nu_1**2 - p_z_nu_1**2)\n",
      "<ipython-input-19-5665b92cd82a>:7: RuntimeWarning: invalid value encountered in sqrt\n",
      "  p_t_nu_2 = np.sqrt(E_nu_2**2 - p_z_nu_2**2)\n"
     ]
    }
   ],
   "source": [
    "# z component of neutrino mom (use boosted and rot frame now)\n",
    "p_z_nu_1 = alpha_1*rho_1_boosted_rot[:, 2]\n",
    "p_z_nu_2 = alpha_2*rho_2_boosted_rot[:, 2]\n",
    "E_nu_1 = (m_tau**2 - rho_1_boosted[0]**2 + rho_1_boosted_rot[:, 2]**2 + 2*p_z_nu_1*rho_1_boosted_rot[:, 2])/(2*rho_1_boosted[0])\n",
    "E_nu_2 = (m_tau**2 - rho_2_boosted[0]**2 + rho_2_boosted_rot[:, 2]**2 + 2*p_z_nu_2*rho_2_boosted_rot[:, 2])/(2*rho_2_boosted[0])\n",
    "p_t_nu_1 = np.sqrt(E_nu_1**2 - p_z_nu_1**2)\n",
    "p_t_nu_2 = np.sqrt(E_nu_2**2 - p_z_nu_2**2)\n",
    "\n",
    "# need to check alpha and E are positive - seen total 17% of values rej (right now only see from rho-rho decay chain)\n",
    "\n",
    "evaluate('E_nu_1')\n",
    "evaluate('E_nu_2')\n",
    "evaluate('p_t_nu_1', 1)\n",
    "evaluate('p_t_nu_2', 1)\n",
    "\n",
    "# # set negative alphas and E to None values\n",
    "# alpha_1[alpha_1<0] = None\n",
    "# alpha_2[alpha_2<0] = None\n",
    "\n",
    "# make negative p_t values to 0\n",
    "p_t_nu_1[np.isnan(p_t_nu_1)] = 0\n",
    "p_t_nu_2[np.isnan(p_t_nu_2)] = 0"
   ]
  },
  {
   "cell_type": "code",
   "execution_count": null,
   "metadata": {},
   "outputs": [],
   "source": [
    "idx_a_1 = np.where(alpha_1<0)[0]\n",
    "idx_a_2 = np.where(alpha_2<0)[0]\n",
    "idx_E_1 = np.where(E_nu_1<0)[0]\n",
    "idx_E_2 = np.where(E_nu_2<0)[0]\n",
    "i1 = np.union1d(idx_a_1, idx_E_1)\n",
    "i2 = np.union1d(idx_a_2, idx_E_2)\n",
    "print(f'Events left from tau_1: {alpha_1.shape[0]-i1.shape[0]}')\n",
    "print(f'Events left from tau_2: {alpha_2.shape[0]-i2.shape[0]}')"
   ]
  },
  {
   "cell_type": "code",
   "execution_count": 20,
   "metadata": {
    "scrolled": true
   },
   "outputs": [
    {
     "data": {
      "text/html": [
       "<div>\n",
       "<style scoped>\n",
       "    .dataframe tbody tr th:only-of-type {\n",
       "        vertical-align: middle;\n",
       "    }\n",
       "\n",
       "    .dataframe tbody tr th {\n",
       "        vertical-align: top;\n",
       "    }\n",
       "\n",
       "    .dataframe thead th {\n",
       "        text-align: right;\n",
       "    }\n",
       "</style>\n",
       "<table border=\"1\" class=\"dataframe\">\n",
       "  <thead>\n",
       "    <tr style=\"text-align: right;\">\n",
       "      <th></th>\n",
       "      <th>aco_angle_1</th>\n",
       "      <th>aco_angle_5</th>\n",
       "      <th>aco_angle_6</th>\n",
       "      <th>aco_angle_7</th>\n",
       "      <th>ip_x_1</th>\n",
       "      <th>ip_y_1</th>\n",
       "      <th>ip_z_1</th>\n",
       "      <th>ip_x_2</th>\n",
       "      <th>ip_y_2</th>\n",
       "      <th>ip_z_2</th>\n",
       "      <th>...</th>\n",
       "      <th>gen_nu_phi_2</th>\n",
       "      <th>gen_nu_eta_2</th>\n",
       "      <th>alpha_1</th>\n",
       "      <th>alpha_2</th>\n",
       "      <th>p_z_nu_1</th>\n",
       "      <th>p_z_nu_2</th>\n",
       "      <th>E_nu_1</th>\n",
       "      <th>E_nu_2</th>\n",
       "      <th>p_t_nu_1</th>\n",
       "      <th>p_t_nu_2</th>\n",
       "    </tr>\n",
       "  </thead>\n",
       "  <tbody>\n",
       "    <tr>\n",
       "      <th>0</th>\n",
       "      <td>1.547246</td>\n",
       "      <td>3.710838</td>\n",
       "      <td>4.023599</td>\n",
       "      <td>1.860006</td>\n",
       "      <td>-0.001310</td>\n",
       "      <td>0.006071</td>\n",
       "      <td>0.004181</td>\n",
       "      <td>-0.007126</td>\n",
       "      <td>0.006137</td>\n",
       "      <td>-0.004593</td>\n",
       "      <td>...</td>\n",
       "      <td>-0.313698</td>\n",
       "      <td>-1.423014</td>\n",
       "      <td>1.405986</td>\n",
       "      <td>5.760983</td>\n",
       "      <td>65.028118</td>\n",
       "      <td>-266.450680</td>\n",
       "      <td>65.030490</td>\n",
       "      <td>266.452856</td>\n",
       "      <td>0.555376</td>\n",
       "      <td>1.076724</td>\n",
       "    </tr>\n",
       "    <tr>\n",
       "      <th>1</th>\n",
       "      <td>3.750274</td>\n",
       "      <td>3.446808</td>\n",
       "      <td>2.489589</td>\n",
       "      <td>2.793055</td>\n",
       "      <td>-0.009182</td>\n",
       "      <td>-0.004744</td>\n",
       "      <td>0.006723</td>\n",
       "      <td>-0.010568</td>\n",
       "      <td>0.009932</td>\n",
       "      <td>-0.005184</td>\n",
       "      <td>...</td>\n",
       "      <td>-2.873663</td>\n",
       "      <td>1.126849</td>\n",
       "      <td>6.748100</td>\n",
       "      <td>1.633439</td>\n",
       "      <td>311.067022</td>\n",
       "      <td>-75.296588</td>\n",
       "      <td>311.044261</td>\n",
       "      <td>75.318011</td>\n",
       "      <td>0.000000</td>\n",
       "      <td>1.796272</td>\n",
       "    </tr>\n",
       "    <tr>\n",
       "      <th>2</th>\n",
       "      <td>1.192612</td>\n",
       "      <td>2.157516</td>\n",
       "      <td>2.071870</td>\n",
       "      <td>1.106966</td>\n",
       "      <td>0.011873</td>\n",
       "      <td>0.001333</td>\n",
       "      <td>0.005862</td>\n",
       "      <td>-0.027225</td>\n",
       "      <td>-0.009527</td>\n",
       "      <td>0.018453</td>\n",
       "      <td>...</td>\n",
       "      <td>2.953007</td>\n",
       "      <td>-0.809572</td>\n",
       "      <td>1.241908</td>\n",
       "      <td>17.686588</td>\n",
       "      <td>66.106702</td>\n",
       "      <td>-941.456127</td>\n",
       "      <td>66.131076</td>\n",
       "      <td>941.374478</td>\n",
       "      <td>1.795334</td>\n",
       "      <td>0.000000</td>\n",
       "    </tr>\n",
       "    <tr>\n",
       "      <th>3</th>\n",
       "      <td>3.264792</td>\n",
       "      <td>2.106487</td>\n",
       "      <td>0.394414</td>\n",
       "      <td>1.552719</td>\n",
       "      <td>-0.003312</td>\n",
       "      <td>0.001791</td>\n",
       "      <td>0.009937</td>\n",
       "      <td>0.003434</td>\n",
       "      <td>-0.000035</td>\n",
       "      <td>0.014993</td>\n",
       "      <td>...</td>\n",
       "      <td>0.369547</td>\n",
       "      <td>-0.154201</td>\n",
       "      <td>2.691481</td>\n",
       "      <td>3.238841</td>\n",
       "      <td>119.812080</td>\n",
       "      <td>-144.177972</td>\n",
       "      <td>119.823204</td>\n",
       "      <td>144.188002</td>\n",
       "      <td>1.632730</td>\n",
       "      <td>1.700731</td>\n",
       "    </tr>\n",
       "    <tr>\n",
       "      <th>4</th>\n",
       "      <td>5.753096</td>\n",
       "      <td>6.269904</td>\n",
       "      <td>2.838543</td>\n",
       "      <td>2.321735</td>\n",
       "      <td>0.002645</td>\n",
       "      <td>-0.004510</td>\n",
       "      <td>0.001652</td>\n",
       "      <td>0.000490</td>\n",
       "      <td>-0.001729</td>\n",
       "      <td>-0.001847</td>\n",
       "      <td>...</td>\n",
       "      <td>-1.805122</td>\n",
       "      <td>0.805039</td>\n",
       "      <td>1.293874</td>\n",
       "      <td>1.341906</td>\n",
       "      <td>54.966147</td>\n",
       "      <td>-57.006634</td>\n",
       "      <td>54.985705</td>\n",
       "      <td>57.029588</td>\n",
       "      <td>1.466439</td>\n",
       "      <td>1.617865</td>\n",
       "    </tr>\n",
       "  </tbody>\n",
       "</table>\n",
       "<p>5 rows × 49 columns</p>\n",
       "</div>"
      ],
      "text/plain": [
       "   aco_angle_1  aco_angle_5  aco_angle_6  aco_angle_7    ip_x_1    ip_y_1  \\\n",
       "0     1.547246     3.710838     4.023599     1.860006 -0.001310  0.006071   \n",
       "1     3.750274     3.446808     2.489589     2.793055 -0.009182 -0.004744   \n",
       "2     1.192612     2.157516     2.071870     1.106966  0.011873  0.001333   \n",
       "3     3.264792     2.106487     0.394414     1.552719 -0.003312  0.001791   \n",
       "4     5.753096     6.269904     2.838543     2.321735  0.002645 -0.004510   \n",
       "\n",
       "     ip_z_1    ip_x_2    ip_y_2    ip_z_2  ...  gen_nu_phi_2  gen_nu_eta_2  \\\n",
       "0  0.004181 -0.007126  0.006137 -0.004593  ...     -0.313698     -1.423014   \n",
       "1  0.006723 -0.010568  0.009932 -0.005184  ...     -2.873663      1.126849   \n",
       "2  0.005862 -0.027225 -0.009527  0.018453  ...      2.953007     -0.809572   \n",
       "3  0.009937  0.003434 -0.000035  0.014993  ...      0.369547     -0.154201   \n",
       "4  0.001652  0.000490 -0.001729 -0.001847  ...     -1.805122      0.805039   \n",
       "\n",
       "    alpha_1    alpha_2    p_z_nu_1    p_z_nu_2      E_nu_1      E_nu_2  \\\n",
       "0  1.405986   5.760983   65.028118 -266.450680   65.030490  266.452856   \n",
       "1  6.748100   1.633439  311.067022  -75.296588  311.044261   75.318011   \n",
       "2  1.241908  17.686588   66.106702 -941.456127   66.131076  941.374478   \n",
       "3  2.691481   3.238841  119.812080 -144.177972  119.823204  144.188002   \n",
       "4  1.293874   1.341906   54.966147  -57.006634   54.985705   57.029588   \n",
       "\n",
       "   p_t_nu_1  p_t_nu_2  \n",
       "0  0.555376  1.076724  \n",
       "1  0.000000  1.796272  \n",
       "2  1.795334  0.000000  \n",
       "3  1.632730  1.700731  \n",
       "4  1.466439  1.617865  \n",
       "\n",
       "[5 rows x 49 columns]"
      ]
     },
     "execution_count": 20,
     "metadata": {},
     "output_type": "execute_result"
    }
   ],
   "source": [
    "# need to remove events that are rejected (for now)\n",
    "df['alpha_1'] = alpha_1\n",
    "df['alpha_2'] = alpha_2\n",
    "df['p_z_nu_1'] = p_z_nu_1\n",
    "df['p_z_nu_2'] = p_z_nu_2\n",
    "df['E_nu_1'] = E_nu_1\n",
    "df['E_nu_2'] = E_nu_2\n",
    "df['p_t_nu_1'] = p_t_nu_1\n",
    "df['p_t_nu_2'] = p_t_nu_2\n",
    "df_red = df[(df['alpha_1']>0) & (df['alpha_2']>0) & (df['E_nu_1']>0) & (df['E_nu_2']>0)].reset_index(drop=True)\n",
    "\n",
    "df_red.head()"
   ]
  },
  {
   "cell_type": "code",
   "execution_count": 59,
   "metadata": {},
   "outputs": [
    {
     "data": {
      "text/plain": [
       "0.07183441721060879"
      ]
     },
     "execution_count": 59,
     "metadata": {},
     "output_type": "execute_result"
    }
   ],
   "source": [
    "1-df_red.shape[0]/df.shape[0]"
   ]
  },
  {
   "cell_type": "markdown",
   "metadata": {},
   "source": [
    "## results\n",
    "\n",
    "### for approx 1\n",
    "- rho-rho channel: 0.459/0.453 alpha - 61.6% total rej\n",
    "- rho-a1 channel: 0.461/0.502 alpha - 65.5% total rej\n",
    "- a1-a1 channel: 0.507/0.489 alpha - 68.5% total rej"
   ]
  },
  {
   "cell_type": "code",
   "execution_count": 1,
   "metadata": {},
   "outputs": [
    {
     "ename": "NameError",
     "evalue": "name 'm_tau' is not defined",
     "output_type": "error",
     "traceback": [
      "\u001b[1;31m---------------------------------------------------------------------------\u001b[0m",
      "\u001b[1;31mNameError\u001b[0m                                 Traceback (most recent call last)",
      "\u001b[1;32m<ipython-input-1-7eb067bd91ca>\u001b[0m in \u001b[0;36m<module>\u001b[1;34m\u001b[0m\n\u001b[0;32m      4\u001b[0m \u001b[0mp_conver\u001b[0m \u001b[1;33m=\u001b[0m \u001b[1;36m1\u001b[0m\u001b[1;33m/\u001b[0m\u001b[1;33m(\u001b[0m\u001b[1;36m5.36e-19\u001b[0m\u001b[1;33m)\u001b[0m\u001b[1;33m\u001b[0m\u001b[1;33m\u001b[0m\u001b[0m\n\u001b[0;32m      5\u001b[0m \u001b[1;31m# calculate in lab frame\u001b[0m\u001b[1;33m\u001b[0m\u001b[1;33m\u001b[0m\u001b[1;33m\u001b[0m\u001b[0m\n\u001b[1;32m----> 6\u001b[1;33m \u001b[0mp_x_tau_1\u001b[0m \u001b[1;33m=\u001b[0m \u001b[1;33m-\u001b[0m\u001b[0mm_tau\u001b[0m\u001b[1;33m*\u001b[0m\u001b[0mdf\u001b[0m\u001b[1;33m[\u001b[0m\u001b[1;34m'sv_x_1'\u001b[0m\u001b[1;33m]\u001b[0m\u001b[1;33m/\u001b[0m\u001b[0mt_flight\u001b[0m\u001b[1;33m*\u001b[0m\u001b[0mp_conver\u001b[0m\u001b[1;33m\u001b[0m\u001b[1;33m\u001b[0m\u001b[0m\n\u001b[0m\u001b[0;32m      7\u001b[0m \u001b[0mp_y_tau_1\u001b[0m \u001b[1;33m=\u001b[0m \u001b[1;33m-\u001b[0m\u001b[0mm_tau\u001b[0m\u001b[1;33m*\u001b[0m\u001b[0mdf\u001b[0m\u001b[1;33m[\u001b[0m\u001b[1;34m'sv_y_1'\u001b[0m\u001b[1;33m]\u001b[0m\u001b[1;33m/\u001b[0m\u001b[0mt_flight\u001b[0m\u001b[1;33m*\u001b[0m\u001b[0mp_conver\u001b[0m\u001b[1;33m\u001b[0m\u001b[1;33m\u001b[0m\u001b[0m\n\u001b[0;32m      8\u001b[0m \u001b[0mp_y_tau_1\u001b[0m \u001b[1;33m=\u001b[0m \u001b[1;33m-\u001b[0m\u001b[0mm_tau\u001b[0m\u001b[1;33m*\u001b[0m\u001b[0mdf\u001b[0m\u001b[1;33m[\u001b[0m\u001b[1;34m'sv_y_1'\u001b[0m\u001b[1;33m]\u001b[0m\u001b[1;33m/\u001b[0m\u001b[0mt_flight\u001b[0m\u001b[1;33m*\u001b[0m\u001b[0mp_conver\u001b[0m\u001b[1;33m\u001b[0m\u001b[1;33m\u001b[0m\u001b[0m\n",
      "\u001b[1;31mNameError\u001b[0m: name 'm_tau' is not defined"
     ]
    }
   ],
   "source": [
    "# from paper - doesn't work because SV isn't always defined\n",
    "c = 299792458\n",
    "t_flight = 87e-6/c\n",
    "p_conver = 1/(5.36e-19)\n",
    "m_conver = 1.78266192e-2\n",
    "# calculate in lab frame\n",
    "p_x_tau_1 = -m_tau*df['sv_x_1']/t_flight*p_conver\n",
    "p_y_tau_1 = -m_tau*df['sv_y_1']/t_flight*p_conver\n",
    "p_y_tau_1 = -m_tau*df['sv_y_1']/t_flight*p_conver\n",
    "p_x_tau_2 = -m_tau*df['sv_x_2']/t_flight*p_conver\n",
    "p_y_tau_2 = -m_tau*df['sv_y_2']/t_flight*p_conver\n",
    "p_y_tau_2 = -m_tau*df['sv_y_2']/t_flight*p_conver\n",
    "# need to convert units of p\n",
    "E_tau_1 = np.sqrt(p_x_tau_1**2+p_y_tau_1**2+p_z_tau_1**2+m_tau**2)\n",
    "E_tau_2 = np.sqrt(p_x_tau_2**2+p_y_tau_2**2+p_z_tau_2**2+m_tau**2)"
   ]
  },
  {
   "cell_type": "markdown",
   "metadata": {},
   "source": [
    "# rho reconstruction check"
   ]
  },
  {
   "cell_type": "code",
   "execution_count": 49,
   "metadata": {},
   "outputs": [],
   "source": [
    "plt.rcParams.update({'font.size': 14, \"figure.figsize\": (10,6)})"
   ]
  },
  {
   "cell_type": "code",
   "execution_count": null,
   "metadata": {
    "scrolled": false
   },
   "outputs": [],
   "source": [
    "n_1, bins_1, patches_1 = plt.hist(rho_1.m, bins=2000, label=f\"Peak rho_1 mass: {bins_1[np.where(n_1==n_1.max())][0]:.4f} Gev\")\n",
    "n_2, bins_2, patches_2 = plt.hist(rho_2.m, bins=2000, label=f\"Peak rho_2 mass: {bins_2[np.where(n_2==n_2.max())][0]:.4f} Gev\")\n",
    "\n",
    "plt.xlim([0,5])\n",
    "plt.legend()\n",
    "plt.ylabel('Freq')\n",
    "plt.xlabel('Mass (Gev)')\n",
    "plt.tight_layout()\n",
    "plt.savefig('rho_reconstruction.PNG')\n",
    "plt.show()"
   ]
  },
  {
   "cell_type": "markdown",
   "metadata": {},
   "source": [
    "# alpha check"
   ]
  },
  {
   "cell_type": "code",
   "execution_count": 21,
   "metadata": {},
   "outputs": [
    {
     "ename": "NameError",
     "evalue": "name 'df_new' is not defined",
     "output_type": "error",
     "traceback": [
      "\u001b[1;31m---------------------------------------------------------------------------\u001b[0m",
      "\u001b[1;31mNameError\u001b[0m                                 Traceback (most recent call last)",
      "\u001b[1;32m<ipython-input-21-0c3ee3bdd9a9>\u001b[0m in \u001b[0;36m<module>\u001b[1;34m\u001b[0m\n\u001b[1;32m----> 1\u001b[1;33m \u001b[0mdf_new\u001b[0m\u001b[1;33m[\u001b[0m\u001b[1;33m[\u001b[0m\u001b[1;34m'gen_nu_px_1_br'\u001b[0m\u001b[1;33m,\u001b[0m\u001b[1;34m'gen_nu_py_1_br'\u001b[0m\u001b[1;33m,\u001b[0m\u001b[1;34m'gen_nu_pz_1_br'\u001b[0m\u001b[1;33m]\u001b[0m\u001b[1;33m]\u001b[0m\u001b[1;33m.\u001b[0m\u001b[0mto_numpy\u001b[0m\u001b[1;33m(\u001b[0m\u001b[1;33m)\u001b[0m\u001b[1;33m\u001b[0m\u001b[1;33m\u001b[0m\u001b[0m\n\u001b[0m",
      "\u001b[1;31mNameError\u001b[0m: name 'df_new' is not defined"
     ]
    }
   ],
   "source": [
    "df_new[['gen_nu_px_1_br','gen_nu_py_1_br','gen_nu_pz_1_br']].to_numpy()"
   ]
  },
  {
   "cell_type": "code",
   "execution_count": 2,
   "metadata": {},
   "outputs": [],
   "source": [
    "alpha_1 = np.load(f'./alpha_analysis/alpha_1.npy', allow_pickle=True)\n",
    "alpha_2 = np.load(f'./alpha_analysis/alpha_2.npy', allow_pickle=True)"
   ]
  },
  {
   "cell_type": "code",
   "execution_count": 7,
   "metadata": {
    "scrolled": true
   },
   "outputs": [
    {
     "data": {
      "text/plain": [
       "Index(['aco_angle_1', 'aco_angle_5', 'aco_angle_6', 'aco_angle_7', 'ip_x_1',\n",
       "       'ip_y_1', 'ip_z_1', 'ip_x_2', 'ip_y_2', 'ip_z_2', 'pi_E_1', 'pi_px_1',\n",
       "       'pi_py_1', 'pi_pz_1', 'pi_E_2', 'pi_px_2', 'pi_py_2', 'pi_pz_2',\n",
       "       'pi0_E_1', 'pi0_px_1', 'pi0_py_1', 'pi0_pz_1', 'pi0_E_2', 'pi0_px_2',\n",
       "       'pi0_py_2', 'pi0_pz_2', 'y_1_1', 'y_1_2', 'met', 'metx', 'mety',\n",
       "       'metcov00', 'metcov01', 'metcov10', 'metcov11', 'gen_nu_p_1',\n",
       "       'gen_nu_phi_1', 'gen_nu_eta_1', 'gen_nu_p_2', 'gen_nu_phi_2',\n",
       "       'gen_nu_eta_2'],\n",
       "      dtype='object')"
      ]
     },
     "execution_count": 7,
     "metadata": {},
     "output_type": "execute_result"
    }
   ],
   "source": [
    "df.columns"
   ]
  },
  {
   "cell_type": "code",
   "execution_count": null,
   "metadata": {},
   "outputs": [],
   "source": [
    "def remove9999 (Momenta4, leading):\n",
    "    if leading == 1:\n",
    "        nu_ref = Momentum4.m_eta_phi_p(np.zeros(len(df[\"gen_nu_phi_1\"])), df[\"gen_nu_eta_1\"], df[\"gen_nu_phi_1\"], df[\"gen_nu_p_1\"])\n",
    "    if leading == 2:\n",
    "        nu_ref = Momentum4.m_eta_phi_p(np.zeros(len(df[\"gen_nu_phi_2\"])), df[\"gen_nu_eta_2\"], df[\"gen_nu_phi_2\"], df[\"gen_nu_p_2\"])\n",
    "    \n",
    "    array = np.array(Momenta4).T\n",
    "    array = array[nu_ref.p_z != 9999]\n",
    "    array = array.T\n",
    "    return Momentum4(array[0], array[1], array[2], array[3])"
   ]
  },
  {
   "cell_type": "code",
   "execution_count": null,
   "metadata": {},
   "outputs": [],
   "source": [
    "def rotation_matrix_from_vectors(vec1, vec2):\n",
    "    \"\"\" Find the rotation matrix that aligns vec1 to vec2\n",
    "    :param vec1: A 3d \"source\" vector\n",
    "    :param vec2: A 3d \"destination\" vector\n",
    "    :return mat: A transform matrix (3x3) which when applied to vec1, aligns it with vec2.\n",
    "    \"\"\"\n",
    "    a, b = (vec1 / np.linalg.norm(vec1)).reshape(3), (vec2 / np.linalg.norm(vec2)).reshape(3)\n",
    "    v = np.cross(a, b)\n",
    "    c = np.dot(a, b)\n",
    "    s = np.linalg.norm(v)\n",
    "    kmat = np.array([[0, -v[2], v[1]], [v[2], 0, -v[0]], [-v[1], v[0], 0]])\n",
    "    rotation_matrix = np.eye(3) + kmat + kmat.dot(kmat) * ((1 - c) / (s ** 2))\n",
    "    return rotation_matrix"
   ]
  },
  {
   "cell_type": "code",
   "execution_count": 74,
   "metadata": {
    "scrolled": false
   },
   "outputs": [
    {
     "name": "stdout",
     "output_type": "stream",
     "text": [
      "finished getting rotated 4-vector 0\n",
      "finished getting rotated 4-vector 100000\n",
      "finished getting rotated 4-vector 200000\n",
      "finished getting rotated 4-vector 300000\n",
      "finished getting rotated 4-vector 400000\n",
      "finished getting rotated 4-vector 500000\n",
      "finished getting rotated 4-vector 600000\n",
      "finished getting rotated 4-vector 700000\n",
      "finished getting rotated 4-vector 800000\n",
      "finished getting rotated 4-vector 900000\n"
     ]
    }
   ],
   "source": [
    "nu_1 = Momentum4.m_eta_phi_p(np.zeros(len(df[\"gen_nu_phi_1\"])), df[\"gen_nu_eta_1\"], df[\"gen_nu_phi_1\"], df[\"gen_nu_p_1\"])\n",
    "# nu_1 = remove9999(nu_1, 1)\n",
    "nu_1[3][nu_1[3] == 9999] = np.nan\n",
    "nu_1_boosted = nu_1.boost_particle(boost)\n",
    "nu_1_boosted_rot = []\n",
    "\n",
    "nu_2 = Momentum4.m_eta_phi_p(np.zeros(len(df[\"gen_nu_phi_2\"])), df[\"gen_nu_eta_2\"], df[\"gen_nu_phi_2\"], df[\"gen_nu_p_2\"])\n",
    "# nu_2 = remove9999(nu_2, 1)\n",
    "nu_2[3][nu_2[3] == 9999] = np.nan\n",
    "nu_2_boosted = nu_2.boost_particle(boost)\n",
    "nu_2_boosted_rot = []\n",
    "\n",
    "for i in range(nu_1_boosted[:].shape[1]):\n",
    "    rot_mat = rotation_matrix_from_vectors(rho_1_boosted[1:, i], [0,0,1])\n",
    "    if np.isnan(nu_1_boosted[3, i]):\n",
    "        temp = np.array([np.nan, np.nan, np.nan])\n",
    "    else:\n",
    "        temp = rot_mat.dot(nu_1_boosted[1:, i])\n",
    "#     if temp[0] > 1 or temp[1] > 1:\n",
    "#         print('deleted')\n",
    "#         continue\n",
    "    if np.isnan(nu_2_boosted[3, i]):\n",
    "        temp2 = np.array([np.nan, np.nan, np.nan])\n",
    "    else:\n",
    "        temp2 = rot_mat.dot(nu_2_boosted[1:, i])\n",
    "#     if temp2[0] > 1 or temp2[1] > 1:\n",
    "#         print('deleted')\n",
    "#         continue\n",
    "    nu_1_boosted_rot.append(temp)\n",
    "    nu_2_boosted_rot.append(temp2)\n",
    "    if i%100000==0:\n",
    "        print('finished getting rotated 4-vector', i)"
   ]
  },
  {
   "cell_type": "code",
   "execution_count": 77,
   "metadata": {},
   "outputs": [],
   "source": [
    "nu_1_boosted_rot = np.array(nu_1_boosted_rot)\n",
    "nu_2_boosted_rot = np.array(nu_2_boosted_rot)"
   ]
  },
  {
   "cell_type": "code",
   "execution_count": 65,
   "metadata": {},
   "outputs": [],
   "source": [
    "nu_1 = Momentum4.m_eta_phi_p(np.zeros(len(df[\"gen_nu_phi_1\"])), df[\"gen_nu_eta_1\"], df[\"gen_nu_phi_1\"], df[\"gen_nu_p_1\"])\n",
    "(nu_1[3])[nu_1[3]==9999] = np.nan"
   ]
  },
  {
   "cell_type": "code",
   "execution_count": 70,
   "metadata": {
    "scrolled": false
   },
   "outputs": [
    {
     "data": {
      "text/plain": [
       "array([    58,     79,    115, ..., 998041, 998047, 998085], dtype=int64)"
      ]
     },
     "execution_count": 70,
     "metadata": {},
     "output_type": "execute_result"
    }
   ],
   "source": [
    "np.argwhere(np.isnan(nu_1[3])).flatten()"
   ]
  },
  {
   "cell_type": "code",
   "execution_count": 75,
   "metadata": {},
   "outputs": [
    {
     "data": {
      "text/plain": [
       "array([nan, nan, nan])"
      ]
     },
     "execution_count": 75,
     "metadata": {},
     "output_type": "execute_result"
    }
   ],
   "source": [
    "nu_1_boosted_rot[58]"
   ]
  },
  {
   "cell_type": "code",
   "execution_count": null,
   "metadata": {},
   "outputs": [],
   "source": [
    "nu_1_boosted_rot_z = np.array(nu_1_boosted_rot)[:, 2]\n",
    "nu_2_boosted_rot_z = np.array(nu_2_boosted_rot)[:, 2]\n",
    "max(nu_2_boosted_rot_z)"
   ]
  },
  {
   "cell_type": "code",
   "execution_count": 145,
   "metadata": {},
   "outputs": [
    {
     "data": {
      "text/plain": [
       "21320.967026987128"
      ]
     },
     "execution_count": 145,
     "metadata": {},
     "output_type": "execute_result"
    }
   ],
   "source": [
    "max(reco_plot)"
   ]
  },
  {
   "cell_type": "code",
   "execution_count": null,
   "metadata": {},
   "outputs": [],
   "source": [
    "p_z_nu_1[np.nonzero(p_z_nu_1)].shape\n",
    "nu_1_boosted_rot_z.shape"
   ]
  },
  {
   "cell_type": "code",
   "execution_count": null,
   "metadata": {},
   "outputs": [],
   "source": [
    "np.random.seed(1)\n",
    "p_z_nu_1 = df_red.p_z_nu_1.to_numpy()\n",
    "p_z_nu_2 = df_red.p_z_nu_2.to_numpy()\n",
    "samples = 827288\n",
    "# samples = 1000\n",
    "reco_plot_1 = np.random.choice(np.abs(p_z_nu_1[np.nonzero(p_z_nu_1)]), samples)\n",
    "reco_plot_2 = np.random.choice(np.abs(p_z_nu_2[np.nonzero(p_z_nu_2)]), samples)\n",
    "gen_plot = np.random.choice(np.abs(nu_1_boosted_rot_z), samples)\n",
    "# plt.hist(reco_plot, bins=100, alpha=0.5)\n",
    "# plt.hist(gen_plot, bins=100, alpha=0.5)"
   ]
  },
  {
   "cell_type": "code",
   "execution_count": null,
   "metadata": {
    "scrolled": false
   },
   "outputs": [],
   "source": [
    "rel_error = (gen_plot-reco_plot_1)/gen_plot\n",
    "rel_error_clipped = np.clip(rel_error, -1, 1)\n",
    "\n",
    "rel_error_red = rel_error[np.where((rel_error >= -1) & (rel_error <= 1))]\n",
    "\n",
    "plt.hist(rel_error_clipped, bins=100, label='termination=1000')\n",
    "# plt.hist(rel_error_red, bins=100, label='termination=1000')\n",
    "# plt.xlim(0,5)\n",
    "plt.ylabel('Freq')\n",
    "plt.xlabel('Relative error')\n",
    "plt.legend()\n",
    "# plt.savefig('alpha_analysis/alpha_1_err.png')\n",
    "plt.show()"
   ]
  },
  {
   "cell_type": "code",
   "execution_count": 207,
   "metadata": {
    "scrolled": false
   },
   "outputs": [
    {
     "data": {
      "image/png": "[encoded data removed]",
      "text/plain": [
       "<Figure size 720x432 with 1 Axes>"
      ]
     },
     "metadata": {
      "needs_background": "light"
     },
     "output_type": "display_data"
    }
   ],
   "source": [
    "plt.hist((gen_plot-reco_plot_2)/gen_plot, bins=100,  label='termination=1000')\n",
    "plt.legend()\n",
    "plt.ylabel('Freq')\n",
    "plt.xlabel('Relative error')\n",
    "plt.savefig('alpha_analysis/alpha_2_err.png')\n",
    "plt.show()"
   ]
  },
  {
   "cell_type": "code",
   "execution_count": 208,
   "metadata": {},
   "outputs": [
    {
     "data": {
      "text/plain": [
       "0.3373226736033884"
      ]
     },
     "execution_count": 208,
     "metadata": {},
     "output_type": "execute_result"
    }
   ],
   "source": [
    "(np.abs((gen_plot-reco_plot_1)/gen_plot)<1).sum()/len(gen_plot)"
   ]
  },
  {
   "cell_type": "code",
   "execution_count": 209,
   "metadata": {},
   "outputs": [
    {
     "data": {
      "text/plain": [
       "0.2649149993714402"
      ]
     },
     "execution_count": 209,
     "metadata": {},
     "output_type": "execute_result"
    }
   ],
   "source": [
    "(np.abs((gen_plot-reco_plot_2)/gen_plot)<1).sum()/len(gen_plot)"
   ]
  }
 ],
 "metadata": {
  "kernelspec": {
   "display_name": "Python 3",
   "language": "python",
   "name": "python3"
  },
  "language_info": {
   "codemirror_mode": {
    "name": "ipython",
    "version": 3
   },
   "file_extension": ".py",
   "mimetype": "text/x-python",
   "name": "python",
   "nbconvert_exporter": "python",
   "pygments_lexer": "ipython3",
   "version": "3.8.5"
  }
 },
 "nbformat": 4,
 "nbformat_minor": 4
}
