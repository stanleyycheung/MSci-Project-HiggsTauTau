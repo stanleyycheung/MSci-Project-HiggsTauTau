{
 "cells": [
  {
   "cell_type": "markdown",
   "id": "useful-walter",
   "metadata": {},
   "source": [
    "# change to 3 class classification"
   ]
  },
  {
   "cell_type": "code",
   "execution_count": 1,
   "id": "polish-champion",
   "metadata": {},
   "outputs": [],
   "source": [
    "import numpy as np\n",
    "import pandas as pd\n",
    "import matplotlib.pyplot as plt\n",
    "import uproot\n",
    "import xgboost\n",
    "from sklearn.model_selection import train_test_split\n",
    "from sklearn.metrics import classification_report, roc_curve, roc_auc_score, auc\n",
    "from sklearn.preprocessing import label_binarize\n",
    "from sklearn.metrics import confusion_matrix\n",
    "import itertools\n",
    "from collections import Counter\n",
    "from sklearn.metrics import classification_report\n",
    "import seaborn as sns\n",
    "from sklearn.model_selection import StratifiedKFold\n",
    "from sklearn.model_selection import cross_val_score, KFold"
   ]
  },
  {
   "cell_type": "code",
   "execution_count": 2,
   "id": "underlying-emerald",
   "metadata": {},
   "outputs": [],
   "source": [
    "def write_auc(config, roc_auc):\n",
    "    file = write_path+'BDT_results.txt'\n",
    "    with open(file, 'a+') as f:\n",
    "        aucs = []\n",
    "        for i in range(0, 3):\n",
    "            aucs.append(roc_auc[i])\n",
    "        auc_msg = ','.join(map(str, aucs))\n",
    "        message = f'{config}; {auc_msg} \\n'\n",
    "        f.write(message)"
   ]
  },
  {
   "cell_type": "code",
   "execution_count": 3,
   "id": "featured-intellectual",
   "metadata": {},
   "outputs": [],
   "source": [
    "def write_cm(config, cm_p, cm_e):\n",
    "    file = write_path+'BDT_cm.txt'\n",
    "    with open(file, 'a+') as f:\n",
    "        cm_p_msg = ','.join(map(str, cm_p.flatten().tolist()))\n",
    "        cm_e_msg = ','.join(map(str, cm_e.flatten().tolist()))\n",
    "        message = f'{config}; {cm_p_msg}; {cm_e_msg} \\n'\n",
    "        f.write(message)"
   ]
  },
  {
   "cell_type": "code",
   "execution_count": 4,
   "id": "modified-listing",
   "metadata": {},
   "outputs": [],
   "source": [
    "def plot_roc_curve(fpr, tpr, auc, i):\n",
    "    ax.plot(fpr, tpr, label=f'{classes[i]} ROC score: {auc:.3f}')\n",
    "    ax.set(xlabel='False Positive Rate', ylabel='True Positive Rate')\n",
    "    plt.legend()"
   ]
  },
  {
   "cell_type": "code",
   "execution_count": 5,
   "id": "straight-stocks",
   "metadata": {},
   "outputs": [],
   "source": [
    "def plot_confusion_matrix(y_test, y_pred, classes, figname, w_test=None, normalise_by_col=False, normalise_by_row=False, cmap=plt.cm.Blues):\n",
    "    if w_test is not None: cm = confusion_matrix(y_test, y_pred, sample_weight=w_test)\n",
    "    else: cm = confusion_matrix(y_test, y_pred) \n",
    "    if normalise_by_col:\n",
    "        cm = cm.astype('float') / cm.sum(axis=1)[:, np.newaxis]\n",
    "        print ('Normalised efficiency confusion matrix')\n",
    "    elif normalise_by_row:\n",
    "        cm = cm.astype('float') / cm.sum(axis=0)[np.newaxis, :]\n",
    "        print ('Normalised purity confusion matrix')\n",
    "    else:\n",
    "        print ('Non-normalised confusion matrix')\n",
    "\n",
    "    print(cm)\n",
    "\n",
    "    plt.figure()\n",
    "    plt.imshow(cm, interpolation='nearest', cmap=cmap)\n",
    "    plt.colorbar()\n",
    "    tick_marks = np.arange(len(classes))\n",
    "    plt.xticks(tick_marks, classes, rotation=45)\n",
    "    plt.yticks(tick_marks, classes)\n",
    "\n",
    "    fmt = '.3f'\n",
    "    thresh = cm.max() / 2.\n",
    "    for i, j in itertools.product(range(cm.shape[0]), range(cm.shape[1])):\n",
    "        plt.text(j, i, format(cm[i, j], fmt),\n",
    "                 horizontalalignment='center',\n",
    "                 color='w' if cm[i, j] > thresh else 'k')\n",
    "\n",
    "    plt.tight_layout(pad=1.4)\n",
    "    plt.ylabel('True label')\n",
    "    plt.xlabel('Predicted label')\n",
    "    plt.savefig(figname)\n",
    "    print ('Confusion matrix saved as {}'.format(figname))\n",
    "    return cm"
   ]
  },
  {
   "cell_type": "code",
   "execution_count": 6,
   "id": "clinical-monthly",
   "metadata": {},
   "outputs": [],
   "source": [
    "path = '/vols/cms/dw515/Offline/output/SM/masters_signal_vs_background_combined/'\n",
    "write_path = '/home/hep/shc3117/MSci-Project-HiggsTauTau/shared/signal_background/'"
   ]
  },
  {
   "cell_type": "code",
   "execution_count": 7,
   "id": "suitable-horror",
   "metadata": {},
   "outputs": [],
   "source": [
    "vbfh_tree = uproot.open(path+'VBFH.root')['ntuple']\n",
    "ztt_tree = uproot.open(path+'ZTT.root')['ntuple']\n",
    "fakes_tree = uproot.open(path+'fakes.root')['ntuple']\n",
    "ggh_tree = uproot.open(path+'ggH.root')['ntuple']"
   ]
  },
  {
   "cell_type": "code",
   "execution_count": 8,
   "id": "painful-basket",
   "metadata": {},
   "outputs": [],
   "source": [
    "variables = ['pt_1','pt_2', 'm_vis','svfit_mass','mjj','jpt_1','pt_tt','met','n_jets','pt_vis','iso_1','iso_2', 'wt']\n",
    "selectors = ['rand', 'wt_cp_sm', 'deepTauVsJets_medium_1', 'deepTauVsJets_medium_2', 'trg_doubletau', 'os']"
   ]
  },
  {
   "cell_type": "code",
   "execution_count": 9,
   "id": "hollow-invalid",
   "metadata": {},
   "outputs": [],
   "source": [
    "vbfh = vbfh_tree.pandas.df(variables+selectors)\n",
    "ztt = ztt_tree.pandas.df(variables+selectors)\n",
    "fakes = fakes_tree.pandas.df(variables+selectors)\n",
    "ggh = ggh_tree.pandas.df(variables+selectors)"
   ]
  },
  {
   "cell_type": "code",
   "execution_count": 10,
   "id": "expected-producer",
   "metadata": {},
   "outputs": [],
   "source": [
    "vbfh = vbfh[vbfh['deepTauVsJets_medium_1'] & vbfh['deepTauVsJets_medium_2'] & vbfh['trg_doubletau'] & vbfh['os']]\n",
    "ztt = ztt[ztt['deepTauVsJets_medium_1'] & ztt['deepTauVsJets_medium_2'] & ztt['trg_doubletau'] & ztt['os']]\n",
    "fakes = fakes[fakes['deepTauVsJets_medium_1'] & fakes['deepTauVsJets_medium_2'] & fakes['trg_doubletau'] & (fakes['os']==0)]\n",
    "ggh = ggh[ggh['deepTauVsJets_medium_1'] & ggh['deepTauVsJets_medium_2'] & ggh['trg_doubletau'] & ggh['os']]"
   ]
  },
  {
   "cell_type": "code",
   "execution_count": 11,
   "id": "dynamic-transportation",
   "metadata": {},
   "outputs": [],
   "source": [
    "scaling = {\n",
    "    'ggh': 0.0022034,\n",
    "    'vbfh': 0.0001486,\n",
    "    'fakes': 1.35,\n",
    "    'ztt': 3.6292,\n",
    "}"
   ]
  },
  {
   "cell_type": "code",
   "execution_count": 12,
   "id": "gross-hampshire",
   "metadata": {},
   "outputs": [],
   "source": [
    "vbfh.loc[:, 'w'] = vbfh.wt*vbfh.wt_cp_sm *scaling['vbfh']\n",
    "ztt.loc[:, 'w'] = ztt.wt *scaling['ztt']\n",
    "fakes.loc[:, 'w'] = fakes.wt *scaling['fakes']\n",
    "ggh.loc[:, 'w'] = ggh.wt*ggh.wt_cp_sm *scaling['ggh']"
   ]
  },
  {
   "cell_type": "code",
   "execution_count": 13,
   "id": "regular-democrat",
   "metadata": {},
   "outputs": [],
   "source": [
    "higgs = pd.concat([vbfh, ggh]).reset_index(drop=True)"
   ]
  },
  {
   "cell_type": "code",
   "execution_count": 14,
   "id": "included-ridge",
   "metadata": {},
   "outputs": [],
   "source": [
    "higgs.loc[:, 'y'] = np.zeros(higgs.shape[0])\n",
    "ztt.loc[:, 'y'] = np.ones(ztt.shape[0])\n",
    "fakes.loc[:, 'y'] = np.full((fakes.shape[0],),2.)"
   ]
  },
  {
   "cell_type": "code",
   "execution_count": 15,
   "id": "numerous-china",
   "metadata": {},
   "outputs": [],
   "source": [
    "higgs.loc[:, 'cn'] = np.full((higgs.shape[0],),928.278)\n",
    "ztt.loc[:, 'cn'] = np.full((ztt.shape[0],),4.716)\n",
    "fakes.loc[:, 'cn'] = np.full((fakes.shape[0],),1.278)"
   ]
  },
  {
   "cell_type": "code",
   "execution_count": 16,
   "id": "coupled-roman",
   "metadata": {},
   "outputs": [],
   "source": [
    "df = pd.concat([higgs, ztt, fakes]).reset_index(drop=True)"
   ]
  },
  {
   "cell_type": "code",
   "execution_count": 39,
   "id": "determined-casting",
   "metadata": {},
   "outputs": [
    {
     "data": {
      "text/plain": [
       "0          928.278\n",
       "1          928.278\n",
       "2          928.278\n",
       "3          928.278\n",
       "4          928.278\n",
       "            ...   \n",
       "1397837      1.278\n",
       "1397838      1.278\n",
       "1397839      1.278\n",
       "1397840      1.278\n",
       "1397841      1.278\n",
       "Name: cn, Length: 1397054, dtype: float64"
      ]
     },
     "execution_count": 39,
     "metadata": {},
     "output_type": "execute_result"
    }
   ],
   "source": [
    "df.cn"
   ]
  },
  {
   "cell_type": "code",
   "execution_count": 18,
   "id": "alert-picnic",
   "metadata": {},
   "outputs": [],
   "source": [
    "df = df[df.w > 0]"
   ]
  },
  {
   "cell_type": "code",
   "execution_count": 19,
   "id": "differential-assembly",
   "metadata": {},
   "outputs": [
    {
     "name": "stdout",
     "output_type": "stream",
     "text": [
      "[(0.0, 1262736), (1.0, 33487), (2.0, 100831)]\n"
     ]
    }
   ],
   "source": [
    "print(sorted(Counter(df.y).items()))"
   ]
  },
  {
   "cell_type": "code",
   "execution_count": 20,
   "id": "revolutionary-bryan",
   "metadata": {},
   "outputs": [
    {
     "data": {
      "text/plain": [
       "(927.8508354332606, 36877.137177970326, 136121.85)"
      ]
     },
     "execution_count": 20,
     "metadata": {},
     "output_type": "execute_result"
    }
   ],
   "source": [
    "higgs.w.sum(), ztt.w.sum(), fakes.w.sum()"
   ]
  },
  {
   "cell_type": "markdown",
   "id": "disturbed-economy",
   "metadata": {},
   "source": [
    "# base case"
   ]
  },
  {
   "cell_type": "code",
   "execution_count": 115,
   "id": "attempted-kingdom",
   "metadata": {},
   "outputs": [],
   "source": [
    "df_1 = df.drop(selectors+['iso_1', 'iso_2'], axis=1)"
   ]
  },
  {
   "cell_type": "code",
   "execution_count": 116,
   "id": "fifth-pharmacology",
   "metadata": {},
   "outputs": [],
   "source": [
    "# xgb_params = {\n",
    "#     \"objective\": \"multi:softmax\",\n",
    "#     \"max_depth\": 6,\n",
    "#     \"num_classes\": 4,\n",
    "# }\n",
    "xgb_params = {\n",
    "    \"objective\": \"multi:softprob\",\n",
    "    \"max_depth\": 3,\n",
    "    \"learning_rate\": 0.05,\n",
    "    \"silent\": 1,\n",
    "    \"n_estimators\": 1000,\n",
    "    \"subsample\": 0.9,\n",
    "    \"seed\": 123451,\n",
    "}\n",
    "\n",
    "xgb_clf = xgboost.XGBClassifier(**xgb_params)\n",
    "# xgb_clf = xgboost.XGBClassifier()\n"
   ]
  },
  {
   "cell_type": "code",
   "execution_count": 118,
   "id": "different-arrest",
   "metadata": {},
   "outputs": [
    {
     "data": {
      "text/plain": [
       "Index(['pt_1', 'pt_2', 'm_vis', 'svfit_mass', 'mjj', 'jpt_1', 'pt_tt', 'met',\n",
       "       'n_jets', 'pt_vis'],\n",
       "      dtype='object')"
      ]
     },
     "execution_count": 118,
     "metadata": {},
     "output_type": "execute_result"
    }
   ],
   "source": [
    "df_1.drop(['y', 'wt', 'w', 'cn'], axis=1).columns"
   ]
  },
  {
   "cell_type": "code",
   "execution_count": 119,
   "id": "divided-chocolate",
   "metadata": {},
   "outputs": [],
   "source": [
    "X = df_1.drop(['y', 'wt', 'w', 'cn'], axis=1).to_numpy()\n",
    "y = df_1.y.astype(int)\n",
    "w = df_1.w\n",
    "X_train, X_test, y_train, y_test, w_train, w_test = train_test_split(X, y, w, test_size=0.3, random_state=1, stratify=df_1.y)"
   ]
  },
  {
   "cell_type": "code",
   "execution_count": null,
   "id": "nearby-adams",
   "metadata": {},
   "outputs": [
    {
     "name": "stderr",
     "output_type": "stream",
     "text": [
      "/home/hep/shc3117/anaconda3/envs/msci/lib/python3.8/site-packages/xgboost/sklearn.py:888: UserWarning: The use of label encoder in XGBClassifier is deprecated and will be removed in a future release. To remove this warning, do the following: 1) Pass option use_label_encoder=False when constructing XGBClassifier object; and 2) Encode your labels (y) as integers starting with 0, i.e. 0, 1, 2, ..., [num_class - 1].\n",
      "  warnings.warn(label_encoder_deprecation_msg, UserWarning)\n"
     ]
    },
    {
     "name": "stdout",
     "output_type": "stream",
     "text": [
      "[12:04:17] WARNING: ../src/learner.cc:541: \n",
      "Parameters: { silent } might not be used.\n",
      "\n",
      "  This may not be accurate due to some parameters are only used in language bindings but\n",
      "  passed down to XGBoost core.  Or some parameters are not used but slip through this\n",
      "  verification. Please open an issue if you find above cases.\n",
      "\n",
      "\n",
      "[0]\tvalidation_0-mlogloss:1.05058\tvalidation_1-mlogloss:1.05039\n",
      "[2]\tvalidation_0-mlogloss:0.96629\tvalidation_1-mlogloss:0.96588\n",
      "[4]\tvalidation_0-mlogloss:0.89499\tvalidation_1-mlogloss:0.89440\n",
      "[6]\tvalidation_0-mlogloss:0.83402\tvalidation_1-mlogloss:0.83326\n",
      "[8]\tvalidation_0-mlogloss:0.78139\tvalidation_1-mlogloss:0.78047\n",
      "[10]\tvalidation_0-mlogloss:0.73575\tvalidation_1-mlogloss:0.73472\n",
      "[12]\tvalidation_0-mlogloss:0.69607\tvalidation_1-mlogloss:0.69491\n",
      "[14]\tvalidation_0-mlogloss:0.66123\tvalidation_1-mlogloss:0.66002\n",
      "[16]\tvalidation_0-mlogloss:0.63078\tvalidation_1-mlogloss:0.62951\n",
      "[18]\tvalidation_0-mlogloss:0.60383\tvalidation_1-mlogloss:0.60246\n",
      "[20]\tvalidation_0-mlogloss:0.58008\tvalidation_1-mlogloss:0.57867\n",
      "[22]\tvalidation_0-mlogloss:0.55902\tvalidation_1-mlogloss:0.55756\n",
      "[24]\tvalidation_0-mlogloss:0.54039\tvalidation_1-mlogloss:0.53892\n",
      "[26]\tvalidation_0-mlogloss:0.52378\tvalidation_1-mlogloss:0.52233\n",
      "[28]\tvalidation_0-mlogloss:0.50903\tvalidation_1-mlogloss:0.50764\n",
      "[30]\tvalidation_0-mlogloss:0.49589\tvalidation_1-mlogloss:0.49453\n",
      "[32]\tvalidation_0-mlogloss:0.48408\tvalidation_1-mlogloss:0.48282\n",
      "[34]\tvalidation_0-mlogloss:0.47353\tvalidation_1-mlogloss:0.47236\n",
      "[36]\tvalidation_0-mlogloss:0.46406\tvalidation_1-mlogloss:0.46300\n",
      "[38]\tvalidation_0-mlogloss:0.45554\tvalidation_1-mlogloss:0.45461\n",
      "[40]\tvalidation_0-mlogloss:0.44783\tvalidation_1-mlogloss:0.44701\n",
      "[42]\tvalidation_0-mlogloss:0.44090\tvalidation_1-mlogloss:0.44020\n",
      "[44]\tvalidation_0-mlogloss:0.43464\tvalidation_1-mlogloss:0.43404\n",
      "[46]\tvalidation_0-mlogloss:0.42890\tvalidation_1-mlogloss:0.42836\n",
      "[48]\tvalidation_0-mlogloss:0.42367\tvalidation_1-mlogloss:0.42322\n",
      "[50]\tvalidation_0-mlogloss:0.41895\tvalidation_1-mlogloss:0.41860\n",
      "[52]\tvalidation_0-mlogloss:0.41458\tvalidation_1-mlogloss:0.41430\n",
      "[54]\tvalidation_0-mlogloss:0.41060\tvalidation_1-mlogloss:0.41045\n",
      "[56]\tvalidation_0-mlogloss:0.40687\tvalidation_1-mlogloss:0.40681\n",
      "[58]\tvalidation_0-mlogloss:0.40339\tvalidation_1-mlogloss:0.40344\n",
      "[60]\tvalidation_0-mlogloss:0.40020\tvalidation_1-mlogloss:0.40031\n",
      "[62]\tvalidation_0-mlogloss:0.39715\tvalidation_1-mlogloss:0.39740\n",
      "[64]\tvalidation_0-mlogloss:0.39432\tvalidation_1-mlogloss:0.39468\n",
      "[66]\tvalidation_0-mlogloss:0.39164\tvalidation_1-mlogloss:0.39210\n",
      "[68]\tvalidation_0-mlogloss:0.38929\tvalidation_1-mlogloss:0.38982\n",
      "[70]\tvalidation_0-mlogloss:0.38696\tvalidation_1-mlogloss:0.38760\n",
      "[72]\tvalidation_0-mlogloss:0.38483\tvalidation_1-mlogloss:0.38553\n",
      "[74]\tvalidation_0-mlogloss:0.38280\tvalidation_1-mlogloss:0.38357\n",
      "[76]\tvalidation_0-mlogloss:0.38093\tvalidation_1-mlogloss:0.38184\n",
      "[78]\tvalidation_0-mlogloss:0.37917\tvalidation_1-mlogloss:0.38017\n",
      "[80]\tvalidation_0-mlogloss:0.37752\tvalidation_1-mlogloss:0.37861\n",
      "[82]\tvalidation_0-mlogloss:0.37603\tvalidation_1-mlogloss:0.37721\n"
     ]
    }
   ],
   "source": [
    "eval_set = [(X_train, y_train), (X_test, y_test)]\n",
    "xgb_clf.fit(X_train, y_train, sample_weight=w_train, verbose=2, early_stopping_rounds=50, eval_set=eval_set, eval_metric = \"mlogloss\", sample_weight_eval_set=(w_train, w_test))\n",
    "# xgb_clf.fit(X_train, y_train, sample_weight=w_train, verbose=2, eval_metric=\"mlogloss\")"
   ]
  },
  {
   "cell_type": "code",
   "execution_count": 40,
   "id": "backed-excerpt",
   "metadata": {},
   "outputs": [
    {
     "name": "stdout",
     "output_type": "stream",
     "text": [
      "0.25000125721642225\n",
      "0.24999968569628958\n",
      "0.24999968569628958\n",
      "0.24999968569628958\n",
      "0.24999968569628958\n"
     ]
    }
   ],
   "source": [
    "# skf = StratifiedKFold(n_splits=5)\n",
    "# for train, test in skf.split(X, y):\n",
    "#     xgb_clf.fit(X_train, y_train, sample_weight=w_train, verbose=2, early_stopping_rounds=50, eval_set=eval_set, eval_metric = \"mlogloss\", sample_weight_eval_set=(w_train, w_test)"
   ]
  },
  {
   "cell_type": "code",
   "execution_count": 25,
   "id": "assisted-practitioner",
   "metadata": {},
   "outputs": [],
   "source": [
    "y_pred = xgb_clf.predict_proba(X_test)\n",
    "onehot=label_binarize(y_test,classes=[0,1,2])\n",
    "fpr=dict()\n",
    "tpr=dict()\n",
    "thresh = dict()\n",
    "roc_auc=dict()\n",
    "for i in range(3):\n",
    "    fpr[i], tpr[i], thresh[i] = roc_curve(onehot[:,i], y_pred[:,i],sample_weight=w_test)\n",
    "    roc_auc[i] = auc(fpr[i], tpr[i])"
   ]
  },
  {
   "cell_type": "code",
   "execution_count": 113,
   "id": "decent-accommodation",
   "metadata": {},
   "outputs": [
    {
     "data": {
      "image/png": "[encoded data removed]",
      "text/plain": [
       "<Figure size 576x432 with 1 Axes>"
      ]
     },
     "metadata": {
      "needs_background": "light"
     },
     "output_type": "display_data"
    }
   ],
   "source": [
    "classes = ['higgs', 'ztt', 'fakes']\n",
    "fig, ax = plt.subplots(figsize=(8,6))\n",
    "lims = [np.min([ax.get_xlim(), ax.get_ylim()]), np.max([ax.get_xlim(), ax.get_ylim()])]\n",
    "# ax.set_xlim(lims)\n",
    "# ax.set_ylim(lims)\n",
    "ax.plot(lims, lims, 'k--')\n",
    "ax.grid()\n",
    "for i in range(len(fpr)):\n",
    "    plot_roc_curve(fpr[i],tpr[i],roc_auc[i], i)\n",
    "# plot_roc_curve(fpr[1],tpr[1],roc_auc[1], 1)\n",
    "# plot_roc_curve(fpr[2],tpr[2],roc_auc[2], 2)\n",
    "# plot_roc_curve(fpr[3],tpr[3],roc_auc[3], 3)\n",
    "# plt.savefig('/signal_background/eda/roc_curves.png')\n",
    "# 0.792, 0.791, 0.885"
   ]
  },
  {
   "cell_type": "code",
   "execution_count": 28,
   "id": "interstate-williams",
   "metadata": {
    "collapsed": true,
    "jupyter": {
     "outputs_hidden": true,
     "source_hidden": true
    }
   },
   "outputs": [
    {
     "name": "stderr",
     "output_type": "stream",
     "text": [
      "/home/hep/shc3117/anaconda3/envs/msci/lib/python3.8/site-packages/seaborn/_decorators.py:36: FutureWarning: Pass the following variable as a keyword arg: x. From version 0.12, the only valid positional argument will be `data`, and passing other arguments without an explicit keyword will result in an error or misinterpretation.\n",
      "  warnings.warn(\n"
     ]
    },
    {
     "data": {
      "image/png": "[encoded data removed]",
      "text/plain": [
       "<Figure size 432x288 with 1 Axes>"
      ]
     },
     "metadata": {
      "needs_background": "light"
     },
     "output_type": "display_data"
    }
   ],
   "source": [
    "sns.countplot(y_test)\n",
    "plt.show()"
   ]
  },
  {
   "cell_type": "code",
   "execution_count": 27,
   "id": "organized-substitute",
   "metadata": {},
   "outputs": [],
   "source": [
    "write_auc('base', roc_auc)"
   ]
  },
  {
   "cell_type": "code",
   "execution_count": 114,
   "id": "outer-focus",
   "metadata": {},
   "outputs": [
    {
     "data": {
      "text/html": [
       "<div>\n",
       "<style scoped>\n",
       "    .dataframe tbody tr th:only-of-type {\n",
       "        vertical-align: middle;\n",
       "    }\n",
       "\n",
       "    .dataframe tbody tr th {\n",
       "        vertical-align: top;\n",
       "    }\n",
       "\n",
       "    .dataframe thead th {\n",
       "        text-align: right;\n",
       "    }\n",
       "</style>\n",
       "<table border=\"1\" class=\"dataframe\">\n",
       "  <thead>\n",
       "    <tr style=\"text-align: right;\">\n",
       "      <th></th>\n",
       "      <th>precision</th>\n",
       "      <th>recall</th>\n",
       "      <th>f1-score</th>\n",
       "      <th>support</th>\n",
       "    </tr>\n",
       "  </thead>\n",
       "  <tbody>\n",
       "    <tr>\n",
       "      <th>higgs</th>\n",
       "      <td>1.0</td>\n",
       "      <td>1.0</td>\n",
       "      <td>1.0</td>\n",
       "      <td>279.545650</td>\n",
       "    </tr>\n",
       "    <tr>\n",
       "      <th>ztt</th>\n",
       "      <td>1.0</td>\n",
       "      <td>1.0</td>\n",
       "      <td>1.0</td>\n",
       "      <td>11039.960088</td>\n",
       "    </tr>\n",
       "    <tr>\n",
       "      <th>fakes</th>\n",
       "      <td>1.0</td>\n",
       "      <td>1.0</td>\n",
       "      <td>1.0</td>\n",
       "      <td>40836.150000</td>\n",
       "    </tr>\n",
       "    <tr>\n",
       "      <th>accuracy</th>\n",
       "      <td>1.0</td>\n",
       "      <td>1.0</td>\n",
       "      <td>1.0</td>\n",
       "      <td>1.000000</td>\n",
       "    </tr>\n",
       "    <tr>\n",
       "      <th>macro avg</th>\n",
       "      <td>1.0</td>\n",
       "      <td>1.0</td>\n",
       "      <td>1.0</td>\n",
       "      <td>52155.655738</td>\n",
       "    </tr>\n",
       "    <tr>\n",
       "      <th>weighted avg</th>\n",
       "      <td>1.0</td>\n",
       "      <td>1.0</td>\n",
       "      <td>1.0</td>\n",
       "      <td>52155.655738</td>\n",
       "    </tr>\n",
       "  </tbody>\n",
       "</table>\n",
       "</div>"
      ],
      "text/plain": [
       "              precision  recall  f1-score       support\n",
       "higgs               1.0     1.0       1.0    279.545650\n",
       "ztt                 1.0     1.0       1.0  11039.960088\n",
       "fakes               1.0     1.0       1.0  40836.150000\n",
       "accuracy            1.0     1.0       1.0      1.000000\n",
       "macro avg           1.0     1.0       1.0  52155.655738\n",
       "weighted avg        1.0     1.0       1.0  52155.655738"
      ]
     },
     "execution_count": 114,
     "metadata": {},
     "output_type": "execute_result"
    }
   ],
   "source": [
    "cr = classification_report(y_test, xgb_clf.predict(X_test), output_dict=True, target_names=classes, sample_weight=w_test)\n",
    "pd.DataFrame(cr).transpose()"
   ]
  },
  {
   "cell_type": "code",
   "execution_count": 29,
   "id": "august-crawford",
   "metadata": {},
   "outputs": [
    {
     "data": {
      "image/png": "[encoded data removed]",
      "text/plain": [
       "<Figure size 432x288 with 1 Axes>"
      ]
     },
     "metadata": {
      "needs_background": "light"
     },
     "output_type": "display_data"
    }
   ],
   "source": [
    "xgboost.plot_importance(xgb_clf).set_yticklabels(df_1.drop(['y','wt','w'], axis=1).columns)\n",
    "plt.savefig('./signal_background/feature_importance_weight.png')\n",
    "plt.show()"
   ]
  },
  {
   "cell_type": "code",
   "execution_count": 30,
   "id": "liked-heavy",
   "metadata": {},
   "outputs": [
    {
     "data": {
      "image/png": "[encoded data removed]",
      "text/plain": [
       "<Figure size 432x288 with 1 Axes>"
      ]
     },
     "metadata": {
      "needs_background": "light"
     },
     "output_type": "display_data"
    }
   ],
   "source": [
    "xgboost.plot_importance(xgb_clf, importance_type='gain').set_yticklabels(df_1.drop(['y','wt','w'], axis=1).columns)\n",
    "plt.savefig('./signal_background/feature_importance_gain.png')\n",
    "plt.show()"
   ]
  },
  {
   "cell_type": "code",
   "execution_count": 112,
   "id": "fresh-married",
   "metadata": {},
   "outputs": [
    {
     "name": "stdout",
     "output_type": "stream",
     "text": [
      "Normalised purity confusion matrix\n",
      "[[1. 0. 0.]\n",
      " [0. 1. 0.]\n",
      " [0. 0. 1.]]\n",
      "Confusion matrix saved as /home/hep/shc3117/MSci-Project-HiggsTauTau/shared/signal_background/purity.png\n",
      "Normalised efficiency confusion matrix\n",
      "[[1. 0. 0.]\n",
      " [0. 1. 0.]\n",
      " [0. 0. 1.]]\n",
      "Confusion matrix saved as /home/hep/shc3117/MSci-Project-HiggsTauTau/shared/signal_background/efficiency.png\n"
     ]
    },
    {
     "data": {
      "image/png": "[encoded data removed]",
      "text/plain": [
       "<Figure size 432x288 with 2 Axes>"
      ]
     },
     "metadata": {
      "needs_background": "light"
     },
     "output_type": "display_data"
    },
    {
     "data": {
      "image/png": "[encoded data removed]",
      "text/plain": [
       "<Figure size 432x288 with 2 Axes>"
      ]
     },
     "metadata": {
      "needs_background": "light"
     },
     "output_type": "display_data"
    }
   ],
   "source": [
    "predict=xgb_clf.predict(X_test)\n",
    "cm_p=plot_confusion_matrix(y_test, predict, [0,1,2],\n",
    "                    normalise_by_row=True, w_test=w_test, figname=f'{write_path}purity.png')\n",
    "cm_e=plot_confusion_matrix(y_test, predict, [0,1,2],\n",
    "                    normalise_by_col=True, w_test=w_test, figname=f'{write_path}efficiency.png')"
   ]
  },
  {
   "cell_type": "code",
   "execution_count": 32,
   "id": "super-thinking",
   "metadata": {},
   "outputs": [],
   "source": [
    "write_cm('base', cm_p, cm_e)"
   ]
  },
  {
   "cell_type": "code",
   "execution_count": 98,
   "id": "relevant-blackjack",
   "metadata": {},
   "outputs": [],
   "source": [
    "y_classes=xgb_clf.predict(X_test)"
   ]
  },
  {
   "cell_type": "code",
   "execution_count": 99,
   "id": "unexpected-absolute",
   "metadata": {},
   "outputs": [],
   "source": [
    "y_pred = xgb_clf.predict_proba(X_test)"
   ]
  },
  {
   "cell_type": "code",
   "execution_count": 104,
   "id": "adequate-exclusion",
   "metadata": {},
   "outputs": [
    {
     "data": {
      "image/png": "[encoded data removed]",
      "text/plain": [
       "<Figure size 432x288 with 1 Axes>"
      ]
     },
     "metadata": {
      "needs_background": "light"
     },
     "output_type": "display_data"
    },
    {
     "data": {
      "image/png": "[encoded data removed]",
      "text/plain": [
       "<Figure size 432x288 with 1 Axes>"
      ]
     },
     "metadata": {
      "needs_background": "light"
     },
     "output_type": "display_data"
    },
    {
     "data": {
      "image/png": "[encoded data removed]",
      "text/plain": [
       "<Figure size 432x288 with 1 Axes>"
      ]
     },
     "metadata": {
      "needs_background": "light"
     },
     "output_type": "display_data"
    }
   ],
   "source": [
    "labels=['higgs', 'ztt', 'fakes']\n",
    "plt.figure()\n",
    "for i in range(0, 3):\n",
    "    plt.hist(y_pred[:, 0][y_test==i], bins=100, label=labels[i], alpha=0.5, density=True)\n",
    "    plt.title(labels[0]+' score')\n",
    "plt.legend()\n",
    "plt.figure()\n",
    "for i in range(0, 3):\n",
    "    plt.hist(y_pred[:, 1][y_test==i], bins=100, label=labels[i], alpha=0.5, density=True)\n",
    "    plt.title(labels[1]+' score')\n",
    "plt.legend()\n",
    "plt.figure()\n",
    "for i in range(0, 3):\n",
    "    plt.hist(y_pred[:, 2][y_test==i], bins=100, label=labels[i], alpha=0.5, density=True)\n",
    "    plt.title(labels[2]+' score')\n",
    "plt.legend()\n",
    "plt.show()"
   ]
  },
  {
   "cell_type": "markdown",
   "id": "ceramic-bulletin",
   "metadata": {},
   "source": [
    "# with iso variables"
   ]
  },
  {
   "cell_type": "code",
   "execution_count": 21,
   "id": "planned-alberta",
   "metadata": {},
   "outputs": [],
   "source": [
    "df_2 = df.drop(selectors, axis=1)"
   ]
  },
  {
   "cell_type": "code",
   "execution_count": 22,
   "id": "extreme-italy",
   "metadata": {},
   "outputs": [
    {
     "name": "stdout",
     "output_type": "stream",
     "text": [
      "[(0.0, 1262736), (1.0, 33487), (2.0, 100831)]\n"
     ]
    }
   ],
   "source": [
    "print(sorted(Counter(df_2.y).items()))"
   ]
  },
  {
   "cell_type": "code",
   "execution_count": 23,
   "id": "applied-vegetation",
   "metadata": {},
   "outputs": [],
   "source": [
    "# xgb_params = {\n",
    "#     \"objective\": \"multi:softmax\",\n",
    "#     \"max_depth\": 6,\n",
    "#     \"num_classes\": 4,\n",
    "# }\n",
    "xgb_params = {\n",
    "    \"objective\": \"multi:softprob\",\n",
    "    \"max_depth\": 3,\n",
    "    \"learning_rate\": 0.05,\n",
    "    \"silent\": 1,\n",
    "    \"n_estimators\": 1000,\n",
    "    \"subsample\": 0.9,\n",
    "    \"seed\": 123451,\n",
    "}\n",
    "\n",
    "xgb_clf_iso = xgboost.XGBClassifier(**xgb_params)\n",
    "# xgb_clf = xgboost.XGBClassifier()"
   ]
  },
  {
   "cell_type": "code",
   "execution_count": 24,
   "id": "iraqi-adrian",
   "metadata": {},
   "outputs": [
    {
     "data": {
      "text/plain": [
       "Index(['pt_1', 'pt_2', 'm_vis', 'svfit_mass', 'mjj', 'jpt_1', 'pt_tt', 'met',\n",
       "       'n_jets', 'pt_vis', 'iso_1', 'iso_2'],\n",
       "      dtype='object')"
      ]
     },
     "execution_count": 24,
     "metadata": {},
     "output_type": "execute_result"
    }
   ],
   "source": [
    "df_2.drop(['y', 'wt', 'w', 'cn'], axis=1).columns"
   ]
  },
  {
   "cell_type": "code",
   "execution_count": 53,
   "id": "southeast-occasions",
   "metadata": {},
   "outputs": [],
   "source": [
    "X = df_2.drop(['y', 'wt', 'w', 'cn'], axis=1).to_numpy()\n",
    "y = df_2.y.astype(int)\n",
    "w = df_2.w\n",
    "X_train, X_test, y_train, y_test, w_train, w_test, cn_train, cn_test= train_test_split(X, y, w, df.cn, test_size=0.3, random_state=1, stratify=df_2.y)"
   ]
  },
  {
   "cell_type": "code",
   "execution_count": 54,
   "id": "sporting-function",
   "metadata": {
    "collapsed": true,
    "jupyter": {
     "outputs_hidden": true
    }
   },
   "outputs": [
    {
     "name": "stderr",
     "output_type": "stream",
     "text": [
      "/home/hep/shc3117/anaconda3/envs/msci/lib/python3.8/site-packages/xgboost/sklearn.py:888: UserWarning: The use of label encoder in XGBClassifier is deprecated and will be removed in a future release. To remove this warning, do the following: 1) Pass option use_label_encoder=False when constructing XGBClassifier object; and 2) Encode your labels (y) as integers starting with 0, i.e. 0, 1, 2, ..., [num_class - 1].\n",
      "  warnings.warn(label_encoder_deprecation_msg, UserWarning)\n"
     ]
    },
    {
     "name": "stdout",
     "output_type": "stream",
     "text": [
      "[10:20:58] WARNING: ../src/learner.cc:541: \n",
      "Parameters: { silent } might not be used.\n",
      "\n",
      "  This may not be accurate due to some parameters are only used in language bindings but\n",
      "  passed down to XGBoost core.  Or some parameters are not used but slip through this\n",
      "  verification. Please open an issue if you find above cases.\n",
      "\n",
      "\n",
      "[0]\tvalidation_0-mlogloss:1.05679\tvalidation_1-mlogloss:1.05676\n",
      "[2]\tvalidation_0-mlogloss:0.98316\tvalidation_1-mlogloss:0.98298\n",
      "[4]\tvalidation_0-mlogloss:0.92054\tvalidation_1-mlogloss:0.92030\n",
      "[6]\tvalidation_0-mlogloss:0.86668\tvalidation_1-mlogloss:0.86634\n",
      "[8]\tvalidation_0-mlogloss:0.82017\tvalidation_1-mlogloss:0.81971\n",
      "[10]\tvalidation_0-mlogloss:0.77957\tvalidation_1-mlogloss:0.77906\n",
      "[12]\tvalidation_0-mlogloss:0.74425\tvalidation_1-mlogloss:0.74368\n",
      "[14]\tvalidation_0-mlogloss:0.71327\tvalidation_1-mlogloss:0.71264\n",
      "[16]\tvalidation_0-mlogloss:0.68610\tvalidation_1-mlogloss:0.68546\n",
      "[18]\tvalidation_0-mlogloss:0.66202\tvalidation_1-mlogloss:0.66134\n",
      "[20]\tvalidation_0-mlogloss:0.64074\tvalidation_1-mlogloss:0.64006\n",
      "[22]\tvalidation_0-mlogloss:0.62192\tvalidation_1-mlogloss:0.62127\n",
      "[24]\tvalidation_0-mlogloss:0.60504\tvalidation_1-mlogloss:0.60444\n",
      "[26]\tvalidation_0-mlogloss:0.59015\tvalidation_1-mlogloss:0.58958\n",
      "[28]\tvalidation_0-mlogloss:0.57693\tvalidation_1-mlogloss:0.57639\n",
      "[30]\tvalidation_0-mlogloss:0.56487\tvalidation_1-mlogloss:0.56437\n",
      "[32]\tvalidation_0-mlogloss:0.55422\tvalidation_1-mlogloss:0.55378\n",
      "[34]\tvalidation_0-mlogloss:0.54419\tvalidation_1-mlogloss:0.54381\n",
      "[36]\tvalidation_0-mlogloss:0.53526\tvalidation_1-mlogloss:0.53495\n",
      "[38]\tvalidation_0-mlogloss:0.52708\tvalidation_1-mlogloss:0.52686\n",
      "[40]\tvalidation_0-mlogloss:0.51972\tvalidation_1-mlogloss:0.51959\n",
      "[42]\tvalidation_0-mlogloss:0.51305\tvalidation_1-mlogloss:0.51302\n",
      "[44]\tvalidation_0-mlogloss:0.50698\tvalidation_1-mlogloss:0.50702\n",
      "[46]\tvalidation_0-mlogloss:0.50144\tvalidation_1-mlogloss:0.50159\n",
      "[48]\tvalidation_0-mlogloss:0.49634\tvalidation_1-mlogloss:0.49665\n",
      "[50]\tvalidation_0-mlogloss:0.49161\tvalidation_1-mlogloss:0.49203\n",
      "[52]\tvalidation_0-mlogloss:0.48723\tvalidation_1-mlogloss:0.48778\n",
      "[54]\tvalidation_0-mlogloss:0.48324\tvalidation_1-mlogloss:0.48387\n",
      "[56]\tvalidation_0-mlogloss:0.47952\tvalidation_1-mlogloss:0.48025\n",
      "[58]\tvalidation_0-mlogloss:0.47606\tvalidation_1-mlogloss:0.47690\n",
      "[60]\tvalidation_0-mlogloss:0.47290\tvalidation_1-mlogloss:0.47383\n",
      "[62]\tvalidation_0-mlogloss:0.46998\tvalidation_1-mlogloss:0.47096\n",
      "[64]\tvalidation_0-mlogloss:0.46710\tvalidation_1-mlogloss:0.46820\n",
      "[66]\tvalidation_0-mlogloss:0.46459\tvalidation_1-mlogloss:0.46578\n",
      "[68]\tvalidation_0-mlogloss:0.46219\tvalidation_1-mlogloss:0.46346\n",
      "[70]\tvalidation_0-mlogloss:0.46003\tvalidation_1-mlogloss:0.46136\n",
      "[72]\tvalidation_0-mlogloss:0.45794\tvalidation_1-mlogloss:0.45933\n",
      "[74]\tvalidation_0-mlogloss:0.45601\tvalidation_1-mlogloss:0.45748\n",
      "[76]\tvalidation_0-mlogloss:0.45426\tvalidation_1-mlogloss:0.45579\n",
      "[78]\tvalidation_0-mlogloss:0.45257\tvalidation_1-mlogloss:0.45419\n",
      "[80]\tvalidation_0-mlogloss:0.45096\tvalidation_1-mlogloss:0.45264\n",
      "[82]\tvalidation_0-mlogloss:0.44942\tvalidation_1-mlogloss:0.45114\n",
      "[84]\tvalidation_0-mlogloss:0.44794\tvalidation_1-mlogloss:0.44972\n",
      "[86]\tvalidation_0-mlogloss:0.44656\tvalidation_1-mlogloss:0.44840\n",
      "[88]\tvalidation_0-mlogloss:0.44524\tvalidation_1-mlogloss:0.44712\n",
      "[90]\tvalidation_0-mlogloss:0.44406\tvalidation_1-mlogloss:0.44600\n",
      "[92]\tvalidation_0-mlogloss:0.44288\tvalidation_1-mlogloss:0.44486\n",
      "[94]\tvalidation_0-mlogloss:0.44177\tvalidation_1-mlogloss:0.44383\n",
      "[96]\tvalidation_0-mlogloss:0.44076\tvalidation_1-mlogloss:0.44284\n",
      "[98]\tvalidation_0-mlogloss:0.43978\tvalidation_1-mlogloss:0.44194\n",
      "[100]\tvalidation_0-mlogloss:0.43890\tvalidation_1-mlogloss:0.44109\n",
      "[102]\tvalidation_0-mlogloss:0.43798\tvalidation_1-mlogloss:0.44024\n",
      "[104]\tvalidation_0-mlogloss:0.43707\tvalidation_1-mlogloss:0.43941\n",
      "[106]\tvalidation_0-mlogloss:0.43632\tvalidation_1-mlogloss:0.43868\n",
      "[108]\tvalidation_0-mlogloss:0.43556\tvalidation_1-mlogloss:0.43796\n",
      "[110]\tvalidation_0-mlogloss:0.43471\tvalidation_1-mlogloss:0.43715\n",
      "[112]\tvalidation_0-mlogloss:0.43398\tvalidation_1-mlogloss:0.43650\n",
      "[114]\tvalidation_0-mlogloss:0.43323\tvalidation_1-mlogloss:0.43578\n",
      "[116]\tvalidation_0-mlogloss:0.43247\tvalidation_1-mlogloss:0.43506\n",
      "[118]\tvalidation_0-mlogloss:0.43177\tvalidation_1-mlogloss:0.43442\n",
      "[120]\tvalidation_0-mlogloss:0.43101\tvalidation_1-mlogloss:0.43371\n",
      "[122]\tvalidation_0-mlogloss:0.43037\tvalidation_1-mlogloss:0.43311\n",
      "[124]\tvalidation_0-mlogloss:0.42975\tvalidation_1-mlogloss:0.43256\n",
      "[126]\tvalidation_0-mlogloss:0.42909\tvalidation_1-mlogloss:0.43192\n",
      "[128]\tvalidation_0-mlogloss:0.42853\tvalidation_1-mlogloss:0.43140\n",
      "[130]\tvalidation_0-mlogloss:0.42794\tvalidation_1-mlogloss:0.43084\n",
      "[132]\tvalidation_0-mlogloss:0.42742\tvalidation_1-mlogloss:0.43038\n",
      "[134]\tvalidation_0-mlogloss:0.42692\tvalidation_1-mlogloss:0.42993\n",
      "[136]\tvalidation_0-mlogloss:0.42645\tvalidation_1-mlogloss:0.42951\n",
      "[138]\tvalidation_0-mlogloss:0.42601\tvalidation_1-mlogloss:0.42911\n",
      "[140]\tvalidation_0-mlogloss:0.42553\tvalidation_1-mlogloss:0.42868\n",
      "[142]\tvalidation_0-mlogloss:0.42512\tvalidation_1-mlogloss:0.42832\n",
      "[144]\tvalidation_0-mlogloss:0.42462\tvalidation_1-mlogloss:0.42785\n",
      "[146]\tvalidation_0-mlogloss:0.42419\tvalidation_1-mlogloss:0.42747\n",
      "[148]\tvalidation_0-mlogloss:0.42382\tvalidation_1-mlogloss:0.42715\n",
      "[150]\tvalidation_0-mlogloss:0.42342\tvalidation_1-mlogloss:0.42679\n",
      "[152]\tvalidation_0-mlogloss:0.42297\tvalidation_1-mlogloss:0.42635\n",
      "[154]\tvalidation_0-mlogloss:0.42261\tvalidation_1-mlogloss:0.42605\n",
      "[156]\tvalidation_0-mlogloss:0.42216\tvalidation_1-mlogloss:0.42564\n",
      "[158]\tvalidation_0-mlogloss:0.42179\tvalidation_1-mlogloss:0.42530\n",
      "[160]\tvalidation_0-mlogloss:0.42146\tvalidation_1-mlogloss:0.42502\n",
      "[162]\tvalidation_0-mlogloss:0.42108\tvalidation_1-mlogloss:0.42470\n",
      "[164]\tvalidation_0-mlogloss:0.42073\tvalidation_1-mlogloss:0.42439\n",
      "[166]\tvalidation_0-mlogloss:0.42038\tvalidation_1-mlogloss:0.42408\n",
      "[168]\tvalidation_0-mlogloss:0.42009\tvalidation_1-mlogloss:0.42385\n",
      "[170]\tvalidation_0-mlogloss:0.41978\tvalidation_1-mlogloss:0.42358\n",
      "[172]\tvalidation_0-mlogloss:0.41945\tvalidation_1-mlogloss:0.42330\n",
      "[174]\tvalidation_0-mlogloss:0.41913\tvalidation_1-mlogloss:0.42301\n",
      "[176]\tvalidation_0-mlogloss:0.41885\tvalidation_1-mlogloss:0.42278\n",
      "[178]\tvalidation_0-mlogloss:0.41858\tvalidation_1-mlogloss:0.42256\n",
      "[180]\tvalidation_0-mlogloss:0.41828\tvalidation_1-mlogloss:0.42232\n",
      "[182]\tvalidation_0-mlogloss:0.41807\tvalidation_1-mlogloss:0.42214\n",
      "[184]\tvalidation_0-mlogloss:0.41778\tvalidation_1-mlogloss:0.42188\n",
      "[186]\tvalidation_0-mlogloss:0.41751\tvalidation_1-mlogloss:0.42166\n",
      "[188]\tvalidation_0-mlogloss:0.41728\tvalidation_1-mlogloss:0.42146\n",
      "[190]\tvalidation_0-mlogloss:0.41700\tvalidation_1-mlogloss:0.42122\n",
      "[192]\tvalidation_0-mlogloss:0.41675\tvalidation_1-mlogloss:0.42099\n",
      "[194]\tvalidation_0-mlogloss:0.41652\tvalidation_1-mlogloss:0.42079\n",
      "[196]\tvalidation_0-mlogloss:0.41631\tvalidation_1-mlogloss:0.42061\n",
      "[198]\tvalidation_0-mlogloss:0.41604\tvalidation_1-mlogloss:0.42038\n",
      "[200]\tvalidation_0-mlogloss:0.41583\tvalidation_1-mlogloss:0.42019\n",
      "[202]\tvalidation_0-mlogloss:0.41559\tvalidation_1-mlogloss:0.42000\n",
      "[204]\tvalidation_0-mlogloss:0.41542\tvalidation_1-mlogloss:0.41987\n",
      "[206]\tvalidation_0-mlogloss:0.41524\tvalidation_1-mlogloss:0.41973\n",
      "[208]\tvalidation_0-mlogloss:0.41505\tvalidation_1-mlogloss:0.41959\n",
      "[210]\tvalidation_0-mlogloss:0.41487\tvalidation_1-mlogloss:0.41945\n",
      "[212]\tvalidation_0-mlogloss:0.41470\tvalidation_1-mlogloss:0.41931\n",
      "[214]\tvalidation_0-mlogloss:0.41450\tvalidation_1-mlogloss:0.41916\n",
      "[216]\tvalidation_0-mlogloss:0.41432\tvalidation_1-mlogloss:0.41902\n",
      "[218]\tvalidation_0-mlogloss:0.41413\tvalidation_1-mlogloss:0.41889\n",
      "[220]\tvalidation_0-mlogloss:0.41396\tvalidation_1-mlogloss:0.41875\n",
      "[222]\tvalidation_0-mlogloss:0.41378\tvalidation_1-mlogloss:0.41863\n",
      "[224]\tvalidation_0-mlogloss:0.41359\tvalidation_1-mlogloss:0.41847\n",
      "[226]\tvalidation_0-mlogloss:0.41344\tvalidation_1-mlogloss:0.41836\n",
      "[228]\tvalidation_0-mlogloss:0.41328\tvalidation_1-mlogloss:0.41823\n",
      "[230]\tvalidation_0-mlogloss:0.41309\tvalidation_1-mlogloss:0.41811\n",
      "[232]\tvalidation_0-mlogloss:0.41293\tvalidation_1-mlogloss:0.41798\n",
      "[234]\tvalidation_0-mlogloss:0.41276\tvalidation_1-mlogloss:0.41784\n",
      "[236]\tvalidation_0-mlogloss:0.41260\tvalidation_1-mlogloss:0.41773\n",
      "[238]\tvalidation_0-mlogloss:0.41247\tvalidation_1-mlogloss:0.41763\n",
      "[240]\tvalidation_0-mlogloss:0.41230\tvalidation_1-mlogloss:0.41752\n",
      "[242]\tvalidation_0-mlogloss:0.41213\tvalidation_1-mlogloss:0.41740\n",
      "[244]\tvalidation_0-mlogloss:0.41199\tvalidation_1-mlogloss:0.41730\n",
      "[246]\tvalidation_0-mlogloss:0.41185\tvalidation_1-mlogloss:0.41718\n",
      "[248]\tvalidation_0-mlogloss:0.41172\tvalidation_1-mlogloss:0.41710\n",
      "[250]\tvalidation_0-mlogloss:0.41159\tvalidation_1-mlogloss:0.41698\n",
      "[252]\tvalidation_0-mlogloss:0.41145\tvalidation_1-mlogloss:0.41691\n",
      "[254]\tvalidation_0-mlogloss:0.41134\tvalidation_1-mlogloss:0.41682\n",
      "[256]\tvalidation_0-mlogloss:0.41119\tvalidation_1-mlogloss:0.41673\n",
      "[258]\tvalidation_0-mlogloss:0.41106\tvalidation_1-mlogloss:0.41662\n",
      "[260]\tvalidation_0-mlogloss:0.41091\tvalidation_1-mlogloss:0.41653\n",
      "[262]\tvalidation_0-mlogloss:0.41078\tvalidation_1-mlogloss:0.41644\n",
      "[264]\tvalidation_0-mlogloss:0.41067\tvalidation_1-mlogloss:0.41636\n",
      "[266]\tvalidation_0-mlogloss:0.41056\tvalidation_1-mlogloss:0.41628\n",
      "[268]\tvalidation_0-mlogloss:0.41044\tvalidation_1-mlogloss:0.41620\n",
      "[270]\tvalidation_0-mlogloss:0.41034\tvalidation_1-mlogloss:0.41614\n",
      "[272]\tvalidation_0-mlogloss:0.41024\tvalidation_1-mlogloss:0.41607\n",
      "[274]\tvalidation_0-mlogloss:0.41012\tvalidation_1-mlogloss:0.41599\n",
      "[276]\tvalidation_0-mlogloss:0.41001\tvalidation_1-mlogloss:0.41593\n",
      "[278]\tvalidation_0-mlogloss:0.40986\tvalidation_1-mlogloss:0.41583\n",
      "[280]\tvalidation_0-mlogloss:0.40975\tvalidation_1-mlogloss:0.41575\n",
      "[282]\tvalidation_0-mlogloss:0.40965\tvalidation_1-mlogloss:0.41568\n",
      "[284]\tvalidation_0-mlogloss:0.40953\tvalidation_1-mlogloss:0.41559\n",
      "[286]\tvalidation_0-mlogloss:0.40942\tvalidation_1-mlogloss:0.41550\n",
      "[288]\tvalidation_0-mlogloss:0.40931\tvalidation_1-mlogloss:0.41544\n",
      "[290]\tvalidation_0-mlogloss:0.40921\tvalidation_1-mlogloss:0.41538\n",
      "[292]\tvalidation_0-mlogloss:0.40912\tvalidation_1-mlogloss:0.41533\n",
      "[294]\tvalidation_0-mlogloss:0.40901\tvalidation_1-mlogloss:0.41525\n",
      "[296]\tvalidation_0-mlogloss:0.40889\tvalidation_1-mlogloss:0.41517\n",
      "[298]\tvalidation_0-mlogloss:0.40877\tvalidation_1-mlogloss:0.41508\n",
      "[300]\tvalidation_0-mlogloss:0.40869\tvalidation_1-mlogloss:0.41503\n",
      "[302]\tvalidation_0-mlogloss:0.40857\tvalidation_1-mlogloss:0.41496\n",
      "[304]\tvalidation_0-mlogloss:0.40849\tvalidation_1-mlogloss:0.41492\n",
      "[306]\tvalidation_0-mlogloss:0.40840\tvalidation_1-mlogloss:0.41486\n",
      "[308]\tvalidation_0-mlogloss:0.40831\tvalidation_1-mlogloss:0.41481\n",
      "[310]\tvalidation_0-mlogloss:0.40821\tvalidation_1-mlogloss:0.41474\n",
      "[312]\tvalidation_0-mlogloss:0.40813\tvalidation_1-mlogloss:0.41470\n",
      "[314]\tvalidation_0-mlogloss:0.40804\tvalidation_1-mlogloss:0.41465\n",
      "[316]\tvalidation_0-mlogloss:0.40795\tvalidation_1-mlogloss:0.41461\n",
      "[318]\tvalidation_0-mlogloss:0.40786\tvalidation_1-mlogloss:0.41456\n",
      "[320]\tvalidation_0-mlogloss:0.40777\tvalidation_1-mlogloss:0.41451\n",
      "[322]\tvalidation_0-mlogloss:0.40768\tvalidation_1-mlogloss:0.41444\n",
      "[324]\tvalidation_0-mlogloss:0.40758\tvalidation_1-mlogloss:0.41438\n",
      "[326]\tvalidation_0-mlogloss:0.40751\tvalidation_1-mlogloss:0.41434\n",
      "[328]\tvalidation_0-mlogloss:0.40742\tvalidation_1-mlogloss:0.41429\n",
      "[330]\tvalidation_0-mlogloss:0.40735\tvalidation_1-mlogloss:0.41427\n",
      "[332]\tvalidation_0-mlogloss:0.40727\tvalidation_1-mlogloss:0.41423\n",
      "[334]\tvalidation_0-mlogloss:0.40718\tvalidation_1-mlogloss:0.41421\n",
      "[336]\tvalidation_0-mlogloss:0.40707\tvalidation_1-mlogloss:0.41414\n",
      "[338]\tvalidation_0-mlogloss:0.40700\tvalidation_1-mlogloss:0.41409\n",
      "[340]\tvalidation_0-mlogloss:0.40691\tvalidation_1-mlogloss:0.41402\n",
      "[342]\tvalidation_0-mlogloss:0.40683\tvalidation_1-mlogloss:0.41397\n",
      "[344]\tvalidation_0-mlogloss:0.40674\tvalidation_1-mlogloss:0.41393\n",
      "[346]\tvalidation_0-mlogloss:0.40667\tvalidation_1-mlogloss:0.41390\n",
      "[348]\tvalidation_0-mlogloss:0.40660\tvalidation_1-mlogloss:0.41385\n",
      "[350]\tvalidation_0-mlogloss:0.40651\tvalidation_1-mlogloss:0.41380\n",
      "[352]\tvalidation_0-mlogloss:0.40644\tvalidation_1-mlogloss:0.41376\n",
      "[354]\tvalidation_0-mlogloss:0.40637\tvalidation_1-mlogloss:0.41372\n",
      "[356]\tvalidation_0-mlogloss:0.40630\tvalidation_1-mlogloss:0.41369\n",
      "[358]\tvalidation_0-mlogloss:0.40622\tvalidation_1-mlogloss:0.41364\n",
      "[360]\tvalidation_0-mlogloss:0.40614\tvalidation_1-mlogloss:0.41359\n",
      "[362]\tvalidation_0-mlogloss:0.40607\tvalidation_1-mlogloss:0.41354\n",
      "[364]\tvalidation_0-mlogloss:0.40598\tvalidation_1-mlogloss:0.41350\n",
      "[366]\tvalidation_0-mlogloss:0.40590\tvalidation_1-mlogloss:0.41346\n",
      "[368]\tvalidation_0-mlogloss:0.40582\tvalidation_1-mlogloss:0.41342\n",
      "[370]\tvalidation_0-mlogloss:0.40575\tvalidation_1-mlogloss:0.41338\n",
      "[372]\tvalidation_0-mlogloss:0.40568\tvalidation_1-mlogloss:0.41334\n",
      "[374]\tvalidation_0-mlogloss:0.40560\tvalidation_1-mlogloss:0.41330\n",
      "[376]\tvalidation_0-mlogloss:0.40552\tvalidation_1-mlogloss:0.41327\n",
      "[378]\tvalidation_0-mlogloss:0.40544\tvalidation_1-mlogloss:0.41321\n",
      "[380]\tvalidation_0-mlogloss:0.40537\tvalidation_1-mlogloss:0.41317\n",
      "[382]\tvalidation_0-mlogloss:0.40530\tvalidation_1-mlogloss:0.41314\n",
      "[384]\tvalidation_0-mlogloss:0.40523\tvalidation_1-mlogloss:0.41310\n",
      "[386]\tvalidation_0-mlogloss:0.40515\tvalidation_1-mlogloss:0.41307\n",
      "[388]\tvalidation_0-mlogloss:0.40508\tvalidation_1-mlogloss:0.41304\n",
      "[390]\tvalidation_0-mlogloss:0.40503\tvalidation_1-mlogloss:0.41301\n",
      "[392]\tvalidation_0-mlogloss:0.40496\tvalidation_1-mlogloss:0.41298\n",
      "[394]\tvalidation_0-mlogloss:0.40487\tvalidation_1-mlogloss:0.41295\n",
      "[396]\tvalidation_0-mlogloss:0.40481\tvalidation_1-mlogloss:0.41293\n",
      "[398]\tvalidation_0-mlogloss:0.40474\tvalidation_1-mlogloss:0.41291\n",
      "[400]\tvalidation_0-mlogloss:0.40467\tvalidation_1-mlogloss:0.41288\n",
      "[402]\tvalidation_0-mlogloss:0.40460\tvalidation_1-mlogloss:0.41284\n",
      "[404]\tvalidation_0-mlogloss:0.40454\tvalidation_1-mlogloss:0.41282\n",
      "[406]\tvalidation_0-mlogloss:0.40447\tvalidation_1-mlogloss:0.41278\n",
      "[408]\tvalidation_0-mlogloss:0.40441\tvalidation_1-mlogloss:0.41275\n",
      "[410]\tvalidation_0-mlogloss:0.40434\tvalidation_1-mlogloss:0.41272\n",
      "[412]\tvalidation_0-mlogloss:0.40426\tvalidation_1-mlogloss:0.41269\n",
      "[414]\tvalidation_0-mlogloss:0.40417\tvalidation_1-mlogloss:0.41264\n",
      "[416]\tvalidation_0-mlogloss:0.40411\tvalidation_1-mlogloss:0.41260\n",
      "[418]\tvalidation_0-mlogloss:0.40404\tvalidation_1-mlogloss:0.41256\n",
      "[420]\tvalidation_0-mlogloss:0.40398\tvalidation_1-mlogloss:0.41253\n",
      "[422]\tvalidation_0-mlogloss:0.40392\tvalidation_1-mlogloss:0.41251\n",
      "[424]\tvalidation_0-mlogloss:0.40384\tvalidation_1-mlogloss:0.41247\n",
      "[426]\tvalidation_0-mlogloss:0.40378\tvalidation_1-mlogloss:0.41243\n",
      "[428]\tvalidation_0-mlogloss:0.40373\tvalidation_1-mlogloss:0.41241\n",
      "[430]\tvalidation_0-mlogloss:0.40365\tvalidation_1-mlogloss:0.41235\n",
      "[432]\tvalidation_0-mlogloss:0.40359\tvalidation_1-mlogloss:0.41234\n",
      "[434]\tvalidation_0-mlogloss:0.40353\tvalidation_1-mlogloss:0.41231\n",
      "[436]\tvalidation_0-mlogloss:0.40347\tvalidation_1-mlogloss:0.41228\n",
      "[438]\tvalidation_0-mlogloss:0.40342\tvalidation_1-mlogloss:0.41226\n",
      "[440]\tvalidation_0-mlogloss:0.40336\tvalidation_1-mlogloss:0.41225\n",
      "[442]\tvalidation_0-mlogloss:0.40328\tvalidation_1-mlogloss:0.41221\n",
      "[444]\tvalidation_0-mlogloss:0.40321\tvalidation_1-mlogloss:0.41219\n",
      "[446]\tvalidation_0-mlogloss:0.40314\tvalidation_1-mlogloss:0.41217\n",
      "[448]\tvalidation_0-mlogloss:0.40307\tvalidation_1-mlogloss:0.41214\n",
      "[450]\tvalidation_0-mlogloss:0.40301\tvalidation_1-mlogloss:0.41210\n",
      "[452]\tvalidation_0-mlogloss:0.40294\tvalidation_1-mlogloss:0.41206\n",
      "[454]\tvalidation_0-mlogloss:0.40288\tvalidation_1-mlogloss:0.41203\n",
      "[456]\tvalidation_0-mlogloss:0.40282\tvalidation_1-mlogloss:0.41202\n",
      "[458]\tvalidation_0-mlogloss:0.40276\tvalidation_1-mlogloss:0.41200\n",
      "[460]\tvalidation_0-mlogloss:0.40269\tvalidation_1-mlogloss:0.41197\n",
      "[462]\tvalidation_0-mlogloss:0.40265\tvalidation_1-mlogloss:0.41195\n",
      "[464]\tvalidation_0-mlogloss:0.40259\tvalidation_1-mlogloss:0.41192\n",
      "[466]\tvalidation_0-mlogloss:0.40252\tvalidation_1-mlogloss:0.41187\n",
      "[468]\tvalidation_0-mlogloss:0.40246\tvalidation_1-mlogloss:0.41184\n",
      "[470]\tvalidation_0-mlogloss:0.40238\tvalidation_1-mlogloss:0.41182\n",
      "[472]\tvalidation_0-mlogloss:0.40233\tvalidation_1-mlogloss:0.41180\n",
      "[474]\tvalidation_0-mlogloss:0.40226\tvalidation_1-mlogloss:0.41176\n",
      "[476]\tvalidation_0-mlogloss:0.40219\tvalidation_1-mlogloss:0.41174\n",
      "[478]\tvalidation_0-mlogloss:0.40213\tvalidation_1-mlogloss:0.41171\n",
      "[480]\tvalidation_0-mlogloss:0.40207\tvalidation_1-mlogloss:0.41167\n",
      "[482]\tvalidation_0-mlogloss:0.40200\tvalidation_1-mlogloss:0.41164\n",
      "[484]\tvalidation_0-mlogloss:0.40195\tvalidation_1-mlogloss:0.41163\n",
      "[486]\tvalidation_0-mlogloss:0.40188\tvalidation_1-mlogloss:0.41160\n",
      "[488]\tvalidation_0-mlogloss:0.40182\tvalidation_1-mlogloss:0.41158\n",
      "[490]\tvalidation_0-mlogloss:0.40176\tvalidation_1-mlogloss:0.41155\n",
      "[492]\tvalidation_0-mlogloss:0.40170\tvalidation_1-mlogloss:0.41153\n",
      "[494]\tvalidation_0-mlogloss:0.40165\tvalidation_1-mlogloss:0.41152\n",
      "[496]\tvalidation_0-mlogloss:0.40159\tvalidation_1-mlogloss:0.41149\n",
      "[498]\tvalidation_0-mlogloss:0.40153\tvalidation_1-mlogloss:0.41147\n",
      "[500]\tvalidation_0-mlogloss:0.40148\tvalidation_1-mlogloss:0.41145\n",
      "[502]\tvalidation_0-mlogloss:0.40142\tvalidation_1-mlogloss:0.41144\n",
      "[504]\tvalidation_0-mlogloss:0.40138\tvalidation_1-mlogloss:0.41142\n",
      "[506]\tvalidation_0-mlogloss:0.40133\tvalidation_1-mlogloss:0.41140\n",
      "[508]\tvalidation_0-mlogloss:0.40128\tvalidation_1-mlogloss:0.41138\n",
      "[510]\tvalidation_0-mlogloss:0.40122\tvalidation_1-mlogloss:0.41136\n",
      "[512]\tvalidation_0-mlogloss:0.40116\tvalidation_1-mlogloss:0.41136\n",
      "[514]\tvalidation_0-mlogloss:0.40111\tvalidation_1-mlogloss:0.41134\n",
      "[516]\tvalidation_0-mlogloss:0.40106\tvalidation_1-mlogloss:0.41132\n",
      "[518]\tvalidation_0-mlogloss:0.40100\tvalidation_1-mlogloss:0.41131\n",
      "[520]\tvalidation_0-mlogloss:0.40095\tvalidation_1-mlogloss:0.41129\n",
      "[522]\tvalidation_0-mlogloss:0.40089\tvalidation_1-mlogloss:0.41126\n",
      "[524]\tvalidation_0-mlogloss:0.40084\tvalidation_1-mlogloss:0.41124\n",
      "[526]\tvalidation_0-mlogloss:0.40078\tvalidation_1-mlogloss:0.41121\n",
      "[528]\tvalidation_0-mlogloss:0.40074\tvalidation_1-mlogloss:0.41118\n",
      "[530]\tvalidation_0-mlogloss:0.40068\tvalidation_1-mlogloss:0.41115\n",
      "[532]\tvalidation_0-mlogloss:0.40062\tvalidation_1-mlogloss:0.41113\n",
      "[534]\tvalidation_0-mlogloss:0.40058\tvalidation_1-mlogloss:0.41112\n",
      "[536]\tvalidation_0-mlogloss:0.40050\tvalidation_1-mlogloss:0.41110\n",
      "[538]\tvalidation_0-mlogloss:0.40046\tvalidation_1-mlogloss:0.41108\n",
      "[540]\tvalidation_0-mlogloss:0.40039\tvalidation_1-mlogloss:0.41106\n",
      "[542]\tvalidation_0-mlogloss:0.40034\tvalidation_1-mlogloss:0.41105\n",
      "[544]\tvalidation_0-mlogloss:0.40027\tvalidation_1-mlogloss:0.41101\n",
      "[546]\tvalidation_0-mlogloss:0.40022\tvalidation_1-mlogloss:0.41099\n",
      "[548]\tvalidation_0-mlogloss:0.40017\tvalidation_1-mlogloss:0.41097\n",
      "[550]\tvalidation_0-mlogloss:0.40012\tvalidation_1-mlogloss:0.41095\n",
      "[552]\tvalidation_0-mlogloss:0.40007\tvalidation_1-mlogloss:0.41093\n",
      "[554]\tvalidation_0-mlogloss:0.40002\tvalidation_1-mlogloss:0.41093\n",
      "[556]\tvalidation_0-mlogloss:0.39998\tvalidation_1-mlogloss:0.41092\n",
      "[558]\tvalidation_0-mlogloss:0.39993\tvalidation_1-mlogloss:0.41091\n",
      "[560]\tvalidation_0-mlogloss:0.39988\tvalidation_1-mlogloss:0.41089\n",
      "[562]\tvalidation_0-mlogloss:0.39982\tvalidation_1-mlogloss:0.41087\n",
      "[564]\tvalidation_0-mlogloss:0.39976\tvalidation_1-mlogloss:0.41085\n",
      "[566]\tvalidation_0-mlogloss:0.39970\tvalidation_1-mlogloss:0.41084\n",
      "[568]\tvalidation_0-mlogloss:0.39964\tvalidation_1-mlogloss:0.41083\n",
      "[570]\tvalidation_0-mlogloss:0.39960\tvalidation_1-mlogloss:0.41081\n",
      "[572]\tvalidation_0-mlogloss:0.39955\tvalidation_1-mlogloss:0.41079\n",
      "[574]\tvalidation_0-mlogloss:0.39951\tvalidation_1-mlogloss:0.41078\n",
      "[576]\tvalidation_0-mlogloss:0.39948\tvalidation_1-mlogloss:0.41077\n",
      "[578]\tvalidation_0-mlogloss:0.39944\tvalidation_1-mlogloss:0.41076\n",
      "[580]\tvalidation_0-mlogloss:0.39938\tvalidation_1-mlogloss:0.41074\n",
      "[582]\tvalidation_0-mlogloss:0.39932\tvalidation_1-mlogloss:0.41072\n",
      "[584]\tvalidation_0-mlogloss:0.39927\tvalidation_1-mlogloss:0.41071\n",
      "[586]\tvalidation_0-mlogloss:0.39922\tvalidation_1-mlogloss:0.41069\n",
      "[588]\tvalidation_0-mlogloss:0.39917\tvalidation_1-mlogloss:0.41069\n",
      "[590]\tvalidation_0-mlogloss:0.39913\tvalidation_1-mlogloss:0.41068\n",
      "[592]\tvalidation_0-mlogloss:0.39908\tvalidation_1-mlogloss:0.41066\n",
      "[594]\tvalidation_0-mlogloss:0.39903\tvalidation_1-mlogloss:0.41065\n",
      "[596]\tvalidation_0-mlogloss:0.39898\tvalidation_1-mlogloss:0.41062\n",
      "[598]\tvalidation_0-mlogloss:0.39893\tvalidation_1-mlogloss:0.41059\n",
      "[600]\tvalidation_0-mlogloss:0.39889\tvalidation_1-mlogloss:0.41058\n",
      "[602]\tvalidation_0-mlogloss:0.39884\tvalidation_1-mlogloss:0.41057\n",
      "[604]\tvalidation_0-mlogloss:0.39880\tvalidation_1-mlogloss:0.41057\n",
      "[606]\tvalidation_0-mlogloss:0.39872\tvalidation_1-mlogloss:0.41056\n",
      "[608]\tvalidation_0-mlogloss:0.39867\tvalidation_1-mlogloss:0.41055\n",
      "[610]\tvalidation_0-mlogloss:0.39863\tvalidation_1-mlogloss:0.41055\n",
      "[612]\tvalidation_0-mlogloss:0.39858\tvalidation_1-mlogloss:0.41053\n",
      "[614]\tvalidation_0-mlogloss:0.39852\tvalidation_1-mlogloss:0.41050\n",
      "[616]\tvalidation_0-mlogloss:0.39847\tvalidation_1-mlogloss:0.41048\n",
      "[618]\tvalidation_0-mlogloss:0.39841\tvalidation_1-mlogloss:0.41046\n",
      "[620]\tvalidation_0-mlogloss:0.39835\tvalidation_1-mlogloss:0.41044\n",
      "[622]\tvalidation_0-mlogloss:0.39828\tvalidation_1-mlogloss:0.41041\n",
      "[624]\tvalidation_0-mlogloss:0.39824\tvalidation_1-mlogloss:0.41040\n",
      "[626]\tvalidation_0-mlogloss:0.39819\tvalidation_1-mlogloss:0.41039\n",
      "[628]\tvalidation_0-mlogloss:0.39816\tvalidation_1-mlogloss:0.41039\n",
      "[630]\tvalidation_0-mlogloss:0.39812\tvalidation_1-mlogloss:0.41037\n",
      "[632]\tvalidation_0-mlogloss:0.39808\tvalidation_1-mlogloss:0.41036\n",
      "[634]\tvalidation_0-mlogloss:0.39803\tvalidation_1-mlogloss:0.41035\n",
      "[636]\tvalidation_0-mlogloss:0.39798\tvalidation_1-mlogloss:0.41035\n",
      "[638]\tvalidation_0-mlogloss:0.39794\tvalidation_1-mlogloss:0.41033\n",
      "[640]\tvalidation_0-mlogloss:0.39790\tvalidation_1-mlogloss:0.41031\n",
      "[642]\tvalidation_0-mlogloss:0.39786\tvalidation_1-mlogloss:0.41030\n",
      "[644]\tvalidation_0-mlogloss:0.39781\tvalidation_1-mlogloss:0.41030\n",
      "[646]\tvalidation_0-mlogloss:0.39775\tvalidation_1-mlogloss:0.41029\n",
      "[648]\tvalidation_0-mlogloss:0.39771\tvalidation_1-mlogloss:0.41028\n",
      "[650]\tvalidation_0-mlogloss:0.39766\tvalidation_1-mlogloss:0.41026\n",
      "[652]\tvalidation_0-mlogloss:0.39762\tvalidation_1-mlogloss:0.41025\n",
      "[654]\tvalidation_0-mlogloss:0.39759\tvalidation_1-mlogloss:0.41024\n",
      "[656]\tvalidation_0-mlogloss:0.39755\tvalidation_1-mlogloss:0.41023\n",
      "[658]\tvalidation_0-mlogloss:0.39751\tvalidation_1-mlogloss:0.41023\n",
      "[660]\tvalidation_0-mlogloss:0.39747\tvalidation_1-mlogloss:0.41022\n",
      "[662]\tvalidation_0-mlogloss:0.39742\tvalidation_1-mlogloss:0.41020\n",
      "[664]\tvalidation_0-mlogloss:0.39737\tvalidation_1-mlogloss:0.41018\n",
      "[666]\tvalidation_0-mlogloss:0.39733\tvalidation_1-mlogloss:0.41018\n",
      "[668]\tvalidation_0-mlogloss:0.39729\tvalidation_1-mlogloss:0.41018\n",
      "[670]\tvalidation_0-mlogloss:0.39725\tvalidation_1-mlogloss:0.41017\n",
      "[672]\tvalidation_0-mlogloss:0.39721\tvalidation_1-mlogloss:0.41016\n",
      "[674]\tvalidation_0-mlogloss:0.39718\tvalidation_1-mlogloss:0.41015\n",
      "[676]\tvalidation_0-mlogloss:0.39713\tvalidation_1-mlogloss:0.41013\n",
      "[678]\tvalidation_0-mlogloss:0.39709\tvalidation_1-mlogloss:0.41013\n",
      "[680]\tvalidation_0-mlogloss:0.39703\tvalidation_1-mlogloss:0.41010\n",
      "[682]\tvalidation_0-mlogloss:0.39698\tvalidation_1-mlogloss:0.41010\n",
      "[684]\tvalidation_0-mlogloss:0.39694\tvalidation_1-mlogloss:0.41010\n",
      "[686]\tvalidation_0-mlogloss:0.39690\tvalidation_1-mlogloss:0.41008\n",
      "[688]\tvalidation_0-mlogloss:0.39686\tvalidation_1-mlogloss:0.41008\n",
      "[690]\tvalidation_0-mlogloss:0.39681\tvalidation_1-mlogloss:0.41007\n",
      "[692]\tvalidation_0-mlogloss:0.39676\tvalidation_1-mlogloss:0.41005\n",
      "[694]\tvalidation_0-mlogloss:0.39672\tvalidation_1-mlogloss:0.41004\n",
      "[696]\tvalidation_0-mlogloss:0.39669\tvalidation_1-mlogloss:0.41004\n",
      "[698]\tvalidation_0-mlogloss:0.39665\tvalidation_1-mlogloss:0.41002\n",
      "[700]\tvalidation_0-mlogloss:0.39660\tvalidation_1-mlogloss:0.41002\n",
      "[702]\tvalidation_0-mlogloss:0.39655\tvalidation_1-mlogloss:0.41001\n",
      "[704]\tvalidation_0-mlogloss:0.39652\tvalidation_1-mlogloss:0.41000\n",
      "[706]\tvalidation_0-mlogloss:0.39647\tvalidation_1-mlogloss:0.40998\n",
      "[708]\tvalidation_0-mlogloss:0.39642\tvalidation_1-mlogloss:0.40997\n",
      "[710]\tvalidation_0-mlogloss:0.39637\tvalidation_1-mlogloss:0.40996\n",
      "[712]\tvalidation_0-mlogloss:0.39630\tvalidation_1-mlogloss:0.40994\n",
      "[714]\tvalidation_0-mlogloss:0.39627\tvalidation_1-mlogloss:0.40993\n",
      "[716]\tvalidation_0-mlogloss:0.39622\tvalidation_1-mlogloss:0.40991\n",
      "[718]\tvalidation_0-mlogloss:0.39618\tvalidation_1-mlogloss:0.40991\n",
      "[720]\tvalidation_0-mlogloss:0.39614\tvalidation_1-mlogloss:0.40990\n",
      "[722]\tvalidation_0-mlogloss:0.39608\tvalidation_1-mlogloss:0.40990\n",
      "[724]\tvalidation_0-mlogloss:0.39604\tvalidation_1-mlogloss:0.40988\n",
      "[726]\tvalidation_0-mlogloss:0.39600\tvalidation_1-mlogloss:0.40988\n",
      "[728]\tvalidation_0-mlogloss:0.39595\tvalidation_1-mlogloss:0.40986\n",
      "[730]\tvalidation_0-mlogloss:0.39589\tvalidation_1-mlogloss:0.40985\n",
      "[732]\tvalidation_0-mlogloss:0.39586\tvalidation_1-mlogloss:0.40983\n",
      "[734]\tvalidation_0-mlogloss:0.39580\tvalidation_1-mlogloss:0.40982\n",
      "[736]\tvalidation_0-mlogloss:0.39577\tvalidation_1-mlogloss:0.40982\n",
      "[738]\tvalidation_0-mlogloss:0.39572\tvalidation_1-mlogloss:0.40982\n",
      "[740]\tvalidation_0-mlogloss:0.39569\tvalidation_1-mlogloss:0.40981\n",
      "[742]\tvalidation_0-mlogloss:0.39565\tvalidation_1-mlogloss:0.40980\n",
      "[744]\tvalidation_0-mlogloss:0.39561\tvalidation_1-mlogloss:0.40978\n",
      "[746]\tvalidation_0-mlogloss:0.39558\tvalidation_1-mlogloss:0.40978\n",
      "[748]\tvalidation_0-mlogloss:0.39553\tvalidation_1-mlogloss:0.40976\n",
      "[750]\tvalidation_0-mlogloss:0.39548\tvalidation_1-mlogloss:0.40974\n",
      "[752]\tvalidation_0-mlogloss:0.39544\tvalidation_1-mlogloss:0.40973\n",
      "[754]\tvalidation_0-mlogloss:0.39541\tvalidation_1-mlogloss:0.40973\n",
      "[756]\tvalidation_0-mlogloss:0.39537\tvalidation_1-mlogloss:0.40973\n",
      "[758]\tvalidation_0-mlogloss:0.39532\tvalidation_1-mlogloss:0.40972\n",
      "[760]\tvalidation_0-mlogloss:0.39528\tvalidation_1-mlogloss:0.40971\n",
      "[762]\tvalidation_0-mlogloss:0.39524\tvalidation_1-mlogloss:0.40969\n",
      "[764]\tvalidation_0-mlogloss:0.39520\tvalidation_1-mlogloss:0.40967\n",
      "[766]\tvalidation_0-mlogloss:0.39515\tvalidation_1-mlogloss:0.40967\n",
      "[768]\tvalidation_0-mlogloss:0.39510\tvalidation_1-mlogloss:0.40968\n",
      "[770]\tvalidation_0-mlogloss:0.39506\tvalidation_1-mlogloss:0.40967\n",
      "[772]\tvalidation_0-mlogloss:0.39502\tvalidation_1-mlogloss:0.40965\n",
      "[774]\tvalidation_0-mlogloss:0.39499\tvalidation_1-mlogloss:0.40964\n",
      "[776]\tvalidation_0-mlogloss:0.39494\tvalidation_1-mlogloss:0.40962\n",
      "[778]\tvalidation_0-mlogloss:0.39488\tvalidation_1-mlogloss:0.40961\n",
      "[780]\tvalidation_0-mlogloss:0.39483\tvalidation_1-mlogloss:0.40960\n",
      "[782]\tvalidation_0-mlogloss:0.39479\tvalidation_1-mlogloss:0.40959\n",
      "[784]\tvalidation_0-mlogloss:0.39474\tvalidation_1-mlogloss:0.40960\n",
      "[786]\tvalidation_0-mlogloss:0.39470\tvalidation_1-mlogloss:0.40958\n",
      "[788]\tvalidation_0-mlogloss:0.39464\tvalidation_1-mlogloss:0.40957\n",
      "[790]\tvalidation_0-mlogloss:0.39459\tvalidation_1-mlogloss:0.40956\n",
      "[792]\tvalidation_0-mlogloss:0.39455\tvalidation_1-mlogloss:0.40956\n",
      "[794]\tvalidation_0-mlogloss:0.39451\tvalidation_1-mlogloss:0.40954\n",
      "[796]\tvalidation_0-mlogloss:0.39448\tvalidation_1-mlogloss:0.40954\n",
      "[798]\tvalidation_0-mlogloss:0.39444\tvalidation_1-mlogloss:0.40954\n",
      "[800]\tvalidation_0-mlogloss:0.39441\tvalidation_1-mlogloss:0.40953\n",
      "[802]\tvalidation_0-mlogloss:0.39436\tvalidation_1-mlogloss:0.40953\n",
      "[804]\tvalidation_0-mlogloss:0.39432\tvalidation_1-mlogloss:0.40951\n",
      "[806]\tvalidation_0-mlogloss:0.39427\tvalidation_1-mlogloss:0.40951\n",
      "[808]\tvalidation_0-mlogloss:0.39424\tvalidation_1-mlogloss:0.40950\n",
      "[810]\tvalidation_0-mlogloss:0.39421\tvalidation_1-mlogloss:0.40950\n",
      "[812]\tvalidation_0-mlogloss:0.39416\tvalidation_1-mlogloss:0.40949\n",
      "[814]\tvalidation_0-mlogloss:0.39412\tvalidation_1-mlogloss:0.40948\n",
      "[816]\tvalidation_0-mlogloss:0.39409\tvalidation_1-mlogloss:0.40947\n",
      "[818]\tvalidation_0-mlogloss:0.39404\tvalidation_1-mlogloss:0.40947\n",
      "[820]\tvalidation_0-mlogloss:0.39401\tvalidation_1-mlogloss:0.40947\n",
      "[822]\tvalidation_0-mlogloss:0.39398\tvalidation_1-mlogloss:0.40946\n",
      "[824]\tvalidation_0-mlogloss:0.39395\tvalidation_1-mlogloss:0.40945\n",
      "[826]\tvalidation_0-mlogloss:0.39391\tvalidation_1-mlogloss:0.40945\n",
      "[828]\tvalidation_0-mlogloss:0.39387\tvalidation_1-mlogloss:0.40943\n",
      "[830]\tvalidation_0-mlogloss:0.39382\tvalidation_1-mlogloss:0.40941\n",
      "[832]\tvalidation_0-mlogloss:0.39379\tvalidation_1-mlogloss:0.40941\n",
      "[834]\tvalidation_0-mlogloss:0.39375\tvalidation_1-mlogloss:0.40940\n",
      "[836]\tvalidation_0-mlogloss:0.39370\tvalidation_1-mlogloss:0.40939\n",
      "[838]\tvalidation_0-mlogloss:0.39366\tvalidation_1-mlogloss:0.40939\n",
      "[840]\tvalidation_0-mlogloss:0.39361\tvalidation_1-mlogloss:0.40939\n",
      "[842]\tvalidation_0-mlogloss:0.39358\tvalidation_1-mlogloss:0.40938\n",
      "[844]\tvalidation_0-mlogloss:0.39354\tvalidation_1-mlogloss:0.40938\n",
      "[846]\tvalidation_0-mlogloss:0.39349\tvalidation_1-mlogloss:0.40938\n",
      "[848]\tvalidation_0-mlogloss:0.39344\tvalidation_1-mlogloss:0.40937\n",
      "[850]\tvalidation_0-mlogloss:0.39339\tvalidation_1-mlogloss:0.40936\n",
      "[852]\tvalidation_0-mlogloss:0.39336\tvalidation_1-mlogloss:0.40935\n",
      "[854]\tvalidation_0-mlogloss:0.39332\tvalidation_1-mlogloss:0.40935\n",
      "[856]\tvalidation_0-mlogloss:0.39329\tvalidation_1-mlogloss:0.40934\n",
      "[858]\tvalidation_0-mlogloss:0.39325\tvalidation_1-mlogloss:0.40934\n",
      "[860]\tvalidation_0-mlogloss:0.39321\tvalidation_1-mlogloss:0.40933\n",
      "[862]\tvalidation_0-mlogloss:0.39318\tvalidation_1-mlogloss:0.40933\n",
      "[864]\tvalidation_0-mlogloss:0.39313\tvalidation_1-mlogloss:0.40932\n",
      "[866]\tvalidation_0-mlogloss:0.39309\tvalidation_1-mlogloss:0.40933\n",
      "[868]\tvalidation_0-mlogloss:0.39304\tvalidation_1-mlogloss:0.40933\n",
      "[870]\tvalidation_0-mlogloss:0.39300\tvalidation_1-mlogloss:0.40932\n",
      "[872]\tvalidation_0-mlogloss:0.39296\tvalidation_1-mlogloss:0.40932\n",
      "[874]\tvalidation_0-mlogloss:0.39293\tvalidation_1-mlogloss:0.40932\n",
      "[876]\tvalidation_0-mlogloss:0.39290\tvalidation_1-mlogloss:0.40931\n",
      "[878]\tvalidation_0-mlogloss:0.39286\tvalidation_1-mlogloss:0.40930\n",
      "[880]\tvalidation_0-mlogloss:0.39281\tvalidation_1-mlogloss:0.40931\n",
      "[882]\tvalidation_0-mlogloss:0.39276\tvalidation_1-mlogloss:0.40931\n",
      "[884]\tvalidation_0-mlogloss:0.39273\tvalidation_1-mlogloss:0.40931\n",
      "[886]\tvalidation_0-mlogloss:0.39269\tvalidation_1-mlogloss:0.40931\n",
      "[888]\tvalidation_0-mlogloss:0.39265\tvalidation_1-mlogloss:0.40931\n",
      "[890]\tvalidation_0-mlogloss:0.39261\tvalidation_1-mlogloss:0.40930\n",
      "[892]\tvalidation_0-mlogloss:0.39258\tvalidation_1-mlogloss:0.40930\n",
      "[894]\tvalidation_0-mlogloss:0.39254\tvalidation_1-mlogloss:0.40929\n",
      "[896]\tvalidation_0-mlogloss:0.39250\tvalidation_1-mlogloss:0.40928\n",
      "[898]\tvalidation_0-mlogloss:0.39245\tvalidation_1-mlogloss:0.40926\n",
      "[900]\tvalidation_0-mlogloss:0.39242\tvalidation_1-mlogloss:0.40926\n",
      "[902]\tvalidation_0-mlogloss:0.39237\tvalidation_1-mlogloss:0.40926\n",
      "[904]\tvalidation_0-mlogloss:0.39233\tvalidation_1-mlogloss:0.40926\n",
      "[906]\tvalidation_0-mlogloss:0.39228\tvalidation_1-mlogloss:0.40924\n",
      "[908]\tvalidation_0-mlogloss:0.39224\tvalidation_1-mlogloss:0.40922\n",
      "[910]\tvalidation_0-mlogloss:0.39218\tvalidation_1-mlogloss:0.40923\n",
      "[912]\tvalidation_0-mlogloss:0.39214\tvalidation_1-mlogloss:0.40921\n",
      "[914]\tvalidation_0-mlogloss:0.39210\tvalidation_1-mlogloss:0.40921\n",
      "[916]\tvalidation_0-mlogloss:0.39208\tvalidation_1-mlogloss:0.40921\n",
      "[918]\tvalidation_0-mlogloss:0.39204\tvalidation_1-mlogloss:0.40920\n",
      "[920]\tvalidation_0-mlogloss:0.39201\tvalidation_1-mlogloss:0.40920\n",
      "[922]\tvalidation_0-mlogloss:0.39198\tvalidation_1-mlogloss:0.40919\n",
      "[924]\tvalidation_0-mlogloss:0.39194\tvalidation_1-mlogloss:0.40919\n",
      "[926]\tvalidation_0-mlogloss:0.39189\tvalidation_1-mlogloss:0.40918\n",
      "[928]\tvalidation_0-mlogloss:0.39186\tvalidation_1-mlogloss:0.40917\n",
      "[930]\tvalidation_0-mlogloss:0.39182\tvalidation_1-mlogloss:0.40917\n",
      "[932]\tvalidation_0-mlogloss:0.39178\tvalidation_1-mlogloss:0.40917\n",
      "[934]\tvalidation_0-mlogloss:0.39174\tvalidation_1-mlogloss:0.40916\n",
      "[936]\tvalidation_0-mlogloss:0.39171\tvalidation_1-mlogloss:0.40914\n",
      "[938]\tvalidation_0-mlogloss:0.39168\tvalidation_1-mlogloss:0.40915\n",
      "[940]\tvalidation_0-mlogloss:0.39163\tvalidation_1-mlogloss:0.40913\n",
      "[942]\tvalidation_0-mlogloss:0.39159\tvalidation_1-mlogloss:0.40913\n",
      "[944]\tvalidation_0-mlogloss:0.39155\tvalidation_1-mlogloss:0.40913\n",
      "[946]\tvalidation_0-mlogloss:0.39151\tvalidation_1-mlogloss:0.40913\n",
      "[948]\tvalidation_0-mlogloss:0.39147\tvalidation_1-mlogloss:0.40912\n",
      "[950]\tvalidation_0-mlogloss:0.39142\tvalidation_1-mlogloss:0.40911\n",
      "[952]\tvalidation_0-mlogloss:0.39139\tvalidation_1-mlogloss:0.40910\n",
      "[954]\tvalidation_0-mlogloss:0.39136\tvalidation_1-mlogloss:0.40911\n",
      "[956]\tvalidation_0-mlogloss:0.39133\tvalidation_1-mlogloss:0.40911\n",
      "[958]\tvalidation_0-mlogloss:0.39129\tvalidation_1-mlogloss:0.40911\n",
      "[960]\tvalidation_0-mlogloss:0.39126\tvalidation_1-mlogloss:0.40911\n",
      "[962]\tvalidation_0-mlogloss:0.39121\tvalidation_1-mlogloss:0.40911\n",
      "[964]\tvalidation_0-mlogloss:0.39118\tvalidation_1-mlogloss:0.40911\n",
      "[966]\tvalidation_0-mlogloss:0.39115\tvalidation_1-mlogloss:0.40911\n",
      "[968]\tvalidation_0-mlogloss:0.39111\tvalidation_1-mlogloss:0.40909\n",
      "[970]\tvalidation_0-mlogloss:0.39107\tvalidation_1-mlogloss:0.40909\n",
      "[972]\tvalidation_0-mlogloss:0.39102\tvalidation_1-mlogloss:0.40908\n",
      "[974]\tvalidation_0-mlogloss:0.39099\tvalidation_1-mlogloss:0.40908\n",
      "[976]\tvalidation_0-mlogloss:0.39096\tvalidation_1-mlogloss:0.40908\n",
      "[978]\tvalidation_0-mlogloss:0.39093\tvalidation_1-mlogloss:0.40907\n",
      "[980]\tvalidation_0-mlogloss:0.39090\tvalidation_1-mlogloss:0.40907\n",
      "[982]\tvalidation_0-mlogloss:0.39087\tvalidation_1-mlogloss:0.40907\n",
      "[984]\tvalidation_0-mlogloss:0.39084\tvalidation_1-mlogloss:0.40907\n",
      "[986]\tvalidation_0-mlogloss:0.39081\tvalidation_1-mlogloss:0.40907\n",
      "[988]\tvalidation_0-mlogloss:0.39077\tvalidation_1-mlogloss:0.40907\n",
      "[990]\tvalidation_0-mlogloss:0.39075\tvalidation_1-mlogloss:0.40907\n",
      "[992]\tvalidation_0-mlogloss:0.39071\tvalidation_1-mlogloss:0.40906\n",
      "[994]\tvalidation_0-mlogloss:0.39067\tvalidation_1-mlogloss:0.40905\n",
      "[996]\tvalidation_0-mlogloss:0.39063\tvalidation_1-mlogloss:0.40905\n",
      "[998]\tvalidation_0-mlogloss:0.39058\tvalidation_1-mlogloss:0.40904\n",
      "[999]\tvalidation_0-mlogloss:0.39057\tvalidation_1-mlogloss:0.40904\n"
     ]
    },
    {
     "data": {
      "text/plain": [
       "XGBClassifier(base_score=0.5, booster='gbtree', colsample_bylevel=1,\n",
       "              colsample_bynode=1, colsample_bytree=1, gamma=0, gpu_id=-1,\n",
       "              importance_type='gain', interaction_constraints='',\n",
       "              learning_rate=0.05, max_delta_step=0, max_depth=3,\n",
       "              min_child_weight=1, missing=nan, monotone_constraints='()',\n",
       "              n_estimators=1000, n_jobs=16, num_parallel_tree=1,\n",
       "              objective='multi:softprob', random_state=123451, reg_alpha=0,\n",
       "              reg_lambda=1, scale_pos_weight=None, seed=123451, silent=1,\n",
       "              subsample=0.9, tree_method='exact', validate_parameters=1,\n",
       "              verbosity=None)"
      ]
     },
     "execution_count": 54,
     "metadata": {},
     "output_type": "execute_result"
    }
   ],
   "source": [
    "eval_set = [(X_train, y_train), (X_test, y_test)]\n",
    "xgb_clf_iso.fit(X_train, y_train, sample_weight=w_train*cn_train, \n",
    "                verbose=2, early_stopping_rounds=50, eval_set=eval_set, \n",
    "                eval_metric = \"mlogloss\", sample_weight_eval_set=(w_train*cn_train, w_test*cn_test))\n",
    "# xgb_clf.fit(X_train, y_train, sample_weight=w_train, verbose=2, eval_metric=\"mlogloss\")"
   ]
  },
  {
   "cell_type": "code",
   "execution_count": 42,
   "id": "accurate-chocolate",
   "metadata": {
    "jupyter": {
     "source_hidden": true
    }
   },
   "outputs": [],
   "source": [
    "X = df_2.drop(['y', 'wt', 'w', 'cn'], axis=1).to_numpy()\n",
    "y = df_2.y.astype(int)\n",
    "w = df_2.w\n",
    "X_train, X_test, y_train, y_test, w_train, w_test = train_test_split(X, y, w, test_size=0.3, random_state=1, stratify=df_2.y)"
   ]
  },
  {
   "cell_type": "code",
   "execution_count": 43,
   "id": "immune-pennsylvania",
   "metadata": {
    "collapsed": true,
    "jupyter": {
     "outputs_hidden": true,
     "source_hidden": true
    }
   },
   "outputs": [
    {
     "name": "stderr",
     "output_type": "stream",
     "text": [
      "/home/hep/shc3117/anaconda3/envs/msci/lib/python3.8/site-packages/xgboost/sklearn.py:888: UserWarning: The use of label encoder in XGBClassifier is deprecated and will be removed in a future release. To remove this warning, do the following: 1) Pass option use_label_encoder=False when constructing XGBClassifier object; and 2) Encode your labels (y) as integers starting with 0, i.e. 0, 1, 2, ..., [num_class - 1].\n",
      "  warnings.warn(label_encoder_deprecation_msg, UserWarning)\n"
     ]
    },
    {
     "name": "stdout",
     "output_type": "stream",
     "text": [
      "[08:50:23] WARNING: ../src/learner.cc:541: \n",
      "Parameters: { silent } might not be used.\n",
      "\n",
      "  This may not be accurate due to some parameters are only used in language bindings but\n",
      "  passed down to XGBoost core.  Or some parameters are not used but slip through this\n",
      "  verification. Please open an issue if you find above cases.\n",
      "\n",
      "\n",
      "[0]\tvalidation_0-mlogloss:1.04747\tvalidation_1-mlogloss:1.04743\n",
      "[2]\tvalidation_0-mlogloss:0.95749\tvalidation_1-mlogloss:0.95736\n",
      "[4]\tvalidation_0-mlogloss:0.88089\tvalidation_1-mlogloss:0.88071\n",
      "[6]\tvalidation_0-mlogloss:0.81524\tvalidation_1-mlogloss:0.81503\n",
      "[8]\tvalidation_0-mlogloss:0.75840\tvalidation_1-mlogloss:0.75829\n",
      "[10]\tvalidation_0-mlogloss:0.70887\tvalidation_1-mlogloss:0.70895\n",
      "[12]\tvalidation_0-mlogloss:0.66540\tvalidation_1-mlogloss:0.66565\n",
      "[14]\tvalidation_0-mlogloss:0.62727\tvalidation_1-mlogloss:0.62763\n",
      "[16]\tvalidation_0-mlogloss:0.59374\tvalidation_1-mlogloss:0.59446\n",
      "[18]\tvalidation_0-mlogloss:0.56389\tvalidation_1-mlogloss:0.56473\n",
      "[20]\tvalidation_0-mlogloss:0.53741\tvalidation_1-mlogloss:0.53838\n",
      "[22]\tvalidation_0-mlogloss:0.51380\tvalidation_1-mlogloss:0.51496\n",
      "[24]\tvalidation_0-mlogloss:0.49265\tvalidation_1-mlogloss:0.49407\n",
      "[26]\tvalidation_0-mlogloss:0.47375\tvalidation_1-mlogloss:0.47542\n",
      "[28]\tvalidation_0-mlogloss:0.45687\tvalidation_1-mlogloss:0.45867\n",
      "[30]\tvalidation_0-mlogloss:0.44182\tvalidation_1-mlogloss:0.44378\n",
      "[32]\tvalidation_0-mlogloss:0.42828\tvalidation_1-mlogloss:0.43051\n",
      "[34]\tvalidation_0-mlogloss:0.41612\tvalidation_1-mlogloss:0.41865\n",
      "[36]\tvalidation_0-mlogloss:0.40512\tvalidation_1-mlogloss:0.40794\n",
      "[38]\tvalidation_0-mlogloss:0.39516\tvalidation_1-mlogloss:0.39815\n",
      "[40]\tvalidation_0-mlogloss:0.38610\tvalidation_1-mlogloss:0.38934\n",
      "[42]\tvalidation_0-mlogloss:0.37804\tvalidation_1-mlogloss:0.38151\n",
      "[44]\tvalidation_0-mlogloss:0.37065\tvalidation_1-mlogloss:0.37429\n",
      "[46]\tvalidation_0-mlogloss:0.36374\tvalidation_1-mlogloss:0.36756\n",
      "[48]\tvalidation_0-mlogloss:0.35748\tvalidation_1-mlogloss:0.36145\n",
      "[50]\tvalidation_0-mlogloss:0.35157\tvalidation_1-mlogloss:0.35574\n",
      "[52]\tvalidation_0-mlogloss:0.34625\tvalidation_1-mlogloss:0.35065\n",
      "[54]\tvalidation_0-mlogloss:0.34127\tvalidation_1-mlogloss:0.34585\n",
      "[56]\tvalidation_0-mlogloss:0.33675\tvalidation_1-mlogloss:0.34152\n",
      "[58]\tvalidation_0-mlogloss:0.33251\tvalidation_1-mlogloss:0.33749\n",
      "[60]\tvalidation_0-mlogloss:0.32867\tvalidation_1-mlogloss:0.33378\n",
      "[62]\tvalidation_0-mlogloss:0.32497\tvalidation_1-mlogloss:0.33025\n",
      "[64]\tvalidation_0-mlogloss:0.32160\tvalidation_1-mlogloss:0.32696\n",
      "[66]\tvalidation_0-mlogloss:0.31830\tvalidation_1-mlogloss:0.32383\n",
      "[68]\tvalidation_0-mlogloss:0.31550\tvalidation_1-mlogloss:0.32118\n",
      "[70]\tvalidation_0-mlogloss:0.31268\tvalidation_1-mlogloss:0.31855\n",
      "[72]\tvalidation_0-mlogloss:0.31006\tvalidation_1-mlogloss:0.31603\n",
      "[74]\tvalidation_0-mlogloss:0.30780\tvalidation_1-mlogloss:0.31393\n",
      "[76]\tvalidation_0-mlogloss:0.30567\tvalidation_1-mlogloss:0.31195\n",
      "[78]\tvalidation_0-mlogloss:0.30356\tvalidation_1-mlogloss:0.30994\n",
      "[80]\tvalidation_0-mlogloss:0.30158\tvalidation_1-mlogloss:0.30806\n",
      "[82]\tvalidation_0-mlogloss:0.29989\tvalidation_1-mlogloss:0.30649\n",
      "[84]\tvalidation_0-mlogloss:0.29815\tvalidation_1-mlogloss:0.30484\n",
      "[86]\tvalidation_0-mlogloss:0.29629\tvalidation_1-mlogloss:0.30306\n",
      "[88]\tvalidation_0-mlogloss:0.29454\tvalidation_1-mlogloss:0.30137\n",
      "[90]\tvalidation_0-mlogloss:0.29327\tvalidation_1-mlogloss:0.30021\n",
      "[92]\tvalidation_0-mlogloss:0.29208\tvalidation_1-mlogloss:0.29915\n",
      "[94]\tvalidation_0-mlogloss:0.29085\tvalidation_1-mlogloss:0.29799\n",
      "[96]\tvalidation_0-mlogloss:0.28962\tvalidation_1-mlogloss:0.29685\n",
      "[98]\tvalidation_0-mlogloss:0.28852\tvalidation_1-mlogloss:0.29582\n",
      "[100]\tvalidation_0-mlogloss:0.28743\tvalidation_1-mlogloss:0.29480\n",
      "[102]\tvalidation_0-mlogloss:0.28651\tvalidation_1-mlogloss:0.29395\n",
      "[104]\tvalidation_0-mlogloss:0.28554\tvalidation_1-mlogloss:0.29308\n",
      "[106]\tvalidation_0-mlogloss:0.28474\tvalidation_1-mlogloss:0.29231\n",
      "[108]\tvalidation_0-mlogloss:0.28372\tvalidation_1-mlogloss:0.29137\n",
      "[110]\tvalidation_0-mlogloss:0.28285\tvalidation_1-mlogloss:0.29054\n",
      "[112]\tvalidation_0-mlogloss:0.28212\tvalidation_1-mlogloss:0.28992\n",
      "[114]\tvalidation_0-mlogloss:0.28146\tvalidation_1-mlogloss:0.28930\n",
      "[116]\tvalidation_0-mlogloss:0.28071\tvalidation_1-mlogloss:0.28858\n",
      "[118]\tvalidation_0-mlogloss:0.27997\tvalidation_1-mlogloss:0.28789\n",
      "[120]\tvalidation_0-mlogloss:0.27920\tvalidation_1-mlogloss:0.28723\n",
      "[122]\tvalidation_0-mlogloss:0.27858\tvalidation_1-mlogloss:0.28664\n",
      "[124]\tvalidation_0-mlogloss:0.27806\tvalidation_1-mlogloss:0.28612\n",
      "[126]\tvalidation_0-mlogloss:0.27753\tvalidation_1-mlogloss:0.28567\n",
      "[128]\tvalidation_0-mlogloss:0.27708\tvalidation_1-mlogloss:0.28525\n",
      "[130]\tvalidation_0-mlogloss:0.27641\tvalidation_1-mlogloss:0.28466\n",
      "[132]\tvalidation_0-mlogloss:0.27583\tvalidation_1-mlogloss:0.28413\n",
      "[134]\tvalidation_0-mlogloss:0.27528\tvalidation_1-mlogloss:0.28366\n",
      "[136]\tvalidation_0-mlogloss:0.27478\tvalidation_1-mlogloss:0.28322\n",
      "[138]\tvalidation_0-mlogloss:0.27435\tvalidation_1-mlogloss:0.28284\n",
      "[140]\tvalidation_0-mlogloss:0.27391\tvalidation_1-mlogloss:0.28241\n",
      "[142]\tvalidation_0-mlogloss:0.27344\tvalidation_1-mlogloss:0.28199\n",
      "[144]\tvalidation_0-mlogloss:0.27296\tvalidation_1-mlogloss:0.28157\n",
      "[146]\tvalidation_0-mlogloss:0.27256\tvalidation_1-mlogloss:0.28126\n",
      "[148]\tvalidation_0-mlogloss:0.27224\tvalidation_1-mlogloss:0.28098\n",
      "[150]\tvalidation_0-mlogloss:0.27191\tvalidation_1-mlogloss:0.28071\n",
      "[152]\tvalidation_0-mlogloss:0.27160\tvalidation_1-mlogloss:0.28046\n",
      "[154]\tvalidation_0-mlogloss:0.27124\tvalidation_1-mlogloss:0.28019\n",
      "[156]\tvalidation_0-mlogloss:0.27085\tvalidation_1-mlogloss:0.27985\n",
      "[158]\tvalidation_0-mlogloss:0.27055\tvalidation_1-mlogloss:0.27963\n",
      "[160]\tvalidation_0-mlogloss:0.27025\tvalidation_1-mlogloss:0.27940\n",
      "[162]\tvalidation_0-mlogloss:0.26994\tvalidation_1-mlogloss:0.27915\n",
      "[164]\tvalidation_0-mlogloss:0.26963\tvalidation_1-mlogloss:0.27890\n",
      "[166]\tvalidation_0-mlogloss:0.26936\tvalidation_1-mlogloss:0.27871\n",
      "[168]\tvalidation_0-mlogloss:0.26908\tvalidation_1-mlogloss:0.27850\n",
      "[170]\tvalidation_0-mlogloss:0.26884\tvalidation_1-mlogloss:0.27833\n",
      "[172]\tvalidation_0-mlogloss:0.26851\tvalidation_1-mlogloss:0.27805\n",
      "[174]\tvalidation_0-mlogloss:0.26818\tvalidation_1-mlogloss:0.27775\n",
      "[176]\tvalidation_0-mlogloss:0.26787\tvalidation_1-mlogloss:0.27751\n",
      "[178]\tvalidation_0-mlogloss:0.26762\tvalidation_1-mlogloss:0.27733\n",
      "[180]\tvalidation_0-mlogloss:0.26736\tvalidation_1-mlogloss:0.27713\n",
      "[182]\tvalidation_0-mlogloss:0.26712\tvalidation_1-mlogloss:0.27697\n",
      "[184]\tvalidation_0-mlogloss:0.26689\tvalidation_1-mlogloss:0.27678\n",
      "[186]\tvalidation_0-mlogloss:0.26669\tvalidation_1-mlogloss:0.27664\n",
      "[188]\tvalidation_0-mlogloss:0.26645\tvalidation_1-mlogloss:0.27649\n",
      "[190]\tvalidation_0-mlogloss:0.26623\tvalidation_1-mlogloss:0.27630\n",
      "[192]\tvalidation_0-mlogloss:0.26599\tvalidation_1-mlogloss:0.27614\n",
      "[194]\tvalidation_0-mlogloss:0.26578\tvalidation_1-mlogloss:0.27598\n",
      "[196]\tvalidation_0-mlogloss:0.26558\tvalidation_1-mlogloss:0.27586\n",
      "[198]\tvalidation_0-mlogloss:0.26541\tvalidation_1-mlogloss:0.27574\n",
      "[200]\tvalidation_0-mlogloss:0.26522\tvalidation_1-mlogloss:0.27561\n",
      "[202]\tvalidation_0-mlogloss:0.26498\tvalidation_1-mlogloss:0.27543\n",
      "[204]\tvalidation_0-mlogloss:0.26478\tvalidation_1-mlogloss:0.27528\n",
      "[206]\tvalidation_0-mlogloss:0.26461\tvalidation_1-mlogloss:0.27518\n",
      "[208]\tvalidation_0-mlogloss:0.26444\tvalidation_1-mlogloss:0.27509\n",
      "[210]\tvalidation_0-mlogloss:0.26426\tvalidation_1-mlogloss:0.27497\n",
      "[212]\tvalidation_0-mlogloss:0.26409\tvalidation_1-mlogloss:0.27484\n",
      "[214]\tvalidation_0-mlogloss:0.26389\tvalidation_1-mlogloss:0.27471\n",
      "[216]\tvalidation_0-mlogloss:0.26372\tvalidation_1-mlogloss:0.27458\n",
      "[218]\tvalidation_0-mlogloss:0.26355\tvalidation_1-mlogloss:0.27452\n",
      "[220]\tvalidation_0-mlogloss:0.26340\tvalidation_1-mlogloss:0.27441\n",
      "[222]\tvalidation_0-mlogloss:0.26324\tvalidation_1-mlogloss:0.27430\n",
      "[224]\tvalidation_0-mlogloss:0.26304\tvalidation_1-mlogloss:0.27416\n",
      "[226]\tvalidation_0-mlogloss:0.26287\tvalidation_1-mlogloss:0.27403\n",
      "[228]\tvalidation_0-mlogloss:0.26271\tvalidation_1-mlogloss:0.27391\n",
      "[230]\tvalidation_0-mlogloss:0.26253\tvalidation_1-mlogloss:0.27379\n",
      "[232]\tvalidation_0-mlogloss:0.26236\tvalidation_1-mlogloss:0.27368\n",
      "[234]\tvalidation_0-mlogloss:0.26224\tvalidation_1-mlogloss:0.27359\n",
      "[236]\tvalidation_0-mlogloss:0.26207\tvalidation_1-mlogloss:0.27346\n",
      "[238]\tvalidation_0-mlogloss:0.26190\tvalidation_1-mlogloss:0.27336\n",
      "[240]\tvalidation_0-mlogloss:0.26175\tvalidation_1-mlogloss:0.27328\n",
      "[242]\tvalidation_0-mlogloss:0.26159\tvalidation_1-mlogloss:0.27316\n",
      "[244]\tvalidation_0-mlogloss:0.26144\tvalidation_1-mlogloss:0.27309\n",
      "[246]\tvalidation_0-mlogloss:0.26131\tvalidation_1-mlogloss:0.27297\n",
      "[248]\tvalidation_0-mlogloss:0.26117\tvalidation_1-mlogloss:0.27289\n",
      "[250]\tvalidation_0-mlogloss:0.26102\tvalidation_1-mlogloss:0.27280\n",
      "[252]\tvalidation_0-mlogloss:0.26087\tvalidation_1-mlogloss:0.27274\n",
      "[254]\tvalidation_0-mlogloss:0.26073\tvalidation_1-mlogloss:0.27263\n",
      "[256]\tvalidation_0-mlogloss:0.26060\tvalidation_1-mlogloss:0.27255\n",
      "[258]\tvalidation_0-mlogloss:0.26047\tvalidation_1-mlogloss:0.27248\n",
      "[260]\tvalidation_0-mlogloss:0.26033\tvalidation_1-mlogloss:0.27239\n",
      "[262]\tvalidation_0-mlogloss:0.26018\tvalidation_1-mlogloss:0.27228\n",
      "[264]\tvalidation_0-mlogloss:0.26008\tvalidation_1-mlogloss:0.27223\n",
      "[266]\tvalidation_0-mlogloss:0.25995\tvalidation_1-mlogloss:0.27217\n",
      "[268]\tvalidation_0-mlogloss:0.25985\tvalidation_1-mlogloss:0.27211\n",
      "[270]\tvalidation_0-mlogloss:0.25975\tvalidation_1-mlogloss:0.27208\n",
      "[272]\tvalidation_0-mlogloss:0.25964\tvalidation_1-mlogloss:0.27200\n",
      "[274]\tvalidation_0-mlogloss:0.25954\tvalidation_1-mlogloss:0.27196\n",
      "[276]\tvalidation_0-mlogloss:0.25944\tvalidation_1-mlogloss:0.27189\n",
      "[278]\tvalidation_0-mlogloss:0.25931\tvalidation_1-mlogloss:0.27180\n",
      "[280]\tvalidation_0-mlogloss:0.25921\tvalidation_1-mlogloss:0.27176\n",
      "[282]\tvalidation_0-mlogloss:0.25910\tvalidation_1-mlogloss:0.27172\n",
      "[284]\tvalidation_0-mlogloss:0.25901\tvalidation_1-mlogloss:0.27170\n",
      "[286]\tvalidation_0-mlogloss:0.25891\tvalidation_1-mlogloss:0.27167\n",
      "[288]\tvalidation_0-mlogloss:0.25880\tvalidation_1-mlogloss:0.27162\n",
      "[290]\tvalidation_0-mlogloss:0.25865\tvalidation_1-mlogloss:0.27153\n",
      "[292]\tvalidation_0-mlogloss:0.25852\tvalidation_1-mlogloss:0.27145\n",
      "[294]\tvalidation_0-mlogloss:0.25842\tvalidation_1-mlogloss:0.27142\n",
      "[296]\tvalidation_0-mlogloss:0.25830\tvalidation_1-mlogloss:0.27136\n",
      "[298]\tvalidation_0-mlogloss:0.25817\tvalidation_1-mlogloss:0.27131\n",
      "[300]\tvalidation_0-mlogloss:0.25808\tvalidation_1-mlogloss:0.27128\n",
      "[302]\tvalidation_0-mlogloss:0.25800\tvalidation_1-mlogloss:0.27124\n",
      "[304]\tvalidation_0-mlogloss:0.25790\tvalidation_1-mlogloss:0.27121\n",
      "[306]\tvalidation_0-mlogloss:0.25780\tvalidation_1-mlogloss:0.27117\n",
      "[308]\tvalidation_0-mlogloss:0.25770\tvalidation_1-mlogloss:0.27112\n",
      "[310]\tvalidation_0-mlogloss:0.25761\tvalidation_1-mlogloss:0.27107\n",
      "[312]\tvalidation_0-mlogloss:0.25753\tvalidation_1-mlogloss:0.27103\n",
      "[314]\tvalidation_0-mlogloss:0.25745\tvalidation_1-mlogloss:0.27100\n",
      "[316]\tvalidation_0-mlogloss:0.25738\tvalidation_1-mlogloss:0.27096\n",
      "[318]\tvalidation_0-mlogloss:0.25727\tvalidation_1-mlogloss:0.27092\n",
      "[320]\tvalidation_0-mlogloss:0.25717\tvalidation_1-mlogloss:0.27088\n",
      "[322]\tvalidation_0-mlogloss:0.25707\tvalidation_1-mlogloss:0.27083\n",
      "[324]\tvalidation_0-mlogloss:0.25700\tvalidation_1-mlogloss:0.27080\n",
      "[326]\tvalidation_0-mlogloss:0.25689\tvalidation_1-mlogloss:0.27075\n",
      "[328]\tvalidation_0-mlogloss:0.25680\tvalidation_1-mlogloss:0.27073\n",
      "[330]\tvalidation_0-mlogloss:0.25672\tvalidation_1-mlogloss:0.27068\n",
      "[332]\tvalidation_0-mlogloss:0.25663\tvalidation_1-mlogloss:0.27065\n",
      "[334]\tvalidation_0-mlogloss:0.25656\tvalidation_1-mlogloss:0.27065\n",
      "[336]\tvalidation_0-mlogloss:0.25648\tvalidation_1-mlogloss:0.27062\n",
      "[338]\tvalidation_0-mlogloss:0.25637\tvalidation_1-mlogloss:0.27059\n",
      "[340]\tvalidation_0-mlogloss:0.25629\tvalidation_1-mlogloss:0.27056\n",
      "[342]\tvalidation_0-mlogloss:0.25621\tvalidation_1-mlogloss:0.27053\n",
      "[344]\tvalidation_0-mlogloss:0.25612\tvalidation_1-mlogloss:0.27051\n",
      "[346]\tvalidation_0-mlogloss:0.25603\tvalidation_1-mlogloss:0.27046\n",
      "[348]\tvalidation_0-mlogloss:0.25597\tvalidation_1-mlogloss:0.27044\n",
      "[350]\tvalidation_0-mlogloss:0.25588\tvalidation_1-mlogloss:0.27040\n",
      "[352]\tvalidation_0-mlogloss:0.25581\tvalidation_1-mlogloss:0.27038\n",
      "[354]\tvalidation_0-mlogloss:0.25574\tvalidation_1-mlogloss:0.27035\n",
      "[356]\tvalidation_0-mlogloss:0.25564\tvalidation_1-mlogloss:0.27032\n",
      "[358]\tvalidation_0-mlogloss:0.25554\tvalidation_1-mlogloss:0.27027\n",
      "[360]\tvalidation_0-mlogloss:0.25546\tvalidation_1-mlogloss:0.27023\n",
      "[362]\tvalidation_0-mlogloss:0.25538\tvalidation_1-mlogloss:0.27020\n",
      "[364]\tvalidation_0-mlogloss:0.25531\tvalidation_1-mlogloss:0.27018\n",
      "[366]\tvalidation_0-mlogloss:0.25523\tvalidation_1-mlogloss:0.27016\n",
      "[368]\tvalidation_0-mlogloss:0.25515\tvalidation_1-mlogloss:0.27013\n",
      "[370]\tvalidation_0-mlogloss:0.25508\tvalidation_1-mlogloss:0.27011\n",
      "[372]\tvalidation_0-mlogloss:0.25500\tvalidation_1-mlogloss:0.27008\n",
      "[374]\tvalidation_0-mlogloss:0.25490\tvalidation_1-mlogloss:0.27005\n",
      "[376]\tvalidation_0-mlogloss:0.25483\tvalidation_1-mlogloss:0.27002\n",
      "[378]\tvalidation_0-mlogloss:0.25476\tvalidation_1-mlogloss:0.27000\n",
      "[380]\tvalidation_0-mlogloss:0.25467\tvalidation_1-mlogloss:0.26998\n",
      "[382]\tvalidation_0-mlogloss:0.25457\tvalidation_1-mlogloss:0.26994\n",
      "[384]\tvalidation_0-mlogloss:0.25448\tvalidation_1-mlogloss:0.26993\n",
      "[386]\tvalidation_0-mlogloss:0.25440\tvalidation_1-mlogloss:0.26991\n",
      "[388]\tvalidation_0-mlogloss:0.25433\tvalidation_1-mlogloss:0.26990\n",
      "[390]\tvalidation_0-mlogloss:0.25425\tvalidation_1-mlogloss:0.26986\n",
      "[392]\tvalidation_0-mlogloss:0.25417\tvalidation_1-mlogloss:0.26984\n",
      "[394]\tvalidation_0-mlogloss:0.25410\tvalidation_1-mlogloss:0.26982\n",
      "[396]\tvalidation_0-mlogloss:0.25402\tvalidation_1-mlogloss:0.26980\n",
      "[398]\tvalidation_0-mlogloss:0.25395\tvalidation_1-mlogloss:0.26977\n",
      "[400]\tvalidation_0-mlogloss:0.25388\tvalidation_1-mlogloss:0.26976\n",
      "[402]\tvalidation_0-mlogloss:0.25381\tvalidation_1-mlogloss:0.26975\n",
      "[404]\tvalidation_0-mlogloss:0.25373\tvalidation_1-mlogloss:0.26974\n",
      "[406]\tvalidation_0-mlogloss:0.25365\tvalidation_1-mlogloss:0.26971\n",
      "[408]\tvalidation_0-mlogloss:0.25358\tvalidation_1-mlogloss:0.26968\n",
      "[410]\tvalidation_0-mlogloss:0.25352\tvalidation_1-mlogloss:0.26966\n",
      "[412]\tvalidation_0-mlogloss:0.25344\tvalidation_1-mlogloss:0.26964\n",
      "[414]\tvalidation_0-mlogloss:0.25336\tvalidation_1-mlogloss:0.26962\n",
      "[416]\tvalidation_0-mlogloss:0.25331\tvalidation_1-mlogloss:0.26960\n",
      "[418]\tvalidation_0-mlogloss:0.25324\tvalidation_1-mlogloss:0.26960\n",
      "[420]\tvalidation_0-mlogloss:0.25319\tvalidation_1-mlogloss:0.26958\n",
      "[422]\tvalidation_0-mlogloss:0.25312\tvalidation_1-mlogloss:0.26955\n",
      "[424]\tvalidation_0-mlogloss:0.25303\tvalidation_1-mlogloss:0.26951\n",
      "[426]\tvalidation_0-mlogloss:0.25297\tvalidation_1-mlogloss:0.26950\n",
      "[428]\tvalidation_0-mlogloss:0.25290\tvalidation_1-mlogloss:0.26950\n",
      "[430]\tvalidation_0-mlogloss:0.25284\tvalidation_1-mlogloss:0.26949\n",
      "[432]\tvalidation_0-mlogloss:0.25278\tvalidation_1-mlogloss:0.26950\n",
      "[434]\tvalidation_0-mlogloss:0.25272\tvalidation_1-mlogloss:0.26948\n",
      "[436]\tvalidation_0-mlogloss:0.25266\tvalidation_1-mlogloss:0.26948\n",
      "[438]\tvalidation_0-mlogloss:0.25258\tvalidation_1-mlogloss:0.26946\n",
      "[440]\tvalidation_0-mlogloss:0.25251\tvalidation_1-mlogloss:0.26944\n",
      "[442]\tvalidation_0-mlogloss:0.25243\tvalidation_1-mlogloss:0.26943\n",
      "[444]\tvalidation_0-mlogloss:0.25235\tvalidation_1-mlogloss:0.26939\n",
      "[446]\tvalidation_0-mlogloss:0.25229\tvalidation_1-mlogloss:0.26938\n",
      "[448]\tvalidation_0-mlogloss:0.25224\tvalidation_1-mlogloss:0.26936\n",
      "[450]\tvalidation_0-mlogloss:0.25219\tvalidation_1-mlogloss:0.26933\n",
      "[452]\tvalidation_0-mlogloss:0.25212\tvalidation_1-mlogloss:0.26932\n",
      "[454]\tvalidation_0-mlogloss:0.25205\tvalidation_1-mlogloss:0.26930\n",
      "[456]\tvalidation_0-mlogloss:0.25199\tvalidation_1-mlogloss:0.26929\n",
      "[458]\tvalidation_0-mlogloss:0.25194\tvalidation_1-mlogloss:0.26931\n",
      "[460]\tvalidation_0-mlogloss:0.25184\tvalidation_1-mlogloss:0.26928\n",
      "[462]\tvalidation_0-mlogloss:0.25178\tvalidation_1-mlogloss:0.26928\n",
      "[464]\tvalidation_0-mlogloss:0.25174\tvalidation_1-mlogloss:0.26927\n",
      "[466]\tvalidation_0-mlogloss:0.25168\tvalidation_1-mlogloss:0.26927\n",
      "[468]\tvalidation_0-mlogloss:0.25163\tvalidation_1-mlogloss:0.26925\n",
      "[470]\tvalidation_0-mlogloss:0.25156\tvalidation_1-mlogloss:0.26924\n",
      "[472]\tvalidation_0-mlogloss:0.25151\tvalidation_1-mlogloss:0.26924\n",
      "[474]\tvalidation_0-mlogloss:0.25144\tvalidation_1-mlogloss:0.26921\n",
      "[476]\tvalidation_0-mlogloss:0.25139\tvalidation_1-mlogloss:0.26919\n",
      "[478]\tvalidation_0-mlogloss:0.25133\tvalidation_1-mlogloss:0.26918\n",
      "[480]\tvalidation_0-mlogloss:0.25128\tvalidation_1-mlogloss:0.26918\n",
      "[482]\tvalidation_0-mlogloss:0.25123\tvalidation_1-mlogloss:0.26916\n",
      "[484]\tvalidation_0-mlogloss:0.25118\tvalidation_1-mlogloss:0.26915\n",
      "[486]\tvalidation_0-mlogloss:0.25111\tvalidation_1-mlogloss:0.26914\n",
      "[488]\tvalidation_0-mlogloss:0.25106\tvalidation_1-mlogloss:0.26913\n",
      "[490]\tvalidation_0-mlogloss:0.25099\tvalidation_1-mlogloss:0.26912\n",
      "[492]\tvalidation_0-mlogloss:0.25093\tvalidation_1-mlogloss:0.26913\n",
      "[494]\tvalidation_0-mlogloss:0.25085\tvalidation_1-mlogloss:0.26911\n",
      "[496]\tvalidation_0-mlogloss:0.25079\tvalidation_1-mlogloss:0.26909\n",
      "[498]\tvalidation_0-mlogloss:0.25073\tvalidation_1-mlogloss:0.26907\n",
      "[500]\tvalidation_0-mlogloss:0.25068\tvalidation_1-mlogloss:0.26907\n",
      "[502]\tvalidation_0-mlogloss:0.25061\tvalidation_1-mlogloss:0.26906\n",
      "[504]\tvalidation_0-mlogloss:0.25056\tvalidation_1-mlogloss:0.26904\n",
      "[506]\tvalidation_0-mlogloss:0.25050\tvalidation_1-mlogloss:0.26903\n",
      "[508]\tvalidation_0-mlogloss:0.25044\tvalidation_1-mlogloss:0.26900\n",
      "[510]\tvalidation_0-mlogloss:0.25038\tvalidation_1-mlogloss:0.26898\n",
      "[512]\tvalidation_0-mlogloss:0.25031\tvalidation_1-mlogloss:0.26897\n",
      "[514]\tvalidation_0-mlogloss:0.25027\tvalidation_1-mlogloss:0.26897\n",
      "[516]\tvalidation_0-mlogloss:0.25022\tvalidation_1-mlogloss:0.26895\n",
      "[518]\tvalidation_0-mlogloss:0.25017\tvalidation_1-mlogloss:0.26894\n",
      "[520]\tvalidation_0-mlogloss:0.25011\tvalidation_1-mlogloss:0.26894\n",
      "[522]\tvalidation_0-mlogloss:0.25005\tvalidation_1-mlogloss:0.26894\n",
      "[524]\tvalidation_0-mlogloss:0.25000\tvalidation_1-mlogloss:0.26893\n",
      "[526]\tvalidation_0-mlogloss:0.24993\tvalidation_1-mlogloss:0.26891\n",
      "[528]\tvalidation_0-mlogloss:0.24987\tvalidation_1-mlogloss:0.26889\n",
      "[530]\tvalidation_0-mlogloss:0.24980\tvalidation_1-mlogloss:0.26888\n",
      "[532]\tvalidation_0-mlogloss:0.24974\tvalidation_1-mlogloss:0.26887\n",
      "[534]\tvalidation_0-mlogloss:0.24969\tvalidation_1-mlogloss:0.26884\n",
      "[536]\tvalidation_0-mlogloss:0.24962\tvalidation_1-mlogloss:0.26883\n",
      "[538]\tvalidation_0-mlogloss:0.24957\tvalidation_1-mlogloss:0.26881\n",
      "[540]\tvalidation_0-mlogloss:0.24950\tvalidation_1-mlogloss:0.26881\n",
      "[542]\tvalidation_0-mlogloss:0.24945\tvalidation_1-mlogloss:0.26879\n",
      "[544]\tvalidation_0-mlogloss:0.24939\tvalidation_1-mlogloss:0.26878\n",
      "[546]\tvalidation_0-mlogloss:0.24932\tvalidation_1-mlogloss:0.26878\n",
      "[548]\tvalidation_0-mlogloss:0.24927\tvalidation_1-mlogloss:0.26876\n",
      "[550]\tvalidation_0-mlogloss:0.24920\tvalidation_1-mlogloss:0.26874\n",
      "[552]\tvalidation_0-mlogloss:0.24913\tvalidation_1-mlogloss:0.26872\n",
      "[554]\tvalidation_0-mlogloss:0.24907\tvalidation_1-mlogloss:0.26872\n",
      "[556]\tvalidation_0-mlogloss:0.24902\tvalidation_1-mlogloss:0.26872\n",
      "[558]\tvalidation_0-mlogloss:0.24896\tvalidation_1-mlogloss:0.26872\n",
      "[560]\tvalidation_0-mlogloss:0.24890\tvalidation_1-mlogloss:0.26871\n",
      "[562]\tvalidation_0-mlogloss:0.24884\tvalidation_1-mlogloss:0.26869\n",
      "[564]\tvalidation_0-mlogloss:0.24879\tvalidation_1-mlogloss:0.26868\n",
      "[566]\tvalidation_0-mlogloss:0.24871\tvalidation_1-mlogloss:0.26867\n",
      "[568]\tvalidation_0-mlogloss:0.24865\tvalidation_1-mlogloss:0.26867\n",
      "[570]\tvalidation_0-mlogloss:0.24858\tvalidation_1-mlogloss:0.26866\n",
      "[572]\tvalidation_0-mlogloss:0.24855\tvalidation_1-mlogloss:0.26864\n",
      "[574]\tvalidation_0-mlogloss:0.24848\tvalidation_1-mlogloss:0.26863\n",
      "[576]\tvalidation_0-mlogloss:0.24843\tvalidation_1-mlogloss:0.26863\n",
      "[578]\tvalidation_0-mlogloss:0.24838\tvalidation_1-mlogloss:0.26863\n",
      "[580]\tvalidation_0-mlogloss:0.24832\tvalidation_1-mlogloss:0.26862\n",
      "[582]\tvalidation_0-mlogloss:0.24826\tvalidation_1-mlogloss:0.26862\n",
      "[584]\tvalidation_0-mlogloss:0.24821\tvalidation_1-mlogloss:0.26861\n",
      "[586]\tvalidation_0-mlogloss:0.24816\tvalidation_1-mlogloss:0.26860\n",
      "[588]\tvalidation_0-mlogloss:0.24812\tvalidation_1-mlogloss:0.26860\n",
      "[590]\tvalidation_0-mlogloss:0.24806\tvalidation_1-mlogloss:0.26859\n",
      "[592]\tvalidation_0-mlogloss:0.24801\tvalidation_1-mlogloss:0.26860\n",
      "[594]\tvalidation_0-mlogloss:0.24796\tvalidation_1-mlogloss:0.26861\n",
      "[596]\tvalidation_0-mlogloss:0.24790\tvalidation_1-mlogloss:0.26860\n",
      "[598]\tvalidation_0-mlogloss:0.24784\tvalidation_1-mlogloss:0.26860\n",
      "[600]\tvalidation_0-mlogloss:0.24777\tvalidation_1-mlogloss:0.26860\n",
      "[602]\tvalidation_0-mlogloss:0.24773\tvalidation_1-mlogloss:0.26858\n",
      "[604]\tvalidation_0-mlogloss:0.24768\tvalidation_1-mlogloss:0.26858\n",
      "[606]\tvalidation_0-mlogloss:0.24763\tvalidation_1-mlogloss:0.26858\n",
      "[608]\tvalidation_0-mlogloss:0.24757\tvalidation_1-mlogloss:0.26858\n",
      "[610]\tvalidation_0-mlogloss:0.24750\tvalidation_1-mlogloss:0.26858\n",
      "[612]\tvalidation_0-mlogloss:0.24746\tvalidation_1-mlogloss:0.26858\n",
      "[614]\tvalidation_0-mlogloss:0.24740\tvalidation_1-mlogloss:0.26859\n",
      "[616]\tvalidation_0-mlogloss:0.24737\tvalidation_1-mlogloss:0.26858\n",
      "[618]\tvalidation_0-mlogloss:0.24732\tvalidation_1-mlogloss:0.26857\n",
      "[620]\tvalidation_0-mlogloss:0.24728\tvalidation_1-mlogloss:0.26854\n",
      "[622]\tvalidation_0-mlogloss:0.24724\tvalidation_1-mlogloss:0.26852\n",
      "[624]\tvalidation_0-mlogloss:0.24717\tvalidation_1-mlogloss:0.26849\n",
      "[626]\tvalidation_0-mlogloss:0.24712\tvalidation_1-mlogloss:0.26849\n",
      "[628]\tvalidation_0-mlogloss:0.24708\tvalidation_1-mlogloss:0.26850\n",
      "[630]\tvalidation_0-mlogloss:0.24703\tvalidation_1-mlogloss:0.26848\n",
      "[632]\tvalidation_0-mlogloss:0.24699\tvalidation_1-mlogloss:0.26847\n",
      "[634]\tvalidation_0-mlogloss:0.24695\tvalidation_1-mlogloss:0.26848\n",
      "[636]\tvalidation_0-mlogloss:0.24690\tvalidation_1-mlogloss:0.26847\n",
      "[638]\tvalidation_0-mlogloss:0.24685\tvalidation_1-mlogloss:0.26847\n",
      "[640]\tvalidation_0-mlogloss:0.24679\tvalidation_1-mlogloss:0.26845\n",
      "[642]\tvalidation_0-mlogloss:0.24676\tvalidation_1-mlogloss:0.26845\n",
      "[644]\tvalidation_0-mlogloss:0.24671\tvalidation_1-mlogloss:0.26845\n",
      "[646]\tvalidation_0-mlogloss:0.24666\tvalidation_1-mlogloss:0.26844\n",
      "[648]\tvalidation_0-mlogloss:0.24660\tvalidation_1-mlogloss:0.26844\n",
      "[650]\tvalidation_0-mlogloss:0.24655\tvalidation_1-mlogloss:0.26844\n",
      "[652]\tvalidation_0-mlogloss:0.24649\tvalidation_1-mlogloss:0.26844\n",
      "[654]\tvalidation_0-mlogloss:0.24644\tvalidation_1-mlogloss:0.26843\n",
      "[656]\tvalidation_0-mlogloss:0.24639\tvalidation_1-mlogloss:0.26844\n",
      "[658]\tvalidation_0-mlogloss:0.24635\tvalidation_1-mlogloss:0.26844\n",
      "[660]\tvalidation_0-mlogloss:0.24629\tvalidation_1-mlogloss:0.26844\n",
      "[662]\tvalidation_0-mlogloss:0.24624\tvalidation_1-mlogloss:0.26845\n",
      "[664]\tvalidation_0-mlogloss:0.24620\tvalidation_1-mlogloss:0.26844\n",
      "[666]\tvalidation_0-mlogloss:0.24615\tvalidation_1-mlogloss:0.26844\n",
      "[668]\tvalidation_0-mlogloss:0.24610\tvalidation_1-mlogloss:0.26845\n",
      "[670]\tvalidation_0-mlogloss:0.24605\tvalidation_1-mlogloss:0.26845\n",
      "[672]\tvalidation_0-mlogloss:0.24602\tvalidation_1-mlogloss:0.26845\n",
      "[674]\tvalidation_0-mlogloss:0.24596\tvalidation_1-mlogloss:0.26845\n",
      "[676]\tvalidation_0-mlogloss:0.24592\tvalidation_1-mlogloss:0.26844\n",
      "[678]\tvalidation_0-mlogloss:0.24588\tvalidation_1-mlogloss:0.26844\n",
      "[680]\tvalidation_0-mlogloss:0.24581\tvalidation_1-mlogloss:0.26842\n",
      "[682]\tvalidation_0-mlogloss:0.24577\tvalidation_1-mlogloss:0.26843\n",
      "[684]\tvalidation_0-mlogloss:0.24573\tvalidation_1-mlogloss:0.26842\n",
      "[686]\tvalidation_0-mlogloss:0.24568\tvalidation_1-mlogloss:0.26840\n",
      "[688]\tvalidation_0-mlogloss:0.24564\tvalidation_1-mlogloss:0.26839\n",
      "[690]\tvalidation_0-mlogloss:0.24560\tvalidation_1-mlogloss:0.26839\n",
      "[692]\tvalidation_0-mlogloss:0.24556\tvalidation_1-mlogloss:0.26839\n",
      "[694]\tvalidation_0-mlogloss:0.24551\tvalidation_1-mlogloss:0.26837\n",
      "[696]\tvalidation_0-mlogloss:0.24546\tvalidation_1-mlogloss:0.26838\n",
      "[698]\tvalidation_0-mlogloss:0.24543\tvalidation_1-mlogloss:0.26837\n",
      "[700]\tvalidation_0-mlogloss:0.24538\tvalidation_1-mlogloss:0.26837\n",
      "[702]\tvalidation_0-mlogloss:0.24535\tvalidation_1-mlogloss:0.26837\n",
      "[704]\tvalidation_0-mlogloss:0.24530\tvalidation_1-mlogloss:0.26838\n",
      "[706]\tvalidation_0-mlogloss:0.24526\tvalidation_1-mlogloss:0.26838\n",
      "[708]\tvalidation_0-mlogloss:0.24521\tvalidation_1-mlogloss:0.26837\n",
      "[710]\tvalidation_0-mlogloss:0.24514\tvalidation_1-mlogloss:0.26836\n",
      "[712]\tvalidation_0-mlogloss:0.24505\tvalidation_1-mlogloss:0.26834\n",
      "[714]\tvalidation_0-mlogloss:0.24500\tvalidation_1-mlogloss:0.26834\n",
      "[716]\tvalidation_0-mlogloss:0.24497\tvalidation_1-mlogloss:0.26833\n",
      "[718]\tvalidation_0-mlogloss:0.24492\tvalidation_1-mlogloss:0.26832\n",
      "[720]\tvalidation_0-mlogloss:0.24488\tvalidation_1-mlogloss:0.26832\n",
      "[722]\tvalidation_0-mlogloss:0.24483\tvalidation_1-mlogloss:0.26832\n",
      "[724]\tvalidation_0-mlogloss:0.24477\tvalidation_1-mlogloss:0.26831\n",
      "[726]\tvalidation_0-mlogloss:0.24471\tvalidation_1-mlogloss:0.26830\n",
      "[728]\tvalidation_0-mlogloss:0.24464\tvalidation_1-mlogloss:0.26829\n",
      "[730]\tvalidation_0-mlogloss:0.24460\tvalidation_1-mlogloss:0.26829\n",
      "[732]\tvalidation_0-mlogloss:0.24455\tvalidation_1-mlogloss:0.26830\n",
      "[734]\tvalidation_0-mlogloss:0.24451\tvalidation_1-mlogloss:0.26829\n",
      "[736]\tvalidation_0-mlogloss:0.24447\tvalidation_1-mlogloss:0.26829\n",
      "[738]\tvalidation_0-mlogloss:0.24441\tvalidation_1-mlogloss:0.26828\n",
      "[740]\tvalidation_0-mlogloss:0.24437\tvalidation_1-mlogloss:0.26828\n",
      "[742]\tvalidation_0-mlogloss:0.24432\tvalidation_1-mlogloss:0.26828\n",
      "[744]\tvalidation_0-mlogloss:0.24427\tvalidation_1-mlogloss:0.26827\n",
      "[746]\tvalidation_0-mlogloss:0.24424\tvalidation_1-mlogloss:0.26827\n",
      "[748]\tvalidation_0-mlogloss:0.24420\tvalidation_1-mlogloss:0.26826\n",
      "[750]\tvalidation_0-mlogloss:0.24416\tvalidation_1-mlogloss:0.26826\n",
      "[752]\tvalidation_0-mlogloss:0.24411\tvalidation_1-mlogloss:0.26825\n",
      "[754]\tvalidation_0-mlogloss:0.24405\tvalidation_1-mlogloss:0.26823\n",
      "[756]\tvalidation_0-mlogloss:0.24402\tvalidation_1-mlogloss:0.26823\n",
      "[758]\tvalidation_0-mlogloss:0.24397\tvalidation_1-mlogloss:0.26825\n",
      "[760]\tvalidation_0-mlogloss:0.24392\tvalidation_1-mlogloss:0.26825\n",
      "[762]\tvalidation_0-mlogloss:0.24388\tvalidation_1-mlogloss:0.26823\n",
      "[764]\tvalidation_0-mlogloss:0.24385\tvalidation_1-mlogloss:0.26824\n",
      "[766]\tvalidation_0-mlogloss:0.24380\tvalidation_1-mlogloss:0.26824\n",
      "[768]\tvalidation_0-mlogloss:0.24375\tvalidation_1-mlogloss:0.26824\n",
      "[770]\tvalidation_0-mlogloss:0.24371\tvalidation_1-mlogloss:0.26825\n",
      "[772]\tvalidation_0-mlogloss:0.24365\tvalidation_1-mlogloss:0.26824\n",
      "[774]\tvalidation_0-mlogloss:0.24360\tvalidation_1-mlogloss:0.26822\n",
      "[776]\tvalidation_0-mlogloss:0.24356\tvalidation_1-mlogloss:0.26821\n",
      "[778]\tvalidation_0-mlogloss:0.24351\tvalidation_1-mlogloss:0.26822\n",
      "[780]\tvalidation_0-mlogloss:0.24346\tvalidation_1-mlogloss:0.26822\n",
      "[782]\tvalidation_0-mlogloss:0.24341\tvalidation_1-mlogloss:0.26821\n",
      "[784]\tvalidation_0-mlogloss:0.24335\tvalidation_1-mlogloss:0.26821\n",
      "[786]\tvalidation_0-mlogloss:0.24330\tvalidation_1-mlogloss:0.26821\n",
      "[788]\tvalidation_0-mlogloss:0.24325\tvalidation_1-mlogloss:0.26821\n",
      "[790]\tvalidation_0-mlogloss:0.24320\tvalidation_1-mlogloss:0.26822\n",
      "[792]\tvalidation_0-mlogloss:0.24315\tvalidation_1-mlogloss:0.26821\n",
      "[794]\tvalidation_0-mlogloss:0.24311\tvalidation_1-mlogloss:0.26821\n",
      "[796]\tvalidation_0-mlogloss:0.24306\tvalidation_1-mlogloss:0.26822\n",
      "[798]\tvalidation_0-mlogloss:0.24303\tvalidation_1-mlogloss:0.26822\n",
      "[800]\tvalidation_0-mlogloss:0.24298\tvalidation_1-mlogloss:0.26821\n",
      "[802]\tvalidation_0-mlogloss:0.24292\tvalidation_1-mlogloss:0.26822\n",
      "[804]\tvalidation_0-mlogloss:0.24288\tvalidation_1-mlogloss:0.26823\n",
      "[806]\tvalidation_0-mlogloss:0.24283\tvalidation_1-mlogloss:0.26823\n",
      "[808]\tvalidation_0-mlogloss:0.24280\tvalidation_1-mlogloss:0.26823\n",
      "[810]\tvalidation_0-mlogloss:0.24275\tvalidation_1-mlogloss:0.26824\n",
      "[812]\tvalidation_0-mlogloss:0.24271\tvalidation_1-mlogloss:0.26822\n",
      "[814]\tvalidation_0-mlogloss:0.24266\tvalidation_1-mlogloss:0.26823\n",
      "[816]\tvalidation_0-mlogloss:0.24260\tvalidation_1-mlogloss:0.26822\n",
      "[818]\tvalidation_0-mlogloss:0.24255\tvalidation_1-mlogloss:0.26822\n",
      "[820]\tvalidation_0-mlogloss:0.24251\tvalidation_1-mlogloss:0.26821\n",
      "[822]\tvalidation_0-mlogloss:0.24245\tvalidation_1-mlogloss:0.26822\n",
      "[824]\tvalidation_0-mlogloss:0.24241\tvalidation_1-mlogloss:0.26823\n",
      "[826]\tvalidation_0-mlogloss:0.24236\tvalidation_1-mlogloss:0.26822\n",
      "[828]\tvalidation_0-mlogloss:0.24231\tvalidation_1-mlogloss:0.26823\n",
      "[830]\tvalidation_0-mlogloss:0.24227\tvalidation_1-mlogloss:0.26824\n",
      "[832]\tvalidation_0-mlogloss:0.24222\tvalidation_1-mlogloss:0.26823\n",
      "[833]\tvalidation_0-mlogloss:0.24220\tvalidation_1-mlogloss:0.26822\n"
     ]
    },
    {
     "data": {
      "text/plain": [
       "XGBClassifier(base_score=0.5, booster='gbtree', colsample_bylevel=1,\n",
       "              colsample_bynode=1, colsample_bytree=1, gamma=0, gpu_id=-1,\n",
       "              importance_type='gain', interaction_constraints='',\n",
       "              learning_rate=0.05, max_delta_step=0, max_depth=3,\n",
       "              min_child_weight=1, missing=nan, monotone_constraints='()',\n",
       "              n_estimators=1000, n_jobs=16, num_parallel_tree=1,\n",
       "              objective='multi:softprob', random_state=123451, reg_alpha=0,\n",
       "              reg_lambda=1, scale_pos_weight=None, seed=123451, silent=1,\n",
       "              subsample=0.9, tree_method='exact', validate_parameters=1,\n",
       "              verbosity=None)"
      ]
     },
     "execution_count": 43,
     "metadata": {},
     "output_type": "execute_result"
    }
   ],
   "source": [
    "eval_set = [(X_train, y_train), (X_test, y_test)]\n",
    "xgb_clf_iso.fit(X_train, y_train, sample_weight=w_train, \n",
    "                verbose=2, early_stopping_rounds=50, eval_set=eval_set, \n",
    "                eval_metric = \"mlogloss\", sample_weight_eval_set=(w_train, w_test))"
   ]
  },
  {
   "cell_type": "code",
   "execution_count": 44,
   "id": "seeing-destination",
   "metadata": {},
   "outputs": [],
   "source": [
    "y_pred = xgb_clf_iso.predict_proba(X_test)\n",
    "onehot=label_binarize(y_test,classes=[0,1,2])\n",
    "fpr=dict()\n",
    "tpr=dict()\n",
    "thresh = dict()\n",
    "roc_auc=dict()\n",
    "for i in range(3):\n",
    "    fpr[i], tpr[i], thresh[i] = roc_curve(onehot[:,i], y_pred[:,i],sample_weight=w_test)\n",
    "    roc_auc[i] = auc(fpr[i], tpr[i])"
   ]
  },
  {
   "cell_type": "code",
   "execution_count": 45,
   "id": "split-castle",
   "metadata": {},
   "outputs": [
    {
     "data": {
      "image/png": "[encoded data removed]",
      "text/plain": [
       "<Figure size 576x432 with 1 Axes>"
      ]
     },
     "metadata": {
      "needs_background": "light"
     },
     "output_type": "display_data"
    }
   ],
   "source": [
    "classes = ['higgs', 'ztt', 'fakes']\n",
    "fig, ax = plt.subplots(figsize=(8,6))\n",
    "lims = [np.min([ax.get_xlim(), ax.get_ylim()]), np.max([ax.get_xlim(), ax.get_ylim()])]\n",
    "# ax.set_xlim(lims)\n",
    "# ax.set_ylim(lims)\n",
    "ax.plot(lims, lims, 'k--')\n",
    "ax.grid()\n",
    "for i in range(len(fpr)):\n",
    "    plot_roc_curve(fpr[i],tpr[i],roc_auc[i], i)\n",
    "# plot_roc_curve(fpr[1],tpr[1],roc_auc[1], 1)\n",
    "# plot_roc_curve(fpr[2],tpr[2],roc_auc[2], 2)\n",
    "# plot_roc_curve(fpr[3],tpr[3],roc_auc[3], 3)\n",
    "# plt.savefig('/signal_background/eda/roc_curves.png')"
   ]
  },
  {
   "cell_type": "code",
   "execution_count": 50,
   "id": "retired-squad",
   "metadata": {},
   "outputs": [
    {
     "name": "stderr",
     "output_type": "stream",
     "text": [
      "/home/hep/shc3117/anaconda3/envs/msci/lib/python3.8/site-packages/seaborn/_decorators.py:36: FutureWarning: Pass the following variable as a keyword arg: x. From version 0.12, the only valid positional argument will be `data`, and passing other arguments without an explicit keyword will result in an error or misinterpretation.\n",
      "  warnings.warn(\n"
     ]
    },
    {
     "data": {
      "image/png": "[encoded data removed]",
      "text/plain": [
       "<Figure size 432x288 with 1 Axes>"
      ]
     },
     "metadata": {
      "needs_background": "light"
     },
     "output_type": "display_data"
    }
   ],
   "source": [
    "sns.countplot(y_test)\n",
    "plt.show()"
   ]
  },
  {
   "cell_type": "code",
   "execution_count": 42,
   "id": "color-litigation",
   "metadata": {},
   "outputs": [],
   "source": [
    "write_auc('with_iso', roc_auc)"
   ]
  },
  {
   "cell_type": "code",
   "execution_count": 46,
   "id": "sustained-probability",
   "metadata": {},
   "outputs": [
    {
     "data": {
      "text/html": [
       "<div>\n",
       "<style scoped>\n",
       "    .dataframe tbody tr th:only-of-type {\n",
       "        vertical-align: middle;\n",
       "    }\n",
       "\n",
       "    .dataframe tbody tr th {\n",
       "        vertical-align: top;\n",
       "    }\n",
       "\n",
       "    .dataframe thead th {\n",
       "        text-align: right;\n",
       "    }\n",
       "</style>\n",
       "<table border=\"1\" class=\"dataframe\">\n",
       "  <thead>\n",
       "    <tr style=\"text-align: right;\">\n",
       "      <th></th>\n",
       "      <th>precision</th>\n",
       "      <th>recall</th>\n",
       "      <th>f1-score</th>\n",
       "      <th>support</th>\n",
       "    </tr>\n",
       "  </thead>\n",
       "  <tbody>\n",
       "    <tr>\n",
       "      <th>higgs</th>\n",
       "      <td>0.507753</td>\n",
       "      <td>0.051736</td>\n",
       "      <td>0.093905</td>\n",
       "      <td>279.545650</td>\n",
       "    </tr>\n",
       "    <tr>\n",
       "      <th>ztt</th>\n",
       "      <td>0.824165</td>\n",
       "      <td>0.681000</td>\n",
       "      <td>0.745774</td>\n",
       "      <td>11039.960088</td>\n",
       "    </tr>\n",
       "    <tr>\n",
       "      <th>fakes</th>\n",
       "      <td>0.915571</td>\n",
       "      <td>0.964197</td>\n",
       "      <td>0.939255</td>\n",
       "      <td>40836.150000</td>\n",
       "    </tr>\n",
       "    <tr>\n",
       "      <th>accuracy</th>\n",
       "      <td>0.899361</td>\n",
       "      <td>0.899361</td>\n",
       "      <td>0.899361</td>\n",
       "      <td>0.899361</td>\n",
       "    </tr>\n",
       "    <tr>\n",
       "      <th>macro avg</th>\n",
       "      <td>0.749163</td>\n",
       "      <td>0.565644</td>\n",
       "      <td>0.592978</td>\n",
       "      <td>52155.655738</td>\n",
       "    </tr>\n",
       "    <tr>\n",
       "      <th>weighted avg</th>\n",
       "      <td>0.894037</td>\n",
       "      <td>0.899361</td>\n",
       "      <td>0.893769</td>\n",
       "      <td>52155.655738</td>\n",
       "    </tr>\n",
       "  </tbody>\n",
       "</table>\n",
       "</div>"
      ],
      "text/plain": [
       "              precision    recall  f1-score       support\n",
       "higgs          0.507753  0.051736  0.093905    279.545650\n",
       "ztt            0.824165  0.681000  0.745774  11039.960088\n",
       "fakes          0.915571  0.964197  0.939255  40836.150000\n",
       "accuracy       0.899361  0.899361  0.899361      0.899361\n",
       "macro avg      0.749163  0.565644  0.592978  52155.655738\n",
       "weighted avg   0.894037  0.899361  0.893769  52155.655738"
      ]
     },
     "execution_count": 46,
     "metadata": {},
     "output_type": "execute_result"
    }
   ],
   "source": [
    "cr = classification_report(y_test, xgb_clf_iso.predict(X_test), output_dict=True, target_names=classes, sample_weight=w_test)\n",
    "pd.DataFrame(cr).transpose()"
   ]
  },
  {
   "cell_type": "code",
   "execution_count": 51,
   "id": "adapted-magic",
   "metadata": {},
   "outputs": [
    {
     "data": {
      "image/png": "[encoded data removed]",
      "text/plain": [
       "<Figure size 432x288 with 1 Axes>"
      ]
     },
     "metadata": {
      "needs_background": "light"
     },
     "output_type": "display_data"
    }
   ],
   "source": [
    "xgboost.plot_importance(xgb_clf_iso).set_yticklabels(df_2.drop(['y','wt','w','cn'], axis=1).columns)\n",
    "plt.savefig('./signal_background/feature_importance_weight_with_iso.png')\n",
    "plt.show()"
   ]
  },
  {
   "cell_type": "code",
   "execution_count": 52,
   "id": "transparent-amsterdam",
   "metadata": {},
   "outputs": [
    {
     "data": {
      "image/png": "[encoded data removed]",
      "text/plain": [
       "<Figure size 432x288 with 1 Axes>"
      ]
     },
     "metadata": {
      "needs_background": "light"
     },
     "output_type": "display_data"
    }
   ],
   "source": [
    "xgboost.plot_importance(xgb_clf_iso, importance_type='gain').set_yticklabels(df_2.drop(['y','wt','w','cn'], axis=1).columns)\n",
    "plt.savefig('./signal_background/feature_importance_gain_with_iso.png')\n",
    "plt.show()"
   ]
  },
  {
   "cell_type": "code",
   "execution_count": 47,
   "id": "express-scale",
   "metadata": {},
   "outputs": [
    {
     "name": "stdout",
     "output_type": "stream",
     "text": [
      "Normalised purity confusion matrix\n",
      "[[0.50775292 0.0157093  0.00283175]\n",
      " [0.44485153 0.82416512 0.08159705]\n",
      " [0.04739556 0.16012558 0.9155712 ]]\n",
      "Confusion matrix saved as /home/hep/shc3117/MSci-Project-HiggsTauTau/shared/signal_background/purity_with_iso.png\n",
      "Normalised efficiency confusion matrix\n",
      "[[5.17363563e-02 5.12630517e-01 4.35633126e-01]\n",
      " [1.14774057e-03 6.80999874e-01 3.17852385e-01]\n",
      " [3.30589441e-05 3.57697775e-02 9.64197164e-01]]\n",
      "Confusion matrix saved as /home/hep/shc3117/MSci-Project-HiggsTauTau/shared/signal_background/efficiency_with_iso.png\n"
     ]
    },
    {
     "data": {
      "image/png": "[encoded data removed]",
      "text/plain": [
       "<Figure size 432x288 with 2 Axes>"
      ]
     },
     "metadata": {
      "needs_background": "light"
     },
     "output_type": "display_data"
    },
    {
     "data": {
      "image/png": "[encoded data removed]",
      "text/plain": [
       "<Figure size 432x288 with 2 Axes>"
      ]
     },
     "metadata": {
      "needs_background": "light"
     },
     "output_type": "display_data"
    }
   ],
   "source": [
    "predict=xgb_clf_iso.predict(X_test)\n",
    "cm_p=plot_confusion_matrix(y_test, predict, [0,1,2],\n",
    "                    normalise_by_row=True, w_test=w_test, figname=f'{write_path}purity_with_iso.png')\n",
    "cm_e=plot_confusion_matrix(y_test, predict, [0,1,2],\n",
    "                    normalise_by_col=True, w_test=w_test, figname=f'{write_path}efficiency_with_iso.png')"
   ]
  },
  {
   "cell_type": "code",
   "execution_count": 67,
   "id": "cutting-poverty",
   "metadata": {},
   "outputs": [],
   "source": [
    "y_classes=xgb_clf_iso.predict(X_test)"
   ]
  },
  {
   "cell_type": "code",
   "execution_count": 75,
   "id": "civil-portugal",
   "metadata": {},
   "outputs": [],
   "source": [
    "y_pred = xgb_clf_iso.predict_proba(X_test)"
   ]
  },
  {
   "cell_type": "code",
   "execution_count": 85,
   "id": "alleged-swift",
   "metadata": {},
   "outputs": [
    {
     "data": {
      "image/png": "[encoded data removed]",
      "text/plain": [
       "<Figure size 432x288 with 1 Axes>"
      ]
     },
     "metadata": {
      "needs_background": "light"
     },
     "output_type": "display_data"
    },
    {
     "data": {
      "image/png": "[encoded data removed]",
      "text/plain": [
       "<Figure size 432x288 with 1 Axes>"
      ]
     },
     "metadata": {
      "needs_background": "light"
     },
     "output_type": "display_data"
    },
    {
     "data": {
      "image/png": "[encoded data removed]",
      "text/plain": [
       "<Figure size 432x288 with 1 Axes>"
      ]
     },
     "metadata": {
      "needs_background": "light"
     },
     "output_type": "display_data"
    }
   ],
   "source": [
    "labels=['higgs', 'ztt', 'fakes']\n",
    "plt.figure()\n",
    "for i in range(0, 3):\n",
    "    plt.hist(y_pred[:, 0][y_test==i], bins=100, label=labels[i], alpha=0.5, density=True)\n",
    "    plt.title(labels[0]+' score')\n",
    "plt.legend()\n",
    "plt.figure()\n",
    "for i in range(0, 3):\n",
    "    plt.hist(y_pred[:, 1][y_test==i], bins=100, label=labels[i], alpha=0.5, density=True)\n",
    "    plt.title(labels[1]+' score')\n",
    "plt.legend()\n",
    "plt.figure()\n",
    "for i in range(0, 3):\n",
    "    plt.hist(y_pred[:, 2][y_test==i], bins=100, label=labels[i], alpha=0.5, density=True)\n",
    "    plt.title(labels[2]+' score')\n",
    "plt.legend()\n",
    "plt.show()"
   ]
  },
  {
   "cell_type": "code",
   "execution_count": 47,
   "id": "arctic-router",
   "metadata": {},
   "outputs": [],
   "source": [
    "write_cm('with_iso', cm_p, cm_e)"
   ]
  },
  {
   "cell_type": "markdown",
   "id": "naval-sessions",
   "metadata": {},
   "source": [
    "# use smote on with iso config"
   ]
  },
  {
   "cell_type": "code",
   "execution_count": 48,
   "id": "alternate-alabama",
   "metadata": {},
   "outputs": [],
   "source": [
    "from imblearn.over_sampling import SMOTE, ADASYN\n",
    "from imblearn.combine import SMOTEENN, SMOTETomek\n",
    "from collections import Counter"
   ]
  },
  {
   "cell_type": "code",
   "execution_count": 49,
   "id": "brilliant-transport",
   "metadata": {},
   "outputs": [],
   "source": [
    "df_2 = df.drop(selectors, axis=1)"
   ]
  },
  {
   "cell_type": "code",
   "execution_count": 50,
   "id": "nuclear-biography",
   "metadata": {},
   "outputs": [],
   "source": [
    "xgb_params = {\n",
    "    \"objective\": \"multi:softprob\",\n",
    "    \"max_depth\": 3,\n",
    "    \"learning_rate\": 0.05,\n",
    "    \"silent\": 1,\n",
    "    \"n_estimators\": 1000,\n",
    "    \"subsample\": 0.9,\n",
    "    \"seed\": 123451,\n",
    "}\n",
    "\n",
    "xgb_clf_iso_smote = xgboost.XGBClassifier(**xgb_params)\n",
    "# xgb_clf = xgboost.XGBClassifier()"
   ]
  },
  {
   "cell_type": "code",
   "execution_count": 51,
   "id": "thorough-replication",
   "metadata": {},
   "outputs": [
    {
     "data": {
      "text/plain": [
       "Index(['pt_1', 'pt_2', 'm_vis', 'svfit_mass', 'mjj', 'jpt_1', 'pt_tt', 'met',\n",
       "       'n_jets', 'pt_vis', 'iso_1', 'iso_2'],\n",
       "      dtype='object')"
      ]
     },
     "execution_count": 51,
     "metadata": {},
     "output_type": "execute_result"
    }
   ],
   "source": [
    "df_2.drop(['y', 'wt', 'w'], axis=1).columns"
   ]
  },
  {
   "cell_type": "code",
   "execution_count": 52,
   "id": "eligible-delivery",
   "metadata": {},
   "outputs": [],
   "source": [
    "X = df_2.drop(['y', 'wt', 'w'], axis=1).to_numpy()\n",
    "y = df_2.y.astype(int)\n",
    "w = df_2.w\n",
    "X_train, X_test, y_train, y_test, w_train, w_test = train_test_split(X, y, w, test_size=0.3, random_state=1, stratify=df_2.y)"
   ]
  },
  {
   "cell_type": "code",
   "execution_count": 57,
   "id": "noble-asian",
   "metadata": {},
   "outputs": [],
   "source": [
    "smote_enn = SMOTEENN(random_state=0)\n",
    "# X_resampled, y_resampled = SMOTE().fit_resample(X_train, y_train)\n",
    "X_resampled, y_resampled = smote_enn.fit_resample(np.c_[X_train, w_train], y_train)"
   ]
  },
  {
   "cell_type": "code",
   "execution_count": 60,
   "id": "continuing-bulgaria",
   "metadata": {},
   "outputs": [
    {
     "data": {
      "text/plain": [
       "(2457407, 13)"
      ]
     },
     "execution_count": 60,
     "metadata": {},
     "output_type": "execute_result"
    }
   ],
   "source": [
    "X_resampled.shape"
   ]
  },
  {
   "cell_type": "code",
   "execution_count": 61,
   "id": "public-stand",
   "metadata": {},
   "outputs": [
    {
     "data": {
      "text/plain": [
       "(977937, 12)"
      ]
     },
     "execution_count": 61,
     "metadata": {},
     "output_type": "execute_result"
    }
   ],
   "source": [
    "X_resampled[:]"
   ]
  },
  {
   "cell_type": "code",
   "execution_count": null,
   "id": "heard-dimension",
   "metadata": {},
   "outputs": [],
   "source": [
    "X_m = \n",
    "w_m = "
   ]
  },
  {
   "cell_type": "code",
   "execution_count": 84,
   "id": "loaded-logic",
   "metadata": {
    "collapsed": true,
    "jupyter": {
     "outputs_hidden": true
    }
   },
   "outputs": [
    {
     "name": "stderr",
     "output_type": "stream",
     "text": [
      "/home/hep/shc3117/anaconda3/envs/msci/lib/python3.8/site-packages/xgboost/sklearn.py:888: UserWarning: The use of label encoder in XGBClassifier is deprecated and will be removed in a future release. To remove this warning, do the following: 1) Pass option use_label_encoder=False when constructing XGBClassifier object; and 2) Encode your labels (y) as integers starting with 0, i.e. 0, 1, 2, ..., [num_class - 1].\n",
      "  warnings.warn(label_encoder_deprecation_msg, UserWarning)\n"
     ]
    },
    {
     "name": "stdout",
     "output_type": "stream",
     "text": [
      "[07:40:21] WARNING: ../src/learner.cc:541: \n",
      "Parameters: { silent } might not be used.\n",
      "\n",
      "  This may not be accurate due to some parameters are only used in language bindings but\n",
      "  passed down to XGBoost core.  Or some parameters are not used but slip through this\n",
      "  verification. Please open an issue if you find above cases.\n",
      "\n",
      "\n",
      "[0]\tvalidation_0-mlogloss:1.06526\tvalidation_1-mlogloss:1.06547\n",
      "[2]\tvalidation_0-mlogloss:1.00649\tvalidation_1-mlogloss:1.00734\n",
      "[4]\tvalidation_0-mlogloss:0.95643\tvalidation_1-mlogloss:0.95769\n",
      "[6]\tvalidation_0-mlogloss:0.91341\tvalidation_1-mlogloss:0.91518\n",
      "[8]\tvalidation_0-mlogloss:0.87607\tvalidation_1-mlogloss:0.87821\n",
      "[10]\tvalidation_0-mlogloss:0.84383\tvalidation_1-mlogloss:0.84634\n",
      "[12]\tvalidation_0-mlogloss:0.81541\tvalidation_1-mlogloss:0.81831\n",
      "[14]\tvalidation_0-mlogloss:0.79055\tvalidation_1-mlogloss:0.79370\n",
      "[16]\tvalidation_0-mlogloss:0.76881\tvalidation_1-mlogloss:0.77226\n",
      "[18]\tvalidation_0-mlogloss:0.74965\tvalidation_1-mlogloss:0.75338\n",
      "[20]\tvalidation_0-mlogloss:0.73254\tvalidation_1-mlogloss:0.73649\n",
      "[22]\tvalidation_0-mlogloss:0.71725\tvalidation_1-mlogloss:0.72150\n",
      "[24]\tvalidation_0-mlogloss:0.70368\tvalidation_1-mlogloss:0.70814\n",
      "[26]\tvalidation_0-mlogloss:0.69141\tvalidation_1-mlogloss:0.69607\n",
      "[28]\tvalidation_0-mlogloss:0.68059\tvalidation_1-mlogloss:0.68554\n",
      "[30]\tvalidation_0-mlogloss:0.67080\tvalidation_1-mlogloss:0.67588\n",
      "[32]\tvalidation_0-mlogloss:0.66211\tvalidation_1-mlogloss:0.66739\n",
      "[34]\tvalidation_0-mlogloss:0.65439\tvalidation_1-mlogloss:0.65984\n",
      "[36]\tvalidation_0-mlogloss:0.64743\tvalidation_1-mlogloss:0.65302\n",
      "[38]\tvalidation_0-mlogloss:0.64121\tvalidation_1-mlogloss:0.64697\n",
      "[40]\tvalidation_0-mlogloss:0.63564\tvalidation_1-mlogloss:0.64153\n",
      "[42]\tvalidation_0-mlogloss:0.63057\tvalidation_1-mlogloss:0.63662\n",
      "[44]\tvalidation_0-mlogloss:0.62587\tvalidation_1-mlogloss:0.63202\n",
      "[46]\tvalidation_0-mlogloss:0.62158\tvalidation_1-mlogloss:0.62779\n",
      "[48]\tvalidation_0-mlogloss:0.61777\tvalidation_1-mlogloss:0.62404\n",
      "[50]\tvalidation_0-mlogloss:0.61421\tvalidation_1-mlogloss:0.62054\n",
      "[52]\tvalidation_0-mlogloss:0.61084\tvalidation_1-mlogloss:0.61728\n",
      "[54]\tvalidation_0-mlogloss:0.60765\tvalidation_1-mlogloss:0.61415\n",
      "[56]\tvalidation_0-mlogloss:0.60488\tvalidation_1-mlogloss:0.61144\n",
      "[58]\tvalidation_0-mlogloss:0.60201\tvalidation_1-mlogloss:0.60867\n",
      "[60]\tvalidation_0-mlogloss:0.59970\tvalidation_1-mlogloss:0.60642\n",
      "[62]\tvalidation_0-mlogloss:0.59723\tvalidation_1-mlogloss:0.60402\n",
      "[64]\tvalidation_0-mlogloss:0.59499\tvalidation_1-mlogloss:0.60180\n",
      "[66]\tvalidation_0-mlogloss:0.59286\tvalidation_1-mlogloss:0.59974\n",
      "[68]\tvalidation_0-mlogloss:0.59085\tvalidation_1-mlogloss:0.59782\n",
      "[70]\tvalidation_0-mlogloss:0.58886\tvalidation_1-mlogloss:0.59589\n",
      "[72]\tvalidation_0-mlogloss:0.58702\tvalidation_1-mlogloss:0.59410\n",
      "[74]\tvalidation_0-mlogloss:0.58524\tvalidation_1-mlogloss:0.59236\n",
      "[76]\tvalidation_0-mlogloss:0.58351\tvalidation_1-mlogloss:0.59069\n",
      "[78]\tvalidation_0-mlogloss:0.58170\tvalidation_1-mlogloss:0.58892\n",
      "[80]\tvalidation_0-mlogloss:0.58034\tvalidation_1-mlogloss:0.58759\n",
      "[82]\tvalidation_0-mlogloss:0.57869\tvalidation_1-mlogloss:0.58600\n",
      "[84]\tvalidation_0-mlogloss:0.57736\tvalidation_1-mlogloss:0.58474\n",
      "[86]\tvalidation_0-mlogloss:0.57632\tvalidation_1-mlogloss:0.58375\n",
      "[88]\tvalidation_0-mlogloss:0.57503\tvalidation_1-mlogloss:0.58249\n",
      "[90]\tvalidation_0-mlogloss:0.57365\tvalidation_1-mlogloss:0.58114\n",
      "[92]\tvalidation_0-mlogloss:0.57249\tvalidation_1-mlogloss:0.58005\n",
      "[94]\tvalidation_0-mlogloss:0.57163\tvalidation_1-mlogloss:0.57926\n",
      "[96]\tvalidation_0-mlogloss:0.57067\tvalidation_1-mlogloss:0.57834\n",
      "[98]\tvalidation_0-mlogloss:0.56958\tvalidation_1-mlogloss:0.57733\n",
      "[100]\tvalidation_0-mlogloss:0.56857\tvalidation_1-mlogloss:0.57641\n",
      "[102]\tvalidation_0-mlogloss:0.56765\tvalidation_1-mlogloss:0.57556\n",
      "[104]\tvalidation_0-mlogloss:0.56681\tvalidation_1-mlogloss:0.57480\n",
      "[106]\tvalidation_0-mlogloss:0.56588\tvalidation_1-mlogloss:0.57396\n",
      "[108]\tvalidation_0-mlogloss:0.56503\tvalidation_1-mlogloss:0.57319\n",
      "[110]\tvalidation_0-mlogloss:0.56422\tvalidation_1-mlogloss:0.57246\n",
      "[112]\tvalidation_0-mlogloss:0.56353\tvalidation_1-mlogloss:0.57186\n",
      "[114]\tvalidation_0-mlogloss:0.56268\tvalidation_1-mlogloss:0.57106\n",
      "[116]\tvalidation_0-mlogloss:0.56190\tvalidation_1-mlogloss:0.57037\n",
      "[118]\tvalidation_0-mlogloss:0.56133\tvalidation_1-mlogloss:0.56988\n",
      "[120]\tvalidation_0-mlogloss:0.56064\tvalidation_1-mlogloss:0.56926\n",
      "[122]\tvalidation_0-mlogloss:0.55999\tvalidation_1-mlogloss:0.56871\n",
      "[124]\tvalidation_0-mlogloss:0.55946\tvalidation_1-mlogloss:0.56821\n",
      "[126]\tvalidation_0-mlogloss:0.55881\tvalidation_1-mlogloss:0.56766\n",
      "[128]\tvalidation_0-mlogloss:0.55818\tvalidation_1-mlogloss:0.56713\n",
      "[130]\tvalidation_0-mlogloss:0.55763\tvalidation_1-mlogloss:0.56664\n",
      "[132]\tvalidation_0-mlogloss:0.55719\tvalidation_1-mlogloss:0.56626\n",
      "[134]\tvalidation_0-mlogloss:0.55652\tvalidation_1-mlogloss:0.56565\n",
      "[136]\tvalidation_0-mlogloss:0.55609\tvalidation_1-mlogloss:0.56530\n",
      "[138]\tvalidation_0-mlogloss:0.55563\tvalidation_1-mlogloss:0.56490\n",
      "[140]\tvalidation_0-mlogloss:0.55517\tvalidation_1-mlogloss:0.56447\n",
      "[142]\tvalidation_0-mlogloss:0.55470\tvalidation_1-mlogloss:0.56410\n",
      "[144]\tvalidation_0-mlogloss:0.55427\tvalidation_1-mlogloss:0.56371\n",
      "[146]\tvalidation_0-mlogloss:0.55380\tvalidation_1-mlogloss:0.56332\n",
      "[148]\tvalidation_0-mlogloss:0.55336\tvalidation_1-mlogloss:0.56297\n",
      "[150]\tvalidation_0-mlogloss:0.55287\tvalidation_1-mlogloss:0.56253\n",
      "[152]\tvalidation_0-mlogloss:0.55248\tvalidation_1-mlogloss:0.56223\n",
      "[154]\tvalidation_0-mlogloss:0.55201\tvalidation_1-mlogloss:0.56180\n",
      "[156]\tvalidation_0-mlogloss:0.55156\tvalidation_1-mlogloss:0.56144\n",
      "[158]\tvalidation_0-mlogloss:0.55115\tvalidation_1-mlogloss:0.56113\n",
      "[160]\tvalidation_0-mlogloss:0.55082\tvalidation_1-mlogloss:0.56086\n",
      "[162]\tvalidation_0-mlogloss:0.55048\tvalidation_1-mlogloss:0.56059\n",
      "[164]\tvalidation_0-mlogloss:0.55020\tvalidation_1-mlogloss:0.56037\n",
      "[166]\tvalidation_0-mlogloss:0.54987\tvalidation_1-mlogloss:0.56010\n",
      "[168]\tvalidation_0-mlogloss:0.54954\tvalidation_1-mlogloss:0.55981\n",
      "[170]\tvalidation_0-mlogloss:0.54927\tvalidation_1-mlogloss:0.55961\n",
      "[172]\tvalidation_0-mlogloss:0.54894\tvalidation_1-mlogloss:0.55937\n",
      "[174]\tvalidation_0-mlogloss:0.54868\tvalidation_1-mlogloss:0.55920\n",
      "[176]\tvalidation_0-mlogloss:0.54837\tvalidation_1-mlogloss:0.55898\n",
      "[178]\tvalidation_0-mlogloss:0.54814\tvalidation_1-mlogloss:0.55882\n",
      "[180]\tvalidation_0-mlogloss:0.54780\tvalidation_1-mlogloss:0.55856\n",
      "[182]\tvalidation_0-mlogloss:0.54751\tvalidation_1-mlogloss:0.55835\n",
      "[184]\tvalidation_0-mlogloss:0.54723\tvalidation_1-mlogloss:0.55815\n",
      "[186]\tvalidation_0-mlogloss:0.54692\tvalidation_1-mlogloss:0.55792\n",
      "[188]\tvalidation_0-mlogloss:0.54663\tvalidation_1-mlogloss:0.55773\n",
      "[190]\tvalidation_0-mlogloss:0.54637\tvalidation_1-mlogloss:0.55753\n",
      "[192]\tvalidation_0-mlogloss:0.54616\tvalidation_1-mlogloss:0.55740\n",
      "[194]\tvalidation_0-mlogloss:0.54589\tvalidation_1-mlogloss:0.55718\n",
      "[196]\tvalidation_0-mlogloss:0.54564\tvalidation_1-mlogloss:0.55696\n",
      "[198]\tvalidation_0-mlogloss:0.54541\tvalidation_1-mlogloss:0.55680\n",
      "[200]\tvalidation_0-mlogloss:0.54520\tvalidation_1-mlogloss:0.55667\n",
      "[202]\tvalidation_0-mlogloss:0.54496\tvalidation_1-mlogloss:0.55649\n",
      "[204]\tvalidation_0-mlogloss:0.54470\tvalidation_1-mlogloss:0.55630\n",
      "[206]\tvalidation_0-mlogloss:0.54448\tvalidation_1-mlogloss:0.55618\n",
      "[208]\tvalidation_0-mlogloss:0.54422\tvalidation_1-mlogloss:0.55600\n",
      "[210]\tvalidation_0-mlogloss:0.54397\tvalidation_1-mlogloss:0.55586\n",
      "[212]\tvalidation_0-mlogloss:0.54379\tvalidation_1-mlogloss:0.55577\n",
      "[214]\tvalidation_0-mlogloss:0.54354\tvalidation_1-mlogloss:0.55562\n",
      "[216]\tvalidation_0-mlogloss:0.54330\tvalidation_1-mlogloss:0.55546\n",
      "[218]\tvalidation_0-mlogloss:0.54310\tvalidation_1-mlogloss:0.55535\n",
      "[220]\tvalidation_0-mlogloss:0.54292\tvalidation_1-mlogloss:0.55524\n",
      "[222]\tvalidation_0-mlogloss:0.54273\tvalidation_1-mlogloss:0.55511\n",
      "[224]\tvalidation_0-mlogloss:0.54251\tvalidation_1-mlogloss:0.55494\n",
      "[226]\tvalidation_0-mlogloss:0.54235\tvalidation_1-mlogloss:0.55485\n",
      "[228]\tvalidation_0-mlogloss:0.54216\tvalidation_1-mlogloss:0.55473\n",
      "[230]\tvalidation_0-mlogloss:0.54197\tvalidation_1-mlogloss:0.55461\n",
      "[232]\tvalidation_0-mlogloss:0.54180\tvalidation_1-mlogloss:0.55454\n",
      "[234]\tvalidation_0-mlogloss:0.54166\tvalidation_1-mlogloss:0.55449\n",
      "[236]\tvalidation_0-mlogloss:0.54145\tvalidation_1-mlogloss:0.55436\n",
      "[238]\tvalidation_0-mlogloss:0.54125\tvalidation_1-mlogloss:0.55421\n",
      "[240]\tvalidation_0-mlogloss:0.54105\tvalidation_1-mlogloss:0.55407\n",
      "[242]\tvalidation_0-mlogloss:0.54089\tvalidation_1-mlogloss:0.55400\n",
      "[244]\tvalidation_0-mlogloss:0.54073\tvalidation_1-mlogloss:0.55390\n",
      "[246]\tvalidation_0-mlogloss:0.54055\tvalidation_1-mlogloss:0.55380\n",
      "[248]\tvalidation_0-mlogloss:0.54037\tvalidation_1-mlogloss:0.55372\n",
      "[250]\tvalidation_0-mlogloss:0.54022\tvalidation_1-mlogloss:0.55365\n",
      "[252]\tvalidation_0-mlogloss:0.54007\tvalidation_1-mlogloss:0.55354\n",
      "[254]\tvalidation_0-mlogloss:0.53992\tvalidation_1-mlogloss:0.55344\n",
      "[256]\tvalidation_0-mlogloss:0.53977\tvalidation_1-mlogloss:0.55337\n",
      "[258]\tvalidation_0-mlogloss:0.53963\tvalidation_1-mlogloss:0.55333\n",
      "[260]\tvalidation_0-mlogloss:0.53946\tvalidation_1-mlogloss:0.55323\n",
      "[262]\tvalidation_0-mlogloss:0.53935\tvalidation_1-mlogloss:0.55319\n",
      "[264]\tvalidation_0-mlogloss:0.53919\tvalidation_1-mlogloss:0.55313\n",
      "[266]\tvalidation_0-mlogloss:0.53902\tvalidation_1-mlogloss:0.55305\n",
      "[268]\tvalidation_0-mlogloss:0.53890\tvalidation_1-mlogloss:0.55299\n",
      "[270]\tvalidation_0-mlogloss:0.53874\tvalidation_1-mlogloss:0.55293\n",
      "[272]\tvalidation_0-mlogloss:0.53856\tvalidation_1-mlogloss:0.55281\n",
      "[274]\tvalidation_0-mlogloss:0.53842\tvalidation_1-mlogloss:0.55276\n",
      "[276]\tvalidation_0-mlogloss:0.53826\tvalidation_1-mlogloss:0.55269\n",
      "[278]\tvalidation_0-mlogloss:0.53813\tvalidation_1-mlogloss:0.55263\n",
      "[280]\tvalidation_0-mlogloss:0.53800\tvalidation_1-mlogloss:0.55259\n",
      "[282]\tvalidation_0-mlogloss:0.53782\tvalidation_1-mlogloss:0.55249\n",
      "[284]\tvalidation_0-mlogloss:0.53771\tvalidation_1-mlogloss:0.55243\n",
      "[286]\tvalidation_0-mlogloss:0.53756\tvalidation_1-mlogloss:0.55235\n",
      "[288]\tvalidation_0-mlogloss:0.53743\tvalidation_1-mlogloss:0.55231\n",
      "[290]\tvalidation_0-mlogloss:0.53732\tvalidation_1-mlogloss:0.55228\n",
      "[292]\tvalidation_0-mlogloss:0.53722\tvalidation_1-mlogloss:0.55226\n",
      "[294]\tvalidation_0-mlogloss:0.53711\tvalidation_1-mlogloss:0.55220\n",
      "[296]\tvalidation_0-mlogloss:0.53697\tvalidation_1-mlogloss:0.55214\n",
      "[298]\tvalidation_0-mlogloss:0.53680\tvalidation_1-mlogloss:0.55207\n",
      "[300]\tvalidation_0-mlogloss:0.53668\tvalidation_1-mlogloss:0.55200\n",
      "[302]\tvalidation_0-mlogloss:0.53658\tvalidation_1-mlogloss:0.55197\n",
      "[304]\tvalidation_0-mlogloss:0.53645\tvalidation_1-mlogloss:0.55188\n",
      "[306]\tvalidation_0-mlogloss:0.53632\tvalidation_1-mlogloss:0.55182\n",
      "[308]\tvalidation_0-mlogloss:0.53621\tvalidation_1-mlogloss:0.55178\n",
      "[310]\tvalidation_0-mlogloss:0.53607\tvalidation_1-mlogloss:0.55172\n",
      "[312]\tvalidation_0-mlogloss:0.53593\tvalidation_1-mlogloss:0.55166\n",
      "[314]\tvalidation_0-mlogloss:0.53582\tvalidation_1-mlogloss:0.55163\n",
      "[316]\tvalidation_0-mlogloss:0.53572\tvalidation_1-mlogloss:0.55161\n",
      "[318]\tvalidation_0-mlogloss:0.53562\tvalidation_1-mlogloss:0.55158\n",
      "[320]\tvalidation_0-mlogloss:0.53552\tvalidation_1-mlogloss:0.55155\n",
      "[322]\tvalidation_0-mlogloss:0.53540\tvalidation_1-mlogloss:0.55151\n",
      "[324]\tvalidation_0-mlogloss:0.53531\tvalidation_1-mlogloss:0.55146\n",
      "[326]\tvalidation_0-mlogloss:0.53522\tvalidation_1-mlogloss:0.55144\n",
      "[328]\tvalidation_0-mlogloss:0.53509\tvalidation_1-mlogloss:0.55139\n",
      "[330]\tvalidation_0-mlogloss:0.53499\tvalidation_1-mlogloss:0.55136\n",
      "[332]\tvalidation_0-mlogloss:0.53491\tvalidation_1-mlogloss:0.55136\n",
      "[334]\tvalidation_0-mlogloss:0.53480\tvalidation_1-mlogloss:0.55131\n",
      "[336]\tvalidation_0-mlogloss:0.53469\tvalidation_1-mlogloss:0.55130\n",
      "[338]\tvalidation_0-mlogloss:0.53458\tvalidation_1-mlogloss:0.55125\n",
      "[340]\tvalidation_0-mlogloss:0.53450\tvalidation_1-mlogloss:0.55121\n",
      "[342]\tvalidation_0-mlogloss:0.53437\tvalidation_1-mlogloss:0.55114\n",
      "[344]\tvalidation_0-mlogloss:0.53428\tvalidation_1-mlogloss:0.55113\n",
      "[346]\tvalidation_0-mlogloss:0.53419\tvalidation_1-mlogloss:0.55111\n",
      "[348]\tvalidation_0-mlogloss:0.53407\tvalidation_1-mlogloss:0.55106\n",
      "[350]\tvalidation_0-mlogloss:0.53396\tvalidation_1-mlogloss:0.55103\n",
      "[352]\tvalidation_0-mlogloss:0.53386\tvalidation_1-mlogloss:0.55099\n",
      "[354]\tvalidation_0-mlogloss:0.53377\tvalidation_1-mlogloss:0.55097\n",
      "[356]\tvalidation_0-mlogloss:0.53365\tvalidation_1-mlogloss:0.55089\n",
      "[358]\tvalidation_0-mlogloss:0.53356\tvalidation_1-mlogloss:0.55087\n",
      "[360]\tvalidation_0-mlogloss:0.53341\tvalidation_1-mlogloss:0.55080\n",
      "[362]\tvalidation_0-mlogloss:0.53334\tvalidation_1-mlogloss:0.55080\n",
      "[364]\tvalidation_0-mlogloss:0.53325\tvalidation_1-mlogloss:0.55077\n",
      "[366]\tvalidation_0-mlogloss:0.53314\tvalidation_1-mlogloss:0.55075\n",
      "[368]\tvalidation_0-mlogloss:0.53302\tvalidation_1-mlogloss:0.55068\n",
      "[370]\tvalidation_0-mlogloss:0.53295\tvalidation_1-mlogloss:0.55065\n",
      "[372]\tvalidation_0-mlogloss:0.53288\tvalidation_1-mlogloss:0.55065\n",
      "[374]\tvalidation_0-mlogloss:0.53278\tvalidation_1-mlogloss:0.55059\n",
      "[376]\tvalidation_0-mlogloss:0.53270\tvalidation_1-mlogloss:0.55056\n",
      "[378]\tvalidation_0-mlogloss:0.53258\tvalidation_1-mlogloss:0.55053\n",
      "[380]\tvalidation_0-mlogloss:0.53249\tvalidation_1-mlogloss:0.55051\n",
      "[382]\tvalidation_0-mlogloss:0.53238\tvalidation_1-mlogloss:0.55049\n",
      "[384]\tvalidation_0-mlogloss:0.53228\tvalidation_1-mlogloss:0.55047\n",
      "[386]\tvalidation_0-mlogloss:0.53223\tvalidation_1-mlogloss:0.55047\n",
      "[388]\tvalidation_0-mlogloss:0.53214\tvalidation_1-mlogloss:0.55047\n",
      "[390]\tvalidation_0-mlogloss:0.53206\tvalidation_1-mlogloss:0.55043\n",
      "[392]\tvalidation_0-mlogloss:0.53197\tvalidation_1-mlogloss:0.55040\n",
      "[394]\tvalidation_0-mlogloss:0.53189\tvalidation_1-mlogloss:0.55037\n",
      "[396]\tvalidation_0-mlogloss:0.53181\tvalidation_1-mlogloss:0.55038\n",
      "[398]\tvalidation_0-mlogloss:0.53171\tvalidation_1-mlogloss:0.55034\n",
      "[400]\tvalidation_0-mlogloss:0.53162\tvalidation_1-mlogloss:0.55034\n",
      "[402]\tvalidation_0-mlogloss:0.53155\tvalidation_1-mlogloss:0.55034\n",
      "[404]\tvalidation_0-mlogloss:0.53146\tvalidation_1-mlogloss:0.55032\n",
      "[406]\tvalidation_0-mlogloss:0.53137\tvalidation_1-mlogloss:0.55030\n",
      "[408]\tvalidation_0-mlogloss:0.53126\tvalidation_1-mlogloss:0.55026\n",
      "[410]\tvalidation_0-mlogloss:0.53115\tvalidation_1-mlogloss:0.55021\n",
      "[412]\tvalidation_0-mlogloss:0.53109\tvalidation_1-mlogloss:0.55019\n",
      "[414]\tvalidation_0-mlogloss:0.53100\tvalidation_1-mlogloss:0.55019\n",
      "[416]\tvalidation_0-mlogloss:0.53091\tvalidation_1-mlogloss:0.55017\n",
      "[418]\tvalidation_0-mlogloss:0.53082\tvalidation_1-mlogloss:0.55015\n",
      "[420]\tvalidation_0-mlogloss:0.53073\tvalidation_1-mlogloss:0.55013\n",
      "[422]\tvalidation_0-mlogloss:0.53064\tvalidation_1-mlogloss:0.55012\n",
      "[424]\tvalidation_0-mlogloss:0.53056\tvalidation_1-mlogloss:0.55009\n",
      "[426]\tvalidation_0-mlogloss:0.53047\tvalidation_1-mlogloss:0.55007\n",
      "[428]\tvalidation_0-mlogloss:0.53038\tvalidation_1-mlogloss:0.55003\n",
      "[430]\tvalidation_0-mlogloss:0.53028\tvalidation_1-mlogloss:0.55002\n",
      "[432]\tvalidation_0-mlogloss:0.53019\tvalidation_1-mlogloss:0.55000\n",
      "[434]\tvalidation_0-mlogloss:0.53010\tvalidation_1-mlogloss:0.55002\n",
      "[436]\tvalidation_0-mlogloss:0.53002\tvalidation_1-mlogloss:0.55000\n",
      "[438]\tvalidation_0-mlogloss:0.52993\tvalidation_1-mlogloss:0.54997\n",
      "[440]\tvalidation_0-mlogloss:0.52987\tvalidation_1-mlogloss:0.54997\n",
      "[442]\tvalidation_0-mlogloss:0.52979\tvalidation_1-mlogloss:0.54995\n",
      "[444]\tvalidation_0-mlogloss:0.52971\tvalidation_1-mlogloss:0.54993\n",
      "[446]\tvalidation_0-mlogloss:0.52963\tvalidation_1-mlogloss:0.54991\n",
      "[448]\tvalidation_0-mlogloss:0.52954\tvalidation_1-mlogloss:0.54991\n",
      "[450]\tvalidation_0-mlogloss:0.52946\tvalidation_1-mlogloss:0.54990\n",
      "[452]\tvalidation_0-mlogloss:0.52936\tvalidation_1-mlogloss:0.54987\n",
      "[454]\tvalidation_0-mlogloss:0.52932\tvalidation_1-mlogloss:0.54987\n",
      "[456]\tvalidation_0-mlogloss:0.52923\tvalidation_1-mlogloss:0.54983\n",
      "[458]\tvalidation_0-mlogloss:0.52914\tvalidation_1-mlogloss:0.54979\n",
      "[460]\tvalidation_0-mlogloss:0.52907\tvalidation_1-mlogloss:0.54978\n",
      "[462]\tvalidation_0-mlogloss:0.52896\tvalidation_1-mlogloss:0.54973\n",
      "[464]\tvalidation_0-mlogloss:0.52889\tvalidation_1-mlogloss:0.54972\n",
      "[466]\tvalidation_0-mlogloss:0.52880\tvalidation_1-mlogloss:0.54971\n",
      "[468]\tvalidation_0-mlogloss:0.52871\tvalidation_1-mlogloss:0.54968\n",
      "[470]\tvalidation_0-mlogloss:0.52863\tvalidation_1-mlogloss:0.54967\n",
      "[472]\tvalidation_0-mlogloss:0.52854\tvalidation_1-mlogloss:0.54966\n",
      "[474]\tvalidation_0-mlogloss:0.52845\tvalidation_1-mlogloss:0.54966\n",
      "[476]\tvalidation_0-mlogloss:0.52836\tvalidation_1-mlogloss:0.54964\n",
      "[478]\tvalidation_0-mlogloss:0.52830\tvalidation_1-mlogloss:0.54964\n",
      "[480]\tvalidation_0-mlogloss:0.52823\tvalidation_1-mlogloss:0.54965\n",
      "[482]\tvalidation_0-mlogloss:0.52816\tvalidation_1-mlogloss:0.54965\n",
      "[484]\tvalidation_0-mlogloss:0.52807\tvalidation_1-mlogloss:0.54965\n",
      "[486]\tvalidation_0-mlogloss:0.52797\tvalidation_1-mlogloss:0.54963\n",
      "[488]\tvalidation_0-mlogloss:0.52790\tvalidation_1-mlogloss:0.54963\n",
      "[490]\tvalidation_0-mlogloss:0.52782\tvalidation_1-mlogloss:0.54964\n",
      "[492]\tvalidation_0-mlogloss:0.52773\tvalidation_1-mlogloss:0.54963\n",
      "[494]\tvalidation_0-mlogloss:0.52766\tvalidation_1-mlogloss:0.54964\n",
      "[496]\tvalidation_0-mlogloss:0.52758\tvalidation_1-mlogloss:0.54963\n",
      "[498]\tvalidation_0-mlogloss:0.52750\tvalidation_1-mlogloss:0.54961\n",
      "[500]\tvalidation_0-mlogloss:0.52743\tvalidation_1-mlogloss:0.54961\n",
      "[502]\tvalidation_0-mlogloss:0.52738\tvalidation_1-mlogloss:0.54960\n",
      "[504]\tvalidation_0-mlogloss:0.52731\tvalidation_1-mlogloss:0.54962\n",
      "[506]\tvalidation_0-mlogloss:0.52723\tvalidation_1-mlogloss:0.54961\n",
      "[508]\tvalidation_0-mlogloss:0.52716\tvalidation_1-mlogloss:0.54961\n",
      "[510]\tvalidation_0-mlogloss:0.52709\tvalidation_1-mlogloss:0.54960\n",
      "[512]\tvalidation_0-mlogloss:0.52704\tvalidation_1-mlogloss:0.54960\n",
      "[514]\tvalidation_0-mlogloss:0.52697\tvalidation_1-mlogloss:0.54961\n",
      "[516]\tvalidation_0-mlogloss:0.52691\tvalidation_1-mlogloss:0.54963\n",
      "[518]\tvalidation_0-mlogloss:0.52682\tvalidation_1-mlogloss:0.54963\n",
      "[520]\tvalidation_0-mlogloss:0.52675\tvalidation_1-mlogloss:0.54963\n",
      "[522]\tvalidation_0-mlogloss:0.52669\tvalidation_1-mlogloss:0.54963\n",
      "[524]\tvalidation_0-mlogloss:0.52663\tvalidation_1-mlogloss:0.54963\n",
      "[526]\tvalidation_0-mlogloss:0.52655\tvalidation_1-mlogloss:0.54961\n",
      "[528]\tvalidation_0-mlogloss:0.52649\tvalidation_1-mlogloss:0.54961\n",
      "[530]\tvalidation_0-mlogloss:0.52640\tvalidation_1-mlogloss:0.54961\n",
      "[532]\tvalidation_0-mlogloss:0.52633\tvalidation_1-mlogloss:0.54963\n",
      "[534]\tvalidation_0-mlogloss:0.52627\tvalidation_1-mlogloss:0.54963\n",
      "[536]\tvalidation_0-mlogloss:0.52620\tvalidation_1-mlogloss:0.54961\n",
      "[538]\tvalidation_0-mlogloss:0.52612\tvalidation_1-mlogloss:0.54960\n",
      "[540]\tvalidation_0-mlogloss:0.52605\tvalidation_1-mlogloss:0.54963\n",
      "[542]\tvalidation_0-mlogloss:0.52596\tvalidation_1-mlogloss:0.54961\n",
      "[544]\tvalidation_0-mlogloss:0.52590\tvalidation_1-mlogloss:0.54962\n",
      "[546]\tvalidation_0-mlogloss:0.52582\tvalidation_1-mlogloss:0.54961\n",
      "[548]\tvalidation_0-mlogloss:0.52576\tvalidation_1-mlogloss:0.54963\n",
      "[550]\tvalidation_0-mlogloss:0.52569\tvalidation_1-mlogloss:0.54961\n",
      "[552]\tvalidation_0-mlogloss:0.52563\tvalidation_1-mlogloss:0.54962\n",
      "[554]\tvalidation_0-mlogloss:0.52556\tvalidation_1-mlogloss:0.54963\n",
      "[556]\tvalidation_0-mlogloss:0.52551\tvalidation_1-mlogloss:0.54965\n",
      "[558]\tvalidation_0-mlogloss:0.52542\tvalidation_1-mlogloss:0.54961\n",
      "[560]\tvalidation_0-mlogloss:0.52538\tvalidation_1-mlogloss:0.54960\n",
      "[562]\tvalidation_0-mlogloss:0.52529\tvalidation_1-mlogloss:0.54958\n",
      "[564]\tvalidation_0-mlogloss:0.52524\tvalidation_1-mlogloss:0.54958\n",
      "[566]\tvalidation_0-mlogloss:0.52519\tvalidation_1-mlogloss:0.54961\n",
      "[568]\tvalidation_0-mlogloss:0.52512\tvalidation_1-mlogloss:0.54962\n",
      "[570]\tvalidation_0-mlogloss:0.52504\tvalidation_1-mlogloss:0.54961\n",
      "[572]\tvalidation_0-mlogloss:0.52498\tvalidation_1-mlogloss:0.54960\n",
      "[574]\tvalidation_0-mlogloss:0.52490\tvalidation_1-mlogloss:0.54960\n",
      "[576]\tvalidation_0-mlogloss:0.52484\tvalidation_1-mlogloss:0.54960\n",
      "[578]\tvalidation_0-mlogloss:0.52477\tvalidation_1-mlogloss:0.54960\n",
      "[580]\tvalidation_0-mlogloss:0.52469\tvalidation_1-mlogloss:0.54960\n",
      "[582]\tvalidation_0-mlogloss:0.52462\tvalidation_1-mlogloss:0.54959\n",
      "[584]\tvalidation_0-mlogloss:0.52456\tvalidation_1-mlogloss:0.54959\n",
      "[586]\tvalidation_0-mlogloss:0.52452\tvalidation_1-mlogloss:0.54959\n",
      "[588]\tvalidation_0-mlogloss:0.52446\tvalidation_1-mlogloss:0.54960\n",
      "[590]\tvalidation_0-mlogloss:0.52439\tvalidation_1-mlogloss:0.54960\n",
      "[592]\tvalidation_0-mlogloss:0.52433\tvalidation_1-mlogloss:0.54960\n",
      "[594]\tvalidation_0-mlogloss:0.52428\tvalidation_1-mlogloss:0.54960\n",
      "[596]\tvalidation_0-mlogloss:0.52422\tvalidation_1-mlogloss:0.54961\n",
      "[598]\tvalidation_0-mlogloss:0.52416\tvalidation_1-mlogloss:0.54960\n",
      "[600]\tvalidation_0-mlogloss:0.52411\tvalidation_1-mlogloss:0.54961\n",
      "[602]\tvalidation_0-mlogloss:0.52405\tvalidation_1-mlogloss:0.54958\n",
      "[604]\tvalidation_0-mlogloss:0.52401\tvalidation_1-mlogloss:0.54959\n",
      "[606]\tvalidation_0-mlogloss:0.52393\tvalidation_1-mlogloss:0.54959\n",
      "[608]\tvalidation_0-mlogloss:0.52386\tvalidation_1-mlogloss:0.54959\n",
      "[610]\tvalidation_0-mlogloss:0.52380\tvalidation_1-mlogloss:0.54960\n"
     ]
    },
    {
     "data": {
      "text/plain": [
       "XGBClassifier(base_score=0.5, booster='gbtree', colsample_bylevel=1,\n",
       "              colsample_bynode=1, colsample_bytree=1, gamma=0, gpu_id=-1,\n",
       "              importance_type='gain', interaction_constraints='',\n",
       "              learning_rate=0.05, max_delta_step=0, max_depth=3,\n",
       "              min_child_weight=1, missing=nan, monotone_constraints='()',\n",
       "              n_estimators=1000, n_jobs=16, num_parallel_tree=1,\n",
       "              objective='multi:softprob', random_state=123451, reg_alpha=0,\n",
       "              reg_lambda=1, scale_pos_weight=None, seed=123451, silent=1,\n",
       "              subsample=0.9, tree_method='exact', validate_parameters=1,\n",
       "              verbosity=None)"
      ]
     },
     "execution_count": 84,
     "metadata": {},
     "output_type": "execute_result"
    }
   ],
   "source": [
    "eval_set = [(X_train, y_train), (X_test, y_test)]\n",
    "xgb_clf_iso.fit(X_train, y_train, sample_weight=w_train, verbose=2, early_stopping_rounds=50, eval_set=eval_set, eval_metric = \"mlogloss\", sample_weight_eval_set=(w_train, w_test))\n",
    "# xgb_clf.fit(X_train, y_train, sample_weight=w_train, verbose=2, eval_metric=\"mlogloss\")"
   ]
  },
  {
   "cell_type": "code",
   "execution_count": null,
   "id": "ranging-april",
   "metadata": {},
   "outputs": [],
   "source": [
    "eval_set = [(X_resampled, y_resampled), (X_test, y_test)]\n",
    "xgb_clf_c.fit(X_resampled, y_resampled, verbose=2, early_stopping_rounds=50, eval_set=eval_set, eval_metric = \"mlogloss\", sample_weight_eval_set=(w_train, w_test))\n"
   ]
  },
  {
   "cell_type": "markdown",
   "id": "dramatic-alias",
   "metadata": {},
   "source": [
    "# S/sqrt(B) study"
   ]
  },
  {
   "cell_type": "code",
   "execution_count": 86,
   "id": "attended-moore",
   "metadata": {},
   "outputs": [],
   "source": [
    "y_pred = xgb_clf_iso.predict_proba(X_test)"
   ]
  },
  {
   "cell_type": "code",
   "execution_count": 87,
   "id": "ordered-jacksonville",
   "metadata": {},
   "outputs": [],
   "source": [
    "y_classes = xgb_clf_iso.predict(X_test)"
   ]
  },
  {
   "cell_type": "code",
   "execution_count": 88,
   "id": "naval-robinson",
   "metadata": {},
   "outputs": [
    {
     "data": {
      "text/plain": [
       "array([0, 0, 0, ..., 0, 0, 2])"
      ]
     },
     "execution_count": 88,
     "metadata": {},
     "output_type": "execute_result"
    }
   ],
   "source": [
    "y_classes"
   ]
  },
  {
   "cell_type": "code",
   "execution_count": null,
   "id": "unknown-pasta",
   "metadata": {},
   "outputs": [],
   "source": [
    "higgs_events = y_classes==0"
   ]
  },
  {
   "cell_type": "code",
   "execution_count": 90,
   "id": "freelance-semiconductor",
   "metadata": {},
   "outputs": [],
   "source": [
    "higgs_prob = y_pred[higgs_events]"
   ]
  },
  {
   "cell_type": "code",
   "execution_count": null,
   "id": "worse-chancellor",
   "metadata": {},
   "outputs": [],
   "source": []
  },
  {
   "cell_type": "code",
   "execution_count": null,
   "id": "bored-mainstream",
   "metadata": {},
   "outputs": [],
   "source": []
  },
  {
   "cell_type": "code",
   "execution_count": null,
   "id": "remarkable-denmark",
   "metadata": {},
   "outputs": [],
   "source": []
  },
  {
   "cell_type": "code",
   "execution_count": null,
   "id": "under-reggae",
   "metadata": {},
   "outputs": [],
   "source": []
  },
  {
   "cell_type": "code",
   "execution_count": null,
   "id": "formed-airport",
   "metadata": {},
   "outputs": [],
   "source": []
  },
  {
   "cell_type": "code",
   "execution_count": null,
   "id": "hearing-malta",
   "metadata": {},
   "outputs": [],
   "source": []
  },
  {
   "cell_type": "code",
   "execution_count": null,
   "id": "permanent-toner",
   "metadata": {},
   "outputs": [],
   "source": []
  },
  {
   "cell_type": "code",
   "execution_count": null,
   "id": "coral-decimal",
   "metadata": {},
   "outputs": [],
   "source": []
  },
  {
   "cell_type": "code",
   "execution_count": null,
   "id": "naughty-short",
   "metadata": {},
   "outputs": [],
   "source": []
  },
  {
   "cell_type": "code",
   "execution_count": 104,
   "id": "bulgarian-thought",
   "metadata": {},
   "outputs": [],
   "source": [
    "df_1.loc[:, 'y_pred']  = xgb_clf.predict(X)"
   ]
  },
  {
   "cell_type": "code",
   "execution_count": 114,
   "id": "empty-potential",
   "metadata": {},
   "outputs": [
    {
     "data": {
      "text/plain": [
       "Index(['pt_1', 'pt_2', 'm_vis', 'svfit_mass', 'mjj', 'jpt_1', 'pt_tt', 'met',\n",
       "       'n_jets', 'pt_vis', 'w', 'y_pred'],\n",
       "      dtype='object')"
      ]
     },
     "execution_count": 114,
     "metadata": {},
     "output_type": "execute_result"
    }
   ],
   "source": [
    "df_1.drop(['y', 'wt'], axis=1).columns"
   ]
  },
  {
   "cell_type": "code",
   "execution_count": 148,
   "id": "female-horror",
   "metadata": {},
   "outputs": [],
   "source": [
    "df_test = pd.DataFrame(X_test, columns=df_1.drop(['y', 'wt'], axis=1).columns).reset_index(drop=True)"
   ]
  },
  {
   "cell_type": "code",
   "execution_count": 147,
   "id": "wound-branch",
   "metadata": {},
   "outputs": [
    {
     "data": {
      "text/plain": [
       "20166"
      ]
     },
     "execution_count": 147,
     "metadata": {},
     "output_type": "execute_result"
    }
   ],
   "source": [
    "(y_test==2).sum()"
   ]
  },
  {
   "cell_type": "code",
   "execution_count": 149,
   "id": "willing-diamond",
   "metadata": {},
   "outputs": [],
   "source": [
    "df_test['y'] = y_test.to_numpy()\n",
    "df_test['w'] = w_test.to_numpy()"
   ]
  },
  {
   "cell_type": "code",
   "execution_count": 150,
   "id": "lovely-heart",
   "metadata": {},
   "outputs": [],
   "source": [
    "df_test['y_pred'] = xgb_clf.predict(X_test)"
   ]
  },
  {
   "cell_type": "code",
   "execution_count": 151,
   "id": "collaborative-nylon",
   "metadata": {},
   "outputs": [
    {
     "data": {
      "text/html": [
       "<div>\n",
       "<style scoped>\n",
       "    .dataframe tbody tr th:only-of-type {\n",
       "        vertical-align: middle;\n",
       "    }\n",
       "\n",
       "    .dataframe tbody tr th {\n",
       "        vertical-align: top;\n",
       "    }\n",
       "\n",
       "    .dataframe thead th {\n",
       "        text-align: right;\n",
       "    }\n",
       "</style>\n",
       "<table border=\"1\" class=\"dataframe\">\n",
       "  <thead>\n",
       "    <tr style=\"text-align: right;\">\n",
       "      <th></th>\n",
       "      <th>pt_1</th>\n",
       "      <th>pt_2</th>\n",
       "      <th>m_vis</th>\n",
       "      <th>svfit_mass</th>\n",
       "      <th>mjj</th>\n",
       "      <th>jpt_1</th>\n",
       "      <th>pt_tt</th>\n",
       "      <th>met</th>\n",
       "      <th>n_jets</th>\n",
       "      <th>pt_vis</th>\n",
       "      <th>w</th>\n",
       "      <th>y</th>\n",
       "      <th>y_pred</th>\n",
       "    </tr>\n",
       "  </thead>\n",
       "  <tbody>\n",
       "    <tr>\n",
       "      <th>0</th>\n",
       "      <td>92.282034</td>\n",
       "      <td>53.676795</td>\n",
       "      <td>92.767455</td>\n",
       "      <td>115.830387</td>\n",
       "      <td>777.012285</td>\n",
       "      <td>111.839663</td>\n",
       "      <td>138.882213</td>\n",
       "      <td>29.351910</td>\n",
       "      <td>2.0</td>\n",
       "      <td>114.518214</td>\n",
       "      <td>0.000053</td>\n",
       "      <td>0</td>\n",
       "      <td>0</td>\n",
       "    </tr>\n",
       "    <tr>\n",
       "      <th>1</th>\n",
       "      <td>41.703584</td>\n",
       "      <td>40.880400</td>\n",
       "      <td>85.186898</td>\n",
       "      <td>101.254921</td>\n",
       "      <td>507.899335</td>\n",
       "      <td>98.537312</td>\n",
       "      <td>23.169485</td>\n",
       "      <td>24.799908</td>\n",
       "      <td>2.0</td>\n",
       "      <td>2.083170</td>\n",
       "      <td>0.000024</td>\n",
       "      <td>0</td>\n",
       "      <td>0</td>\n",
       "    </tr>\n",
       "    <tr>\n",
       "      <th>2</th>\n",
       "      <td>129.497680</td>\n",
       "      <td>81.550319</td>\n",
       "      <td>92.653429</td>\n",
       "      <td>124.638680</td>\n",
       "      <td>2601.815534</td>\n",
       "      <td>256.477620</td>\n",
       "      <td>283.144277</td>\n",
       "      <td>88.702454</td>\n",
       "      <td>4.0</td>\n",
       "      <td>195.046717</td>\n",
       "      <td>0.000063</td>\n",
       "      <td>0</td>\n",
       "      <td>0</td>\n",
       "    </tr>\n",
       "    <tr>\n",
       "      <th>3</th>\n",
       "      <td>42.768679</td>\n",
       "      <td>40.478256</td>\n",
       "      <td>83.106576</td>\n",
       "      <td>139.588425</td>\n",
       "      <td>970.733272</td>\n",
       "      <td>75.777211</td>\n",
       "      <td>81.928694</td>\n",
       "      <td>77.720337</td>\n",
       "      <td>1.0</td>\n",
       "      <td>6.513472</td>\n",
       "      <td>0.000157</td>\n",
       "      <td>0</td>\n",
       "      <td>0</td>\n",
       "    </tr>\n",
       "    <tr>\n",
       "      <th>4</th>\n",
       "      <td>52.635335</td>\n",
       "      <td>52.384945</td>\n",
       "      <td>101.074869</td>\n",
       "      <td>108.849537</td>\n",
       "      <td>169.383822</td>\n",
       "      <td>41.276124</td>\n",
       "      <td>30.110152</td>\n",
       "      <td>9.723588</td>\n",
       "      <td>3.0</td>\n",
       "      <td>39.826468</td>\n",
       "      <td>0.000056</td>\n",
       "      <td>0</td>\n",
       "      <td>0</td>\n",
       "    </tr>\n",
       "    <tr>\n",
       "      <th>...</th>\n",
       "      <td>...</td>\n",
       "      <td>...</td>\n",
       "      <td>...</td>\n",
       "      <td>...</td>\n",
       "      <td>...</td>\n",
       "      <td>...</td>\n",
       "      <td>...</td>\n",
       "      <td>...</td>\n",
       "      <td>...</td>\n",
       "      <td>...</td>\n",
       "      <td>...</td>\n",
       "      <td>...</td>\n",
       "      <td>...</td>\n",
       "    </tr>\n",
       "    <tr>\n",
       "      <th>198848</th>\n",
       "      <td>86.956464</td>\n",
       "      <td>54.072191</td>\n",
       "      <td>84.667066</td>\n",
       "      <td>98.186611</td>\n",
       "      <td>491.818811</td>\n",
       "      <td>143.600868</td>\n",
       "      <td>144.432830</td>\n",
       "      <td>30.410059</td>\n",
       "      <td>2.0</td>\n",
       "      <td>118.070496</td>\n",
       "      <td>0.000057</td>\n",
       "      <td>0</td>\n",
       "      <td>0</td>\n",
       "    </tr>\n",
       "    <tr>\n",
       "      <th>198849</th>\n",
       "      <td>54.342384</td>\n",
       "      <td>50.044678</td>\n",
       "      <td>106.130171</td>\n",
       "      <td>142.722984</td>\n",
       "      <td>-9999.000000</td>\n",
       "      <td>38.905858</td>\n",
       "      <td>51.391301</td>\n",
       "      <td>56.381241</td>\n",
       "      <td>1.0</td>\n",
       "      <td>5.797828</td>\n",
       "      <td>0.000154</td>\n",
       "      <td>0</td>\n",
       "      <td>0</td>\n",
       "    </tr>\n",
       "    <tr>\n",
       "      <th>198850</th>\n",
       "      <td>332.635573</td>\n",
       "      <td>71.107560</td>\n",
       "      <td>85.773144</td>\n",
       "      <td>124.196709</td>\n",
       "      <td>809.351633</td>\n",
       "      <td>787.601410</td>\n",
       "      <td>691.283480</td>\n",
       "      <td>294.794250</td>\n",
       "      <td>2.0</td>\n",
       "      <td>396.512134</td>\n",
       "      <td>0.000135</td>\n",
       "      <td>0</td>\n",
       "      <td>0</td>\n",
       "    </tr>\n",
       "    <tr>\n",
       "      <th>198851</th>\n",
       "      <td>66.861926</td>\n",
       "      <td>42.956125</td>\n",
       "      <td>105.681926</td>\n",
       "      <td>125.633175</td>\n",
       "      <td>364.414807</td>\n",
       "      <td>94.597766</td>\n",
       "      <td>77.411184</td>\n",
       "      <td>12.334446</td>\n",
       "      <td>3.0</td>\n",
       "      <td>67.925730</td>\n",
       "      <td>0.000063</td>\n",
       "      <td>0</td>\n",
       "      <td>0</td>\n",
       "    </tr>\n",
       "    <tr>\n",
       "      <th>198852</th>\n",
       "      <td>56.716322</td>\n",
       "      <td>47.109285</td>\n",
       "      <td>106.805048</td>\n",
       "      <td>115.006077</td>\n",
       "      <td>-9999.000000</td>\n",
       "      <td>43.248574</td>\n",
       "      <td>35.607090</td>\n",
       "      <td>51.264675</td>\n",
       "      <td>1.0</td>\n",
       "      <td>50.659200</td>\n",
       "      <td>0.000070</td>\n",
       "      <td>0</td>\n",
       "      <td>0</td>\n",
       "    </tr>\n",
       "  </tbody>\n",
       "</table>\n",
       "<p>198853 rows × 13 columns</p>\n",
       "</div>"
      ],
      "text/plain": [
       "              pt_1       pt_2       m_vis  svfit_mass          mjj  \\\n",
       "0        92.282034  53.676795   92.767455  115.830387   777.012285   \n",
       "1        41.703584  40.880400   85.186898  101.254921   507.899335   \n",
       "2       129.497680  81.550319   92.653429  124.638680  2601.815534   \n",
       "3        42.768679  40.478256   83.106576  139.588425   970.733272   \n",
       "4        52.635335  52.384945  101.074869  108.849537   169.383822   \n",
       "...            ...        ...         ...         ...          ...   \n",
       "198848   86.956464  54.072191   84.667066   98.186611   491.818811   \n",
       "198849   54.342384  50.044678  106.130171  142.722984 -9999.000000   \n",
       "198850  332.635573  71.107560   85.773144  124.196709   809.351633   \n",
       "198851   66.861926  42.956125  105.681926  125.633175   364.414807   \n",
       "198852   56.716322  47.109285  106.805048  115.006077 -9999.000000   \n",
       "\n",
       "             jpt_1       pt_tt         met  n_jets      pt_vis         w  y  \\\n",
       "0       111.839663  138.882213   29.351910     2.0  114.518214  0.000053  0   \n",
       "1        98.537312   23.169485   24.799908     2.0    2.083170  0.000024  0   \n",
       "2       256.477620  283.144277   88.702454     4.0  195.046717  0.000063  0   \n",
       "3        75.777211   81.928694   77.720337     1.0    6.513472  0.000157  0   \n",
       "4        41.276124   30.110152    9.723588     3.0   39.826468  0.000056  0   \n",
       "...            ...         ...         ...     ...         ...       ... ..   \n",
       "198848  143.600868  144.432830   30.410059     2.0  118.070496  0.000057  0   \n",
       "198849   38.905858   51.391301   56.381241     1.0    5.797828  0.000154  0   \n",
       "198850  787.601410  691.283480  294.794250     2.0  396.512134  0.000135  0   \n",
       "198851   94.597766   77.411184   12.334446     3.0   67.925730  0.000063  0   \n",
       "198852   43.248574   35.607090   51.264675     1.0   50.659200  0.000070  0   \n",
       "\n",
       "        y_pred  \n",
       "0            0  \n",
       "1            0  \n",
       "2            0  \n",
       "3            0  \n",
       "4            0  \n",
       "...        ...  \n",
       "198848       0  \n",
       "198849       0  \n",
       "198850       0  \n",
       "198851       0  \n",
       "198852       0  \n",
       "\n",
       "[198853 rows x 13 columns]"
      ]
     },
     "execution_count": 151,
     "metadata": {},
     "output_type": "execute_result"
    }
   ],
   "source": [
    "df_test"
   ]
  },
  {
   "cell_type": "code",
   "execution_count": null,
   "id": "spanish-pasta",
   "metadata": {},
   "outputs": [],
   "source": []
  }
 ],
 "metadata": {
  "kernelspec": {
   "display_name": "Python 3",
   "language": "python",
   "name": "python3"
  },
  "language_info": {
   "codemirror_mode": {
    "name": "ipython",
    "version": 3
   },
   "file_extension": ".py",
   "mimetype": "text/x-python",
   "name": "python",
   "nbconvert_exporter": "python",
   "pygments_lexer": "ipython3",
   "version": "3.8.5"
  }
 },
 "nbformat": 4,
 "nbformat_minor": 5
}
