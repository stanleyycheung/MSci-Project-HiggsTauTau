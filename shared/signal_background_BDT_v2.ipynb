{
 "cells": [
  {
   "cell_type": "markdown",
   "id": "engaging-brain",
   "metadata": {},
   "source": [
    "# change to 3 class classification"
   ]
  },
  {
   "cell_type": "code",
   "execution_count": 1,
   "id": "significant-trailer",
   "metadata": {},
   "outputs": [],
   "source": [
    "import numpy as np\n",
    "import pandas as pd\n",
    "import matplotlib.pyplot as plt\n",
    "import uproot\n",
    "import xgboost\n",
    "from sklearn.model_selection import train_test_split\n",
    "from sklearn.metrics import classification_report, roc_curve, roc_auc_score, auc\n",
    "from sklearn.preprocessing import label_binarize\n",
    "from sklearn.metrics import confusion_matrix\n",
    "import itertools\n",
    "from collections import Counter\n",
    "from sklearn.metrics import classification_report\n",
    "import seaborn as sns"
   ]
  },
  {
   "cell_type": "code",
   "execution_count": 2,
   "id": "persistent-plastic",
   "metadata": {},
   "outputs": [],
   "source": [
    "def plot_roc_curve(fpr, tpr, auc, i):\n",
    "    ax.plot(fpr, tpr, label=f'{classes[i]} ROC score: {auc:.3f}')\n",
    "    ax.set(xlabel='False Positive Rate', ylabel='True Positive Rate')\n",
    "    plt.legend()"
   ]
  },
  {
   "cell_type": "code",
   "execution_count": 3,
   "id": "stylish-senator",
   "metadata": {},
   "outputs": [],
   "source": [
    "path = '/vols/cms/dw515/Offline/output/SM/masters_signal_vs_background_combined/'\n",
    "write_path = '/home/hep/shc3117/MSci-Project-HiggsTauTau/shared/signal_background/'"
   ]
  },
  {
   "cell_type": "code",
   "execution_count": 4,
   "id": "advisory-replica",
   "metadata": {},
   "outputs": [],
   "source": [
    "vbfh_tree = uproot.open(path+'VBFH.root')['ntuple']\n",
    "ztt_tree = uproot.open(path+'ZTT.root')['ntuple']\n",
    "fakes_tree = uproot.open(path+'fakes.root')['ntuple']\n",
    "ggh_tree = uproot.open(path+'ggH.root')['ntuple']"
   ]
  },
  {
   "cell_type": "code",
   "execution_count": 5,
   "id": "gorgeous-auditor",
   "metadata": {},
   "outputs": [],
   "source": [
    "variables = ['pt_1','pt_2', 'm_vis','svfit_mass','mjj','jpt_1','pt_tt','met','n_jets','pt_vis','iso_1','iso_2', 'wt']\n",
    "selectors = ['rand', 'wt_cp_sm', 'deepTauVsJets_medium_1', 'deepTauVsJets_medium_2', 'trg_doubletau', 'os']"
   ]
  },
  {
   "cell_type": "code",
   "execution_count": 6,
   "id": "placed-optimum",
   "metadata": {},
   "outputs": [],
   "source": [
    "vbfh = vbfh_tree.pandas.df(variables+selectors)\n",
    "ztt = ztt_tree.pandas.df(variables+selectors)\n",
    "fakes = fakes_tree.pandas.df(variables+selectors)\n",
    "ggh = ggh_tree.pandas.df(variables+selectors)"
   ]
  },
  {
   "cell_type": "code",
   "execution_count": 7,
   "id": "weighted-slave",
   "metadata": {},
   "outputs": [],
   "source": [
    "vbfh = vbfh[vbfh['deepTauVsJets_medium_1'] & vbfh['deepTauVsJets_medium_2'] & vbfh['trg_doubletau'] & vbfh['os']]\n",
    "ztt = ztt[ztt['deepTauVsJets_medium_1'] & ztt['deepTauVsJets_medium_2'] & ztt['trg_doubletau'] & ztt['os']]\n",
    "fakes = fakes[fakes['deepTauVsJets_medium_1'] & fakes['deepTauVsJets_medium_2'] & fakes['trg_doubletau'] & (fakes['os']==0)]\n",
    "ggh = ggh[ggh['deepTauVsJets_medium_1'] & ggh['deepTauVsJets_medium_2'] & ggh['trg_doubletau'] & ggh['os']]"
   ]
  },
  {
   "cell_type": "code",
   "execution_count": 8,
   "id": "united-carbon",
   "metadata": {},
   "outputs": [],
   "source": [
    "scaling = {\n",
    "    'ggh': 0.0022034,\n",
    "    'vbfh': 0.0001486,\n",
    "    'fakes': 1.35,\n",
    "    'ztt': 3.6292,\n",
    "}"
   ]
  },
  {
   "cell_type": "code",
   "execution_count": 9,
   "id": "automotive-vessel",
   "metadata": {},
   "outputs": [],
   "source": [
    "vbfh.loc[:, 'w'] = vbfh.wt*vbfh.wt_cp_sm *scaling['vbfh']\n",
    "ztt.loc[:, 'w'] = ztt.wt *scaling['ztt']\n",
    "fakes.loc[:, 'w'] = fakes.wt *scaling['fakes']\n",
    "ggh.loc[:, 'w'] = ggh.wt*ggh.wt_cp_sm *scaling['ggh']"
   ]
  },
  {
   "cell_type": "code",
   "execution_count": 10,
   "id": "blank-collectible",
   "metadata": {},
   "outputs": [],
   "source": [
    "higgs = pd.concat([vbfh, ztt]).reset_index(drop=True)"
   ]
  },
  {
   "cell_type": "code",
   "execution_count": 11,
   "id": "placed-insulation",
   "metadata": {},
   "outputs": [],
   "source": [
    "higgs.loc[:, 'y'] = np.zeros(higgs.shape[0])\n",
    "ztt.loc[:, 'y'] = np.ones(ztt.shape[0])\n",
    "fakes.loc[:, 'y'] = np.full((fakes.shape[0],),2.)"
   ]
  },
  {
   "cell_type": "code",
   "execution_count": 12,
   "id": "hazardous-intro",
   "metadata": {},
   "outputs": [],
   "source": [
    "df = pd.concat([higgs, ztt, fakes]).reset_index(drop=True)"
   ]
  },
  {
   "cell_type": "code",
   "execution_count": 13,
   "id": "british-soldier",
   "metadata": {},
   "outputs": [
    {
     "data": {
      "text/plain": [
       "0         0.0\n",
       "1         0.0\n",
       "2         0.0\n",
       "3         0.0\n",
       "4         0.0\n",
       "         ... \n",
       "994761    2.0\n",
       "994762    2.0\n",
       "994763    2.0\n",
       "994764    2.0\n",
       "994765    2.0\n",
       "Name: y, Length: 994766, dtype: float64"
      ]
     },
     "execution_count": 13,
     "metadata": {},
     "output_type": "execute_result"
    }
   ],
   "source": [
    "df.y"
   ]
  },
  {
   "cell_type": "code",
   "execution_count": 14,
   "id": "bigger-christianity",
   "metadata": {},
   "outputs": [],
   "source": [
    "df = df[df.wt > 0]"
   ]
  },
  {
   "cell_type": "code",
   "execution_count": 15,
   "id": "initial-lending",
   "metadata": {},
   "outputs": [
    {
     "name": "stdout",
     "output_type": "stream",
     "text": [
      "[(0.0, 859943), (1.0, 33487), (2.0, 100831)]\n"
     ]
    }
   ],
   "source": [
    "print(sorted(Counter(df.y).items()))"
   ]
  },
  {
   "cell_type": "code",
   "execution_count": 16,
   "id": "limiting-greeting",
   "metadata": {},
   "outputs": [
    {
     "data": {
      "text/plain": [
       "(36986.96240881552, 36877.137177970326, 136121.85)"
      ]
     },
     "execution_count": 16,
     "metadata": {},
     "output_type": "execute_result"
    }
   ],
   "source": [
    "higgs.w.sum(), ztt.w.sum(), fakes.w.sum()"
   ]
  },
  {
   "cell_type": "markdown",
   "id": "english-packaging",
   "metadata": {},
   "source": [
    "# base case"
   ]
  },
  {
   "cell_type": "code",
   "execution_count": 17,
   "id": "original-velvet",
   "metadata": {},
   "outputs": [],
   "source": [
    "df_1 = df.drop(selectors+['iso_1', 'iso_2'], axis=1)"
   ]
  },
  {
   "cell_type": "code",
   "execution_count": 18,
   "id": "geographic-secretary",
   "metadata": {},
   "outputs": [],
   "source": [
    "# xgb_params = {\n",
    "#     \"objective\": \"multi:softmax\",\n",
    "#     \"max_depth\": 6,\n",
    "#     \"num_classes\": 4,\n",
    "# }\n",
    "xgb_params = {\n",
    "    \"objective\": \"multi:softprob\",\n",
    "    \"max_depth\": 3,\n",
    "    \"learning_rate\": 0.05,\n",
    "    \"silent\": 1,\n",
    "    \"n_estimators\": 1000,\n",
    "    \"subsample\": 0.9,\n",
    "    \"seed\": 123451,\n",
    "}\n",
    "\n",
    "xgb_clf = xgboost.XGBClassifier(**xgb_params)\n",
    "# xgb_clf = xgboost.XGBClassifier()\n"
   ]
  },
  {
   "cell_type": "code",
   "execution_count": 19,
   "id": "agricultural-address",
   "metadata": {},
   "outputs": [
    {
     "data": {
      "text/plain": [
       "Index(['pt_1', 'pt_2', 'm_vis', 'svfit_mass', 'mjj', 'jpt_1', 'pt_tt', 'met',\n",
       "       'n_jets', 'pt_vis', 'w'],\n",
       "      dtype='object')"
      ]
     },
     "execution_count": 19,
     "metadata": {},
     "output_type": "execute_result"
    }
   ],
   "source": [
    "df_1.drop(['y', 'wt'], axis=1).columns"
   ]
  },
  {
   "cell_type": "code",
   "execution_count": 20,
   "id": "synthetic-holiday",
   "metadata": {},
   "outputs": [],
   "source": [
    "X = df_1.drop(['y', 'wt'], axis=1).to_numpy()\n",
    "y = df_1.y.astype(int)\n",
    "w = df_1.w\n",
    "X_train, X_test, y_train, y_test, w_train, w_test = train_test_split(X, y, w, test_size=0.2, random_state=1, stratify=df_1.y)"
   ]
  },
  {
   "cell_type": "code",
   "execution_count": 21,
   "id": "western-vocabulary",
   "metadata": {},
   "outputs": [
    {
     "name": "stderr",
     "output_type": "stream",
     "text": [
      "/home/hep/shc3117/anaconda3/envs/msci/lib/python3.8/site-packages/xgboost/sklearn.py:888: UserWarning: The use of label encoder in XGBClassifier is deprecated and will be removed in a future release. To remove this warning, do the following: 1) Pass option use_label_encoder=False when constructing XGBClassifier object; and 2) Encode your labels (y) as integers starting with 0, i.e. 0, 1, 2, ..., [num_class - 1].\n",
      "  warnings.warn(label_encoder_deprecation_msg, UserWarning)\n"
     ]
    },
    {
     "name": "stdout",
     "output_type": "stream",
     "text": [
      "[16:59:12] WARNING: ../src/learner.cc:541: \n",
      "Parameters: { silent } might not be used.\n",
      "\n",
      "  This may not be accurate due to some parameters are only used in language bindings but\n",
      "  passed down to XGBoost core.  Or some parameters are not used but slip through this\n",
      "  verification. Please open an issue if you find above cases.\n",
      "\n",
      "\n",
      "[0]\tvalidation_0-mlogloss:1.04440\tvalidation_1-mlogloss:1.04458\n",
      "[2]\tvalidation_0-mlogloss:0.94949\tvalidation_1-mlogloss:0.94998\n",
      "[4]\tvalidation_0-mlogloss:0.86898\tvalidation_1-mlogloss:0.86987\n",
      "[6]\tvalidation_0-mlogloss:0.80006\tvalidation_1-mlogloss:0.80119\n",
      "[8]\tvalidation_0-mlogloss:0.74040\tvalidation_1-mlogloss:0.74177\n",
      "[10]\tvalidation_0-mlogloss:0.68839\tvalidation_1-mlogloss:0.68996\n",
      "[12]\tvalidation_0-mlogloss:0.64281\tvalidation_1-mlogloss:0.64456\n",
      "[14]\tvalidation_0-mlogloss:0.60261\tvalidation_1-mlogloss:0.60460\n",
      "[16]\tvalidation_0-mlogloss:0.56712\tvalidation_1-mlogloss:0.56925\n",
      "[18]\tvalidation_0-mlogloss:0.53563\tvalidation_1-mlogloss:0.53789\n",
      "[20]\tvalidation_0-mlogloss:0.50758\tvalidation_1-mlogloss:0.51000\n",
      "[22]\tvalidation_0-mlogloss:0.48260\tvalidation_1-mlogloss:0.48508\n",
      "[24]\tvalidation_0-mlogloss:0.46018\tvalidation_1-mlogloss:0.46277\n",
      "[26]\tvalidation_0-mlogloss:0.44015\tvalidation_1-mlogloss:0.44281\n",
      "[28]\tvalidation_0-mlogloss:0.42212\tvalidation_1-mlogloss:0.42485\n",
      "[30]\tvalidation_0-mlogloss:0.40590\tvalidation_1-mlogloss:0.40873\n",
      "[32]\tvalidation_0-mlogloss:0.39132\tvalidation_1-mlogloss:0.39420\n",
      "[34]\tvalidation_0-mlogloss:0.37819\tvalidation_1-mlogloss:0.38111\n",
      "[36]\tvalidation_0-mlogloss:0.36630\tvalidation_1-mlogloss:0.36928\n",
      "[38]\tvalidation_0-mlogloss:0.35555\tvalidation_1-mlogloss:0.35861\n",
      "[40]\tvalidation_0-mlogloss:0.34580\tvalidation_1-mlogloss:0.34895\n",
      "[42]\tvalidation_0-mlogloss:0.33699\tvalidation_1-mlogloss:0.34019\n",
      "[44]\tvalidation_0-mlogloss:0.32900\tvalidation_1-mlogloss:0.33222\n",
      "[46]\tvalidation_0-mlogloss:0.32175\tvalidation_1-mlogloss:0.32502\n",
      "[48]\tvalidation_0-mlogloss:0.31516\tvalidation_1-mlogloss:0.31845\n",
      "[50]\tvalidation_0-mlogloss:0.30920\tvalidation_1-mlogloss:0.31250\n",
      "[52]\tvalidation_0-mlogloss:0.30374\tvalidation_1-mlogloss:0.30708\n",
      "[54]\tvalidation_0-mlogloss:0.29876\tvalidation_1-mlogloss:0.30215\n",
      "[56]\tvalidation_0-mlogloss:0.29426\tvalidation_1-mlogloss:0.29767\n",
      "[58]\tvalidation_0-mlogloss:0.29012\tvalidation_1-mlogloss:0.29356\n",
      "[60]\tvalidation_0-mlogloss:0.28637\tvalidation_1-mlogloss:0.28982\n",
      "[62]\tvalidation_0-mlogloss:0.28293\tvalidation_1-mlogloss:0.28641\n",
      "[64]\tvalidation_0-mlogloss:0.27979\tvalidation_1-mlogloss:0.28329\n",
      "[66]\tvalidation_0-mlogloss:0.27692\tvalidation_1-mlogloss:0.28044\n",
      "[68]\tvalidation_0-mlogloss:0.27431\tvalidation_1-mlogloss:0.27786\n",
      "[70]\tvalidation_0-mlogloss:0.27189\tvalidation_1-mlogloss:0.27550\n",
      "[72]\tvalidation_0-mlogloss:0.26969\tvalidation_1-mlogloss:0.27332\n",
      "[74]\tvalidation_0-mlogloss:0.26767\tvalidation_1-mlogloss:0.27133\n",
      "[76]\tvalidation_0-mlogloss:0.26581\tvalidation_1-mlogloss:0.26949\n",
      "[78]\tvalidation_0-mlogloss:0.26411\tvalidation_1-mlogloss:0.26782\n",
      "[80]\tvalidation_0-mlogloss:0.26256\tvalidation_1-mlogloss:0.26628\n",
      "[82]\tvalidation_0-mlogloss:0.26111\tvalidation_1-mlogloss:0.26490\n",
      "[84]\tvalidation_0-mlogloss:0.25979\tvalidation_1-mlogloss:0.26360\n",
      "[86]\tvalidation_0-mlogloss:0.25859\tvalidation_1-mlogloss:0.26242\n",
      "[88]\tvalidation_0-mlogloss:0.25748\tvalidation_1-mlogloss:0.26136\n",
      "[90]\tvalidation_0-mlogloss:0.25652\tvalidation_1-mlogloss:0.26042\n",
      "[92]\tvalidation_0-mlogloss:0.25556\tvalidation_1-mlogloss:0.25948\n",
      "[94]\tvalidation_0-mlogloss:0.25472\tvalidation_1-mlogloss:0.25869\n",
      "[96]\tvalidation_0-mlogloss:0.25394\tvalidation_1-mlogloss:0.25794\n",
      "[98]\tvalidation_0-mlogloss:0.25320\tvalidation_1-mlogloss:0.25726\n",
      "[100]\tvalidation_0-mlogloss:0.25250\tvalidation_1-mlogloss:0.25658\n",
      "[102]\tvalidation_0-mlogloss:0.25184\tvalidation_1-mlogloss:0.25598\n",
      "[104]\tvalidation_0-mlogloss:0.25133\tvalidation_1-mlogloss:0.25554\n",
      "[106]\tvalidation_0-mlogloss:0.25084\tvalidation_1-mlogloss:0.25514\n",
      "[108]\tvalidation_0-mlogloss:0.25033\tvalidation_1-mlogloss:0.25468\n",
      "[110]\tvalidation_0-mlogloss:0.24990\tvalidation_1-mlogloss:0.25436\n",
      "[112]\tvalidation_0-mlogloss:0.24949\tvalidation_1-mlogloss:0.25403\n",
      "[114]\tvalidation_0-mlogloss:0.24912\tvalidation_1-mlogloss:0.25374\n",
      "[116]\tvalidation_0-mlogloss:0.24877\tvalidation_1-mlogloss:0.25344\n",
      "[118]\tvalidation_0-mlogloss:0.24845\tvalidation_1-mlogloss:0.25326\n",
      "[120]\tvalidation_0-mlogloss:0.24813\tvalidation_1-mlogloss:0.25311\n",
      "[122]\tvalidation_0-mlogloss:0.24782\tvalidation_1-mlogloss:0.25289\n",
      "[124]\tvalidation_0-mlogloss:0.24756\tvalidation_1-mlogloss:0.25272\n",
      "[126]\tvalidation_0-mlogloss:0.24730\tvalidation_1-mlogloss:0.25259\n",
      "[128]\tvalidation_0-mlogloss:0.24705\tvalidation_1-mlogloss:0.25245\n",
      "[130]\tvalidation_0-mlogloss:0.24682\tvalidation_1-mlogloss:0.25233\n",
      "[132]\tvalidation_0-mlogloss:0.24660\tvalidation_1-mlogloss:0.25222\n",
      "[134]\tvalidation_0-mlogloss:0.24639\tvalidation_1-mlogloss:0.25209\n",
      "[136]\tvalidation_0-mlogloss:0.24619\tvalidation_1-mlogloss:0.25199\n",
      "[138]\tvalidation_0-mlogloss:0.24599\tvalidation_1-mlogloss:0.25185\n",
      "[140]\tvalidation_0-mlogloss:0.24580\tvalidation_1-mlogloss:0.25173\n",
      "[142]\tvalidation_0-mlogloss:0.24564\tvalidation_1-mlogloss:0.25162\n",
      "[144]\tvalidation_0-mlogloss:0.24547\tvalidation_1-mlogloss:0.25153\n",
      "[146]\tvalidation_0-mlogloss:0.24531\tvalidation_1-mlogloss:0.25146\n",
      "[148]\tvalidation_0-mlogloss:0.24516\tvalidation_1-mlogloss:0.25144\n",
      "[150]\tvalidation_0-mlogloss:0.24502\tvalidation_1-mlogloss:0.25138\n",
      "[152]\tvalidation_0-mlogloss:0.24488\tvalidation_1-mlogloss:0.25137\n",
      "[154]\tvalidation_0-mlogloss:0.24474\tvalidation_1-mlogloss:0.25134\n",
      "[156]\tvalidation_0-mlogloss:0.24461\tvalidation_1-mlogloss:0.25132\n",
      "[158]\tvalidation_0-mlogloss:0.24450\tvalidation_1-mlogloss:0.25134\n",
      "[160]\tvalidation_0-mlogloss:0.24438\tvalidation_1-mlogloss:0.25131\n",
      "[162]\tvalidation_0-mlogloss:0.24427\tvalidation_1-mlogloss:0.25131\n",
      "[164]\tvalidation_0-mlogloss:0.24417\tvalidation_1-mlogloss:0.25131\n",
      "[166]\tvalidation_0-mlogloss:0.24407\tvalidation_1-mlogloss:0.25133\n",
      "[168]\tvalidation_0-mlogloss:0.24397\tvalidation_1-mlogloss:0.25136\n",
      "[170]\tvalidation_0-mlogloss:0.24388\tvalidation_1-mlogloss:0.25141\n",
      "[172]\tvalidation_0-mlogloss:0.24379\tvalidation_1-mlogloss:0.25141\n",
      "[174]\tvalidation_0-mlogloss:0.24372\tvalidation_1-mlogloss:0.25138\n",
      "[176]\tvalidation_0-mlogloss:0.24364\tvalidation_1-mlogloss:0.25140\n",
      "[178]\tvalidation_0-mlogloss:0.24355\tvalidation_1-mlogloss:0.25145\n",
      "[180]\tvalidation_0-mlogloss:0.24347\tvalidation_1-mlogloss:0.25151\n",
      "[182]\tvalidation_0-mlogloss:0.24340\tvalidation_1-mlogloss:0.25150\n",
      "[184]\tvalidation_0-mlogloss:0.24334\tvalidation_1-mlogloss:0.25151\n",
      "[186]\tvalidation_0-mlogloss:0.24328\tvalidation_1-mlogloss:0.25155\n",
      "[188]\tvalidation_0-mlogloss:0.24322\tvalidation_1-mlogloss:0.25157\n",
      "[190]\tvalidation_0-mlogloss:0.24316\tvalidation_1-mlogloss:0.25155\n",
      "[192]\tvalidation_0-mlogloss:0.24310\tvalidation_1-mlogloss:0.25158\n",
      "[194]\tvalidation_0-mlogloss:0.24305\tvalidation_1-mlogloss:0.25164\n",
      "[196]\tvalidation_0-mlogloss:0.24299\tvalidation_1-mlogloss:0.25168\n",
      "[198]\tvalidation_0-mlogloss:0.24294\tvalidation_1-mlogloss:0.25175\n",
      "[200]\tvalidation_0-mlogloss:0.24290\tvalidation_1-mlogloss:0.25180\n",
      "[202]\tvalidation_0-mlogloss:0.24286\tvalidation_1-mlogloss:0.25188\n",
      "[204]\tvalidation_0-mlogloss:0.24282\tvalidation_1-mlogloss:0.25192\n",
      "[206]\tvalidation_0-mlogloss:0.24278\tvalidation_1-mlogloss:0.25196\n",
      "[208]\tvalidation_0-mlogloss:0.24274\tvalidation_1-mlogloss:0.25197\n",
      "[210]\tvalidation_0-mlogloss:0.24271\tvalidation_1-mlogloss:0.25201\n",
      "[212]\tvalidation_0-mlogloss:0.24266\tvalidation_1-mlogloss:0.25206\n"
     ]
    },
    {
     "data": {
      "text/plain": [
       "XGBClassifier(base_score=0.5, booster='gbtree', colsample_bylevel=1,\n",
       "              colsample_bynode=1, colsample_bytree=1, gamma=0, gpu_id=-1,\n",
       "              importance_type='gain', interaction_constraints='',\n",
       "              learning_rate=0.05, max_delta_step=0, max_depth=3,\n",
       "              min_child_weight=1, missing=nan, monotone_constraints='()',\n",
       "              n_estimators=1000, n_jobs=16, num_parallel_tree=1,\n",
       "              objective='multi:softprob', random_state=123451, reg_alpha=0,\n",
       "              reg_lambda=1, scale_pos_weight=None, seed=123451, silent=1,\n",
       "              subsample=0.9, tree_method='exact', validate_parameters=1,\n",
       "              verbosity=None)"
      ]
     },
     "execution_count": 21,
     "metadata": {},
     "output_type": "execute_result"
    }
   ],
   "source": [
    "eval_set = [(X_train, y_train), (X_test, y_test)]\n",
    "xgb_clf.fit(X_train, y_train, sample_weight=w_train, verbose=2, early_stopping_rounds=50, eval_set=eval_set, eval_metric = \"mlogloss\", sample_weight_eval_set=[w_train, w_test])\n",
    "# xgb_clf.fit(X_train, y_train, sample_weight=w_train, verbose=2, eval_metric=\"mlogloss\")"
   ]
  },
  {
   "cell_type": "code",
   "execution_count": 30,
   "id": "occasional-cooler",
   "metadata": {},
   "outputs": [],
   "source": [
    "y_pred = xgb_clf.predict_proba(X_test)\n",
    "onehot=label_binarize(y_test,classes=[0,1,2])\n",
    "fpr=dict()\n",
    "tpr=dict()\n",
    "thresh = dict()\n",
    "roc_auc=dict()\n",
    "for i in range(3):\n",
    "    fpr[i], tpr[i], thresh[i] = roc_curve(onehot[:,i], y_pred[:,i],sample_weight=w_test)\n",
    "    roc_auc[i] = auc(fpr[i], tpr[i])"
   ]
  },
  {
   "cell_type": "code",
   "execution_count": 31,
   "id": "cathedral-support",
   "metadata": {},
   "outputs": [
    {
     "data": {
      "image/png": "[encoded data removed]",
      "text/plain": [
       "<Figure size 576x432 with 1 Axes>"
      ]
     },
     "metadata": {
      "needs_background": "light"
     },
     "output_type": "display_data"
    }
   ],
   "source": [
    "classes = ['higgs', 'ztt', 'fakes']\n",
    "fig, ax = plt.subplots(figsize=(8,6))\n",
    "lims = [np.min([ax.get_xlim(), ax.get_ylim()]), np.max([ax.get_xlim(), ax.get_ylim()])]\n",
    "# ax.set_xlim(lims)\n",
    "# ax.set_ylim(lims)\n",
    "ax.plot(lims, lims, 'k--')\n",
    "ax.grid()\n",
    "for i in range(len(fpr)):\n",
    "    plot_roc_curve(fpr[i],tpr[i],roc_auc[i], i)\n",
    "# plot_roc_curve(fpr[1],tpr[1],roc_auc[1], 1)\n",
    "# plot_roc_curve(fpr[2],tpr[2],roc_auc[2], 2)\n",
    "# plot_roc_curve(fpr[3],tpr[3],roc_auc[3], 3)\n",
    "# plt.savefig('/signal_background/eda/roc_curves.png')"
   ]
  },
  {
   "cell_type": "code",
   "execution_count": 25,
   "id": "informative-classroom",
   "metadata": {},
   "outputs": [
    {
     "name": "stderr",
     "output_type": "stream",
     "text": [
      "/home/hep/shc3117/anaconda3/envs/msci/lib/python3.8/site-packages/seaborn/_decorators.py:36: FutureWarning: Pass the following variable as a keyword arg: x. From version 0.12, the only valid positional argument will be `data`, and passing other arguments without an explicit keyword will result in an error or misinterpretation.\n",
      "  warnings.warn(\n"
     ]
    },
    {
     "data": {
      "image/png": "[encoded data removed]",
      "text/plain": [
       "<Figure size 432x288 with 1 Axes>"
      ]
     },
     "metadata": {
      "needs_background": "light"
     },
     "output_type": "display_data"
    }
   ],
   "source": [
    "sns.countplot(y_test)\n",
    "plt.show()"
   ]
  },
  {
   "cell_type": "code",
   "execution_count": 26,
   "id": "precise-patrol",
   "metadata": {},
   "outputs": [
    {
     "data": {
      "text/html": [
       "<div>\n",
       "<style scoped>\n",
       "    .dataframe tbody tr th:only-of-type {\n",
       "        vertical-align: middle;\n",
       "    }\n",
       "\n",
       "    .dataframe tbody tr th {\n",
       "        vertical-align: top;\n",
       "    }\n",
       "\n",
       "    .dataframe thead th {\n",
       "        text-align: right;\n",
       "    }\n",
       "</style>\n",
       "<table border=\"1\" class=\"dataframe\">\n",
       "  <thead>\n",
       "    <tr style=\"text-align: right;\">\n",
       "      <th></th>\n",
       "      <th>precision</th>\n",
       "      <th>recall</th>\n",
       "      <th>f1-score</th>\n",
       "      <th>support</th>\n",
       "    </tr>\n",
       "  </thead>\n",
       "  <tbody>\n",
       "    <tr>\n",
       "      <th>higgs</th>\n",
       "      <td>0.395694</td>\n",
       "      <td>0.326598</td>\n",
       "      <td>0.357841</td>\n",
       "      <td>7525.962338</td>\n",
       "    </tr>\n",
       "    <tr>\n",
       "      <th>ztt</th>\n",
       "      <td>0.420006</td>\n",
       "      <td>0.494356</td>\n",
       "      <td>0.454158</td>\n",
       "      <td>7423.840770</td>\n",
       "    </tr>\n",
       "    <tr>\n",
       "      <th>fakes</th>\n",
       "      <td>1.000000</td>\n",
       "      <td>1.000000</td>\n",
       "      <td>1.000000</td>\n",
       "      <td>27224.100000</td>\n",
       "    </tr>\n",
       "    <tr>\n",
       "      <th>accuracy</th>\n",
       "      <td>0.790823</td>\n",
       "      <td>0.790823</td>\n",
       "      <td>0.790823</td>\n",
       "      <td>0.790823</td>\n",
       "    </tr>\n",
       "    <tr>\n",
       "      <th>macro avg</th>\n",
       "      <td>0.605233</td>\n",
       "      <td>0.606985</td>\n",
       "      <td>0.604000</td>\n",
       "      <td>42173.903108</td>\n",
       "    </tr>\n",
       "    <tr>\n",
       "      <th>weighted avg</th>\n",
       "      <td>0.790065</td>\n",
       "      <td>0.790823</td>\n",
       "      <td>0.789322</td>\n",
       "      <td>42173.903108</td>\n",
       "    </tr>\n",
       "  </tbody>\n",
       "</table>\n",
       "</div>"
      ],
      "text/plain": [
       "              precision    recall  f1-score       support\n",
       "higgs          0.395694  0.326598  0.357841   7525.962338\n",
       "ztt            0.420006  0.494356  0.454158   7423.840770\n",
       "fakes          1.000000  1.000000  1.000000  27224.100000\n",
       "accuracy       0.790823  0.790823  0.790823      0.790823\n",
       "macro avg      0.605233  0.606985  0.604000  42173.903108\n",
       "weighted avg   0.790065  0.790823  0.789322  42173.903108"
      ]
     },
     "execution_count": 26,
     "metadata": {},
     "output_type": "execute_result"
    }
   ],
   "source": [
    "cr = classification_report(y_test, xgb_clf.predict(X_test), output_dict=True, target_names=classes, sample_weight=w_test)\n",
    "pd.DataFrame(cr).transpose()"
   ]
  },
  {
   "cell_type": "code",
   "execution_count": 104,
   "id": "musical-protocol",
   "metadata": {},
   "outputs": [],
   "source": [
    "df_1.loc[:, 'y_pred']  = xgb_clf.predict(X)"
   ]
  },
  {
   "cell_type": "code",
   "execution_count": 114,
   "id": "proof-sleep",
   "metadata": {},
   "outputs": [
    {
     "data": {
      "text/plain": [
       "Index(['pt_1', 'pt_2', 'm_vis', 'svfit_mass', 'mjj', 'jpt_1', 'pt_tt', 'met',\n",
       "       'n_jets', 'pt_vis', 'w', 'y_pred'],\n",
       "      dtype='object')"
      ]
     },
     "execution_count": 114,
     "metadata": {},
     "output_type": "execute_result"
    }
   ],
   "source": [
    "df_1.drop(['y', 'wt'], axis=1).columns"
   ]
  },
  {
   "cell_type": "code",
   "execution_count": 148,
   "id": "fitted-stations",
   "metadata": {},
   "outputs": [],
   "source": [
    "df_test = pd.DataFrame(X_test, columns=df_1.drop(['y', 'wt'], axis=1).columns).reset_index(drop=True)"
   ]
  },
  {
   "cell_type": "code",
   "execution_count": 147,
   "id": "cloudy-patent",
   "metadata": {},
   "outputs": [
    {
     "data": {
      "text/plain": [
       "20166"
      ]
     },
     "execution_count": 147,
     "metadata": {},
     "output_type": "execute_result"
    }
   ],
   "source": [
    "(y_test==2).sum()"
   ]
  },
  {
   "cell_type": "code",
   "execution_count": 149,
   "id": "smoking-boating",
   "metadata": {},
   "outputs": [],
   "source": [
    "df_test['y'] = y_test.to_numpy()\n",
    "df_test['w'] = w_test.to_numpy()"
   ]
  },
  {
   "cell_type": "code",
   "execution_count": 150,
   "id": "spread-regard",
   "metadata": {},
   "outputs": [],
   "source": [
    "df_test['y_pred'] = xgb_clf.predict(X_test)"
   ]
  },
  {
   "cell_type": "code",
   "execution_count": 151,
   "id": "sweet-reply",
   "metadata": {},
   "outputs": [
    {
     "data": {
      "text/html": [
       "<div>\n",
       "<style scoped>\n",
       "    .dataframe tbody tr th:only-of-type {\n",
       "        vertical-align: middle;\n",
       "    }\n",
       "\n",
       "    .dataframe tbody tr th {\n",
       "        vertical-align: top;\n",
       "    }\n",
       "\n",
       "    .dataframe thead th {\n",
       "        text-align: right;\n",
       "    }\n",
       "</style>\n",
       "<table border=\"1\" class=\"dataframe\">\n",
       "  <thead>\n",
       "    <tr style=\"text-align: right;\">\n",
       "      <th></th>\n",
       "      <th>pt_1</th>\n",
       "      <th>pt_2</th>\n",
       "      <th>m_vis</th>\n",
       "      <th>svfit_mass</th>\n",
       "      <th>mjj</th>\n",
       "      <th>jpt_1</th>\n",
       "      <th>pt_tt</th>\n",
       "      <th>met</th>\n",
       "      <th>n_jets</th>\n",
       "      <th>pt_vis</th>\n",
       "      <th>w</th>\n",
       "      <th>y</th>\n",
       "      <th>y_pred</th>\n",
       "    </tr>\n",
       "  </thead>\n",
       "  <tbody>\n",
       "    <tr>\n",
       "      <th>0</th>\n",
       "      <td>92.282034</td>\n",
       "      <td>53.676795</td>\n",
       "      <td>92.767455</td>\n",
       "      <td>115.830387</td>\n",
       "      <td>777.012285</td>\n",
       "      <td>111.839663</td>\n",
       "      <td>138.882213</td>\n",
       "      <td>29.351910</td>\n",
       "      <td>2.0</td>\n",
       "      <td>114.518214</td>\n",
       "      <td>0.000053</td>\n",
       "      <td>0</td>\n",
       "      <td>0</td>\n",
       "    </tr>\n",
       "    <tr>\n",
       "      <th>1</th>\n",
       "      <td>41.703584</td>\n",
       "      <td>40.880400</td>\n",
       "      <td>85.186898</td>\n",
       "      <td>101.254921</td>\n",
       "      <td>507.899335</td>\n",
       "      <td>98.537312</td>\n",
       "      <td>23.169485</td>\n",
       "      <td>24.799908</td>\n",
       "      <td>2.0</td>\n",
       "      <td>2.083170</td>\n",
       "      <td>0.000024</td>\n",
       "      <td>0</td>\n",
       "      <td>0</td>\n",
       "    </tr>\n",
       "    <tr>\n",
       "      <th>2</th>\n",
       "      <td>129.497680</td>\n",
       "      <td>81.550319</td>\n",
       "      <td>92.653429</td>\n",
       "      <td>124.638680</td>\n",
       "      <td>2601.815534</td>\n",
       "      <td>256.477620</td>\n",
       "      <td>283.144277</td>\n",
       "      <td>88.702454</td>\n",
       "      <td>4.0</td>\n",
       "      <td>195.046717</td>\n",
       "      <td>0.000063</td>\n",
       "      <td>0</td>\n",
       "      <td>0</td>\n",
       "    </tr>\n",
       "    <tr>\n",
       "      <th>3</th>\n",
       "      <td>42.768679</td>\n",
       "      <td>40.478256</td>\n",
       "      <td>83.106576</td>\n",
       "      <td>139.588425</td>\n",
       "      <td>970.733272</td>\n",
       "      <td>75.777211</td>\n",
       "      <td>81.928694</td>\n",
       "      <td>77.720337</td>\n",
       "      <td>1.0</td>\n",
       "      <td>6.513472</td>\n",
       "      <td>0.000157</td>\n",
       "      <td>0</td>\n",
       "      <td>0</td>\n",
       "    </tr>\n",
       "    <tr>\n",
       "      <th>4</th>\n",
       "      <td>52.635335</td>\n",
       "      <td>52.384945</td>\n",
       "      <td>101.074869</td>\n",
       "      <td>108.849537</td>\n",
       "      <td>169.383822</td>\n",
       "      <td>41.276124</td>\n",
       "      <td>30.110152</td>\n",
       "      <td>9.723588</td>\n",
       "      <td>3.0</td>\n",
       "      <td>39.826468</td>\n",
       "      <td>0.000056</td>\n",
       "      <td>0</td>\n",
       "      <td>0</td>\n",
       "    </tr>\n",
       "    <tr>\n",
       "      <th>...</th>\n",
       "      <td>...</td>\n",
       "      <td>...</td>\n",
       "      <td>...</td>\n",
       "      <td>...</td>\n",
       "      <td>...</td>\n",
       "      <td>...</td>\n",
       "      <td>...</td>\n",
       "      <td>...</td>\n",
       "      <td>...</td>\n",
       "      <td>...</td>\n",
       "      <td>...</td>\n",
       "      <td>...</td>\n",
       "      <td>...</td>\n",
       "    </tr>\n",
       "    <tr>\n",
       "      <th>198848</th>\n",
       "      <td>86.956464</td>\n",
       "      <td>54.072191</td>\n",
       "      <td>84.667066</td>\n",
       "      <td>98.186611</td>\n",
       "      <td>491.818811</td>\n",
       "      <td>143.600868</td>\n",
       "      <td>144.432830</td>\n",
       "      <td>30.410059</td>\n",
       "      <td>2.0</td>\n",
       "      <td>118.070496</td>\n",
       "      <td>0.000057</td>\n",
       "      <td>0</td>\n",
       "      <td>0</td>\n",
       "    </tr>\n",
       "    <tr>\n",
       "      <th>198849</th>\n",
       "      <td>54.342384</td>\n",
       "      <td>50.044678</td>\n",
       "      <td>106.130171</td>\n",
       "      <td>142.722984</td>\n",
       "      <td>-9999.000000</td>\n",
       "      <td>38.905858</td>\n",
       "      <td>51.391301</td>\n",
       "      <td>56.381241</td>\n",
       "      <td>1.0</td>\n",
       "      <td>5.797828</td>\n",
       "      <td>0.000154</td>\n",
       "      <td>0</td>\n",
       "      <td>0</td>\n",
       "    </tr>\n",
       "    <tr>\n",
       "      <th>198850</th>\n",
       "      <td>332.635573</td>\n",
       "      <td>71.107560</td>\n",
       "      <td>85.773144</td>\n",
       "      <td>124.196709</td>\n",
       "      <td>809.351633</td>\n",
       "      <td>787.601410</td>\n",
       "      <td>691.283480</td>\n",
       "      <td>294.794250</td>\n",
       "      <td>2.0</td>\n",
       "      <td>396.512134</td>\n",
       "      <td>0.000135</td>\n",
       "      <td>0</td>\n",
       "      <td>0</td>\n",
       "    </tr>\n",
       "    <tr>\n",
       "      <th>198851</th>\n",
       "      <td>66.861926</td>\n",
       "      <td>42.956125</td>\n",
       "      <td>105.681926</td>\n",
       "      <td>125.633175</td>\n",
       "      <td>364.414807</td>\n",
       "      <td>94.597766</td>\n",
       "      <td>77.411184</td>\n",
       "      <td>12.334446</td>\n",
       "      <td>3.0</td>\n",
       "      <td>67.925730</td>\n",
       "      <td>0.000063</td>\n",
       "      <td>0</td>\n",
       "      <td>0</td>\n",
       "    </tr>\n",
       "    <tr>\n",
       "      <th>198852</th>\n",
       "      <td>56.716322</td>\n",
       "      <td>47.109285</td>\n",
       "      <td>106.805048</td>\n",
       "      <td>115.006077</td>\n",
       "      <td>-9999.000000</td>\n",
       "      <td>43.248574</td>\n",
       "      <td>35.607090</td>\n",
       "      <td>51.264675</td>\n",
       "      <td>1.0</td>\n",
       "      <td>50.659200</td>\n",
       "      <td>0.000070</td>\n",
       "      <td>0</td>\n",
       "      <td>0</td>\n",
       "    </tr>\n",
       "  </tbody>\n",
       "</table>\n",
       "<p>198853 rows × 13 columns</p>\n",
       "</div>"
      ],
      "text/plain": [
       "              pt_1       pt_2       m_vis  svfit_mass          mjj  \\\n",
       "0        92.282034  53.676795   92.767455  115.830387   777.012285   \n",
       "1        41.703584  40.880400   85.186898  101.254921   507.899335   \n",
       "2       129.497680  81.550319   92.653429  124.638680  2601.815534   \n",
       "3        42.768679  40.478256   83.106576  139.588425   970.733272   \n",
       "4        52.635335  52.384945  101.074869  108.849537   169.383822   \n",
       "...            ...        ...         ...         ...          ...   \n",
       "198848   86.956464  54.072191   84.667066   98.186611   491.818811   \n",
       "198849   54.342384  50.044678  106.130171  142.722984 -9999.000000   \n",
       "198850  332.635573  71.107560   85.773144  124.196709   809.351633   \n",
       "198851   66.861926  42.956125  105.681926  125.633175   364.414807   \n",
       "198852   56.716322  47.109285  106.805048  115.006077 -9999.000000   \n",
       "\n",
       "             jpt_1       pt_tt         met  n_jets      pt_vis         w  y  \\\n",
       "0       111.839663  138.882213   29.351910     2.0  114.518214  0.000053  0   \n",
       "1        98.537312   23.169485   24.799908     2.0    2.083170  0.000024  0   \n",
       "2       256.477620  283.144277   88.702454     4.0  195.046717  0.000063  0   \n",
       "3        75.777211   81.928694   77.720337     1.0    6.513472  0.000157  0   \n",
       "4        41.276124   30.110152    9.723588     3.0   39.826468  0.000056  0   \n",
       "...            ...         ...         ...     ...         ...       ... ..   \n",
       "198848  143.600868  144.432830   30.410059     2.0  118.070496  0.000057  0   \n",
       "198849   38.905858   51.391301   56.381241     1.0    5.797828  0.000154  0   \n",
       "198850  787.601410  691.283480  294.794250     2.0  396.512134  0.000135  0   \n",
       "198851   94.597766   77.411184   12.334446     3.0   67.925730  0.000063  0   \n",
       "198852   43.248574   35.607090   51.264675     1.0   50.659200  0.000070  0   \n",
       "\n",
       "        y_pred  \n",
       "0            0  \n",
       "1            0  \n",
       "2            0  \n",
       "3            0  \n",
       "4            0  \n",
       "...        ...  \n",
       "198848       0  \n",
       "198849       0  \n",
       "198850       0  \n",
       "198851       0  \n",
       "198852       0  \n",
       "\n",
       "[198853 rows x 13 columns]"
      ]
     },
     "execution_count": 151,
     "metadata": {},
     "output_type": "execute_result"
    }
   ],
   "source": [
    "df_test"
   ]
  },
  {
   "cell_type": "code",
   "execution_count": null,
   "id": "direct-missouri",
   "metadata": {},
   "outputs": [],
   "source": []
  }
 ],
 "metadata": {
  "kernelspec": {
   "display_name": "Python 3",
   "language": "python",
   "name": "python3"
  },
  "language_info": {
   "codemirror_mode": {
    "name": "ipython",
    "version": 3
   },
   "file_extension": ".py",
   "mimetype": "text/x-python",
   "name": "python",
   "nbconvert_exporter": "python",
   "pygments_lexer": "ipython3",
   "version": "3.8.5"
  }
 },
 "nbformat": 4,
 "nbformat_minor": 5
}
