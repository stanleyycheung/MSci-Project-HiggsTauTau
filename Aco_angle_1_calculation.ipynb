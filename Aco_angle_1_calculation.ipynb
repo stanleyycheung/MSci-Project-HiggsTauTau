{
 "cells": [
  {
   "cell_type": "markdown",
   "metadata": {},
   "source": [
    "# Calculation of aco_angle_1 from low-level data\n",
    "\n",
    "This code calculates aco_angle_1 from the pion 4-vectors, using formulas (4), (5) and (6) from the CMS CP paper."
   ]
  },
  {
   "cell_type": "code",
   "execution_count": 1,
   "metadata": {},
   "outputs": [
    {
     "name": "stdout",
     "output_type": "stream",
     "text": [
      "Requirement already satisfied: uproot in /cvmfs/sft.cern.ch/lcg/views/LCG_97apython3/x86_64-centos7-gcc8-opt/lib/python3.7/site-packages (3.10.12)\n",
      "Requirement already satisfied: numpy>=1.13.1 in /cvmfs/sft.cern.ch/lcg/views/LCG_97apython3/x86_64-centos7-gcc8-opt/lib/python3.7/site-packages (from uproot) (1.16.4)\n",
      "Requirement already satisfied: awkward<1.0,>=0.12.0 in /cvmfs/sft.cern.ch/lcg/views/LCG_97apython3/x86_64-centos7-gcc8-opt/lib/python3.7/site-packages (from uproot) (0.12.17)\n",
      "Requirement already satisfied: uproot-methods>=0.7.0 in /cvmfs/sft.cern.ch/lcg/views/LCG_97apython3/x86_64-centos7-gcc8-opt/lib/python3.7/site-packages (from uproot) (0.7.1)\n",
      "Requirement already satisfied: cachetools in /cvmfs/sft.cern.ch/lcg/views/LCG_97apython3/x86_64-centos7-gcc8-opt/lib/python3.7/site-packages (from uproot) (3.1.1)\n"
     ]
    }
   ],
   "source": [
    "# start with some setup\n",
    "!pip install --user uproot\n",
    "import sys\n",
    "sys.path.append(\"/eos/home-m/dwinterb/.local/lib/python2.7/site-packages\")"
   ]
  },
  {
   "cell_type": "code",
   "execution_count": 2,
   "metadata": {},
   "outputs": [
    {
     "name": "stdout",
     "output_type": "stream",
     "text": [
      "Welcome to JupyROOT 6.20/06\n"
     ]
    }
   ],
   "source": [
    "import uproot \n",
    "import numpy as np\n",
    "import pandas as pd\n",
    "#import matplotlib as mpl\n",
    "#mpl.use('Agg')\n",
    "import matplotlib.pyplot as plt\n",
    "from ROOT import TLorentzVector"
   ]
  },
  {
   "cell_type": "code",
   "execution_count": 4,
   "metadata": {},
   "outputs": [],
   "source": [
    "# read data files\n",
    "tree_tt = uproot.open(\"/eos/user/k/kgalambo/SWAN_projects/Masters_CP_Kristof_2/MVAFILE_AllHiggs_tt.root\")[\"ntuple\"]\n",
    "tree_et = uproot.open(\"/eos/user/k/kgalambo/SWAN_projects/Masters_CP_Kristof_2/MVAFILE_AllHiggs_et.root\")[\"ntuple\"]\n",
    "tree_mt = uproot.open(\"/eos/user/k/kgalambo/SWAN_projects/Masters_CP_Kristof_2/MVAFILE_AllHiggs_mt.root\")[\"ntuple\"]"
   ]
  },
  {
   "cell_type": "code",
   "execution_count": 5,
   "metadata": {},
   "outputs": [],
   "source": [
    "variables = [\n",
    "    \"wt_cp_sm\", \"wt_cp_ps\", \"wt_cp_mm\", \"rand\",\n",
    "    \"aco_angle_1\", \n",
    "    \"mva_dm_1\", \"mva_dm_2\",\n",
    "    \"tau_decay_mode_1\", \"tau_decay_mode_2\",\n",
    "#     \"ip_x_1\", \"ip_y_1\", \"ip_z_1\", \"ip_x_2\", \"ip_y_2\", \"ip_z_2\", # ignore impact parameter for now\n",
    "    \"pi_px_1\", \"pi_py_1\", \"pi_pz_1\", \"pi_E_1\",\n",
    "    \"pi_px_2\", \"pi_py_2\", \"pi_pz_2\", \"pi_E_2\",\n",
    "    \"pi0_px_1\", \"pi0_py_1\", \"pi0_pz_1\", \"pi0_E_1\",\n",
    "    \"pi0_px_2\", \"pi0_py_2\", \"pi0_pz_2\", \"pi0_E_2\",\n",
    "    \"y_1_1\", \"y_1_2\"\n",
    "]"
   ]
  },
  {
   "cell_type": "code",
   "execution_count": 6,
   "metadata": {},
   "outputs": [],
   "source": [
    "# WARNING! This line takes a long time\n",
    "df = tree_tt.pandas.df(variables)"
   ]
  },
  {
   "cell_type": "code",
   "execution_count": 7,
   "metadata": {},
   "outputs": [],
   "source": [
    "df_1 = df[\n",
    "      (df[\"tau_decay_mode_1\"] == 1) \n",
    "    & (df[\"tau_decay_mode_2\"] == 1) \n",
    "    & (df[\"mva_dm_1\"] == 1) \n",
    "    & (df[\"mva_dm_2\"] == 1)\n",
    "    # comment some selections to help with stats\n",
    "    #& (df[\"deepTauVsJets_medium_1\"] > 0.5) \n",
    "    #& (df[\"deepTauVsEle_vvloose_1\"] > 0.5)\n",
    "    #& (df[\"deepTauVsMu_vloose_1\"] > 0.5)\n",
    "    #& (df[\"deepTauVsJets_medium_2\"] > 0.5) \n",
    "    #& (df[\"deepTauVsEle_vvloose_2\"] > 0.5)\n",
    "    #& (df[\"deepTauVsMu_vloose_2\"] > 0.5)\n",
    "    #& (df[\"trg_doubletau\"] > 0.5)\n",
    "]\n",
    "\n",
    "df_1 = df_1.drop([\"mva_dm_1\", \"mva_dm_2\", \"tau_decay_mode_1\", \"tau_decay_mode_2\"], axis=1).reset_index(drop=True)\n",
    "\n",
    "df_ps = df_1[\n",
    "      (df_1[\"rand\"]<df_1[\"wt_cp_ps\"]/2)\n",
    "]\n",
    "\n",
    "df_sm = df_1[\n",
    "      (df_1[\"rand\"]<df_1[\"wt_cp_sm\"]/2)\n",
    "]\n"
   ]
  },
  {
   "cell_type": "code",
   "execution_count": 10,
   "metadata": {},
   "outputs": [],
   "source": [
    "def calculate_aco_angles(dataset):\n",
    "    angles = []\n",
    "    for i in range(len(dataset)):\n",
    "        px3 = dataset[\"pi_px_1\"].iloc[i]\n",
    "        py3 = dataset[\"pi_py_1\"].iloc[i]\n",
    "        pz3 = dataset[\"pi_pz_1\"].iloc[i]\n",
    "        E3 = dataset[\"pi_E_1\"].iloc[i]\n",
    "        px4 = dataset[\"pi_px_2\"].iloc[i]\n",
    "        py4 = dataset[\"pi_py_2\"].iloc[i]\n",
    "        pz4 = dataset[\"pi_pz_2\"].iloc[i]\n",
    "        E4 = dataset[\"pi_E_2\"].iloc[i]\n",
    "        p3 = TLorentzVector(px3, py3, pz3, E3)\n",
    "        p4 = TLorentzVector(px4, py4, pz4, E4)\n",
    "        p3p4 = p3 + p4\n",
    "        cm = p3p4.BoostVector()\n",
    "\n",
    "        px1 = dataset[\"pi0_px_1\"].iloc[i]\n",
    "        py1 = dataset[\"pi0_py_1\"].iloc[i]\n",
    "        pz1 = dataset[\"pi0_pz_1\"].iloc[i]\n",
    "        E1 = dataset[\"pi0_E_1\"].iloc[i]\n",
    "        px2 = dataset[\"pi0_px_2\"].iloc[i]\n",
    "        py2 = dataset[\"pi0_py_2\"].iloc[i]\n",
    "        pz2 = dataset[\"pi0_pz_2\"].iloc[i]\n",
    "        E2 = dataset[\"pi0_E_2\"].iloc[i]\n",
    "        p1 = TLorentzVector(px1, py1, pz1, E1)\n",
    "        p2 = TLorentzVector(px2, py2, pz2, E2)\n",
    "        \n",
    "        y1 = dataset[\"y_1_1\"].iloc[i]\n",
    "        y2 = dataset[\"y_1_2\"].iloc[i]\n",
    "\n",
    "        p3.Boost(-cm)\n",
    "        p4.Boost(-cm)\n",
    "        p1.Boost(-cm)\n",
    "        p2.Boost(-cm)\n",
    "\n",
    "        n1 = p1.Vect() - p1.Vect().Dot(p3.Vect().Unit())*p3.Vect().Unit()\n",
    "        n2 = p2.Vect() - p2.Vect().Dot(p4.Vect().Unit())*p4.Vect().Unit()\n",
    "        n1 = n1.Unit()\n",
    "        n2 = n2.Unit()\n",
    "\n",
    "        angle = np.arccos(n1.Dot(n2))\n",
    "        sign = p4.Vect().Unit().Dot(n1.Cross(n2))\n",
    "\n",
    "        # shift 1\n",
    "        if sign < 0:\n",
    "            angle = 2 * np.pi - angle\n",
    "\n",
    "        # shift 2\n",
    "        if y1*y2 < 0:\n",
    "            if angle < np.pi:\n",
    "                angle += np.pi\n",
    "            else:\n",
    "                angle -= np.pi\n",
    "\n",
    "        angles.append(angle)\n",
    "\n",
    "        if i%10000==0:\n",
    "            print('finished element', i)\n",
    "            \n",
    "    return angles"
   ]
  },
  {
   "cell_type": "code",
   "execution_count": 16,
   "metadata": {},
   "outputs": [
    {
     "name": "stdout",
     "output_type": "stream",
     "text": [
      "finished element 0\n",
      "finished element 10000\n",
      "finished element 20000\n",
      "finished element 30000\n",
      "finished element 40000\n",
      "finished element 50000\n",
      "finished element 60000\n",
      "finished element 70000\n",
      "finished element 80000\n",
      "finished element 90000\n",
      "finished element 100000\n",
      "finished element 110000\n",
      "finished element 120000\n",
      "finished element 130000\n",
      "finished element 140000\n",
      "finished element 150000\n",
      "finished element 160000\n",
      "finished element 170000\n",
      "finished element 180000\n",
      "finished element 190000\n",
      "finished element 200000\n",
      "finished element 210000\n",
      "finished element 220000\n",
      "finished element 230000\n",
      "finished element 240000\n",
      "finished element 250000\n",
      "finished element 260000\n",
      "finished element 270000\n",
      "finished element 280000\n",
      "finished element 290000\n",
      "finished element 300000\n",
      "finished element 310000\n",
      "finished element 320000\n",
      "finished element 0\n",
      "finished element 10000\n",
      "finished element 20000\n",
      "finished element 30000\n",
      "finished element 40000\n",
      "finished element 50000\n",
      "finished element 60000\n",
      "finished element 70000\n",
      "finished element 80000\n",
      "finished element 90000\n",
      "finished element 100000\n",
      "finished element 110000\n",
      "finished element 120000\n",
      "finished element 130000\n",
      "finished element 140000\n",
      "finished element 150000\n",
      "finished element 160000\n",
      "finished element 170000\n",
      "finished element 180000\n",
      "finished element 190000\n",
      "finished element 200000\n",
      "finished element 210000\n",
      "finished element 220000\n",
      "finished element 230000\n",
      "finished element 240000\n",
      "finished element 250000\n",
      "finished element 260000\n",
      "finished element 270000\n",
      "finished element 280000\n",
      "finished element 290000\n",
      "finished element 300000\n",
      "finished element 310000\n",
      "finished element 320000\n"
     ]
    }
   ],
   "source": [
    "sm_aco = calculate_aco_angles(df_sm)\n",
    "ps_aco = calculate_aco_angles(df_ps)"
   ]
  },
  {
   "cell_type": "code",
   "execution_count": 12,
   "metadata": {},
   "outputs": [],
   "source": [
    "# define function to plot 'signal' vs 'background' for a specified variables\n",
    "# useful to check whether a variable gives some separation between\n",
    "# signal and background states\n",
    "def plot_signal_background(data1, data2, column,\n",
    "                        bins=100, x_uplim=0, **kwargs):\n",
    "\n",
    "    if \"alpha\" not in kwargs:\n",
    "        kwargs[\"alpha\"] = 0.5\n",
    "\n",
    "    df1 = data1[column]\n",
    "    df2 = data2[column]\n",
    "\n",
    "    fig, ax = plt.subplots()\n",
    "    df1 = df1.sample(3000, random_state=1234)\n",
    "    df2 = df2.sample(3000, random_state=1234)\n",
    "    low = max(min(df1.min(), df2.min()),-5)\n",
    "    high = max(df1.max(), df2.max())\n",
    "    if x_uplim != 0: high = x_uplim\n",
    "\n",
    "    ax.hist(df1, bins=bins, range=(low,high), **kwargs)\n",
    "    ax.hist(df2, bins=bins, range=(low,high), **kwargs)\n",
    "    if column == \"aco_angle_1\":\n",
    "        plt.title('given aco_angle_1 (true values)')\n",
    "    else:\n",
    "        plt.title(column)\n",
    "    \n",
    "    if x_uplim != 0:\n",
    "        ax.set_xlim(0,x_uplim)\n",
    "\n",
    "    # ax.set_yscale('log')\n"
   ]
  },
  {
   "cell_type": "code",
   "execution_count": 14,
   "metadata": {},
   "outputs": [
    {
     "data": {
      "image/png": "[encoded data removed]",
      "text/plain": [
       "<Figure size 432x288 with 1 Axes>"
      ]
     },
     "metadata": {
      "needs_background": "light"
     },
     "output_type": "display_data"
    }
   ],
   "source": [
    "# plot my calculated aco_angle_1 values\n",
    "sm_aco_df = pd.DataFrame(sm_aco, columns=['aco_angle_1 calculated from low-level data'])\n",
    "ps_aco_df = pd.DataFrame(ps_aco, columns=['aco_angle_1 calculated from low-level data'])\n",
    "plot_signal_background(sm_aco_df, ps_aco_df, 'aco_angle_1 calculated from low-level data', bins=100)"
   ]
  },
  {
   "cell_type": "code",
   "execution_count": 15,
   "metadata": {},
   "outputs": [
    {
     "data": {
      "image/png": "[encoded data removed]",
      "text/plain": [
       "<Figure size 432x288 with 1 Axes>"
      ]
     },
     "metadata": {
      "needs_background": "light"
     },
     "output_type": "display_data"
    }
   ],
   "source": [
    "# plot the given aco_angle_1 values\n",
    "plot_signal_background(df_sm, df_ps, 'aco_angle_1', bins=100)"
   ]
  },
  {
   "cell_type": "code",
   "execution_count": null,
   "metadata": {},
   "outputs": [],
   "source": []
  }
 ],
 "metadata": {
  "kernelspec": {
   "display_name": "Python 3",
   "language": "python",
   "name": "python3"
  },
  "language_info": {
   "codemirror_mode": {
    "name": "ipython",
    "version": 3
   },
   "file_extension": ".py",
   "mimetype": "text/x-python",
   "name": "python",
   "nbconvert_exporter": "python",
   "pygments_lexer": "ipython3",
   "version": "3.7.6"
  }
 },
 "nbformat": 4,
 "nbformat_minor": 4
}
