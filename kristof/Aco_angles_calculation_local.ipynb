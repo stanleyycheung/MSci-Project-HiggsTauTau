{
 "cells": [
  {
   "cell_type": "markdown",
   "metadata": {},
   "source": [
    "# Calculation of aco_angle_1 from low-level data\n",
    "\n",
    "This code calculates aco_angle_1 from the pion 4-vectors, using formulas (4), (5) and (6) from the CMS CP paper."
   ]
  },
  {
   "cell_type": "code",
   "execution_count": 1,
   "metadata": {},
   "outputs": [
    {
     "name": "stdout",
     "output_type": "stream",
     "text": [
      "Requirement already satisfied: uproot in /cvmfs/sft.cern.ch/lcg/views/LCG_97apython3/x86_64-centos7-gcc8-opt/lib/python3.7/site-packages (3.10.12)\n",
      "Requirement already satisfied: numpy>=1.13.1 in /cvmfs/sft.cern.ch/lcg/views/LCG_97apython3/x86_64-centos7-gcc8-opt/lib/python3.7/site-packages (from uproot) (1.16.4)\n",
      "Requirement already satisfied: awkward<1.0,>=0.12.0 in /cvmfs/sft.cern.ch/lcg/views/LCG_97apython3/x86_64-centos7-gcc8-opt/lib/python3.7/site-packages (from uproot) (0.12.17)\n",
      "Requirement already satisfied: uproot-methods>=0.7.0 in /cvmfs/sft.cern.ch/lcg/views/LCG_97apython3/x86_64-centos7-gcc8-opt/lib/python3.7/site-packages (from uproot) (0.7.1)\n",
      "Requirement already satisfied: cachetools in /cvmfs/sft.cern.ch/lcg/views/LCG_97apython3/x86_64-centos7-gcc8-opt/lib/python3.7/site-packages (from uproot) (3.1.1)\n"
     ]
    }
   ],
   "source": [
    "# start with some setup\n",
    "!pip install --user uproot\n",
    "import sys\n",
    "sys.path.append(\"/eos/home-m/dwinterb/.local/lib/python2.7/site-packages\")"
   ]
  },
  {
   "cell_type": "code",
   "execution_count": 4,
   "metadata": {},
   "outputs": [
    {
     "name": "stdout",
     "output_type": "stream",
     "text": [
      "Collecting pylorentz\n",
      "  Downloading pylorentz-0.3.3.tar.gz (12 kB)\n",
      "Requirement already satisfied: numpy in c:\\users\\krist\\anaconda3\\lib\\site-packages (from pylorentz) (1.19.0)\n",
      "Building wheels for collected packages: pylorentz\n",
      "  Building wheel for pylorentz (setup.py): started\n",
      "  Building wheel for pylorentz (setup.py): finished with status 'done'\n",
      "  Created wheel for pylorentz: filename=pylorentz-0.3.3-py3-none-any.whl size=12106 sha256=8e081cb99078047c0c689685d4104931ee78c595896c7f9200762c9811ae11e3\n",
      "  Stored in directory: c:\\users\\krist\\appdata\\local\\pip\\cache\\wheels\\86\\fe\\e7\\2dc3c29efdd107b959a44f9cb42f8ec1d8d730c03962d5fba4\n",
      "Successfully built pylorentz\n",
      "Installing collected packages: pylorentz\n",
      "Successfully installed pylorentz-0.3.3\n"
     ]
    }
   ],
   "source": [
    "#!pip install #pyroot\n",
    "!pip install pylorentz"
   ]
  },
  {
   "cell_type": "code",
   "execution_count": 1,
   "metadata": {},
   "outputs": [],
   "source": [
    "import uproot \n",
    "import numpy as np\n",
    "import pandas as pd\n",
    "#import matplotlib as mpl\n",
    "#mpl.use('Agg')\n",
    "import matplotlib.pyplot as plt\n",
    "#from ROOT import TLorentzVector\n",
    "from pylorentz import Momentum4"
   ]
  },
  {
   "cell_type": "code",
   "execution_count": 2,
   "metadata": {},
   "outputs": [],
   "source": [
    "# read data files\n",
    "tree_tt = uproot.open(\"C:\\\\Users\\\\krist\\\\Downloads\\\\MVAFILE_AllHiggs_tt.root\")[\"ntuple\"]\n",
    "#tree_et = uproot.open(\"/eos/user/k/kgalambo/SWAN_projects/Masters_CP_Kristof_2/MVAFILE_AllHiggs_et.root\")[\"ntuple\"]\n",
    "#tree_mt = uproot.open(\"/eos/user/k/kgalambo/SWAN_projects/Masters_CP_Kristof_2/MVAFILE_AllHiggs_mt.root\")[\"ntuple\"]"
   ]
  },
  {
   "cell_type": "code",
   "execution_count": 3,
   "metadata": {},
   "outputs": [],
   "source": [
    "variables = [\n",
    "    \"wt_cp_sm\", \"wt_cp_ps\", \"wt_cp_mm\", \"rand\",\n",
    "    \"aco_angle_1\", \"aco_angle_6\", \"aco_angle_5\", \"aco_angle_7\", \n",
    "    \"mva_dm_1\", \"mva_dm_2\",\n",
    "    \"tau_decay_mode_1\", \"tau_decay_mode_2\",\n",
    "     \"ip_x_1\", \"ip_y_1\", \"ip_z_1\", \"ip_x_2\", \"ip_y_2\", \"ip_z_2\", # ignore impact parameter for now\n",
    "    \"sv_x_1\", \"sv_y_1\", \"sv_z_1\", \"sv_x_2\", \"sv_y_2\", \"sv_z_2\",\n",
    "    \"pi_px_1\", \"pi_py_1\", \"pi_pz_1\", \"pi_E_1\",\n",
    "    \"pi_px_2\", \"pi_py_2\", \"pi_pz_2\", \"pi_E_2\",\n",
    "    \"pi0_px_1\", \"pi0_py_1\", \"pi0_pz_1\", \"pi0_E_1\",\n",
    "    \"pi0_px_2\", \"pi0_py_2\", \"pi0_pz_2\", \"pi0_E_2\",\n",
    "    \"pi2_px_1\", \"pi2_py_1\", \"pi2_pz_1\", \"pi2_E_1\",\n",
    "    \"pi2_px_2\", \"pi2_py_2\", \"pi2_pz_2\", \"pi2_E_2\",\n",
    "    \"pi3_px_1\", \"pi3_py_1\", \"pi3_pz_1\", \"pi3_E_1\",\n",
    "    \"pi3_px_2\", \"pi3_py_2\", \"pi3_pz_2\", \"pi3_E_2\",\n",
    "    \"y_1_1\", \"y_1_2\"\n",
    "]"
   ]
  },
  {
   "cell_type": "code",
   "execution_count": 4,
   "metadata": {},
   "outputs": [],
   "source": [
    "# WARNING! This line takes a long time\n",
    "df = tree_tt.pandas.df(variables)"
   ]
  },
  {
   "cell_type": "code",
   "execution_count": 5,
   "metadata": {},
   "outputs": [],
   "source": [
    "df_1 = df[\n",
    "      (df[\"tau_decay_mode_1\"] == 1) \n",
    "    & (df[\"tau_decay_mode_2\"] == 1) \n",
    "    & (df[\"mva_dm_1\"] == 1) \n",
    "    & (df[\"mva_dm_2\"] == 1)\n",
    "    # comment some selections to help with stats\n",
    "    #& (df[\"deepTauVsJets_medium_1\"] > 0.5) \n",
    "    #& (df[\"deepTauVsEle_vvloose_1\"] > 0.5)\n",
    "    #& (df[\"deepTauVsMu_vloose_1\"] > 0.5)\n",
    "    #& (df[\"deepTauVsJets_medium_2\"] > 0.5) \n",
    "    #& (df[\"deepTauVsEle_vvloose_2\"] > 0.5)\n",
    "    #& (df[\"deepTauVsMu_vloose_2\"] > 0.5)\n",
    "    #& (df[\"trg_doubletau\"] > 0.5)\n",
    "]\n",
    "\n",
    "df_1 = df_1.drop([\"mva_dm_1\", \"mva_dm_2\", \"tau_decay_mode_1\", \"tau_decay_mode_2\"], axis=1).reset_index(drop=True)\n",
    "\n",
    "df_ps = df_1[\n",
    "      (df_1[\"rand\"]<df_1[\"wt_cp_ps\"]/2)\n",
    "]\n",
    "\n",
    "df_sm = df_1[\n",
    "      (df_1[\"rand\"]<df_1[\"wt_cp_sm\"]/2)\n",
    "]\n"
   ]
  },
  {
   "cell_type": "code",
   "execution_count": 6,
   "metadata": {},
   "outputs": [],
   "source": [
    "df_rhoa1 = df[(df['mva_dm_1']==1) & (df['mva_dm_2']==10) & (df[\"tau_decay_mode_1\"] == 1)]\n",
    "\n",
    "df_rhoa1 = df_rhoa1.drop([\"mva_dm_1\", \"mva_dm_2\", \"tau_decay_mode_1\", \"tau_decay_mode_2\"], axis=1).reset_index(drop=True)\n",
    "\n",
    "df_rhoa1_ps = df_rhoa1[\n",
    "      (df_rhoa1[\"rand\"]<df_rhoa1[\"wt_cp_ps\"]/2)\n",
    "]\n",
    "\n",
    "df_rhoa1_sm = df_rhoa1[\n",
    "      (df_rhoa1[\"rand\"]<df_rhoa1[\"wt_cp_sm\"]/2)\n",
    "]"
   ]
  },
  {
   "cell_type": "code",
   "execution_count": 7,
   "metadata": {},
   "outputs": [],
   "source": [
    "aco_1_sm = df_sm['aco_angle_1']\n",
    "aco_1_ps = df_ps['aco_angle_1']\n",
    "aco_6_sm = df_sm['aco_angle_6']\n",
    "aco_6_ps = df_ps['aco_angle_6']\n",
    "aco_5_sm = df_sm['aco_angle_5']\n",
    "aco_5_ps = df_ps['aco_angle_5']\n",
    "aco_7_sm = df_sm['aco_angle_7']\n",
    "aco_7_ps = df_ps['aco_angle_7']"
   ]
  },
  {
   "cell_type": "code",
   "execution_count": 8,
   "metadata": {},
   "outputs": [],
   "source": [
    "aco_1_sm_rhoa1 = df_rhoa1_sm['aco_angle_1']\n",
    "aco_1_ps_rhoa1 = df_rhoa1_ps['aco_angle_1']\n",
    "aco_6_sm_rhoa1 = df_rhoa1_sm['aco_angle_6']\n",
    "aco_6_ps_rhoa1 = df_rhoa1_ps['aco_angle_6']\n",
    "aco_5_sm_rhoa1 = df_rhoa1_sm['aco_angle_5']\n",
    "aco_5_ps_rhoa1 = df_rhoa1_ps['aco_angle_5']\n",
    "aco_7_sm_rhoa1 = df_rhoa1_sm['aco_angle_7']\n",
    "aco_7_ps_rhoa1 = df_rhoa1_ps['aco_angle_7']"
   ]
  },
  {
   "cell_type": "code",
   "execution_count": 9,
   "metadata": {},
   "outputs": [],
   "source": [
    "# OLD VERSION!!!\n",
    "def calculate_aco_angles_old(dataset):\n",
    "    angles = []\n",
    "    for i in range(len(dataset)):\n",
    "        px3 = dataset[\"pi_px_1\"].iloc[i]\n",
    "        py3 = dataset[\"pi_py_1\"].iloc[i]\n",
    "        pz3 = dataset[\"pi_pz_1\"].iloc[i]\n",
    "        E3 = dataset[\"pi_E_1\"].iloc[i]\n",
    "        px4 = dataset[\"pi_px_2\"].iloc[i]\n",
    "        py4 = dataset[\"pi_py_2\"].iloc[i]\n",
    "        pz4 = dataset[\"pi_pz_2\"].iloc[i]\n",
    "        E4 = dataset[\"pi_E_2\"].iloc[i]\n",
    "        p3 = Momentum4(E3, px3, py3, pz3)\n",
    "        p4 = Momentum4(E4, px4, py4, pz4)\n",
    "        cm = p3 + p4\n",
    "\n",
    "        px1 = dataset[\"pi0_px_1\"].iloc[i]\n",
    "        py1 = dataset[\"pi0_py_1\"].iloc[i]\n",
    "        pz1 = dataset[\"pi0_pz_1\"].iloc[i]\n",
    "        E1 = dataset[\"pi0_E_1\"].iloc[i]\n",
    "        px2 = dataset[\"pi0_px_2\"].iloc[i]\n",
    "        py2 = dataset[\"pi0_py_2\"].iloc[i]\n",
    "        pz2 = dataset[\"pi0_pz_2\"].iloc[i]\n",
    "        E2 = dataset[\"pi0_E_2\"].iloc[i]\n",
    "        p1 = Momentum4(E1, px1, py1, pz1)\n",
    "        p2 = Momentum4(E2, px2, py2, pz2)\n",
    "        \n",
    "        y1 = dataset[\"y_1_1\"].iloc[i]\n",
    "        y2 = dataset[\"y_1_2\"].iloc[i]\n",
    "\n",
    "        p3 = p3.boost_particle(-cm)\n",
    "        p4 = p4.boost_particle(-cm)\n",
    "        p1 = p1.boost_particle(-cm)\n",
    "        p2 = p2.boost_particle(-cm)\n",
    "\n",
    "        def unit(vect):\n",
    "            return vect / np.linalg.norm(vect)\n",
    "        \n",
    "        n1 = p1[1:] - np.dot(p1[1:], unit(p3[1:])) * unit(p3[1:])\n",
    "        n2 = p2[1:] - np.dot(p2[1:], unit(p4[1:])) * unit(p4[1:])\n",
    "        n1 = unit(n1)\n",
    "        n2 = unit(n2)\n",
    "\n",
    "        angle = np.arccos(np.dot(n1, n2))\n",
    "        sign = np.dot(unit(p4[1:]), np.cross(n1, n2))\n",
    "\n",
    "        # shift 1\n",
    "        if sign < 0:\n",
    "            angle = 2 * np.pi - angle\n",
    "\n",
    "        # shift 2\n",
    "        if y1*y2 < 0:\n",
    "            if angle < np.pi:\n",
    "                angle += np.pi\n",
    "            else:\n",
    "                angle -= np.pi\n",
    "\n",
    "        angles.append(angle)\n",
    "\n",
    "        if i%100000==0:\n",
    "            print('finished element', i)\n",
    "            \n",
    "    return angles"
   ]
  },
  {
   "cell_type": "code",
   "execution_count": 52,
   "metadata": {},
   "outputs": [],
   "source": [
    "def calculate_aco_angles(dataset, which_aco_angle=1):\n",
    "        pi_1 = dataset[['pi_E_1', 'pi_px_1', 'pi_py_1', 'pi_pz_1']].to_numpy()\n",
    "        pi_2 = dataset[['pi_E_2', 'pi_px_2', 'pi_py_2', 'pi_pz_2']].to_numpy()\n",
    "        pi0_1 = dataset[['pi0_E_1', 'pi0_px_1', 'pi0_py_1', 'pi0_pz_1']].to_numpy()\n",
    "        pi0_2 = dataset[['pi0_E_2', 'pi0_px_2', 'pi0_py_2', 'pi0_pz_2']].to_numpy()\n",
    "        \n",
    "        ip_1 = dataset[[\"ip_x_1\", \"ip_y_1\", \"ip_z_1\"]].to_numpy()\n",
    "        ip_2 = dataset[[\"ip_x_2\", \"ip_y_2\", \"ip_z_2\"]].to_numpy()\n",
    "        zeros_1 = np.reshape(np.zeros(len(ip_1)), (-1, 1))\n",
    "        zeros_2 = np.reshape(np.zeros(len(ip_2)), (-1, 1))\n",
    "        ip_1 = np.concatenate([zeros_1, ip_1], axis=1)\n",
    "        ip_2 = np.concatenate([zeros_2, ip_2], axis=1)\n",
    "        \n",
    "        y1 = dataset['y_1_1'].to_numpy()\n",
    "        y2 = dataset['y_1_2'].to_numpy()\n",
    "        \n",
    "        p3 = Momentum4(pi_1[:, 0], pi_1[:, 1], pi_1[:, 2], pi_1[:, 3]) # p3 = charged pion 1\n",
    "        p4 = Momentum4(pi_2[:, 0], pi_2[:, 1], pi_2[:, 2], pi_2[:, 3]) # p4 = charged pion 2\n",
    "        \n",
    "        if which_aco_angle == 1:\n",
    "            p1 = Momentum4(pi0_1[:, 0], pi0_1[:, 1], pi0_1[:, 2], pi0_1[:, 3]) # p1 = neutral pion 1\n",
    "            p2 = Momentum4(pi0_2[:, 0], pi0_2[:, 1], pi0_2[:, 2], pi0_2[:, 3]) # p2 = neutral pion 2\n",
    "        elif which_aco_angle == 6:\n",
    "            p1 = Momentum4(ip_1[:, 0], ip_1[:, 1], ip_1[:, 2], ip_1[:, 3]) # p1 = impact parameter 1\n",
    "            p2 = Momentum4(ip_2[:, 0], ip_2[:, 1], ip_2[:, 2], ip_2[:, 3]) # p2 = impact parameter 2\n",
    "        elif which_aco_angle == 5:\n",
    "            p1 = Momentum4(ip_1[:, 0], ip_1[:, 1], ip_1[:, 2], ip_1[:, 3]) # p1 = impact parameter 1\n",
    "            p2 = Momentum4(pi0_2[:, 0], pi0_2[:, 1], pi0_2[:, 2], pi0_2[:, 3]) # p2 = neutral pion 2\n",
    "        elif which_aco_angle == 7:\n",
    "            p1 = Momentum4(pi0_1[:, 0], pi0_1[:, 1], pi0_1[:, 2], pi0_1[:, 3]) # p1 = neutral pion 1\n",
    "            p2 = Momentum4(ip_2[:, 0], ip_2[:, 1], ip_2[:, 2], ip_2[:, 3]) # p2 = impact parameter 2\n",
    "            \n",
    "        elif which_aco_angle == 'rhoa1-1': # first a few guessings (I didn't know what this was), but then I have a result with pi0_1, pi2_2, pi_1, pi_2\n",
    "            # this gives a good distribution, but no separation between sm and ps:\n",
    "            #p1 = Momentum4(ip_1[:, 0], ip_1[:, 1], ip_1[:, 2], ip_1[:, 3]) # p1 = impact parameter 1\n",
    "            #p2 = Momentum4(ip_2[:, 0], ip_2[:, 1], ip_2[:, 2], ip_2[:, 3]) # p2 = impact parameter 2\n",
    "            \n",
    "            # this gives a flat distribution\n",
    "            #p1 = Momentum4(pi0_1[:, 0], pi0_1[:, 1], pi0_1[:, 2], pi0_1[:, 3]) # p1 = neutral pion 1\n",
    "            #p2 = Momentum4(ip_2[:, 0], ip_2[:, 1], ip_2[:, 2], ip_2[:, 3]) # p2 = impact parameter 2\n",
    "            \n",
    "            # this gives a distribution similar to given aco_angle_1 for rho-a1 channel\n",
    "            pi2_1 = dataset[['pi2_E_1', 'pi2_px_1', 'pi2_py_1', 'pi2_pz_1']].to_numpy() # empty!!!\n",
    "            pi2_2 = dataset[['pi2_E_2', 'pi2_px_2', 'pi2_py_2', 'pi2_pz_2']].to_numpy()\n",
    "            p1 = Momentum4(pi0_1[:, 0], pi0_1[:, 1], pi0_1[:, 2], pi0_1[:, 3]) # p1 = neutral pion 1\n",
    "            #p1 = Momentum4(pi2_1[:, 0], pi2_1[:, 1], pi2_1[:, 2], pi2_1[:, 3]) # second charged pion 1 - this is empty!\n",
    "            p2 = Momentum4(pi2_2[:, 0], pi2_2[:, 1], pi2_2[:, 2], pi2_2[:, 3]) # p2 = second charged pion 2\n",
    "            \n",
    "        elif which_aco_angle == 'rhoa1-2':  # first a few guessings (I didn't know what this was), but then I have a result with pi0_1, pi2_2+pi3_2, pi_1, pi_2\n",
    "            pi2_1 = dataset[['pi2_E_1', 'pi2_px_1', 'pi2_py_1', 'pi2_pz_1']].to_numpy() # empty!!!\n",
    "            pi2_2 = dataset[['pi2_E_2', 'pi2_px_2', 'pi2_py_2', 'pi2_pz_2']].to_numpy()\n",
    "            pi2 = Momentum4(pi2_2[:, 0], pi2_2[:, 1], pi2_2[:, 2], pi2_2[:, 3]) # pi2 = second charged pion 2\n",
    "            pi0 = Momentum4(pi0_1[:, 0], pi0_1[:, 1], pi0_1[:, 2], pi0_1[:, 3]) # pi0 = neutral pion 1\n",
    "            pi3_1 = dataset[['pi3_E_1', 'pi3_px_1', 'pi3_py_1', 'pi3_pz_1']].to_numpy() # empty!!!\n",
    "            pi3_2 = dataset[['pi3_E_2', 'pi3_px_2', 'pi3_py_2', 'pi3_pz_2']].to_numpy()\n",
    "            pi3 = Momentum4(pi3_2[:, 0], pi3_2[:, 1], pi3_2[:, 2], pi3_2[:, 3]) # pi3 = third carged pion 3\n",
    "            \n",
    "            # this gives 3 spikes at 0, pi and 2*pi\n",
    "            #p1 = pi2 + p4\n",
    "            #p2 = pi2\n",
    "            \n",
    "            # this gives a flat distribution\n",
    "            #p1 = p3 + p4\n",
    "            #p2 = pi2\n",
    "            \n",
    "            # this gives3 spikes at 0, pi and 2*pi\n",
    "            #p1 = pi2 + p3\n",
    "            #p2 = pi2\n",
    "            \n",
    "            # this gives two y+ and x+- shifted parabolas\n",
    "            #p1 = pi2\n",
    "            #p2 = pi3\n",
    "            \n",
    "            # this gives a distribution similar to given aco_angle_1 for rho-a1 channel\n",
    "            p1 = pi0\n",
    "            p2 = pi2 + pi3\n",
    "            \n",
    "        elif which_aco_angle == 'rhoa1-3': # this is some new aco_angle\n",
    "            pi2_2 = dataset[['pi2_E_2', 'pi2_px_2', 'pi2_py_2', 'pi2_pz_2']].to_numpy()\n",
    "            pi3_2 = dataset[['pi3_E_2', 'pi3_px_2', 'pi3_py_2', 'pi3_pz_2']].to_numpy()\n",
    "            pi0 = Momentum4(pi0_1[:, 0], pi0_1[:, 1], pi0_1[:, 2], pi0_1[:, 3]) # pi0 = neutral pion 1\n",
    "            pi2 = Momentum4(pi2_2[:, 0], pi2_2[:, 1], pi2_2[:, 2], pi2_2[:, 3]) # pi2 = second charged pion 2\n",
    "            pi3 = Momentum4(pi3_2[:, 0], pi3_2[:, 1], pi3_2[:, 2], pi3_2[:, 3]) # pi3 = third carged pion 3\n",
    "            \n",
    "            # this gives something good ;-)\n",
    "            p1 = pi0\n",
    "            p2 = pi2 + p3\n",
    "            p3 = pi3 + p3\n",
    "            \n",
    "        # is there a better method than just guessing?\n",
    "        \n",
    "        elif which_aco_angle == 'rhoa1-4': # this is after a clever thought process\n",
    "            pi2_2 = dataset[['pi2_E_2', 'pi2_px_2', 'pi2_py_2', 'pi2_pz_2']].to_numpy()\n",
    "            pi3_2 = dataset[['pi3_E_2', 'pi3_px_2', 'pi3_py_2', 'pi3_pz_2']].to_numpy()\n",
    "            pi0 = Momentum4(pi0_1[:, 0], pi0_1[:, 1], pi0_1[:, 2], pi0_1[:, 3]) # pi0 = neutral pion 1\n",
    "            pi2 = Momentum4(pi2_2[:, 0], pi2_2[:, 1], pi2_2[:, 2], pi2_2[:, 3]) # pi2 = second charged pion 2\n",
    "            pi3 = Momentum4(pi3_2[:, 0], pi3_2[:, 1], pi3_2[:, 2], pi3_2[:, 3]) # pi3 = third carged pion 3\n",
    "            # p3 = pi_1\n",
    "            # p4 = pi_2\n",
    "            \n",
    "            # this gives something good, I think a new aco_angle\n",
    "            p1 = p4\n",
    "            p2 = pi0\n",
    "            p3 = p3 + pi2\n",
    "            p4 = pi3\n",
    "            \n",
    "        elif which_aco_angle == 'rhoa1-5': # this is the same though process as rhoa1-4, but I think it's corrected, because particle 1 and particle 3 are the same composite particle\n",
    "            pi2_2 = dataset[['pi2_E_2', 'pi2_px_2', 'pi2_py_2', 'pi2_pz_2']].to_numpy()\n",
    "            pi3_2 = dataset[['pi3_E_2', 'pi3_px_2', 'pi3_py_2', 'pi3_pz_2']].to_numpy()\n",
    "            pi0 = Momentum4(pi0_1[:, 0], pi0_1[:, 1], pi0_1[:, 2], pi0_1[:, 3]) # pi0 = neutral pion 1\n",
    "            pi2 = Momentum4(pi2_2[:, 0], pi2_2[:, 1], pi2_2[:, 2], pi2_2[:, 3]) # pi2 = second charged pion 2\n",
    "            pi3 = Momentum4(pi3_2[:, 0], pi3_2[:, 1], pi3_2[:, 2], pi3_2[:, 3]) # pi3 = third carged pion 3\n",
    "            # p3 = pi_1\n",
    "            # p4 = pi_2\n",
    "            \n",
    "            # this gives?\n",
    "            #p1 = p4\n",
    "            #p2 = p3 + pi2\n",
    "            #p3 = pi0\n",
    "            #p4 = pi3\n",
    "            \n",
    "            # this gives: good distr for the p4+pi3 combination, but bad distr for the p4+pi2 neutral rho\n",
    "            p1 = p3\n",
    "            p2 = p4 + pi2\n",
    "            p3 = pi0\n",
    "            p4 = pi3\n",
    "            \n",
    "        elif which_aco_angle == '5-switched':\n",
    "            p2 = Momentum4(ip_1[:, 0], ip_1[:, 1], ip_1[:, 2], ip_1[:, 3]) # p2 = impact parameter 1\n",
    "            p1 = Momentum4(pi0_2[:, 0], pi0_2[:, 1], pi0_2[:, 2], pi0_2[:, 3]) # p1 = neutral pion 2\n",
    "            \n",
    "        elif which_aco_angle == '5-double-switched':\n",
    "            p2 = Momentum4(ip_1[:, 0], ip_1[:, 1], ip_1[:, 2], ip_1[:, 3]) # p2 = impact parameter 1\n",
    "            p1 = Momentum4(pi0_2[:, 0], pi0_2[:, 1], pi0_2[:, 2], pi0_2[:, 3]) # p1 = neutral pion 2\n",
    "            p3, p4 = p4, p3\n",
    "            \n",
    "        elif which_aco_angle == '6-sv':\n",
    "            #sv_1 = dataset[[\"sv_x_1\", \"sv_y_1\", \"sv_z_1\"]].to_numpy()\n",
    "            sv_2 = dataset[[\"sv_x_2\", \"sv_y_2\", \"sv_z_2\"]].to_numpy()\n",
    "            #zeros_1 = np.reshape(np.zeros(len(sv_1)), (-1, 1))\n",
    "            zeros_2 = np.reshape(np.zeros(len(sv_2)), (-1, 1))\n",
    "            #sv_1 = np.concatenate([zeros_1, sv_1], axis=1)\n",
    "            sv_2 = np.concatenate([zeros_2, sv_2], axis=1)\n",
    "            \n",
    "            p1 = Momentum4(ip_1[:, 0], ip_1[:, 1], ip_1[:, 2], ip_1[:, 3]) # p1 = sv 1\n",
    "            p2 = Momentum4(sv_2[:, 0], sv_2[:, 1], sv_2[:, 2], sv_2[:, 3]) # p2 = sv 2\n",
    "        \n",
    "        elif which_aco_angle == 'rhoa1-Danny':\n",
    "            pi2_2 = dataset[['pi2_E_2', 'pi2_px_2', 'pi2_py_2', 'pi2_pz_2']].to_numpy()\n",
    "            pi3_2 = dataset[['pi3_E_2', 'pi3_px_2', 'pi3_py_2', 'pi3_pz_2']].to_numpy()\n",
    "            pi0 = Momentum4(pi0_1[:, 0], pi0_1[:, 1], pi0_1[:, 2], pi0_1[:, 3]) # pi0 = neutral pion 1\n",
    "            pi2 = Momentum4(pi2_2[:, 0], pi2_2[:, 1], pi2_2[:, 2], pi2_2[:, 3]) # pi2 = second charged pion 2\n",
    "            pi3 = Momentum4(pi3_2[:, 0], pi3_2[:, 1], pi3_2[:, 2], pi3_2[:, 3]) # pi3 = third carged pion 3\n",
    "            # p3 = pi_1\n",
    "            # p4 = pi_2\n",
    "            \n",
    "            # this gives?\n",
    "            p1 = pi0\n",
    "            p2 = p4\n",
    "            #p3 = p3\n",
    "            p4 = pi2     \n",
    "            #raise Exception('I don\\'t know which particles are which')\n",
    "            \n",
    "        else:\n",
    "            print('which_aco_angle not understood!')\n",
    "            \n",
    "        #zmf = p3 + p4 + p1 + p2\n",
    "        zmf = p3 + p4\n",
    "        #zmf = p1 + p2\n",
    "        p3 = p3.boost_particle(-zmf)\n",
    "        p4 = p4.boost_particle(-zmf)\n",
    "        p1 = p1.boost_particle(-zmf)\n",
    "        p2 = p2.boost_particle(-zmf)\n",
    "        \n",
    "        # the mass of the neutral rho\n",
    "        #mass_neutral_rho = (p2[0, :]**2 - p2[1, :]**2 - p2[2, :]**2 - p2[3, :]**2)**0.5\n",
    "        #plt.hist(mass_neutral_rho, bins=50, alpha=0.5)\n",
    "        #plt.title('mass of the neutral rho = pi_2+pi2_2')\n",
    "        \n",
    "        return calc_aco_angles(p1[:].T, p2[:].T, p3[:].T, p4[:].T, y1, y2)\n",
    "\n",
    "        \n",
    "def calc_aco_angles(pp1, pp2, pp3, pp4, yy1, yy2):\n",
    "    angles = []\n",
    "    for i in range(len(pp1)):\n",
    "        p3 = pp3[i]\n",
    "        p4 = pp4[i]\n",
    "        p1 = pp1[i]\n",
    "        p2 = pp2[i]\n",
    "        y1 = yy1[i]\n",
    "        y2 = yy2[i]\n",
    "\n",
    "        def unit(vect):\n",
    "            return vect / np.linalg.norm(vect)\n",
    "        \n",
    "        n1 = p1[1:] - np.dot(p1[1:], unit(p3[1:])) * unit(p3[1:])\n",
    "        n2 = p2[1:] - np.dot(p2[1:], unit(p4[1:])) * unit(p4[1:])\n",
    "        n1 = unit(n1)\n",
    "        n2 = unit(n2)\n",
    "\n",
    "        angle = np.arccos(np.dot(n1, n2))\n",
    "        sign = np.dot(unit(p4[1:]), np.cross(n1, n2))\n",
    "\n",
    "        # shift 1\n",
    "        if sign < 0:\n",
    "            angle = 2 * np.pi - angle\n",
    "\n",
    "        # shift 2\n",
    "        if y1*y2 < 0:\n",
    "            if angle < np.pi:\n",
    "                angle += np.pi\n",
    "            else:\n",
    "                angle -= np.pi\n",
    "\n",
    "        angles.append(angle)\n",
    "\n",
    "        if i%100000==0:\n",
    "            print('finished element', i)\n",
    "            \n",
    "    return angles"
   ]
  },
  {
   "cell_type": "code",
   "execution_count": 11,
   "metadata": {},
   "outputs": [],
   "source": [
    "def filter_acos(arr):\n",
    "    return np.array([x for x in arr if x>=0 and x<=2*np.pi])"
   ]
  },
  {
   "cell_type": "markdown",
   "metadata": {},
   "source": [
    "# 1. Rho-rho Channel"
   ]
  },
  {
   "cell_type": "markdown",
   "metadata": {},
   "source": [
    "### aco_angle_1"
   ]
  },
  {
   "cell_type": "code",
   "execution_count": 53,
   "metadata": {},
   "outputs": [
    {
     "name": "stdout",
     "output_type": "stream",
     "text": [
      "finished element 0\n",
      "finished element 100000\n",
      "finished element 200000\n",
      "finished element 300000\n",
      "finished element 0\n",
      "finished element 100000\n",
      "finished element 200000\n",
      "finished element 300000\n"
     ]
    }
   ],
   "source": [
    "sm_aco = calculate_aco_angles(df_sm)\n",
    "ps_aco = calculate_aco_angles(df_ps)"
   ]
  },
  {
   "cell_type": "code",
   "execution_count": 54,
   "metadata": {},
   "outputs": [
    {
     "data": {
      "text/plain": [
       "Text(0.5, 1.0, 'calculated aco_angle_1')"
      ]
     },
     "execution_count": 54,
     "metadata": {},
     "output_type": "execute_result"
    },
    {
     "data": {
      "image/png": "[encoded data removed]",
      "text/plain": [
       "<Figure size 432x288 with 1 Axes>"
      ]
     },
     "metadata": {
      "needs_background": "light"
     },
     "output_type": "display_data"
    }
   ],
   "source": [
    "fig, ax = plt.subplots()\n",
    "ax.hist(ps_aco, bins=50, alpha=0.5)\n",
    "ax.hist(sm_aco, bins=50, alpha=0.5)\n",
    "plt.title('calculated aco_angle_1')"
   ]
  },
  {
   "cell_type": "code",
   "execution_count": 66,
   "metadata": {},
   "outputs": [
    {
     "data": {
      "text/plain": [
       "Text(0.5, 1.0, 'given aco_angle_1')"
      ]
     },
     "execution_count": 66,
     "metadata": {},
     "output_type": "execute_result"
    },
    {
     "data": {
      "image/png": "[encoded data removed]",
      "text/plain": [
       "<Figure size 432x288 with 1 Axes>"
      ]
     },
     "metadata": {
      "needs_background": "light"
     },
     "output_type": "display_data"
    }
   ],
   "source": [
    "fig, ax = plt.subplots()\n",
    "ax.hist(aco_1_ps.to_numpy(), bins=50, alpha=0.5)\n",
    "ax.hist(aco_1_sm.to_numpy(), bins=50, alpha=0.5)\n",
    "plt.title('given aco_angle_1')"
   ]
  },
  {
   "cell_type": "markdown",
   "metadata": {},
   "source": [
    "## Other aco_angles"
   ]
  },
  {
   "cell_type": "markdown",
   "metadata": {},
   "source": [
    "### aco_angle_6"
   ]
  },
  {
   "cell_type": "code",
   "execution_count": 59,
   "metadata": {},
   "outputs": [
    {
     "name": "stdout",
     "output_type": "stream",
     "text": [
      "finished element 0\n",
      "finished element 100000\n",
      "finished element 200000\n",
      "finished element 300000\n",
      "finished element 0\n",
      "finished element 100000\n",
      "finished element 200000\n",
      "finished element 300000\n"
     ]
    }
   ],
   "source": [
    "sm_aco_6 = calculate_aco_angles(df_sm, which_aco_angle=6)\n",
    "ps_aco_6 = calculate_aco_angles(df_ps, which_aco_angle=6)"
   ]
  },
  {
   "cell_type": "code",
   "execution_count": 60,
   "metadata": {},
   "outputs": [
    {
     "data": {
      "text/plain": [
       "Text(0.5, 1.0, 'calculated aco_angle_6')"
      ]
     },
     "execution_count": 60,
     "metadata": {},
     "output_type": "execute_result"
    },
    {
     "data": {
      "image/png": "[encoded data removed]",
      "text/plain": [
       "<Figure size 432x288 with 1 Axes>"
      ]
     },
     "metadata": {
      "needs_background": "light"
     },
     "output_type": "display_data"
    }
   ],
   "source": [
    "fig, ax = plt.subplots()\n",
    "ax.hist(ps_aco_6, bins=50, alpha=0.5)\n",
    "ax.hist(sm_aco_6, bins=50, alpha=0.5)\n",
    "plt.title('calculated aco_angle_6')"
   ]
  },
  {
   "cell_type": "code",
   "execution_count": 84,
   "metadata": {},
   "outputs": [
    {
     "data": {
      "text/plain": [
       "Text(0.5, 1.0, 'given aco_angle_6')"
      ]
     },
     "execution_count": 84,
     "metadata": {},
     "output_type": "execute_result"
    },
    {
     "data": {
      "image/png": "[encoded data removed]",
      "text/plain": [
       "<Figure size 432x288 with 1 Axes>"
      ]
     },
     "metadata": {
      "needs_background": "light"
     },
     "output_type": "display_data"
    }
   ],
   "source": [
    "fig, ax = plt.subplots()\n",
    "ax.hist(filter_acos(aco_6_ps.to_numpy()), bins=50, alpha=0.5)\n",
    "ax.hist(filter_acos(aco_6_sm.to_numpy()), bins=50, alpha=0.5)\n",
    "plt.title('given aco_angle_6')"
   ]
  },
  {
   "cell_type": "markdown",
   "metadata": {},
   "source": [
    "### aco_angle_5"
   ]
  },
  {
   "cell_type": "code",
   "execution_count": 44,
   "metadata": {},
   "outputs": [
    {
     "name": "stdout",
     "output_type": "stream",
     "text": [
      "finished element 0\n",
      "finished element 100000\n",
      "finished element 200000\n",
      "finished element 300000\n",
      "finished element 0\n",
      "finished element 100000\n",
      "finished element 200000\n",
      "finished element 300000\n"
     ]
    }
   ],
   "source": [
    "sm_aco_5 = calculate_aco_angles(df_sm, which_aco_angle=5)\n",
    "ps_aco_5 = calculate_aco_angles(df_ps, which_aco_angle=5)"
   ]
  },
  {
   "cell_type": "code",
   "execution_count": 45,
   "metadata": {},
   "outputs": [
    {
     "data": {
      "text/plain": [
       "Text(0.5, 1.0, 'calculated aco_angle_5')"
      ]
     },
     "execution_count": 45,
     "metadata": {},
     "output_type": "execute_result"
    },
    {
     "data": {
      "image/png": "[encoded data removed]",
      "text/plain": [
       "<Figure size 432x288 with 1 Axes>"
      ]
     },
     "metadata": {
      "needs_background": "light"
     },
     "output_type": "display_data"
    }
   ],
   "source": [
    "fig, ax = plt.subplots()\n",
    "ax.hist(ps_aco_5, bins=50, alpha=0.5)\n",
    "ax.hist(sm_aco_5, bins=50, alpha=0.5)\n",
    "plt.title('calculated aco_angle_5')"
   ]
  },
  {
   "cell_type": "code",
   "execution_count": 20,
   "metadata": {},
   "outputs": [
    {
     "data": {
      "text/plain": [
       "Text(0.5, 1.0, 'given aco_angle_5')"
      ]
     },
     "execution_count": 20,
     "metadata": {},
     "output_type": "execute_result"
    },
    {
     "data": {
      "image/png": "[encoded data removed]",
      "text/plain": [
       "<Figure size 432x288 with 1 Axes>"
      ]
     },
     "metadata": {
      "needs_background": "light"
     },
     "output_type": "display_data"
    }
   ],
   "source": [
    "fig, ax = plt.subplots()\n",
    "ax.hist(filter_acos(aco_5_ps.to_numpy()), bins=50, alpha=0.5)\n",
    "ax.hist(filter_acos(aco_5_sm.to_numpy()), bins=50, alpha=0.5)\n",
    "plt.title('given aco_angle_5')"
   ]
  },
  {
   "cell_type": "markdown",
   "metadata": {},
   "source": [
    "### aco_angle_7"
   ]
  },
  {
   "cell_type": "code",
   "execution_count": 90,
   "metadata": {},
   "outputs": [
    {
     "name": "stdout",
     "output_type": "stream",
     "text": [
      "finished element 0\n",
      "finished element 100000\n",
      "finished element 200000\n",
      "finished element 300000\n",
      "finished element 0\n",
      "finished element 100000\n",
      "finished element 200000\n",
      "finished element 300000\n"
     ]
    }
   ],
   "source": [
    "sm_aco_7 = calculate_aco_angles(df_sm, which_aco_angle=7)\n",
    "ps_aco_7 = calculate_aco_angles(df_ps, which_aco_angle=7)"
   ]
  },
  {
   "cell_type": "code",
   "execution_count": 92,
   "metadata": {},
   "outputs": [
    {
     "data": {
      "text/plain": [
       "Text(0.5, 1.0, 'calculated aco_angle_7')"
      ]
     },
     "execution_count": 92,
     "metadata": {},
     "output_type": "execute_result"
    },
    {
     "data": {
      "image/png": "[encoded data removed]",
      "text/plain": [
       "<Figure size 432x288 with 1 Axes>"
      ]
     },
     "metadata": {
      "needs_background": "light"
     },
     "output_type": "display_data"
    }
   ],
   "source": [
    "fig, ax = plt.subplots()\n",
    "ax.hist(ps_aco_7, bins=50, alpha=0.5)\n",
    "ax.hist(sm_aco_7, bins=50, alpha=0.5)\n",
    "plt.title('calculated aco_angle_7')"
   ]
  },
  {
   "cell_type": "code",
   "execution_count": 89,
   "metadata": {},
   "outputs": [
    {
     "data": {
      "text/plain": [
       "Text(0.5, 1.0, 'given aco_angle_7')"
      ]
     },
     "execution_count": 89,
     "metadata": {},
     "output_type": "execute_result"
    },
    {
     "data": {
      "image/png": "[encoded data removed]",
      "text/plain": [
       "<Figure size 432x288 with 1 Axes>"
      ]
     },
     "metadata": {
      "needs_background": "light"
     },
     "output_type": "display_data"
    }
   ],
   "source": [
    "fig, ax = plt.subplots()\n",
    "ax.hist(filter_acos(aco_7_ps.to_numpy()), bins=50, alpha=0.5)\n",
    "ax.hist(filter_acos(aco_7_sm.to_numpy()), bins=50, alpha=0.5)\n",
    "plt.title('given aco_angle_7')"
   ]
  },
  {
   "cell_type": "markdown",
   "metadata": {},
   "source": [
    "# 2. Rho-a1 Channel"
   ]
  },
  {
   "cell_type": "markdown",
   "metadata": {},
   "source": [
    "### rho-a1 channel aco_angle_1\n",
    "\n",
    "This seems to make sense..."
   ]
  },
  {
   "cell_type": "code",
   "execution_count": 11,
   "metadata": {},
   "outputs": [
    {
     "name": "stderr",
     "output_type": "stream",
     "text": [
      "C:\\Users\\krist\\anaconda3\\lib\\site-packages\\pylorentz\\__init__.py:366: ComplexWarning: Casting complex values to real discards the imaginary part\n",
      "  B[0, 1:, ] = bp\n",
      "C:\\Users\\krist\\anaconda3\\lib\\site-packages\\pylorentz\\__init__.py:367: ComplexWarning: Casting complex values to real discards the imaginary part\n",
      "  B[1:, 0, ] = bp\n"
     ]
    },
    {
     "name": "stdout",
     "output_type": "stream",
     "text": [
      "finished element 0\n"
     ]
    },
    {
     "name": "stderr",
     "output_type": "stream",
     "text": [
      "C:\\Users\\krist\\anaconda3\\lib\\site-packages\\ipykernel_launcher.py:115: RuntimeWarning: invalid value encountered in true_divide\n"
     ]
    },
    {
     "name": "stdout",
     "output_type": "stream",
     "text": [
      "finished element 100000\n",
      "finished element 0\n",
      "finished element 100000\n"
     ]
    }
   ],
   "source": [
    "rhoa1_sm_aco_1 = calculate_aco_angles(df_rhoa1_sm, which_aco_angle='rhoa1-1')\n",
    "rhoa1_ps_aco_1 = calculate_aco_angles(df_rhoa1_ps, which_aco_angle='rhoa1-1')"
   ]
  },
  {
   "cell_type": "code",
   "execution_count": 12,
   "metadata": {},
   "outputs": [
    {
     "name": "stderr",
     "output_type": "stream",
     "text": [
      "C:\\Users\\krist\\anaconda3\\lib\\site-packages\\numpy\\lib\\histograms.py:836: RuntimeWarning: invalid value encountered in greater_equal\n",
      "  keep = (tmp_a >= first_edge)\n",
      "C:\\Users\\krist\\anaconda3\\lib\\site-packages\\numpy\\lib\\histograms.py:837: RuntimeWarning: invalid value encountered in less_equal\n",
      "  keep &= (tmp_a <= last_edge)\n",
      "C:\\Users\\krist\\anaconda3\\lib\\site-packages\\numpy\\lib\\histograms.py:851: ComplexWarning: Casting complex values to real discards the imaginary part\n",
      "  indices = f_indices.astype(np.intp)\n",
      "C:\\Users\\krist\\anaconda3\\lib\\site-packages\\matplotlib\\transforms.py:796: ComplexWarning: Casting complex values to real discards the imaginary part\n",
      "  points = np.array(args, dtype=float).reshape(2, 2)\n",
      "C:\\Users\\krist\\anaconda3\\lib\\site-packages\\matplotlib\\transforms.py:1959: ComplexWarning: Casting complex values to real discards the imaginary part\n",
      "  x, y = float(x), float(y)\n"
     ]
    },
    {
     "data": {
      "text/plain": [
       "Text(0.5, 1.0, 'calculated aco_angle ?1? for rho-a1 channel')"
      ]
     },
     "execution_count": 12,
     "metadata": {},
     "output_type": "execute_result"
    },
    {
     "data": {
      "image/png": "[encoded data removed]",
      "text/plain": [
       "<Figure size 432x288 with 1 Axes>"
      ]
     },
     "metadata": {
      "needs_background": "light"
     },
     "output_type": "display_data"
    }
   ],
   "source": [
    "fig, ax = plt.subplots()\n",
    "ax.hist(rhoa1_ps_aco_1, bins=50, alpha=0.5)\n",
    "ax.hist(rhoa1_sm_aco_1, bins=50, alpha=0.5)\n",
    "plt.title('calculated aco_angle ?1? for rho-a1 channel')"
   ]
  },
  {
   "cell_type": "code",
   "execution_count": 15,
   "metadata": {},
   "outputs": [
    {
     "data": {
      "text/plain": [
       "Text(0.5, 1.0, 'given aco_angle_1 in rho-a1 channel')"
      ]
     },
     "execution_count": 15,
     "metadata": {},
     "output_type": "execute_result"
    },
    {
     "data": {
      "image/png": "[encoded data removed]",
      "text/plain": [
       "<Figure size 432x288 with 1 Axes>"
      ]
     },
     "metadata": {
      "needs_background": "light"
     },
     "output_type": "display_data"
    }
   ],
   "source": [
    "# THERE IS NOTHING TO COMPARE THIS TO!!! OR MAYBE THERE IS?\n",
    "fig, ax = plt.subplots()\n",
    "ax.hist(filter_acos(aco_1_ps_rhoa1.to_numpy()), bins=50, alpha=0.5)\n",
    "ax.hist(filter_acos(aco_1_sm_rhoa1.to_numpy()), bins=50, alpha=0.5)\n",
    "plt.title('given aco_angle_1 in rho-a1 channel')"
   ]
  },
  {
   "cell_type": "markdown",
   "metadata": {},
   "source": [
    "### rho-a1 channel aco_angle_2\n",
    "\n",
    "This looks similar to ?1?, but it could make sense."
   ]
  },
  {
   "cell_type": "code",
   "execution_count": 16,
   "metadata": {},
   "outputs": [
    {
     "name": "stdout",
     "output_type": "stream",
     "text": [
      "finished element 0\n"
     ]
    },
    {
     "name": "stderr",
     "output_type": "stream",
     "text": [
      "C:\\Users\\krist\\anaconda3\\lib\\site-packages\\ipykernel_launcher.py:115: RuntimeWarning: invalid value encountered in true_divide\n"
     ]
    },
    {
     "name": "stdout",
     "output_type": "stream",
     "text": [
      "finished element 100000\n",
      "finished element 0\n",
      "finished element 100000\n"
     ]
    }
   ],
   "source": [
    "rhoa1_sm_aco_2 = calculate_aco_angles(df_rhoa1_sm, which_aco_angle='rhoa1-2')\n",
    "rhoa1_ps_aco_2 = calculate_aco_angles(df_rhoa1_ps, which_aco_angle='rhoa1-2')"
   ]
  },
  {
   "cell_type": "code",
   "execution_count": 17,
   "metadata": {},
   "outputs": [
    {
     "data": {
      "text/plain": [
       "Text(0.5, 1.0, 'calculated aco_angle ?2? for rho-a1 channel')"
      ]
     },
     "execution_count": 17,
     "metadata": {},
     "output_type": "execute_result"
    },
    {
     "data": {
      "image/png": "[encoded data removed]",
      "text/plain": [
       "<Figure size 432x288 with 1 Axes>"
      ]
     },
     "metadata": {
      "needs_background": "light"
     },
     "output_type": "display_data"
    }
   ],
   "source": [
    "fig, ax = plt.subplots()\n",
    "ax.hist(rhoa1_ps_aco_2, bins=50, alpha=0.5)\n",
    "ax.hist(rhoa1_sm_aco_2, bins=50, alpha=0.5)\n",
    "plt.title('calculated aco_angle ?2? for rho-a1 channel')"
   ]
  },
  {
   "cell_type": "markdown",
   "metadata": {},
   "source": [
    "### rho-a1 channel aco_angle_3\n",
    "\n",
    "This gives a nice distribution, but theoretically it doesn't make sense to mix these particles."
   ]
  },
  {
   "cell_type": "code",
   "execution_count": 18,
   "metadata": {},
   "outputs": [
    {
     "name": "stdout",
     "output_type": "stream",
     "text": [
      "finished element 0\n"
     ]
    },
    {
     "name": "stderr",
     "output_type": "stream",
     "text": [
      "C:\\Users\\krist\\anaconda3\\lib\\site-packages\\ipykernel_launcher.py:115: RuntimeWarning: invalid value encountered in true_divide\n"
     ]
    },
    {
     "name": "stdout",
     "output_type": "stream",
     "text": [
      "finished element 100000\n",
      "finished element 0\n",
      "finished element 100000\n"
     ]
    }
   ],
   "source": [
    "rhoa1_sm_aco_3 = calculate_aco_angles(df_rhoa1_sm, which_aco_angle='rhoa1-3')\n",
    "rhoa1_ps_aco_3 = calculate_aco_angles(df_rhoa1_ps, which_aco_angle='rhoa1-3')"
   ]
  },
  {
   "cell_type": "code",
   "execution_count": 19,
   "metadata": {},
   "outputs": [
    {
     "data": {
      "text/plain": [
       "Text(0.5, 1.0, 'calculated aco_angle ?3? for rho-a1 channel')"
      ]
     },
     "execution_count": 19,
     "metadata": {},
     "output_type": "execute_result"
    },
    {
     "data": {
      "image/png": "[encoded data removed]",
      "text/plain": [
       "<Figure size 432x288 with 1 Axes>"
      ]
     },
     "metadata": {
      "needs_background": "light"
     },
     "output_type": "display_data"
    }
   ],
   "source": [
    "fig, ax = plt.subplots()\n",
    "ax.hist(rhoa1_ps_aco_3, bins=50, alpha=0.5)\n",
    "ax.hist(rhoa1_sm_aco_3, bins=50, alpha=0.5)\n",
    "plt.title('calculated aco_angle ?3? for rho-a1 channel')"
   ]
  },
  {
   "cell_type": "markdown",
   "metadata": {},
   "source": [
    "### rho-a1 channel aco_angle_4\n",
    "\n",
    "Let's think this through:\n",
    "\n",
    "We have pi_1, pi_2, pi0_1, pi2_2, pi3_2. pi always has opposite charge to pi2 and pi3.\n",
    "\n",
    "The products are a charged rho and a charged a1.\n",
    "\n",
    "The first charged rho could be eg. pi_2+pi0_1.\n",
    "\n",
    "a1 is made up of a neutral rho and one other particle, but is overall charged, so it could be that its neutral rho is pi_1+pi2_2 or pi_1+pi3_2, and what gives it the overall charge is pi2_2 or pi3_2."
   ]
  },
  {
   "cell_type": "code",
   "execution_count": 25,
   "metadata": {},
   "outputs": [
    {
     "name": "stdout",
     "output_type": "stream",
     "text": [
      "finished element 0\n"
     ]
    },
    {
     "name": "stderr",
     "output_type": "stream",
     "text": [
      "C:\\Users\\krist\\anaconda3\\lib\\site-packages\\ipykernel_launcher.py:130: RuntimeWarning: invalid value encountered in true_divide\n"
     ]
    },
    {
     "name": "stdout",
     "output_type": "stream",
     "text": [
      "finished element 100000\n",
      "finished element 0\n",
      "finished element 100000\n"
     ]
    }
   ],
   "source": [
    "rhoa1_sm_aco_4 = calculate_aco_angles(df_rhoa1_sm, which_aco_angle='rhoa1-4')\n",
    "rhoa1_ps_aco_4 = calculate_aco_angles(df_rhoa1_ps, which_aco_angle='rhoa1-4')"
   ]
  },
  {
   "cell_type": "code",
   "execution_count": 26,
   "metadata": {},
   "outputs": [
    {
     "data": {
      "text/plain": [
       "Text(0.5, 1.0, 'calculated aco_angle ?4? for rho-a1 channel')"
      ]
     },
     "execution_count": 26,
     "metadata": {},
     "output_type": "execute_result"
    },
    {
     "data": {
      "image/png": "[encoded data removed]",
      "text/plain": [
       "<Figure size 432x288 with 1 Axes>"
      ]
     },
     "metadata": {
      "needs_background": "light"
     },
     "output_type": "display_data"
    }
   ],
   "source": [
    "fig, ax = plt.subplots()\n",
    "ax.hist(rhoa1_ps_aco_4, bins=50, alpha=0.5)\n",
    "ax.hist(rhoa1_sm_aco_4, bins=50, alpha=0.5)\n",
    "plt.title('calculated aco_angle ?4? for rho-a1 channel')"
   ]
  },
  {
   "cell_type": "markdown",
   "metadata": {},
   "source": [
    "### rho-a1 channel aco_angle_5\n",
    "\n",
    "The same thought process as the previous (?4?), but exchanging pi2 and pi3"
   ]
  },
  {
   "cell_type": "code",
   "execution_count": 35,
   "metadata": {},
   "outputs": [
    {
     "name": "stderr",
     "output_type": "stream",
     "text": [
      "C:\\Users\\krist\\anaconda3\\lib\\site-packages\\ipykernel_launcher.py:175: RuntimeWarning: invalid value encountered in sqrt\n",
      "C:\\Users\\krist\\anaconda3\\lib\\site-packages\\ipykernel_launcher.py:193: RuntimeWarning: invalid value encountered in true_divide\n"
     ]
    },
    {
     "name": "stdout",
     "output_type": "stream",
     "text": [
      "finished element 0\n",
      "finished element 100000\n",
      "finished element 0\n",
      "finished element 100000\n"
     ]
    },
    {
     "data": {
      "image/png": "[encoded data removed]",
      "text/plain": [
       "<Figure size 432x288 with 1 Axes>"
      ]
     },
     "metadata": {
      "needs_background": "light"
     },
     "output_type": "display_data"
    }
   ],
   "source": [
    "rhoa1_sm_aco_5 = calculate_aco_angles(df_rhoa1_sm, which_aco_angle='rhoa1-5')\n",
    "rhoa1_ps_aco_5 = calculate_aco_angles(df_rhoa1_ps, which_aco_angle='rhoa1-5')"
   ]
  },
  {
   "cell_type": "code",
   "execution_count": 36,
   "metadata": {},
   "outputs": [
    {
     "data": {
      "text/plain": [
       "Text(0.5, 1.0, 'neutral rho = pi_2+pi2_2')"
      ]
     },
     "execution_count": 36,
     "metadata": {},
     "output_type": "execute_result"
    },
    {
     "data": {
      "image/png": "[encoded data removed]",
      "text/plain": [
       "<Figure size 432x288 with 1 Axes>"
      ]
     },
     "metadata": {
      "needs_background": "light"
     },
     "output_type": "display_data"
    }
   ],
   "source": [
    "fig, ax = plt.subplots()\n",
    "ax.hist(rhoa1_ps_aco_5, bins=50, alpha=0.5)\n",
    "ax.hist(rhoa1_sm_aco_5, bins=50, alpha=0.5)\n",
    "#plt.title('calculated aco_angle ??? for rho-a1 channel')\n",
    "plt.title('neutral rho = pi_2+pi2_2')"
   ]
  },
  {
   "cell_type": "markdown",
   "metadata": {},
   "source": [
    "### Danny's aco_angle"
   ]
  },
  {
   "cell_type": "code",
   "execution_count": 13,
   "metadata": {},
   "outputs": [
    {
     "name": "stderr",
     "output_type": "stream",
     "text": [
      "C:\\Users\\krist\\anaconda3\\lib\\site-packages\\pylorentz\\__init__.py:366: ComplexWarning: Casting complex values to real discards the imaginary part\n",
      "  B[0, 1:, ] = bp\n",
      "C:\\Users\\krist\\anaconda3\\lib\\site-packages\\pylorentz\\__init__.py:367: ComplexWarning: Casting complex values to real discards the imaginary part\n",
      "  B[1:, 0, ] = bp\n"
     ]
    },
    {
     "name": "stdout",
     "output_type": "stream",
     "text": [
      "finished element 0\n"
     ]
    },
    {
     "name": "stderr",
     "output_type": "stream",
     "text": [
      "C:\\Users\\krist\\anaconda3\\lib\\site-packages\\ipykernel_launcher.py:189: RuntimeWarning: invalid value encountered in true_divide\n"
     ]
    },
    {
     "name": "stdout",
     "output_type": "stream",
     "text": [
      "finished element 100000\n",
      "finished element 0\n",
      "finished element 100000\n"
     ]
    }
   ],
   "source": [
    "rhoa1_sm_aco_Danny = calculate_aco_angles(df_rhoa1_sm, which_aco_angle='rhoa1-Danny')\n",
    "rhoa1_ps_aco_Danny = calculate_aco_angles(df_rhoa1_ps, which_aco_angle='rhoa1-Danny')"
   ]
  },
  {
   "cell_type": "code",
   "execution_count": 14,
   "metadata": {},
   "outputs": [
    {
     "name": "stderr",
     "output_type": "stream",
     "text": [
      "C:\\Users\\krist\\anaconda3\\lib\\site-packages\\numpy\\lib\\histograms.py:836: RuntimeWarning: invalid value encountered in greater_equal\n",
      "  keep = (tmp_a >= first_edge)\n",
      "C:\\Users\\krist\\anaconda3\\lib\\site-packages\\numpy\\lib\\histograms.py:837: RuntimeWarning: invalid value encountered in less_equal\n",
      "  keep &= (tmp_a <= last_edge)\n",
      "C:\\Users\\krist\\anaconda3\\lib\\site-packages\\numpy\\lib\\histograms.py:851: ComplexWarning: Casting complex values to real discards the imaginary part\n",
      "  indices = f_indices.astype(np.intp)\n",
      "C:\\Users\\krist\\anaconda3\\lib\\site-packages\\matplotlib\\transforms.py:796: ComplexWarning: Casting complex values to real discards the imaginary part\n",
      "  points = np.array(args, dtype=float).reshape(2, 2)\n",
      "C:\\Users\\krist\\anaconda3\\lib\\site-packages\\matplotlib\\transforms.py:1959: ComplexWarning: Casting complex values to real discards the imaginary part\n",
      "  x, y = float(x), float(y)\n"
     ]
    },
    {
     "data": {
      "text/plain": [
       "Text(0.5, 1.0, \"rhoa1 aco_angle Danny's formula\")"
      ]
     },
     "execution_count": 14,
     "metadata": {},
     "output_type": "execute_result"
    },
    {
     "data": {
      "image/png": "[encoded data removed]",
      "text/plain": [
       "<Figure size 432x288 with 1 Axes>"
      ]
     },
     "metadata": {
      "needs_background": "light"
     },
     "output_type": "display_data"
    }
   ],
   "source": [
    "fig, ax = plt.subplots()\n",
    "ax.hist(rhoa1_ps_aco_Danny, bins=50, alpha=0.5)\n",
    "ax.hist(rhoa1_sm_aco_Danny, bins=50, alpha=0.5)\n",
    "plt.title('rhoa1 aco_angle Danny\\'s formula')"
   ]
  },
  {
   "cell_type": "markdown",
   "metadata": {},
   "source": [
    "### Rho-rho again - Check that we get the same if we exchange particle 1 and particle 2 in the input\n",
    "\n",
    "We get the same looking histogram, but the individual values are not the same."
   ]
  },
  {
   "cell_type": "code",
   "execution_count": 15,
   "metadata": {},
   "outputs": [
    {
     "name": "stdout",
     "output_type": "stream",
     "text": [
      "finished element 0\n",
      "finished element 100000\n",
      "finished element 200000\n",
      "finished element 300000\n",
      "finished element 0\n",
      "finished element 100000\n",
      "finished element 200000\n",
      "finished element 300000\n"
     ]
    }
   ],
   "source": [
    "sm_aco_5_switched = calculate_aco_angles(df_sm, which_aco_angle='5-switched')\n",
    "ps_aco_5_switched = calculate_aco_angles(df_ps, which_aco_angle='5-switched')"
   ]
  },
  {
   "cell_type": "code",
   "execution_count": 25,
   "metadata": {},
   "outputs": [
    {
     "data": {
      "text/plain": [
       "Text(0.5, 1.0, 'calculated aco_angle_5 with switched p1 and p2')"
      ]
     },
     "execution_count": 25,
     "metadata": {},
     "output_type": "execute_result"
    },
    {
     "data": {
      "image/png": "[encoded data removed]",
      "text/plain": [
       "<Figure size 432x288 with 1 Axes>"
      ]
     },
     "metadata": {
      "needs_background": "light"
     },
     "output_type": "display_data"
    }
   ],
   "source": [
    "fig, ax = plt.subplots()\n",
    "ax.hist(ps_aco_5_switched, bins=50, alpha=0.5)\n",
    "ax.hist(sm_aco_5_switched, bins=50, alpha=0.5)\n",
    "plt.title('calculated aco_angle_5 with switched p1 and p2')"
   ]
  },
  {
   "cell_type": "code",
   "execution_count": 21,
   "metadata": {},
   "outputs": [
    {
     "name": "stdout",
     "output_type": "stream",
     "text": [
      "[2.572347146447192, 2.836377634321125, 1.7935796196255773, 4.3865802770628495, 2.2488566087238233, 3.6918350562844178, 2.892169254814508, 3.0311960388240626, 2.240072257477072, 0.4195788471375962]\n",
      "[3.7108381607323944, 3.4468076728584687, 4.489605687554001, 1.8966050301167243, 4.034328698455777, 2.59135025089519, 3.3910160523651087, 3.2519892683555276, 4.043113049702518, 5.863606460041971]\n"
     ]
    }
   ],
   "source": [
    "print(ps_aco_5[:10])\n",
    "print(ps_aco_5_switched[:10])\n",
    "# this distribution looks the same, but the particles are not exactly the same"
   ]
  },
  {
   "cell_type": "markdown",
   "metadata": {},
   "source": [
    "### switching 1 and 2 but also switching 3 and 4"
   ]
  },
  {
   "cell_type": "code",
   "execution_count": 42,
   "metadata": {},
   "outputs": [
    {
     "name": "stdout",
     "output_type": "stream",
     "text": [
      "finished element 0\n",
      "finished element 100000\n",
      "finished element 200000\n",
      "finished element 300000\n",
      "finished element 0\n",
      "finished element 100000\n",
      "finished element 200000\n",
      "finished element 300000\n"
     ]
    }
   ],
   "source": [
    "sm_aco_5_double_switched = calculate_aco_angles(df_sm, which_aco_angle='5-double-switched')\n",
    "ps_aco_5_double_switched = calculate_aco_angles(df_ps, which_aco_angle='5-double-switched')"
   ]
  },
  {
   "cell_type": "code",
   "execution_count": 43,
   "metadata": {},
   "outputs": [
    {
     "data": {
      "text/plain": [
       "Text(0.5, 1.0, 'calculated aco_angle_5 with switched p1 and p2 and also switched p3 and p4')"
      ]
     },
     "execution_count": 43,
     "metadata": {},
     "output_type": "execute_result"
    },
    {
     "data": {
      "image/png": "[encoded data removed]",
      "text/plain": [
       "<Figure size 432x288 with 1 Axes>"
      ]
     },
     "metadata": {
      "needs_background": "light"
     },
     "output_type": "display_data"
    }
   ],
   "source": [
    "fig, ax = plt.subplots()\n",
    "ax.hist(ps_aco_5_double_switched, bins=50, alpha=0.5)\n",
    "ax.hist(sm_aco_5_double_switched, bins=50, alpha=0.5)\n",
    "plt.title('calculated aco_angle_5 with switched p1 and p2 and also switched p3 and p4')"
   ]
  },
  {
   "cell_type": "code",
   "execution_count": 46,
   "metadata": {},
   "outputs": [
    {
     "name": "stdout",
     "output_type": "stream",
     "text": [
      "[2.572347146447192, 2.836377634321125, 1.7935796196255773, 4.3865802770628495, 2.2488566087238233, 3.6918350562844178, 2.892169254814508, 3.0311960388240626, 2.240072257477072, 0.4195788471375962]\n",
      "[2.572347146447192, 2.836377634321125, 1.7935796196255773, 4.3865802770628495, 2.2488566087238233, 3.6918350562844178, 2.892169254814508, 3.0311960388240626, 2.240072257477072, 0.4195788471375962]\n"
     ]
    }
   ],
   "source": [
    "print(ps_aco_5[:10])\n",
    "print(ps_aco_5_double_switched[:10])\n",
    "# good these are exactly the same! :-)"
   ]
  },
  {
   "cell_type": "markdown",
   "metadata": {},
   "source": [
    "### Rho-a1 again - Try out aco_angle_6 formula with SV instead of IP"
   ]
  },
  {
   "cell_type": "code",
   "execution_count": 38,
   "metadata": {},
   "outputs": [
    {
     "name": "stdout",
     "output_type": "stream",
     "text": [
      "finished element 0\n"
     ]
    },
    {
     "name": "stderr",
     "output_type": "stream",
     "text": [
      "C:\\Users\\krist\\anaconda3\\lib\\site-packages\\ipykernel_launcher.py:174: RuntimeWarning: invalid value encountered in true_divide\n"
     ]
    },
    {
     "name": "stdout",
     "output_type": "stream",
     "text": [
      "finished element 100000\n",
      "finished element 0\n",
      "finished element 100000\n"
     ]
    }
   ],
   "source": [
    "ps_aco_6_sv = calculate_aco_angles(df_rhoa1_ps, which_aco_angle='6-sv')\n",
    "sm_aco_6_sv = calculate_aco_angles(df_rhoa1_sm, which_aco_angle='6-sv')"
   ]
  },
  {
   "cell_type": "code",
   "execution_count": 39,
   "metadata": {},
   "outputs": [
    {
     "data": {
      "text/plain": [
       "True"
      ]
     },
     "execution_count": 39,
     "metadata": {},
     "output_type": "execute_result"
    }
   ],
   "source": [
    "(df_rhoa1_ps['sv_x_1'] == 0).all()"
   ]
  },
  {
   "cell_type": "code",
   "execution_count": 41,
   "metadata": {},
   "outputs": [
    {
     "data": {
      "text/plain": [
       "Text(0.5, 1.0, 'calculated aco_angle_6 analogue for rho-a1 channel')"
      ]
     },
     "execution_count": 41,
     "metadata": {},
     "output_type": "execute_result"
    },
    {
     "data": {
      "image/png": "[encoded data removed]",
      "text/plain": [
       "<Figure size 432x288 with 1 Axes>"
      ]
     },
     "metadata": {
      "needs_background": "light"
     },
     "output_type": "display_data"
    }
   ],
   "source": [
    "fig, ax = plt.subplots()\n",
    "ax.hist(ps_aco_6_sv, bins=50, alpha=0.5)\n",
    "ax.hist(sm_aco_6_sv, bins=50, alpha=0.5)\n",
    "plt.title('calculated aco_angle_6 analogue for rho-a1 channel')"
   ]
  },
  {
   "cell_type": "code",
   "execution_count": null,
   "metadata": {},
   "outputs": [],
   "source": []
  }
 ],
 "metadata": {
  "kernelspec": {
   "display_name": "Python 3",
   "language": "python",
   "name": "python3"
  },
  "language_info": {
   "codemirror_mode": {
    "name": "ipython",
    "version": 3
   },
   "file_extension": ".py",
   "mimetype": "text/x-python",
   "name": "python",
   "nbconvert_exporter": "python",
   "pygments_lexer": "ipython3",
   "version": "3.7.6"
  }
 },
 "nbformat": 4,
 "nbformat_minor": 4
}
