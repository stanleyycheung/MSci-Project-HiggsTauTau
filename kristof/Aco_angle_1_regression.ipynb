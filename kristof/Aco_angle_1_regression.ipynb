{
 "cells": [
  {
   "cell_type": "markdown",
   "metadata": {},
   "source": [
    "# Regression of aco_angle_1 from low-level data\n",
    "\n",
    "This code regresses aco_angle_1 from the pion 4-vectors."
   ]
  },
  {
   "cell_type": "code",
   "execution_count": 1,
   "metadata": {},
   "outputs": [
    {
     "name": "stdout",
     "output_type": "stream",
     "text": [
      "Requirement already satisfied: uproot in /cvmfs/sft.cern.ch/lcg/views/LCG_97apython3/x86_64-centos7-gcc8-opt/lib/python3.7/site-packages (3.10.12)\r\n",
      "Requirement already satisfied: numpy>=1.13.1 in /cvmfs/sft.cern.ch/lcg/views/LCG_97apython3/x86_64-centos7-gcc8-opt/lib/python3.7/site-packages (from uproot) (1.16.4)\r\n",
      "Requirement already satisfied: awkward<1.0,>=0.12.0 in /cvmfs/sft.cern.ch/lcg/views/LCG_97apython3/x86_64-centos7-gcc8-opt/lib/python3.7/site-packages (from uproot) (0.12.17)\r\n",
      "Requirement already satisfied: uproot-methods>=0.7.0 in /cvmfs/sft.cern.ch/lcg/views/LCG_97apython3/x86_64-centos7-gcc8-opt/lib/python3.7/site-packages (from uproot) (0.7.1)\r\n",
      "Requirement already satisfied: cachetools in /cvmfs/sft.cern.ch/lcg/views/LCG_97apython3/x86_64-centos7-gcc8-opt/lib/python3.7/site-packages (from uproot) (3.1.1)\r\n"
     ]
    }
   ],
   "source": [
    "# start with some setup\n",
    "!pip install --user uproot\n",
    "import sys\n",
    "sys.path.append(\"/eos/home-m/dwinterb/.local/lib/python2.7/site-packages\")"
   ]
  },
  {
   "cell_type": "code",
   "execution_count": 37,
   "metadata": {},
   "outputs": [],
   "source": [
    "import uproot \n",
    "import numpy as np\n",
    "import pandas as pd\n",
    "from sklearn.model_selection import train_test_split\n",
    "from sklearn.metrics import r2_score\n",
    "#import matplotlib as mpl\n",
    "#mpl.use('Agg')\n",
    "import matplotlib.pyplot as plt\n",
    "from sklearn.preprocessing import MinMaxScaler\n",
    "from keras.models import Sequential\n",
    "from keras.layers import Dense\n",
    "from keras.callbacks import EarlyStopping\n",
    "from keras.wrappers.scikit_learn import KerasRegressor\n",
    "from sklearn.model_selection import cross_val_score\n",
    "from sklearn.model_selection import KFold\n",
    "from sklearn.preprocessing import StandardScaler\n",
    "from sklearn.pipeline import Pipeline\n",
    "from keras.callbacks import History \n",
    "#from ROOT import TLorentzVector"
   ]
  },
  {
   "cell_type": "code",
   "execution_count": 3,
   "metadata": {},
   "outputs": [],
   "source": [
    "# read data files\n",
    "tree_tt = uproot.open(\"/eos/user/k/kgalambo/SWAN_projects/Masters_CP_Kristof_2/MVAFILE_AllHiggs_tt.root\")[\"ntuple\"]\n",
    "tree_et = uproot.open(\"/eos/user/k/kgalambo/SWAN_projects/Masters_CP_Kristof_2/MVAFILE_AllHiggs_et.root\")[\"ntuple\"]\n",
    "tree_mt = uproot.open(\"/eos/user/k/kgalambo/SWAN_projects/Masters_CP_Kristof_2/MVAFILE_AllHiggs_mt.root\")[\"ntuple\"]"
   ]
  },
  {
   "cell_type": "code",
   "execution_count": 4,
   "metadata": {},
   "outputs": [],
   "source": [
    "variables = [\n",
    "    \"wt_cp_sm\", \"wt_cp_ps\", \"wt_cp_mm\", \"rand\",\n",
    "    \"aco_angle_1\", \n",
    "    \"mva_dm_1\", \"mva_dm_2\",\n",
    "    \"tau_decay_mode_1\", \"tau_decay_mode_2\",\n",
    "#     \"ip_x_1\", \"ip_y_1\", \"ip_z_1\", \"ip_x_2\", \"ip_y_2\", \"ip_z_2\", # ignore impact parameter for now\n",
    "    \"pi_px_1\", \"pi_py_1\", \"pi_pz_1\", \"pi_E_1\",\n",
    "    \"pi_px_2\", \"pi_py_2\", \"pi_pz_2\", \"pi_E_2\",\n",
    "    \"pi0_px_1\", \"pi0_py_1\", \"pi0_pz_1\", \"pi0_E_1\",\n",
    "    \"pi0_px_2\", \"pi0_py_2\", \"pi0_pz_2\", \"pi0_E_2\",\n",
    "    \"y_1_1\", \"y_1_2\"\n",
    "]"
   ]
  },
  {
   "cell_type": "code",
   "execution_count": 5,
   "metadata": {},
   "outputs": [],
   "source": [
    "# WARNING! This line takes a long time\n",
    "df = tree_tt.pandas.df(variables)"
   ]
  },
  {
   "cell_type": "code",
   "execution_count": 6,
   "metadata": {},
   "outputs": [],
   "source": [
    "df_1 = df[\n",
    "      (df[\"tau_decay_mode_1\"] == 1) \n",
    "    & (df[\"tau_decay_mode_2\"] == 1) \n",
    "    & (df[\"mva_dm_1\"] == 1) \n",
    "    & (df[\"mva_dm_2\"] == 1)\n",
    "    # comment some selections to help with stats\n",
    "    #& (df[\"deepTauVsJets_medium_1\"] > 0.5) \n",
    "    #& (df[\"deepTauVsEle_vvloose_1\"] > 0.5)\n",
    "    #& (df[\"deepTauVsMu_vloose_1\"] > 0.5)\n",
    "    #& (df[\"deepTauVsJets_medium_2\"] > 0.5) \n",
    "    #& (df[\"deepTauVsEle_vvloose_2\"] > 0.5)\n",
    "    #& (df[\"deepTauVsMu_vloose_2\"] > 0.5)\n",
    "    #& (df[\"trg_doubletau\"] > 0.5)\n",
    "]\n",
    "\n",
    "df_1 = df_1.drop([\"mva_dm_1\", \"mva_dm_2\", \"tau_decay_mode_1\", \"tau_decay_mode_2\"], axis=1).reset_index(drop=True)\n",
    "\n",
    "df_ps = df_1[\n",
    "      (df_1[\"rand\"]<df_1[\"wt_cp_ps\"]/2)\n",
    "]\n",
    "\n",
    "df_sm = df_1[\n",
    "      (df_1[\"rand\"]<df_1[\"wt_cp_sm\"]/2)\n",
    "]\n"
   ]
  },
  {
   "cell_type": "code",
   "execution_count": 78,
   "metadata": {},
   "outputs": [
    {
     "name": "stdout",
     "output_type": "stream",
     "text": [
      "Index(['pi_px_1', 'pi_py_1', 'pi_pz_1', 'pi_E_1', 'pi_px_2', 'pi_py_2',\n",
      "       'pi_pz_2', 'pi_E_2', 'pi0_px_1', 'pi0_py_1', 'pi0_pz_1', 'pi0_E_1',\n",
      "       'pi0_px_2', 'pi0_py_2', 'pi0_pz_2', 'pi0_E_2', 'y_1_1', 'y_1_2'],\n",
      "      dtype='object')\n",
      "        aco_angle_1\n",
      "2          3.750274\n",
      "7          3.907006\n",
      "8          1.669376\n",
      "10         6.073213\n",
      "11         2.413196\n",
      "12         2.236670\n",
      "14         2.338017\n",
      "15         3.311521\n",
      "17         2.149978\n",
      "19         4.783627\n",
      "21         6.259001\n",
      "22         2.589150\n",
      "25         3.902166\n",
      "26         5.165087\n",
      "29         3.400597\n",
      "30         5.836054\n",
      "32         5.927918\n",
      "33         1.592528\n",
      "34         3.521951\n",
      "38         3.202050\n",
      "40         4.379103\n",
      "46         0.673766\n",
      "48         5.085882\n",
      "50         2.812382\n",
      "51         0.138942\n",
      "54         0.424804\n",
      "56         1.931245\n",
      "58         3.689418\n",
      "59         4.868278\n",
      "60         2.112378\n",
      "...             ...\n",
      "653476     3.842937\n",
      "653477     0.256328\n",
      "653478     2.386752\n",
      "653482     0.599856\n",
      "653483     3.085475\n",
      "653484     0.735530\n",
      "653486     1.487030\n",
      "653487     3.665391\n",
      "653489     4.271865\n",
      "653493     3.330478\n",
      "653495     1.931189\n",
      "653498     0.086519\n",
      "653499     4.906675\n",
      "653500     5.394608\n",
      "653503     0.559484\n",
      "653504     1.275842\n",
      "653505     1.467779\n",
      "653508     5.777210\n",
      "653509     6.142116\n",
      "653511     5.447827\n",
      "653512     6.219738\n",
      "653513     5.884049\n",
      "653514     1.933530\n",
      "653517     2.155819\n",
      "653518     1.177476\n",
      "653519     4.872852\n",
      "653521     1.449764\n",
      "653523     0.277067\n",
      "653525     4.993271\n",
      "653526     2.631089\n",
      "\n",
      "[647058 rows x 1 columns]\n",
      "        class\n",
      "0         1.0\n",
      "1         1.0\n",
      "2         1.0\n",
      "3         1.0\n",
      "4         1.0\n",
      "5         1.0\n",
      "6         1.0\n",
      "7         1.0\n",
      "8         1.0\n",
      "9         1.0\n",
      "10        1.0\n",
      "11        1.0\n",
      "12        1.0\n",
      "13        1.0\n",
      "14        1.0\n",
      "15        1.0\n",
      "16        1.0\n",
      "17        1.0\n",
      "18        1.0\n",
      "19        1.0\n",
      "20        1.0\n",
      "21        1.0\n",
      "22        1.0\n",
      "23        1.0\n",
      "24        1.0\n",
      "25        1.0\n",
      "26        1.0\n",
      "27        1.0\n",
      "28        1.0\n",
      "29        1.0\n",
      "...       ...\n",
      "323739    0.0\n",
      "323740    0.0\n",
      "323741    0.0\n",
      "323742    0.0\n",
      "323743    0.0\n",
      "323744    0.0\n",
      "323745    0.0\n",
      "323746    0.0\n",
      "323747    0.0\n",
      "323748    0.0\n",
      "323749    0.0\n",
      "323750    0.0\n",
      "323751    0.0\n",
      "323752    0.0\n",
      "323753    0.0\n",
      "323754    0.0\n",
      "323755    0.0\n",
      "323756    0.0\n",
      "323757    0.0\n",
      "323758    0.0\n",
      "323759    0.0\n",
      "323760    0.0\n",
      "323761    0.0\n",
      "323762    0.0\n",
      "323763    0.0\n",
      "323764    0.0\n",
      "323765    0.0\n",
      "323766    0.0\n",
      "323767    0.0\n",
      "323768    0.0\n",
      "\n",
      "[647058 rows x 1 columns]\n"
     ]
    }
   ],
   "source": [
    "# create target labels (y)\n",
    "         \n",
    "# prepare the target labels - old version. In the old version, parity was y.\n",
    "parity_sm = pd.DataFrame(np.ones(df_sm.shape[0]))\n",
    "parity_ps = pd.DataFrame(np.zeros(df_ps.shape[0]))\n",
    "\n",
    "parity = pd.concat([parity_sm, parity_ps])\n",
    "parity.columns = [\"class\"]\n",
    "\n",
    "# prepare the target variables - new version. Aco_angle_1 is y.\n",
    "y_sm = df_sm[\"aco_angle_1\"]\n",
    "y_ps = df_ps[\"aco_angle_1\"]\n",
    "\n",
    "y = pd.DataFrame(pd.concat([y_sm, y_ps]))\n",
    "y.columns = [\"aco_angle_1\"]\n",
    "\n",
    "# prepare the dataframe to use in training\n",
    "X = pd.concat([df_sm, df_ps])\n",
    "\n",
    "# drop any other variables that aren't required in training\n",
    "X = X.drop([\"wt_cp_sm\", \"wt_cp_ps\", \"wt_cp_mm\", \"rand\", \"aco_angle_1\"], axis=1).reset_index(drop=True) \n",
    "\n",
    "print(X.columns)\n",
    "print(y)\n",
    "print(parity)"
   ]
  },
  {
   "cell_type": "code",
   "execution_count": 15,
   "metadata": {},
   "outputs": [
    {
     "name": "stdout",
     "output_type": "stream",
     "text": [
      "MinMaxScaler(copy=True, feature_range=(0, 1))\n"
     ]
    }
   ],
   "source": [
    "# recale variables so that they go between 0-1 \n",
    "\n",
    "scaler_x = MinMaxScaler()\n",
    "print(scaler_x.fit(X))\n",
    "xscale=scaler_x.transform(X)\n",
    "\n",
    "X = pd.DataFrame(xscale, columns=X.columns)"
   ]
  },
  {
   "cell_type": "code",
   "execution_count": 67,
   "metadata": {},
   "outputs": [],
   "source": [
    "# split X1, X2, and y into train and validation dataset \n",
    "\n",
    "X_train, X_test, y_train, y_test  = train_test_split(\n",
    "    X,\n",
    "    y,\n",
    "    test_size=0.2,\n",
    "    random_state=123456,\n",
    "    #stratify=y.values,\n",
    ")"
   ]
  },
  {
   "cell_type": "code",
   "execution_count": 68,
   "metadata": {},
   "outputs": [],
   "source": [
    "def baseline_model():\n",
    "    # create model\n",
    "    model = Sequential()\n",
    "    model.add(Dense(len(X.columns), input_dim=len(X.columns), kernel_initializer='normal', activation='relu'))\n",
    "    model.add(Dense((len(X.columns))*2, kernel_initializer='normal', activation='relu'))\n",
    "    model.add(Dense(1))\n",
    "    model.compile(optimizer='adam', loss='mean_squared_error')  \n",
    "    return model"
   ]
  },
  {
   "cell_type": "code",
   "execution_count": 69,
   "metadata": {},
   "outputs": [],
   "source": [
    "# define early stopping\n",
    "early_stop = EarlyStopping(monitor='val_loss', patience=10)"
   ]
  },
  {
   "cell_type": "code",
   "execution_count": 70,
   "metadata": {},
   "outputs": [
    {
     "name": "stdout",
     "output_type": "stream",
     "text": [
      "Train on 517646 samples, validate on 129412 samples\n",
      "Epoch 1/100\n",
      "517646/517646 [==============================] - 1s 2us/step - loss: 5.2158 - val_loss: 4.2640\n",
      "Epoch 2/100\n",
      "517646/517646 [==============================] - 1s 2us/step - loss: 3.9518 - val_loss: 3.7230\n",
      "Epoch 3/100\n",
      "517646/517646 [==============================] - 1s 2us/step - loss: 3.6551 - val_loss: 3.6288\n",
      "Epoch 4/100\n",
      "517646/517646 [==============================] - 1s 2us/step - loss: 3.5983 - val_loss: 3.5898\n",
      "Epoch 5/100\n",
      "517646/517646 [==============================] - 1s 2us/step - loss: 3.5640 - val_loss: 3.5600\n",
      "Epoch 6/100\n",
      "517646/517646 [==============================] - 1s 2us/step - loss: 3.5343 - val_loss: 3.5265\n",
      "Epoch 7/100\n",
      "517646/517646 [==============================] - 1s 2us/step - loss: 3.5008 - val_loss: 3.4936\n",
      "Epoch 8/100\n",
      "517646/517646 [==============================] - 1s 2us/step - loss: 3.4635 - val_loss: 3.4527\n",
      "Epoch 9/100\n",
      "517646/517646 [==============================] - 1s 2us/step - loss: 3.4281 - val_loss: 3.4204\n",
      "Epoch 10/100\n",
      "517646/517646 [==============================] - 1s 2us/step - loss: 3.3930 - val_loss: 3.3862\n",
      "Epoch 11/100\n",
      "517646/517646 [==============================] - 1s 2us/step - loss: 3.3684 - val_loss: 3.3681\n",
      "Epoch 12/100\n",
      "517646/517646 [==============================] - 1s 2us/step - loss: 3.3448 - val_loss: 3.3395\n",
      "Epoch 13/100\n",
      "517646/517646 [==============================] - 1s 2us/step - loss: 3.3296 - val_loss: 3.3276\n",
      "Epoch 14/100\n",
      "517646/517646 [==============================] - 1s 2us/step - loss: 3.3212 - val_loss: 3.3176\n",
      "Epoch 15/100\n",
      "517646/517646 [==============================] - 1s 2us/step - loss: 3.3118 - val_loss: 3.3118\n",
      "Epoch 16/100\n",
      "517646/517646 [==============================] - 1s 2us/step - loss: 3.3065 - val_loss: 3.3090\n",
      "Epoch 17/100\n",
      "517646/517646 [==============================] - 1s 2us/step - loss: 3.3050 - val_loss: 3.3060\n",
      "Epoch 18/100\n",
      "517646/517646 [==============================] - 1s 2us/step - loss: 3.3025 - val_loss: 3.3032\n",
      "Epoch 19/100\n",
      "517646/517646 [==============================] - 1s 2us/step - loss: 3.2998 - val_loss: 3.3055\n",
      "Epoch 20/100\n",
      "517646/517646 [==============================] - 1s 2us/step - loss: 3.2992 - val_loss: 3.3019\n",
      "Epoch 21/100\n",
      "517646/517646 [==============================] - 1s 2us/step - loss: 3.2988 - val_loss: 3.3040\n",
      "Epoch 22/100\n",
      "517646/517646 [==============================] - 1s 2us/step - loss: 3.3003 - val_loss: 3.3049\n",
      "Epoch 23/100\n",
      "517646/517646 [==============================] - 1s 2us/step - loss: 3.2972 - val_loss: 3.3045\n",
      "Epoch 24/100\n",
      "517646/517646 [==============================] - 1s 2us/step - loss: 3.2981 - val_loss: 3.3105\n",
      "Epoch 25/100\n",
      "517646/517646 [==============================] - 1s 2us/step - loss: 3.2981 - val_loss: 3.2991\n",
      "Epoch 26/100\n",
      "517646/517646 [==============================] - 1s 2us/step - loss: 3.2966 - val_loss: 3.2997\n",
      "Epoch 27/100\n",
      "517646/517646 [==============================] - 1s 2us/step - loss: 3.2971 - val_loss: 3.3021\n",
      "Epoch 28/100\n",
      "517646/517646 [==============================] - 1s 2us/step - loss: 3.2965 - val_loss: 3.2985\n",
      "Epoch 29/100\n",
      "517646/517646 [==============================] - 1s 2us/step - loss: 3.2954 - val_loss: 3.2994\n",
      "Epoch 30/100\n",
      "517646/517646 [==============================] - 1s 2us/step - loss: 3.2956 - val_loss: 3.2981\n",
      "Epoch 31/100\n",
      "517646/517646 [==============================] - 1s 2us/step - loss: 3.2981 - val_loss: 3.3006\n",
      "Epoch 32/100\n",
      "517646/517646 [==============================] - 1s 2us/step - loss: 3.2955 - val_loss: 3.2979\n",
      "Epoch 33/100\n",
      "517646/517646 [==============================] - 1s 2us/step - loss: 3.2953 - val_loss: 3.3000\n",
      "Epoch 34/100\n",
      "517646/517646 [==============================] - 1s 2us/step - loss: 3.2951 - val_loss: 3.2984\n",
      "Epoch 35/100\n",
      "517646/517646 [==============================] - 1s 2us/step - loss: 3.2951 - val_loss: 3.2979\n",
      "Epoch 36/100\n",
      "517646/517646 [==============================] - 1s 2us/step - loss: 3.2952 - val_loss: 3.3018\n",
      "Epoch 37/100\n",
      "517646/517646 [==============================] - 1s 2us/step - loss: 3.2943 - val_loss: 3.2986\n",
      "Epoch 38/100\n",
      "517646/517646 [==============================] - 1s 2us/step - loss: 3.2947 - val_loss: 3.3014\n",
      "Epoch 39/100\n",
      "517646/517646 [==============================] - 1s 2us/step - loss: 3.2947 - val_loss: 3.2998\n",
      "Epoch 40/100\n",
      "517646/517646 [==============================] - 1s 2us/step - loss: 3.2949 - val_loss: 3.3009\n",
      "Epoch 41/100\n",
      "517646/517646 [==============================] - 1s 2us/step - loss: 3.2946 - val_loss: 3.2982\n",
      "Epoch 42/100\n",
      "517646/517646 [==============================] - 1s 2us/step - loss: 3.2940 - val_loss: 3.2980\n",
      "Epoch 43/100\n",
      "517646/517646 [==============================] - 1s 2us/step - loss: 3.2958 - val_loss: 3.2980\n",
      "Epoch 44/100\n",
      "517646/517646 [==============================] - 1s 2us/step - loss: 3.2938 - val_loss: 3.2989\n",
      "Epoch 45/100\n",
      "517646/517646 [==============================] - 1s 2us/step - loss: 3.2957 - val_loss: 3.3028\n"
     ]
    },
    {
     "data": {
      "text/plain": [
       "<keras.callbacks.History at 0x7f004ee66d50>"
      ]
     },
     "execution_count": 70,
     "metadata": {},
     "output_type": "execute_result"
    }
   ],
   "source": [
    "# first run the training for simple case with just 1 variable\n",
    "history = History()\n",
    "\n",
    "model = baseline_model()\n",
    "\n",
    "model.fit(\n",
    "                X_train, y_train,\n",
    "                #sample_weight=w_train,\n",
    "                batch_size=10000,\n",
    "                epochs=100,\n",
    "                callbacks=[history,early_stop],\n",
    "                #callbacks=[history],\n",
    "                validation_data=(X_test, y_test))#, w_val))"
   ]
  },
  {
   "cell_type": "code",
   "execution_count": 71,
   "metadata": {},
   "outputs": [
    {
     "data": {
      "image/png": "[encoded data removed]",
      "text/plain": [
       "<Figure size 432x288 with 1 Axes>"
      ]
     },
     "metadata": {
      "needs_background": "light"
     },
     "output_type": "display_data"
    }
   ],
   "source": [
    "# Extract number of run epochs from the training history\n",
    "epochs = range(1, len(history.history[\"loss\"])+1)\n",
    "\n",
    "# Extract loss on training and validation ddataset and plot them together\n",
    "plt.plot(epochs, history.history[\"loss\"], \"o-\", label=\"Training\")\n",
    "plt.plot(epochs, history.history[\"val_loss\"], \"o-\", label=\"Test\")\n",
    "plt.xlabel(\"Epochs\"), plt.ylabel(\"Loss\")\n",
    "plt.yscale(\"log\")\n",
    "plt.legend();\n",
    "\n",
    "# differencwes between the loss for training vs test implies overtraining"
   ]
  },
  {
   "cell_type": "code",
   "execution_count": 72,
   "metadata": {},
   "outputs": [],
   "source": [
    "y_pred = model.predict(X_test).flatten()"
   ]
  },
  {
   "cell_type": "code",
   "execution_count": 73,
   "metadata": {},
   "outputs": [],
   "source": [
    "try:\n",
    "    y_test = y_test.to_numpy().flatten()\n",
    "except:\n",
    "    y_test = y_test.flatten()"
   ]
  },
  {
   "cell_type": "code",
   "execution_count": 74,
   "metadata": {},
   "outputs": [
    {
     "name": "stdout",
     "output_type": "stream",
     "text": [
      "\n",
      "The RMSE is: 1.8173476137161249\n",
      "The R^2 score is: -0.0016809150421064345\n"
     ]
    }
   ],
   "source": [
    "rmse = (np.mean((y_test-y_pred)**2))**0.5\n",
    "print()\n",
    "print('The RMSE is:', rmse)\n",
    "r2 = r2_score(y_test, y_pred)\n",
    "print('The R^2 score is:', r2)"
   ]
  },
  {
   "cell_type": "code",
   "execution_count": 47,
   "metadata": {},
   "outputs": [],
   "source": [
    "# should have the results in two lists called sm_aco and ps_aco"
   ]
  },
  {
   "cell_type": "code",
   "execution_count": 12,
   "metadata": {},
   "outputs": [],
   "source": [
    "# define function to plot 'signal' vs 'background' for a specified variables\n",
    "# useful to check whether a variable gives some separation between\n",
    "# signal and background states\n",
    "def plot_signal_background(data1, data2, column,\n",
    "                        bins=100, x_uplim=0, **kwargs):\n",
    "\n",
    "    if \"alpha\" not in kwargs:\n",
    "        kwargs[\"alpha\"] = 0.5\n",
    "\n",
    "    df1 = data1[column]\n",
    "    df2 = data2[column]\n",
    "\n",
    "    fig, ax = plt.subplots()\n",
    "    df1 = df1.sample(3000, random_state=1234)\n",
    "    df2 = df2.sample(3000, random_state=1234)\n",
    "    low = max(min(df1.min(), df2.min()),-5)\n",
    "    high = max(df1.max(), df2.max())\n",
    "    if x_uplim != 0: high = x_uplim\n",
    "\n",
    "    ax.hist(df1, bins=bins, range=(low,high), **kwargs)\n",
    "    ax.hist(df2, bins=bins, range=(low,high), **kwargs)\n",
    "    if column == \"aco_angle_1\":\n",
    "        plt.title('given aco_angle_1 (true values)')\n",
    "    else:\n",
    "        plt.title(column)\n",
    "    \n",
    "    if x_uplim != 0:\n",
    "        ax.set_xlim(0,x_uplim)\n",
    "\n",
    "    # ax.set_yscale('log')\n"
   ]
  },
  {
   "cell_type": "code",
   "execution_count": 14,
   "metadata": {},
   "outputs": [
    {
     "data": {
      "image/png": "[encoded data removed]",
      "text/plain": [
       "<Figure size 432x288 with 1 Axes>"
      ]
     },
     "metadata": {
      "needs_background": "light"
     },
     "output_type": "display_data"
    }
   ],
   "source": [
    "# plot my calculated aco_angle_1 values\n",
    "sm_aco_df = pd.DataFrame(sm_aco, columns=['aco_angle_1 calculated from low-level data'])\n",
    "ps_aco_df = pd.DataFrame(ps_aco, columns=['aco_angle_1 calculated from low-level data'])\n",
    "plot_signal_background(sm_aco_df, ps_aco_df, 'aco_angle_1 calculated from low-level data', bins=100)"
   ]
  },
  {
   "cell_type": "code",
   "execution_count": 15,
   "metadata": {},
   "outputs": [
    {
     "data": {
      "image/png": "[encoded data removed]",
      "text/plain": [
       "<Figure size 432x288 with 1 Axes>"
      ]
     },
     "metadata": {
      "needs_background": "light"
     },
     "output_type": "display_data"
    }
   ],
   "source": [
    "# plot the given aco_angle_1 values\n",
    "plot_signal_background(df_sm, df_ps, 'aco_angle_1', bins=100)"
   ]
  },
  {
   "cell_type": "code",
   "execution_count": null,
   "metadata": {},
   "outputs": [],
   "source": []
  }
 ],
 "metadata": {
  "kernelspec": {
   "display_name": "Python 3",
   "language": "python",
   "name": "python3"
  },
  "language_info": {
   "codemirror_mode": {
    "name": "ipython",
    "version": 3
   },
   "file_extension": ".py",
   "mimetype": "text/x-python",
   "name": "python",
   "nbconvert_exporter": "python",
   "pygments_lexer": "ipython3",
   "version": "3.7.6"
  }
 },
 "nbformat": 4,
 "nbformat_minor": 4
}
