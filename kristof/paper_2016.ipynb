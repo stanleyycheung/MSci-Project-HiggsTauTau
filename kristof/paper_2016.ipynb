{
 "cells": [
  {
   "cell_type": "markdown",
   "metadata": {},
   "source": [
    "# Recreating https://arxiv.org/pdf/1608.02609.pdf first for $\\rho$-$\\rho$ decays\n",
    "\n",
    "## Inputs:\n",
    "- Invariant masses of intermediate resonances  \n",
    "- Acoplanarity angles\n",
    "- Variables $y_i^+$ ($y_k^-$)\n",
    "- 4 momentum of visible decay products\n",
    "- 4 momentum of intermediate resonances\n",
    "    - If cascade decays, need to provide 4-momenta of all $\\pi^+\\pi^-$ pairs which can form the resonances\n",
    "- Need to boost all four vectors where primary resonances are aligned along the z-axis.\n",
    "- Normalise all features"
   ]
  },
  {
   "cell_type": "code",
   "execution_count": 335,
   "metadata": {},
   "outputs": [],
   "source": [
    "import uproot \n",
    "import numpy as np\n",
    "import math\n",
    "import pandas as pd\n",
    "import tensorflow as tf\n",
    "import matplotlib.pyplot as plt\n",
    "from sklearn.model_selection import train_test_split\n",
    "from sklearn.metrics import accuracy_score, roc_curve, roc_auc_score\n",
    "\n",
    "from pylorentz import Momentum4\n",
    "from pylorentz import Position4\n",
    "from lbn_modified import LBN, LBNLayer\n",
    "from ROOT import TLorentzVector, TVector3"
   ]
  },
  {
   "cell_type": "code",
   "execution_count": 336,
   "metadata": {},
   "outputs": [],
   "source": [
    "tree_tt = uproot.open(\"/eos/user/k/kgalambo/SWAN_projects/Masters_CP_Kristof_2/MVAFILE_AllHiggs_tt.root\")[\"ntuple\"]\n",
    "\n",
    "variables = [\n",
    "            \"wt_cp_sm\", \"wt_cp_ps\", \"wt_cp_mm\", \"rand\",\n",
    "            \"aco_angle_1\", \n",
    "            \"mva_dm_1\",\"mva_dm_2\",\n",
    "            \"tau_decay_mode_1\",\"tau_decay_mode_2\",\n",
    "        #     \"ip_x_1\", \"ip_y_1\", \"ip_z_1\", \"ip_x_2\", \"ip_y_2\", \"ip_z_2\", # ignore impact parameter for now\n",
    "            \"pi_E_1\", \"pi_px_1\", \"pi_py_1\", \"pi_pz_1\", \n",
    "            \"pi_E_2\", \"pi_px_2\", \"pi_py_2\", \"pi_pz_2\", \n",
    "            \"pi0_E_1\", \"pi0_px_1\", \"pi0_py_1\", \"pi0_pz_1\",\n",
    "            \"pi0_E_2\", \"pi0_px_2\", \"pi0_py_2\", \"pi0_pz_2\", \n",
    "            \"y_1_1\", \"y_1_2\"\n",
    "        ]"
   ]
  },
  {
   "cell_type": "code",
   "execution_count": 337,
   "metadata": {},
   "outputs": [],
   "source": [
    "# this line takes a long time!\n",
    "df = tree_tt.pandas.df(variables)"
   ]
  },
  {
   "cell_type": "code",
   "execution_count": 338,
   "metadata": {},
   "outputs": [],
   "source": [
    "# select only rho-rho events\n",
    "df = df[(df['mva_dm_1']==1) & (df['mva_dm_2']==1) & (df[\"tau_decay_mode_1\"] == 1) & (df[\"tau_decay_mode_2\"] == 1)]\n",
    "\n",
    "# create labels y\n",
    "y = (~(df[\"rand\"]<df[\"wt_cp_ps\"]/2).to_numpy()).astype(int)\n",
    "\n",
    "# drop unnecessary labels \n",
    "df = df.drop([\"mva_dm_1\",\"mva_dm_2\",\"tau_decay_mode_1\",\"tau_decay_mode_2\", \"wt_cp_sm\", \"wt_cp_ps\", \"wt_cp_mm\", \"rand\"], axis=1).reset_index(drop=True)"
   ]
  },
  {
   "cell_type": "code",
   "execution_count": 339,
   "metadata": {},
   "outputs": [
    {
     "data": {
      "text/html": [
       "<div>\n",
       "<style scoped>\n",
       "    .dataframe tbody tr th:only-of-type {\n",
       "        vertical-align: middle;\n",
       "    }\n",
       "\n",
       "    .dataframe tbody tr th {\n",
       "        vertical-align: top;\n",
       "    }\n",
       "\n",
       "    .dataframe thead th {\n",
       "        text-align: right;\n",
       "    }\n",
       "</style>\n",
       "<table border=\"1\" class=\"dataframe\">\n",
       "  <thead>\n",
       "    <tr style=\"text-align: right;\">\n",
       "      <th></th>\n",
       "      <th>aco_angle_1</th>\n",
       "      <th>pi_E_1</th>\n",
       "      <th>pi_px_1</th>\n",
       "      <th>pi_py_1</th>\n",
       "      <th>pi_pz_1</th>\n",
       "      <th>pi_E_2</th>\n",
       "      <th>pi_px_2</th>\n",
       "      <th>pi_py_2</th>\n",
       "      <th>pi_pz_2</th>\n",
       "      <th>pi0_E_1</th>\n",
       "      <th>pi0_px_1</th>\n",
       "      <th>pi0_py_1</th>\n",
       "      <th>pi0_pz_1</th>\n",
       "      <th>pi0_E_2</th>\n",
       "      <th>pi0_px_2</th>\n",
       "      <th>pi0_py_2</th>\n",
       "      <th>pi0_pz_2</th>\n",
       "      <th>y_1_1</th>\n",
       "      <th>y_1_2</th>\n",
       "    </tr>\n",
       "  </thead>\n",
       "  <tbody>\n",
       "    <tr>\n",
       "      <th>0</th>\n",
       "      <td>2.657029</td>\n",
       "      <td>45.423448</td>\n",
       "      <td>-13.747046</td>\n",
       "      <td>-38.825621</td>\n",
       "      <td>-19.153590</td>\n",
       "      <td>35.805782</td>\n",
       "      <td>8.526798</td>\n",
       "      <td>34.653880</td>\n",
       "      <td>2.904638</td>\n",
       "      <td>10.039846</td>\n",
       "      <td>-3.551914</td>\n",
       "      <td>-8.385803</td>\n",
       "      <td>-4.224041</td>\n",
       "      <td>6.112238</td>\n",
       "      <td>1.959179</td>\n",
       "      <td>5.735656</td>\n",
       "      <td>0.777900</td>\n",
       "      <td>-0.637964</td>\n",
       "      <td>-0.708372</td>\n",
       "    </tr>\n",
       "    <tr>\n",
       "      <th>1</th>\n",
       "      <td>1.547246</td>\n",
       "      <td>24.506373</td>\n",
       "      <td>-14.056253</td>\n",
       "      <td>9.809321</td>\n",
       "      <td>-17.514046</td>\n",
       "      <td>19.587723</td>\n",
       "      <td>8.539313</td>\n",
       "      <td>-3.149378</td>\n",
       "      <td>-17.344192</td>\n",
       "      <td>41.244844</td>\n",
       "      <td>-24.443820</td>\n",
       "      <td>15.370633</td>\n",
       "      <td>-29.451014</td>\n",
       "      <td>77.036002</td>\n",
       "      <td>32.655902</td>\n",
       "      <td>-12.032904</td>\n",
       "      <td>-68.726477</td>\n",
       "      <td>0.254573</td>\n",
       "      <td>0.594557</td>\n",
       "    </tr>\n",
       "    <tr>\n",
       "      <th>2</th>\n",
       "      <td>3.750274</td>\n",
       "      <td>15.319610</td>\n",
       "      <td>8.794122</td>\n",
       "      <td>0.774085</td>\n",
       "      <td>12.519393</td>\n",
       "      <td>17.469988</td>\n",
       "      <td>-9.876231</td>\n",
       "      <td>-3.253855</td>\n",
       "      <td>14.037575</td>\n",
       "      <td>69.457213</td>\n",
       "      <td>38.899682</td>\n",
       "      <td>2.503120</td>\n",
       "      <td>57.487698</td>\n",
       "      <td>56.810782</td>\n",
       "      <td>-32.919951</td>\n",
       "      <td>-10.831700</td>\n",
       "      <td>45.015529</td>\n",
       "      <td>0.638590</td>\n",
       "      <td>0.529623</td>\n",
       "    </tr>\n",
       "    <tr>\n",
       "      <th>3</th>\n",
       "      <td>1.192612</td>\n",
       "      <td>94.211361</td>\n",
       "      <td>42.942276</td>\n",
       "      <td>-33.711103</td>\n",
       "      <td>-76.780750</td>\n",
       "      <td>3.656937</td>\n",
       "      <td>-2.129749</td>\n",
       "      <td>0.251363</td>\n",
       "      <td>-2.958835</td>\n",
       "      <td>25.585962</td>\n",
       "      <td>11.770386</td>\n",
       "      <td>-8.993712</td>\n",
       "      <td>-20.861314</td>\n",
       "      <td>68.839211</td>\n",
       "      <td>-41.770362</td>\n",
       "      <td>4.326843</td>\n",
       "      <td>-54.546623</td>\n",
       "      <td>-0.572846</td>\n",
       "      <td>0.899114</td>\n",
       "    </tr>\n",
       "    <tr>\n",
       "      <th>4</th>\n",
       "      <td>3.264792</td>\n",
       "      <td>25.899289</td>\n",
       "      <td>-22.245884</td>\n",
       "      <td>-12.141924</td>\n",
       "      <td>-5.333670</td>\n",
       "      <td>23.795390</td>\n",
       "      <td>21.402816</td>\n",
       "      <td>9.436143</td>\n",
       "      <td>-4.368043</td>\n",
       "      <td>23.216735</td>\n",
       "      <td>-20.268636</td>\n",
       "      <td>-10.296444</td>\n",
       "      <td>-4.707891</td>\n",
       "      <td>18.242053</td>\n",
       "      <td>16.607666</td>\n",
       "      <td>6.693405</td>\n",
       "      <td>-3.483969</td>\n",
       "      <td>-0.054617</td>\n",
       "      <td>-0.132105</td>\n",
       "    </tr>\n",
       "  </tbody>\n",
       "</table>\n",
       "</div>"
      ],
      "text/plain": [
       "   aco_angle_1     pi_E_1    pi_px_1    pi_py_1    pi_pz_1     pi_E_2  \\\n",
       "0     2.657029  45.423448 -13.747046 -38.825621 -19.153590  35.805782   \n",
       "1     1.547246  24.506373 -14.056253   9.809321 -17.514046  19.587723   \n",
       "2     3.750274  15.319610   8.794122   0.774085  12.519393  17.469988   \n",
       "3     1.192612  94.211361  42.942276 -33.711103 -76.780750   3.656937   \n",
       "4     3.264792  25.899289 -22.245884 -12.141924  -5.333670  23.795390   \n",
       "\n",
       "     pi_px_2    pi_py_2    pi_pz_2    pi0_E_1   pi0_px_1   pi0_py_1  \\\n",
       "0   8.526798  34.653880   2.904638  10.039846  -3.551914  -8.385803   \n",
       "1   8.539313  -3.149378 -17.344192  41.244844 -24.443820  15.370633   \n",
       "2  -9.876231  -3.253855  14.037575  69.457213  38.899682   2.503120   \n",
       "3  -2.129749   0.251363  -2.958835  25.585962  11.770386  -8.993712   \n",
       "4  21.402816   9.436143  -4.368043  23.216735 -20.268636 -10.296444   \n",
       "\n",
       "    pi0_pz_1    pi0_E_2   pi0_px_2   pi0_py_2   pi0_pz_2     y_1_1     y_1_2  \n",
       "0  -4.224041   6.112238   1.959179   5.735656   0.777900 -0.637964 -0.708372  \n",
       "1 -29.451014  77.036002  32.655902 -12.032904 -68.726477  0.254573  0.594557  \n",
       "2  57.487698  56.810782 -32.919951 -10.831700  45.015529  0.638590  0.529623  \n",
       "3 -20.861314  68.839211 -41.770362   4.326843 -54.546623 -0.572846  0.899114  \n",
       "4  -4.707891  18.242053  16.607666   6.693405  -3.483969 -0.054617 -0.132105  "
      ]
     },
     "execution_count": 339,
     "metadata": {},
     "output_type": "execute_result"
    }
   ],
   "source": [
    "df.head()"
   ]
  },
  {
   "cell_type": "markdown",
   "metadata": {},
   "source": [
    "- [x] calculate 4 momentum of resonances\n",
    "- [x] calculate invariant mass of resonances m^2 = E^2 - p^2\n",
    "- [ ] cascades?"
   ]
  },
  {
   "cell_type": "code",
   "execution_count": 340,
   "metadata": {},
   "outputs": [],
   "source": [
    "# parse particle information\n",
    "#columns = ['E', 'px', 'py', 'pz']\n",
    "\n",
    "pi_1 = df[['pi_E_1', \"pi_px_1\", \"pi_py_1\", \"pi_pz_1\"]].to_numpy()\n",
    "pi_2 = df[['pi_E_2', \"pi_px_2\", \"pi_py_2\", \"pi_pz_2\"]].to_numpy()\n",
    "pi0_1 = df[['pi0_E_1', \"pi0_px_1\", \"pi0_py_1\", \"pi0_pz_1\"]].to_numpy()\n",
    "pi0_2 = df[['pi0_E_2', \"pi0_px_2\", \"pi0_py_2\", \"pi0_pz_2\"]].to_numpy()"
   ]
  },
  {
   "cell_type": "code",
   "execution_count": 341,
   "metadata": {},
   "outputs": [],
   "source": [
    "# reconstruct resonance 4 momentum\n",
    "rho_1 = pi_1 + pi0_1\n",
    "rho_2 = pi_2 + pi0_2"
   ]
  },
  {
   "cell_type": "code",
   "execution_count": 342,
   "metadata": {
    "scrolled": false
   },
   "outputs": [],
   "source": [
    "# calculate invariate masses\n",
    "rho_1_m = (rho_1[:, 0]**2 - rho_1[:, 1]**2 - rho_1[:, 2]**2 - rho_1[:, 3]**2)**0.5\n",
    "rho_2_m = (rho_2[:, 0]**2 - rho_2[:, 1]**2 - rho_2[:, 2]**2 - rho_2[:, 3]**2)**0.5"
   ]
  },
  {
   "cell_type": "code",
   "execution_count": 343,
   "metadata": {},
   "outputs": [],
   "source": [
    "p3 = Momentum4(pi_1[:, 0], pi_1[:, 1], pi_1[:, 2], pi_1[:, 3])\n",
    "p4 = Momentum4(pi_2[:, 0], pi_2[:, 1], pi_2[:, 2], pi_2[:, 3])\n",
    "p1 = Momentum4(pi0_1[:, 0], pi0_1[:, 1], pi0_1[:, 2], pi0_1[:, 3])\n",
    "p2 = Momentum4(pi0_2[:, 0], pi0_2[:, 1], pi0_2[:, 2], pi0_2[:, 3])\n",
    "r1 = p1 + p3\n",
    "r2 = p2 + p4"
   ]
  },
  {
   "cell_type": "code",
   "execution_count": 344,
   "metadata": {},
   "outputs": [],
   "source": [
    "p1_boosted = p1.boost_particle(-r1)\n",
    "p3_boosted = p3.boost_particle(-r1)\n",
    "p2_boosted = p2.boost_particle(-r2)\n",
    "p4_boosted = p4.boost_particle(-r2)\n",
    "r1_boosted = p1_boosted + p3_boosted\n",
    "r2_boosted = p2_boosted + p4_boosted"
   ]
  },
  {
   "cell_type": "markdown",
   "metadata": {},
   "source": [
    "## Rotations\n",
    "\n",
    "The rotations are done as follows:\n",
    "\n",
    "- calculate unit vectors along the 3-momenta\n",
    "\n",
    "- calculate the axes which are perpendicular to the z-axis and the unit vectors\n",
    "\n",
    "- rotate the 3-momenta about these axes by the angle between the z-axis and the unit vectors"
   ]
  },
  {
   "cell_type": "code",
   "execution_count": 345,
   "metadata": {},
   "outputs": [
    {
     "name": "stderr",
     "output_type": "stream",
     "text": [
      "/usr/local/bin/start_ipykernel.py:2: RuntimeWarning: invalid value encountered in true_divide\n",
      "  if __name__ == '__main__':\n",
      "/usr/local/bin/start_ipykernel.py:3: RuntimeWarning: invalid value encountered in true_divide\n",
      "  import sys\n"
     ]
    }
   ],
   "source": [
    "#unit vectors along the momenta of the primary resonances\n",
    "unit1 = (r1_boosted[1:, :] / np.linalg.norm(r1_boosted[1:, :], axis=0)).transpose()\n",
    "unit2 = (r2_boosted[1:, :] / np.linalg.norm(r2_boosted[1:, :], axis=0)).transpose()"
   ]
  },
  {
   "cell_type": "code",
   "execution_count": 346,
   "metadata": {},
   "outputs": [],
   "source": [
    "# probably there's a faster way of doing this\n",
    "zaxis = np.array([np.array([0., 0., 1.]) for _ in range(len(unit1))])"
   ]
  },
  {
   "cell_type": "code",
   "execution_count": 347,
   "metadata": {},
   "outputs": [],
   "source": [
    "axes1 = np.cross(unit1, zaxis)\n",
    "axes2 = np.cross(unit2, zaxis)"
   ]
  },
  {
   "cell_type": "code",
   "execution_count": 348,
   "metadata": {},
   "outputs": [],
   "source": [
    "dotproduct1 = (unit1*zaxis).sum(1)\n",
    "angles1 = np.arccos(dotproduct1)\n",
    "dotproduct2 = (unit2*zaxis).sum(1)\n",
    "angles2 = np.arccos(dotproduct2)"
   ]
  },
  {
   "cell_type": "code",
   "execution_count": 349,
   "metadata": {},
   "outputs": [
    {
     "name": "stdout",
     "output_type": "stream",
     "text": [
      "The rotated test_vector is:\n",
      "[ 2.22044605e-16  0.00000000e+00 -1.00000000e+00]\n"
     ]
    }
   ],
   "source": [
    "def rotation_matrix(axis, theta):\n",
    "    \"\"\"\n",
    "    Return the rotation matrix associated with counterclockwise rotation about\n",
    "    the given axis by theta radians.\n",
    "    \"\"\"\n",
    "    axis = np.asarray(axis)\n",
    "    axis = axis / math.sqrt(np.dot(axis, axis))\n",
    "    a = math.cos(theta / 2.0)\n",
    "    b, c, d = -axis * math.sin(theta / 2.0)\n",
    "    aa, bb, cc, dd = a * a, b * b, c * c, d * d\n",
    "    bc, ad, ac, ab, bd, cd = b * c, a * d, a * c, a * b, b * d, c * d\n",
    "    return np.array([[aa + bb - cc - dd, 2 * (bc + ad), 2 * (bd - ac)],\n",
    "                     [2 * (bc - ad), aa + cc - bb - dd, 2 * (cd + ab)],\n",
    "                     [2 * (bd + ac), 2 * (cd - ab), aa + dd - bb - cc]])\n",
    "\n",
    "def rotate(vect, axis, theta):\n",
    "    return np.dot(rotation_matrix(axis, theta), vect)\n",
    "\n",
    "test_vector = [1, 0, 0]\n",
    "test_axis = [0, 1, 0]\n",
    "test_angle = np.pi/2\n",
    "\n",
    "print('The rotated test_vector is:')\n",
    "print(rotate(test_vector, test_axis, test_angle))"
   ]
  },
  {
   "cell_type": "code",
   "execution_count": 350,
   "metadata": {},
   "outputs": [
    {
     "name": "stdout",
     "output_type": "stream",
     "text": [
      "finished rotating 3-vector 0\n"
     ]
    },
    {
     "name": "stderr",
     "output_type": "stream",
     "text": [
      "/usr/local/bin/start_ipykernel.py:7: RuntimeWarning: invalid value encountered in true_divide\n"
     ]
    },
    {
     "name": "stdout",
     "output_type": "stream",
     "text": [
      "finished rotating 3-vector 100000\n",
      "finished rotating 3-vector 200000\n",
      "finished rotating 3-vector 300000\n",
      "finished rotating 3-vector 400000\n",
      "finished rotating 3-vector 500000\n",
      "finished rotating 3-vector 600000\n"
     ]
    }
   ],
   "source": [
    "# it would be nice to be able to do the rotation in a vectorized form, like this:\n",
    "#p1rot = rotate(p1_boosted[1:, :].transpose(), axes1, angles1)\n",
    "\n",
    "p1rot = []\n",
    "p2rot = []\n",
    "p3rot = []\n",
    "p4rot = []\n",
    "for i in range(p1_boosted[:].shape[1]):\n",
    "    p1rot.append(rotate(p1_boosted[1:, i], axes1[i], angles1[i]))\n",
    "    p2rot.append(rotate(p2_boosted[1:, i], axes1[i], angles1[i]))\n",
    "    p3rot.append(rotate(p3_boosted[1:, i], axes1[i], angles1[i]))\n",
    "    p4rot.append(rotate(p4_boosted[1:, i], axes1[i], angles1[i]))\n",
    "    if i%100000==0:\n",
    "        print('finished rotating 3-vector', i)\n",
    "p1rot = np.array(p1rot)\n",
    "p2rot = np.array(p2rot)\n",
    "p3rot = np.array(p3rot)\n",
    "p4rot = np.array(p4rot)"
   ]
  },
  {
   "cell_type": "code",
   "execution_count": 351,
   "metadata": {},
   "outputs": [
    {
     "name": "stdout",
     "output_type": "stream",
     "text": [
      "finished getting rotated 4-vector 0\n",
      "finished getting rotated 4-vector 100000\n",
      "finished getting rotated 4-vector 200000\n",
      "finished getting rotated 4-vector 300000\n",
      "finished getting rotated 4-vector 400000\n",
      "finished getting rotated 4-vector 500000\n",
      "finished getting rotated 4-vector 600000\n"
     ]
    }
   ],
   "source": [
    "# this should be vectorized as well\n",
    "p1_rotated = []\n",
    "p2_rotated = []\n",
    "p3_rotated = []\n",
    "p4_rotated = []\n",
    "for i in range(p1_boosted[:].shape[1]):\n",
    "    p1_rotated.append([p1_boosted[0, i], p1rot[i, 0], p1rot[i, 1], p1rot[i, 2]])\n",
    "    p2_rotated.append([p2_boosted[0, i], p2rot[i, 0], p2rot[i, 1], p2rot[i, 2]])\n",
    "    p3_rotated.append([p3_boosted[0, i], p3rot[i, 0], p3rot[i, 1], p3rot[i, 2]])\n",
    "    p4_rotated.append([p4_boosted[0, i], p4rot[i, 0], p4rot[i, 1], p4rot[i, 2]])\n",
    "    if i%100000==0:\n",
    "        print('finished getting rotated 4-vector', i)\n",
    "p1_rotated = np.array(p1_rotated).transpose()\n",
    "p2_rotated = np.array(p2_rotated).transpose()\n",
    "p3_rotated = np.array(p3_rotated).transpose()\n",
    "p4_rotated = np.array(p4_rotated).transpose()"
   ]
  },
  {
   "cell_type": "markdown",
   "metadata": {},
   "source": [
    "## The neural net\n",
    "\n",
    "The inputs of these neural nets are the following:\n",
    "\n",
    "- aco_angle_1\n",
    "\n",
    "- y_1_1 and y_1_2\n",
    "\n",
    "- the primary resonance masses\n",
    "\n",
    "- the unrotated, or the rotated 4-vectors, or no 4-vectors at all"
   ]
  },
  {
   "cell_type": "code",
   "execution_count": 352,
   "metadata": {},
   "outputs": [],
   "source": [
    "# create features and labels\n",
    "\n",
    "aco_angle_1 = df['aco_angle_1'].to_numpy()\n",
    "y_1_1 = df['y_1_1'].to_numpy()\n",
    "y_1_2 = df['y_1_2'].to_numpy()\n",
    "\n",
    "# this will use the unrotated, boosted 4-vectors:\n",
    "E1 = p1_boosted[0]\n",
    "px1 = p1_boosted[1]\n",
    "py1 = p1_boosted[2]\n",
    "pz1 = p1_boosted[3]\n",
    "E2 = p2_boosted[0]\n",
    "px2 = p2_boosted[1]\n",
    "py2 = p2_boosted[2]\n",
    "pz2 = p2_boosted[3]\n",
    "E3 = p3_boosted[0]\n",
    "px3 = p3_boosted[1]\n",
    "py3 = p3_boosted[2]\n",
    "pz3 = p3_boosted[3]\n",
    "E4 = p4_boosted[0]\n",
    "px4 = p4_boosted[1]\n",
    "py4 = p4_boosted[2]\n",
    "pz4 = p4_boosted[3]\n",
    "\n",
    "# this will use the rotated, boosted 4-vectors:\n",
    "E1r = p1_rotated[0]\n",
    "px1r = p1_rotated[1]\n",
    "py1r = p1_rotated[2]\n",
    "pz1r = p1_rotated[3]\n",
    "E2r = p2_rotated[0]\n",
    "px2r = p2_rotated[1]\n",
    "py2r = p2_rotated[2]\n",
    "pz2r = p2_rotated[3]\n",
    "E3r = p3_rotated[0]\n",
    "px3r = p3_rotated[1]\n",
    "py3r = p3_rotated[2]\n",
    "pz3r = p3_rotated[3]\n",
    "E4r = p4_rotated[0]\n",
    "px4r = p4_rotated[1]\n",
    "py4r = p4_rotated[2]\n",
    "pz4r = p4_rotated[3]\n",
    "\n",
    "# if it gives the same accuracy score with the 4-vectors and without them, that's bad\n",
    "# with the unrotated 4-vectors:\n",
    "X = np.stack([rho_1_m, rho_2_m, E1, px1, py1, pz1, E2, px2, py2, pz2, E3, px3, py3, pz3, E4, px4, py4, pz4, aco_angle_1, y_1_1, y_1_2], axis=1)\n",
    "## with the rotated 4-vectors:\n",
    "#X = np.stack([rho_1_m, rho_2_m, E1r, px1r, py1r, pz1r, E2r, px2r, py2r, pz2r, E3r, px3r, py3r, pz3r, E4r, px4r, py4r, pz4r, aco_angle_1, y_1_1, y_1_2], axis=1)\n",
    "## without the 4-vectors:\n",
    "#X = np.stack([rho_1_m, rho_2_m, aco_angle_1, y_1_1, y_1_2], axis=1)\n",
    "\n",
    "# y is defined earlier"
   ]
  },
  {
   "cell_type": "code",
   "execution_count": 353,
   "metadata": {},
   "outputs": [],
   "source": [
    "## for some reason there are about 30,000 nan values in X\n",
    "#print(np.argwhere(np.isnan(X)))"
   ]
  },
  {
   "cell_type": "code",
   "execution_count": 354,
   "metadata": {},
   "outputs": [],
   "source": [
    "## will debug this tomorrow\n",
    "## this would remove the nans from the feature and the label set\n",
    "#nan_mask = np.isnan(X)\n",
    "#nan_mask_y = np.array([x.any() for x in nan_mask])\n",
    "#print(nan_mask_y.shape)\n",
    "#print(y.shape)\n",
    "#print(X.shape)\n",
    "#X = X[~nan_mask]\n",
    "#y = y[~nan_mask_y]\n",
    "#print(X.shape)"
   ]
  },
  {
   "cell_type": "code",
   "execution_count": 355,
   "metadata": {},
   "outputs": [
    {
     "name": "stdout",
     "output_type": "stream",
     "text": [
      "(653528,)\n",
      "(653528, 21)\n",
      "The number of samples should be the same in X and y!\n"
     ]
    }
   ],
   "source": [
    "print(y.shape)\n",
    "print(X.shape)\n",
    "print('The number of samples should be the same in X and y!')"
   ]
  },
  {
   "cell_type": "code",
   "execution_count": 356,
   "metadata": {},
   "outputs": [],
   "source": [
    "# split X and y into train and validation dataset \n",
    "\n",
    "X_train,X_test, y_train, y_test  = train_test_split(\n",
    "    X,\n",
    "    y,\n",
    "    test_size=0.2,\n",
    "    random_state=123456,\n",
    "    #stratify=y.values,\n",
    ")"
   ]
  },
  {
   "cell_type": "code",
   "execution_count": 357,
   "metadata": {},
   "outputs": [],
   "source": [
    "# define a simple NN\n",
    "def baseline_model():\n",
    "    # create model\n",
    "    model = tf.keras.models.Sequential()\n",
    "    model.add(tf.keras.layers.Dense(38, input_dim=X.shape[1], kernel_initializer='normal', activation='relu'))\n",
    "    model.add(tf.keras.layers.Dense(100, kernel_initializer='normal', activation='relu'))\n",
    "    model.add(tf.keras.layers.Dense(1, activation=\"sigmoid\"))\n",
    "    model.compile(loss='binary_crossentropy', optimizer='adam')  \n",
    "    return model"
   ]
  },
  {
   "cell_type": "code",
   "execution_count": 358,
   "metadata": {},
   "outputs": [],
   "source": [
    "# define early stopping\n",
    "early_stop = tf.keras.callbacks.EarlyStopping(monitor='val_loss',patience=10)"
   ]
  },
  {
   "cell_type": "code",
   "execution_count": 359,
   "metadata": {},
   "outputs": [
    {
     "name": "stderr",
     "output_type": "stream",
     "text": [
      "W1101 22:33:06.943224 139675203118912 ag_logging.py:146] AutoGraph could not transform <function Model.make_train_function.<locals>.train_function at 0x7f07702b0b00> and will run it as-is.\n",
      "Please report this to the TensorFlow team. When filing the bug, set the verbosity to 10 (on Linux, `export AUTOGRAPH_VERBOSITY=10`) and attach the full output.\n",
      "Cause: 'arguments' object has no attribute 'posonlyargs'\n",
      "To silence this warning, decorate the function with @tf.autograph.experimental.do_not_convert\n"
     ]
    },
    {
     "name": "stdout",
     "output_type": "stream",
     "text": [
      "Epoch 1/100\n",
      "WARNING: AutoGraph could not transform <function Model.make_train_function.<locals>.train_function at 0x7f07702b0b00> and will run it as-is.\n",
      "Please report this to the TensorFlow team. When filing the bug, set the verbosity to 10 (on Linux, `export AUTOGRAPH_VERBOSITY=10`) and attach the full output.\n",
      "Cause: 'arguments' object has no attribute 'posonlyargs'\n",
      "To silence this warning, decorate the function with @tf.autograph.experimental.do_not_convert\n",
      "50/53 [===========================>..] - ETA: 0s - loss: 0.6889"
     ]
    },
    {
     "name": "stderr",
     "output_type": "stream",
     "text": [
      "W1101 22:33:09.117902 139675203118912 ag_logging.py:146] AutoGraph could not transform <function Model.make_test_function.<locals>.test_function at 0x7f07900e1710> and will run it as-is.\n",
      "Please report this to the TensorFlow team. When filing the bug, set the verbosity to 10 (on Linux, `export AUTOGRAPH_VERBOSITY=10`) and attach the full output.\n",
      "Cause: 'arguments' object has no attribute 'posonlyargs'\n",
      "To silence this warning, decorate the function with @tf.autograph.experimental.do_not_convert\n"
     ]
    },
    {
     "name": "stdout",
     "output_type": "stream",
     "text": [
      "WARNING: AutoGraph could not transform <function Model.make_test_function.<locals>.test_function at 0x7f07900e1710> and will run it as-is.\n",
      "Please report this to the TensorFlow team. When filing the bug, set the verbosity to 10 (on Linux, `export AUTOGRAPH_VERBOSITY=10`) and attach the full output.\n",
      "Cause: 'arguments' object has no attribute 'posonlyargs'\n",
      "To silence this warning, decorate the function with @tf.autograph.experimental.do_not_convert\n",
      "53/53 [==============================] - 2s 32ms/step - loss: 0.6887 - val_loss: 0.6840\n",
      "Epoch 2/100\n",
      "53/53 [==============================] - 1s 28ms/step - loss: 0.6835 - val_loss: 0.6822\n",
      "Epoch 3/100\n",
      "53/53 [==============================] - 2s 32ms/step - loss: 0.6818 - val_loss: 0.6804\n",
      "Epoch 4/100\n",
      "53/53 [==============================] - 2s 30ms/step - loss: 0.6799 - val_loss: 0.6786\n",
      "Epoch 5/100\n",
      "53/53 [==============================] - 2s 32ms/step - loss: 0.6784 - val_loss: 0.6776\n",
      "Epoch 6/100\n",
      "53/53 [==============================] - 2s 30ms/step - loss: 0.6776 - val_loss: 0.6769\n",
      "Epoch 7/100\n",
      "53/53 [==============================] - 2s 32ms/step - loss: 0.6769 - val_loss: 0.6761\n",
      "Epoch 8/100\n",
      "53/53 [==============================] - 2s 32ms/step - loss: 0.6761 - val_loss: 0.6753\n",
      "Epoch 9/100\n",
      "53/53 [==============================] - 1s 27ms/step - loss: 0.6751 - val_loss: 0.6746\n",
      "Epoch 10/100\n",
      "53/53 [==============================] - 2s 28ms/step - loss: 0.6741 - val_loss: 0.6734\n",
      "Epoch 11/100\n",
      "53/53 [==============================] - 1s 28ms/step - loss: 0.6734 - val_loss: 0.6729\n",
      "Epoch 12/100\n",
      "53/53 [==============================] - 2s 30ms/step - loss: 0.6726 - val_loss: 0.6720\n",
      "Epoch 13/100\n",
      "53/53 [==============================] - 2s 29ms/step - loss: 0.6719 - val_loss: 0.6715\n",
      "Epoch 14/100\n",
      "53/53 [==============================] - 2s 29ms/step - loss: 0.6713 - val_loss: 0.6707\n",
      "Epoch 15/100\n",
      "53/53 [==============================] - 2s 29ms/step - loss: 0.6710 - val_loss: 0.6708\n",
      "Epoch 16/100\n",
      "53/53 [==============================] - 2s 28ms/step - loss: 0.6708 - val_loss: 0.6704\n",
      "Epoch 17/100\n",
      "53/53 [==============================] - 1s 27ms/step - loss: 0.6706 - val_loss: 0.6706\n",
      "Epoch 18/100\n",
      "53/53 [==============================] - 2s 29ms/step - loss: 0.6706 - val_loss: 0.6702\n",
      "Epoch 19/100\n",
      "53/53 [==============================] - 1s 28ms/step - loss: 0.6702 - val_loss: 0.6704\n",
      "Epoch 20/100\n",
      "53/53 [==============================] - 1s 28ms/step - loss: 0.6701 - val_loss: 0.6700\n",
      "Epoch 21/100\n",
      "53/53 [==============================] - 1s 27ms/step - loss: 0.6701 - val_loss: 0.6707\n",
      "Epoch 22/100\n",
      "53/53 [==============================] - 1s 27ms/step - loss: 0.6701 - val_loss: 0.6702\n",
      "Epoch 23/100\n",
      "53/53 [==============================] - 2s 29ms/step - loss: 0.6700 - val_loss: 0.6701\n",
      "Epoch 24/100\n",
      "53/53 [==============================] - 1s 28ms/step - loss: 0.6699 - val_loss: 0.6699\n",
      "Epoch 25/100\n",
      "53/53 [==============================] - 1s 27ms/step - loss: 0.6699 - val_loss: 0.6702\n",
      "Epoch 26/100\n",
      "53/53 [==============================] - 2s 29ms/step - loss: 0.6697 - val_loss: 0.6699\n",
      "Epoch 27/100\n",
      "53/53 [==============================] - 2s 28ms/step - loss: 0.6700 - val_loss: 0.6697\n",
      "Epoch 28/100\n",
      "53/53 [==============================] - 2s 28ms/step - loss: 0.6697 - val_loss: 0.6702\n",
      "Epoch 29/100\n",
      "53/53 [==============================] - 1s 27ms/step - loss: 0.6698 - val_loss: 0.6697\n",
      "Epoch 30/100\n",
      "53/53 [==============================] - 2s 30ms/step - loss: 0.6697 - val_loss: 0.6699\n",
      "Epoch 31/100\n",
      "53/53 [==============================] - 1s 28ms/step - loss: 0.6696 - val_loss: 0.6697\n",
      "Epoch 32/100\n",
      "53/53 [==============================] - 2s 29ms/step - loss: 0.6697 - val_loss: 0.6694\n",
      "Epoch 33/100\n",
      "53/53 [==============================] - 1s 27ms/step - loss: 0.6695 - val_loss: 0.6694\n",
      "Epoch 34/100\n",
      "53/53 [==============================] - 2s 29ms/step - loss: 0.6694 - val_loss: 0.6693\n",
      "Epoch 35/100\n",
      "53/53 [==============================] - 1s 28ms/step - loss: 0.6693 - val_loss: 0.6696\n",
      "Epoch 36/100\n",
      "53/53 [==============================] - 1s 28ms/step - loss: 0.6693 - val_loss: 0.6697\n",
      "Epoch 37/100\n",
      "53/53 [==============================] - 1s 28ms/step - loss: 0.6693 - val_loss: 0.6692\n",
      "Epoch 38/100\n",
      "53/53 [==============================] - 2s 30ms/step - loss: 0.6691 - val_loss: 0.6695\n",
      "Epoch 39/100\n",
      "53/53 [==============================] - 1s 28ms/step - loss: 0.6692 - val_loss: 0.6695\n",
      "Epoch 40/100\n",
      "53/53 [==============================] - 1s 28ms/step - loss: 0.6692 - val_loss: 0.6701\n",
      "Epoch 41/100\n",
      "53/53 [==============================] - 2s 28ms/step - loss: 0.6692 - val_loss: 0.6698\n",
      "Epoch 42/100\n",
      "53/53 [==============================] - 2s 29ms/step - loss: 0.6693 - val_loss: 0.6694\n",
      "Epoch 43/100\n",
      "53/53 [==============================] - 2s 28ms/step - loss: 0.6690 - val_loss: 0.6692\n",
      "Epoch 44/100\n",
      "53/53 [==============================] - 1s 28ms/step - loss: 0.6692 - val_loss: 0.6691\n",
      "Epoch 45/100\n",
      "53/53 [==============================] - 2s 30ms/step - loss: 0.6689 - val_loss: 0.6694\n",
      "Epoch 46/100\n",
      "53/53 [==============================] - 1s 28ms/step - loss: 0.6691 - val_loss: 0.6694\n",
      "Epoch 47/100\n",
      "53/53 [==============================] - 2s 28ms/step - loss: 0.6688 - val_loss: 0.6691\n",
      "Epoch 48/100\n",
      "53/53 [==============================] - 1s 28ms/step - loss: 0.6688 - val_loss: 0.6693\n",
      "Epoch 49/100\n",
      "53/53 [==============================] - 2s 29ms/step - loss: 0.6688 - val_loss: 0.6695\n",
      "Epoch 50/100\n",
      "53/53 [==============================] - 1s 28ms/step - loss: 0.6688 - val_loss: 0.6689\n",
      "Epoch 51/100\n",
      "53/53 [==============================] - 1s 28ms/step - loss: 0.6687 - val_loss: 0.6693\n",
      "Epoch 52/100\n",
      "53/53 [==============================] - 1s 27ms/step - loss: 0.6686 - val_loss: 0.6690\n",
      "Epoch 53/100\n",
      "53/53 [==============================] - 2s 28ms/step - loss: 0.6687 - val_loss: 0.6694\n",
      "Epoch 54/100\n",
      "53/53 [==============================] - 1s 28ms/step - loss: 0.6687 - val_loss: 0.6690\n",
      "Epoch 55/100\n",
      "53/53 [==============================] - 1s 27ms/step - loss: 0.6686 - val_loss: 0.6695\n",
      "Epoch 56/100\n",
      "53/53 [==============================] - 2s 28ms/step - loss: 0.6686 - val_loss: 0.6691\n",
      "Epoch 57/100\n",
      "53/53 [==============================] - 1s 28ms/step - loss: 0.6685 - val_loss: 0.6690\n",
      "Epoch 58/100\n",
      "53/53 [==============================] - 1s 28ms/step - loss: 0.6685 - val_loss: 0.6690\n",
      "Epoch 59/100\n",
      "53/53 [==============================] - 2s 28ms/step - loss: 0.6686 - val_loss: 0.6689\n",
      "Epoch 60/100\n",
      "53/53 [==============================] - 1s 27ms/step - loss: 0.6686 - val_loss: 0.6686\n",
      "Epoch 61/100\n",
      "53/53 [==============================] - 2s 30ms/step - loss: 0.6685 - val_loss: 0.6687\n",
      "Epoch 62/100\n",
      "53/53 [==============================] - 1s 28ms/step - loss: 0.6683 - val_loss: 0.6687\n",
      "Epoch 63/100\n",
      "53/53 [==============================] - 2s 29ms/step - loss: 0.6684 - val_loss: 0.6686\n",
      "Epoch 64/100\n",
      "53/53 [==============================] - 2s 28ms/step - loss: 0.6683 - val_loss: 0.6696\n",
      "Epoch 65/100\n",
      "53/53 [==============================] - 2s 30ms/step - loss: 0.6684 - val_loss: 0.6688\n",
      "Epoch 66/100\n",
      "53/53 [==============================] - 1s 28ms/step - loss: 0.6681 - val_loss: 0.6691\n",
      "Epoch 67/100\n",
      "53/53 [==============================] - 2s 28ms/step - loss: 0.6683 - val_loss: 0.6687\n",
      "Epoch 68/100\n",
      "53/53 [==============================] - 1s 27ms/step - loss: 0.6682 - val_loss: 0.6691\n",
      "Epoch 69/100\n",
      "53/53 [==============================] - 1s 28ms/step - loss: 0.6683 - val_loss: 0.6687\n",
      "Epoch 70/100\n",
      "53/53 [==============================] - 1s 28ms/step - loss: 0.6683 - val_loss: 0.6686\n",
      "Epoch 71/100\n",
      "53/53 [==============================] - 1s 28ms/step - loss: 0.6681 - val_loss: 0.6689\n",
      "Epoch 72/100\n",
      "53/53 [==============================] - 1s 28ms/step - loss: 0.6681 - val_loss: 0.6686\n",
      "Epoch 73/100\n",
      "53/53 [==============================] - 1s 28ms/step - loss: 0.6680 - val_loss: 0.6688\n",
      "Epoch 74/100\n",
      "53/53 [==============================] - 1s 27ms/step - loss: 0.6680 - val_loss: 0.6687\n",
      "Epoch 75/100\n",
      "53/53 [==============================] - 1s 24ms/step - loss: 0.6682 - val_loss: 0.6688\n",
      "Epoch 76/100\n",
      "53/53 [==============================] - 1s 27ms/step - loss: 0.6680 - val_loss: 0.6686\n",
      "Epoch 77/100\n",
      "53/53 [==============================] - 1s 28ms/step - loss: 0.6679 - val_loss: 0.6698\n",
      "Epoch 78/100\n",
      "53/53 [==============================] - 1s 27ms/step - loss: 0.6680 - val_loss: 0.6684\n",
      "Epoch 79/100\n",
      "53/53 [==============================] - 1s 28ms/step - loss: 0.6679 - val_loss: 0.6684\n",
      "Epoch 80/100\n",
      "53/53 [==============================] - 2s 29ms/step - loss: 0.6679 - val_loss: 0.6687\n",
      "Epoch 81/100\n",
      "53/53 [==============================] - 1s 28ms/step - loss: 0.6678 - val_loss: 0.6685\n",
      "Epoch 82/100\n",
      "53/53 [==============================] - 2s 29ms/step - loss: 0.6679 - val_loss: 0.6685\n",
      "Epoch 83/100\n",
      "53/53 [==============================] - 1s 28ms/step - loss: 0.6678 - val_loss: 0.6683\n",
      "Epoch 84/100\n",
      "53/53 [==============================] - 1s 28ms/step - loss: 0.6678 - val_loss: 0.6684\n",
      "Epoch 85/100\n",
      "53/53 [==============================] - 2s 28ms/step - loss: 0.6678 - val_loss: 0.6682\n",
      "Epoch 86/100\n",
      "53/53 [==============================] - 2s 29ms/step - loss: 0.6678 - val_loss: 0.6690\n",
      "Epoch 87/100\n",
      "53/53 [==============================] - 2s 30ms/step - loss: 0.6679 - val_loss: 0.6685\n",
      "Epoch 88/100\n",
      "53/53 [==============================] - 2s 30ms/step - loss: 0.6678 - val_loss: 0.6683\n",
      "Epoch 89/100\n",
      "53/53 [==============================] - 2s 30ms/step - loss: 0.6680 - val_loss: 0.6687\n",
      "Epoch 90/100\n",
      "53/53 [==============================] - 2s 29ms/step - loss: 0.6678 - val_loss: 0.6683\n",
      "Epoch 91/100\n",
      "53/53 [==============================] - 2s 30ms/step - loss: 0.6678 - val_loss: 0.6687\n",
      "Epoch 92/100\n",
      "53/53 [==============================] - 2s 29ms/step - loss: 0.6677 - val_loss: 0.6683\n",
      "Epoch 93/100\n",
      "53/53 [==============================] - 2s 32ms/step - loss: 0.6677 - val_loss: 0.6697\n",
      "Epoch 94/100\n",
      "53/53 [==============================] - 2s 30ms/step - loss: 0.6676 - val_loss: 0.6683\n",
      "Epoch 95/100\n",
      "53/53 [==============================] - 2s 29ms/step - loss: 0.6675 - val_loss: 0.6684\n"
     ]
    },
    {
     "data": {
      "text/plain": [
       "<tensorflow.python.keras.callbacks.History at 0x7f0658999a90>"
      ]
     },
     "execution_count": 359,
     "metadata": {},
     "output_type": "execute_result"
    }
   ],
   "source": [
    "# first run the training for simple case with just 1 variable\n",
    "history = tf.keras.callbacks.History()\n",
    "\n",
    "model = baseline_model()\n",
    "\n",
    "model.fit(\n",
    "                X_train, y_train,\n",
    "                batch_size=10000,\n",
    "                epochs=100,\n",
    "                callbacks=[history,early_stop],\n",
    "                validation_data=(X_test, y_test))"
   ]
  },
  {
   "cell_type": "code",
   "execution_count": 360,
   "metadata": {},
   "outputs": [
    {
     "data": {
      "text/plain": [
       "<matplotlib.legend.Legend at 0x7f065732d950>"
      ]
     },
     "execution_count": 360,
     "metadata": {},
     "output_type": "execute_result"
    },
    {
     "data": {
      "image/png": "[encoded data removed]",
      "text/plain": [
       "<Figure size 432x288 with 1 Axes>"
      ]
     },
     "metadata": {
      "needs_background": "light"
     },
     "output_type": "display_data"
    }
   ],
   "source": [
    "# Extract number of run epochs from the training history\n",
    "epochs = range(1, len(history.history[\"loss\"])+1)\n",
    "\n",
    "# Extract loss on training and validation ddataset and plot them together\n",
    "plt.plot(epochs, history.history[\"loss\"], \"o-\", label=\"Training\")\n",
    "plt.plot(epochs, history.history[\"val_loss\"], \"o-\", label=\"Test\")\n",
    "plt.xlabel(\"Epochs\"), plt.ylabel(\"Loss\")\n",
    "plt.yscale(\"log\")\n",
    "plt.legend()"
   ]
  },
  {
   "cell_type": "code",
   "execution_count": 361,
   "metadata": {},
   "outputs": [
    {
     "name": "stderr",
     "output_type": "stream",
     "text": [
      "W1101 22:35:34.598756 139675203118912 ag_logging.py:146] AutoGraph could not transform <function Model.make_predict_function.<locals>.predict_function at 0x7f0654fa9950> and will run it as-is.\n",
      "Please report this to the TensorFlow team. When filing the bug, set the verbosity to 10 (on Linux, `export AUTOGRAPH_VERBOSITY=10`) and attach the full output.\n",
      "Cause: 'arguments' object has no attribute 'posonlyargs'\n",
      "To silence this warning, decorate the function with @tf.autograph.experimental.do_not_convert\n"
     ]
    },
    {
     "name": "stdout",
     "output_type": "stream",
     "text": [
      "WARNING: AutoGraph could not transform <function Model.make_predict_function.<locals>.predict_function at 0x7f0654fa9950> and will run it as-is.\n",
      "Please report this to the TensorFlow team. When filing the bug, set the verbosity to 10 (on Linux, `export AUTOGRAPH_VERBOSITY=10`) and attach the full output.\n",
      "Cause: 'arguments' object has no attribute 'posonlyargs'\n",
      "To silence this warning, decorate the function with @tf.autograph.experimental.do_not_convert\n"
     ]
    }
   ],
   "source": [
    "prediction = model.predict(X_test)"
   ]
  },
  {
   "cell_type": "code",
   "execution_count": 362,
   "metadata": {},
   "outputs": [],
   "source": [
    "y_pred = [int(round(x)) for x in prediction.flatten()]"
   ]
  },
  {
   "cell_type": "code",
   "execution_count": 363,
   "metadata": {},
   "outputs": [
    {
     "name": "stdout",
     "output_type": "stream",
     "text": [
      "The accuracy score is: 0.5901\n"
     ]
    }
   ],
   "source": [
    "print('The accuracy score is: {:.4f}'.format(accuracy_score(y_test, y_pred)))"
   ]
  },
  {
   "cell_type": "code",
   "execution_count": 364,
   "metadata": {},
   "outputs": [],
   "source": [
    "#  define a function to plot the ROC curves - just makes the roc_curve look nicer than the default\n",
    "def plot_roc_curve(fpr, tpr, auc):\n",
    "    fig, ax = plt.subplots()\n",
    "    ax.plot(fpr, tpr)\n",
    "    ax.set(xlabel='False Positive Rate', ylabel='True Positive Rate')\n",
    "    ax.grid()\n",
    "    ax.text(0.6, 0.3, 'ROC AUC Score: {:.3f}'.format(auc),\n",
    "            bbox=dict(boxstyle='square,pad=0.3', fc='white', ec='k'))\n",
    "    lims = [np.min([ax.get_xlim(), ax.get_ylim()]), np.max([ax.get_xlim(), ax.get_ylim()])]\n",
    "    ax.plot(lims, lims, 'k--')\n",
    "    ax.set_xlim(lims)\n",
    "    ax.set_ylim(lims)\n",
    "    plt.savefig('roc_rho_rho_NN_paper')"
   ]
  },
  {
   "cell_type": "code",
   "execution_count": 365,
   "metadata": {},
   "outputs": [
    {
     "data": {
      "image/png": "[encoded data removed]",
      "text/plain": [
       "<Figure size 432x288 with 1 Axes>"
      ]
     },
     "metadata": {
      "needs_background": "light"
     },
     "output_type": "display_data"
    }
   ],
   "source": [
    "# plot ROC curve for improved training\n",
    "y_proba = model.predict_proba(X_test) # outputs two probabilties\n",
    "auc = roc_auc_score(y_test, y_proba)\n",
    "fpr, tpr, _ = roc_curve(y_test, y_proba)\n",
    "plot_roc_curve(fpr, tpr, auc)"
   ]
  },
  {
   "cell_type": "markdown",
   "metadata": {},
   "source": [
    "## Results of the NN:\n",
    "\n",
    "Without the 4-vectors, without the masses, after 100 epochs: accuracy score = 0.593, ROC AUC score = 0.626\n",
    "\n",
    "Without the 4-vectors, with the masses, after 100 epochs: accuracy score = 0.593, ROC AUC score = 0.628\n",
    "\n",
    "With the 4-vectors, without the masses, after 100 epochs, before the rotations: accuracy score = 0.593, ROC AUC score = 0.628\n",
    "\n",
    "With the 4-vectors, with the masses, after 100 epochs, before the rotations: accuracy score = 0.590, ROC AUC score = 0.626\n",
    "\n",
    "After the rotations: no results. Hasn't been debugged yet."
   ]
  },
  {
   "cell_type": "code",
   "execution_count": null,
   "metadata": {},
   "outputs": [],
   "source": []
  }
 ],
 "metadata": {
  "kernelspec": {
   "display_name": "Python 3",
   "language": "python",
   "name": "python3"
  },
  "language_info": {
   "codemirror_mode": {
    "name": "ipython",
    "version": 3
   },
   "file_extension": ".py",
   "mimetype": "text/x-python",
   "name": "python",
   "nbconvert_exporter": "python",
   "pygments_lexer": "ipython3",
   "version": "3.7.6"
  }
 },
 "nbformat": 4,
 "nbformat_minor": 4
}
