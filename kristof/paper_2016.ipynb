{
 "cells": [
  {
   "cell_type": "markdown",
   "metadata": {},
   "source": [
    "# Recreating https://arxiv.org/pdf/1608.02609.pdf first for $\\rho$-$\\rho$ decays\n",
    "\n",
    "## Inputs:\n",
    "- Invariant masses of intermediate resonances  \n",
    "- Acoplanarity angles\n",
    "- Variables $y_i^+$ ($y_k^-$)\n",
    "- 4 momentum of visible decay products\n",
    "- 4 momentum of intermediate resonances\n",
    "    - If cascade decays, need to provide 4-momenta of all $\\pi^+\\pi^-$ pairs which can form the resonances\n",
    "- Need to boost all four vectors where primary resonances are aligned along the z-axis.\n",
    "- Normalise all features"
   ]
  },
  {
   "cell_type": "code",
   "execution_count": 10,
   "metadata": {},
   "outputs": [],
   "source": [
    "import uproot \n",
    "import numpy as np\n",
    "import math\n",
    "import pandas as pd\n",
    "import tensorflow as tf\n",
    "import matplotlib.pyplot as plt\n",
    "from sklearn.model_selection import train_test_split\n",
    "from sklearn.metrics import accuracy_score, roc_curve, roc_auc_score\n",
    "\n",
    "from pylorentz import Momentum4\n",
    "from pylorentz import Position4\n",
    "from lbn_modified import LBN, LBNLayer\n",
    "from ROOT import TLorentzVector, TVector3"
   ]
  },
  {
   "cell_type": "code",
   "execution_count": 11,
   "metadata": {},
   "outputs": [],
   "source": [
    "tree_tt = uproot.open(\"/eos/user/k/kgalambo/SWAN_projects/Masters_CP_Kristof_2/MVAFILE_AllHiggs_tt.root\")[\"ntuple\"]\n",
    "\n",
    "variables = [\n",
    "            \"wt_cp_sm\", \"wt_cp_ps\", \"wt_cp_mm\", \"rand\",\n",
    "            \"aco_angle_1\", \n",
    "            \"mva_dm_1\",\"mva_dm_2\",\n",
    "            \"tau_decay_mode_1\",\"tau_decay_mode_2\",\n",
    "        #     \"ip_x_1\", \"ip_y_1\", \"ip_z_1\", \"ip_x_2\", \"ip_y_2\", \"ip_z_2\", # ignore impact parameter for now\n",
    "            \"pi_E_1\", \"pi_px_1\", \"pi_py_1\", \"pi_pz_1\", \n",
    "            \"pi_E_2\", \"pi_px_2\", \"pi_py_2\", \"pi_pz_2\", \n",
    "            \"pi0_E_1\", \"pi0_px_1\", \"pi0_py_1\", \"pi0_pz_1\",\n",
    "            \"pi0_E_2\", \"pi0_px_2\", \"pi0_py_2\", \"pi0_pz_2\", \n",
    "            \"y_1_1\", \"y_1_2\"\n",
    "        ]"
   ]
  },
  {
   "cell_type": "code",
   "execution_count": 80,
   "metadata": {},
   "outputs": [],
   "source": [
    "# this line takes a long time!\n",
    "df = tree_tt.pandas.df(variables)"
   ]
  },
  {
   "cell_type": "code",
   "execution_count": 81,
   "metadata": {},
   "outputs": [
    {
     "name": "stdout",
     "output_type": "stream",
     "text": [
      "{0, 1, 2, 10, 11, -1}\n",
      "{0, 1, 2, 10, 11, -1}\n",
      "{0, 1, 10, 11}\n",
      "{0, 1, 10, 11}\n"
     ]
    }
   ],
   "source": [
    "print(set(df['mva_dm_1']))\n",
    "print(set(df['mva_dm_2']))\n",
    "print(set(df['tau_decay_mode_1']))\n",
    "print(set(df['tau_decay_mode_2']))"
   ]
  },
  {
   "cell_type": "code",
   "execution_count": 82,
   "metadata": {},
   "outputs": [],
   "source": [
    "# select only rho-rho events\n",
    "df = df[(df['mva_dm_1']==1) & (df['mva_dm_2']==1) & (df[\"tau_decay_mode_1\"] == 1) & (df[\"tau_decay_mode_2\"] == 1)]"
   ]
  },
  {
   "cell_type": "code",
   "execution_count": 88,
   "metadata": {},
   "outputs": [],
   "source": [
    "# create labels y\n",
    "#binary\n",
    "#y = (~(df[\"rand\"]<df[\"wt_cp_ps\"]/2).to_numpy()).astype(int)\n",
    "#non-binary\n",
    "y = df[\"wt_cp_sm\"] / (df[\"wt_cp_ps\"] + df[\"wt_cp_sm\"])"
   ]
  },
  {
   "cell_type": "code",
   "execution_count": null,
   "metadata": {},
   "outputs": [],
   "source": [
    "# drop unnecessary labels \n",
    "df = df.drop([\"mva_dm_1\",\"mva_dm_2\",\"tau_decay_mode_1\",\"tau_decay_mode_2\", \"wt_cp_sm\", \"wt_cp_ps\", \"wt_cp_mm\", \"rand\"], axis=1).reset_index(drop=True)"
   ]
  },
  {
   "cell_type": "code",
   "execution_count": 15,
   "metadata": {},
   "outputs": [
    {
     "data": {
      "text/html": [
       "<div>\n",
       "<style scoped>\n",
       "    .dataframe tbody tr th:only-of-type {\n",
       "        vertical-align: middle;\n",
       "    }\n",
       "\n",
       "    .dataframe tbody tr th {\n",
       "        vertical-align: top;\n",
       "    }\n",
       "\n",
       "    .dataframe thead th {\n",
       "        text-align: right;\n",
       "    }\n",
       "</style>\n",
       "<table border=\"1\" class=\"dataframe\">\n",
       "  <thead>\n",
       "    <tr style=\"text-align: right;\">\n",
       "      <th></th>\n",
       "      <th>aco_angle_1</th>\n",
       "      <th>pi_E_1</th>\n",
       "      <th>pi_px_1</th>\n",
       "      <th>pi_py_1</th>\n",
       "      <th>pi_pz_1</th>\n",
       "      <th>pi_E_2</th>\n",
       "      <th>pi_px_2</th>\n",
       "      <th>pi_py_2</th>\n",
       "      <th>pi_pz_2</th>\n",
       "      <th>pi0_E_1</th>\n",
       "      <th>pi0_px_1</th>\n",
       "      <th>pi0_py_1</th>\n",
       "      <th>pi0_pz_1</th>\n",
       "      <th>pi0_E_2</th>\n",
       "      <th>pi0_px_2</th>\n",
       "      <th>pi0_py_2</th>\n",
       "      <th>pi0_pz_2</th>\n",
       "      <th>y_1_1</th>\n",
       "      <th>y_1_2</th>\n",
       "    </tr>\n",
       "  </thead>\n",
       "  <tbody>\n",
       "    <tr>\n",
       "      <th>0</th>\n",
       "      <td>2.657029</td>\n",
       "      <td>45.423448</td>\n",
       "      <td>-13.747046</td>\n",
       "      <td>-38.825621</td>\n",
       "      <td>-19.153590</td>\n",
       "      <td>35.805782</td>\n",
       "      <td>8.526798</td>\n",
       "      <td>34.653880</td>\n",
       "      <td>2.904638</td>\n",
       "      <td>10.039846</td>\n",
       "      <td>-3.551914</td>\n",
       "      <td>-8.385803</td>\n",
       "      <td>-4.224041</td>\n",
       "      <td>6.112238</td>\n",
       "      <td>1.959179</td>\n",
       "      <td>5.735656</td>\n",
       "      <td>0.777900</td>\n",
       "      <td>-0.637964</td>\n",
       "      <td>-0.708372</td>\n",
       "    </tr>\n",
       "    <tr>\n",
       "      <th>1</th>\n",
       "      <td>1.547246</td>\n",
       "      <td>24.506373</td>\n",
       "      <td>-14.056253</td>\n",
       "      <td>9.809321</td>\n",
       "      <td>-17.514046</td>\n",
       "      <td>19.587723</td>\n",
       "      <td>8.539313</td>\n",
       "      <td>-3.149378</td>\n",
       "      <td>-17.344192</td>\n",
       "      <td>41.244844</td>\n",
       "      <td>-24.443820</td>\n",
       "      <td>15.370633</td>\n",
       "      <td>-29.451014</td>\n",
       "      <td>77.036002</td>\n",
       "      <td>32.655902</td>\n",
       "      <td>-12.032904</td>\n",
       "      <td>-68.726477</td>\n",
       "      <td>0.254573</td>\n",
       "      <td>0.594557</td>\n",
       "    </tr>\n",
       "    <tr>\n",
       "      <th>2</th>\n",
       "      <td>3.750274</td>\n",
       "      <td>15.319610</td>\n",
       "      <td>8.794122</td>\n",
       "      <td>0.774085</td>\n",
       "      <td>12.519393</td>\n",
       "      <td>17.469988</td>\n",
       "      <td>-9.876231</td>\n",
       "      <td>-3.253855</td>\n",
       "      <td>14.037575</td>\n",
       "      <td>69.457213</td>\n",
       "      <td>38.899682</td>\n",
       "      <td>2.503120</td>\n",
       "      <td>57.487698</td>\n",
       "      <td>56.810782</td>\n",
       "      <td>-32.919951</td>\n",
       "      <td>-10.831700</td>\n",
       "      <td>45.015529</td>\n",
       "      <td>0.638590</td>\n",
       "      <td>0.529623</td>\n",
       "    </tr>\n",
       "    <tr>\n",
       "      <th>3</th>\n",
       "      <td>1.192612</td>\n",
       "      <td>94.211361</td>\n",
       "      <td>42.942276</td>\n",
       "      <td>-33.711103</td>\n",
       "      <td>-76.780750</td>\n",
       "      <td>3.656937</td>\n",
       "      <td>-2.129749</td>\n",
       "      <td>0.251363</td>\n",
       "      <td>-2.958835</td>\n",
       "      <td>25.585962</td>\n",
       "      <td>11.770386</td>\n",
       "      <td>-8.993712</td>\n",
       "      <td>-20.861314</td>\n",
       "      <td>68.839211</td>\n",
       "      <td>-41.770362</td>\n",
       "      <td>4.326843</td>\n",
       "      <td>-54.546623</td>\n",
       "      <td>-0.572846</td>\n",
       "      <td>0.899114</td>\n",
       "    </tr>\n",
       "    <tr>\n",
       "      <th>4</th>\n",
       "      <td>3.264792</td>\n",
       "      <td>25.899289</td>\n",
       "      <td>-22.245884</td>\n",
       "      <td>-12.141924</td>\n",
       "      <td>-5.333670</td>\n",
       "      <td>23.795390</td>\n",
       "      <td>21.402816</td>\n",
       "      <td>9.436143</td>\n",
       "      <td>-4.368043</td>\n",
       "      <td>23.216735</td>\n",
       "      <td>-20.268636</td>\n",
       "      <td>-10.296444</td>\n",
       "      <td>-4.707891</td>\n",
       "      <td>18.242053</td>\n",
       "      <td>16.607666</td>\n",
       "      <td>6.693405</td>\n",
       "      <td>-3.483969</td>\n",
       "      <td>-0.054617</td>\n",
       "      <td>-0.132105</td>\n",
       "    </tr>\n",
       "  </tbody>\n",
       "</table>\n",
       "</div>"
      ],
      "text/plain": [
       "   aco_angle_1     pi_E_1    pi_px_1    pi_py_1    pi_pz_1     pi_E_2  \\\n",
       "0     2.657029  45.423448 -13.747046 -38.825621 -19.153590  35.805782   \n",
       "1     1.547246  24.506373 -14.056253   9.809321 -17.514046  19.587723   \n",
       "2     3.750274  15.319610   8.794122   0.774085  12.519393  17.469988   \n",
       "3     1.192612  94.211361  42.942276 -33.711103 -76.780750   3.656937   \n",
       "4     3.264792  25.899289 -22.245884 -12.141924  -5.333670  23.795390   \n",
       "\n",
       "     pi_px_2    pi_py_2    pi_pz_2    pi0_E_1   pi0_px_1   pi0_py_1  \\\n",
       "0   8.526798  34.653880   2.904638  10.039846  -3.551914  -8.385803   \n",
       "1   8.539313  -3.149378 -17.344192  41.244844 -24.443820  15.370633   \n",
       "2  -9.876231  -3.253855  14.037575  69.457213  38.899682   2.503120   \n",
       "3  -2.129749   0.251363  -2.958835  25.585962  11.770386  -8.993712   \n",
       "4  21.402816   9.436143  -4.368043  23.216735 -20.268636 -10.296444   \n",
       "\n",
       "    pi0_pz_1    pi0_E_2   pi0_px_2   pi0_py_2   pi0_pz_2     y_1_1     y_1_2  \n",
       "0  -4.224041   6.112238   1.959179   5.735656   0.777900 -0.637964 -0.708372  \n",
       "1 -29.451014  77.036002  32.655902 -12.032904 -68.726477  0.254573  0.594557  \n",
       "2  57.487698  56.810782 -32.919951 -10.831700  45.015529  0.638590  0.529623  \n",
       "3 -20.861314  68.839211 -41.770362   4.326843 -54.546623 -0.572846  0.899114  \n",
       "4  -4.707891  18.242053  16.607666   6.693405  -3.483969 -0.054617 -0.132105  "
      ]
     },
     "execution_count": 15,
     "metadata": {},
     "output_type": "execute_result"
    }
   ],
   "source": [
    "df.head()"
   ]
  },
  {
   "cell_type": "markdown",
   "metadata": {},
   "source": [
    "- [x] calculate 4 momentum of resonances\n",
    "- [x] calculate invariant mass of resonances m^2 = E^2 - p^2\n",
    "- [ ] cascades?"
   ]
  },
  {
   "cell_type": "code",
   "execution_count": 16,
   "metadata": {},
   "outputs": [],
   "source": [
    "# parse particle information\n",
    "#columns = ['E', 'px', 'py', 'pz']\n",
    "\n",
    "pi_1 = df[['pi_E_1', \"pi_px_1\", \"pi_py_1\", \"pi_pz_1\"]].to_numpy()\n",
    "pi_2 = df[['pi_E_2', \"pi_px_2\", \"pi_py_2\", \"pi_pz_2\"]].to_numpy()\n",
    "pi0_1 = df[['pi0_E_1', \"pi0_px_1\", \"pi0_py_1\", \"pi0_pz_1\"]].to_numpy()\n",
    "pi0_2 = df[['pi0_E_2', \"pi0_px_2\", \"pi0_py_2\", \"pi0_pz_2\"]].to_numpy()"
   ]
  },
  {
   "cell_type": "code",
   "execution_count": 17,
   "metadata": {},
   "outputs": [],
   "source": [
    "# reconstruct resonance 4 momentum\n",
    "rho_1 = pi_1 + pi0_1\n",
    "rho_2 = pi_2 + pi0_2"
   ]
  },
  {
   "cell_type": "code",
   "execution_count": 18,
   "metadata": {
    "scrolled": false
   },
   "outputs": [],
   "source": [
    "# calculate invariate masses\n",
    "rho_1_m = (rho_1[:, 0]**2 - rho_1[:, 1]**2 - rho_1[:, 2]**2 - rho_1[:, 3]**2)**0.5\n",
    "rho_2_m = (rho_2[:, 0]**2 - rho_2[:, 1]**2 - rho_2[:, 2]**2 - rho_2[:, 3]**2)**0.5"
   ]
  },
  {
   "cell_type": "code",
   "execution_count": 19,
   "metadata": {},
   "outputs": [],
   "source": [
    "p3 = Momentum4(pi_1[:, 0], pi_1[:, 1], pi_1[:, 2], pi_1[:, 3])\n",
    "p4 = Momentum4(pi_2[:, 0], pi_2[:, 1], pi_2[:, 2], pi_2[:, 3])\n",
    "p1 = Momentum4(pi0_1[:, 0], pi0_1[:, 1], pi0_1[:, 2], pi0_1[:, 3])\n",
    "p2 = Momentum4(pi0_2[:, 0], pi0_2[:, 1], pi0_2[:, 2], pi0_2[:, 3])\n",
    "r1 = p1 + p3\n",
    "r2 = p2 + p4\n",
    "rest_frame = p1 + p2 + p3 + p4"
   ]
  },
  {
   "cell_type": "code",
   "execution_count": 20,
   "metadata": {},
   "outputs": [],
   "source": [
    "#p1_boosted = p1.boost_particle(-r1)\n",
    "#p3_boosted = p3.boost_particle(-r1)\n",
    "#p2_boosted = p2.boost_particle(-r2)\n",
    "#p4_boosted = p4.boost_particle(-r2)\n",
    "\n",
    "p1_boosted = p1.boost_particle(-rest_frame)\n",
    "p3_boosted = p3.boost_particle(-rest_frame)\n",
    "p2_boosted = p2.boost_particle(-rest_frame)\n",
    "p4_boosted = p4.boost_particle(-rest_frame)\n",
    "\n",
    "r1_boosted = p1_boosted + p3_boosted\n",
    "r2_boosted = p2_boosted + p4_boosted"
   ]
  },
  {
   "cell_type": "markdown",
   "metadata": {},
   "source": [
    "## Rotations\n",
    "\n",
    "The rotations are done as follows:\n",
    "\n",
    "- calculate unit vectors along the 3-momenta\n",
    "\n",
    "- calculate the axes which are perpendicular to the z-axis and the unit vectors\n",
    "\n",
    "- rotate the 3-momenta about these axes by the angle between the z-axis and the unit vectors"
   ]
  },
  {
   "cell_type": "code",
   "execution_count": 21,
   "metadata": {},
   "outputs": [],
   "source": [
    "#unit vectors along the momenta of the primary resonances\n",
    "unit1 = (r1_boosted[1:, :] / np.linalg.norm(r1_boosted[1:, :], axis=0)).transpose()\n",
    "unit2 = (r2_boosted[1:, :] / np.linalg.norm(r2_boosted[1:, :], axis=0)).transpose()"
   ]
  },
  {
   "cell_type": "code",
   "execution_count": 22,
   "metadata": {},
   "outputs": [],
   "source": [
    "# probably there's a faster way of doing this\n",
    "zaxis = np.array([np.array([0., 0., 1.]) for _ in range(len(unit1))])"
   ]
  },
  {
   "cell_type": "code",
   "execution_count": 23,
   "metadata": {},
   "outputs": [],
   "source": [
    "axes1 = np.cross(unit1, zaxis)\n",
    "axes2 = np.cross(unit2, zaxis)"
   ]
  },
  {
   "cell_type": "code",
   "execution_count": 24,
   "metadata": {},
   "outputs": [],
   "source": [
    "dotproduct1 = (unit1*zaxis).sum(1)\n",
    "angles1 = np.arccos(dotproduct1)\n",
    "dotproduct2 = (unit2*zaxis).sum(1)\n",
    "angles2 = np.arccos(dotproduct2)"
   ]
  },
  {
   "cell_type": "code",
   "execution_count": 25,
   "metadata": {},
   "outputs": [
    {
     "name": "stdout",
     "output_type": "stream",
     "text": [
      "The rotated test_vector is:\n",
      "[ 2.22044605e-16  0.00000000e+00 -1.00000000e+00]\n"
     ]
    }
   ],
   "source": [
    "def rotation_matrix(axis, theta):\n",
    "    \"\"\"\n",
    "    Return the rotation matrix associated with counterclockwise rotation about\n",
    "    the given axis by theta radians.\n",
    "    \"\"\"\n",
    "    axis = np.asarray(axis)\n",
    "    axis = axis / math.sqrt(np.dot(axis, axis))\n",
    "    a = math.cos(theta / 2.0)\n",
    "    b, c, d = -axis * math.sin(theta / 2.0)\n",
    "    aa, bb, cc, dd = a * a, b * b, c * c, d * d\n",
    "    bc, ad, ac, ab, bd, cd = b * c, a * d, a * c, a * b, b * d, c * d\n",
    "    return np.array([[aa + bb - cc - dd, 2 * (bc + ad), 2 * (bd - ac)],\n",
    "                     [2 * (bc - ad), aa + cc - bb - dd, 2 * (cd + ab)],\n",
    "                     [2 * (bd + ac), 2 * (cd - ab), aa + dd - bb - cc]])\n",
    "\n",
    "def rotate(vect, axis, theta):\n",
    "    return np.dot(rotation_matrix(axis, theta), vect)\n",
    "\n",
    "test_vector = [1, 0, 0]\n",
    "test_axis = [0, 1, 0]\n",
    "test_angle = np.pi/2\n",
    "\n",
    "print('The rotated test_vector is:')\n",
    "print(rotate(test_vector, test_axis, test_angle))"
   ]
  },
  {
   "cell_type": "code",
   "execution_count": 26,
   "metadata": {},
   "outputs": [
    {
     "name": "stdout",
     "output_type": "stream",
     "text": [
      "finished rotating 3-vector 0\n",
      "finished rotating 3-vector 100000\n",
      "finished rotating 3-vector 200000\n",
      "finished rotating 3-vector 300000\n",
      "finished rotating 3-vector 400000\n",
      "finished rotating 3-vector 500000\n",
      "finished rotating 3-vector 600000\n"
     ]
    }
   ],
   "source": [
    "# it would be nice to be able to do the rotation in a vectorized form, like this:\n",
    "#p1rot = rotate(p1_boosted[1:, :].transpose(), axes1, angles1)\n",
    "\n",
    "p1rot = []\n",
    "p2rot = []\n",
    "p3rot = []\n",
    "p4rot = []\n",
    "for i in range(p1_boosted[:].shape[1]):\n",
    "    p1rot.append(rotate(p1_boosted[1:, i], axes1[i], angles1[i]))\n",
    "    p2rot.append(rotate(p2_boosted[1:, i], axes1[i], angles1[i]))\n",
    "    p3rot.append(rotate(p3_boosted[1:, i], axes1[i], angles1[i]))\n",
    "    p4rot.append(rotate(p4_boosted[1:, i], axes1[i], angles1[i]))\n",
    "    if i%100000==0:\n",
    "        print('finished rotating 3-vector', i)\n",
    "p1rot = np.array(p1rot)\n",
    "p2rot = np.array(p2rot)\n",
    "p3rot = np.array(p3rot)\n",
    "p4rot = np.array(p4rot)"
   ]
  },
  {
   "cell_type": "code",
   "execution_count": 27,
   "metadata": {},
   "outputs": [
    {
     "name": "stdout",
     "output_type": "stream",
     "text": [
      "finished getting rotated 4-vector 0\n",
      "finished getting rotated 4-vector 100000\n",
      "finished getting rotated 4-vector 200000\n",
      "finished getting rotated 4-vector 300000\n",
      "finished getting rotated 4-vector 400000\n",
      "finished getting rotated 4-vector 500000\n",
      "finished getting rotated 4-vector 600000\n"
     ]
    }
   ],
   "source": [
    "# this should be vectorized as well\n",
    "p1_rotated = []\n",
    "p2_rotated = []\n",
    "p3_rotated = []\n",
    "p4_rotated = []\n",
    "for i in range(p1_boosted[:].shape[1]):\n",
    "    p1_rotated.append([p1_boosted[0, i], p1rot[i, 0], p1rot[i, 1], p1rot[i, 2]])\n",
    "    p2_rotated.append([p2_boosted[0, i], p2rot[i, 0], p2rot[i, 1], p2rot[i, 2]])\n",
    "    p3_rotated.append([p3_boosted[0, i], p3rot[i, 0], p3rot[i, 1], p3rot[i, 2]])\n",
    "    p4_rotated.append([p4_boosted[0, i], p4rot[i, 0], p4rot[i, 1], p4rot[i, 2]])\n",
    "    if i%100000==0:\n",
    "        print('finished getting rotated 4-vector', i)\n",
    "p1_rotated = np.array(p1_rotated).transpose()\n",
    "p2_rotated = np.array(p2_rotated).transpose()\n",
    "p3_rotated = np.array(p3_rotated).transpose()\n",
    "p4_rotated = np.array(p4_rotated).transpose()"
   ]
  },
  {
   "cell_type": "code",
   "execution_count": 28,
   "metadata": {},
   "outputs": [
    {
     "name": "stdout",
     "output_type": "stream",
     "text": [
      "(4, 653528)\n",
      "1.2899681323119694e-12\n",
      "6.278533248860185e-12\n",
      "1191.230810973787\n",
      "The first few boosted and rotated 4-vectors of pi_1 is:\n",
      "[[ 3.80031346e-01 -2.40221580e-01  3.88633983e+01]\n",
      " [ 3.43116131e-01  3.84715978e-01  1.71668456e+01]\n",
      " [-2.83708649e-01  4.96199492e-02  8.52098538e+00]\n",
      " [-1.06539667e-01 -1.10185212e-01  4.18362165e+01]\n",
      " [ 2.70168612e-01 -2.33073683e-01  2.34526166e+01]\n",
      " [ 2.93718273e-02 -2.36750549e-01  5.75406667e+00]\n",
      " [ 4.62458582e-02  1.75440068e-01  3.98863396e+01]\n",
      " [ 2.66187229e-01  1.02537116e-01  1.04857179e+01]\n",
      " [ 1.36384396e-01 -3.41001429e-01  1.81292853e+01]\n",
      " [ 1.85025944e-01  1.97250644e-01  2.22593776e+01]]\n"
     ]
    }
   ],
   "source": [
    "#check rotations\n",
    "print(p1_rotated.shape)\n",
    "print(np.nanmax(p1_rotated[1, :] + p3_rotated[1, :]))\n",
    "print(np.nanmax(p2_rotated[1, :] + p4_rotated[1, :]))\n",
    "\n",
    "print(np.nanmax((p1_rotated[3, :] + p3_rotated[3, :]) - (p2_rotated[3, :] + p4_rotated[3, :])))\n",
    "\n",
    "print('The first few boosted and rotated 4-vectors of pi_1 is:')\n",
    "print(p3_rotated[1:, 0:10].transpose())"
   ]
  },
  {
   "cell_type": "markdown",
   "metadata": {},
   "source": [
    "### Results of the rotations:\n",
    "\n",
    "With the first version of boosting:\n",
    "\n",
    "The first boosted and rotated 4-vector of pi_1 is:\n",
    "\n",
    "[-0.61099598  0.53500495  0.25445607  0.05357516]\n",
    "\n",
    "With Stanley's version of boosting:\n",
    "\n",
    "The first boosted and rotated 4-vector of pi_1 is:\n",
    "\n",
    "[-38.86624918   0.38003135  -0.24022158  38.8633983 ]"
   ]
  },
  {
   "cell_type": "markdown",
   "metadata": {},
   "source": [
    "## The neural net\n",
    "\n",
    "The inputs of these neural nets are the following:\n",
    "\n",
    "- aco_angle_1\n",
    "\n",
    "- y_1_1 and y_1_2\n",
    "\n",
    "- the primary resonance masses\n",
    "\n",
    "- the unrotated, or the rotated 4-vectors, or no 4-vectors at all"
   ]
  },
  {
   "cell_type": "code",
   "execution_count": 29,
   "metadata": {},
   "outputs": [],
   "source": [
    "# create features and labels\n",
    "\n",
    "aco_angle_1 = df['aco_angle_1'].to_numpy()\n",
    "y_1_1 = df['y_1_1'].to_numpy()\n",
    "y_1_2 = df['y_1_2'].to_numpy()\n",
    "\n",
    "# this will use the unrotated, boosted 4-vectors:\n",
    "E1 = p1_boosted[0]\n",
    "px1 = p1_boosted[1]\n",
    "py1 = p1_boosted[2]\n",
    "pz1 = p1_boosted[3]\n",
    "E2 = p2_boosted[0]\n",
    "px2 = p2_boosted[1]\n",
    "py2 = p2_boosted[2]\n",
    "pz2 = p2_boosted[3]\n",
    "E3 = p3_boosted[0]\n",
    "px3 = p3_boosted[1]\n",
    "py3 = p3_boosted[2]\n",
    "pz3 = p3_boosted[3]\n",
    "E4 = p4_boosted[0]\n",
    "px4 = p4_boosted[1]\n",
    "py4 = p4_boosted[2]\n",
    "pz4 = p4_boosted[3]\n",
    "\n",
    "# this will use the rotated, boosted 4-vectors:\n",
    "E1r = p1_rotated[0]\n",
    "px1r = p1_rotated[1]\n",
    "py1r = p1_rotated[2]\n",
    "pz1r = p1_rotated[3]\n",
    "E2r = p2_rotated[0]\n",
    "px2r = p2_rotated[1]\n",
    "py2r = p2_rotated[2]\n",
    "pz2r = p2_rotated[3]\n",
    "E3r = p3_rotated[0]\n",
    "px3r = p3_rotated[1]\n",
    "py3r = p3_rotated[2]\n",
    "pz3r = p3_rotated[3]\n",
    "E4r = p4_rotated[0]\n",
    "px4r = p4_rotated[1]\n",
    "py4r = p4_rotated[2]\n",
    "pz4r = p4_rotated[3]\n",
    "\n",
    "# y is defined earlier"
   ]
  },
  {
   "cell_type": "code",
   "execution_count": 30,
   "metadata": {},
   "outputs": [],
   "source": [
    "# if it gives the same accuracy score with the 4-vectors and without them, that's bad\n",
    "## with the unrotated 4-vectors:\n",
    "#X = np.stack([rho_1_m, rho_2_m, E1, px1, py1, pz1, E2, px2, py2, pz2, E3, px3, py3, pz3, E4, px4, py4, pz4, aco_angle_1, y_1_1, y_1_2], axis=1)\n",
    "# with the rotated 4-vectors:\n",
    "X = np.stack([rho_1_m, rho_2_m, E1r, px1r, py1r, pz1r, E2r, px2r, py2r, pz2r, E3r, px3r, py3r, pz3r, E4r, px4r, py4r, pz4r, aco_angle_1, y_1_1, y_1_2], axis=1)\n",
    "## without the 4-vectors:\n",
    "#X = np.stack([rho_1_m, rho_2_m, aco_angle_1, y_1_1, y_1_2], axis=1)"
   ]
  },
  {
   "cell_type": "code",
   "execution_count": 31,
   "metadata": {},
   "outputs": [
    {
     "name": "stdout",
     "output_type": "stream",
     "text": [
      "[]\n"
     ]
    }
   ],
   "source": [
    "# for some reason there are about 30,000 nan values in X\n",
    "print(np.argwhere(np.isnan(X)))"
   ]
  },
  {
   "cell_type": "code",
   "execution_count": 32,
   "metadata": {},
   "outputs": [],
   "source": [
    "## will debug this tomorrow\n",
    "## this would remove the nans from the feature and the label set\n",
    "#nan_mask = np.isnan(X)\n",
    "#nan_mask_y = np.array([x.any() for x in nan_mask])\n",
    "#print(nan_mask_y.shape)\n",
    "#print(y.shape)\n",
    "#print(X.shape)\n",
    "#X = X[~nan_mask].reshape((-1, 21))\n",
    "#y = y[~nan_mask_y]\n",
    "#print(X.shape)"
   ]
  },
  {
   "cell_type": "code",
   "execution_count": 33,
   "metadata": {},
   "outputs": [
    {
     "name": "stdout",
     "output_type": "stream",
     "text": [
      "(653528,)\n",
      "(653528, 21)\n",
      "The number of samples should be the same in X and y!\n"
     ]
    }
   ],
   "source": [
    "print(y.shape)\n",
    "print(X.shape)\n",
    "print('The number of samples should be the same in X and y!')"
   ]
  },
  {
   "cell_type": "code",
   "execution_count": 34,
   "metadata": {},
   "outputs": [],
   "source": [
    "# split X and y into train and validation dataset \n",
    "\n",
    "X_train, X_test, y_train, y_test  = train_test_split(\n",
    "    X,\n",
    "    y,\n",
    "    test_size=0.2,\n",
    "    random_state=123456,\n",
    "    #stratify=y.values,\n",
    ")"
   ]
  },
  {
   "cell_type": "code",
   "execution_count": 60,
   "metadata": {},
   "outputs": [],
   "source": [
    "# define a simple NN\n",
    "def baseline_model(dimensions=-1):\n",
    "    if dimensions == -1:\n",
    "        dimensions = X.shape[1]\n",
    "    # create model\n",
    "    model = tf.keras.models.Sequential()\n",
    "    model.add(tf.keras.layers.Dense(38, input_dim=dimensions, kernel_initializer='normal', activation='relu'))\n",
    "    model.add(tf.keras.layers.Dense(100, kernel_initializer='normal', activation='relu'))\n",
    "    model.add(tf.keras.layers.Dense(1, activation=\"sigmoid\"))\n",
    "    model.compile(loss='binary_crossentropy', optimizer='adam')  \n",
    "    return model"
   ]
  },
  {
   "cell_type": "code",
   "execution_count": 36,
   "metadata": {},
   "outputs": [],
   "source": [
    "# define early stopping\n",
    "early_stop = tf.keras.callbacks.EarlyStopping(monitor='val_loss',patience=10)"
   ]
  },
  {
   "cell_type": "code",
   "execution_count": 37,
   "metadata": {},
   "outputs": [
    {
     "name": "stderr",
     "output_type": "stream",
     "text": [
      "WARNING: Logging before flag parsing goes to stderr.\n",
      "W1108 15:28:08.133436 140680596404032 ag_logging.py:146] AutoGraph could not transform <function Model.make_train_function.<locals>.train_function at 0x7ff0b184e3b0> and will run it as-is.\n",
      "Please report this to the TensorFlow team. When filing the bug, set the verbosity to 10 (on Linux, `export AUTOGRAPH_VERBOSITY=10`) and attach the full output.\n",
      "Cause: 'arguments' object has no attribute 'posonlyargs'\n",
      "To silence this warning, decorate the function with @tf.autograph.experimental.do_not_convert\n"
     ]
    },
    {
     "name": "stdout",
     "output_type": "stream",
     "text": [
      "Epoch 1/20\n",
      "WARNING: AutoGraph could not transform <function Model.make_train_function.<locals>.train_function at 0x7ff0b184e3b0> and will run it as-is.\n",
      "Please report this to the TensorFlow team. When filing the bug, set the verbosity to 10 (on Linux, `export AUTOGRAPH_VERBOSITY=10`) and attach the full output.\n",
      "Cause: 'arguments' object has no attribute 'posonlyargs'\n",
      "To silence this warning, decorate the function with @tf.autograph.experimental.do_not_convert\n",
      "50/53 [===========================>..] - ETA: 0s - loss: 0.6954"
     ]
    },
    {
     "name": "stderr",
     "output_type": "stream",
     "text": [
      "W1108 15:28:10.663721 140680596404032 ag_logging.py:146] AutoGraph could not transform <function Model.make_test_function.<locals>.test_function at 0x7ff0b18b5a70> and will run it as-is.\n",
      "Please report this to the TensorFlow team. When filing the bug, set the verbosity to 10 (on Linux, `export AUTOGRAPH_VERBOSITY=10`) and attach the full output.\n",
      "Cause: 'arguments' object has no attribute 'posonlyargs'\n",
      "To silence this warning, decorate the function with @tf.autograph.experimental.do_not_convert\n"
     ]
    },
    {
     "name": "stdout",
     "output_type": "stream",
     "text": [
      "WARNING: AutoGraph could not transform <function Model.make_test_function.<locals>.test_function at 0x7ff0b18b5a70> and will run it as-is.\n",
      "Please report this to the TensorFlow team. When filing the bug, set the verbosity to 10 (on Linux, `export AUTOGRAPH_VERBOSITY=10`) and attach the full output.\n",
      "Cause: 'arguments' object has no attribute 'posonlyargs'\n",
      "To silence this warning, decorate the function with @tf.autograph.experimental.do_not_convert\n",
      "53/53 [==============================] - 2s 38ms/step - loss: 0.6950 - val_loss: 0.6872\n",
      "Epoch 2/20\n",
      "53/53 [==============================] - 2s 34ms/step - loss: 0.6853 - val_loss: 0.6842\n",
      "Epoch 3/20\n",
      "53/53 [==============================] - 2s 36ms/step - loss: 0.6832 - val_loss: 0.6827\n",
      "Epoch 4/20\n",
      "53/53 [==============================] - 2s 33ms/step - loss: 0.6823 - val_loss: 0.6821\n",
      "Epoch 5/20\n",
      "53/53 [==============================] - 2s 36ms/step - loss: 0.6819 - val_loss: 0.6820\n",
      "Epoch 6/20\n",
      "53/53 [==============================] - 2s 36ms/step - loss: 0.6818 - val_loss: 0.6820\n",
      "Epoch 7/20\n",
      "53/53 [==============================] - 2s 33ms/step - loss: 0.6816 - val_loss: 0.6824\n",
      "Epoch 8/20\n",
      "53/53 [==============================] - 2s 36ms/step - loss: 0.6806 - val_loss: 0.6808\n",
      "Epoch 9/20\n",
      "53/53 [==============================] - 2s 36ms/step - loss: 0.6790 - val_loss: 0.6780\n",
      "Epoch 10/20\n",
      "53/53 [==============================] - 2s 34ms/step - loss: 0.6765 - val_loss: 0.6757\n",
      "Epoch 11/20\n",
      "53/53 [==============================] - 2s 34ms/step - loss: 0.6746 - val_loss: 0.6743\n",
      "Epoch 12/20\n",
      "53/53 [==============================] - 2s 36ms/step - loss: 0.6740 - val_loss: 0.6771\n",
      "Epoch 13/20\n",
      "53/53 [==============================] - 2s 36ms/step - loss: 0.6731 - val_loss: 0.6728\n",
      "Epoch 14/20\n",
      "53/53 [==============================] - 2s 35ms/step - loss: 0.6722 - val_loss: 0.6713\n",
      "Epoch 15/20\n",
      "53/53 [==============================] - 2s 34ms/step - loss: 0.6711 - val_loss: 0.6711\n",
      "Epoch 16/20\n",
      "53/53 [==============================] - 2s 34ms/step - loss: 0.6709 - val_loss: 0.6712\n",
      "Epoch 17/20\n",
      "53/53 [==============================] - 2s 34ms/step - loss: 0.6706 - val_loss: 0.6697\n",
      "Epoch 18/20\n",
      "53/53 [==============================] - 2s 34ms/step - loss: 0.6701 - val_loss: 0.6702\n",
      "Epoch 19/20\n",
      "53/53 [==============================] - 2s 35ms/step - loss: 0.6705 - val_loss: 0.6708\n",
      "Epoch 20/20\n",
      "53/53 [==============================] - 2s 32ms/step - loss: 0.6699 - val_loss: 0.6705\n"
     ]
    },
    {
     "data": {
      "text/plain": [
       "<tensorflow.python.keras.callbacks.History at 0x7ff0ae4ddb50>"
      ]
     },
     "execution_count": 37,
     "metadata": {},
     "output_type": "execute_result"
    },
    {
     "name": "stderr",
     "output_type": "stream",
     "text": [
      "2020-11-08 15:28:07.769851: I tensorflow/core/platform/cpu_feature_guard.cc:142] This TensorFlow binary is optimized with oneAPI Deep Neural Network Library (oneDNN)to use the following CPU instructions in performance-critical operations:  AVX2 FMA\n",
      "To enable them in other operations, rebuild TensorFlow with the appropriate compiler flags.\n",
      "2020-11-08 15:28:07.809940: I tensorflow/core/platform/profile_utils/cpu_utils.cc:104] CPU Frequency: 2400135000 Hz\n",
      "2020-11-08 15:28:07.814315: I tensorflow/compiler/xla/service/service.cc:168] XLA service 0x4183f0a0 initialized for platform Host (this does not guarantee that XLA will be used). Devices:\n",
      "2020-11-08 15:28:07.814392: I tensorflow/compiler/xla/service/service.cc:176]   StreamExecutor device (0): Host, Default Version\n"
     ]
    }
   ],
   "source": [
    "# first run the training for simple case with just 1 variable\n",
    "history = tf.keras.callbacks.History()\n",
    "\n",
    "model = baseline_model()\n",
    "\n",
    "model.fit(\n",
    "                X_train, y_train,\n",
    "                batch_size=10000,\n",
    "                epochs=20,\n",
    "                callbacks=[history,early_stop],\n",
    "                validation_data=(X_test, y_test))"
   ]
  },
  {
   "cell_type": "code",
   "execution_count": 38,
   "metadata": {},
   "outputs": [
    {
     "data": {
      "text/plain": [
       "<matplotlib.legend.Legend at 0x7ff0ae4cd190>"
      ]
     },
     "execution_count": 38,
     "metadata": {},
     "output_type": "execute_result"
    },
    {
     "data": {
      "image/png": "[encoded data removed]",
      "text/plain": [
       "<Figure size 432x288 with 1 Axes>"
      ]
     },
     "metadata": {
      "needs_background": "light"
     },
     "output_type": "display_data"
    }
   ],
   "source": [
    "# Extract number of run epochs from the training history\n",
    "epochs = range(1, len(history.history[\"loss\"])+1)\n",
    "\n",
    "# Extract loss on training and validation ddataset and plot them together\n",
    "plt.plot(epochs, history.history[\"loss\"], \"o-\", label=\"Training\")\n",
    "plt.plot(epochs, history.history[\"val_loss\"], \"o-\", label=\"Test\")\n",
    "plt.xlabel(\"Epochs\"), plt.ylabel(\"Loss\")\n",
    "plt.yscale(\"log\")\n",
    "plt.legend()"
   ]
  },
  {
   "cell_type": "code",
   "execution_count": 39,
   "metadata": {},
   "outputs": [
    {
     "name": "stderr",
     "output_type": "stream",
     "text": [
      "W1108 15:28:47.798884 140680596404032 ag_logging.py:146] AutoGraph could not transform <function Model.make_predict_function.<locals>.predict_function at 0x7ff1b00903b0> and will run it as-is.\n",
      "Please report this to the TensorFlow team. When filing the bug, set the verbosity to 10 (on Linux, `export AUTOGRAPH_VERBOSITY=10`) and attach the full output.\n",
      "Cause: 'arguments' object has no attribute 'posonlyargs'\n",
      "To silence this warning, decorate the function with @tf.autograph.experimental.do_not_convert\n"
     ]
    },
    {
     "name": "stdout",
     "output_type": "stream",
     "text": [
      "WARNING: AutoGraph could not transform <function Model.make_predict_function.<locals>.predict_function at 0x7ff1b00903b0> and will run it as-is.\n",
      "Please report this to the TensorFlow team. When filing the bug, set the verbosity to 10 (on Linux, `export AUTOGRAPH_VERBOSITY=10`) and attach the full output.\n",
      "Cause: 'arguments' object has no attribute 'posonlyargs'\n",
      "To silence this warning, decorate the function with @tf.autograph.experimental.do_not_convert\n"
     ]
    }
   ],
   "source": [
    "prediction = model.predict(X_test)"
   ]
  },
  {
   "cell_type": "code",
   "execution_count": 40,
   "metadata": {},
   "outputs": [],
   "source": [
    "y_pred = [int(round(x)) for x in prediction.flatten()]"
   ]
  },
  {
   "cell_type": "code",
   "execution_count": 41,
   "metadata": {},
   "outputs": [
    {
     "name": "stdout",
     "output_type": "stream",
     "text": [
      "The accuracy score is: 0.5873\n"
     ]
    }
   ],
   "source": [
    "print('The accuracy score is: {:.4f}'.format(accuracy_score(y_test, y_pred)))"
   ]
  },
  {
   "cell_type": "code",
   "execution_count": 63,
   "metadata": {},
   "outputs": [],
   "source": [
    "#  define a function to plot the ROC curves - just makes the roc_curve look nicer than the default\n",
    "def plot_roc_curve(fpr, tpr, auc, config_num=-1):\n",
    "    fig, ax = plt.subplots()\n",
    "    ax.plot(fpr, tpr)\n",
    "    ax.set(xlabel='False Positive Rate', ylabel='True Positive Rate')\n",
    "    ax.grid()\n",
    "    ax.text(0.6, 0.3, 'ROC AUC Score: {:.3f}'.format(auc),\n",
    "            bbox=dict(boxstyle='square,pad=0.3', fc='white', ec='k'))\n",
    "    lims = [np.min([ax.get_xlim(), ax.get_ylim()]), np.max([ax.get_xlim(), ax.get_ylim()])]\n",
    "    ax.plot(lims, lims, 'k--')\n",
    "    ax.set_xlim(lims)\n",
    "    ax.set_ylim(lims)\n",
    "    plt.savefig('paper_2016/roc_rho_rho_NN_config_' + str(config_num))"
   ]
  },
  {
   "cell_type": "code",
   "execution_count": 43,
   "metadata": {},
   "outputs": [
    {
     "name": "stderr",
     "output_type": "stream",
     "text": [
      "W1108 15:28:50.925851 140680596404032 deprecation.py:323] From <ipython-input-43-d2f51cee44de>:2: Sequential.predict_proba (from tensorflow.python.keras.engine.sequential) is deprecated and will be removed after 2021-01-01.\n",
      "Instructions for updating:\n",
      "Please use `model.predict()` instead.\n"
     ]
    },
    {
     "data": {
      "image/png": "[encoded data removed]",
      "text/plain": [
       "<Figure size 432x288 with 1 Axes>"
      ]
     },
     "metadata": {
      "needs_background": "light"
     },
     "output_type": "display_data"
    }
   ],
   "source": [
    "# plot ROC curve for improved training\n",
    "y_proba = model.predict_proba(X_test) # outputs two probabilties\n",
    "auc = roc_auc_score(y_test, y_proba)\n",
    "fpr, tpr, _ = roc_curve(y_test, y_proba)\n",
    "plot_roc_curve(fpr, tpr, auc)"
   ]
  },
  {
   "cell_type": "markdown",
   "metadata": {},
   "source": [
    "## Results of the neural net with the different configurations\n",
    "\n",
    "Run the code with different configurations and record the ROC AUC scores"
   ]
  },
  {
   "cell_type": "code",
   "execution_count": 93,
   "metadata": {},
   "outputs": [],
   "source": [
    "def load_config(i):\n",
    "    if i==1:\n",
    "        X = np.reshape(aco_angle_1, (-1, 1))\n",
    "        #print('SHAPE:')\n",
    "        #print(X.shape)\n",
    "    if i==2:\n",
    "        X = np.stack([aco_angle_1, y_1_1, y_1_2], axis=1)\n",
    "        #print('SHAPE:')\n",
    "        #print(X.shape)\n",
    "    if i==3:\n",
    "        X = np.stack([E1r, px1r, py1r, pz1r, E2r, px2r, py2r, pz2r, E3r, px3r, py3r, pz3r, E4r, px4r, py4r, pz4r], axis=1)\n",
    "    if i==4:\n",
    "        X = np.stack([aco_angle_1, E1r, px1r, py1r, pz1r, E2r, px2r, py2r, pz2r, E3r, px3r, py3r, pz3r, E4r, px4r, py4r, pz4r], axis=1)\n",
    "    if i==5:\n",
    "        X = np.stack([rho_1_m**2, rho_2_m**2, aco_angle_1, y_1_1, y_1_2], axis=1)\n",
    "    if i==6:\n",
    "        X = np.stack([rho_1_m**2, rho_2_m**2, E1r, px1r, py1r, pz1r, E2r, px2r, py2r, pz2r, E3r, px3r, py3r, pz3r, E4r, px4r, py4r, pz4r, aco_angle_1, y_1_1, y_1_2], axis=1)\n",
    "    return X\n",
    "\n",
    "def run_config(config_num):\n",
    "    X = load_config(config_num)\n",
    "\n",
    "    # split X and y into train and validation dataset \n",
    "\n",
    "    X_train, X_test, y_train, y_test  = train_test_split(\n",
    "        X,\n",
    "        y,\n",
    "        test_size=0.2,\n",
    "        random_state=123456,\n",
    "        #stratify=y.values,\n",
    "    )\n",
    "    \n",
    "    # define early stopping\n",
    "    early_stop = tf.keras.callbacks.EarlyStopping(monitor='val_loss',patience=10)\n",
    "    \n",
    "    # first run the training for simple case with just 1 variable\n",
    "    history = tf.keras.callbacks.History()\n",
    "\n",
    "    model = baseline_model(X.shape[1])\n",
    "\n",
    "    model.fit(\n",
    "                    X_train, y_train,\n",
    "                    batch_size=10000,\n",
    "                    epochs=20,\n",
    "                    callbacks=[history,early_stop],\n",
    "                    validation_data=(X_test, y_test))\n",
    "    \n",
    "    # Extract number of run epochs from the training history\n",
    "    epochs = range(1, len(history.history[\"loss\"])+1)\n",
    "\n",
    "    # Extract loss on training and validation ddataset and plot them together\n",
    "    plt.plot(epochs, history.history[\"loss\"], \"o-\", label=\"Training\")\n",
    "    plt.plot(epochs, history.history[\"val_loss\"], \"o-\", label=\"Test\")\n",
    "    plt.xlabel(\"Epochs\"), plt.ylabel(\"Loss\")\n",
    "    plt.yscale(\"log\")\n",
    "    plt.legend()\n",
    "    plt.savefig('paper_2016/history_nonbinary_config_' + str(config_num))\n",
    "    \n",
    "    prediction = model.predict(X_test)\n",
    "    \n",
    "    # plot ROC curve for improved training\n",
    "    y_proba = model.predict_proba(X_test) # outputs two probabilties\n",
    "    y_binary = (y_test > 0.5) * 1.0\n",
    "    auc = roc_auc_score(y_binary, y_proba)\n",
    "    fpr, tpr, _ = roc_curve(y_binary, y_proba)\n",
    "    plot_roc_curve(fpr, tpr, auc, 'nonbinary' + str(config_num))\n",
    "    \n",
    "    f = open('paper_2016/auc_nonbinary.txt', 'a')\n",
    "    f.write(str(config_num) + ',' + str(auc) + '\\n')\n",
    "    f.close()"
   ]
  },
  {
   "cell_type": "code",
   "execution_count": 94,
   "metadata": {},
   "outputs": [
    {
     "name": "stderr",
     "output_type": "stream",
     "text": [
      "W1108 16:48:47.927810 140680596404032 ag_logging.py:146] AutoGraph could not transform <function Model.make_train_function.<locals>.train_function at 0x7ff1641264d0> and will run it as-is.\n",
      "Please report this to the TensorFlow team. When filing the bug, set the verbosity to 10 (on Linux, `export AUTOGRAPH_VERBOSITY=10`) and attach the full output.\n",
      "Cause: 'arguments' object has no attribute 'posonlyargs'\n",
      "To silence this warning, decorate the function with @tf.autograph.experimental.do_not_convert\n"
     ]
    },
    {
     "name": "stdout",
     "output_type": "stream",
     "text": [
      "Epoch 1/20\n",
      "WARNING: AutoGraph could not transform <function Model.make_train_function.<locals>.train_function at 0x7ff1641264d0> and will run it as-is.\n",
      "Please report this to the TensorFlow team. When filing the bug, set the verbosity to 10 (on Linux, `export AUTOGRAPH_VERBOSITY=10`) and attach the full output.\n",
      "Cause: 'arguments' object has no attribute 'posonlyargs'\n",
      "To silence this warning, decorate the function with @tf.autograph.experimental.do_not_convert\n",
      "50/53 [===========================>..] - ETA: 0s - loss: 0.6923- ETA: 0s - loss: 0.692"
     ]
    },
    {
     "name": "stderr",
     "output_type": "stream",
     "text": [
      "W1108 16:48:50.332876 140680596404032 ag_logging.py:146] AutoGraph could not transform <function Model.make_test_function.<locals>.test_function at 0x7ff1672aeb90> and will run it as-is.\n",
      "Please report this to the TensorFlow team. When filing the bug, set the verbosity to 10 (on Linux, `export AUTOGRAPH_VERBOSITY=10`) and attach the full output.\n",
      "Cause: 'arguments' object has no attribute 'posonlyargs'\n",
      "To silence this warning, decorate the function with @tf.autograph.experimental.do_not_convert\n"
     ]
    },
    {
     "name": "stdout",
     "output_type": "stream",
     "text": [
      "WARNING: AutoGraph could not transform <function Model.make_test_function.<locals>.test_function at 0x7ff1672aeb90> and will run it as-is.\n",
      "Please report this to the TensorFlow team. When filing the bug, set the verbosity to 10 (on Linux, `export AUTOGRAPH_VERBOSITY=10`) and attach the full output.\n",
      "Cause: 'arguments' object has no attribute 'posonlyargs'\n",
      "To silence this warning, decorate the function with @tf.autograph.experimental.do_not_convert\n",
      "53/53 [==============================] - 2s 36ms/step - loss: 0.6922 - val_loss: 0.6899\n",
      "Epoch 2/20\n",
      "53/53 [==============================] - 2s 31ms/step - loss: 0.6848 - val_loss: 0.6809\n",
      "Epoch 3/20\n",
      "53/53 [==============================] - 2s 31ms/step - loss: 0.6803 - val_loss: 0.6803\n",
      "Epoch 4/20\n",
      "53/53 [==============================] - 2s 31ms/step - loss: 0.6803 - val_loss: 0.6803\n",
      "Epoch 5/20\n",
      "53/53 [==============================] - 2s 30ms/step - loss: 0.6803 - val_loss: 0.6803\n",
      "Epoch 6/20\n",
      "53/53 [==============================] - 2s 30ms/step - loss: 0.6803 - val_loss: 0.6803\n",
      "Epoch 7/20\n",
      "53/53 [==============================] - 2s 30ms/step - loss: 0.6803 - val_loss: 0.6803\n",
      "Epoch 8/20\n",
      "53/53 [==============================] - 2s 30ms/step - loss: 0.6803 - val_loss: 0.6803\n",
      "Epoch 9/20\n",
      "53/53 [==============================] - 2s 30ms/step - loss: 0.6803 - val_loss: 0.6803\n",
      "Epoch 10/20\n",
      "53/53 [==============================] - 2s 30ms/step - loss: 0.6802 - val_loss: 0.6803\n",
      "Epoch 11/20\n",
      "53/53 [==============================] - 2s 30ms/step - loss: 0.6803 - val_loss: 0.6803\n",
      "Epoch 12/20\n",
      "53/53 [==============================] - 2s 30ms/step - loss: 0.6802 - val_loss: 0.6803\n",
      "Epoch 13/20\n",
      "53/53 [==============================] - 1s 28ms/step - loss: 0.6802 - val_loss: 0.6803\n",
      "Epoch 14/20\n",
      "53/53 [==============================] - 1s 27ms/step - loss: 0.6803 - val_loss: 0.6803\n",
      "Epoch 15/20\n",
      "53/53 [==============================] - 2s 30ms/step - loss: 0.6803 - val_loss: 0.6803\n",
      "Epoch 16/20\n",
      "53/53 [==============================] - 2s 32ms/step - loss: 0.6803 - val_loss: 0.6803\n"
     ]
    },
    {
     "name": "stderr",
     "output_type": "stream",
     "text": [
      "W1108 16:49:15.446305 140680596404032 ag_logging.py:146] AutoGraph could not transform <function Model.make_predict_function.<locals>.predict_function at 0x7ff18c04ee60> and will run it as-is.\n",
      "Please report this to the TensorFlow team. When filing the bug, set the verbosity to 10 (on Linux, `export AUTOGRAPH_VERBOSITY=10`) and attach the full output.\n",
      "Cause: 'arguments' object has no attribute 'posonlyargs'\n",
      "To silence this warning, decorate the function with @tf.autograph.experimental.do_not_convert\n"
     ]
    },
    {
     "name": "stdout",
     "output_type": "stream",
     "text": [
      "WARNING: AutoGraph could not transform <function Model.make_predict_function.<locals>.predict_function at 0x7ff18c04ee60> and will run it as-is.\n",
      "Please report this to the TensorFlow team. When filing the bug, set the verbosity to 10 (on Linux, `export AUTOGRAPH_VERBOSITY=10`) and attach the full output.\n",
      "Cause: 'arguments' object has no attribute 'posonlyargs'\n",
      "To silence this warning, decorate the function with @tf.autograph.experimental.do_not_convert\n"
     ]
    },
    {
     "name": "stderr",
     "output_type": "stream",
     "text": [
      "W1108 16:49:21.084993 140680596404032 ag_logging.py:146] AutoGraph could not transform <function Model.make_train_function.<locals>.train_function at 0x7ff16747a950> and will run it as-is.\n",
      "Please report this to the TensorFlow team. When filing the bug, set the verbosity to 10 (on Linux, `export AUTOGRAPH_VERBOSITY=10`) and attach the full output.\n",
      "Cause: 'arguments' object has no attribute 'posonlyargs'\n",
      "To silence this warning, decorate the function with @tf.autograph.experimental.do_not_convert\n"
     ]
    },
    {
     "name": "stdout",
     "output_type": "stream",
     "text": [
      "Epoch 1/20\n",
      "WARNING: AutoGraph could not transform <function Model.make_train_function.<locals>.train_function at 0x7ff16747a950> and will run it as-is.\n",
      "Please report this to the TensorFlow team. When filing the bug, set the verbosity to 10 (on Linux, `export AUTOGRAPH_VERBOSITY=10`) and attach the full output.\n",
      "Cause: 'arguments' object has no attribute 'posonlyargs'\n",
      "To silence this warning, decorate the function with @tf.autograph.experimental.do_not_convert\n",
      "50/53 [===========================>..] - ETA: 0s - loss: 0.6902"
     ]
    },
    {
     "name": "stderr",
     "output_type": "stream",
     "text": [
      "W1108 16:49:23.383550 140680596404032 ag_logging.py:146] AutoGraph could not transform <function Model.make_test_function.<locals>.test_function at 0x7ff1670829e0> and will run it as-is.\n",
      "Please report this to the TensorFlow team. When filing the bug, set the verbosity to 10 (on Linux, `export AUTOGRAPH_VERBOSITY=10`) and attach the full output.\n",
      "Cause: 'arguments' object has no attribute 'posonlyargs'\n",
      "To silence this warning, decorate the function with @tf.autograph.experimental.do_not_convert\n"
     ]
    },
    {
     "name": "stdout",
     "output_type": "stream",
     "text": [
      "WARNING: AutoGraph could not transform <function Model.make_test_function.<locals>.test_function at 0x7ff1670829e0> and will run it as-is.\n",
      "Please report this to the TensorFlow team. When filing the bug, set the verbosity to 10 (on Linux, `export AUTOGRAPH_VERBOSITY=10`) and attach the full output.\n",
      "Cause: 'arguments' object has no attribute 'posonlyargs'\n",
      "To silence this warning, decorate the function with @tf.autograph.experimental.do_not_convert\n",
      "53/53 [==============================] - 2s 35ms/step - loss: 0.6900 - val_loss: 0.6846\n",
      "Epoch 2/20\n",
      "53/53 [==============================] - 2s 32ms/step - loss: 0.6815 - val_loss: 0.6803\n",
      "Epoch 3/20\n",
      "53/53 [==============================] - 2s 32ms/step - loss: 0.6800 - val_loss: 0.6799\n",
      "Epoch 4/20\n",
      "53/53 [==============================] - 2s 32ms/step - loss: 0.6798 - val_loss: 0.6798\n",
      "Epoch 5/20\n",
      "53/53 [==============================] - 2s 30ms/step - loss: 0.6796 - val_loss: 0.6796\n",
      "Epoch 6/20\n",
      "53/53 [==============================] - 2s 28ms/step - loss: 0.6795 - val_loss: 0.6795\n",
      "Epoch 7/20\n",
      "53/53 [==============================] - 2s 30ms/step - loss: 0.6793 - val_loss: 0.6793\n",
      "Epoch 8/20\n",
      "53/53 [==============================] - 2s 31ms/step - loss: 0.6791 - val_loss: 0.6792\n",
      "Epoch 9/20\n",
      "53/53 [==============================] - 2s 31ms/step - loss: 0.6790 - val_loss: 0.6791\n",
      "Epoch 10/20\n",
      "53/53 [==============================] - 2s 30ms/step - loss: 0.6788 - val_loss: 0.6787\n",
      "Epoch 11/20\n",
      "53/53 [==============================] - 2s 31ms/step - loss: 0.6786 - val_loss: 0.6789\n",
      "Epoch 12/20\n",
      "53/53 [==============================] - 2s 29ms/step - loss: 0.6785 - val_loss: 0.6785\n",
      "Epoch 13/20\n",
      "53/53 [==============================] - 2s 31ms/step - loss: 0.6783 - val_loss: 0.6783\n",
      "Epoch 14/20\n",
      "53/53 [==============================] - 2s 31ms/step - loss: 0.6781 - val_loss: 0.6782\n",
      "Epoch 15/20\n",
      "53/53 [==============================] - 2s 30ms/step - loss: 0.6779 - val_loss: 0.6781\n",
      "Epoch 16/20\n",
      "53/53 [==============================] - 2s 32ms/step - loss: 0.6778 - val_loss: 0.6779\n",
      "Epoch 17/20\n",
      "53/53 [==============================] - 2s 32ms/step - loss: 0.6776 - val_loss: 0.6777\n",
      "Epoch 18/20\n",
      "53/53 [==============================] - 2s 31ms/step - loss: 0.6775 - val_loss: 0.6778\n",
      "Epoch 19/20\n",
      "53/53 [==============================] - 2s 32ms/step - loss: 0.6775 - val_loss: 0.6776\n",
      "Epoch 20/20\n",
      "53/53 [==============================] - 2s 30ms/step - loss: 0.6774 - val_loss: 0.6776\n"
     ]
    },
    {
     "name": "stderr",
     "output_type": "stream",
     "text": [
      "W1108 16:49:55.900152 140680596404032 ag_logging.py:146] AutoGraph could not transform <function Model.make_predict_function.<locals>.predict_function at 0x7ff1644d7680> and will run it as-is.\n",
      "Please report this to the TensorFlow team. When filing the bug, set the verbosity to 10 (on Linux, `export AUTOGRAPH_VERBOSITY=10`) and attach the full output.\n",
      "Cause: 'arguments' object has no attribute 'posonlyargs'\n",
      "To silence this warning, decorate the function with @tf.autograph.experimental.do_not_convert\n"
     ]
    },
    {
     "name": "stdout",
     "output_type": "stream",
     "text": [
      "WARNING: AutoGraph could not transform <function Model.make_predict_function.<locals>.predict_function at 0x7ff1644d7680> and will run it as-is.\n",
      "Please report this to the TensorFlow team. When filing the bug, set the verbosity to 10 (on Linux, `export AUTOGRAPH_VERBOSITY=10`) and attach the full output.\n",
      "Cause: 'arguments' object has no attribute 'posonlyargs'\n",
      "To silence this warning, decorate the function with @tf.autograph.experimental.do_not_convert\n"
     ]
    },
    {
     "name": "stderr",
     "output_type": "stream",
     "text": [
      "W1108 16:50:01.221797 140680596404032 ag_logging.py:146] AutoGraph could not transform <function Model.make_train_function.<locals>.train_function at 0x7ff164602710> and will run it as-is.\n",
      "Please report this to the TensorFlow team. When filing the bug, set the verbosity to 10 (on Linux, `export AUTOGRAPH_VERBOSITY=10`) and attach the full output.\n",
      "Cause: 'arguments' object has no attribute 'posonlyargs'\n",
      "To silence this warning, decorate the function with @tf.autograph.experimental.do_not_convert\n"
     ]
    },
    {
     "name": "stdout",
     "output_type": "stream",
     "text": [
      "Epoch 1/20\n",
      "WARNING: AutoGraph could not transform <function Model.make_train_function.<locals>.train_function at 0x7ff164602710> and will run it as-is.\n",
      "Please report this to the TensorFlow team. When filing the bug, set the verbosity to 10 (on Linux, `export AUTOGRAPH_VERBOSITY=10`) and attach the full output.\n",
      "Cause: 'arguments' object has no attribute 'posonlyargs'\n",
      "To silence this warning, decorate the function with @tf.autograph.experimental.do_not_convert\n",
      "51/53 [===========================>..] - ETA: 0s - loss: 0.6965"
     ]
    },
    {
     "name": "stderr",
     "output_type": "stream",
     "text": [
      "W1108 16:50:03.458577 140680596404032 ag_logging.py:146] AutoGraph could not transform <function Model.make_test_function.<locals>.test_function at 0x7ff15e15c050> and will run it as-is.\n",
      "Please report this to the TensorFlow team. When filing the bug, set the verbosity to 10 (on Linux, `export AUTOGRAPH_VERBOSITY=10`) and attach the full output.\n",
      "Cause: 'arguments' object has no attribute 'posonlyargs'\n",
      "To silence this warning, decorate the function with @tf.autograph.experimental.do_not_convert\n"
     ]
    },
    {
     "name": "stdout",
     "output_type": "stream",
     "text": [
      "WARNING: AutoGraph could not transform <function Model.make_test_function.<locals>.test_function at 0x7ff15e15c050> and will run it as-is.\n",
      "Please report this to the TensorFlow team. When filing the bug, set the verbosity to 10 (on Linux, `export AUTOGRAPH_VERBOSITY=10`) and attach the full output.\n",
      "Cause: 'arguments' object has no attribute 'posonlyargs'\n",
      "To silence this warning, decorate the function with @tf.autograph.experimental.do_not_convert\n",
      "53/53 [==============================] - 2s 34ms/step - loss: 0.6964 - val_loss: 0.6933\n",
      "Epoch 2/20\n",
      "53/53 [==============================] - 1s 27ms/step - loss: 0.6932 - val_loss: 0.6932\n",
      "Epoch 3/20\n",
      "53/53 [==============================] - 1s 27ms/step - loss: 0.6933 - val_loss: 0.6932\n",
      "Epoch 4/20\n",
      "53/53 [==============================] - 2s 30ms/step - loss: 0.6932 - val_loss: 0.6933\n",
      "Epoch 5/20\n",
      "53/53 [==============================] - 2s 32ms/step - loss: 0.6932 - val_loss: 0.6933\n",
      "Epoch 6/20\n",
      "53/53 [==============================] - 2s 34ms/step - loss: 0.6933 - val_loss: 0.6932\n",
      "Epoch 7/20\n",
      "53/53 [==============================] - 2s 32ms/step - loss: 0.6932 - val_loss: 0.6933\n",
      "Epoch 8/20\n",
      "53/53 [==============================] - 2s 32ms/step - loss: 0.6933 - val_loss: 0.6932\n",
      "Epoch 9/20\n",
      "53/53 [==============================] - 2s 33ms/step - loss: 0.6932 - val_loss: 0.6933\n",
      "Epoch 10/20\n",
      "53/53 [==============================] - 2s 32ms/step - loss: 0.6933 - val_loss: 0.6935\n",
      "Epoch 11/20\n",
      "53/53 [==============================] - 2s 32ms/step - loss: 0.6932 - val_loss: 0.6932\n",
      "Epoch 12/20\n",
      "53/53 [==============================] - 2s 34ms/step - loss: 0.6933 - val_loss: 0.6933\n"
     ]
    },
    {
     "name": "stderr",
     "output_type": "stream",
     "text": [
      "W1108 16:50:23.448323 140680596404032 ag_logging.py:146] AutoGraph could not transform <function Model.make_predict_function.<locals>.predict_function at 0x7ff18c04e0e0> and will run it as-is.\n",
      "Please report this to the TensorFlow team. When filing the bug, set the verbosity to 10 (on Linux, `export AUTOGRAPH_VERBOSITY=10`) and attach the full output.\n",
      "Cause: 'arguments' object has no attribute 'posonlyargs'\n",
      "To silence this warning, decorate the function with @tf.autograph.experimental.do_not_convert\n"
     ]
    },
    {
     "name": "stdout",
     "output_type": "stream",
     "text": [
      "WARNING: AutoGraph could not transform <function Model.make_predict_function.<locals>.predict_function at 0x7ff18c04e0e0> and will run it as-is.\n",
      "Please report this to the TensorFlow team. When filing the bug, set the verbosity to 10 (on Linux, `export AUTOGRAPH_VERBOSITY=10`) and attach the full output.\n",
      "Cause: 'arguments' object has no attribute 'posonlyargs'\n",
      "To silence this warning, decorate the function with @tf.autograph.experimental.do_not_convert\n"
     ]
    },
    {
     "name": "stderr",
     "output_type": "stream",
     "text": [
      "W1108 16:50:29.273316 140680596404032 ag_logging.py:146] AutoGraph could not transform <function Model.make_train_function.<locals>.train_function at 0x7ff184300950> and will run it as-is.\n",
      "Please report this to the TensorFlow team. When filing the bug, set the verbosity to 10 (on Linux, `export AUTOGRAPH_VERBOSITY=10`) and attach the full output.\n",
      "Cause: 'arguments' object has no attribute 'posonlyargs'\n",
      "To silence this warning, decorate the function with @tf.autograph.experimental.do_not_convert\n"
     ]
    },
    {
     "name": "stdout",
     "output_type": "stream",
     "text": [
      "Epoch 1/20\n",
      "WARNING: AutoGraph could not transform <function Model.make_train_function.<locals>.train_function at 0x7ff184300950> and will run it as-is.\n",
      "Please report this to the TensorFlow team. When filing the bug, set the verbosity to 10 (on Linux, `export AUTOGRAPH_VERBOSITY=10`) and attach the full output.\n",
      "Cause: 'arguments' object has no attribute 'posonlyargs'\n",
      "To silence this warning, decorate the function with @tf.autograph.experimental.do_not_convert\n",
      "50/53 [===========================>..] - ETA: 0s - loss: 0.7030"
     ]
    },
    {
     "name": "stderr",
     "output_type": "stream",
     "text": [
      "W1108 16:50:31.481416 140680596404032 ag_logging.py:146] AutoGraph could not transform <function Model.make_test_function.<locals>.test_function at 0x7ff18c0ed7a0> and will run it as-is.\n",
      "Please report this to the TensorFlow team. When filing the bug, set the verbosity to 10 (on Linux, `export AUTOGRAPH_VERBOSITY=10`) and attach the full output.\n",
      "Cause: 'arguments' object has no attribute 'posonlyargs'\n",
      "To silence this warning, decorate the function with @tf.autograph.experimental.do_not_convert\n"
     ]
    },
    {
     "name": "stdout",
     "output_type": "stream",
     "text": [
      "WARNING: AutoGraph could not transform <function Model.make_test_function.<locals>.test_function at 0x7ff18c0ed7a0> and will run it as-is.\n",
      "Please report this to the TensorFlow team. When filing the bug, set the verbosity to 10 (on Linux, `export AUTOGRAPH_VERBOSITY=10`) and attach the full output.\n",
      "Cause: 'arguments' object has no attribute 'posonlyargs'\n",
      "To silence this warning, decorate the function with @tf.autograph.experimental.do_not_convert\n",
      "53/53 [==============================] - 2s 35ms/step - loss: 0.7026 - val_loss: 0.6933\n",
      "Epoch 2/20\n",
      "53/53 [==============================] - 2s 32ms/step - loss: 0.6932 - val_loss: 0.6932\n",
      "Epoch 3/20\n",
      "53/53 [==============================] - 2s 34ms/step - loss: 0.6932 - val_loss: 0.6932\n",
      "Epoch 4/20\n",
      "53/53 [==============================] - 2s 34ms/step - loss: 0.6932 - val_loss: 0.6932\n",
      "Epoch 5/20\n",
      "53/53 [==============================] - 2s 34ms/step - loss: 0.6931 - val_loss: 0.6931\n",
      "Epoch 6/20\n",
      "53/53 [==============================] - 2s 34ms/step - loss: 0.6931 - val_loss: 0.6931\n",
      "Epoch 7/20\n",
      "53/53 [==============================] - 2s 31ms/step - loss: 0.6930 - val_loss: 0.6929\n",
      "Epoch 8/20\n",
      "53/53 [==============================] - 2s 34ms/step - loss: 0.6919 - val_loss: 0.6892\n",
      "Epoch 9/20\n",
      "53/53 [==============================] - 2s 34ms/step - loss: 0.6853 - val_loss: 0.6833\n",
      "Epoch 10/20\n",
      "53/53 [==============================] - 2s 32ms/step - loss: 0.6823 - val_loss: 0.6825\n",
      "Epoch 11/20\n",
      "53/53 [==============================] - 2s 34ms/step - loss: 0.6811 - val_loss: 0.6808\n",
      "Epoch 12/20\n",
      "53/53 [==============================] - 2s 33ms/step - loss: 0.6804 - val_loss: 0.6801\n",
      "Epoch 13/20\n",
      "53/53 [==============================] - 2s 32ms/step - loss: 0.6797 - val_loss: 0.6794\n",
      "Epoch 14/20\n",
      "53/53 [==============================] - 2s 32ms/step - loss: 0.6794 - val_loss: 0.6791\n",
      "Epoch 15/20\n",
      "53/53 [==============================] - 2s 33ms/step - loss: 0.6792 - val_loss: 0.6790\n",
      "Epoch 16/20\n",
      "53/53 [==============================] - 2s 33ms/step - loss: 0.6789 - val_loss: 0.6787\n",
      "Epoch 17/20\n",
      "53/53 [==============================] - 2s 32ms/step - loss: 0.6785 - val_loss: 0.6785\n",
      "Epoch 18/20\n",
      "53/53 [==============================] - 2s 31ms/step - loss: 0.6784 - val_loss: 0.6781\n",
      "Epoch 19/20\n",
      "53/53 [==============================] - 2s 30ms/step - loss: 0.6782 - val_loss: 0.6780\n",
      "Epoch 20/20\n",
      "53/53 [==============================] - 2s 32ms/step - loss: 0.6781 - val_loss: 0.6787\n"
     ]
    },
    {
     "name": "stderr",
     "output_type": "stream",
     "text": [
      "W1108 16:51:06.181576 140680596404032 ag_logging.py:146] AutoGraph could not transform <function Model.make_predict_function.<locals>.predict_function at 0x7ff184fe3b00> and will run it as-is.\n",
      "Please report this to the TensorFlow team. When filing the bug, set the verbosity to 10 (on Linux, `export AUTOGRAPH_VERBOSITY=10`) and attach the full output.\n",
      "Cause: 'arguments' object has no attribute 'posonlyargs'\n",
      "To silence this warning, decorate the function with @tf.autograph.experimental.do_not_convert\n"
     ]
    },
    {
     "name": "stdout",
     "output_type": "stream",
     "text": [
      "WARNING: AutoGraph could not transform <function Model.make_predict_function.<locals>.predict_function at 0x7ff184fe3b00> and will run it as-is.\n",
      "Please report this to the TensorFlow team. When filing the bug, set the verbosity to 10 (on Linux, `export AUTOGRAPH_VERBOSITY=10`) and attach the full output.\n",
      "Cause: 'arguments' object has no attribute 'posonlyargs'\n",
      "To silence this warning, decorate the function with @tf.autograph.experimental.do_not_convert\n"
     ]
    },
    {
     "name": "stderr",
     "output_type": "stream",
     "text": [
      "W1108 16:51:12.119350 140680596404032 ag_logging.py:146] AutoGraph could not transform <function Model.make_train_function.<locals>.train_function at 0x7ff157fdca70> and will run it as-is.\n",
      "Please report this to the TensorFlow team. When filing the bug, set the verbosity to 10 (on Linux, `export AUTOGRAPH_VERBOSITY=10`) and attach the full output.\n",
      "Cause: 'arguments' object has no attribute 'posonlyargs'\n",
      "To silence this warning, decorate the function with @tf.autograph.experimental.do_not_convert\n"
     ]
    },
    {
     "name": "stdout",
     "output_type": "stream",
     "text": [
      "Epoch 1/20\n",
      "WARNING: AutoGraph could not transform <function Model.make_train_function.<locals>.train_function at 0x7ff157fdca70> and will run it as-is.\n",
      "Please report this to the TensorFlow team. When filing the bug, set the verbosity to 10 (on Linux, `export AUTOGRAPH_VERBOSITY=10`) and attach the full output.\n",
      "Cause: 'arguments' object has no attribute 'posonlyargs'\n",
      "To silence this warning, decorate the function with @tf.autograph.experimental.do_not_convert\n",
      "50/53 [===========================>..] - ETA: 0s - loss: 0.6896"
     ]
    },
    {
     "name": "stderr",
     "output_type": "stream",
     "text": [
      "W1108 16:51:14.360543 140680596404032 ag_logging.py:146] AutoGraph could not transform <function Model.make_test_function.<locals>.test_function at 0x7ff18fdb63b0> and will run it as-is.\n",
      "Please report this to the TensorFlow team. When filing the bug, set the verbosity to 10 (on Linux, `export AUTOGRAPH_VERBOSITY=10`) and attach the full output.\n",
      "Cause: 'arguments' object has no attribute 'posonlyargs'\n",
      "To silence this warning, decorate the function with @tf.autograph.experimental.do_not_convert\n"
     ]
    },
    {
     "name": "stdout",
     "output_type": "stream",
     "text": [
      "WARNING: AutoGraph could not transform <function Model.make_test_function.<locals>.test_function at 0x7ff18fdb63b0> and will run it as-is.\n",
      "Please report this to the TensorFlow team. When filing the bug, set the verbosity to 10 (on Linux, `export AUTOGRAPH_VERBOSITY=10`) and attach the full output.\n",
      "Cause: 'arguments' object has no attribute 'posonlyargs'\n",
      "To silence this warning, decorate the function with @tf.autograph.experimental.do_not_convert\n",
      "53/53 [==============================] - 2s 35ms/step - loss: 0.6894 - val_loss: 0.6841\n",
      "Epoch 2/20\n",
      "53/53 [==============================] - 2s 32ms/step - loss: 0.6817 - val_loss: 0.6803\n",
      "Epoch 3/20\n",
      "53/53 [==============================] - 2s 34ms/step - loss: 0.6800 - val_loss: 0.6798\n",
      "Epoch 4/20\n",
      "53/53 [==============================] - 2s 32ms/step - loss: 0.6797 - val_loss: 0.6796\n",
      "Epoch 5/20\n",
      "53/53 [==============================] - 2s 31ms/step - loss: 0.6795 - val_loss: 0.6795\n",
      "Epoch 6/20\n",
      "53/53 [==============================] - 2s 30ms/step - loss: 0.6793 - val_loss: 0.6793\n",
      "Epoch 7/20\n",
      "53/53 [==============================] - 2s 30ms/step - loss: 0.6792 - val_loss: 0.6793\n",
      "Epoch 8/20\n",
      "53/53 [==============================] - 2s 32ms/step - loss: 0.6791 - val_loss: 0.6791\n",
      "Epoch 9/20\n",
      "53/53 [==============================] - 2s 31ms/step - loss: 0.6790 - val_loss: 0.6790\n",
      "Epoch 10/20\n",
      "53/53 [==============================] - 2s 30ms/step - loss: 0.6788 - val_loss: 0.6789\n",
      "Epoch 11/20\n",
      "53/53 [==============================] - 2s 30ms/step - loss: 0.6787 - val_loss: 0.6788\n",
      "Epoch 12/20\n",
      "53/53 [==============================] - 2s 30ms/step - loss: 0.6786 - val_loss: 0.6788\n",
      "Epoch 13/20\n",
      "53/53 [==============================] - 2s 30ms/step - loss: 0.6785 - val_loss: 0.6786\n",
      "Epoch 14/20\n",
      "53/53 [==============================] - 2s 32ms/step - loss: 0.6784 - val_loss: 0.6785\n",
      "Epoch 15/20\n",
      "53/53 [==============================] - 2s 30ms/step - loss: 0.6783 - val_loss: 0.6786\n",
      "Epoch 16/20\n",
      "53/53 [==============================] - 2s 32ms/step - loss: 0.6782 - val_loss: 0.6784\n",
      "Epoch 17/20\n",
      "53/53 [==============================] - 2s 32ms/step - loss: 0.6780 - val_loss: 0.6783\n",
      "Epoch 18/20\n",
      "53/53 [==============================] - 2s 32ms/step - loss: 0.6779 - val_loss: 0.6779\n",
      "Epoch 19/20\n",
      "53/53 [==============================] - 2s 31ms/step - loss: 0.6777 - val_loss: 0.6779\n",
      "Epoch 20/20\n",
      "53/53 [==============================] - 2s 30ms/step - loss: 0.6776 - val_loss: 0.6777\n"
     ]
    },
    {
     "name": "stderr",
     "output_type": "stream",
     "text": [
      "W1108 16:51:47.117899 140680596404032 ag_logging.py:146] AutoGraph could not transform <function Model.make_predict_function.<locals>.predict_function at 0x7ff16708c320> and will run it as-is.\n",
      "Please report this to the TensorFlow team. When filing the bug, set the verbosity to 10 (on Linux, `export AUTOGRAPH_VERBOSITY=10`) and attach the full output.\n",
      "Cause: 'arguments' object has no attribute 'posonlyargs'\n",
      "To silence this warning, decorate the function with @tf.autograph.experimental.do_not_convert\n"
     ]
    },
    {
     "name": "stdout",
     "output_type": "stream",
     "text": [
      "WARNING: AutoGraph could not transform <function Model.make_predict_function.<locals>.predict_function at 0x7ff16708c320> and will run it as-is.\n",
      "Please report this to the TensorFlow team. When filing the bug, set the verbosity to 10 (on Linux, `export AUTOGRAPH_VERBOSITY=10`) and attach the full output.\n",
      "Cause: 'arguments' object has no attribute 'posonlyargs'\n",
      "To silence this warning, decorate the function with @tf.autograph.experimental.do_not_convert\n"
     ]
    },
    {
     "name": "stderr",
     "output_type": "stream",
     "text": [
      "W1108 16:51:52.172318 140680596404032 ag_logging.py:146] AutoGraph could not transform <function Model.make_train_function.<locals>.train_function at 0x7ff16460e560> and will run it as-is.\n",
      "Please report this to the TensorFlow team. When filing the bug, set the verbosity to 10 (on Linux, `export AUTOGRAPH_VERBOSITY=10`) and attach the full output.\n",
      "Cause: 'arguments' object has no attribute 'posonlyargs'\n",
      "To silence this warning, decorate the function with @tf.autograph.experimental.do_not_convert\n"
     ]
    },
    {
     "name": "stdout",
     "output_type": "stream",
     "text": [
      "Epoch 1/20\n",
      "WARNING: AutoGraph could not transform <function Model.make_train_function.<locals>.train_function at 0x7ff16460e560> and will run it as-is.\n",
      "Please report this to the TensorFlow team. When filing the bug, set the verbosity to 10 (on Linux, `export AUTOGRAPH_VERBOSITY=10`) and attach the full output.\n",
      "Cause: 'arguments' object has no attribute 'posonlyargs'\n",
      "To silence this warning, decorate the function with @tf.autograph.experimental.do_not_convert\n",
      "51/53 [===========================>..] - ETA: 0s - loss: 0.6989"
     ]
    },
    {
     "name": "stderr",
     "output_type": "stream",
     "text": [
      "W1108 16:51:54.401531 140680596404032 ag_logging.py:146] AutoGraph could not transform <function Model.make_test_function.<locals>.test_function at 0x7ff15e36c830> and will run it as-is.\n",
      "Please report this to the TensorFlow team. When filing the bug, set the verbosity to 10 (on Linux, `export AUTOGRAPH_VERBOSITY=10`) and attach the full output.\n",
      "Cause: 'arguments' object has no attribute 'posonlyargs'\n",
      "To silence this warning, decorate the function with @tf.autograph.experimental.do_not_convert\n"
     ]
    },
    {
     "name": "stdout",
     "output_type": "stream",
     "text": [
      "WARNING: AutoGraph could not transform <function Model.make_test_function.<locals>.test_function at 0x7ff15e36c830> and will run it as-is.\n",
      "Please report this to the TensorFlow team. When filing the bug, set the verbosity to 10 (on Linux, `export AUTOGRAPH_VERBOSITY=10`) and attach the full output.\n",
      "Cause: 'arguments' object has no attribute 'posonlyargs'\n",
      "To silence this warning, decorate the function with @tf.autograph.experimental.do_not_convert\n",
      "53/53 [==============================] - 2s 36ms/step - loss: 0.6987 - val_loss: 0.6930\n",
      "Epoch 2/20\n",
      "53/53 [==============================] - 2s 32ms/step - loss: 0.6919 - val_loss: 0.6904\n",
      "Epoch 3/20\n",
      "53/53 [==============================] - 2s 34ms/step - loss: 0.6887 - val_loss: 0.6867\n",
      "Epoch 4/20\n",
      "53/53 [==============================] - 2s 32ms/step - loss: 0.6849 - val_loss: 0.6836\n",
      "Epoch 5/20\n",
      "53/53 [==============================] - 2s 32ms/step - loss: 0.6831 - val_loss: 0.6827\n",
      "Epoch 6/20\n",
      "53/53 [==============================] - 2s 32ms/step - loss: 0.6828 - val_loss: 0.6823\n",
      "Epoch 7/20\n",
      "53/53 [==============================] - 2s 34ms/step - loss: 0.6820 - val_loss: 0.6816\n",
      "Epoch 8/20\n",
      "53/53 [==============================] - 2s 34ms/step - loss: 0.6814 - val_loss: 0.6823\n",
      "Epoch 9/20\n",
      "53/53 [==============================] - 2s 34ms/step - loss: 0.6811 - val_loss: 0.6807\n",
      "Epoch 10/20\n",
      "53/53 [==============================] - 2s 34ms/step - loss: 0.6804 - val_loss: 0.6810\n",
      "Epoch 11/20\n",
      "53/53 [==============================] - 2s 33ms/step - loss: 0.6802 - val_loss: 0.6797\n",
      "Epoch 12/20\n",
      "53/53 [==============================] - 2s 33ms/step - loss: 0.6798 - val_loss: 0.6800\n",
      "Epoch 13/20\n",
      "53/53 [==============================] - 2s 32ms/step - loss: 0.6796 - val_loss: 0.6793\n",
      "Epoch 14/20\n",
      "53/53 [==============================] - 2s 32ms/step - loss: 0.6795 - val_loss: 0.6792\n",
      "Epoch 15/20\n",
      "53/53 [==============================] - 2s 33ms/step - loss: 0.6791 - val_loss: 0.6791\n",
      "Epoch 16/20\n",
      "53/53 [==============================] - 2s 32ms/step - loss: 0.6790 - val_loss: 0.6785\n",
      "Epoch 17/20\n",
      "53/53 [==============================] - 2s 34ms/step - loss: 0.6787 - val_loss: 0.6782\n",
      "Epoch 18/20\n",
      "53/53 [==============================] - 2s 32ms/step - loss: 0.6784 - val_loss: 0.6780\n",
      "Epoch 19/20\n",
      "53/53 [==============================] - 2s 32ms/step - loss: 0.6781 - val_loss: 0.6779\n",
      "Epoch 20/20\n",
      "53/53 [==============================] - 2s 32ms/step - loss: 0.6780 - val_loss: 0.6784\n"
     ]
    },
    {
     "name": "stderr",
     "output_type": "stream",
     "text": [
      "W1108 16:52:29.426273 140680596404032 ag_logging.py:146] AutoGraph could not transform <function Model.make_predict_function.<locals>.predict_function at 0x7ff17c522830> and will run it as-is.\n",
      "Please report this to the TensorFlow team. When filing the bug, set the verbosity to 10 (on Linux, `export AUTOGRAPH_VERBOSITY=10`) and attach the full output.\n",
      "Cause: 'arguments' object has no attribute 'posonlyargs'\n",
      "To silence this warning, decorate the function with @tf.autograph.experimental.do_not_convert\n"
     ]
    },
    {
     "name": "stdout",
     "output_type": "stream",
     "text": [
      "WARNING: AutoGraph could not transform <function Model.make_predict_function.<locals>.predict_function at 0x7ff17c522830> and will run it as-is.\n",
      "Please report this to the TensorFlow team. When filing the bug, set the verbosity to 10 (on Linux, `export AUTOGRAPH_VERBOSITY=10`) and attach the full output.\n",
      "Cause: 'arguments' object has no attribute 'posonlyargs'\n",
      "To silence this warning, decorate the function with @tf.autograph.experimental.do_not_convert\n"
     ]
    },
    {
     "data": {
      "image/png": "[encoded data removed]",
      "text/plain": [
       "<Figure size 432x288 with 1 Axes>"
      ]
     },
     "metadata": {
      "needs_background": "light"
     },
     "output_type": "display_data"
    },
    {
     "data": {
      "image/png": "[encoded data removed]",
      "text/plain": [
       "<Figure size 432x288 with 1 Axes>"
      ]
     },
     "metadata": {
      "needs_background": "light"
     },
     "output_type": "display_data"
    },
    {
     "data": {
      "image/png": "[encoded data removed]",
      "text/plain": [
       "<Figure size 432x288 with 1 Axes>"
      ]
     },
     "metadata": {
      "needs_background": "light"
     },
     "output_type": "display_data"
    },
    {
     "data": {
      "image/png": "[encoded data removed]",
      "text/plain": [
       "<Figure size 432x288 with 1 Axes>"
      ]
     },
     "metadata": {
      "needs_background": "light"
     },
     "output_type": "display_data"
    },
    {
     "data": {
      "image/png": "[encoded data removed]",
      "text/plain": [
       "<Figure size 432x288 with 1 Axes>"
      ]
     },
     "metadata": {
      "needs_background": "light"
     },
     "output_type": "display_data"
    },
    {
     "data": {
      "image/png": "[encoded data removed]",
      "text/plain": [
       "<Figure size 432x288 with 1 Axes>"
      ]
     },
     "metadata": {
      "needs_background": "light"
     },
     "output_type": "display_data"
    },
    {
     "data": {
      "image/png": "[encoded data removed]",
      "text/plain": [
       "<Figure size 432x288 with 1 Axes>"
      ]
     },
     "metadata": {
      "needs_background": "light"
     },
     "output_type": "display_data"
    }
   ],
   "source": [
    "confs = [1, 2, 3, 4, 5, 6]\n",
    "for conf in confs:\n",
    "    run_config(conf)"
   ]
  },
  {
   "cell_type": "markdown",
   "metadata": {},
   "source": [
    "## Customized AUC Score\n",
    "\n",
    "Compute the customized AUC Score"
   ]
  },
  {
   "cell_type": "code",
   "execution_count": 66,
   "metadata": {},
   "outputs": [],
   "source": [
    "weight_variables = [\"wt_cp_sm\", \"wt_cp_ps\", \"wt_cp_mm\", \"rand\",\n",
    "                   \"tau_decay_mode_1\",\"tau_decay_mode_2\",\n",
    "                   \"mva_dm_1\",\"mva_dm_2\"]\n",
    "\n",
    "df_weights = tree_tt.pandas.df(weight_variables)\n",
    "\n",
    "# select only rho-rho events\n",
    "df_weights = df_weights[(df_weights['mva_dm_1']==1) & (df_weights['mva_dm_2']==1) & (df_weights[\"tau_decay_mode_1\"] == 1) & (df_weights[\"tau_decay_mode_2\"] == 1)]\n"
   ]
  },
  {
   "cell_type": "code",
   "execution_count": 67,
   "metadata": {},
   "outputs": [],
   "source": [
    "wt_sm = df_weights[\"wt_cp_sm\"]\n",
    "wt_ps = df_weights[\"wt_cp_ps\"]"
   ]
  },
  {
   "cell_type": "code",
   "execution_count": 68,
   "metadata": {},
   "outputs": [
    {
     "data": {
      "text/plain": [
       "[<matplotlib.lines.Line2D at 0x7ff18c1d3810>]"
      ]
     },
     "execution_count": 68,
     "metadata": {},
     "output_type": "execute_result"
    },
    {
     "data": {
      "image/png": "[encoded data removed]",
      "text/plain": [
       "<Figure size 432x288 with 1 Axes>"
      ]
     },
     "metadata": {
      "needs_background": "light"
     },
     "output_type": "display_data"
    }
   ],
   "source": [
    "#count all classes\n",
    "pos_count = len([x for x in y_test if x==1.0])\n",
    "neg_count = len([x for x in y_test if x==0.0])\n",
    "#print(pos_count)\n",
    "#print(neg_count)\n",
    "\n",
    "#store results here\n",
    "coords = [(0,0)]\n",
    "#FPR as horizontal x axis    \n",
    "fp=0\n",
    "#TPR as vertical y axis\n",
    "tp=0\n",
    "\n",
    "#for each truthful prediction\n",
    "for truth in y_test:\n",
    "    if truth == 1:\n",
    "        tp +=1\n",
    "    else:\n",
    "        fp +=1\n",
    "    #update result\n",
    "    coords.append((fp, tp))\n",
    "    \n",
    "#get tally as separate lists\n",
    "fp, tp = map(list, zip(*coords))\n",
    "\n",
    "#calculate tpr and fpr\n",
    "tpr = np.array(tp)/pos_count\n",
    "fpr = np.array(fp)/neg_count\n",
    "\n",
    "#print(tpr)\n",
    "#print(fpr)\n",
    "plt.plot(fpr, tpr, '-')"
   ]
  },
  {
   "cell_type": "code",
   "execution_count": 78,
   "metadata": {},
   "outputs": [
    {
     "name": "stdout",
     "output_type": "stream",
     "text": [
      "threshold 0.0 finished\n",
      "threshold 0.010101010101010102 finished\n",
      "threshold 0.020202020202020204 finished\n",
      "threshold 0.030303030303030304 finished\n",
      "threshold 0.04040404040404041 finished\n",
      "threshold 0.05050505050505051 finished\n",
      "threshold 0.06060606060606061 finished\n",
      "threshold 0.07070707070707072 finished\n",
      "threshold 0.08080808080808081 finished\n",
      "threshold 0.09090909090909091 finished\n",
      "threshold 0.10101010101010102 finished\n",
      "threshold 0.11111111111111112 finished\n",
      "threshold 0.12121212121212122 finished\n",
      "threshold 0.13131313131313133 finished\n",
      "threshold 0.14141414141414144 finished\n",
      "threshold 0.15151515151515152 finished\n",
      "threshold 0.16161616161616163 finished\n",
      "threshold 0.17171717171717174 finished\n",
      "threshold 0.18181818181818182 finished\n",
      "threshold 0.19191919191919193 finished\n",
      "threshold 0.20202020202020204 finished\n",
      "threshold 0.21212121212121213 finished\n",
      "threshold 0.22222222222222224 finished\n",
      "threshold 0.23232323232323235 finished\n",
      "threshold 0.24242424242424243 finished\n",
      "threshold 0.25252525252525254 finished\n",
      "threshold 0.26262626262626265 finished\n",
      "threshold 0.27272727272727276 finished\n",
      "threshold 0.2828282828282829 finished\n",
      "threshold 0.29292929292929293 finished\n",
      "threshold 0.30303030303030304 finished\n",
      "threshold 0.31313131313131315 finished\n",
      "threshold 0.32323232323232326 finished\n",
      "threshold 0.33333333333333337 finished\n",
      "threshold 0.3434343434343435 finished\n",
      "threshold 0.3535353535353536 finished\n",
      "threshold 0.36363636363636365 finished\n",
      "threshold 0.37373737373737376 finished\n",
      "threshold 0.38383838383838387 finished\n",
      "threshold 0.393939393939394 finished\n",
      "threshold 0.4040404040404041 finished\n",
      "threshold 0.4141414141414142 finished\n",
      "threshold 0.42424242424242425 finished\n",
      "threshold 0.43434343434343436 finished\n",
      "threshold 0.4444444444444445 finished\n",
      "threshold 0.4545454545454546 finished\n",
      "threshold 0.4646464646464647 finished\n",
      "threshold 0.4747474747474748 finished\n",
      "threshold 0.48484848484848486 finished\n",
      "threshold 0.494949494949495 finished\n",
      "threshold 0.5050505050505051 finished\n",
      "threshold 0.5151515151515152 finished\n",
      "threshold 0.5252525252525253 finished\n",
      "threshold 0.5353535353535354 finished\n",
      "threshold 0.5454545454545455 finished\n",
      "threshold 0.5555555555555556 finished\n",
      "threshold 0.5656565656565657 finished\n",
      "threshold 0.5757575757575758 finished\n",
      "threshold 0.5858585858585859 finished\n",
      "threshold 0.595959595959596 finished\n",
      "threshold 0.6060606060606061 finished\n",
      "threshold 0.6161616161616162 finished\n",
      "threshold 0.6262626262626263 finished\n",
      "threshold 0.6363636363636365 finished\n",
      "threshold 0.6464646464646465 finished\n",
      "threshold 0.6565656565656566 finished\n",
      "threshold 0.6666666666666667 finished\n",
      "threshold 0.6767676767676768 finished\n",
      "threshold 0.686868686868687 finished\n",
      "threshold 0.696969696969697 finished\n",
      "threshold 0.7070707070707072 finished\n",
      "threshold 0.7171717171717172 finished\n",
      "threshold 0.7272727272727273 finished\n",
      "threshold 0.7373737373737375 finished\n",
      "threshold 0.7474747474747475 finished\n",
      "threshold 0.7575757575757577 finished\n",
      "threshold 0.7676767676767677 finished\n",
      "threshold 0.7777777777777778 finished\n",
      "threshold 0.787878787878788 finished\n",
      "threshold 0.797979797979798 finished\n",
      "threshold 0.8080808080808082 finished\n",
      "threshold 0.8181818181818182 finished\n",
      "threshold 0.8282828282828284 finished\n",
      "threshold 0.8383838383838385 finished\n",
      "threshold 0.8484848484848485 finished\n",
      "threshold 0.8585858585858587 finished\n",
      "threshold 0.8686868686868687 finished\n",
      "threshold 0.8787878787878789 finished\n",
      "threshold 0.888888888888889 finished\n",
      "threshold 0.8989898989898991 finished\n",
      "threshold 0.9090909090909092 finished\n",
      "threshold 0.9191919191919192 finished\n",
      "threshold 0.9292929292929294 finished\n",
      "threshold 0.9393939393939394 finished\n",
      "threshold 0.9494949494949496 finished\n",
      "threshold 0.9595959595959597 finished\n",
      "threshold 0.9696969696969697 finished\n",
      "threshold 0.9797979797979799 finished\n",
      "threshold 0.98989898989899 finished\n",
      "threshold 1.0 finished\n"
     ]
    },
    {
     "data": {
      "text/plain": [
       "<matplotlib.legend.Legend at 0x7ff18fb4a7d0>"
      ]
     },
     "execution_count": 78,
     "metadata": {},
     "output_type": "execute_result"
    },
    {
     "data": {
      "image/png": "[encoded data removed]",
      "text/plain": [
       "<Figure size 432x288 with 1 Axes>"
      ]
     },
     "metadata": {
      "needs_background": "light"
     },
     "output_type": "display_data"
    }
   ],
   "source": [
    "pos_count = len([x for x in y_test if x==1.0])\n",
    "neg_count = len([x for x in y_test if x==0.0])\n",
    "\n",
    "tpr = []\n",
    "fpr = []\n",
    "for threshold in np.linspace(0, 1, 100):\n",
    "    true_positives = 0\n",
    "    false_positives = 0\n",
    "    for i in range(len(y_proba)):\n",
    "        prob = y_proba[i]\n",
    "        true = y_test[i]\n",
    "        if prob > threshold and true == 1:\n",
    "            true_positives += 1\n",
    "        if prob > threshold and true == 0:\n",
    "            false_positives += 1\n",
    "    print('threshold', threshold, 'finished')\n",
    "    tpr.append(np.array(true_positives) / pos_count)\n",
    "    fpr.append((np.array(false_positives) / neg_count))\n",
    "\n",
    "from scipy.integrate import simps, trapz\n",
    "\n",
    "auc = trapz(tpr, fpr) * -1\n",
    "\n",
    "plt.plot(fpr, tpr, '.-', label='AUC = ' + str(auc))\n",
    "plt.title('ROC curve')\n",
    "plt.ylabel('true positive rate')\n",
    "plt.xlabel('false positive rate')\n",
    "plt.legend()"
   ]
  },
  {
   "cell_type": "code",
   "execution_count": 70,
   "metadata": {},
   "outputs": [],
   "source": [
    "\n",
    "def custom_auc(y_test, y_proba):\n",
    "    pass"
   ]
  },
  {
   "cell_type": "markdown",
   "metadata": {},
   "source": [
    "## Results of the NN:\n",
    "\n",
    "Without the 4-vectors, without the masses, after 100 epochs: accuracy score = 0.593, ROC AUC score = 0.626\n",
    "\n",
    "Without the 4-vectors, with the masses, after 100 epochs: accuracy score = 0.593, ROC AUC score = 0.628\n",
    "\n",
    "With the 4-vectors, without the masses, after 100 epochs, before the rotations: accuracy score = 0.593, ROC AUC score = 0.628\n",
    "\n",
    "With the 4-vectors, with the masses, after 100 epochs, before the rotations: accuracy score = 0.590, ROC AUC score = 0.626\n",
    "\n",
    "After the rotations: no results. Hasn't been debugged yet."
   ]
  },
  {
   "cell_type": "code",
   "execution_count": null,
   "metadata": {},
   "outputs": [],
   "source": []
  }
 ],
 "metadata": {
  "kernelspec": {
   "display_name": "Python 3",
   "language": "python",
   "name": "python3"
  },
  "language_info": {
   "codemirror_mode": {
    "name": "ipython",
    "version": 3
   },
   "file_extension": ".py",
   "mimetype": "text/x-python",
   "name": "python",
   "nbconvert_exporter": "python",
   "pygments_lexer": "ipython3",
   "version": "3.7.6"
  }
 },
 "nbformat": 4,
 "nbformat_minor": 4
}
