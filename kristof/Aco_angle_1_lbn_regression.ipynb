{
 "cells": [
  {
   "cell_type": "markdown",
   "metadata": {},
   "source": [
    "# Regression of aco_angle_1 from low-level data\n",
    "\n",
    "This code regresses aco_angle_1 from the pion 4-vectors using LBN + NN."
   ]
  },
  {
   "cell_type": "markdown",
   "metadata": {},
   "source": [
    "## <font color=red> __YOU PROBABLY DON'T NEED TO RUN THE FIRST CELL!!!__ For me it just took forever to run so I just skipped it.</font>"
   ]
  },
  {
   "cell_type": "code",
   "execution_count": 1,
   "metadata": {},
   "outputs": [
    {
     "name": "stdout",
     "output_type": "stream",
     "text": [
      "Requirement already satisfied: uproot in /cvmfs/sft-nightlies.cern.ch/lcg/views/dev3python3/Tue/x86_64-centos7-gcc8-opt/lib/python3.7/site-packages (3.10.12)\n",
      "Requirement already satisfied: numpy>=1.13.1 in /cvmfs/sft-nightlies.cern.ch/lcg/views/dev3python3/Tue/x86_64-centos7-gcc8-opt/lib/python3.7/site-packages (from uproot) (1.18.2)\n",
      "Requirement already satisfied: awkward<1.0,>=0.12.0 in /cvmfs/sft-nightlies.cern.ch/lcg/views/dev3python3/Tue/x86_64-centos7-gcc8-opt/lib/python3.7/site-packages (from uproot) (0.12.17)\n",
      "Requirement already satisfied: uproot-methods>=0.7.0 in /cvmfs/sft-nightlies.cern.ch/lcg/views/dev3python3/Tue/x86_64-centos7-gcc8-opt/lib/python3.7/site-packages (from uproot) (0.7.1)\n",
      "Requirement already satisfied: cachetools in /cvmfs/sft-nightlies.cern.ch/lcg/views/dev3python3/Tue/x86_64-centos7-gcc8-opt/lib/python3.7/site-packages (from uproot) (3.1.1)\n",
      "Requirement already satisfied: lbn in /eos/home-k/kgalambo/.local/lib/python3.7/site-packages (1.2.1)\n",
      "Requirement already satisfied: numpy in /cvmfs/sft-nightlies.cern.ch/lcg/views/dev3python3/Tue/x86_64-centos7-gcc8-opt/lib/python3.7/site-packages (from lbn) (1.18.2)\n",
      "Collecting tensorflow (from lbn)\n",
      "\u001b[?25l  Downloading https://files.pythonhosted.org/packages/eb/18/374af421dfbe74379a458e58ab40cf46b35c3206ce8e183e28c1c627494d/tensorflow-2.3.1-cp37-cp37m-manylinux2010_x86_64.whl (320.4MB)\n",
      "\u001b[K     |████████████████████████████████| 320.4MB 204kB/s  eta 0:00:01   |██▏                             | 22.2MB 3.9MB/s eta 0:01:17     |█████████████▎                  | 132.8MB 52.2MB/s eta 0:00:04     |███████████████▌                | 155.0MB 27.7MB/s eta 0:00:06\n",
      "\u001b[?25hRequirement already satisfied: wheel>=0.26 in /cvmfs/sft-nightlies.cern.ch/lcg/views/dev3python3/Tue/x86_64-centos7-gcc8-opt/lib/python3.7/site-packages (from tensorflow->lbn) (0.33.4)\n",
      "Collecting protobuf>=3.9.2 (from tensorflow->lbn)\n",
      "\u001b[?25l  Downloading https://files.pythonhosted.org/packages/71/dc/5ba56eab7440c62c5f808b4267e2a1d6c136e90293b43fefb1b493c6d704/protobuf-3.13.0-cp37-cp37m-manylinux1_x86_64.whl (1.3MB)\n",
      "\u001b[K     |████████████████████████████████| 1.3MB 19.9MB/s eta 0:00:01\n",
      "\u001b[?25hCollecting gast==0.3.3 (from tensorflow->lbn)\n",
      "  Downloading https://files.pythonhosted.org/packages/d6/84/759f5dd23fec8ba71952d97bcc7e2c9d7d63bdc582421f3cd4be845f0c98/gast-0.3.3-py2.py3-none-any.whl\n",
      "Requirement already satisfied: google-pasta>=0.1.8 in /cvmfs/sft-nightlies.cern.ch/lcg/views/dev3python3/Tue/x86_64-centos7-gcc8-opt/lib/python3.7/site-packages (from tensorflow->lbn) (0.2.0)\n",
      "Requirement already satisfied: six>=1.12.0 in /cvmfs/sft-nightlies.cern.ch/lcg/views/dev3python3/Tue/x86_64-centos7-gcc8-opt/lib/python3.7/site-packages (from tensorflow->lbn) (1.12.0)\n",
      "Requirement already satisfied: astunparse==1.6.3 in /cvmfs/sft-nightlies.cern.ch/lcg/views/dev3python3/Tue/x86_64-centos7-gcc8-opt/lib/python3.7/site-packages (from tensorflow->lbn) (1.6.3)\n",
      "Requirement already satisfied: wrapt>=1.11.1 in /cvmfs/sft-nightlies.cern.ch/lcg/views/dev3python3/Tue/x86_64-centos7-gcc8-opt/lib/python3.7/site-packages (from tensorflow->lbn) (1.11.1)\n",
      "Collecting h5py<2.11.0,>=2.10.0 (from tensorflow->lbn)\n",
      "\u001b[?25l  Downloading https://files.pythonhosted.org/packages/3f/c0/abde58b837e066bca19a3f7332d9d0493521d7dd6b48248451a9e3fe2214/h5py-2.10.0-cp37-cp37m-manylinux1_x86_64.whl (2.9MB)\n",
      "\u001b[K     |████████████████████████████████| 2.9MB 19.2MB/s eta 0:00:01\n",
      "\u001b[?25hCollecting keras-preprocessing<1.2,>=1.1.1 (from tensorflow->lbn)\n",
      "\u001b[?25l  Downloading https://files.pythonhosted.org/packages/79/4c/7c3275a01e12ef9368a892926ab932b33bb13d55794881e3573482b378a7/Keras_Preprocessing-1.1.2-py2.py3-none-any.whl (42kB)\n",
      "\u001b[K     |████████████████████████████████| 51kB 10.3MB/s eta 0:00:01\n",
      "\u001b[?25hRequirement already satisfied: tensorboard<3,>=2.3.0 in /cvmfs/sft-nightlies.cern.ch/lcg/views/dev3python3/Tue/x86_64-centos7-gcc8-opt/lib/python3.7/site-packages (from tensorflow->lbn) (2.3.0)\n",
      "Requirement already satisfied: absl-py>=0.7.0 in /cvmfs/sft-nightlies.cern.ch/lcg/views/dev3python3/Tue/x86_64-centos7-gcc8-opt/lib/python3.7/site-packages (from tensorflow->lbn) (0.7.1)\n",
      "Requirement already satisfied: opt-einsum>=2.3.2 in /cvmfs/sft-nightlies.cern.ch/lcg/views/dev3python3/Tue/x86_64-centos7-gcc8-opt/lib/python3.7/site-packages (from tensorflow->lbn) (3.2.0)\n",
      "Requirement already satisfied: grpcio>=1.8.6 in /cvmfs/sft-nightlies.cern.ch/lcg/views/dev3python3/Tue/x86_64-centos7-gcc8-opt/lib/python3.7/site-packages (from tensorflow->lbn) (1.28.1)\n",
      "Requirement already satisfied: termcolor>=1.1.0 in /cvmfs/sft-nightlies.cern.ch/lcg/views/dev3python3/Tue/x86_64-centos7-gcc8-opt/lib/python3.7/site-packages (from tensorflow->lbn) (1.1.0)\n",
      "Requirement already satisfied: tensorflow-estimator<2.4.0,>=2.3.0 in /cvmfs/sft-nightlies.cern.ch/lcg/views/dev3python3/Tue/x86_64-centos7-gcc8-opt/lib/python3.7/site-packages (from tensorflow->lbn) (2.3.0)\n",
      "Requirement already satisfied: setuptools in /cvmfs/sft-nightlies.cern.ch/lcg/views/dev3python3/Tue/x86_64-centos7-gcc8-opt/lib/python3.7/site-packages (from protobuf>=3.9.2->tensorflow->lbn) (44.1.0)\n",
      "Requirement already satisfied: requests<3,>=2.21.0 in /cvmfs/sft-nightlies.cern.ch/lcg/views/dev3python3/Tue/x86_64-centos7-gcc8-opt/lib/python3.7/site-packages (from tensorboard<3,>=2.3.0->tensorflow->lbn) (2.22.0)\n",
      "Requirement already satisfied: google-auth<2,>=1.6.3 in /cvmfs/sft-nightlies.cern.ch/lcg/views/dev3python3/Tue/x86_64-centos7-gcc8-opt/lib/python3.7/site-packages (from tensorboard<3,>=2.3.0->tensorflow->lbn) (1.6.3)\n",
      "Requirement already satisfied: markdown>=2.6.8 in /cvmfs/sft-nightlies.cern.ch/lcg/views/dev3python3/Tue/x86_64-centos7-gcc8-opt/lib/python3.7/site-packages (from tensorboard<3,>=2.3.0->tensorflow->lbn) (3.1.1)\n",
      "Collecting tensorboard-plugin-wit>=1.6.0 (from tensorboard<3,>=2.3.0->tensorflow->lbn)\n",
      "\u001b[?25l  Downloading https://files.pythonhosted.org/packages/b6/85/5c5ac0a8c5efdfab916e9c6bc18963f6a6996a8a1e19ec4ad8c9ac9c623c/tensorboard_plugin_wit-1.7.0-py3-none-any.whl (779kB)\n",
      "\u001b[K     |████████████████████████████████| 788kB 24.0MB/s eta 0:00:01\n",
      "\u001b[?25hRequirement already satisfied: google-auth-oauthlib<0.5,>=0.4.1 in /cvmfs/sft-nightlies.cern.ch/lcg/views/dev3python3/Tue/x86_64-centos7-gcc8-opt/lib/python3.7/site-packages (from tensorboard<3,>=2.3.0->tensorflow->lbn) (0.4.1)\n",
      "Requirement already satisfied: werkzeug>=0.11.15 in /cvmfs/sft-nightlies.cern.ch/lcg/views/dev3python3/Tue/x86_64-centos7-gcc8-opt/lib/python3.7/site-packages (from tensorboard<3,>=2.3.0->tensorflow->lbn) (0.15.4)\n",
      "Requirement already satisfied: chardet<3.1.0,>=3.0.2 in /cvmfs/sft-nightlies.cern.ch/lcg/views/dev3python3/Tue/x86_64-centos7-gcc8-opt/lib/python3.7/site-packages (from requests<3,>=2.21.0->tensorboard<3,>=2.3.0->tensorflow->lbn) (3.0.4)\n",
      "Requirement already satisfied: idna<2.9,>=2.5 in /cvmfs/sft-nightlies.cern.ch/lcg/views/dev3python3/Tue/x86_64-centos7-gcc8-opt/lib/python3.7/site-packages (from requests<3,>=2.21.0->tensorboard<3,>=2.3.0->tensorflow->lbn) (2.8)\n",
      "Requirement already satisfied: urllib3!=1.25.0,!=1.25.1,<1.26,>=1.21.1 in /cvmfs/sft-nightlies.cern.ch/lcg/views/dev3python3/Tue/x86_64-centos7-gcc8-opt/lib/python3.7/site-packages (from requests<3,>=2.21.0->tensorboard<3,>=2.3.0->tensorflow->lbn) (1.25.3)\n",
      "Requirement already satisfied: certifi>=2017.4.17 in /cvmfs/sft-nightlies.cern.ch/lcg/views/dev3python3/Tue/x86_64-centos7-gcc8-opt/lib/python3.7/site-packages (from requests<3,>=2.21.0->tensorboard<3,>=2.3.0->tensorflow->lbn) (2019.3.9)\n",
      "Requirement already satisfied: pyasn1-modules>=0.2.1 in /cvmfs/sft-nightlies.cern.ch/lcg/views/dev3python3/Tue/x86_64-centos7-gcc8-opt/lib/python3.7/site-packages (from google-auth<2,>=1.6.3->tensorboard<3,>=2.3.0->tensorflow->lbn) (0.2.5)\n",
      "Requirement already satisfied: rsa>=3.1.4 in /cvmfs/sft-nightlies.cern.ch/lcg/views/dev3python3/Tue/x86_64-centos7-gcc8-opt/lib/python3.7/site-packages (from google-auth<2,>=1.6.3->tensorboard<3,>=2.3.0->tensorflow->lbn) (4.0)\n",
      "Requirement already satisfied: cachetools>=2.0.0 in /cvmfs/sft-nightlies.cern.ch/lcg/views/dev3python3/Tue/x86_64-centos7-gcc8-opt/lib/python3.7/site-packages (from google-auth<2,>=1.6.3->tensorboard<3,>=2.3.0->tensorflow->lbn) (3.1.1)\n",
      "Requirement already satisfied: requests-oauthlib>=0.7.0 in /cvmfs/sft-nightlies.cern.ch/lcg/views/dev3python3/Tue/x86_64-centos7-gcc8-opt/lib/python3.7/site-packages (from google-auth-oauthlib<0.5,>=0.4.1->tensorboard<3,>=2.3.0->tensorflow->lbn) (1.2.0)\n",
      "Requirement already satisfied: pyasn1<0.5.0,>=0.4.1 in /cvmfs/sft-nightlies.cern.ch/lcg/views/dev3python3/Tue/x86_64-centos7-gcc8-opt/lib/python3.7/site-packages (from pyasn1-modules>=0.2.1->google-auth<2,>=1.6.3->tensorboard<3,>=2.3.0->tensorflow->lbn) (0.4.5)\n",
      "Requirement already satisfied: oauthlib>=3.0.0 in /cvmfs/sft-nightlies.cern.ch/lcg/views/dev3python3/Tue/x86_64-centos7-gcc8-opt/lib/python3.7/site-packages (from requests-oauthlib>=0.7.0->google-auth-oauthlib<0.5,>=0.4.1->tensorboard<3,>=2.3.0->tensorflow->lbn) (3.0.1)\n",
      "\u001b[31mERROR: tensorflow-cpu 2.3.0 has requirement scipy==1.4.1, but you'll have scipy 1.5.1 which is incompatible.\u001b[0m\n",
      "Installing collected packages: protobuf, gast, h5py, keras-preprocessing, tensorflow, tensorboard-plugin-wit\n",
      "^C\n"
     ]
    }
   ],
   "source": [
    "# start with some setup\n",
    "!pip install --user uproot\n",
    "!pip install --user lbn\n",
    "import sys\n",
    "sys.path.append(\"/eos/home-m/dwinterb/.local/lib/python2.7/site-packages\")"
   ]
  },
  {
   "cell_type": "code",
   "execution_count": 1,
   "metadata": {},
   "outputs": [],
   "source": [
    "import uproot \n",
    "import numpy as np\n",
    "import pandas as pd\n",
    "from sklearn.model_selection import train_test_split\n",
    "from sklearn.metrics import r2_score\n",
    "#import matplotlib as mpl\n",
    "#mpl.use('Agg')\n",
    "import matplotlib.pyplot as plt\n",
    "from sklearn.preprocessing import MinMaxScaler\n",
    "\n",
    "#from keras.models import Sequential\n",
    "#from keras.layers import Dense\n",
    "#from keras.callbacks import EarlyStopping\n",
    "#from keras.wrappers.scikit_learn import KerasRegressor\n",
    "#from keras.callbacks import History\n",
    "import tensorflow as tf\n",
    "\n",
    "from sklearn.model_selection import cross_val_score\n",
    "from sklearn.model_selection import KFold\n",
    "from sklearn.preprocessing import StandardScaler\n",
    "from sklearn.pipeline import Pipeline\n",
    "\n",
    "#from ROOT import TLorentzVector\n",
    "from lbn import LBN, LBNLayer\n",
    "from sklearn.metrics import mean_absolute_error"
   ]
  },
  {
   "cell_type": "code",
   "execution_count": 2,
   "metadata": {},
   "outputs": [],
   "source": [
    "# read data files\n",
    "tree_tt = uproot.open(\"/eos/user/k/kgalambo/SWAN_projects/Masters_CP_Kristof_2/MVAFILE_AllHiggs_tt.root\")[\"ntuple\"]\n",
    "tree_et = uproot.open(\"/eos/user/k/kgalambo/SWAN_projects/Masters_CP_Kristof_2/MVAFILE_AllHiggs_et.root\")[\"ntuple\"]\n",
    "tree_mt = uproot.open(\"/eos/user/k/kgalambo/SWAN_projects/Masters_CP_Kristof_2/MVAFILE_AllHiggs_mt.root\")[\"ntuple\"]"
   ]
  },
  {
   "cell_type": "code",
   "execution_count": 3,
   "metadata": {},
   "outputs": [],
   "source": [
    "variables = [\n",
    "    \"wt_cp_sm\", \"wt_cp_ps\", \"wt_cp_mm\", \"rand\",\n",
    "    \"aco_angle_1\", \n",
    "    \"mva_dm_1\", \"mva_dm_2\",\n",
    "    \"tau_decay_mode_1\", \"tau_decay_mode_2\",\n",
    "#     \"ip_x_1\", \"ip_y_1\", \"ip_z_1\", \"ip_x_2\", \"ip_y_2\", \"ip_z_2\", # ignore impact parameter for now\n",
    "    \"pi_E_1\", \"pi_px_1\", \"pi_py_1\", \"pi_pz_1\",\n",
    "    \"pi_E_2\", \"pi_px_2\", \"pi_py_2\", \"pi_pz_2\",\n",
    "    \"pi0_E_1\", \"pi0_px_1\", \"pi0_py_1\", \"pi0_pz_1\",\n",
    "    \"pi0_E_2\", \"pi0_px_2\", \"pi0_py_2\", \"pi0_pz_2\",\n",
    "    \"y_1_1\", \"y_1_2\"\n",
    "]"
   ]
  },
  {
   "cell_type": "code",
   "execution_count": 4,
   "metadata": {},
   "outputs": [],
   "source": [
    "# WARNING! This line takes a long time\n",
    "df = tree_tt.pandas.df(variables)"
   ]
  },
  {
   "cell_type": "code",
   "execution_count": 5,
   "metadata": {},
   "outputs": [],
   "source": [
    "df_1 = df[\n",
    "      (df[\"tau_decay_mode_1\"] == 1) \n",
    "    & (df[\"tau_decay_mode_2\"] == 1) \n",
    "    & (df[\"mva_dm_1\"] == 1) \n",
    "    & (df[\"mva_dm_2\"] == 1)\n",
    "    # comment some selections to help with stats\n",
    "    #& (df[\"deepTauVsJets_medium_1\"] > 0.5) \n",
    "    #& (df[\"deepTauVsEle_vvloose_1\"] > 0.5)\n",
    "    #& (df[\"deepTauVsMu_vloose_1\"] > 0.5)\n",
    "    #& (df[\"deepTauVsJets_medium_2\"] > 0.5) \n",
    "    #& (df[\"deepTauVsEle_vvloose_2\"] > 0.5)\n",
    "    #& (df[\"deepTauVsMu_vloose_2\"] > 0.5)\n",
    "    #& (df[\"trg_doubletau\"] > 0.5)\n",
    "]\n",
    "\n",
    "df_1 = df_1.drop([\"mva_dm_1\", \"mva_dm_2\", \"tau_decay_mode_1\", \"tau_decay_mode_2\"], axis=1).reset_index(drop=True)\n",
    "\n",
    "df_ps = df_1[\n",
    "      (df_1[\"rand\"]<df_1[\"wt_cp_ps\"]/2)\n",
    "]\n",
    "\n",
    "df_sm = df_1[\n",
    "      (df_1[\"rand\"]<df_1[\"wt_cp_sm\"]/2)\n",
    "]\n"
   ]
  },
  {
   "cell_type": "code",
   "execution_count": 6,
   "metadata": {},
   "outputs": [
    {
     "name": "stdout",
     "output_type": "stream",
     "text": [
      "Index(['pi_E_1', 'pi_px_1', 'pi_py_1', 'pi_pz_1', 'pi_E_2', 'pi_px_2',\n",
      "       'pi_py_2', 'pi_pz_2', 'pi0_E_1', 'pi0_px_1', 'pi0_py_1', 'pi0_pz_1',\n",
      "       'pi0_E_2', 'pi0_px_2', 'pi0_py_2', 'pi0_pz_2'],\n",
      "      dtype='object')\n",
      "        aco_angle_1\n",
      "2          3.750274\n",
      "7          3.907006\n",
      "8          1.669376\n",
      "10         6.073213\n",
      "11         2.413196\n",
      "12         2.236670\n",
      "14         2.338017\n",
      "15         3.311521\n",
      "17         2.149978\n",
      "19         4.783627\n",
      "21         6.259001\n",
      "22         2.589150\n",
      "25         3.902166\n",
      "26         5.165087\n",
      "29         3.400597\n",
      "30         5.836054\n",
      "32         5.927918\n",
      "33         1.592528\n",
      "34         3.521951\n",
      "38         3.202050\n",
      "40         4.379103\n",
      "46         0.673766\n",
      "48         5.085882\n",
      "50         2.812382\n",
      "51         0.138942\n",
      "54         0.424804\n",
      "56         1.931245\n",
      "58         3.689418\n",
      "59         4.868278\n",
      "60         2.112378\n",
      "...             ...\n",
      "653476     3.842937\n",
      "653477     0.256328\n",
      "653478     2.386752\n",
      "653482     0.599856\n",
      "653483     3.085475\n",
      "653484     0.735530\n",
      "653486     1.487030\n",
      "653487     3.665391\n",
      "653489     4.271865\n",
      "653493     3.330478\n",
      "653495     1.931189\n",
      "653498     0.086519\n",
      "653499     4.906675\n",
      "653500     5.394608\n",
      "653503     0.559484\n",
      "653504     1.275842\n",
      "653505     1.467779\n",
      "653508     5.777210\n",
      "653509     6.142116\n",
      "653511     5.447827\n",
      "653512     6.219738\n",
      "653513     5.884049\n",
      "653514     1.933530\n",
      "653517     2.155819\n",
      "653518     1.177476\n",
      "653519     4.872852\n",
      "653521     1.449764\n",
      "653523     0.277067\n",
      "653525     4.993271\n",
      "653526     2.631089\n",
      "\n",
      "[647058 rows x 1 columns]\n",
      "        class\n",
      "0         1.0\n",
      "1         1.0\n",
      "2         1.0\n",
      "3         1.0\n",
      "4         1.0\n",
      "5         1.0\n",
      "6         1.0\n",
      "7         1.0\n",
      "8         1.0\n",
      "9         1.0\n",
      "10        1.0\n",
      "11        1.0\n",
      "12        1.0\n",
      "13        1.0\n",
      "14        1.0\n",
      "15        1.0\n",
      "16        1.0\n",
      "17        1.0\n",
      "18        1.0\n",
      "19        1.0\n",
      "20        1.0\n",
      "21        1.0\n",
      "22        1.0\n",
      "23        1.0\n",
      "24        1.0\n",
      "25        1.0\n",
      "26        1.0\n",
      "27        1.0\n",
      "28        1.0\n",
      "29        1.0\n",
      "...       ...\n",
      "323739    0.0\n",
      "323740    0.0\n",
      "323741    0.0\n",
      "323742    0.0\n",
      "323743    0.0\n",
      "323744    0.0\n",
      "323745    0.0\n",
      "323746    0.0\n",
      "323747    0.0\n",
      "323748    0.0\n",
      "323749    0.0\n",
      "323750    0.0\n",
      "323751    0.0\n",
      "323752    0.0\n",
      "323753    0.0\n",
      "323754    0.0\n",
      "323755    0.0\n",
      "323756    0.0\n",
      "323757    0.0\n",
      "323758    0.0\n",
      "323759    0.0\n",
      "323760    0.0\n",
      "323761    0.0\n",
      "323762    0.0\n",
      "323763    0.0\n",
      "323764    0.0\n",
      "323765    0.0\n",
      "323766    0.0\n",
      "323767    0.0\n",
      "323768    0.0\n",
      "\n",
      "[647058 rows x 1 columns]\n"
     ]
    }
   ],
   "source": [
    "# create target labels (y)\n",
    "         \n",
    "# prepare the target labels - old version. In the old version, parity was y.\n",
    "parity_sm = pd.DataFrame(np.ones(df_sm.shape[0]))\n",
    "parity_ps = pd.DataFrame(np.zeros(df_ps.shape[0]))\n",
    "\n",
    "parity = pd.concat([parity_sm, parity_ps])\n",
    "parity.columns = [\"class\"]\n",
    "\n",
    "# prepare the target variables - new version. Aco_angle_1 is y.\n",
    "y_sm = df_sm[\"aco_angle_1\"]\n",
    "y_ps = df_ps[\"aco_angle_1\"]\n",
    "\n",
    "y = pd.DataFrame(pd.concat([y_sm, y_ps]))\n",
    "y.columns = [\"aco_angle_1\"]\n",
    "\n",
    "# prepare the dataframe to use in training\n",
    "X = pd.concat([df_sm, df_ps])\n",
    "\n",
    "# drop any other variables that aren't required in training\n",
    "#X = X.drop([\"wt_cp_sm\", \"wt_cp_ps\", \"wt_cp_mm\", \"rand\", \"aco_angle_1\"], axis=1).reset_index(drop=True)\n",
    "X = X.drop([\"wt_cp_sm\", \"wt_cp_ps\", \"wt_cp_mm\", \"rand\", \"aco_angle_1\", \"y_1_1\", \"y_1_2\"], axis=1).reset_index(drop=True)\n",
    "\n",
    "print(X.columns)\n",
    "print(y)\n",
    "print(parity)"
   ]
  },
  {
   "cell_type": "code",
   "execution_count": 7,
   "metadata": {},
   "outputs": [
    {
     "name": "stdout",
     "output_type": "stream",
     "text": [
      "MinMaxScaler(copy=True, feature_range=(0, 1))\n"
     ]
    }
   ],
   "source": [
    "X = X[:500]\n",
    "y = y[:500]\n",
    "\n",
    "# rescale variables so that they go between 0-1 \n",
    "\n",
    "scaler_x = MinMaxScaler()\n",
    "print(scaler_x.fit(X))\n",
    "xscale=scaler_x.transform(X)\n",
    "\n",
    "X = pd.DataFrame(xscale, columns=X.columns)"
   ]
  },
  {
   "cell_type": "code",
   "execution_count": 8,
   "metadata": {},
   "outputs": [],
   "source": [
    "# reshape features into two 4-vectors\n",
    "X = np.reshape(X.to_numpy(), (X.shape[0], 4, 4)) # must convert features input to numpy because it's difficult to reshape pandas dataframe\n",
    "y = y.to_numpy()\n",
    "\n",
    "# split X1, X2, and y into train and validation dataset \n",
    "\n",
    "X_train, X_test, y_train, y_test  = train_test_split(\n",
    "    X,\n",
    "    y,\n",
    "    test_size=0.2,\n",
    "    random_state=123456,\n",
    "    #stratify=y.values,\n",
    ")"
   ]
  },
  {
   "cell_type": "code",
   "execution_count": 9,
   "metadata": {},
   "outputs": [],
   "source": [
    "## simple dense NN\n",
    "#def baseline_model():\n",
    "#    # create model\n",
    "#    model = Sequential()\n",
    "#    model.add(Dense(len(X.columns), input_dim=len(X.columns), kernel_initializer='normal', activation='relu'))\n",
    "#    model.add(Dense((len(X.columns))*2, kernel_initializer='normal', activation='relu'))\n",
    "#    model.add(Dense(1))\n",
    "#    model.compile(optimizer='adam', loss='mean_squared_error')  \n",
    "#    return model"
   ]
  },
  {
   "cell_type": "code",
   "execution_count": 10,
   "metadata": {},
   "outputs": [],
   "source": [
    "def lbn_model():\n",
    "    input_shape = (4, 4)\n",
    "    LBN_output_features = [\"E\", \"px\", \"py\", \"pz\", \"m\", \"pair_dy\", \"pair_cos\"]\n",
    "    \n",
    "    model = tf.keras.models.Sequential()\n",
    "    model.add(LBNLayer(input_shape, 11, boost_mode=LBN.PAIRS, features=LBN_output_features))\n",
    "    model.add(tf.keras.layers.Dense(100, activation='relu'))\n",
    "    model.add(tf.keras.layers.Dense(1))\n",
    "    model.compile(optimizer='adam', loss='mean_squared_error')  \n",
    "    return model"
   ]
  },
  {
   "cell_type": "code",
   "execution_count": 11,
   "metadata": {},
   "outputs": [],
   "source": [
    "## define early stopping\n",
    "#early_stop = EarlyStopping(monitor='val_loss', patience=10)"
   ]
  },
  {
   "cell_type": "code",
   "execution_count": 12,
   "metadata": {},
   "outputs": [
    {
     "name": "stdout",
     "output_type": "stream",
     "text": [
      "<class 'numpy.ndarray'>\n"
     ]
    }
   ],
   "source": [
    "print(type(y_train))"
   ]
  },
  {
   "cell_type": "code",
   "execution_count": 13,
   "metadata": {},
   "outputs": [
    {
     "name": "stdout",
     "output_type": "stream",
     "text": [
      "<class 'numpy.ndarray'>\n"
     ]
    }
   ],
   "source": [
    "print(type(X_train))"
   ]
  },
  {
   "cell_type": "code",
   "execution_count": 14,
   "metadata": {},
   "outputs": [],
   "source": [
    "## convert to tensors because it seems that lbn only accepts tensor data\n",
    "#X_train = tf.convert_to_tensor(X_train, dtype=np.float32)\n",
    "#X_test = tf.convert_to_tensor(X_test, dtype=np.float32)\n",
    "#y_train = tf.convert_to_tensor(y_train.to_numpy(), dtype=np.float32)\n",
    "#y_test = tf.convert_to_tensor(y_test.to_numpy(), dtype=np.float32)"
   ]
  },
  {
   "cell_type": "code",
   "execution_count": 15,
   "metadata": {},
   "outputs": [
    {
     "name": "stdout",
     "output_type": "stream",
     "text": [
      "[[[0.14808905 0.57503562 0.44906817 0.67641783]\n",
      "  [0.27194527 0.58009457 0.80352229 0.5651052 ]\n",
      "  [0.03655157 0.71671912 0.4198845  0.35307368]\n",
      "  [0.17630758 0.62449349 0.70466225 0.69312515]]\n",
      "\n",
      " [[0.01037787 0.41667909 0.54033478 0.64135331]\n",
      "  [0.23366325 0.27826871 0.81665338 0.44721695]\n",
      "  [0.23675935 0.55296871 0.25584273 0.45459466]\n",
      "  [0.09150144 0.50162255 0.67282631 0.60013973]]\n",
      "\n",
      " [[0.21925837 0.52115477 0.62676128 0.79048603]\n",
      "  [0.08150699 0.48058084 0.59690602 0.46223248]\n",
      "  [0.06223174 0.70124934 0.47180372 0.38589141]\n",
      "  [0.23251274 0.47460656 0.42284765 0.70609993]]\n",
      "\n",
      " ...\n",
      "\n",
      " [[0.14497965 0.47182459 0.41892887 0.55674168]\n",
      "  [0.00794246 0.53451038 0.65685302 0.41864487]\n",
      "  [0.03487311 0.68696023 0.41396587 0.32234551]\n",
      "  [0.42804847 0.74709257 0.89520608 0.36780802]]\n",
      "\n",
      " [[0.08806291 0.52133621 0.58312533 0.59863071]\n",
      "  [0.09055752 0.42863648 0.58056538 0.42132811]\n",
      "  [0.04352742 0.72864312 0.46640006 0.32473308]\n",
      "  [0.11471707 0.47767214 0.48217191 0.58210851]]\n",
      "\n",
      " [[0.19897124 0.42139447 0.39623852 0.50836822]\n",
      "  [0.17313163 0.63785334 0.7770175  0.35848674]\n",
      "  [0.01537566 0.67089478 0.43238206 0.32963328]\n",
      "  [0.08700997 0.64714807 0.66923351 0.54842435]]]\n"
     ]
    }
   ],
   "source": [
    "print(X_train)"
   ]
  },
  {
   "cell_type": "code",
   "execution_count": 16,
   "metadata": {},
   "outputs": [
    {
     "name": "stderr",
     "output_type": "stream",
     "text": [
      "WARNING: Logging before flag parsing goes to stderr.\n",
      "W1020 17:38:44.758750 140334266496832 ag_logging.py:146] AutoGraph could not transform <bound method LBNLayer.call of <lbn.LBNLayer object at 0x7f9dd2d1ff10>> and will run it as-is.\n",
      "Please report this to the TensorFlow team. When filing the bug, set the verbosity to 10 (on Linux, `export AUTOGRAPH_VERBOSITY=10`) and attach the full output.\n",
      "Cause: 'arguments' object has no attribute 'posonlyargs'\n",
      "To silence this warning, decorate the function with @tf.autograph.experimental.do_not_convert\n"
     ]
    },
    {
     "name": "stdout",
     "output_type": "stream",
     "text": [
      "WARNING: AutoGraph could not transform <bound method LBNLayer.call of <lbn.LBNLayer object at 0x7f9dd2d1ff10>> and will run it as-is.\n",
      "Please report this to the TensorFlow team. When filing the bug, set the verbosity to 10 (on Linux, `export AUTOGRAPH_VERBOSITY=10`) and attach the full output.\n",
      "Cause: 'arguments' object has no attribute 'posonlyargs'\n",
      "To silence this warning, decorate the function with @tf.autograph.experimental.do_not_convert\n"
     ]
    },
    {
     "name": "stderr",
     "output_type": "stream",
     "text": [
      "W1020 17:38:45.068043 140334266496832 ag_logging.py:146] AutoGraph could not transform <function Model.make_train_function.<locals>.train_function at 0x7f9e1331a710> and will run it as-is.\n",
      "Please report this to the TensorFlow team. When filing the bug, set the verbosity to 10 (on Linux, `export AUTOGRAPH_VERBOSITY=10`) and attach the full output.\n",
      "Cause: 'arguments' object has no attribute 'posonlyargs'\n",
      "To silence this warning, decorate the function with @tf.autograph.experimental.do_not_convert\n"
     ]
    },
    {
     "name": "stdout",
     "output_type": "stream",
     "text": [
      "Epoch 1/50\n",
      "WARNING: AutoGraph could not transform <function Model.make_train_function.<locals>.train_function at 0x7f9e1331a710> and will run it as-is.\n",
      "Please report this to the TensorFlow team. When filing the bug, set the verbosity to 10 (on Linux, `export AUTOGRAPH_VERBOSITY=10`) and attach the full output.\n",
      "Cause: 'arguments' object has no attribute 'posonlyargs'\n",
      "To silence this warning, decorate the function with @tf.autograph.experimental.do_not_convert\n",
      "50/50 [==============================] - 0s 4ms/step - loss: 4.5773\n",
      "Epoch 2/50\n",
      "50/50 [==============================] - 0s 4ms/step - loss: 4.0174\n",
      "Epoch 3/50\n",
      "50/50 [==============================] - 0s 4ms/step - loss: 3.8976\n",
      "Epoch 4/50\n",
      "50/50 [==============================] - 0s 4ms/step - loss: 4.3226\n",
      "Epoch 5/50\n",
      "50/50 [==============================] - 0s 4ms/step - loss: 3.7213\n",
      "Epoch 6/50\n",
      "50/50 [==============================] - 0s 3ms/step - loss: 3.4217\n",
      "Epoch 7/50\n",
      "50/50 [==============================] - 0s 4ms/step - loss: 3.8384\n",
      "Epoch 8/50\n",
      "50/50 [==============================] - 0s 4ms/step - loss: 3.2784\n",
      "Epoch 9/50\n",
      "50/50 [==============================] - 0s 4ms/step - loss: 3.2606\n",
      "Epoch 10/50\n",
      "50/50 [==============================] - 0s 4ms/step - loss: 3.0867\n",
      "Epoch 11/50\n",
      "50/50 [==============================] - 0s 4ms/step - loss: 3.0816\n",
      "Epoch 12/50\n",
      "50/50 [==============================] - 0s 3ms/step - loss: 3.2117\n",
      "Epoch 13/50\n",
      "50/50 [==============================] - 0s 4ms/step - loss: 3.5769\n",
      "Epoch 14/50\n",
      "50/50 [==============================] - 0s 4ms/step - loss: 3.4730\n",
      "Epoch 15/50\n",
      "50/50 [==============================] - 0s 4ms/step - loss: 3.4160\n",
      "Epoch 16/50\n",
      "50/50 [==============================] - 0s 3ms/step - loss: 3.1271\n",
      "Epoch 17/50\n",
      "50/50 [==============================] - 0s 4ms/step - loss: 3.0360\n",
      "Epoch 18/50\n",
      "50/50 [==============================] - 0s 4ms/step - loss: 3.3090\n",
      "Epoch 19/50\n",
      "50/50 [==============================] - 0s 4ms/step - loss: 3.4725\n",
      "Epoch 20/50\n",
      "50/50 [==============================] - 0s 4ms/step - loss: 3.0379\n",
      "Epoch 21/50\n",
      "50/50 [==============================] - 0s 4ms/step - loss: 3.0762\n",
      "Epoch 22/50\n",
      "50/50 [==============================] - 0s 4ms/step - loss: 3.2574\n",
      "Epoch 23/50\n",
      "50/50 [==============================] - 0s 4ms/step - loss: 3.4123\n",
      "Epoch 24/50\n",
      "50/50 [==============================] - 0s 4ms/step - loss: 3.1587\n",
      "Epoch 25/50\n",
      "50/50 [==============================] - 0s 4ms/step - loss: 3.0621\n",
      "Epoch 26/50\n",
      "50/50 [==============================] - 0s 3ms/step - loss: 3.3557\n",
      "Epoch 27/50\n",
      "50/50 [==============================] - 0s 4ms/step - loss: 2.9684\n",
      "Epoch 28/50\n",
      "50/50 [==============================] - 0s 4ms/step - loss: 3.0697\n",
      "Epoch 29/50\n",
      "50/50 [==============================] - 0s 4ms/step - loss: 3.0608\n",
      "Epoch 30/50\n",
      "50/50 [==============================] - 0s 4ms/step - loss: 3.2654\n",
      "Epoch 31/50\n",
      "50/50 [==============================] - 0s 4ms/step - loss: 3.2154\n",
      "Epoch 32/50\n",
      "50/50 [==============================] - 0s 3ms/step - loss: 3.0491\n",
      "Epoch 33/50\n",
      "50/50 [==============================] - 0s 3ms/step - loss: 3.1976\n",
      "Epoch 34/50\n",
      "50/50 [==============================] - 0s 4ms/step - loss: 3.0667\n",
      "Epoch 35/50\n",
      "50/50 [==============================] - 0s 4ms/step - loss: 3.0668\n",
      "Epoch 36/50\n",
      "50/50 [==============================] - 0s 4ms/step - loss: 2.9926\n",
      "Epoch 37/50\n",
      "50/50 [==============================] - 0s 4ms/step - loss: 3.0149\n",
      "Epoch 38/50\n",
      "50/50 [==============================] - 0s 4ms/step - loss: 3.2618\n",
      "Epoch 39/50\n",
      "50/50 [==============================] - 0s 4ms/step - loss: 3.1563\n",
      "Epoch 40/50\n",
      "50/50 [==============================] - 0s 3ms/step - loss: 3.1117\n",
      "Epoch 41/50\n",
      "50/50 [==============================] - 0s 3ms/step - loss: 3.1674\n",
      "Epoch 42/50\n",
      "50/50 [==============================] - 0s 3ms/step - loss: 2.9957\n",
      "Epoch 43/50\n",
      "50/50 [==============================] - 0s 4ms/step - loss: 3.1388\n",
      "Epoch 44/50\n",
      "50/50 [==============================] - 0s 4ms/step - loss: 3.1235\n",
      "Epoch 45/50\n",
      "50/50 [==============================] - 0s 4ms/step - loss: 3.0699\n",
      "Epoch 46/50\n",
      "50/50 [==============================] - 0s 4ms/step - loss: 3.0785\n",
      "Epoch 47/50\n",
      "50/50 [==============================] - 0s 4ms/step - loss: 3.0480\n",
      "Epoch 48/50\n",
      "50/50 [==============================] - 0s 4ms/step - loss: 3.0030\n",
      "Epoch 49/50\n",
      "50/50 [==============================] - 0s 4ms/step - loss: 3.0939\n",
      "Epoch 50/50\n",
      "50/50 [==============================] - 0s 4ms/step - loss: 3.0046\n"
     ]
    }
   ],
   "source": [
    "# first run the training for simple case with just 1 variable\n",
    "history = tf.keras.callbacks.History()\n",
    "\n",
    "#model = baseline_model()\n",
    "model = lbn_model()\n",
    "\n",
    "#model.fit(X_train, y_train, batch_size=10000, epochs=100, \\\n",
    "#          callbacks=[history], validation_data=(X_test, y_test), steps_per_epoch=50)\n",
    "\n",
    "#X_train = X_train[:500]\n",
    "#y_train = y_train[:500]\n",
    "\n",
    "history = model.fit(X_train, y_train, epochs=50, steps_per_epoch=50)"
   ]
  },
  {
   "cell_type": "code",
   "execution_count": 17,
   "metadata": {},
   "outputs": [
    {
     "data": {
      "image/png": "[encoded data removed]",
      "text/plain": [
       "<Figure size 432x288 with 1 Axes>"
      ]
     },
     "metadata": {
      "needs_background": "light"
     },
     "output_type": "display_data"
    }
   ],
   "source": [
    "# Extract number of run epochs from the training history\n",
    "epochs = range(1, len(history.history[\"loss\"])+1)\n",
    "\n",
    "# Extract loss on training and validation ddataset and plot them together\n",
    "plt.plot(epochs, history.history[\"loss\"], \"o-\", label=\"Training\")\n",
    "#plt.plot(epochs, history.history[\"val_loss\"], \"o-\", label=\"Test\")\n",
    "plt.xlabel(\"Epochs\"), plt.ylabel(\"Loss\")\n",
    "plt.yscale(\"log\")\n",
    "plt.legend();\n",
    "\n",
    "# differencwes between the loss for training vs test implies overtraining"
   ]
  },
  {
   "cell_type": "code",
   "execution_count": 18,
   "metadata": {},
   "outputs": [
    {
     "name": "stderr",
     "output_type": "stream",
     "text": [
      "W1020 17:38:57.551386 140334266496832 ag_logging.py:146] AutoGraph could not transform <function Model.make_predict_function.<locals>.predict_function at 0x7f9df29cc440> and will run it as-is.\n",
      "Please report this to the TensorFlow team. When filing the bug, set the verbosity to 10 (on Linux, `export AUTOGRAPH_VERBOSITY=10`) and attach the full output.\n",
      "Cause: 'arguments' object has no attribute 'posonlyargs'\n",
      "To silence this warning, decorate the function with @tf.autograph.experimental.do_not_convert\n"
     ]
    },
    {
     "name": "stdout",
     "output_type": "stream",
     "text": [
      "WARNING: AutoGraph could not transform <function Model.make_predict_function.<locals>.predict_function at 0x7f9df29cc440> and will run it as-is.\n",
      "Please report this to the TensorFlow team. When filing the bug, set the verbosity to 10 (on Linux, `export AUTOGRAPH_VERBOSITY=10`) and attach the full output.\n",
      "Cause: 'arguments' object has no attribute 'posonlyargs'\n",
      "To silence this warning, decorate the function with @tf.autograph.experimental.do_not_convert\n"
     ]
    }
   ],
   "source": [
    "y_pred = model.predict(X_test).flatten()"
   ]
  },
  {
   "cell_type": "code",
   "execution_count": 19,
   "metadata": {},
   "outputs": [],
   "source": [
    "try:\n",
    "    y_test = y_test.to_numpy().flatten()\n",
    "except:\n",
    "    y_test = y_test.flatten()"
   ]
  },
  {
   "cell_type": "code",
   "execution_count": 20,
   "metadata": {},
   "outputs": [
    {
     "name": "stdout",
     "output_type": "stream",
     "text": [
      "\n",
      "The RMSE is: 1.6744633058786516\n",
      "The R^2 score is: 0.006303036209693524\n"
     ]
    }
   ],
   "source": [
    "rmse = (np.mean((y_test-y_pred)**2))**0.5\n",
    "print()\n",
    "print('The RMSE is:', rmse)\n",
    "r2 = r2_score(y_test, y_pred)\n",
    "print('The R^2 score is:', r2)"
   ]
  },
  {
   "cell_type": "code",
   "execution_count": 21,
   "metadata": {},
   "outputs": [
    {
     "name": "stdout",
     "output_type": "stream",
     "text": [
      "0.45281306542248095\n"
     ]
    }
   ],
   "source": [
    "mae = mean_absolute_error(y_test, y_pred)\n",
    "print(mae/np.pi)"
   ]
  },
  {
   "cell_type": "code",
   "execution_count": null,
   "metadata": {},
   "outputs": [],
   "source": [
    "# should have the results in two lists called sm_aco and ps_aco"
   ]
  },
  {
   "cell_type": "code",
   "execution_count": 12,
   "metadata": {},
   "outputs": [],
   "source": [
    "# define function to plot 'signal' vs 'background' for a specified variables\n",
    "# useful to check whether a variable gives some separation between\n",
    "# signal and background states\n",
    "def plot_signal_background(data1, data2, column,\n",
    "                        bins=100, x_uplim=0, **kwargs):\n",
    "\n",
    "    if \"alpha\" not in kwargs:\n",
    "        kwargs[\"alpha\"] = 0.5\n",
    "\n",
    "    df1 = data1[column]\n",
    "    df2 = data2[column]\n",
    "\n",
    "    fig, ax = plt.subplots()\n",
    "    df1 = df1.sample(3000, random_state=1234)\n",
    "    df2 = df2.sample(3000, random_state=1234)\n",
    "    low = max(min(df1.min(), df2.min()),-5)\n",
    "    high = max(df1.max(), df2.max())\n",
    "    if x_uplim != 0: high = x_uplim\n",
    "\n",
    "    ax.hist(df1, bins=bins, range=(low,high), **kwargs)\n",
    "    ax.hist(df2, bins=bins, range=(low,high), **kwargs)\n",
    "    if column == \"aco_angle_1\":\n",
    "        plt.title('given aco_angle_1 (true values)')\n",
    "    else:\n",
    "        plt.title(column)\n",
    "    \n",
    "    if x_uplim != 0:\n",
    "        ax.set_xlim(0,x_uplim)\n",
    "\n",
    "    # ax.set_yscale('log')\n"
   ]
  },
  {
   "cell_type": "code",
   "execution_count": 14,
   "metadata": {},
   "outputs": [
    {
     "data": {
      "image/png": "[encoded data removed]",
      "text/plain": [
       "<Figure size 432x288 with 1 Axes>"
      ]
     },
     "metadata": {
      "needs_background": "light"
     },
     "output_type": "display_data"
    }
   ],
   "source": [
    "# plot my calculated aco_angle_1 values\n",
    "sm_aco_df = pd.DataFrame(sm_aco, columns=['aco_angle_1 calculated from low-level data'])\n",
    "ps_aco_df = pd.DataFrame(ps_aco, columns=['aco_angle_1 calculated from low-level data'])\n",
    "plot_signal_background(sm_aco_df, ps_aco_df, 'aco_angle_1 calculated from low-level data', bins=100)"
   ]
  },
  {
   "cell_type": "code",
   "execution_count": 15,
   "metadata": {},
   "outputs": [
    {
     "data": {
      "image/png": "[encoded data removed]",
      "text/plain": [
       "<Figure size 432x288 with 1 Axes>"
      ]
     },
     "metadata": {
      "needs_background": "light"
     },
     "output_type": "display_data"
    }
   ],
   "source": [
    "# plot the given aco_angle_1 values\n",
    "plot_signal_background(df_sm, df_ps, 'aco_angle_1', bins=100)"
   ]
  },
  {
   "cell_type": "code",
   "execution_count": null,
   "metadata": {},
   "outputs": [],
   "source": []
  }
 ],
 "metadata": {
  "kernelspec": {
   "display_name": "Python 3",
   "language": "python",
   "name": "python3"
  },
  "language_info": {
   "codemirror_mode": {
    "name": "ipython",
    "version": 3
   },
   "file_extension": ".py",
   "mimetype": "text/x-python",
   "name": "python",
   "nbconvert_exporter": "python",
   "pygments_lexer": "ipython3",
   "version": "3.7.6"
  }
 },
 "nbformat": 4,
 "nbformat_minor": 4
}
